{
 "cells": [
  {
   "cell_type": "markdown",
   "id": "8687e9ad",
   "metadata": {},
   "source": [
    "### Question 9\n",
    "\n",
    ">What is the projected number of EV sales (including 2-wheelers and 4- wheelers) for the top 10 states by penetration rate in 2030, based on the compounded annual growth rate (CAGR) from previous years? "
   ]
  },
  {
   "cell_type": "markdown",
   "id": "73259b0f",
   "metadata": {},
   "source": [
    "## **Step 1: Understand the formula**\n",
    "\n",
    "**CAGR formula:**\n",
    "\n",
    "$$\n",
    "\\text{CAGR} = \\left(\\frac{\\text{Ending Value}}{\\text{Beginning Value}}\\right)^{\\frac{1}{n}} - 1\n",
    "$$\n",
    "\n",
    "* **n** = number of years between start and end\n",
    "* **Ending Value** = last year’s sales\n",
    "* **Beginning Value** = first year’s sales\n",
    "\n",
    "**Project future sales:**\n",
    "\n",
    "$$\n",
    "\\text{Projected Sales} = \\text{Current Sales} \\times (1 + \\text{CAGR})^{\\text{years to project}}\n",
    "$$\n",
    "\n",
    "---\n",
    "\n",
    "#### **Step 2: Load your data**\n",
    "\n",
    "#### **Step 3: Identify top 10 states by penetration rate**\n",
    "\n",
    "#### **Step 4: Calculate CAGR for each state**\n",
    "\n",
    "#### **Step 5: Project sales for 2030**\n",
    "\n",
    "#### **Step 6: Visualize the projection**\n",
    "\n",
    "✅ **Result:**\n",
    "\n",
    "* You get a **table and bar chart** of projected EV sales in 2030 for the **top 10 states**.\n",
    "* This approach is easy for **non-technical stakeholders** to understand visually."
   ]
  },
  {
   "cell_type": "code",
   "execution_count": 1,
   "id": "247ce0d8",
   "metadata": {},
   "outputs": [],
   "source": [
    "# importing necessary libraries\n",
    "import pandas as pd\n",
    "import numpy as np\n",
    "import matplotlib.pyplot as plt\n",
    "import seaborn as sns\n",
    "import plotly as pt\n",
    "import plotly.express as ex\n",
    "\n",
    "from IPython.display import display"
   ]
  },
  {
   "cell_type": "code",
   "execution_count": 2,
   "id": "86acc2e4",
   "metadata": {},
   "outputs": [
    {
     "data": {
      "text/html": [
       "<div>\n",
       "<style scoped>\n",
       "    .dataframe tbody tr th:only-of-type {\n",
       "        vertical-align: middle;\n",
       "    }\n",
       "\n",
       "    .dataframe tbody tr th {\n",
       "        vertical-align: top;\n",
       "    }\n",
       "\n",
       "    .dataframe thead th {\n",
       "        text-align: right;\n",
       "    }\n",
       "</style>\n",
       "<table border=\"1\" class=\"dataframe\">\n",
       "  <thead>\n",
       "    <tr style=\"text-align: right;\">\n",
       "      <th></th>\n",
       "      <th>date</th>\n",
       "      <th>state</th>\n",
       "      <th>vehicle_category</th>\n",
       "      <th>electric_vehicles_sold</th>\n",
       "      <th>total_vehicles_sold</th>\n",
       "    </tr>\n",
       "  </thead>\n",
       "  <tbody>\n",
       "    <tr>\n",
       "      <th>0</th>\n",
       "      <td>01-Apr-21</td>\n",
       "      <td>Sikkim</td>\n",
       "      <td>2-Wheelers</td>\n",
       "      <td>0</td>\n",
       "      <td>398</td>\n",
       "    </tr>\n",
       "    <tr>\n",
       "      <th>1</th>\n",
       "      <td>01-Apr-21</td>\n",
       "      <td>Sikkim</td>\n",
       "      <td>4-Wheelers</td>\n",
       "      <td>0</td>\n",
       "      <td>361</td>\n",
       "    </tr>\n",
       "    <tr>\n",
       "      <th>2</th>\n",
       "      <td>01-May-21</td>\n",
       "      <td>Sikkim</td>\n",
       "      <td>2-Wheelers</td>\n",
       "      <td>0</td>\n",
       "      <td>113</td>\n",
       "    </tr>\n",
       "    <tr>\n",
       "      <th>3</th>\n",
       "      <td>01-May-21</td>\n",
       "      <td>Sikkim</td>\n",
       "      <td>4-Wheelers</td>\n",
       "      <td>0</td>\n",
       "      <td>98</td>\n",
       "    </tr>\n",
       "    <tr>\n",
       "      <th>4</th>\n",
       "      <td>01-Jun-21</td>\n",
       "      <td>Sikkim</td>\n",
       "      <td>2-Wheelers</td>\n",
       "      <td>0</td>\n",
       "      <td>229</td>\n",
       "    </tr>\n",
       "    <tr>\n",
       "      <th>5</th>\n",
       "      <td>01-Jun-21</td>\n",
       "      <td>Sikkim</td>\n",
       "      <td>4-Wheelers</td>\n",
       "      <td>0</td>\n",
       "      <td>244</td>\n",
       "    </tr>\n",
       "    <tr>\n",
       "      <th>6</th>\n",
       "      <td>01-Jul-21</td>\n",
       "      <td>Sikkim</td>\n",
       "      <td>2-Wheelers</td>\n",
       "      <td>0</td>\n",
       "      <td>458</td>\n",
       "    </tr>\n",
       "    <tr>\n",
       "      <th>7</th>\n",
       "      <td>01-Jul-21</td>\n",
       "      <td>Sikkim</td>\n",
       "      <td>4-Wheelers</td>\n",
       "      <td>0</td>\n",
       "      <td>452</td>\n",
       "    </tr>\n",
       "    <tr>\n",
       "      <th>8</th>\n",
       "      <td>01-Aug-21</td>\n",
       "      <td>Sikkim</td>\n",
       "      <td>2-Wheelers</td>\n",
       "      <td>0</td>\n",
       "      <td>489</td>\n",
       "    </tr>\n",
       "    <tr>\n",
       "      <th>9</th>\n",
       "      <td>01-Aug-21</td>\n",
       "      <td>Sikkim</td>\n",
       "      <td>4-Wheelers</td>\n",
       "      <td>0</td>\n",
       "      <td>408</td>\n",
       "    </tr>\n",
       "  </tbody>\n",
       "</table>\n",
       "</div>"
      ],
      "text/plain": [
       "        date   state vehicle_category  electric_vehicles_sold  \\\n",
       "0  01-Apr-21  Sikkim       2-Wheelers                       0   \n",
       "1  01-Apr-21  Sikkim       4-Wheelers                       0   \n",
       "2  01-May-21  Sikkim       2-Wheelers                       0   \n",
       "3  01-May-21  Sikkim       4-Wheelers                       0   \n",
       "4  01-Jun-21  Sikkim       2-Wheelers                       0   \n",
       "5  01-Jun-21  Sikkim       4-Wheelers                       0   \n",
       "6  01-Jul-21  Sikkim       2-Wheelers                       0   \n",
       "7  01-Jul-21  Sikkim       4-Wheelers                       0   \n",
       "8  01-Aug-21  Sikkim       2-Wheelers                       0   \n",
       "9  01-Aug-21  Sikkim       4-Wheelers                       0   \n",
       "\n",
       "   total_vehicles_sold  \n",
       "0                  398  \n",
       "1                  361  \n",
       "2                  113  \n",
       "3                   98  \n",
       "4                  229  \n",
       "5                  244  \n",
       "6                  458  \n",
       "7                  452  \n",
       "8                  489  \n",
       "9                  408  "
      ]
     },
     "metadata": {},
     "output_type": "display_data"
    },
    {
     "data": {
      "text/plain": [
       "Index(['date', 'state', 'vehicle_category', 'electric_vehicles_sold',\n",
       "       'total_vehicles_sold'],\n",
       "      dtype='object')"
      ]
     },
     "metadata": {},
     "output_type": "display_data"
    }
   ],
   "source": [
    "# Loading csv data\n",
    "monthly_ev_sales = pd.read_csv(\"../../data/processed/electric_vehicle_sales_by_state.csv\")\n",
    "dim_date = pd.read_csv('../../data/raw/dim_date.csv')\n",
    "\n",
    "display(monthly_ev_sales.head(10))\n",
    "display(monthly_ev_sales.columns)"
   ]
  },
  {
   "cell_type": "code",
   "execution_count": 3,
   "id": "505e49d6",
   "metadata": {},
   "outputs": [],
   "source": [
    "monthly_ev_sales = pd.merge(dim_date, monthly_ev_sales, on='date', how='inner')"
   ]
  },
  {
   "cell_type": "code",
   "execution_count": 4,
   "id": "7754eb78",
   "metadata": {},
   "outputs": [
    {
     "name": "stdout",
     "output_type": "stream",
     "text": [
      "Number of discrepancies: 1972\n",
      "Sample discrepancies:\n",
      "                         state vehicle_category  electric_vehicles_sold  \\\n",
      "20                  DNH and DD       2-Wheelers                       1   \n",
      "21            Himachal Pradesh       4-Wheelers                       1   \n",
      "22                   Meghalaya       4-Wheelers                       1   \n",
      "23    Andaman & Nicobar Island       4-Wheelers                       9   \n",
      "24              Andhra Pradesh       4-Wheelers                      26   \n",
      "...                        ...              ...                     ...   \n",
      "2440                   Mizoram       2-Wheelers                      58   \n",
      "2441                DNH and DD       2-Wheelers                      25   \n",
      "2442                   Manipur       2-Wheelers                      13   \n",
      "2443  Andaman & Nicobar Island       2-Wheelers                       2   \n",
      "2444                  Nagaland       2-Wheelers                       2   \n",
      "\n",
      "      total_vehicles_sold  ev_penetration_rate  calculated_penetration_rate  \\\n",
      "20                    657             0.152207                     0.001522   \n",
      "21                   3544             0.028217                     0.000282   \n",
      "22                    930             0.107527                     0.001075   \n",
      "23                    168             5.357143                     0.053571   \n",
      "24                   7837             0.331760                     0.003318   \n",
      "...                   ...                  ...                          ...   \n",
      "2440                 1932             3.002070                     0.030021   \n",
      "2441                  780             3.205128                     0.032051   \n",
      "2442                 1394             0.932568                     0.009326   \n",
      "2443                  447             0.447427                     0.004474   \n",
      "2444                 1180             0.169492                     0.001695   \n",
      "\n",
      "      penetration_diff  \n",
      "20            0.150685  \n",
      "21            0.027935  \n",
      "22            0.106452  \n",
      "23            5.303571  \n",
      "24            0.328442  \n",
      "...                ...  \n",
      "2440          2.972050  \n",
      "2441          3.173077  \n",
      "2442          0.923242  \n",
      "2443          0.442953  \n",
      "2444          0.167797  \n",
      "\n",
      "[1972 rows x 7 columns]\n"
     ]
    }
   ],
   "source": [
    "# Calculate EV penetration rate\n",
    "monthly_ev_sales[\"ev_penetration_rate\"] = (\n",
    "    monthly_ev_sales[\"electric_vehicles_sold\"] / monthly_ev_sales[\"total_vehicles_sold\"]\n",
    ") * 100\n",
    "\n",
    "# Step 1: Calculate penetration rate manually\n",
    "monthly_ev_sales[\"calculated_penetration_rate\"] = (\n",
    "    monthly_ev_sales[\"electric_vehicles_sold\"] / monthly_ev_sales[\"total_vehicles_sold\"]\n",
    ")\n",
    "\n",
    "# Step 2: Compare with existing 'ev_penetration_rate'\n",
    "# Create a new column showing difference\n",
    "monthly_ev_sales[\"penetration_diff\"] = (\n",
    "    monthly_ev_sales[\"ev_penetration_rate\"]\n",
    "    - monthly_ev_sales[\"calculated_penetration_rate\"]\n",
    ")\n",
    "\n",
    "# Step 3: Check for discrepancies (if any difference is significant, e.g., > 1e-6)\n",
    "discrepancies = monthly_ev_sales[np.abs(monthly_ev_sales[\"penetration_diff\"]) > 1e-6]\n",
    "\n",
    "print(\"Number of discrepancies:\", discrepancies.shape[0])\n",
    "print(\"Sample discrepancies:\")\n",
    "print(\n",
    "    discrepancies[\n",
    "        [\n",
    "            \"state\",\n",
    "            \"vehicle_category\",\n",
    "            \"electric_vehicles_sold\",\n",
    "            \"total_vehicles_sold\",\n",
    "            \"ev_penetration_rate\",\n",
    "            \"calculated_penetration_rate\",\n",
    "            \"penetration_diff\",\n",
    "        ]\n",
    "    ]\n",
    ")"
   ]
  },
  {
   "cell_type": "code",
   "execution_count": 5,
   "id": "272a9165",
   "metadata": {},
   "outputs": [
    {
     "data": {
      "text/html": [
       "<div>\n",
       "<style scoped>\n",
       "    .dataframe tbody tr th:only-of-type {\n",
       "        vertical-align: middle;\n",
       "    }\n",
       "\n",
       "    .dataframe tbody tr th {\n",
       "        vertical-align: top;\n",
       "    }\n",
       "\n",
       "    .dataframe thead th {\n",
       "        text-align: right;\n",
       "    }\n",
       "</style>\n",
       "<table border=\"1\" class=\"dataframe\">\n",
       "  <thead>\n",
       "    <tr style=\"text-align: right;\">\n",
       "      <th></th>\n",
       "      <th>date</th>\n",
       "      <th>fiscal_year</th>\n",
       "      <th>quarter</th>\n",
       "      <th>state</th>\n",
       "      <th>vehicle_category</th>\n",
       "      <th>electric_vehicles_sold</th>\n",
       "      <th>total_vehicles_sold</th>\n",
       "      <th>ev_penetration_rate</th>\n",
       "      <th>calculated_penetration_rate</th>\n",
       "      <th>penetration_diff</th>\n",
       "    </tr>\n",
       "  </thead>\n",
       "  <tbody>\n",
       "    <tr>\n",
       "      <th>0</th>\n",
       "      <td>01-Apr-21</td>\n",
       "      <td>2022</td>\n",
       "      <td>Q1</td>\n",
       "      <td>Sikkim</td>\n",
       "      <td>2-Wheelers</td>\n",
       "      <td>0</td>\n",
       "      <td>398</td>\n",
       "      <td>0.000000</td>\n",
       "      <td>0.000000</td>\n",
       "      <td>0.000000</td>\n",
       "    </tr>\n",
       "    <tr>\n",
       "      <th>1</th>\n",
       "      <td>01-Apr-21</td>\n",
       "      <td>2022</td>\n",
       "      <td>Q1</td>\n",
       "      <td>Sikkim</td>\n",
       "      <td>4-Wheelers</td>\n",
       "      <td>0</td>\n",
       "      <td>361</td>\n",
       "      <td>0.000000</td>\n",
       "      <td>0.000000</td>\n",
       "      <td>0.000000</td>\n",
       "    </tr>\n",
       "    <tr>\n",
       "      <th>2</th>\n",
       "      <td>01-Apr-21</td>\n",
       "      <td>2022</td>\n",
       "      <td>Q1</td>\n",
       "      <td>Andaman &amp; Nicobar Island</td>\n",
       "      <td>2-Wheelers</td>\n",
       "      <td>0</td>\n",
       "      <td>515</td>\n",
       "      <td>0.000000</td>\n",
       "      <td>0.000000</td>\n",
       "      <td>0.000000</td>\n",
       "    </tr>\n",
       "    <tr>\n",
       "      <th>3</th>\n",
       "      <td>01-Apr-21</td>\n",
       "      <td>2022</td>\n",
       "      <td>Q1</td>\n",
       "      <td>Arunachal Pradesh</td>\n",
       "      <td>2-Wheelers</td>\n",
       "      <td>0</td>\n",
       "      <td>1256</td>\n",
       "      <td>0.000000</td>\n",
       "      <td>0.000000</td>\n",
       "      <td>0.000000</td>\n",
       "    </tr>\n",
       "    <tr>\n",
       "      <th>4</th>\n",
       "      <td>01-Apr-21</td>\n",
       "      <td>2022</td>\n",
       "      <td>Q1</td>\n",
       "      <td>Arunachal Pradesh</td>\n",
       "      <td>4-Wheelers</td>\n",
       "      <td>0</td>\n",
       "      <td>724</td>\n",
       "      <td>0.000000</td>\n",
       "      <td>0.000000</td>\n",
       "      <td>0.000000</td>\n",
       "    </tr>\n",
       "    <tr>\n",
       "      <th>...</th>\n",
       "      <td>...</td>\n",
       "      <td>...</td>\n",
       "      <td>...</td>\n",
       "      <td>...</td>\n",
       "      <td>...</td>\n",
       "      <td>...</td>\n",
       "      <td>...</td>\n",
       "      <td>...</td>\n",
       "      <td>...</td>\n",
       "      <td>...</td>\n",
       "    </tr>\n",
       "    <tr>\n",
       "      <th>2440</th>\n",
       "      <td>01-Mar-24</td>\n",
       "      <td>2024</td>\n",
       "      <td>Q4</td>\n",
       "      <td>Mizoram</td>\n",
       "      <td>2-Wheelers</td>\n",
       "      <td>58</td>\n",
       "      <td>1932</td>\n",
       "      <td>3.002070</td>\n",
       "      <td>0.030021</td>\n",
       "      <td>2.972050</td>\n",
       "    </tr>\n",
       "    <tr>\n",
       "      <th>2441</th>\n",
       "      <td>01-Mar-24</td>\n",
       "      <td>2024</td>\n",
       "      <td>Q4</td>\n",
       "      <td>DNH and DD</td>\n",
       "      <td>2-Wheelers</td>\n",
       "      <td>25</td>\n",
       "      <td>780</td>\n",
       "      <td>3.205128</td>\n",
       "      <td>0.032051</td>\n",
       "      <td>3.173077</td>\n",
       "    </tr>\n",
       "    <tr>\n",
       "      <th>2442</th>\n",
       "      <td>01-Mar-24</td>\n",
       "      <td>2024</td>\n",
       "      <td>Q4</td>\n",
       "      <td>Manipur</td>\n",
       "      <td>2-Wheelers</td>\n",
       "      <td>13</td>\n",
       "      <td>1394</td>\n",
       "      <td>0.932568</td>\n",
       "      <td>0.009326</td>\n",
       "      <td>0.923242</td>\n",
       "    </tr>\n",
       "    <tr>\n",
       "      <th>2443</th>\n",
       "      <td>01-Mar-24</td>\n",
       "      <td>2024</td>\n",
       "      <td>Q4</td>\n",
       "      <td>Andaman &amp; Nicobar Island</td>\n",
       "      <td>2-Wheelers</td>\n",
       "      <td>2</td>\n",
       "      <td>447</td>\n",
       "      <td>0.447427</td>\n",
       "      <td>0.004474</td>\n",
       "      <td>0.442953</td>\n",
       "    </tr>\n",
       "    <tr>\n",
       "      <th>2444</th>\n",
       "      <td>01-Mar-24</td>\n",
       "      <td>2024</td>\n",
       "      <td>Q4</td>\n",
       "      <td>Nagaland</td>\n",
       "      <td>2-Wheelers</td>\n",
       "      <td>2</td>\n",
       "      <td>1180</td>\n",
       "      <td>0.169492</td>\n",
       "      <td>0.001695</td>\n",
       "      <td>0.167797</td>\n",
       "    </tr>\n",
       "  </tbody>\n",
       "</table>\n",
       "<p>2445 rows × 10 columns</p>\n",
       "</div>"
      ],
      "text/plain": [
       "           date  fiscal_year quarter                     state  \\\n",
       "0     01-Apr-21         2022      Q1                    Sikkim   \n",
       "1     01-Apr-21         2022      Q1                    Sikkim   \n",
       "2     01-Apr-21         2022      Q1  Andaman & Nicobar Island   \n",
       "3     01-Apr-21         2022      Q1         Arunachal Pradesh   \n",
       "4     01-Apr-21         2022      Q1         Arunachal Pradesh   \n",
       "...         ...          ...     ...                       ...   \n",
       "2440  01-Mar-24         2024      Q4                   Mizoram   \n",
       "2441  01-Mar-24         2024      Q4                DNH and DD   \n",
       "2442  01-Mar-24         2024      Q4                   Manipur   \n",
       "2443  01-Mar-24         2024      Q4  Andaman & Nicobar Island   \n",
       "2444  01-Mar-24         2024      Q4                  Nagaland   \n",
       "\n",
       "     vehicle_category  electric_vehicles_sold  total_vehicles_sold  \\\n",
       "0          2-Wheelers                       0                  398   \n",
       "1          4-Wheelers                       0                  361   \n",
       "2          2-Wheelers                       0                  515   \n",
       "3          2-Wheelers                       0                 1256   \n",
       "4          4-Wheelers                       0                  724   \n",
       "...               ...                     ...                  ...   \n",
       "2440       2-Wheelers                      58                 1932   \n",
       "2441       2-Wheelers                      25                  780   \n",
       "2442       2-Wheelers                      13                 1394   \n",
       "2443       2-Wheelers                       2                  447   \n",
       "2444       2-Wheelers                       2                 1180   \n",
       "\n",
       "      ev_penetration_rate  calculated_penetration_rate  penetration_diff  \n",
       "0                0.000000                     0.000000          0.000000  \n",
       "1                0.000000                     0.000000          0.000000  \n",
       "2                0.000000                     0.000000          0.000000  \n",
       "3                0.000000                     0.000000          0.000000  \n",
       "4                0.000000                     0.000000          0.000000  \n",
       "...                   ...                          ...               ...  \n",
       "2440             3.002070                     0.030021          2.972050  \n",
       "2441             3.205128                     0.032051          3.173077  \n",
       "2442             0.932568                     0.009326          0.923242  \n",
       "2443             0.447427                     0.004474          0.442953  \n",
       "2444             0.169492                     0.001695          0.167797  \n",
       "\n",
       "[2445 rows x 10 columns]"
      ]
     },
     "execution_count": 5,
     "metadata": {},
     "output_type": "execute_result"
    }
   ],
   "source": [
    "monthly_ev_sales"
   ]
  },
  {
   "cell_type": "code",
   "execution_count": 6,
   "id": "3df6f1cc",
   "metadata": {},
   "outputs": [
    {
     "data": {
      "text/html": [
       "<div>\n",
       "<style scoped>\n",
       "    .dataframe tbody tr th:only-of-type {\n",
       "        vertical-align: middle;\n",
       "    }\n",
       "\n",
       "    .dataframe tbody tr th {\n",
       "        vertical-align: top;\n",
       "    }\n",
       "\n",
       "    .dataframe thead th {\n",
       "        text-align: right;\n",
       "    }\n",
       "</style>\n",
       "<table border=\"1\" class=\"dataframe\">\n",
       "  <thead>\n",
       "    <tr style=\"text-align: right;\">\n",
       "      <th></th>\n",
       "      <th>state</th>\n",
       "      <th>fiscal_year</th>\n",
       "      <th>electric_vehicles_sold</th>\n",
       "    </tr>\n",
       "  </thead>\n",
       "  <tbody>\n",
       "    <tr>\n",
       "      <th>0</th>\n",
       "      <td>Andaman &amp; Nicobar</td>\n",
       "      <td>2024</td>\n",
       "      <td>2</td>\n",
       "    </tr>\n",
       "    <tr>\n",
       "      <th>1</th>\n",
       "      <td>Andaman &amp; Nicobar Island</td>\n",
       "      <td>2022</td>\n",
       "      <td>22</td>\n",
       "    </tr>\n",
       "    <tr>\n",
       "      <th>2</th>\n",
       "      <td>Andaman &amp; Nicobar Island</td>\n",
       "      <td>2023</td>\n",
       "      <td>23</td>\n",
       "    </tr>\n",
       "    <tr>\n",
       "      <th>3</th>\n",
       "      <td>Andaman &amp; Nicobar Island</td>\n",
       "      <td>2024</td>\n",
       "      <td>33</td>\n",
       "    </tr>\n",
       "    <tr>\n",
       "      <th>4</th>\n",
       "      <td>Andhra Pradesh</td>\n",
       "      <td>2022</td>\n",
       "      <td>13928</td>\n",
       "    </tr>\n",
       "  </tbody>\n",
       "</table>\n",
       "</div>"
      ],
      "text/plain": [
       "                      state  fiscal_year  electric_vehicles_sold\n",
       "0         Andaman & Nicobar         2024                       2\n",
       "1  Andaman & Nicobar Island         2022                      22\n",
       "2  Andaman & Nicobar Island         2023                      23\n",
       "3  Andaman & Nicobar Island         2024                      33\n",
       "4            Andhra Pradesh         2022                   13928"
      ]
     },
     "metadata": {},
     "output_type": "display_data"
    }
   ],
   "source": [
    "# Group by state and fiscal year, summing total sales (2W + 4W)\n",
    "fy_sales = (\n",
    "    monthly_ev_sales.groupby([\"state\", \"fiscal_year\"])[\"electric_vehicles_sold\"]\n",
    "    .sum()\n",
    "    .reset_index()\n",
    ")\n",
    "\n",
    "display(fy_sales.head())"
   ]
  },
  {
   "cell_type": "markdown",
   "id": "f4c39472",
   "metadata": {},
   "source": [
    ">Explanation:\n",
    "> - For CAGR calculation, we need total annual sales per state\n",
    "> - Summing across months for each fiscal year gives FY totals"
   ]
  },
  {
   "cell_type": "code",
   "execution_count": 7,
   "id": "c0f93797",
   "metadata": {},
   "outputs": [
    {
     "name": "stdout",
     "output_type": "stream",
     "text": [
      "Top 10 State:  ['Kerala', 'Goa', 'Karnataka', 'Delhi', 'Chandigarh', 'Maharashtra', 'Odisha', 'Tamil Nadu', 'Chhattisgarh', 'Gujarat']\n"
     ]
    }
   ],
   "source": [
    "latest_fy = fy_sales['fiscal_year'].max()\n",
    "top_states = (\n",
    "  monthly_ev_sales[monthly_ev_sales['fiscal_year'] == latest_fy]\n",
    "  .groupby(monthly_ev_sales['state'])['ev_penetration_rate']\n",
    "  .mean()\n",
    "  .sort_values(ascending=False)\n",
    "  .head(10)\n",
    "  .index\n",
    "  .tolist()\n",
    ")\n",
    "\n",
    "print(\"Top 10 State: \",top_states)"
   ]
  },
  {
   "cell_type": "code",
   "execution_count": 8,
   "id": "59282cd4",
   "metadata": {},
   "outputs": [
    {
     "name": "stdout",
     "output_type": "stream",
     "text": [
      "CAGR per State: {'Kerala': np.float64(1.33), 'Goa': np.float64(1.46), 'Karnataka': np.float64(0.93), 'Delhi': np.float64(0.68), 'Chandigarh': np.float64(1.65), 'Maharashtra': np.float64(1.02), 'Odisha': np.float64(1.03), 'Tamil Nadu': np.float64(0.6), 'Chhattisgarh': np.float64(1.51), 'Gujarat': np.float64(1.16)}\n"
     ]
    }
   ],
   "source": [
    "cagr_dict = {}\n",
    "\n",
    "for state in top_states:\n",
    "    state_data = fy_sales[fy_sales[\"state\"] == state].sort_values(\"fiscal_year\")\n",
    "    start_sales = state_data.iloc[0][\"electric_vehicles_sold\"]  # first fiscal year sales\n",
    "    end_sales = state_data.iloc[-1][\"electric_vehicles_sold\"]  # last fiscal year sales\n",
    "    n_years = state_data[\"fiscal_year\"].iloc[-1] - state_data[\"fiscal_year\"].iloc[0]\n",
    "\n",
    "    # CAGR formula\n",
    "    cagr = ((end_sales / start_sales) ** (1 / n_years) - 1).round(2)\n",
    "    cagr_dict[state] = cagr\n",
    "\n",
    "print(\"CAGR per State:\", cagr_dict)"
   ]
  },
  {
   "cell_type": "code",
   "execution_count": 9,
   "id": "ad87d0f9",
   "metadata": {},
   "outputs": [
    {
     "data": {
      "text/html": [
       "<div>\n",
       "<style scoped>\n",
       "    .dataframe tbody tr th:only-of-type {\n",
       "        vertical-align: middle;\n",
       "    }\n",
       "\n",
       "    .dataframe tbody tr th {\n",
       "        vertical-align: top;\n",
       "    }\n",
       "\n",
       "    .dataframe thead th {\n",
       "        text-align: right;\n",
       "    }\n",
       "</style>\n",
       "<table border=\"1\" class=\"dataframe\">\n",
       "  <thead>\n",
       "    <tr style=\"text-align: right;\">\n",
       "      <th></th>\n",
       "      <th>State</th>\n",
       "      <th>Projected_Sales_2030</th>\n",
       "    </tr>\n",
       "  </thead>\n",
       "  <tbody>\n",
       "    <tr>\n",
       "      <th>0</th>\n",
       "      <td>Maharashtra</td>\n",
       "      <td>1.339513e+07</td>\n",
       "    </tr>\n",
       "    <tr>\n",
       "      <th>1</th>\n",
       "      <td>Kerala</td>\n",
       "      <td>1.183050e+07</td>\n",
       "    </tr>\n",
       "    <tr>\n",
       "      <th>2</th>\n",
       "      <td>Gujarat</td>\n",
       "      <td>8.567496e+06</td>\n",
       "    </tr>\n",
       "    <tr>\n",
       "      <th>3</th>\n",
       "      <td>Karnataka</td>\n",
       "      <td>8.320321e+06</td>\n",
       "    </tr>\n",
       "    <tr>\n",
       "      <th>4</th>\n",
       "      <td>Chhattisgarh</td>\n",
       "      <td>7.136681e+06</td>\n",
       "    </tr>\n",
       "    <tr>\n",
       "      <th>5</th>\n",
       "      <td>Odisha</td>\n",
       "      <td>2.737492e+06</td>\n",
       "    </tr>\n",
       "    <tr>\n",
       "      <th>6</th>\n",
       "      <td>Goa</td>\n",
       "      <td>2.393284e+06</td>\n",
       "    </tr>\n",
       "    <tr>\n",
       "      <th>7</th>\n",
       "      <td>Tamil Nadu</td>\n",
       "      <td>1.582326e+06</td>\n",
       "    </tr>\n",
       "    <tr>\n",
       "      <th>8</th>\n",
       "      <td>Delhi</td>\n",
       "      <td>1.050499e+06</td>\n",
       "    </tr>\n",
       "    <tr>\n",
       "      <th>9</th>\n",
       "      <td>Chandigarh</td>\n",
       "      <td>9.963573e+05</td>\n",
       "    </tr>\n",
       "  </tbody>\n",
       "</table>\n",
       "</div>"
      ],
      "text/plain": [
       "          State  Projected_Sales_2030\n",
       "0   Maharashtra          1.339513e+07\n",
       "1        Kerala          1.183050e+07\n",
       "2       Gujarat          8.567496e+06\n",
       "3     Karnataka          8.320321e+06\n",
       "4  Chhattisgarh          7.136681e+06\n",
       "5        Odisha          2.737492e+06\n",
       "6           Goa          2.393284e+06\n",
       "7    Tamil Nadu          1.582326e+06\n",
       "8         Delhi          1.050499e+06\n",
       "9    Chandigarh          9.963573e+05"
      ]
     },
     "execution_count": 9,
     "metadata": {},
     "output_type": "execute_result"
    }
   ],
   "source": [
    "projected_sales = {}\n",
    "years_to_project = 2030 - latest_fy  # number of years from latest fiscal year to 2030\n",
    "\n",
    "for state, cagr in cagr_dict.items():\n",
    "    # Current sales = latest FY sales\n",
    "    current_sales = fy_sales[(fy_sales['state']==state) & (fy_sales['fiscal_year']==latest_fy)]['electric_vehicles_sold'].values[0]\n",
    "    \n",
    "    # Future projection using CAGR\n",
    "    projected_sales[state] = current_sales * (1 + cagr)**years_to_project\n",
    "\n",
    "# Convert to DataFrame and sort\n",
    "proj_df = pd.DataFrame(list(projected_sales.items()), columns=['State', 'Projected_Sales_2030'])\n",
    "proj_df = proj_df.sort_values(by='Projected_Sales_2030', ascending=False)\n",
    "proj_df.reset_index(drop=True, inplace=True)\n",
    "proj_df\n"
   ]
  },
  {
   "cell_type": "code",
   "execution_count": 10,
   "id": "399fb15d",
   "metadata": {},
   "outputs": [
    {
     "data": {
      "text/html": [
       "<div>\n",
       "<style scoped>\n",
       "    .dataframe tbody tr th:only-of-type {\n",
       "        vertical-align: middle;\n",
       "    }\n",
       "\n",
       "    .dataframe tbody tr th {\n",
       "        vertical-align: top;\n",
       "    }\n",
       "\n",
       "    .dataframe thead th {\n",
       "        text-align: right;\n",
       "    }\n",
       "</style>\n",
       "<table border=\"1\" class=\"dataframe\">\n",
       "  <thead>\n",
       "    <tr style=\"text-align: right;\">\n",
       "      <th></th>\n",
       "      <th>State</th>\n",
       "      <th>Projected_Sales_2030</th>\n",
       "    </tr>\n",
       "  </thead>\n",
       "  <tbody>\n",
       "    <tr>\n",
       "      <th>0</th>\n",
       "      <td>Maharashtra</td>\n",
       "      <td>13,395,127</td>\n",
       "    </tr>\n",
       "    <tr>\n",
       "      <th>1</th>\n",
       "      <td>Kerala</td>\n",
       "      <td>11,830,503</td>\n",
       "    </tr>\n",
       "    <tr>\n",
       "      <th>2</th>\n",
       "      <td>Gujarat</td>\n",
       "      <td>8,567,496</td>\n",
       "    </tr>\n",
       "    <tr>\n",
       "      <th>3</th>\n",
       "      <td>Karnataka</td>\n",
       "      <td>8,320,321</td>\n",
       "    </tr>\n",
       "    <tr>\n",
       "      <th>4</th>\n",
       "      <td>Chhattisgarh</td>\n",
       "      <td>7,136,681</td>\n",
       "    </tr>\n",
       "    <tr>\n",
       "      <th>5</th>\n",
       "      <td>Odisha</td>\n",
       "      <td>2,737,492</td>\n",
       "    </tr>\n",
       "    <tr>\n",
       "      <th>6</th>\n",
       "      <td>Goa</td>\n",
       "      <td>2,393,284</td>\n",
       "    </tr>\n",
       "    <tr>\n",
       "      <th>7</th>\n",
       "      <td>Tamil Nadu</td>\n",
       "      <td>1,582,326</td>\n",
       "    </tr>\n",
       "    <tr>\n",
       "      <th>8</th>\n",
       "      <td>Delhi</td>\n",
       "      <td>1,050,499</td>\n",
       "    </tr>\n",
       "    <tr>\n",
       "      <th>9</th>\n",
       "      <td>Chandigarh</td>\n",
       "      <td>996,357</td>\n",
       "    </tr>\n",
       "  </tbody>\n",
       "</table>\n",
       "</div>"
      ],
      "text/plain": [
       "          State  Projected_Sales_2030\n",
       "0   Maharashtra            13,395,127\n",
       "1        Kerala            11,830,503\n",
       "2       Gujarat             8,567,496\n",
       "3     Karnataka             8,320,321\n",
       "4  Chhattisgarh             7,136,681\n",
       "5        Odisha             2,737,492\n",
       "6           Goa             2,393,284\n",
       "7    Tamil Nadu             1,582,326\n",
       "8         Delhi             1,050,499\n",
       "9    Chandigarh               996,357"
      ]
     },
     "metadata": {},
     "output_type": "display_data"
    }
   ],
   "source": [
    "# This will format all floats in DataFrame for display without changing data type\n",
    "pd.set_option('display.float_format', '{:,.0f}'.format)\n",
    "\n",
    "display(proj_df)\n"
   ]
  },
  {
   "cell_type": "code",
   "execution_count": 11,
   "id": "50021137",
   "metadata": {},
   "outputs": [
    {
     "data": {
      "text/html": [
       "<div>\n",
       "<style scoped>\n",
       "    .dataframe tbody tr th:only-of-type {\n",
       "        vertical-align: middle;\n",
       "    }\n",
       "\n",
       "    .dataframe tbody tr th {\n",
       "        vertical-align: top;\n",
       "    }\n",
       "\n",
       "    .dataframe thead th {\n",
       "        text-align: right;\n",
       "    }\n",
       "</style>\n",
       "<table border=\"1\" class=\"dataframe\">\n",
       "  <thead>\n",
       "    <tr style=\"text-align: right;\">\n",
       "      <th></th>\n",
       "      <th>State</th>\n",
       "      <th>Projected_Sales_2030</th>\n",
       "      <th>Projected_Sales_2030_readable</th>\n",
       "    </tr>\n",
       "  </thead>\n",
       "  <tbody>\n",
       "    <tr>\n",
       "      <th>0</th>\n",
       "      <td>Maharashtra</td>\n",
       "      <td>13,395,127</td>\n",
       "      <td>13.4 million</td>\n",
       "    </tr>\n",
       "    <tr>\n",
       "      <th>1</th>\n",
       "      <td>Kerala</td>\n",
       "      <td>11,830,503</td>\n",
       "      <td>11.8 million</td>\n",
       "    </tr>\n",
       "    <tr>\n",
       "      <th>2</th>\n",
       "      <td>Gujarat</td>\n",
       "      <td>8,567,496</td>\n",
       "      <td>8.6 million</td>\n",
       "    </tr>\n",
       "    <tr>\n",
       "      <th>3</th>\n",
       "      <td>Karnataka</td>\n",
       "      <td>8,320,321</td>\n",
       "      <td>8.3 million</td>\n",
       "    </tr>\n",
       "    <tr>\n",
       "      <th>4</th>\n",
       "      <td>Chhattisgarh</td>\n",
       "      <td>7,136,681</td>\n",
       "      <td>7.1 million</td>\n",
       "    </tr>\n",
       "    <tr>\n",
       "      <th>5</th>\n",
       "      <td>Odisha</td>\n",
       "      <td>2,737,492</td>\n",
       "      <td>2.7 million</td>\n",
       "    </tr>\n",
       "    <tr>\n",
       "      <th>6</th>\n",
       "      <td>Goa</td>\n",
       "      <td>2,393,284</td>\n",
       "      <td>2.4 million</td>\n",
       "    </tr>\n",
       "    <tr>\n",
       "      <th>7</th>\n",
       "      <td>Tamil Nadu</td>\n",
       "      <td>1,582,326</td>\n",
       "      <td>1.6 million</td>\n",
       "    </tr>\n",
       "    <tr>\n",
       "      <th>8</th>\n",
       "      <td>Delhi</td>\n",
       "      <td>1,050,499</td>\n",
       "      <td>1.1 million</td>\n",
       "    </tr>\n",
       "    <tr>\n",
       "      <th>9</th>\n",
       "      <td>Chandigarh</td>\n",
       "      <td>996,357</td>\n",
       "      <td>996.4 thousand</td>\n",
       "    </tr>\n",
       "  </tbody>\n",
       "</table>\n",
       "</div>"
      ],
      "text/plain": [
       "          State  Projected_Sales_2030 Projected_Sales_2030_readable\n",
       "0   Maharashtra            13,395,127                  13.4 million\n",
       "1        Kerala            11,830,503                  11.8 million\n",
       "2       Gujarat             8,567,496                   8.6 million\n",
       "3     Karnataka             8,320,321                   8.3 million\n",
       "4  Chhattisgarh             7,136,681                   7.1 million\n",
       "5        Odisha             2,737,492                   2.7 million\n",
       "6           Goa             2,393,284                   2.4 million\n",
       "7    Tamil Nadu             1,582,326                   1.6 million\n",
       "8         Delhi             1,050,499                   1.1 million\n",
       "9    Chandigarh               996,357                996.4 thousand"
      ]
     },
     "execution_count": 11,
     "metadata": {},
     "output_type": "execute_result"
    }
   ],
   "source": [
    "import humanize\n",
    "\n",
    "# Step 1: Convert numbers to human-readable format\n",
    "proj_df['Projected_Sales_2030_readable'] = proj_df['Projected_Sales_2030'].apply(humanize.intword)\n",
    "\n",
    "# Step 2: Display\n",
    "proj_df[['State','Projected_Sales_2030','Projected_Sales_2030_readable']]\n"
   ]
  },
  {
   "cell_type": "code",
   "execution_count": 12,
   "id": "b0f2f9f6",
   "metadata": {},
   "outputs": [
    {
     "name": "stderr",
     "output_type": "stream",
     "text": [
      "/tmp/ipykernel_151972/315714787.py:3: FutureWarning: \n",
      "\n",
      "Passing `palette` without assigning `hue` is deprecated and will be removed in v0.14.0. Assign the `y` variable to `hue` and set `legend=False` for the same effect.\n",
      "\n",
      "  ax = sns.barplot(x='Projected_Sales_2030', y='State', data=proj_df, palette='Blues_r')\n"
     ]
    },
    {
     "data": {
      "image/png": "[encoded data removed]",
      "text/plain": [
       "<Figure size 1000x600 with 1 Axes>"
      ]
     },
     "metadata": {},
     "output_type": "display_data"
    }
   ],
   "source": [
    "plt.figure(figsize=(10,6))\n",
    "# Create the bar plot and get the axes\n",
    "ax = sns.barplot(x='Projected_Sales_2030', y='State', data=proj_df, palette='Blues_r')\n",
    "\n",
    "# Add data labels\n",
    "for i, p in enumerate(ax.patches):\n",
    "    # Get the width of the bar (which is the value)\n",
    "    width = p.get_width()\n",
    "    \n",
    "    # Format large numbers for better readability\n",
    "    if width >= 1_000_000:\n",
    "        formatted_value = f\"{width/1_000_000:.1f}M\"\n",
    "    elif width >= 1_000:\n",
    "        formatted_value = f\"{width/1_000:.0f}K\"\n",
    "    else:\n",
    "        formatted_value = f\"{width:.0f}\"\n",
    "    \n",
    "    # Add text at the end of the bar\n",
    "    ax.annotate(formatted_value,\n",
    "                (width, p.get_y() + p.get_height()/2),\n",
    "                ha='left', va='center',\n",
    "                fontweight='bold', size=9,\n",
    "                xytext=(5, 0),\n",
    "                textcoords='offset points')\n",
    "\n",
    "plt.title('Projected EV Sales by State in 2030')\n",
    "plt.xlabel('Projected Sales (Units)')\n",
    "plt.ylabel('State')\n",
    "plt.tight_layout()  # Adjust layout to make room for labels\n",
    "plt.show()"
   ]
  },
  {
   "cell_type": "code",
   "execution_count": 13,
   "id": "4841860a",
   "metadata": {},
   "outputs": [
    {
     "name": "stderr",
     "output_type": "stream",
     "text": [
      "/tmp/ipykernel_151972/1279838487.py:14: DeprecationWarning: *choropleth_mapbox* is deprecated! Use *choropleth_map* instead. Learn more at: https://plotly.com/python/mapbox-to-maplibre/\n",
      "  fig = px.choropleth_mapbox(\n"
     ]
    },
    {
     "data": {
      "application/vnd.plotly.v1+json": {
       "config": {
        "plotlyServerURL": "https://plot.ly"
       },
       "data": [
        {
         "coloraxis": "coloraxis",
         "customdata": [
          [
           "13.4 million"
          ],
          [
           "11.8 million"
          ],
          [
           "8.6 million"
          ],
          [
           "8.3 million"
          ],
          [
           "7.1 million"
          ],
          [
           "2.7 million"
          ],
          [
           "2.4 million"
          ],
          [
           "1.6 million"
          ],
          [
           "1.1 million"
          ],
          [
           "996.4 thousand"
          ]
         ],
         "featureidkey": "properties.ST_NM",
         "geojson": "https://gist.githubusercontent.com/jbrobst/56c13bbbf9d97d187fea01ca62ea5112/raw/e388c4cae20aa53cb5090210a42ebb9b765c0a36/india_states.geojson",
         "hovertemplate": "State=%{location}<br>Projected_Sales_2030_readable=%{customdata[0]}<br>Projected Sales=%{z}<extra></extra>",
         "locations": [
          "Maharashtra",
          "Kerala",
          "Gujarat",
          "Karnataka",
          "Chhattisgarh",
          "Odisha",
          "Goa",
          "Tamil Nadu",
          "Delhi",
          "Chandigarh"
         ],
         "marker": {
          "opacity": 0.8
         },
         "name": "",
         "subplot": "mapbox",
         "type": "choroplethmapbox",
         "z": {
          "bdata": "GkW+7paMaUEUkRXtnJBmQZiRTgxZV2BBJZhPIVC9X0FP4INNajlbQeCTAAmq4kRB0xEw2mFCQkHSEI5Z9iQ4QepWkiaDBzBBg7y+lwpoLkE=",
          "dtype": "f8"
         }
        }
       ],
       "layout": {
        "coloraxis": {
         "cmax": 13395127.46072631,
         "cmin": 0,
         "colorbar": {
          "len": 0.8,
          "thickness": 20,
          "tickformat": ",.0f",
          "title": {
           "text": "Projected Sales"
          },
          "x": 0.95
         },
         "colorscale": [
          [
           0,
           "#440154"
          ],
          [
           0.2,
           "#414487"
          ],
          [
           0.4,
           "#2a788e"
          ],
          [
           0.6,
           "#22a884"
          ],
          [
           0.8,
           "#7ad151"
          ],
          [
           1,
           "#fde725"
          ]
         ]
        },
        "height": 600,
        "legend": {
         "tracegroupgap": 0
        },
        "mapbox": {
         "center": {
          "lat": 20.5937,
          "lon": 78.9629
         },
         "domain": {
          "x": [
           0,
           1
          ],
          "y": [
           0,
           1
          ]
         },
         "style": "carto-positron",
         "zoom": 3.5
        },
        "margin": {
         "b": 0,
         "l": 0,
         "r": 0,
         "t": 40
        },
        "template": {
         "data": {
          "bar": [
           {
            "error_x": {
             "color": "#2a3f5f"
            },
            "error_y": {
             "color": "#2a3f5f"
            },
            "marker": {
             "line": {
              "color": "#E5ECF6",
              "width": 0.5
             },
             "pattern": {
              "fillmode": "overlay",
              "size": 10,
              "solidity": 0.2
             }
            },
            "type": "bar"
           }
          ],
          "barpolar": [
           {
            "marker": {
             "line": {
              "color": "#E5ECF6",
              "width": 0.5
             },
             "pattern": {
              "fillmode": "overlay",
              "size": 10,
              "solidity": 0.2
             }
            },
            "type": "barpolar"
           }
          ],
          "carpet": [
           {
            "aaxis": {
             "endlinecolor": "#2a3f5f",
             "gridcolor": "white",
             "linecolor": "white",
             "minorgridcolor": "white",
             "startlinecolor": "#2a3f5f"
            },
            "baxis": {
             "endlinecolor": "#2a3f5f",
             "gridcolor": "white",
             "linecolor": "white",
             "minorgridcolor": "white",
             "startlinecolor": "#2a3f5f"
            },
            "type": "carpet"
           }
          ],
          "choropleth": [
           {
            "colorbar": {
             "outlinewidth": 0,
             "ticks": ""
            },
            "type": "choropleth"
           }
          ],
          "contour": [
           {
            "colorbar": {
             "outlinewidth": 0,
             "ticks": ""
            },
            "colorscale": [
             [
              0,
              "#0d0887"
             ],
             [
              0.1111111111111111,
              "#46039f"
             ],
             [
              0.2222222222222222,
              "#7201a8"
             ],
             [
              0.3333333333333333,
              "#9c179e"
             ],
             [
              0.4444444444444444,
              "#bd3786"
             ],
             [
              0.5555555555555556,
              "#d8576b"
             ],
             [
              0.6666666666666666,
              "#ed7953"
             ],
             [
              0.7777777777777778,
              "#fb9f3a"
             ],
             [
              0.8888888888888888,
              "#fdca26"
             ],
             [
              1,
              "#f0f921"
             ]
            ],
            "type": "contour"
           }
          ],
          "contourcarpet": [
           {
            "colorbar": {
             "outlinewidth": 0,
             "ticks": ""
            },
            "type": "contourcarpet"
           }
          ],
          "heatmap": [
           {
            "colorbar": {
             "outlinewidth": 0,
             "ticks": ""
            },
            "colorscale": [
             [
              0,
              "#0d0887"
             ],
             [
              0.1111111111111111,
              "#46039f"
             ],
             [
              0.2222222222222222,
              "#7201a8"
             ],
             [
              0.3333333333333333,
              "#9c179e"
             ],
             [
              0.4444444444444444,
              "#bd3786"
             ],
             [
              0.5555555555555556,
              "#d8576b"
             ],
             [
              0.6666666666666666,
              "#ed7953"
             ],
             [
              0.7777777777777778,
              "#fb9f3a"
             ],
             [
              0.8888888888888888,
              "#fdca26"
             ],
             [
              1,
              "#f0f921"
             ]
            ],
            "type": "heatmap"
           }
          ],
          "histogram": [
           {
            "marker": {
             "pattern": {
              "fillmode": "overlay",
              "size": 10,
              "solidity": 0.2
             }
            },
            "type": "histogram"
           }
          ],
          "histogram2d": [
           {
            "colorbar": {
             "outlinewidth": 0,
             "ticks": ""
            },
            "colorscale": [
             [
              0,
              "#0d0887"
             ],
             [
              0.1111111111111111,
              "#46039f"
             ],
             [
              0.2222222222222222,
              "#7201a8"
             ],
             [
              0.3333333333333333,
              "#9c179e"
             ],
             [
              0.4444444444444444,
              "#bd3786"
             ],
             [
              0.5555555555555556,
              "#d8576b"
             ],
             [
              0.6666666666666666,
              "#ed7953"
             ],
             [
              0.7777777777777778,
              "#fb9f3a"
             ],
             [
              0.8888888888888888,
              "#fdca26"
             ],
             [
              1,
              "#f0f921"
             ]
            ],
            "type": "histogram2d"
           }
          ],
          "histogram2dcontour": [
           {
            "colorbar": {
             "outlinewidth": 0,
             "ticks": ""
            },
            "colorscale": [
             [
              0,
              "#0d0887"
             ],
             [
              0.1111111111111111,
              "#46039f"
             ],
             [
              0.2222222222222222,
              "#7201a8"
             ],
             [
              0.3333333333333333,
              "#9c179e"
             ],
             [
              0.4444444444444444,
              "#bd3786"
             ],
             [
              0.5555555555555556,
              "#d8576b"
             ],
             [
              0.6666666666666666,
              "#ed7953"
             ],
             [
              0.7777777777777778,
              "#fb9f3a"
             ],
             [
              0.8888888888888888,
              "#fdca26"
             ],
             [
              1,
              "#f0f921"
             ]
            ],
            "type": "histogram2dcontour"
           }
          ],
          "mesh3d": [
           {
            "colorbar": {
             "outlinewidth": 0,
             "ticks": ""
            },
            "type": "mesh3d"
           }
          ],
          "parcoords": [
           {
            "line": {
             "colorbar": {
              "outlinewidth": 0,
              "ticks": ""
             }
            },
            "type": "parcoords"
           }
          ],
          "pie": [
           {
            "automargin": true,
            "type": "pie"
           }
          ],
          "scatter": [
           {
            "fillpattern": {
             "fillmode": "overlay",
             "size": 10,
             "solidity": 0.2
            },
            "type": "scatter"
           }
          ],
          "scatter3d": [
           {
            "line": {
             "colorbar": {
              "outlinewidth": 0,
              "ticks": ""
             }
            },
            "marker": {
             "colorbar": {
              "outlinewidth": 0,
              "ticks": ""
             }
            },
            "type": "scatter3d"
           }
          ],
          "scattercarpet": [
           {
            "marker": {
             "colorbar": {
              "outlinewidth": 0,
              "ticks": ""
             }
            },
            "type": "scattercarpet"
           }
          ],
          "scattergeo": [
           {
            "marker": {
             "colorbar": {
              "outlinewidth": 0,
              "ticks": ""
             }
            },
            "type": "scattergeo"
           }
          ],
          "scattergl": [
           {
            "marker": {
             "colorbar": {
              "outlinewidth": 0,
              "ticks": ""
             }
            },
            "type": "scattergl"
           }
          ],
          "scattermap": [
           {
            "marker": {
             "colorbar": {
              "outlinewidth": 0,
              "ticks": ""
             }
            },
            "type": "scattermap"
           }
          ],
          "scattermapbox": [
           {
            "marker": {
             "colorbar": {
              "outlinewidth": 0,
              "ticks": ""
             }
            },
            "type": "scattermapbox"
           }
          ],
          "scatterpolar": [
           {
            "marker": {
             "colorbar": {
              "outlinewidth": 0,
              "ticks": ""
             }
            },
            "type": "scatterpolar"
           }
          ],
          "scatterpolargl": [
           {
            "marker": {
             "colorbar": {
              "outlinewidth": 0,
              "ticks": ""
             }
            },
            "type": "scatterpolargl"
           }
          ],
          "scatterternary": [
           {
            "marker": {
             "colorbar": {
              "outlinewidth": 0,
              "ticks": ""
             }
            },
            "type": "scatterternary"
           }
          ],
          "surface": [
           {
            "colorbar": {
             "outlinewidth": 0,
             "ticks": ""
            },
            "colorscale": [
             [
              0,
              "#0d0887"
             ],
             [
              0.1111111111111111,
              "#46039f"
             ],
             [
              0.2222222222222222,
              "#7201a8"
             ],
             [
              0.3333333333333333,
              "#9c179e"
             ],
             [
              0.4444444444444444,
              "#bd3786"
             ],
             [
              0.5555555555555556,
              "#d8576b"
             ],
             [
              0.6666666666666666,
              "#ed7953"
             ],
             [
              0.7777777777777778,
              "#fb9f3a"
             ],
             [
              0.8888888888888888,
              "#fdca26"
             ],
             [
              1,
              "#f0f921"
             ]
            ],
            "type": "surface"
           }
          ],
          "table": [
           {
            "cells": {
             "fill": {
              "color": "#EBF0F8"
             },
             "line": {
              "color": "white"
             }
            },
            "header": {
             "fill": {
              "color": "#C8D4E3"
             },
             "line": {
              "color": "white"
             }
            },
            "type": "table"
           }
          ]
         },
         "layout": {
          "annotationdefaults": {
           "arrowcolor": "#2a3f5f",
           "arrowhead": 0,
           "arrowwidth": 1
          },
          "autotypenumbers": "strict",
          "coloraxis": {
           "colorbar": {
            "outlinewidth": 0,
            "ticks": ""
           }
          },
          "colorscale": {
           "diverging": [
            [
             0,
             "#8e0152"
            ],
            [
             0.1,
             "#c51b7d"
            ],
            [
             0.2,
             "#de77ae"
            ],
            [
             0.3,
             "#f1b6da"
            ],
            [
             0.4,
             "#fde0ef"
            ],
            [
             0.5,
             "#f7f7f7"
            ],
            [
             0.6,
             "#e6f5d0"
            ],
            [
             0.7,
             "#b8e186"
            ],
            [
             0.8,
             "#7fbc41"
            ],
            [
             0.9,
             "#4d9221"
            ],
            [
             1,
             "#276419"
            ]
           ],
           "sequential": [
            [
             0,
             "#0d0887"
            ],
            [
             0.1111111111111111,
             "#46039f"
            ],
            [
             0.2222222222222222,
             "#7201a8"
            ],
            [
             0.3333333333333333,
             "#9c179e"
            ],
            [
             0.4444444444444444,
             "#bd3786"
            ],
            [
             0.5555555555555556,
             "#d8576b"
            ],
            [
             0.6666666666666666,
             "#ed7953"
            ],
            [
             0.7777777777777778,
             "#fb9f3a"
            ],
            [
             0.8888888888888888,
             "#fdca26"
            ],
            [
             1,
             "#f0f921"
            ]
           ],
           "sequentialminus": [
            [
             0,
             "#0d0887"
            ],
            [
             0.1111111111111111,
             "#46039f"
            ],
            [
             0.2222222222222222,
             "#7201a8"
            ],
            [
             0.3333333333333333,
             "#9c179e"
            ],
            [
             0.4444444444444444,
             "#bd3786"
            ],
            [
             0.5555555555555556,
             "#d8576b"
            ],
            [
             0.6666666666666666,
             "#ed7953"
            ],
            [
             0.7777777777777778,
             "#fb9f3a"
            ],
            [
             0.8888888888888888,
             "#fdca26"
            ],
            [
             1,
             "#f0f921"
            ]
           ]
          },
          "colorway": [
           "#636efa",
           "#EF553B",
           "#00cc96",
           "#ab63fa",
           "#FFA15A",
           "#19d3f3",
           "#FF6692",
           "#B6E880",
           "#FF97FF",
           "#FECB52"
          ],
          "font": {
           "color": "#2a3f5f"
          },
          "geo": {
           "bgcolor": "white",
           "lakecolor": "white",
           "landcolor": "#E5ECF6",
           "showlakes": true,
           "showland": true,
           "subunitcolor": "white"
          },
          "hoverlabel": {
           "align": "left"
          },
          "hovermode": "closest",
          "mapbox": {
           "style": "light"
          },
          "paper_bgcolor": "white",
          "plot_bgcolor": "#E5ECF6",
          "polar": {
           "angularaxis": {
            "gridcolor": "white",
            "linecolor": "white",
            "ticks": ""
           },
           "bgcolor": "#E5ECF6",
           "radialaxis": {
            "gridcolor": "white",
            "linecolor": "white",
            "ticks": ""
           }
          },
          "scene": {
           "xaxis": {
            "backgroundcolor": "#E5ECF6",
            "gridcolor": "white",
            "gridwidth": 2,
            "linecolor": "white",
            "showbackground": true,
            "ticks": "",
            "zerolinecolor": "white"
           },
           "yaxis": {
            "backgroundcolor": "#E5ECF6",
            "gridcolor": "white",
            "gridwidth": 2,
            "linecolor": "white",
            "showbackground": true,
            "ticks": "",
            "zerolinecolor": "white"
           },
           "zaxis": {
            "backgroundcolor": "#E5ECF6",
            "gridcolor": "white",
            "gridwidth": 2,
            "linecolor": "white",
            "showbackground": true,
            "ticks": "",
            "zerolinecolor": "white"
           }
          },
          "shapedefaults": {
           "line": {
            "color": "#2a3f5f"
           }
          },
          "ternary": {
           "aaxis": {
            "gridcolor": "white",
            "linecolor": "white",
            "ticks": ""
           },
           "baxis": {
            "gridcolor": "white",
            "linecolor": "white",
            "ticks": ""
           },
           "bgcolor": "#E5ECF6",
           "caxis": {
            "gridcolor": "white",
            "linecolor": "white",
            "ticks": ""
           }
          },
          "title": {
           "x": 0.05
          },
          "xaxis": {
           "automargin": true,
           "gridcolor": "white",
           "linecolor": "white",
           "ticks": "",
           "title": {
            "standoff": 15
           },
           "zerolinecolor": "white",
           "zerolinewidth": 2
          },
          "yaxis": {
           "automargin": true,
           "gridcolor": "white",
           "linecolor": "white",
           "ticks": "",
           "title": {
            "standoff": 15
           },
           "zerolinecolor": "white",
           "zerolinewidth": 2
          }
         }
        },
        "title": {
         "text": "Projected EV Sales by State in 2030",
         "x": 0.5,
         "xanchor": "center",
         "y": 0.98,
         "yanchor": "top"
        }
       }
      }
     },
     "metadata": {},
     "output_type": "display_data"
    }
   ],
   "source": [
    "import plotly.express as px\n",
    "\n",
    "# Create a better color scale using Viridis - good for showing numerical differences\n",
    "color_scale = [\n",
    "    [0, '#440154'],    # Dark purple for lowest values\n",
    "    [0.2, '#414487'],  # Blue-purple\n",
    "    [0.4, '#2a788e'],  # Teal\n",
    "    [0.6, '#22a884'],  # Green\n",
    "    [0.8, '#7ad151'],  # Light green\n",
    "    [1.0, '#fde725']   # Yellow for highest values\n",
    "]\n",
    "\n",
    "# Create a choropleth map with enhanced styling\n",
    "fig = px.choropleth_mapbox(\n",
    "    proj_df,\n",
    "    geojson=\"https://gist.githubusercontent.com/jbrobst/56c13bbbf9d97d187fea01ca62ea5112/raw/e388c4cae20aa53cb5090210a42ebb9b765c0a36/india_states.geojson\",\n",
    "    featureidkey='properties.ST_NM',\n",
    "    locations='State',\n",
    "    color='Projected_Sales_2030',\n",
    "    color_continuous_scale=color_scale,\n",
    "    range_color=[0, proj_df['Projected_Sales_2030'].max()],\n",
    "    mapbox_style=\"carto-positron\",\n",
    "    zoom=3.5,\n",
    "    center={\"lat\": 20.5937, \"lon\": 78.9629},\n",
    "    opacity=0.8,\n",
    "    labels={'Projected_Sales_2030': 'Projected Sales'},\n",
    "    hover_data=['Projected_Sales_2030_readable'],\n",
    "    title='Projected EV Sales by State in 2030'\n",
    ")\n",
    "\n",
    "# Enhance the layout\n",
    "fig.update_layout(\n",
    "    margin={\"r\":0,\"t\":40,\"l\":0,\"b\":0},\n",
    "    height=600,\n",
    "    coloraxis_colorbar=dict(\n",
    "        title=\"Projected Sales\",\n",
    "        tickformat=\",.0f\",\n",
    "        len=0.8,\n",
    "        thickness=20,\n",
    "        x=0.95\n",
    "    ),\n",
    "    title=dict(\n",
    "        text='Projected EV Sales by State in 2030',\n",
    "        x=0.5,\n",
    "        y=0.98,\n",
    "        xanchor='center',\n",
    "        yanchor='top'\n",
    "    )\n",
    ")\n",
    "\n",
    "fig.show()"
   ]
  },
  {
   "cell_type": "code",
   "execution_count": 14,
   "id": "5c1e6e0a",
   "metadata": {},
   "outputs": [
    {
     "data": {
      "application/vnd.plotly.v1+json": {
       "config": {
        "plotlyServerURL": "https://plot.ly"
       },
       "data": [
        {
         "coloraxis": "coloraxis",
         "customdata": [
          [
           "13.4 million"
          ],
          [
           "11.8 million"
          ],
          [
           "8.6 million"
          ],
          [
           "8.3 million"
          ],
          [
           "7.1 million"
          ],
          [
           "2.7 million"
          ],
          [
           "2.4 million"
          ],
          [
           "1.6 million"
          ],
          [
           "1.1 million"
          ],
          [
           "996.4 thousand"
          ]
         ],
         "featureidkey": "properties.ST_NM",
         "geo": "geo",
         "geojson": "https://gist.githubusercontent.com/jbrobst/56c13bbbf9d97d187fea01ca62ea5112/raw/e388c4cae20aa53cb5090210a42ebb9b765c0a36/india_states.geojson",
         "hovertemplate": "State=%{location}<br>Projected_Sales_2030_readable=%{customdata[0]}<br>Projected Sales=%{z}<extra></extra>",
         "locations": [
          "Maharashtra",
          "Kerala",
          "Gujarat",
          "Karnataka",
          "Chhattisgarh",
          "Odisha",
          "Goa",
          "Tamil Nadu",
          "Delhi",
          "Chandigarh"
         ],
         "name": "",
         "type": "choropleth",
         "z": {
          "bdata": "GkW+7paMaUEUkRXtnJBmQZiRTgxZV2BBJZhPIVC9X0FP4INNajlbQeCTAAmq4kRB0xEw2mFCQkHSEI5Z9iQ4QepWkiaDBzBBg7y+lwpoLkE=",
          "dtype": "f8"
         }
        }
       ],
       "layout": {
        "coloraxis": {
         "cmax": 13395127.46072631,
         "cmin": 0,
         "colorbar": {
          "tickformat": ",.0f",
          "title": {
           "text": "Projected Sales"
          }
         },
         "colorscale": [
          [
           0,
           "#440154"
          ],
          [
           0.2,
           "#414487"
          ],
          [
           0.4,
           "#2a788e"
          ],
          [
           0.6,
           "#22a884"
          ],
          [
           0.8,
           "#7ad151"
          ],
          [
           1,
           "#fde725"
          ]
         ]
        },
        "geo": {
         "center": {},
         "countrycolor": "lightgray",
         "domain": {
          "x": [
           0,
           1
          ],
          "y": [
           0,
           1
          ]
         },
         "fitbounds": "locations",
         "landcolor": "lightgray",
         "scope": "asia",
         "showcoastlines": true,
         "showcountries": true,
         "showland": true,
         "visible": false
        },
        "height": 600,
        "legend": {
         "tracegroupgap": 0
        },
        "margin": {
         "b": 0,
         "l": 0,
         "r": 0,
         "t": 40
        },
        "template": {
         "data": {
          "bar": [
           {
            "error_x": {
             "color": "#2a3f5f"
            },
            "error_y": {
             "color": "#2a3f5f"
            },
            "marker": {
             "line": {
              "color": "#E5ECF6",
              "width": 0.5
             },
             "pattern": {
              "fillmode": "overlay",
              "size": 10,
              "solidity": 0.2
             }
            },
            "type": "bar"
           }
          ],
          "barpolar": [
           {
            "marker": {
             "line": {
              "color": "#E5ECF6",
              "width": 0.5
             },
             "pattern": {
              "fillmode": "overlay",
              "size": 10,
              "solidity": 0.2
             }
            },
            "type": "barpolar"
           }
          ],
          "carpet": [
           {
            "aaxis": {
             "endlinecolor": "#2a3f5f",
             "gridcolor": "white",
             "linecolor": "white",
             "minorgridcolor": "white",
             "startlinecolor": "#2a3f5f"
            },
            "baxis": {
             "endlinecolor": "#2a3f5f",
             "gridcolor": "white",
             "linecolor": "white",
             "minorgridcolor": "white",
             "startlinecolor": "#2a3f5f"
            },
            "type": "carpet"
           }
          ],
          "choropleth": [
           {
            "colorbar": {
             "outlinewidth": 0,
             "ticks": ""
            },
            "type": "choropleth"
           }
          ],
          "contour": [
           {
            "colorbar": {
             "outlinewidth": 0,
             "ticks": ""
            },
            "colorscale": [
             [
              0,
              "#0d0887"
             ],
             [
              0.1111111111111111,
              "#46039f"
             ],
             [
              0.2222222222222222,
              "#7201a8"
             ],
             [
              0.3333333333333333,
              "#9c179e"
             ],
             [
              0.4444444444444444,
              "#bd3786"
             ],
             [
              0.5555555555555556,
              "#d8576b"
             ],
             [
              0.6666666666666666,
              "#ed7953"
             ],
             [
              0.7777777777777778,
              "#fb9f3a"
             ],
             [
              0.8888888888888888,
              "#fdca26"
             ],
             [
              1,
              "#f0f921"
             ]
            ],
            "type": "contour"
           }
          ],
          "contourcarpet": [
           {
            "colorbar": {
             "outlinewidth": 0,
             "ticks": ""
            },
            "type": "contourcarpet"
           }
          ],
          "heatmap": [
           {
            "colorbar": {
             "outlinewidth": 0,
             "ticks": ""
            },
            "colorscale": [
             [
              0,
              "#0d0887"
             ],
             [
              0.1111111111111111,
              "#46039f"
             ],
             [
              0.2222222222222222,
              "#7201a8"
             ],
             [
              0.3333333333333333,
              "#9c179e"
             ],
             [
              0.4444444444444444,
              "#bd3786"
             ],
             [
              0.5555555555555556,
              "#d8576b"
             ],
             [
              0.6666666666666666,
              "#ed7953"
             ],
             [
              0.7777777777777778,
              "#fb9f3a"
             ],
             [
              0.8888888888888888,
              "#fdca26"
             ],
             [
              1,
              "#f0f921"
             ]
            ],
            "type": "heatmap"
           }
          ],
          "histogram": [
           {
            "marker": {
             "pattern": {
              "fillmode": "overlay",
              "size": 10,
              "solidity": 0.2
             }
            },
            "type": "histogram"
           }
          ],
          "histogram2d": [
           {
            "colorbar": {
             "outlinewidth": 0,
             "ticks": ""
            },
            "colorscale": [
             [
              0,
              "#0d0887"
             ],
             [
              0.1111111111111111,
              "#46039f"
             ],
             [
              0.2222222222222222,
              "#7201a8"
             ],
             [
              0.3333333333333333,
              "#9c179e"
             ],
             [
              0.4444444444444444,
              "#bd3786"
             ],
             [
              0.5555555555555556,
              "#d8576b"
             ],
             [
              0.6666666666666666,
              "#ed7953"
             ],
             [
              0.7777777777777778,
              "#fb9f3a"
             ],
             [
              0.8888888888888888,
              "#fdca26"
             ],
             [
              1,
              "#f0f921"
             ]
            ],
            "type": "histogram2d"
           }
          ],
          "histogram2dcontour": [
           {
            "colorbar": {
             "outlinewidth": 0,
             "ticks": ""
            },
            "colorscale": [
             [
              0,
              "#0d0887"
             ],
             [
              0.1111111111111111,
              "#46039f"
             ],
             [
              0.2222222222222222,
              "#7201a8"
             ],
             [
              0.3333333333333333,
              "#9c179e"
             ],
             [
              0.4444444444444444,
              "#bd3786"
             ],
             [
              0.5555555555555556,
              "#d8576b"
             ],
             [
              0.6666666666666666,
              "#ed7953"
             ],
             [
              0.7777777777777778,
              "#fb9f3a"
             ],
             [
              0.8888888888888888,
              "#fdca26"
             ],
             [
              1,
              "#f0f921"
             ]
            ],
            "type": "histogram2dcontour"
           }
          ],
          "mesh3d": [
           {
            "colorbar": {
             "outlinewidth": 0,
             "ticks": ""
            },
            "type": "mesh3d"
           }
          ],
          "parcoords": [
           {
            "line": {
             "colorbar": {
              "outlinewidth": 0,
              "ticks": ""
             }
            },
            "type": "parcoords"
           }
          ],
          "pie": [
           {
            "automargin": true,
            "type": "pie"
           }
          ],
          "scatter": [
           {
            "fillpattern": {
             "fillmode": "overlay",
             "size": 10,
             "solidity": 0.2
            },
            "type": "scatter"
           }
          ],
          "scatter3d": [
           {
            "line": {
             "colorbar": {
              "outlinewidth": 0,
              "ticks": ""
             }
            },
            "marker": {
             "colorbar": {
              "outlinewidth": 0,
              "ticks": ""
             }
            },
            "type": "scatter3d"
           }
          ],
          "scattercarpet": [
           {
            "marker": {
             "colorbar": {
              "outlinewidth": 0,
              "ticks": ""
             }
            },
            "type": "scattercarpet"
           }
          ],
          "scattergeo": [
           {
            "marker": {
             "colorbar": {
              "outlinewidth": 0,
              "ticks": ""
             }
            },
            "type": "scattergeo"
           }
          ],
          "scattergl": [
           {
            "marker": {
             "colorbar": {
              "outlinewidth": 0,
              "ticks": ""
             }
            },
            "type": "scattergl"
           }
          ],
          "scattermap": [
           {
            "marker": {
             "colorbar": {
              "outlinewidth": 0,
              "ticks": ""
             }
            },
            "type": "scattermap"
           }
          ],
          "scattermapbox": [
           {
            "marker": {
             "colorbar": {
              "outlinewidth": 0,
              "ticks": ""
             }
            },
            "type": "scattermapbox"
           }
          ],
          "scatterpolar": [
           {
            "marker": {
             "colorbar": {
              "outlinewidth": 0,
              "ticks": ""
             }
            },
            "type": "scatterpolar"
           }
          ],
          "scatterpolargl": [
           {
            "marker": {
             "colorbar": {
              "outlinewidth": 0,
              "ticks": ""
             }
            },
            "type": "scatterpolargl"
           }
          ],
          "scatterternary": [
           {
            "marker": {
             "colorbar": {
              "outlinewidth": 0,
              "ticks": ""
             }
            },
            "type": "scatterternary"
           }
          ],
          "surface": [
           {
            "colorbar": {
             "outlinewidth": 0,
             "ticks": ""
            },
            "colorscale": [
             [
              0,
              "#0d0887"
             ],
             [
              0.1111111111111111,
              "#46039f"
             ],
             [
              0.2222222222222222,
              "#7201a8"
             ],
             [
              0.3333333333333333,
              "#9c179e"
             ],
             [
              0.4444444444444444,
              "#bd3786"
             ],
             [
              0.5555555555555556,
              "#d8576b"
             ],
             [
              0.6666666666666666,
              "#ed7953"
             ],
             [
              0.7777777777777778,
              "#fb9f3a"
             ],
             [
              0.8888888888888888,
              "#fdca26"
             ],
             [
              1,
              "#f0f921"
             ]
            ],
            "type": "surface"
           }
          ],
          "table": [
           {
            "cells": {
             "fill": {
              "color": "#EBF0F8"
             },
             "line": {
              "color": "white"
             }
            },
            "header": {
             "fill": {
              "color": "#C8D4E3"
             },
             "line": {
              "color": "white"
             }
            },
            "type": "table"
           }
          ]
         },
         "layout": {
          "annotationdefaults": {
           "arrowcolor": "#2a3f5f",
           "arrowhead": 0,
           "arrowwidth": 1
          },
          "autotypenumbers": "strict",
          "coloraxis": {
           "colorbar": {
            "outlinewidth": 0,
            "ticks": ""
           }
          },
          "colorscale": {
           "diverging": [
            [
             0,
             "#8e0152"
            ],
            [
             0.1,
             "#c51b7d"
            ],
            [
             0.2,
             "#de77ae"
            ],
            [
             0.3,
             "#f1b6da"
            ],
            [
             0.4,
             "#fde0ef"
            ],
            [
             0.5,
             "#f7f7f7"
            ],
            [
             0.6,
             "#e6f5d0"
            ],
            [
             0.7,
             "#b8e186"
            ],
            [
             0.8,
             "#7fbc41"
            ],
            [
             0.9,
             "#4d9221"
            ],
            [
             1,
             "#276419"
            ]
           ],
           "sequential": [
            [
             0,
             "#0d0887"
            ],
            [
             0.1111111111111111,
             "#46039f"
            ],
            [
             0.2222222222222222,
             "#7201a8"
            ],
            [
             0.3333333333333333,
             "#9c179e"
            ],
            [
             0.4444444444444444,
             "#bd3786"
            ],
            [
             0.5555555555555556,
             "#d8576b"
            ],
            [
             0.6666666666666666,
             "#ed7953"
            ],
            [
             0.7777777777777778,
             "#fb9f3a"
            ],
            [
             0.8888888888888888,
             "#fdca26"
            ],
            [
             1,
             "#f0f921"
            ]
           ],
           "sequentialminus": [
            [
             0,
             "#0d0887"
            ],
            [
             0.1111111111111111,
             "#46039f"
            ],
            [
             0.2222222222222222,
             "#7201a8"
            ],
            [
             0.3333333333333333,
             "#9c179e"
            ],
            [
             0.4444444444444444,
             "#bd3786"
            ],
            [
             0.5555555555555556,
             "#d8576b"
            ],
            [
             0.6666666666666666,
             "#ed7953"
            ],
            [
             0.7777777777777778,
             "#fb9f3a"
            ],
            [
             0.8888888888888888,
             "#fdca26"
            ],
            [
             1,
             "#f0f921"
            ]
           ]
          },
          "colorway": [
           "#636efa",
           "#EF553B",
           "#00cc96",
           "#ab63fa",
           "#FFA15A",
           "#19d3f3",
           "#FF6692",
           "#B6E880",
           "#FF97FF",
           "#FECB52"
          ],
          "font": {
           "color": "#2a3f5f"
          },
          "geo": {
           "bgcolor": "white",
           "lakecolor": "white",
           "landcolor": "#E5ECF6",
           "showlakes": true,
           "showland": true,
           "subunitcolor": "white"
          },
          "hoverlabel": {
           "align": "left"
          },
          "hovermode": "closest",
          "mapbox": {
           "style": "light"
          },
          "paper_bgcolor": "white",
          "plot_bgcolor": "#E5ECF6",
          "polar": {
           "angularaxis": {
            "gridcolor": "white",
            "linecolor": "white",
            "ticks": ""
           },
           "bgcolor": "#E5ECF6",
           "radialaxis": {
            "gridcolor": "white",
            "linecolor": "white",
            "ticks": ""
           }
          },
          "scene": {
           "xaxis": {
            "backgroundcolor": "#E5ECF6",
            "gridcolor": "white",
            "gridwidth": 2,
            "linecolor": "white",
            "showbackground": true,
            "ticks": "",
            "zerolinecolor": "white"
           },
           "yaxis": {
            "backgroundcolor": "#E5ECF6",
            "gridcolor": "white",
            "gridwidth": 2,
            "linecolor": "white",
            "showbackground": true,
            "ticks": "",
            "zerolinecolor": "white"
           },
           "zaxis": {
            "backgroundcolor": "#E5ECF6",
            "gridcolor": "white",
            "gridwidth": 2,
            "linecolor": "white",
            "showbackground": true,
            "ticks": "",
            "zerolinecolor": "white"
           }
          },
          "shapedefaults": {
           "line": {
            "color": "#2a3f5f"
           }
          },
          "ternary": {
           "aaxis": {
            "gridcolor": "white",
            "linecolor": "white",
            "ticks": ""
           },
           "baxis": {
            "gridcolor": "white",
            "linecolor": "white",
            "ticks": ""
           },
           "bgcolor": "#E5ECF6",
           "caxis": {
            "gridcolor": "white",
            "linecolor": "white",
            "ticks": ""
           }
          },
          "title": {
           "x": 0.05
          },
          "xaxis": {
           "automargin": true,
           "gridcolor": "white",
           "linecolor": "white",
           "ticks": "",
           "title": {
            "standoff": 15
           },
           "zerolinecolor": "white",
           "zerolinewidth": 2
          },
          "yaxis": {
           "automargin": true,
           "gridcolor": "white",
           "linecolor": "white",
           "ticks": "",
           "title": {
            "standoff": 15
           },
           "zerolinecolor": "white",
           "zerolinewidth": 2
          }
         }
        },
        "title": {
         "text": "Projected EV Sales by State in 2030"
        }
       }
      }
     },
     "metadata": {},
     "output_type": "display_data"
    }
   ],
   "source": [
    "# Create a choropleth map (assuming you have state codes)\n",
    "# You might need to map state names to state codes\n",
    "state_codes = {\n",
    "    \"Andaman and Nicobar Islands\": \"AN\",\n",
    "    \"Andhra Pradesh\": \"AP\",\n",
    "    \"Arunachal Pradesh\": \"AR\",\n",
    "    \"Assam\": \"AS\",\n",
    "    \"Bihar\": \"BR\",\n",
    "    \"Chandigarh\": \"CH\",\n",
    "    \"Chhattisgarh\": \"CT\",\n",
    "    \"Dadra and Nagar Haveli and Daman and Diu\": \"DN\",\n",
    "    \"Delhi\": \"DL\",\n",
    "    \"Goa\": \"GA\",\n",
    "    \"Gujarat\": \"GJ\",\n",
    "    \"Haryana\": \"HR\",\n",
    "    \"Himachal Pradesh\": \"HP\",\n",
    "    \"Jammu and Kashmir\": \"JK\",\n",
    "    \"Jharkhand\": \"JH\",\n",
    "    \"Karnataka\": \"KA\",\n",
    "    \"Kerala\": \"KL\",\n",
    "    \"Ladakh\": \"LA\",\n",
    "    \"Madhya Pradesh\": \"MP\",\n",
    "    \"Maharashtra\": \"MH\",\n",
    "    \"Manipur\": \"MN\",\n",
    "    \"Meghalaya\": \"ML\",\n",
    "    \"Mizoram\": \"MZ\",\n",
    "    \"Nagaland\": \"NL\",\n",
    "    \"Odisha\": \"OD\",\n",
    "    \"Puducherry\": \"PY\",\n",
    "    \"Punjab\": \"PB\",\n",
    "    \"Rajasthan\": \"RJ\",\n",
    "    \"Sikkim\": \"SK\",\n",
    "    \"Tamil Nadu\": \"TN\",\n",
    "    \"Tripura\": \"TR\",\n",
    "    \"Uttar Pradesh\": \"UP\",\n",
    "    \"Uttarakhand\": \"UT\",\n",
    "    \"West Bengal\": \"WB\",\n",
    "}\n",
    "\n",
    "\n",
    "proj_df['state_code'] = proj_df['State'].map(state_codes)\n",
    "\n",
    "color_scale = [\n",
    "    [0, '#440154'],    # Dark purple for lowest values\n",
    "    [0.2, '#414487'],  # Blue-purple\n",
    "    [0.4, '#2a788e'],  # Teal\n",
    "    [0.6, '#22a884'],  # Green\n",
    "    [0.8, '#7ad151'],  # Light green\n",
    "    [1.0, '#fde725']   # Yellow for highest values\n",
    "]\n",
    "\n",
    "# Using choropleth map with the correct parameters\n",
    "fig = px.choropleth(\n",
    "    proj_df,\n",
    "    geojson=\"https://gist.githubusercontent.com/jbrobst/56c13bbbf9d97d187fea01ca62ea5112/raw/e388c4cae20aa53cb5090210a42ebb9b765c0a36/india_states.geojson\",\n",
    "    featureidkey='properties.ST_NM',\n",
    "    locations='State',\n",
    "    color='Projected_Sales_2030',\n",
    "    color_continuous_scale=color_scale,\n",
    "    range_color=[0, proj_df['Projected_Sales_2030'].max()],\n",
    "    scope=\"asia\",\n",
    "    labels={'Projected_Sales_2030': 'Projected Sales'},\n",
    "    title='Projected EV Sales by State in 2030',\n",
    "    hover_data=['Projected_Sales_2030_readable']  # Show human-readable numbers on hover\n",
    ")\n",
    "\n",
    "fig.update_geos(\n",
    "    visible=False,\n",
    "    fitbounds=\"locations\", \n",
    "    showcountries=True,\n",
    "    showcoastlines=True,\n",
    "    showland=True,\n",
    "    countrycolor=\"lightgray\",\n",
    "    landcolor=\"lightgray\"\n",
    ")\n",
    "\n",
    "fig.update_layout(\n",
    "    margin={\"r\":0,\"t\":40,\"l\":0,\"b\":0}, \n",
    "    height=600,\n",
    "    coloraxis_colorbar=dict(\n",
    "        title=\"Projected Sales\",\n",
    "        tickformat=\",.0f\"\n",
    "    )\n",
    ")\n",
    "fig.show()"
   ]
  },
  {
   "cell_type": "markdown",
   "id": "e467af1e",
   "metadata": {},
   "source": [
    "You have several excellent alternatives for visualizing \"Projected EV Sales by State in 2030\" beyond the horizontal bar chart you're currently using. Here are some compelling options:\n",
    "\n",
    "1. Geographic Choropleth Map\n",
    "2. Treemap for Hierarchical Visualization\n",
    "3. Bubble Chart with CAGR Relationship\n",
    "4. Lollipop Chart (Elegant Alternative to Bar Chart)\n",
    "5. Donut Chart for Market Share Visualization"
   ]
  },
  {
   "cell_type": "code",
   "execution_count": 16,
   "id": "b1375ad9",
   "metadata": {},
   "outputs": [
    {
     "data": {
      "text/html": [
       "<div>\n",
       "<style scoped>\n",
       "    .dataframe tbody tr th:only-of-type {\n",
       "        vertical-align: middle;\n",
       "    }\n",
       "\n",
       "    .dataframe tbody tr th {\n",
       "        vertical-align: top;\n",
       "    }\n",
       "\n",
       "    .dataframe thead th {\n",
       "        text-align: right;\n",
       "    }\n",
       "</style>\n",
       "<table border=\"1\" class=\"dataframe\">\n",
       "  <thead>\n",
       "    <tr style=\"text-align: right;\">\n",
       "      <th></th>\n",
       "      <th>State</th>\n",
       "      <th>Projected_Sales_2030</th>\n",
       "      <th>Projected_Sales_2030_readable</th>\n",
       "      <th>state_code</th>\n",
       "      <th>latitude</th>\n",
       "      <th>longitude</th>\n",
       "    </tr>\n",
       "  </thead>\n",
       "  <tbody>\n",
       "    <tr>\n",
       "      <th>0</th>\n",
       "      <td>Maharashtra</td>\n",
       "      <td>13,395,127</td>\n",
       "      <td>13.4 million</td>\n",
       "      <td>MH</td>\n",
       "      <td>19</td>\n",
       "      <td>76</td>\n",
       "    </tr>\n",
       "    <tr>\n",
       "      <th>1</th>\n",
       "      <td>Kerala</td>\n",
       "      <td>11,830,503</td>\n",
       "      <td>11.8 million</td>\n",
       "      <td>KL</td>\n",
       "      <td>10</td>\n",
       "      <td>77</td>\n",
       "    </tr>\n",
       "    <tr>\n",
       "      <th>2</th>\n",
       "      <td>Gujarat</td>\n",
       "      <td>8,567,496</td>\n",
       "      <td>8.6 million</td>\n",
       "      <td>GJ</td>\n",
       "      <td>22</td>\n",
       "      <td>72</td>\n",
       "    </tr>\n",
       "    <tr>\n",
       "      <th>3</th>\n",
       "      <td>Karnataka</td>\n",
       "      <td>8,320,321</td>\n",
       "      <td>8.3 million</td>\n",
       "      <td>KA</td>\n",
       "      <td>15</td>\n",
       "      <td>76</td>\n",
       "    </tr>\n",
       "    <tr>\n",
       "      <th>4</th>\n",
       "      <td>Chhattisgarh</td>\n",
       "      <td>7,136,681</td>\n",
       "      <td>7.1 million</td>\n",
       "      <td>CT</td>\n",
       "      <td>22</td>\n",
       "      <td>82</td>\n",
       "    </tr>\n",
       "    <tr>\n",
       "      <th>5</th>\n",
       "      <td>Odisha</td>\n",
       "      <td>2,737,492</td>\n",
       "      <td>2.7 million</td>\n",
       "      <td>OD</td>\n",
       "      <td>21</td>\n",
       "      <td>85</td>\n",
       "    </tr>\n",
       "    <tr>\n",
       "      <th>6</th>\n",
       "      <td>Goa</td>\n",
       "      <td>2,393,284</td>\n",
       "      <td>2.4 million</td>\n",
       "      <td>GA</td>\n",
       "      <td>15</td>\n",
       "      <td>74</td>\n",
       "    </tr>\n",
       "    <tr>\n",
       "      <th>7</th>\n",
       "      <td>Tamil Nadu</td>\n",
       "      <td>1,582,326</td>\n",
       "      <td>1.6 million</td>\n",
       "      <td>TN</td>\n",
       "      <td>11</td>\n",
       "      <td>78</td>\n",
       "    </tr>\n",
       "    <tr>\n",
       "      <th>8</th>\n",
       "      <td>Delhi</td>\n",
       "      <td>1,050,499</td>\n",
       "      <td>1.1 million</td>\n",
       "      <td>DL</td>\n",
       "      <td>29</td>\n",
       "      <td>77</td>\n",
       "    </tr>\n",
       "    <tr>\n",
       "      <th>9</th>\n",
       "      <td>Chandigarh</td>\n",
       "      <td>996,357</td>\n",
       "      <td>996.4 thousand</td>\n",
       "      <td>CH</td>\n",
       "      <td>31</td>\n",
       "      <td>77</td>\n",
       "    </tr>\n",
       "  </tbody>\n",
       "</table>\n",
       "</div>"
      ],
      "text/plain": [
       "          State  Projected_Sales_2030 Projected_Sales_2030_readable  \\\n",
       "0   Maharashtra            13,395,127                  13.4 million   \n",
       "1        Kerala            11,830,503                  11.8 million   \n",
       "2       Gujarat             8,567,496                   8.6 million   \n",
       "3     Karnataka             8,320,321                   8.3 million   \n",
       "4  Chhattisgarh             7,136,681                   7.1 million   \n",
       "5        Odisha             2,737,492                   2.7 million   \n",
       "6           Goa             2,393,284                   2.4 million   \n",
       "7    Tamil Nadu             1,582,326                   1.6 million   \n",
       "8         Delhi             1,050,499                   1.1 million   \n",
       "9    Chandigarh               996,357                996.4 thousand   \n",
       "\n",
       "  state_code  latitude  longitude  \n",
       "0         MH        19         76  \n",
       "1         KL        10         77  \n",
       "2         GJ        22         72  \n",
       "3         KA        15         76  \n",
       "4         CT        22         82  \n",
       "5         OD        21         85  \n",
       "6         GA        15         74  \n",
       "7         TN        11         78  \n",
       "8         DL        29         77  \n",
       "9         CH        31         77  "
      ]
     },
     "metadata": {},
     "output_type": "display_data"
    }
   ],
   "source": [
    "from geopy.geocoders import Nominatim\n",
    "import time\n",
    "\n",
    "# Initialize the geolocator\n",
    "geolocator = Nominatim(user_agent=\"india-state-geocoder\")\n",
    "\n",
    "\n",
    "# Create a function to fetch coordinates\n",
    "def get_coordinates(state_name):\n",
    "    try:\n",
    "        location = geolocator.geocode(f\"{state_name}, India\")\n",
    "        if location:\n",
    "            return pd.Series(\n",
    "                {\"latitude\": location.latitude, \"longitude\": location.longitude}\n",
    "            )\n",
    "        return pd.Series({\"latitude\": None, \"longitude\": None})\n",
    "    except Exception as e:\n",
    "        print(f\"Error for {state_name}: {e}\")\n",
    "        return pd.Series({\"latitude\": None, \"longitude\": None})\n",
    "\n",
    "\n",
    "# Apply to unique state names and create DataFrame directly\n",
    "unique_states = proj_df[\"State\"].dropna().drop_duplicates()\n",
    "state_coords = unique_states.apply(get_coordinates)\n",
    "state_coords_df = pd.DataFrame(state_coords)\n",
    "state_coords_df[\"State\"] = unique_states.values\n",
    "\n",
    "# Merge back with original df\n",
    "df = proj_df.merge(state_coords_df, on=\"State\", how=\"left\")\n",
    "\n",
    "display(df)"
   ]
  },
  {
   "cell_type": "code",
   "execution_count": 18,
   "id": "6c569818",
   "metadata": {},
   "outputs": [
    {
     "data": {
      "text/plain": [
       "State                            0\n",
       "Projected_Sales_2030             0\n",
       "Projected_Sales_2030_readable    0\n",
       "state_code                       0\n",
       "latitude                         0\n",
       "longitude                        0\n",
       "dtype: int64"
      ]
     },
     "execution_count": 18,
     "metadata": {},
     "output_type": "execute_result"
    }
   ],
   "source": [
    "df.isnull().sum()"
   ]
  },
  {
   "cell_type": "code",
   "execution_count": 19,
   "id": "8405925a",
   "metadata": {},
   "outputs": [],
   "source": [
    "def classify_region(lat, lon):\n",
    "    if lat >= 28:\n",
    "        if lon >= 85:\n",
    "            return \"Northeast\"\n",
    "        elif lon >= 75:\n",
    "            return \"North\"\n",
    "        else:\n",
    "            return \"Northwest\"\n",
    "    elif 23 <= lat < 28:\n",
    "        return \"Central\"\n",
    "    elif lat < 23:\n",
    "        if lon < 80:\n",
    "            return \"West\"\n",
    "        else:\n",
    "            return \"South\""
   ]
  },
  {
   "cell_type": "code",
   "execution_count": 20,
   "id": "d0a6be6e",
   "metadata": {},
   "outputs": [
    {
     "name": "stdout",
     "output_type": "stream",
     "text": [
      "\n",
      "Updated DataFrame with Regions:\n"
     ]
    },
    {
     "data": {
      "text/html": [
       "<div>\n",
       "<style scoped>\n",
       "    .dataframe tbody tr th:only-of-type {\n",
       "        vertical-align: middle;\n",
       "    }\n",
       "\n",
       "    .dataframe tbody tr th {\n",
       "        vertical-align: top;\n",
       "    }\n",
       "\n",
       "    .dataframe thead th {\n",
       "        text-align: right;\n",
       "    }\n",
       "</style>\n",
       "<table border=\"1\" class=\"dataframe\">\n",
       "  <thead>\n",
       "    <tr style=\"text-align: right;\">\n",
       "      <th></th>\n",
       "      <th>State</th>\n",
       "      <th>Projected_Sales_2030</th>\n",
       "      <th>Projected_Sales_2030_readable</th>\n",
       "      <th>state_code</th>\n",
       "      <th>latitude</th>\n",
       "      <th>longitude</th>\n",
       "      <th>region</th>\n",
       "    </tr>\n",
       "  </thead>\n",
       "  <tbody>\n",
       "    <tr>\n",
       "      <th>0</th>\n",
       "      <td>Maharashtra</td>\n",
       "      <td>13,395,127</td>\n",
       "      <td>13.4 million</td>\n",
       "      <td>MH</td>\n",
       "      <td>19</td>\n",
       "      <td>76</td>\n",
       "      <td>West</td>\n",
       "    </tr>\n",
       "    <tr>\n",
       "      <th>1</th>\n",
       "      <td>Kerala</td>\n",
       "      <td>11,830,503</td>\n",
       "      <td>11.8 million</td>\n",
       "      <td>KL</td>\n",
       "      <td>10</td>\n",
       "      <td>77</td>\n",
       "      <td>West</td>\n",
       "    </tr>\n",
       "    <tr>\n",
       "      <th>2</th>\n",
       "      <td>Gujarat</td>\n",
       "      <td>8,567,496</td>\n",
       "      <td>8.6 million</td>\n",
       "      <td>GJ</td>\n",
       "      <td>22</td>\n",
       "      <td>72</td>\n",
       "      <td>West</td>\n",
       "    </tr>\n",
       "    <tr>\n",
       "      <th>3</th>\n",
       "      <td>Karnataka</td>\n",
       "      <td>8,320,321</td>\n",
       "      <td>8.3 million</td>\n",
       "      <td>KA</td>\n",
       "      <td>15</td>\n",
       "      <td>76</td>\n",
       "      <td>West</td>\n",
       "    </tr>\n",
       "    <tr>\n",
       "      <th>4</th>\n",
       "      <td>Chhattisgarh</td>\n",
       "      <td>7,136,681</td>\n",
       "      <td>7.1 million</td>\n",
       "      <td>CT</td>\n",
       "      <td>22</td>\n",
       "      <td>82</td>\n",
       "      <td>South</td>\n",
       "    </tr>\n",
       "    <tr>\n",
       "      <th>5</th>\n",
       "      <td>Odisha</td>\n",
       "      <td>2,737,492</td>\n",
       "      <td>2.7 million</td>\n",
       "      <td>OD</td>\n",
       "      <td>21</td>\n",
       "      <td>85</td>\n",
       "      <td>South</td>\n",
       "    </tr>\n",
       "    <tr>\n",
       "      <th>6</th>\n",
       "      <td>Goa</td>\n",
       "      <td>2,393,284</td>\n",
       "      <td>2.4 million</td>\n",
       "      <td>GA</td>\n",
       "      <td>15</td>\n",
       "      <td>74</td>\n",
       "      <td>West</td>\n",
       "    </tr>\n",
       "    <tr>\n",
       "      <th>7</th>\n",
       "      <td>Tamil Nadu</td>\n",
       "      <td>1,582,326</td>\n",
       "      <td>1.6 million</td>\n",
       "      <td>TN</td>\n",
       "      <td>11</td>\n",
       "      <td>78</td>\n",
       "      <td>West</td>\n",
       "    </tr>\n",
       "    <tr>\n",
       "      <th>8</th>\n",
       "      <td>Delhi</td>\n",
       "      <td>1,050,499</td>\n",
       "      <td>1.1 million</td>\n",
       "      <td>DL</td>\n",
       "      <td>29</td>\n",
       "      <td>77</td>\n",
       "      <td>North</td>\n",
       "    </tr>\n",
       "    <tr>\n",
       "      <th>9</th>\n",
       "      <td>Chandigarh</td>\n",
       "      <td>996,357</td>\n",
       "      <td>996.4 thousand</td>\n",
       "      <td>CH</td>\n",
       "      <td>31</td>\n",
       "      <td>77</td>\n",
       "      <td>North</td>\n",
       "    </tr>\n",
       "  </tbody>\n",
       "</table>\n",
       "</div>"
      ],
      "text/plain": [
       "          State  Projected_Sales_2030 Projected_Sales_2030_readable  \\\n",
       "0   Maharashtra            13,395,127                  13.4 million   \n",
       "1        Kerala            11,830,503                  11.8 million   \n",
       "2       Gujarat             8,567,496                   8.6 million   \n",
       "3     Karnataka             8,320,321                   8.3 million   \n",
       "4  Chhattisgarh             7,136,681                   7.1 million   \n",
       "5        Odisha             2,737,492                   2.7 million   \n",
       "6           Goa             2,393,284                   2.4 million   \n",
       "7    Tamil Nadu             1,582,326                   1.6 million   \n",
       "8         Delhi             1,050,499                   1.1 million   \n",
       "9    Chandigarh               996,357                996.4 thousand   \n",
       "\n",
       "  state_code  latitude  longitude region  \n",
       "0         MH        19         76   West  \n",
       "1         KL        10         77   West  \n",
       "2         GJ        22         72   West  \n",
       "3         KA        15         76   West  \n",
       "4         CT        22         82  South  \n",
       "5         OD        21         85  South  \n",
       "6         GA        15         74   West  \n",
       "7         TN        11         78   West  \n",
       "8         DL        29         77  North  \n",
       "9         CH        31         77  North  "
      ]
     },
     "metadata": {},
     "output_type": "display_data"
    },
    {
     "data": {
      "text/plain": [
       "region\n",
       "West     6\n",
       "South    2\n",
       "North    2\n",
       "Name: count, dtype: int64"
      ]
     },
     "metadata": {},
     "output_type": "display_data"
    }
   ],
   "source": [
    "df[\"region\"] = df.apply(\n",
    "    lambda row: classify_region(row[\"latitude\"], row[\"longitude\"]), axis=1\n",
    ")\n",
    "\n",
    "\n",
    "# Display the updated DataFrame with regions\n",
    "print(\"\\nUpdated DataFrame with Regions:\")\n",
    "display(df)\n",
    "\n",
    "display(df[\"region\"].value_counts())"
   ]
  },
  {
   "cell_type": "code",
   "execution_count": 23,
   "id": "2ff9c1e7",
   "metadata": {},
   "outputs": [
    {
     "data": {
      "text/html": [
       "<div>\n",
       "<style scoped>\n",
       "    .dataframe tbody tr th:only-of-type {\n",
       "        vertical-align: middle;\n",
       "    }\n",
       "\n",
       "    .dataframe tbody tr th {\n",
       "        vertical-align: top;\n",
       "    }\n",
       "\n",
       "    .dataframe thead th {\n",
       "        text-align: right;\n",
       "    }\n",
       "</style>\n",
       "<table border=\"1\" class=\"dataframe\">\n",
       "  <thead>\n",
       "    <tr style=\"text-align: right;\">\n",
       "      <th></th>\n",
       "      <th>State</th>\n",
       "      <th>Projected_Sales_2030</th>\n",
       "      <th>Projected_Sales_2030_readable</th>\n",
       "      <th>state_code</th>\n",
       "      <th>latitude</th>\n",
       "      <th>longitude</th>\n",
       "      <th>region</th>\n",
       "    </tr>\n",
       "  </thead>\n",
       "  <tbody>\n",
       "    <tr>\n",
       "      <th>0</th>\n",
       "      <td>Maharashtra</td>\n",
       "      <td>13,395,127</td>\n",
       "      <td>13.4 million</td>\n",
       "      <td>MH</td>\n",
       "      <td>19</td>\n",
       "      <td>76</td>\n",
       "      <td>West</td>\n",
       "    </tr>\n",
       "    <tr>\n",
       "      <th>1</th>\n",
       "      <td>Kerala</td>\n",
       "      <td>11,830,503</td>\n",
       "      <td>11.8 million</td>\n",
       "      <td>KL</td>\n",
       "      <td>10</td>\n",
       "      <td>77</td>\n",
       "      <td>West</td>\n",
       "    </tr>\n",
       "    <tr>\n",
       "      <th>2</th>\n",
       "      <td>Gujarat</td>\n",
       "      <td>8,567,496</td>\n",
       "      <td>8.6 million</td>\n",
       "      <td>GJ</td>\n",
       "      <td>22</td>\n",
       "      <td>72</td>\n",
       "      <td>West</td>\n",
       "    </tr>\n",
       "    <tr>\n",
       "      <th>3</th>\n",
       "      <td>Karnataka</td>\n",
       "      <td>8,320,321</td>\n",
       "      <td>8.3 million</td>\n",
       "      <td>KA</td>\n",
       "      <td>15</td>\n",
       "      <td>76</td>\n",
       "      <td>West</td>\n",
       "    </tr>\n",
       "    <tr>\n",
       "      <th>4</th>\n",
       "      <td>Chhattisgarh</td>\n",
       "      <td>7,136,681</td>\n",
       "      <td>7.1 million</td>\n",
       "      <td>CT</td>\n",
       "      <td>22</td>\n",
       "      <td>82</td>\n",
       "      <td>South</td>\n",
       "    </tr>\n",
       "  </tbody>\n",
       "</table>\n",
       "</div>"
      ],
      "text/plain": [
       "          State  Projected_Sales_2030 Projected_Sales_2030_readable  \\\n",
       "0   Maharashtra            13,395,127                  13.4 million   \n",
       "1        Kerala            11,830,503                  11.8 million   \n",
       "2       Gujarat             8,567,496                   8.6 million   \n",
       "3     Karnataka             8,320,321                   8.3 million   \n",
       "4  Chhattisgarh             7,136,681                   7.1 million   \n",
       "\n",
       "  state_code  latitude  longitude region  \n",
       "0         MH        19         76   West  \n",
       "1         KL        10         77   West  \n",
       "2         GJ        22         72   West  \n",
       "3         KA        15         76   West  \n",
       "4         CT        22         82  South  "
      ]
     },
     "execution_count": 23,
     "metadata": {},
     "output_type": "execute_result"
    }
   ],
   "source": [
    "df.head()"
   ]
  },
  {
   "cell_type": "code",
   "execution_count": 25,
   "id": "d143b3c9",
   "metadata": {},
   "outputs": [],
   "source": [
    "df = df.rename(columns={\"State\": \"state\"})"
   ]
  },
  {
   "cell_type": "code",
   "execution_count": 26,
   "id": "44681653",
   "metadata": {},
   "outputs": [
    {
     "data": {
      "application/vnd.plotly.v1+json": {
       "config": {
        "plotlyServerURL": "https://plot.ly"
       },
       "data": [
        {
         "branchvalues": "total",
         "customdata": [
          [
           "13.4 million",
           13395127.46072631
          ],
          [
           "11.8 million",
           11830503.408882655
          ],
          [
           "8.6 million",
           8567496.384590909
          ],
          [
           "8.3 million",
           8320320.520483051
          ],
          [
           "7.1 million",
           7136681.211174085
          ],
          [
           "2.7 million",
           2737492.070330128
          ],
          [
           "2.4 million",
           2393283.7045919686
          ],
          [
           "1.6 million",
           1582326.3498240006
          ],
          [
           "1.1 million",
           1050499.1506704637
          ],
          [
           "996.4 thousand",
           996357.296377078
          ],
          [
           "(?)",
           10203105.990406068
          ],
          [
           "(?)",
           5917060.586174462
          ],
          [
           "(?)",
           1024144.2826276113
          ],
          [
           "(?)",
           9149682.79221117
          ]
         ],
         "domain": {
          "x": [
           0,
           1
          ],
          "y": [
           0,
           1
          ]
         },
         "hovertemplate": "<b>%{label}</b><br>Sales: %{customdata[0]}<br>Share: %{percentParent:.1%}<extra></extra>",
         "ids": [
          "India/West/Maharashtra",
          "India/West/Kerala",
          "India/West/Gujarat",
          "India/West/Karnataka",
          "India/South/Chhattisgarh",
          "India/South/Odisha",
          "India/West/Goa",
          "India/West/Tamil Nadu",
          "India/North/Delhi",
          "India/North/Chandigarh",
          "India/West",
          "India/South",
          "India/North",
          "India"
         ],
         "labels": [
          "Maharashtra",
          "Kerala",
          "Gujarat",
          "Karnataka",
          "Chhattisgarh",
          "Odisha",
          "Goa",
          "Tamil Nadu",
          "Delhi",
          "Chandigarh",
          "West",
          "South",
          "North",
          "India"
         ],
         "marker": {
          "coloraxis": "coloraxis",
          "colors": {
           "bdata": "GkW+7paMaUEUkRXtnJBmQZiRTgxZV2BBJZhPIVC9X0FP4INNajlbQeCTAAmq4kRB0xEw2mFCQkHSEI5Z9iQ4QepWkiaDBzBBg7y+lwpoLkERaLE//HVjQeThgyVhklZB95C0kCBBL0E9y1lZnnNhQQ==",
           "dtype": "f8"
          }
         },
         "name": "",
         "parents": [
          "India/West",
          "India/West",
          "India/West",
          "India/West",
          "India/South",
          "India/South",
          "India/West",
          "India/West",
          "India/North",
          "India/North",
          "India",
          "India",
          "India",
          ""
         ],
         "textinfo": "label+percent parent+value",
         "type": "treemap",
         "values": {
          "bdata": "GkW+7paMaUEUkRXtnJBmQZiRTgxZV2BBJZhPIVC9X0FP4INNajlbQeCTAAmq4kRB0xEw2mFCQkHSEI5Z9iQ4QepWkiaDBzBBg7y+lwpoLkGa/qEOG/qFQSAVAqlf1WJBLLVxcog7P0GLEXY8T6mLQQ==",
          "dtype": "f8"
         }
        }
       ],
       "layout": {
        "coloraxis": {
         "colorbar": {
          "title": {
           "text": "Projected_Sales_2030"
          }
         },
         "colorscale": [
          [
           0,
           "rgb(247,251,255)"
          ],
          [
           0.125,
           "rgb(222,235,247)"
          ],
          [
           0.25,
           "rgb(198,219,239)"
          ],
          [
           0.375,
           "rgb(158,202,225)"
          ],
          [
           0.5,
           "rgb(107,174,214)"
          ],
          [
           0.625,
           "rgb(66,146,198)"
          ],
          [
           0.75,
           "rgb(33,113,181)"
          ],
          [
           0.875,
           "rgb(8,81,156)"
          ],
          [
           1,
           "rgb(8,48,107)"
          ]
         ]
        },
        "height": 600,
        "legend": {
         "tracegroupgap": 0
        },
        "margin": {
         "b": 25,
         "l": 25,
         "r": 25,
         "t": 50
        },
        "template": {
         "data": {
          "bar": [
           {
            "error_x": {
             "color": "#2a3f5f"
            },
            "error_y": {
             "color": "#2a3f5f"
            },
            "marker": {
             "line": {
              "color": "#E5ECF6",
              "width": 0.5
             },
             "pattern": {
              "fillmode": "overlay",
              "size": 10,
              "solidity": 0.2
             }
            },
            "type": "bar"
           }
          ],
          "barpolar": [
           {
            "marker": {
             "line": {
              "color": "#E5ECF6",
              "width": 0.5
             },
             "pattern": {
              "fillmode": "overlay",
              "size": 10,
              "solidity": 0.2
             }
            },
            "type": "barpolar"
           }
          ],
          "carpet": [
           {
            "aaxis": {
             "endlinecolor": "#2a3f5f",
             "gridcolor": "white",
             "linecolor": "white",
             "minorgridcolor": "white",
             "startlinecolor": "#2a3f5f"
            },
            "baxis": {
             "endlinecolor": "#2a3f5f",
             "gridcolor": "white",
             "linecolor": "white",
             "minorgridcolor": "white",
             "startlinecolor": "#2a3f5f"
            },
            "type": "carpet"
           }
          ],
          "choropleth": [
           {
            "colorbar": {
             "outlinewidth": 0,
             "ticks": ""
            },
            "type": "choropleth"
           }
          ],
          "contour": [
           {
            "colorbar": {
             "outlinewidth": 0,
             "ticks": ""
            },
            "colorscale": [
             [
              0,
              "#0d0887"
             ],
             [
              0.1111111111111111,
              "#46039f"
             ],
             [
              0.2222222222222222,
              "#7201a8"
             ],
             [
              0.3333333333333333,
              "#9c179e"
             ],
             [
              0.4444444444444444,
              "#bd3786"
             ],
             [
              0.5555555555555556,
              "#d8576b"
             ],
             [
              0.6666666666666666,
              "#ed7953"
             ],
             [
              0.7777777777777778,
              "#fb9f3a"
             ],
             [
              0.8888888888888888,
              "#fdca26"
             ],
             [
              1,
              "#f0f921"
             ]
            ],
            "type": "contour"
           }
          ],
          "contourcarpet": [
           {
            "colorbar": {
             "outlinewidth": 0,
             "ticks": ""
            },
            "type": "contourcarpet"
           }
          ],
          "heatmap": [
           {
            "colorbar": {
             "outlinewidth": 0,
             "ticks": ""
            },
            "colorscale": [
             [
              0,
              "#0d0887"
             ],
             [
              0.1111111111111111,
              "#46039f"
             ],
             [
              0.2222222222222222,
              "#7201a8"
             ],
             [
              0.3333333333333333,
              "#9c179e"
             ],
             [
              0.4444444444444444,
              "#bd3786"
             ],
             [
              0.5555555555555556,
              "#d8576b"
             ],
             [
              0.6666666666666666,
              "#ed7953"
             ],
             [
              0.7777777777777778,
              "#fb9f3a"
             ],
             [
              0.8888888888888888,
              "#fdca26"
             ],
             [
              1,
              "#f0f921"
             ]
            ],
            "type": "heatmap"
           }
          ],
          "histogram": [
           {
            "marker": {
             "pattern": {
              "fillmode": "overlay",
              "size": 10,
              "solidity": 0.2
             }
            },
            "type": "histogram"
           }
          ],
          "histogram2d": [
           {
            "colorbar": {
             "outlinewidth": 0,
             "ticks": ""
            },
            "colorscale": [
             [
              0,
              "#0d0887"
             ],
             [
              0.1111111111111111,
              "#46039f"
             ],
             [
              0.2222222222222222,
              "#7201a8"
             ],
             [
              0.3333333333333333,
              "#9c179e"
             ],
             [
              0.4444444444444444,
              "#bd3786"
             ],
             [
              0.5555555555555556,
              "#d8576b"
             ],
             [
              0.6666666666666666,
              "#ed7953"
             ],
             [
              0.7777777777777778,
              "#fb9f3a"
             ],
             [
              0.8888888888888888,
              "#fdca26"
             ],
             [
              1,
              "#f0f921"
             ]
            ],
            "type": "histogram2d"
           }
          ],
          "histogram2dcontour": [
           {
            "colorbar": {
             "outlinewidth": 0,
             "ticks": ""
            },
            "colorscale": [
             [
              0,
              "#0d0887"
             ],
             [
              0.1111111111111111,
              "#46039f"
             ],
             [
              0.2222222222222222,
              "#7201a8"
             ],
             [
              0.3333333333333333,
              "#9c179e"
             ],
             [
              0.4444444444444444,
              "#bd3786"
             ],
             [
              0.5555555555555556,
              "#d8576b"
             ],
             [
              0.6666666666666666,
              "#ed7953"
             ],
             [
              0.7777777777777778,
              "#fb9f3a"
             ],
             [
              0.8888888888888888,
              "#fdca26"
             ],
             [
              1,
              "#f0f921"
             ]
            ],
            "type": "histogram2dcontour"
           }
          ],
          "mesh3d": [
           {
            "colorbar": {
             "outlinewidth": 0,
             "ticks": ""
            },
            "type": "mesh3d"
           }
          ],
          "parcoords": [
           {
            "line": {
             "colorbar": {
              "outlinewidth": 0,
              "ticks": ""
             }
            },
            "type": "parcoords"
           }
          ],
          "pie": [
           {
            "automargin": true,
            "type": "pie"
           }
          ],
          "scatter": [
           {
            "fillpattern": {
             "fillmode": "overlay",
             "size": 10,
             "solidity": 0.2
            },
            "type": "scatter"
           }
          ],
          "scatter3d": [
           {
            "line": {
             "colorbar": {
              "outlinewidth": 0,
              "ticks": ""
             }
            },
            "marker": {
             "colorbar": {
              "outlinewidth": 0,
              "ticks": ""
             }
            },
            "type": "scatter3d"
           }
          ],
          "scattercarpet": [
           {
            "marker": {
             "colorbar": {
              "outlinewidth": 0,
              "ticks": ""
             }
            },
            "type": "scattercarpet"
           }
          ],
          "scattergeo": [
           {
            "marker": {
             "colorbar": {
              "outlinewidth": 0,
              "ticks": ""
             }
            },
            "type": "scattergeo"
           }
          ],
          "scattergl": [
           {
            "marker": {
             "colorbar": {
              "outlinewidth": 0,
              "ticks": ""
             }
            },
            "type": "scattergl"
           }
          ],
          "scattermap": [
           {
            "marker": {
             "colorbar": {
              "outlinewidth": 0,
              "ticks": ""
             }
            },
            "type": "scattermap"
           }
          ],
          "scattermapbox": [
           {
            "marker": {
             "colorbar": {
              "outlinewidth": 0,
              "ticks": ""
             }
            },
            "type": "scattermapbox"
           }
          ],
          "scatterpolar": [
           {
            "marker": {
             "colorbar": {
              "outlinewidth": 0,
              "ticks": ""
             }
            },
            "type": "scatterpolar"
           }
          ],
          "scatterpolargl": [
           {
            "marker": {
             "colorbar": {
              "outlinewidth": 0,
              "ticks": ""
             }
            },
            "type": "scatterpolargl"
           }
          ],
          "scatterternary": [
           {
            "marker": {
             "colorbar": {
              "outlinewidth": 0,
              "ticks": ""
             }
            },
            "type": "scatterternary"
           }
          ],
          "surface": [
           {
            "colorbar": {
             "outlinewidth": 0,
             "ticks": ""
            },
            "colorscale": [
             [
              0,
              "#0d0887"
             ],
             [
              0.1111111111111111,
              "#46039f"
             ],
             [
              0.2222222222222222,
              "#7201a8"
             ],
             [
              0.3333333333333333,
              "#9c179e"
             ],
             [
              0.4444444444444444,
              "#bd3786"
             ],
             [
              0.5555555555555556,
              "#d8576b"
             ],
             [
              0.6666666666666666,
              "#ed7953"
             ],
             [
              0.7777777777777778,
              "#fb9f3a"
             ],
             [
              0.8888888888888888,
              "#fdca26"
             ],
             [
              1,
              "#f0f921"
             ]
            ],
            "type": "surface"
           }
          ],
          "table": [
           {
            "cells": {
             "fill": {
              "color": "#EBF0F8"
             },
             "line": {
              "color": "white"
             }
            },
            "header": {
             "fill": {
              "color": "#C8D4E3"
             },
             "line": {
              "color": "white"
             }
            },
            "type": "table"
           }
          ]
         },
         "layout": {
          "annotationdefaults": {
           "arrowcolor": "#2a3f5f",
           "arrowhead": 0,
           "arrowwidth": 1
          },
          "autotypenumbers": "strict",
          "coloraxis": {
           "colorbar": {
            "outlinewidth": 0,
            "ticks": ""
           }
          },
          "colorscale": {
           "diverging": [
            [
             0,
             "#8e0152"
            ],
            [
             0.1,
             "#c51b7d"
            ],
            [
             0.2,
             "#de77ae"
            ],
            [
             0.3,
             "#f1b6da"
            ],
            [
             0.4,
             "#fde0ef"
            ],
            [
             0.5,
             "#f7f7f7"
            ],
            [
             0.6,
             "#e6f5d0"
            ],
            [
             0.7,
             "#b8e186"
            ],
            [
             0.8,
             "#7fbc41"
            ],
            [
             0.9,
             "#4d9221"
            ],
            [
             1,
             "#276419"
            ]
           ],
           "sequential": [
            [
             0,
             "#0d0887"
            ],
            [
             0.1111111111111111,
             "#46039f"
            ],
            [
             0.2222222222222222,
             "#7201a8"
            ],
            [
             0.3333333333333333,
             "#9c179e"
            ],
            [
             0.4444444444444444,
             "#bd3786"
            ],
            [
             0.5555555555555556,
             "#d8576b"
            ],
            [
             0.6666666666666666,
             "#ed7953"
            ],
            [
             0.7777777777777778,
             "#fb9f3a"
            ],
            [
             0.8888888888888888,
             "#fdca26"
            ],
            [
             1,
             "#f0f921"
            ]
           ],
           "sequentialminus": [
            [
             0,
             "#0d0887"
            ],
            [
             0.1111111111111111,
             "#46039f"
            ],
            [
             0.2222222222222222,
             "#7201a8"
            ],
            [
             0.3333333333333333,
             "#9c179e"
            ],
            [
             0.4444444444444444,
             "#bd3786"
            ],
            [
             0.5555555555555556,
             "#d8576b"
            ],
            [
             0.6666666666666666,
             "#ed7953"
            ],
            [
             0.7777777777777778,
             "#fb9f3a"
            ],
            [
             0.8888888888888888,
             "#fdca26"
            ],
            [
             1,
             "#f0f921"
            ]
           ]
          },
          "colorway": [
           "#636efa",
           "#EF553B",
           "#00cc96",
           "#ab63fa",
           "#FFA15A",
           "#19d3f3",
           "#FF6692",
           "#B6E880",
           "#FF97FF",
           "#FECB52"
          ],
          "font": {
           "color": "#2a3f5f"
          },
          "geo": {
           "bgcolor": "white",
           "lakecolor": "white",
           "landcolor": "#E5ECF6",
           "showlakes": true,
           "showland": true,
           "subunitcolor": "white"
          },
          "hoverlabel": {
           "align": "left"
          },
          "hovermode": "closest",
          "mapbox": {
           "style": "light"
          },
          "paper_bgcolor": "white",
          "plot_bgcolor": "#E5ECF6",
          "polar": {
           "angularaxis": {
            "gridcolor": "white",
            "linecolor": "white",
            "ticks": ""
           },
           "bgcolor": "#E5ECF6",
           "radialaxis": {
            "gridcolor": "white",
            "linecolor": "white",
            "ticks": ""
           }
          },
          "scene": {
           "xaxis": {
            "backgroundcolor": "#E5ECF6",
            "gridcolor": "white",
            "gridwidth": 2,
            "linecolor": "white",
            "showbackground": true,
            "ticks": "",
            "zerolinecolor": "white"
           },
           "yaxis": {
            "backgroundcolor": "#E5ECF6",
            "gridcolor": "white",
            "gridwidth": 2,
            "linecolor": "white",
            "showbackground": true,
            "ticks": "",
            "zerolinecolor": "white"
           },
           "zaxis": {
            "backgroundcolor": "#E5ECF6",
            "gridcolor": "white",
            "gridwidth": 2,
            "linecolor": "white",
            "showbackground": true,
            "ticks": "",
            "zerolinecolor": "white"
           }
          },
          "shapedefaults": {
           "line": {
            "color": "#2a3f5f"
           }
          },
          "ternary": {
           "aaxis": {
            "gridcolor": "white",
            "linecolor": "white",
            "ticks": ""
           },
           "baxis": {
            "gridcolor": "white",
            "linecolor": "white",
            "ticks": ""
           },
           "bgcolor": "#E5ECF6",
           "caxis": {
            "gridcolor": "white",
            "linecolor": "white",
            "ticks": ""
           }
          },
          "title": {
           "x": 0.05
          },
          "xaxis": {
           "automargin": true,
           "gridcolor": "white",
           "linecolor": "white",
           "ticks": "",
           "title": {
            "standoff": 15
           },
           "zerolinecolor": "white",
           "zerolinewidth": 2
          },
          "yaxis": {
           "automargin": true,
           "gridcolor": "white",
           "linecolor": "white",
           "ticks": "",
           "title": {
            "standoff": 15
           },
           "zerolinecolor": "white",
           "zerolinewidth": 2
          }
         }
        },
        "title": {
         "text": "Projected EV Sales by Region and State in 2030"
        },
        "width": 900
       }
      }
     },
     "metadata": {},
     "output_type": "display_data"
    }
   ],
   "source": [
    "# Create a treemap using plotly express\n",
    "import plotly.express as px\n",
    "\n",
    "# Get region info from monthly_ev_sales\n",
    "df_regions = df[['state', 'region']].drop_duplicates()\n",
    "proj_df['Region'] = proj_df['State'].map(df_regions.set_index('state')['region'])\n",
    "\n",
    "# Create the treemap\n",
    "fig = px.treemap(\n",
    "  proj_df,\n",
    "  path=[px.Constant(\"India\"), 'Region', 'State'],\n",
    "  values='Projected_Sales_2030',\n",
    "  color='Projected_Sales_2030',\n",
    "  color_continuous_scale='Blues',\n",
    "  title='Projected EV Sales by Region and State in 2030',\n",
    "  hover_data=['Projected_Sales_2030_readable']\n",
    ")\n",
    "\n",
    "fig.update_traces(\n",
    "  textinfo=\"label+percent parent+value\",\n",
    "  hovertemplate='<b>%{label}</b><br>Sales: %{customdata[0]}<br>Share: %{percentParent:.1%}<extra></extra>'\n",
    ")\n",
    "\n",
    "fig.update_layout(\n",
    "  width=900,\n",
    "  height=600,\n",
    "  margin=dict(t=50, l=25, r=25, b=25)\n",
    ")\n",
    "\n",
    "fig.show()\n"
   ]
  },
  {
   "cell_type": "code",
   "execution_count": 27,
   "id": "3271603a",
   "metadata": {},
   "outputs": [
    {
     "data": {
      "application/vnd.plotly.v1+json": {
       "config": {
        "plotlyServerURL": "https://plot.ly"
       },
       "data": [
        {
         "hovertemplate": "=%{x}<br>Projected_Sales_2030=%{y}<br>CAGR (%)=%{marker.size}<br>State=%{text}<extra></extra>",
         "legendgroup": "",
         "marker": {
          "color": "royalblue",
          "size": {
           "bdata": "AAAAAACAWUAAAAAAAKBgQP///////1xAAAAAAABAV0AAAAAAAOBiQAAAAAAAwFlAAAAAAABAYkAAAAAAAABOQAAAAAAAAFFAAAAAAACgZEA=",
           "dtype": "f8"
          },
          "sizemode": "area",
          "sizeref": 0.4125,
          "symbol": "circle"
         },
         "mode": "markers+text",
         "name": "",
         "orientation": "v",
         "showlegend": false,
         "text": [
          "Maharashtra",
          "Kerala",
          "Gujarat",
          "Karnataka",
          "Chhattisgarh",
          "Odisha",
          "Goa",
          "Tamil Nadu",
          "Delhi",
          "Chandigarh"
         ],
         "textposition": "top center",
         "type": "scatter",
         "x": {
          "bdata": "AAECAwQFBgcICQ==",
          "dtype": "i1"
         },
         "xaxis": "x",
         "y": {
          "bdata": "GkW+7paMaUEUkRXtnJBmQZiRTgxZV2BBJZhPIVC9X0FP4INNajlbQeCTAAmq4kRB0xEw2mFCQkHSEI5Z9iQ4QepWkiaDBzBBg7y+lwpoLkE=",
          "dtype": "f8"
         },
         "yaxis": "y"
        }
       ],
       "layout": {
        "height": 600,
        "legend": {
         "itemsizing": "constant",
         "tracegroupgap": 0
        },
        "showlegend": false,
        "template": {
         "data": {
          "bar": [
           {
            "error_x": {
             "color": "#2a3f5f"
            },
            "error_y": {
             "color": "#2a3f5f"
            },
            "marker": {
             "line": {
              "color": "#E5ECF6",
              "width": 0.5
             },
             "pattern": {
              "fillmode": "overlay",
              "size": 10,
              "solidity": 0.2
             }
            },
            "type": "bar"
           }
          ],
          "barpolar": [
           {
            "marker": {
             "line": {
              "color": "#E5ECF6",
              "width": 0.5
             },
             "pattern": {
              "fillmode": "overlay",
              "size": 10,
              "solidity": 0.2
             }
            },
            "type": "barpolar"
           }
          ],
          "carpet": [
           {
            "aaxis": {
             "endlinecolor": "#2a3f5f",
             "gridcolor": "white",
             "linecolor": "white",
             "minorgridcolor": "white",
             "startlinecolor": "#2a3f5f"
            },
            "baxis": {
             "endlinecolor": "#2a3f5f",
             "gridcolor": "white",
             "linecolor": "white",
             "minorgridcolor": "white",
             "startlinecolor": "#2a3f5f"
            },
            "type": "carpet"
           }
          ],
          "choropleth": [
           {
            "colorbar": {
             "outlinewidth": 0,
             "ticks": ""
            },
            "type": "choropleth"
           }
          ],
          "contour": [
           {
            "colorbar": {
             "outlinewidth": 0,
             "ticks": ""
            },
            "colorscale": [
             [
              0,
              "#0d0887"
             ],
             [
              0.1111111111111111,
              "#46039f"
             ],
             [
              0.2222222222222222,
              "#7201a8"
             ],
             [
              0.3333333333333333,
              "#9c179e"
             ],
             [
              0.4444444444444444,
              "#bd3786"
             ],
             [
              0.5555555555555556,
              "#d8576b"
             ],
             [
              0.6666666666666666,
              "#ed7953"
             ],
             [
              0.7777777777777778,
              "#fb9f3a"
             ],
             [
              0.8888888888888888,
              "#fdca26"
             ],
             [
              1,
              "#f0f921"
             ]
            ],
            "type": "contour"
           }
          ],
          "contourcarpet": [
           {
            "colorbar": {
             "outlinewidth": 0,
             "ticks": ""
            },
            "type": "contourcarpet"
           }
          ],
          "heatmap": [
           {
            "colorbar": {
             "outlinewidth": 0,
             "ticks": ""
            },
            "colorscale": [
             [
              0,
              "#0d0887"
             ],
             [
              0.1111111111111111,
              "#46039f"
             ],
             [
              0.2222222222222222,
              "#7201a8"
             ],
             [
              0.3333333333333333,
              "#9c179e"
             ],
             [
              0.4444444444444444,
              "#bd3786"
             ],
             [
              0.5555555555555556,
              "#d8576b"
             ],
             [
              0.6666666666666666,
              "#ed7953"
             ],
             [
              0.7777777777777778,
              "#fb9f3a"
             ],
             [
              0.8888888888888888,
              "#fdca26"
             ],
             [
              1,
              "#f0f921"
             ]
            ],
            "type": "heatmap"
           }
          ],
          "histogram": [
           {
            "marker": {
             "pattern": {
              "fillmode": "overlay",
              "size": 10,
              "solidity": 0.2
             }
            },
            "type": "histogram"
           }
          ],
          "histogram2d": [
           {
            "colorbar": {
             "outlinewidth": 0,
             "ticks": ""
            },
            "colorscale": [
             [
              0,
              "#0d0887"
             ],
             [
              0.1111111111111111,
              "#46039f"
             ],
             [
              0.2222222222222222,
              "#7201a8"
             ],
             [
              0.3333333333333333,
              "#9c179e"
             ],
             [
              0.4444444444444444,
              "#bd3786"
             ],
             [
              0.5555555555555556,
              "#d8576b"
             ],
             [
              0.6666666666666666,
              "#ed7953"
             ],
             [
              0.7777777777777778,
              "#fb9f3a"
             ],
             [
              0.8888888888888888,
              "#fdca26"
             ],
             [
              1,
              "#f0f921"
             ]
            ],
            "type": "histogram2d"
           }
          ],
          "histogram2dcontour": [
           {
            "colorbar": {
             "outlinewidth": 0,
             "ticks": ""
            },
            "colorscale": [
             [
              0,
              "#0d0887"
             ],
             [
              0.1111111111111111,
              "#46039f"
             ],
             [
              0.2222222222222222,
              "#7201a8"
             ],
             [
              0.3333333333333333,
              "#9c179e"
             ],
             [
              0.4444444444444444,
              "#bd3786"
             ],
             [
              0.5555555555555556,
              "#d8576b"
             ],
             [
              0.6666666666666666,
              "#ed7953"
             ],
             [
              0.7777777777777778,
              "#fb9f3a"
             ],
             [
              0.8888888888888888,
              "#fdca26"
             ],
             [
              1,
              "#f0f921"
             ]
            ],
            "type": "histogram2dcontour"
           }
          ],
          "mesh3d": [
           {
            "colorbar": {
             "outlinewidth": 0,
             "ticks": ""
            },
            "type": "mesh3d"
           }
          ],
          "parcoords": [
           {
            "line": {
             "colorbar": {
              "outlinewidth": 0,
              "ticks": ""
             }
            },
            "type": "parcoords"
           }
          ],
          "pie": [
           {
            "automargin": true,
            "type": "pie"
           }
          ],
          "scatter": [
           {
            "fillpattern": {
             "fillmode": "overlay",
             "size": 10,
             "solidity": 0.2
            },
            "type": "scatter"
           }
          ],
          "scatter3d": [
           {
            "line": {
             "colorbar": {
              "outlinewidth": 0,
              "ticks": ""
             }
            },
            "marker": {
             "colorbar": {
              "outlinewidth": 0,
              "ticks": ""
             }
            },
            "type": "scatter3d"
           }
          ],
          "scattercarpet": [
           {
            "marker": {
             "colorbar": {
              "outlinewidth": 0,
              "ticks": ""
             }
            },
            "type": "scattercarpet"
           }
          ],
          "scattergeo": [
           {
            "marker": {
             "colorbar": {
              "outlinewidth": 0,
              "ticks": ""
             }
            },
            "type": "scattergeo"
           }
          ],
          "scattergl": [
           {
            "marker": {
             "colorbar": {
              "outlinewidth": 0,
              "ticks": ""
             }
            },
            "type": "scattergl"
           }
          ],
          "scattermap": [
           {
            "marker": {
             "colorbar": {
              "outlinewidth": 0,
              "ticks": ""
             }
            },
            "type": "scattermap"
           }
          ],
          "scattermapbox": [
           {
            "marker": {
             "colorbar": {
              "outlinewidth": 0,
              "ticks": ""
             }
            },
            "type": "scattermapbox"
           }
          ],
          "scatterpolar": [
           {
            "marker": {
             "colorbar": {
              "outlinewidth": 0,
              "ticks": ""
             }
            },
            "type": "scatterpolar"
           }
          ],
          "scatterpolargl": [
           {
            "marker": {
             "colorbar": {
              "outlinewidth": 0,
              "ticks": ""
             }
            },
            "type": "scatterpolargl"
           }
          ],
          "scatterternary": [
           {
            "marker": {
             "colorbar": {
              "outlinewidth": 0,
              "ticks": ""
             }
            },
            "type": "scatterternary"
           }
          ],
          "surface": [
           {
            "colorbar": {
             "outlinewidth": 0,
             "ticks": ""
            },
            "colorscale": [
             [
              0,
              "#0d0887"
             ],
             [
              0.1111111111111111,
              "#46039f"
             ],
             [
              0.2222222222222222,
              "#7201a8"
             ],
             [
              0.3333333333333333,
              "#9c179e"
             ],
             [
              0.4444444444444444,
              "#bd3786"
             ],
             [
              0.5555555555555556,
              "#d8576b"
             ],
             [
              0.6666666666666666,
              "#ed7953"
             ],
             [
              0.7777777777777778,
              "#fb9f3a"
             ],
             [
              0.8888888888888888,
              "#fdca26"
             ],
             [
              1,
              "#f0f921"
             ]
            ],
            "type": "surface"
           }
          ],
          "table": [
           {
            "cells": {
             "fill": {
              "color": "#EBF0F8"
             },
             "line": {
              "color": "white"
             }
            },
            "header": {
             "fill": {
              "color": "#C8D4E3"
             },
             "line": {
              "color": "white"
             }
            },
            "type": "table"
           }
          ]
         },
         "layout": {
          "annotationdefaults": {
           "arrowcolor": "#2a3f5f",
           "arrowhead": 0,
           "arrowwidth": 1
          },
          "autotypenumbers": "strict",
          "coloraxis": {
           "colorbar": {
            "outlinewidth": 0,
            "ticks": ""
           }
          },
          "colorscale": {
           "diverging": [
            [
             0,
             "#8e0152"
            ],
            [
             0.1,
             "#c51b7d"
            ],
            [
             0.2,
             "#de77ae"
            ],
            [
             0.3,
             "#f1b6da"
            ],
            [
             0.4,
             "#fde0ef"
            ],
            [
             0.5,
             "#f7f7f7"
            ],
            [
             0.6,
             "#e6f5d0"
            ],
            [
             0.7,
             "#b8e186"
            ],
            [
             0.8,
             "#7fbc41"
            ],
            [
             0.9,
             "#4d9221"
            ],
            [
             1,
             "#276419"
            ]
           ],
           "sequential": [
            [
             0,
             "#0d0887"
            ],
            [
             0.1111111111111111,
             "#46039f"
            ],
            [
             0.2222222222222222,
             "#7201a8"
            ],
            [
             0.3333333333333333,
             "#9c179e"
            ],
            [
             0.4444444444444444,
             "#bd3786"
            ],
            [
             0.5555555555555556,
             "#d8576b"
            ],
            [
             0.6666666666666666,
             "#ed7953"
            ],
            [
             0.7777777777777778,
             "#fb9f3a"
            ],
            [
             0.8888888888888888,
             "#fdca26"
            ],
            [
             1,
             "#f0f921"
            ]
           ],
           "sequentialminus": [
            [
             0,
             "#0d0887"
            ],
            [
             0.1111111111111111,
             "#46039f"
            ],
            [
             0.2222222222222222,
             "#7201a8"
            ],
            [
             0.3333333333333333,
             "#9c179e"
            ],
            [
             0.4444444444444444,
             "#bd3786"
            ],
            [
             0.5555555555555556,
             "#d8576b"
            ],
            [
             0.6666666666666666,
             "#ed7953"
            ],
            [
             0.7777777777777778,
             "#fb9f3a"
            ],
            [
             0.8888888888888888,
             "#fdca26"
            ],
            [
             1,
             "#f0f921"
            ]
           ]
          },
          "colorway": [
           "#636efa",
           "#EF553B",
           "#00cc96",
           "#ab63fa",
           "#FFA15A",
           "#19d3f3",
           "#FF6692",
           "#B6E880",
           "#FF97FF",
           "#FECB52"
          ],
          "font": {
           "color": "#2a3f5f"
          },
          "geo": {
           "bgcolor": "white",
           "lakecolor": "white",
           "landcolor": "#E5ECF6",
           "showlakes": true,
           "showland": true,
           "subunitcolor": "white"
          },
          "hoverlabel": {
           "align": "left"
          },
          "hovermode": "closest",
          "mapbox": {
           "style": "light"
          },
          "paper_bgcolor": "white",
          "plot_bgcolor": "#E5ECF6",
          "polar": {
           "angularaxis": {
            "gridcolor": "white",
            "linecolor": "white",
            "ticks": ""
           },
           "bgcolor": "#E5ECF6",
           "radialaxis": {
            "gridcolor": "white",
            "linecolor": "white",
            "ticks": ""
           }
          },
          "scene": {
           "xaxis": {
            "backgroundcolor": "#E5ECF6",
            "gridcolor": "white",
            "gridwidth": 2,
            "linecolor": "white",
            "showbackground": true,
            "ticks": "",
            "zerolinecolor": "white"
           },
           "yaxis": {
            "backgroundcolor": "#E5ECF6",
            "gridcolor": "white",
            "gridwidth": 2,
            "linecolor": "white",
            "showbackground": true,
            "ticks": "",
            "zerolinecolor": "white"
           },
           "zaxis": {
            "backgroundcolor": "#E5ECF6",
            "gridcolor": "white",
            "gridwidth": 2,
            "linecolor": "white",
            "showbackground": true,
            "ticks": "",
            "zerolinecolor": "white"
           }
          },
          "shapedefaults": {
           "line": {
            "color": "#2a3f5f"
           }
          },
          "ternary": {
           "aaxis": {
            "gridcolor": "white",
            "linecolor": "white",
            "ticks": ""
           },
           "baxis": {
            "gridcolor": "white",
            "linecolor": "white",
            "ticks": ""
           },
           "bgcolor": "#E5ECF6",
           "caxis": {
            "gridcolor": "white",
            "linecolor": "white",
            "ticks": ""
           }
          },
          "title": {
           "x": 0.05
          },
          "xaxis": {
           "automargin": true,
           "gridcolor": "white",
           "linecolor": "white",
           "ticks": "",
           "title": {
            "standoff": 15
           },
           "zerolinecolor": "white",
           "zerolinewidth": 2
          },
          "yaxis": {
           "automargin": true,
           "gridcolor": "white",
           "linecolor": "white",
           "ticks": "",
           "title": {
            "standoff": 15
           },
           "zerolinecolor": "white",
           "zerolinewidth": 2
          }
         }
        },
        "title": {
         "text": "EV Sales Projection 2030 vs CAGR"
        },
        "width": 900,
        "xaxis": {
         "anchor": "y",
         "domain": [
          0,
          1
         ],
         "showticklabels": false,
         "title": {
          "text": ""
         }
        },
        "yaxis": {
         "anchor": "x",
         "domain": [
          0,
          1
         ],
         "tickformat": ".2s",
         "ticktext": [
          "0",
          "5M",
          "10M",
          "15M",
          "20M",
          "25M",
          "30M"
         ],
         "tickvals": [
          0,
          5000000,
          10000000,
          15000000,
          20000000,
          25000000,
          30000000
         ],
         "title": {
          "text": "Projected Sales (Units)"
         }
        }
       }
      }
     },
     "metadata": {},
     "output_type": "display_data"
    }
   ],
   "source": [
    "# Create bubble chart using plotly express\n",
    "fig = px.scatter(\n",
    "    proj_df,\n",
    "    x=range(len(proj_df)),\n",
    "    y=\"Projected_Sales_2030\",\n",
    "    size=[\n",
    "        cagr_dict[state] * 100 for state in proj_df[\"State\"]\n",
    "    ],  # Convert CAGR to percentage\n",
    "    text=\"State\",\n",
    "    title=\"EV Sales Projection 2030 vs CAGR\",\n",
    "    labels={\"x\": \"\", \"y\": \"Projected Sales 2030\", \"size\": \"CAGR (%)\"},\n",
    ")\n",
    "\n",
    "# Customize layout\n",
    "fig.update_traces(\n",
    "    textposition=\"top center\",\n",
    "    marker=dict(color=\"royalblue\"),\n",
    ")\n",
    "\n",
    "fig.update_layout(\n",
    "    showlegend=False,\n",
    "    xaxis={\"showticklabels\": False},\n",
    "    yaxis_title=\"Projected Sales (Units)\",\n",
    "    height=600,\n",
    "    width=900,\n",
    ")\n",
    "\n",
    "# Format y-axis labels to millions\n",
    "fig.update_layout(\n",
    "    yaxis=dict(\n",
    "        tickformat=\".2s\",\n",
    "        ticktext=[\"0\", \"5M\", \"10M\", \"15M\", \"20M\", \"25M\", \"30M\"],\n",
    "        tickvals=[0, 5e6, 10e6, 15e6, 20e6, 25e6, 30e6],\n",
    "    )\n",
    ")\n",
    "\n",
    "fig.show()"
   ]
  },
  {
   "cell_type": "code",
   "execution_count": 28,
   "id": "dc74e64c",
   "metadata": {},
   "outputs": [
    {
     "data": {
      "image/png": "[encoded data removed]",
      "text/plain": [
       "<Figure size 1200x800 with 1 Axes>"
      ]
     },
     "metadata": {},
     "output_type": "display_data"
    }
   ],
   "source": [
    "# Create a lollipop chart\n",
    "plt.figure(figsize=(12, 8))\n",
    "\n",
    "# Create the lollipop stems\n",
    "plt.hlines(y=proj_df.index, xmin=0, xmax=proj_df['Projected_Sales_2030'], \n",
    "       color='skyblue', alpha=0.7, linewidth=2)\n",
    "\n",
    "# Create the lollipop circles\n",
    "plt.plot(proj_df['Projected_Sales_2030'], proj_df.index, 'o', \n",
    "     markersize=10, color='royalblue', alpha=0.8)\n",
    "\n",
    "# Add state labels\n",
    "plt.yticks(proj_df.index, proj_df['State'])\n",
    "\n",
    "# Format x-axis to millions\n",
    "def millions_formatter(x, pos):\n",
    "  return f'{x/1e6:.1f}M'\n",
    "plt.gca().xaxis.set_major_formatter(plt.FuncFormatter(millions_formatter))\n",
    "\n",
    "# Add value labels\n",
    "for idx, value in enumerate(proj_df['Projected_Sales_2030']):\n",
    "  plt.text(value, idx, f' {value/1e6:.1f}M', \n",
    "       va='center', fontweight='bold')\n",
    "\n",
    "# Customize the chart\n",
    "plt.title('Projected EV Sales by State in 2030', pad=20, fontsize=14)\n",
    "plt.xlabel('Projected Sales (Units)', labelpad=10)\n",
    "plt.ylabel('State', labelpad=10)\n",
    "plt.grid(axis='x', linestyle='--', alpha=0.7)\n",
    "\n",
    "plt.tight_layout()\n",
    "plt.show()"
   ]
  },
  {
   "cell_type": "code",
   "execution_count": 29,
   "id": "9430cbc1",
   "metadata": {},
   "outputs": [
    {
     "data": {
      "image/png": "[encoded data removed]",
      "text/plain": [
       "<Figure size 1200x800 with 1 Axes>"
      ]
     },
     "metadata": {},
     "output_type": "display_data"
    }
   ],
   "source": [
    "# Create a donut chart for market share visualization\n",
    "plt.figure(figsize=(12,8))\n",
    "\n",
    "# Calculate market share percentages\n",
    "total_sales = proj_df['Projected_Sales_2030'].sum()\n",
    "market_shares = (proj_df['Projected_Sales_2030'] / total_sales * 100).round(1)\n",
    "\n",
    "# Create donut chart\n",
    "plt.pie(market_shares, \n",
    "  labels=[f\"{state}\\n({share}%)\" for state, share in zip(proj_df['State'], market_shares)],\n",
    "  autopct='%1.1f%%',\n",
    "  pctdistance=0.85,\n",
    "  wedgeprops=dict(width=0.5))\n",
    "\n",
    "plt.title('Projected EV Market Share by State in 2030', pad=20)\n",
    "\n",
    "# Add a note about total market size\n",
    "plt.annotate(f'Total Market Size: {total_sales/1e6:.1f}M units', \n",
    "      xy=(0, 0),\n",
    "      xytext=(0, -1.2),\n",
    "      ha='center',\n",
    "      fontsize=10)\n",
    "\n",
    "plt.show()"
   ]
  },
  {
   "cell_type": "markdown",
   "id": "5a90d2be",
   "metadata": {},
   "source": [
    "# 🚗 EV SALES PROJECTIONS 2030: KEY INSIGHTS\n",
    "\n",
    "## 💡 THE BIG PICTURE\n",
    "\n",
    "**Karnataka will lead India's EV revolution** with a projected **29.3 million electric vehicles** by 2030 - that's more than the next two states combined!\n",
    "\n",
    "---\n",
    "\n",
    "## ⭐ TOP 3 TAKEAWAYS\n",
    "\n",
    "1. **Three states will dominate**: Karnataka, Tamil Nadu, and Maharashtra will account for over 60% of all EV sales in India by 2030\n",
    "\n",
    "2. **Regional clusters matter**: Southern states show the strongest adoption patterns, visible in both our map and treemap visualizations\n",
    "\n",
    "3. **Size ≠ Growth**: Some smaller states show impressive growth rates despite lower total volumes\n",
    "\n",
    "---\n",
    "\n",
    "## 📊 WHAT THE VISUALS TELL US\n",
    "\n",
    "* **Bar chart**: Shows the dramatic difference between top and bottom states\n",
    "* **Map**: Reveals the geographic concentration in Southern India\n",
    "* **Treemap**: Highlights regional patterns and hierarchies\n",
    "* **Bubble chart**: Shows that states with highest growth aren't always the biggest markets\n",
    "* **Donut chart**: Makes market share comparison instant and intuitive\n",
    "\n",
    "---\n",
    "\n",
    "## 🏆 STATE CHAMPIONS\n",
    "\n",
    "| Category | Winner | Details |\n",
    "|---------|--------|---------|\n",
    "| Highest Volume | Karnataka | 29.3M vehicles |\n",
    "| Best Growth Rate | Kerala | 68% CAGR |\n",
    "| Highest Market Share | Karnataka | 39.8% of national market |\n",
    "\n",
    "---\n",
    "\n",
    "## 📱 WHAT THIS MEANS FOR BUSINESS\n",
    "\n",
    "* **Manufacturers**: Focus production capacity and distribution networks in Southern India\n",
    "* **Charging Infrastructure**: Karnataka needs 5× more charging stations than most other states\n",
    "* **Government Policy**: Northern states need stronger incentives to catch up\n",
    "\n",
    "---\n",
    "\n",
    "## 📌 REMEMBER\n",
    "\n",
    "These projections assume current growth trends continue. Any major policy changes or technological breakthroughs could significantly alter these numbers."
   ]
  }
 ],
 "metadata": {
  "kernelspec": {
   "display_name": "ev-analysis (3.13.3)",
   "language": "python",
   "name": "python3"
  },
  "language_info": {
   "codemirror_mode": {
    "name": "ipython",
    "version": 3
   },
   "file_extension": ".py",
   "mimetype": "text/x-python",
   "name": "python",
   "nbconvert_exporter": "python",
   "pygments_lexer": "ipython3",
   "version": "3.13.3"
  }
 },
 "nbformat": 4,
 "nbformat_minor": 5
}
