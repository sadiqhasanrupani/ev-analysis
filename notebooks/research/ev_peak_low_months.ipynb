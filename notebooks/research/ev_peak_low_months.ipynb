{
 "cells": [
  {
   "cell_type": "markdown",
   "id": "8794bcef",
   "metadata": {},
   "source": [
    "## What are the peak and low season months for EV sales based on the data from 2022 to 2024? "
   ]
  },
  {
   "cell_type": "markdown",
   "id": "bad7b81c",
   "metadata": {},
   "source": [
    "Here how you can solve it\n",
    "\n",
    "---\n",
    "\n",
    "1. Load the data\n",
    "2. Convert the datetime into pandas datetime\n",
    "3. Aggregate sales by month\n",
    "4. Find peak month by getting the max sales of that month and opposite for low_month"
   ]
  },
  {
   "cell_type": "code",
   "execution_count": 2,
   "id": "5e9ddcee",
   "metadata": {},
   "outputs": [],
   "source": [
    "# Loading necessary libraries\n",
    "import pandas as pd\n",
    "import numpy as np\n",
    "import matplotlib.pyplot as plt\n",
    "import seaborn as sns\n",
    "import plotly as pt\n",
    "import plotly.express as ex\n",
    "from IPython.display import display"
   ]
  },
  {
   "cell_type": "code",
   "execution_count": 3,
   "id": "8e5421c7",
   "metadata": {},
   "outputs": [
    {
     "data": {
      "text/html": [
       "<div>\n",
       "<style scoped>\n",
       "    .dataframe tbody tr th:only-of-type {\n",
       "        vertical-align: middle;\n",
       "    }\n",
       "\n",
       "    .dataframe tbody tr th {\n",
       "        vertical-align: top;\n",
       "    }\n",
       "\n",
       "    .dataframe thead th {\n",
       "        text-align: right;\n",
       "    }\n",
       "</style>\n",
       "<table border=\"1\" class=\"dataframe\">\n",
       "  <thead>\n",
       "    <tr style=\"text-align: right;\">\n",
       "      <th></th>\n",
       "      <th>date</th>\n",
       "      <th>state</th>\n",
       "      <th>vehicle_category</th>\n",
       "      <th>electric_vehicles_sold</th>\n",
       "      <th>total_vehicles_sold</th>\n",
       "    </tr>\n",
       "  </thead>\n",
       "  <tbody>\n",
       "    <tr>\n",
       "      <th>0</th>\n",
       "      <td>01-Apr-21</td>\n",
       "      <td>Sikkim</td>\n",
       "      <td>2-Wheelers</td>\n",
       "      <td>0</td>\n",
       "      <td>398</td>\n",
       "    </tr>\n",
       "  </tbody>\n",
       "</table>\n",
       "</div>"
      ],
      "text/plain": [
       "        date   state vehicle_category  electric_vehicles_sold  \\\n",
       "0  01-Apr-21  Sikkim       2-Wheelers                       0   \n",
       "\n",
       "   total_vehicles_sold  \n",
       "0                  398  "
      ]
     },
     "metadata": {},
     "output_type": "display_data"
    },
    {
     "data": {
      "text/plain": [
       "Index(['date', 'state', 'vehicle_category', 'electric_vehicles_sold',\n",
       "       'total_vehicles_sold'],\n",
       "      dtype='object')"
      ]
     },
     "metadata": {},
     "output_type": "display_data"
    }
   ],
   "source": [
    "# Loading the ev_sales dataset\n",
    "ev_sales = pd.read_csv(\"../../data/processed/electric_vehicle_sales_by_state.csv\")\n",
    "dim_date = pd.read_csv('../../data/raw/dim_date.csv')\n",
    "\n",
    "display(ev_sales.head(1))\n",
    "display(ev_sales.columns)"
   ]
  },
  {
   "cell_type": "code",
   "execution_count": 4,
   "id": "5edc7a81",
   "metadata": {},
   "outputs": [],
   "source": [
    "ev_sales = pd.merge(dim_date, ev_sales, on='date', how='inner')"
   ]
  },
  {
   "cell_type": "code",
   "execution_count": 5,
   "id": "55fe96a1",
   "metadata": {},
   "outputs": [
    {
     "name": "stderr",
     "output_type": "stream",
     "text": [
      "/tmp/ipykernel_328693/209592305.py:2: UserWarning: Could not infer format, so each element will be parsed individually, falling back to `dateutil`. To ensure parsing is consistent and as-expected, please specify a format.\n",
      "  ev_sales[\"date\"] = pd.to_datetime(ev_sales[\"date\"], errors=\"coerce\")\n"
     ]
    }
   ],
   "source": [
    "# convert datetime into pandas datetime\n",
    "ev_sales[\"date\"] = pd.to_datetime(ev_sales[\"date\"], errors=\"coerce\")\n",
    "ev_sales[\"month_name\"] = ev_sales[\"date\"].dt.month_name()\n",
    "ev_sales[\"month\"] = ev_sales[\"date\"].dt.month\n",
    "\n",
    "\n",
    "# Filter for fiscal years 2022-2024\n",
    "ev_sales = ev_sales[ev_sales[\"fiscal_year\"].between(2022, 2024)]"
   ]
  },
  {
   "cell_type": "code",
   "execution_count": 6,
   "id": "88178e83",
   "metadata": {},
   "outputs": [
    {
     "data": {
      "text/html": [
       "<div>\n",
       "<style scoped>\n",
       "    .dataframe tbody tr th:only-of-type {\n",
       "        vertical-align: middle;\n",
       "    }\n",
       "\n",
       "    .dataframe tbody tr th {\n",
       "        vertical-align: top;\n",
       "    }\n",
       "\n",
       "    .dataframe thead th {\n",
       "        text-align: right;\n",
       "    }\n",
       "</style>\n",
       "<table border=\"1\" class=\"dataframe\">\n",
       "  <thead>\n",
       "    <tr style=\"text-align: right;\">\n",
       "      <th></th>\n",
       "      <th>month</th>\n",
       "      <th>month_name</th>\n",
       "      <th>electric_vehicles_sold</th>\n",
       "    </tr>\n",
       "  </thead>\n",
       "  <tbody>\n",
       "    <tr>\n",
       "      <th>0</th>\n",
       "      <td>1</td>\n",
       "      <td>January</td>\n",
       "      <td>189099</td>\n",
       "    </tr>\n",
       "    <tr>\n",
       "      <th>1</th>\n",
       "      <td>2</td>\n",
       "      <td>February</td>\n",
       "      <td>198049</td>\n",
       "    </tr>\n",
       "    <tr>\n",
       "      <th>2</th>\n",
       "      <td>3</td>\n",
       "      <td>March</td>\n",
       "      <td>291587</td>\n",
       "    </tr>\n",
       "    <tr>\n",
       "      <th>3</th>\n",
       "      <td>4</td>\n",
       "      <td>April</td>\n",
       "      <td>134657</td>\n",
       "    </tr>\n",
       "    <tr>\n",
       "      <th>4</th>\n",
       "      <td>5</td>\n",
       "      <td>May</td>\n",
       "      <td>159869</td>\n",
       "    </tr>\n",
       "    <tr>\n",
       "      <th>5</th>\n",
       "      <td>6</td>\n",
       "      <td>June</td>\n",
       "      <td>106709</td>\n",
       "    </tr>\n",
       "    <tr>\n",
       "      <th>6</th>\n",
       "      <td>7</td>\n",
       "      <td>July</td>\n",
       "      <td>127426</td>\n",
       "    </tr>\n",
       "    <tr>\n",
       "      <th>7</th>\n",
       "      <td>8</td>\n",
       "      <td>August</td>\n",
       "      <td>141961</td>\n",
       "    </tr>\n",
       "    <tr>\n",
       "      <th>8</th>\n",
       "      <td>9</td>\n",
       "      <td>September</td>\n",
       "      <td>145972</td>\n",
       "    </tr>\n",
       "    <tr>\n",
       "      <th>9</th>\n",
       "      <td>10</td>\n",
       "      <td>October</td>\n",
       "      <td>185185</td>\n",
       "    </tr>\n",
       "    <tr>\n",
       "      <th>10</th>\n",
       "      <td>11</td>\n",
       "      <td>November</td>\n",
       "      <td>205196</td>\n",
       "    </tr>\n",
       "    <tr>\n",
       "      <th>11</th>\n",
       "      <td>12</td>\n",
       "      <td>December</td>\n",
       "      <td>180401</td>\n",
       "    </tr>\n",
       "  </tbody>\n",
       "</table>\n",
       "</div>"
      ],
      "text/plain": [
       "    month month_name  electric_vehicles_sold\n",
       "0       1    January                  189099\n",
       "1       2   February                  198049\n",
       "2       3      March                  291587\n",
       "3       4      April                  134657\n",
       "4       5        May                  159869\n",
       "5       6       June                  106709\n",
       "6       7       July                  127426\n",
       "7       8     August                  141961\n",
       "8       9  September                  145972\n",
       "9      10    October                  185185\n",
       "10     11   November                  205196\n",
       "11     12   December                  180401"
      ]
     },
     "metadata": {},
     "output_type": "display_data"
    }
   ],
   "source": [
    "# Aggregate month of ev_sales by sales\n",
    "\"\"\"\n",
    "We want total sales per month across all years (or average per month):\n",
    "\"\"\"\n",
    "\n",
    "monthly_sales = (\n",
    "    ev_sales.groupby([\"month\", \"month_name\"])[\"electric_vehicles_sold\"]\n",
    "    .sum()\n",
    "    .reset_index()\n",
    "    .sort_values(by=\"month\", ascending=True)\n",
    ")\n",
    "\n",
    "display(monthly_sales)"
   ]
  },
  {
   "cell_type": "code",
   "execution_count": 7,
   "id": "1ac07a26",
   "metadata": {},
   "outputs": [
    {
     "name": "stdout",
     "output_type": "stream",
     "text": [
      "Peak month for EV sales: March\n",
      "Low month for EV sales: June\n"
     ]
    }
   ],
   "source": [
    "# find peaks and lowld season months\n",
    "\n",
    "peak_month = monthly_sales.loc[monthly_sales['electric_vehicles_sold'].idxmax(), 'month_name']\n",
    "low_month = monthly_sales.loc[monthly_sales['electric_vehicles_sold'].idxmin(), 'month_name']\n",
    "\n",
    "print(f\"Peak month for EV sales: {peak_month}\")\n",
    "print(f\"Low month for EV sales: {low_month}\")"
   ]
  },
  {
   "cell_type": "code",
   "execution_count": 8,
   "id": "75fdfcbf",
   "metadata": {},
   "outputs": [
    {
     "name": "stderr",
     "output_type": "stream",
     "text": [
      "/tmp/ipykernel_328693/1779725159.py:2: FutureWarning: \n",
      "\n",
      "Passing `palette` without assigning `hue` is deprecated and will be removed in v0.14.0. Assign the `x` variable to `hue` and set `legend=False` for the same effect.\n",
      "\n",
      "  sns.barplot(x=\"month_name\", y=\"electric_vehicles_sold\", data=monthly_sales, palette=\"viridis\")\n"
     ]
    },
    {
     "data": {
      "image/png": "[encoded data removed]",
      "text/plain": [
       "<Figure size 1000x500 with 1 Axes>"
      ]
     },
     "metadata": {},
     "output_type": "display_data"
    }
   ],
   "source": [
    "plt.figure(figsize=(10, 5))\n",
    "sns.barplot(x=\"month_name\", y=\"electric_vehicles_sold\", data=monthly_sales, palette=\"viridis\")\n",
    "\n",
    "plt.title(\"EV Sales by Month (2022-2024)\")\n",
    "plt.xlabel(\"Month\")\n",
    "plt.ylabel(\"Total Sales\")\n",
    "plt.xticks(\n",
    "    range(0, 12),\n",
    "    [\n",
    "        \"Jan\",\n",
    "        \"Feb\",\n",
    "        \"Mar\",\n",
    "        \"Apr\",\n",
    "        \"May\",\n",
    "        \"Jun\",\n",
    "        \"Jul\",\n",
    "        \"Aug\",\n",
    "        \"Sep\",\n",
    "        \"Oct\",\n",
    "        \"Nov\",\n",
    "        \"Dec\",\n",
    "    ],\n",
    ")\n",
    "plt.show()"
   ]
  },
  {
   "cell_type": "code",
   "execution_count": 9,
   "id": "dac6f2cd",
   "metadata": {},
   "outputs": [
    {
     "data": {
      "image/png": "[encoded data removed]",
      "text/plain": [
       "<Figure size 1000x500 with 1 Axes>"
      ]
     },
     "metadata": {},
     "output_type": "display_data"
    }
   ],
   "source": [
    "plt.figure(figsize=(10,5))\n",
    "plt.plot(monthly_sales['month_name'], monthly_sales['electric_vehicles_sold'], marker='o')\n",
    "plt.scatter(peak_month, monthly_sales.loc[monthly_sales['month_name']==peak_month, 'electric_vehicles_sold'], color='green', s=100)\n",
    "plt.scatter(low_month, monthly_sales.loc[monthly_sales['month_name']==low_month, 'electric_vehicles_sold'], color='red', s=100)\n",
    "plt.xticks(range(0,12), ['Jan','Feb','Mar','Apr','May','Jun','Jul','Aug','Sep','Oct','Nov','Dec'])\n",
    "plt.title('EV Sales Trend (2022-2024)')\n",
    "plt.show()\n"
   ]
  },
  {
   "cell_type": "code",
   "execution_count": 10,
   "id": "65945b51",
   "metadata": {},
   "outputs": [
    {
     "data": {
      "image/png": "[encoded data removed]",
      "text/plain": [
       "<Figure size 1200x400 with 2 Axes>"
      ]
     },
     "metadata": {},
     "output_type": "display_data"
    }
   ],
   "source": [
    "yearly_monthly_sales = (\n",
    "    ev_sales[ev_sales[\"fiscal_year\"].between(2022, 2024)]\n",
    "    .groupby([\"fiscal_year\", \"month_name\"])[\"electric_vehicles_sold\"]\n",
    "    .sum()\n",
    "    .reset_index()\n",
    ")\n",
    "\n",
    "# Create the pivot table\n",
    "sales_pivot = yearly_monthly_sales.pivot(\n",
    "    index=\"fiscal_year\", columns=\"month_name\", values=\"electric_vehicles_sold\"\n",
    ")\n",
    "\n",
    "# Reorder columns to show months in chronological order (starting from April)\n",
    "fiscal_month_order = [\n",
    "    \"April\",\n",
    "    \"May\",\n",
    "    \"June\",\n",
    "    \"July\",\n",
    "    \"August\",\n",
    "    \"September\",\n",
    "    \"October\",\n",
    "    \"November\",\n",
    "    \"December\",\n",
    "    \"January\",\n",
    "    \"February\",\n",
    "    \"March\",\n",
    "]\n",
    "sales_pivot = sales_pivot[fiscal_month_order]\n",
    "\n",
    "# Create the heatmap\n",
    "plt.figure(figsize=(12, 4))\n",
    "sns.heatmap(sales_pivot, annot=True, fmt=\".0f\", cmap=\"YlGnBu\")\n",
    "plt.title(\"EV Sales Heatmap by Fiscal Year (2022-2024)\")\n",
    "plt.show()"
   ]
  },
  {
   "cell_type": "code",
   "execution_count": 12,
   "id": "feacd233",
   "metadata": {},
   "outputs": [
    {
     "name": "stderr",
     "output_type": "stream",
     "text": [
      "/tmp/ipykernel_335276/313604982.py:6: UserWarning:\n",
      "\n",
      "Could not infer format, so each element will be parsed individually, falling back to `dateutil`. To ensure parsing is consistent and as-expected, please specify a format.\n",
      "\n",
      "/tmp/ipykernel_335276/313604982.py:7: UserWarning:\n",
      "\n",
      "Could not infer format, so each element will be parsed individually, falling back to `dateutil`. To ensure parsing is consistent and as-expected, please specify a format.\n",
      "\n"
     ]
    },
    {
     "data": {
      "text/html": [
       "<div>\n",
       "<style scoped>\n",
       "    .dataframe tbody tr th:only-of-type {\n",
       "        vertical-align: middle;\n",
       "    }\n",
       "\n",
       "    .dataframe tbody tr th {\n",
       "        vertical-align: top;\n",
       "    }\n",
       "\n",
       "    .dataframe thead th {\n",
       "        text-align: right;\n",
       "    }\n",
       "</style>\n",
       "<table border=\"1\" class=\"dataframe\">\n",
       "  <thead>\n",
       "    <tr style=\"text-align: right;\">\n",
       "      <th></th>\n",
       "      <th>state</th>\n",
       "      <th>ev_penetration</th>\n",
       "      <th>cagr</th>\n",
       "      <th>maturity_stage</th>\n",
       "      <th>maturity_percentage</th>\n",
       "      <th>growth_tier</th>\n",
       "    </tr>\n",
       "  </thead>\n",
       "  <tbody>\n",
       "    <tr>\n",
       "      <th>0</th>\n",
       "      <td>Andaman &amp; Nicobar Island</td>\n",
       "      <td>0.427984</td>\n",
       "      <td>-23.369057</td>\n",
       "      <td>Early</td>\n",
       "      <td>35.3</td>\n",
       "      <td>Emerging</td>\n",
       "    </tr>\n",
       "    <tr>\n",
       "      <th>1</th>\n",
       "      <td>Andhra Pradesh</td>\n",
       "      <td>3.389946</td>\n",
       "      <td>23.698849</td>\n",
       "      <td>Emerging</td>\n",
       "      <td>50.0</td>\n",
       "      <td>Emerging</td>\n",
       "    </tr>\n",
       "    <tr>\n",
       "      <th>2</th>\n",
       "      <td>Arunachal Pradesh</td>\n",
       "      <td>0.046124</td>\n",
       "      <td>0.000000</td>\n",
       "      <td>Early</td>\n",
       "      <td>35.3</td>\n",
       "      <td>Emerging</td>\n",
       "    </tr>\n",
       "    <tr>\n",
       "      <th>3</th>\n",
       "      <td>Assam</td>\n",
       "      <td>0.457360</td>\n",
       "      <td>57.971748</td>\n",
       "      <td>Early</td>\n",
       "      <td>35.3</td>\n",
       "      <td>High-Growth</td>\n",
       "    </tr>\n",
       "    <tr>\n",
       "      <th>4</th>\n",
       "      <td>Bihar</td>\n",
       "      <td>1.017559</td>\n",
       "      <td>28.139425</td>\n",
       "      <td>Emerging</td>\n",
       "      <td>50.0</td>\n",
       "      <td>Steady-Growth</td>\n",
       "    </tr>\n",
       "  </tbody>\n",
       "</table>\n",
       "</div>"
      ],
      "text/plain": [
       "                      state  ev_penetration       cagr maturity_stage  \\\n",
       "0  Andaman & Nicobar Island        0.427984 -23.369057          Early   \n",
       "1            Andhra Pradesh        3.389946  23.698849       Emerging   \n",
       "2         Arunachal Pradesh        0.046124   0.000000          Early   \n",
       "3                     Assam        0.457360  57.971748          Early   \n",
       "4                     Bihar        1.017559  28.139425       Emerging   \n",
       "\n",
       "   maturity_percentage    growth_tier  \n",
       "0                 35.3       Emerging  \n",
       "1                 50.0       Emerging  \n",
       "2                 35.3       Emerging  \n",
       "3                 35.3    High-Growth  \n",
       "4                 50.0  Steady-Growth  "
      ]
     },
     "metadata": {},
     "output_type": "display_data"
    },
    {
     "name": "stdout",
     "output_type": "stream",
     "text": [
      "Maturity Stage Distribution (% of states):\n",
      "maturity_stage\n",
      "Emerging      50.0\n",
      "Early         35.3\n",
      "Developing    14.7\n",
      "Name: proportion, dtype: float64\n",
      "Hyper-Growth Markets: ['Meghalaya', 'Tripura']\n",
      "High-Growth Markets: ['Assam', 'Chhattisgarh', 'DNH and DD', 'Goa', 'Puducherry', 'Uttar Pradesh', 'West Bengal']\n",
      "Steady-Growth Markets: ['Bihar', 'Chandigarh', 'Gujarat', 'Karnataka', 'Kerala', 'Ladakh', 'Madhya Pradesh', 'Maharashtra', 'Manipur', 'Nagaland']\n",
      "Emerging Markets: ['Andaman & Nicobar Island', 'Andhra Pradesh', 'Arunachal Pradesh', 'Delhi', 'Haryana', 'Himachal Pradesh', 'Jammu and Kashmir', 'Jharkhand', 'Mizoram', 'Odisha', 'Punjab', 'Rajasthan', 'Sikkim', 'Tamil Nadu', 'Uttarakhand']\n"
     ]
    }
   ],
   "source": [
    "import pandas as pd\n",
    "\n",
    "df = pd.read_csv(\"../../data/processed/electric_vehicle_sales_by_state.csv\")\n",
    "dim_date = pd.read_csv(\"../../data/raw/dim_date.csv\")\n",
    "\n",
    "df['date'] = pd.to_datetime(df['date'])\n",
    "dim_date['date'] = pd.to_datetime(dim_date['date'])\n",
    "\n",
    "ev_sales = pd.merge(dim_date, df, on='date', how='inner')\n",
    "\n",
    "# 1. Calculate EV penetration for each state\n",
    "state_penetration = (\n",
    "    ev_sales.groupby('state')[['electric_vehicles_sold', 'total_vehicles_sold']]\n",
    "    .sum()\n",
    "    .reset_index()\n",
    ")\n",
    "state_penetration['ev_penetration'] = (\n",
    "    state_penetration['electric_vehicles_sold'] / state_penetration['total_vehicles_sold']\n",
    ") * 100\n",
    "\n",
    "# 2. Calculate CAGR for each state (using yearly sales)\n",
    "ev_sales['fiscal_year'] = pd.to_datetime(ev_sales['date']).dt.year\n",
    "yearly_sales = (\n",
    "    ev_sales.groupby(['state', 'fiscal_year'])['electric_vehicles_sold']\n",
    "    .sum()\n",
    "    .reset_index()\n",
    ")\n",
    "\n",
    "def calc_cagr(start, end, periods):\n",
    "    return ((end / start) ** (1 / periods) - 1) * 100 if start > 0 and periods > 0 else 0\n",
    "\n",
    "cagr_list = []\n",
    "for state in yearly_sales['state'].unique():\n",
    "    state_data = yearly_sales[yearly_sales['state'] == state].sort_values('fiscal_year')\n",
    "    if len(state_data) >= 2:\n",
    "        start_val = state_data.iloc[0]['electric_vehicles_sold']\n",
    "        end_val = state_data.iloc[-1]['electric_vehicles_sold']\n",
    "        periods = state_data.iloc[-1]['fiscal_year'] - state_data.iloc[0]['fiscal_year']\n",
    "        cagr = calc_cagr(start_val, end_val, periods)\n",
    "        cagr_list.append({'state': state, 'cagr': cagr})\n",
    "\n",
    "cagr_df = pd.DataFrame(cagr_list)\n",
    "\n",
    "# 3. Merge penetration and CAGR\n",
    "state_maturity = pd.merge(\n",
    "    state_penetration[['state', 'ev_penetration']], cagr_df, on='state'\n",
    ")\n",
    "\n",
    "# 4. Classify states by maturity and growth\n",
    "def maturity_stage(pen):\n",
    "    if pen > 15:\n",
    "        return 'Advanced'\n",
    "    elif pen > 5:\n",
    "        return 'Developing'\n",
    "    elif pen > 1:\n",
    "        return 'Emerging'\n",
    "    else:\n",
    "        return 'Early'\n",
    "\n",
    "def growth_tier(cagr):\n",
    "    if cagr >= 80:\n",
    "        return 'Hyper-Growth'\n",
    "    elif cagr >= 50:\n",
    "        return 'High-Growth'\n",
    "    elif cagr >= 25:\n",
    "        return 'Steady-Growth'\n",
    "    else:\n",
    "        return 'Emerging'\n",
    "\n",
    "state_maturity['maturity_stage'] = state_maturity['ev_penetration'].apply(maturity_stage)\n",
    "\n",
    "# Calculate maturity stage percentage distribution\n",
    "maturity_percentage = (\n",
    "    state_maturity['maturity_stage']\n",
    "    .value_counts(normalize=True)\n",
    "    .apply(lambda x: round(x * 100, 1))\n",
    "    .to_dict()\n",
    ")\n",
    "\n",
    "# Map each state's maturity stage to its percentage share\n",
    "state_maturity['maturity_percentage'] = state_maturity['maturity_stage'].map(maturity_percentage)\n",
    "\n",
    "state_maturity['growth_tier'] = state_maturity['cagr'].apply(growth_tier)\n",
    "\n",
    "display(state_maturity.head())\n",
    "\n",
    "# 5. Summary statistics and lists\n",
    "maturity_counts = state_maturity['maturity_stage'].value_counts(normalize=True) * 100\n",
    "print('Maturity Stage Distribution (% of states):')\n",
    "print(maturity_counts.round(1))\n",
    "\n",
    "for tier in ['Hyper-Growth', 'High-Growth', 'Steady-Growth', 'Emerging']:\n",
    "    states_in_tier = state_maturity[state_maturity['growth_tier'] == tier]['state'].tolist()\n",
    "    print(f\"{tier} Markets:\", states_in_tier)\n"
   ]
  },
  {
   "cell_type": "code",
   "execution_count": 13,
   "id": "99d315be",
   "metadata": {},
   "outputs": [
    {
     "name": "stdout",
     "output_type": "stream",
     "text": [
      "Maturity Stage Distribution:\n",
      "  Maturity Stage  Percentage\n",
      "0       Emerging        50.0\n",
      "1          Early        35.3\n",
      "2     Developing        14.7\n",
      "\n",
      "CAGR Performance Tier Distribution:\n",
      "     Growth Tier  Percentage\n",
      "0       Emerging        44.1\n",
      "1  Steady-Growth        29.4\n",
      "2    High-Growth        20.6\n",
      "3   Hyper-Growth         5.9\n"
     ]
    },
    {
     "data": {
      "text/html": [
       "<div>\n",
       "<style scoped>\n",
       "    .dataframe tbody tr th:only-of-type {\n",
       "        vertical-align: middle;\n",
       "    }\n",
       "\n",
       "    .dataframe tbody tr th {\n",
       "        vertical-align: top;\n",
       "    }\n",
       "\n",
       "    .dataframe thead th {\n",
       "        text-align: right;\n",
       "    }\n",
       "</style>\n",
       "<table border=\"1\" class=\"dataframe\">\n",
       "  <thead>\n",
       "    <tr style=\"text-align: right;\">\n",
       "      <th></th>\n",
       "      <th>Maturity Stage</th>\n",
       "      <th>Percentage</th>\n",
       "    </tr>\n",
       "  </thead>\n",
       "  <tbody>\n",
       "    <tr>\n",
       "      <th>0</th>\n",
       "      <td>Emerging</td>\n",
       "      <td>50.0</td>\n",
       "    </tr>\n",
       "    <tr>\n",
       "      <th>1</th>\n",
       "      <td>Early</td>\n",
       "      <td>35.3</td>\n",
       "    </tr>\n",
       "    <tr>\n",
       "      <th>2</th>\n",
       "      <td>Developing</td>\n",
       "      <td>14.7</td>\n",
       "    </tr>\n",
       "  </tbody>\n",
       "</table>\n",
       "</div>"
      ],
      "text/plain": [
       "  Maturity Stage  Percentage\n",
       "0       Emerging        50.0\n",
       "1          Early        35.3\n",
       "2     Developing        14.7"
      ]
     },
     "metadata": {},
     "output_type": "display_data"
    },
    {
     "data": {
      "text/html": [
       "<div>\n",
       "<style scoped>\n",
       "    .dataframe tbody tr th:only-of-type {\n",
       "        vertical-align: middle;\n",
       "    }\n",
       "\n",
       "    .dataframe tbody tr th {\n",
       "        vertical-align: top;\n",
       "    }\n",
       "\n",
       "    .dataframe thead th {\n",
       "        text-align: right;\n",
       "    }\n",
       "</style>\n",
       "<table border=\"1\" class=\"dataframe\">\n",
       "  <thead>\n",
       "    <tr style=\"text-align: right;\">\n",
       "      <th></th>\n",
       "      <th>Growth Tier</th>\n",
       "      <th>Percentage</th>\n",
       "    </tr>\n",
       "  </thead>\n",
       "  <tbody>\n",
       "    <tr>\n",
       "      <th>0</th>\n",
       "      <td>Emerging</td>\n",
       "      <td>44.1</td>\n",
       "    </tr>\n",
       "    <tr>\n",
       "      <th>1</th>\n",
       "      <td>Steady-Growth</td>\n",
       "      <td>29.4</td>\n",
       "    </tr>\n",
       "    <tr>\n",
       "      <th>2</th>\n",
       "      <td>High-Growth</td>\n",
       "      <td>20.6</td>\n",
       "    </tr>\n",
       "    <tr>\n",
       "      <th>3</th>\n",
       "      <td>Hyper-Growth</td>\n",
       "      <td>5.9</td>\n",
       "    </tr>\n",
       "  </tbody>\n",
       "</table>\n",
       "</div>"
      ],
      "text/plain": [
       "     Growth Tier  Percentage\n",
       "0       Emerging        44.1\n",
       "1  Steady-Growth        29.4\n",
       "2    High-Growth        20.6\n",
       "3   Hyper-Growth         5.9"
      ]
     },
     "metadata": {},
     "output_type": "display_data"
    }
   ],
   "source": [
    "# Maturity Stage distribution table\n",
    "maturity_distribution = (\n",
    "    state_maturity['maturity_stage']\n",
    "    .value_counts(normalize=True) * 100\n",
    ").round(1).reset_index()\n",
    "\n",
    "maturity_distribution.columns = ['Maturity Stage', 'Percentage']\n",
    "\n",
    "# CAGR Performance Tier distribution table\n",
    "growth_distribution = (\n",
    "    state_maturity['growth_tier']\n",
    "    .value_counts(normalize=True) * 100\n",
    ").round(1).reset_index()\n",
    "\n",
    "growth_distribution.columns = ['Growth Tier', 'Percentage']\n",
    "\n",
    "print(\"Maturity Stage Distribution:\")\n",
    "print(maturity_distribution)\n",
    "\n",
    "print(\"\\nCAGR Performance Tier Distribution:\")\n",
    "print(growth_distribution)\n",
    "\n",
    "# Optionally display as tables in notebook\n",
    "display(maturity_distribution)\n",
    "display(growth_distribution)"
   ]
  },
  {
   "cell_type": "code",
   "execution_count": 14,
   "id": "a6b075cd",
   "metadata": {},
   "outputs": [
    {
     "data": {
      "image/png": "[encoded data removed]",
      "text/plain": [
       "<Figure size 600x400 with 1 Axes>"
      ]
     },
     "metadata": {},
     "output_type": "display_data"
    },
    {
     "data": {
      "image/png": "[encoded data removed]",
      "text/plain": [
       "<Figure size 600x400 with 1 Axes>"
      ]
     },
     "metadata": {},
     "output_type": "display_data"
    }
   ],
   "source": [
    "import pandas as pd\n",
    "import matplotlib.pyplot as plt\n",
    "\n",
    "# Data\n",
    "maturity_data = pd.DataFrame({\n",
    "    \"Maturity Stage\": [\"Emerging\", \"Early\", \"Developing\"],\n",
    "    \"Percentage\": [50.0, 35.3, 14.7]\n",
    "})\n",
    "\n",
    "cagr_data = pd.DataFrame({\n",
    "    \"Growth Tier\": [\"Emerging\", \"Steady-Growth\", \"High-Growth\", \"Hyper-Growth\"],\n",
    "    \"Percentage\": [44.1, 29.4, 20.6, 5.9]\n",
    "})\n",
    "\n",
    "# --- Plot Maturity Stage Distribution ---\n",
    "plt.figure(figsize=(6, 4))\n",
    "plt.bar(maturity_data[\"Maturity Stage\"], maturity_data[\"Percentage\"], color=\"#1f77b4\")\n",
    "plt.ylabel(\"Percentage (%)\")\n",
    "plt.title(\"Maturity Stage Distribution\")\n",
    "plt.ylim(0, 60)\n",
    "for i, val in enumerate(maturity_data[\"Percentage\"]):\n",
    "    plt.text(i, val + 1, f\"{val}%\", ha='center', fontsize=10)\n",
    "plt.tight_layout()\n",
    "plt.show()\n",
    "\n",
    "# --- Plot CAGR Tier Distribution ---\n",
    "plt.figure(figsize=(6, 4))\n",
    "plt.bar(cagr_data[\"Growth Tier\"], cagr_data[\"Percentage\"], color=\"#ff7f0e\")\n",
    "plt.ylabel(\"Percentage (%)\")\n",
    "plt.title(\"CAGR Performance Tier Distribution\")\n",
    "plt.ylim(0, 50)\n",
    "plt.xticks(rotation=15)\n",
    "for i, val in enumerate(cagr_data[\"Percentage\"]):\n",
    "    plt.text(i, val + 1, f\"{val}%\", ha='center', fontsize=10)\n",
    "plt.tight_layout()\n",
    "plt.show()\n"
   ]
  },
  {
   "cell_type": "code",
   "execution_count": 4,
   "id": "32107c75",
   "metadata": {},
   "outputs": [
    {
     "data": {
      "application/vnd.plotly.v1+json": {
       "config": {
        "plotlyServerURL": "https://plot.ly"
       },
       "data": [
        {
         "hovertemplate": "<b>%{hovertext}</b><br><br>Maturity Stage=Early<br>Growth Tier=Emerging<br>EV Penetration (%)=%{marker.size}<br>CAGR (%)=%{y}<extra></extra>",
         "hovertext": [
          "Andaman & Nicobar Island",
          "Arunachal Pradesh",
          "Himachal Pradesh",
          "Mizoram",
          "Sikkim"
         ],
         "legendgroup": "Early, Emerging",
         "marker": {
          "color": "#636efa",
          "size": {
           "bdata": "s9LoERVk2z+eG7vBgJ2nP9baJZijhek/aeZkhRSE3j8AAAAAAAAAAA==",
           "dtype": "f8"
          },
          "sizemode": "area",
          "sizeref": 0.024608691303695553,
          "symbol": "circle"
         },
         "mode": "markers",
         "name": "Early, Emerging",
         "orientation": "v",
         "showlegend": true,
         "type": "scatter",
         "x": {
          "bdata": "s9LoERVk2z+eG7vBgJ2nP9baJZijhek/aeZkhRSE3j8AAAAAAAAAAA==",
          "dtype": "f8"
         },
         "xaxis": "x",
         "y": {
          "bdata": "Llb9gHpeN8AAAAAAAAAAAKaxpak9xv2/AAAAAAAAAAAAAAAAAAAAAA==",
          "dtype": "f8"
         },
         "yaxis": "y"
        },
        {
         "hovertemplate": "<b>%{hovertext}</b><br><br>Maturity Stage=Early<br>Growth Tier=High-Growth<br>EV Penetration (%)=%{marker.size}<br>CAGR (%)=%{y}<extra></extra>",
         "hovertext": [
          "Assam",
          "DNH and DD"
         ],
         "legendgroup": "Early, High-Growth",
         "marker": {
          "color": "#636efa",
          "size": {
           "bdata": "HAHVzWJF3T/0AXHvSi3qPw==",
           "dtype": "f8"
          },
          "sizemode": "area",
          "sizeref": 0.024608691303695553,
          "symbol": "diamond"
         },
         "mode": "markers",
         "name": "Early, High-Growth",
         "orientation": "v",
         "showlegend": true,
         "type": "scatter",
         "x": {
          "bdata": "HAHVzWJF3T/0AXHvSi3qPw==",
          "dtype": "f8"
         },
         "xaxis": "x",
         "y": {
          "bdata": "1uVMPWL8TED5K/6CURBSQA==",
          "dtype": "f8"
         },
         "yaxis": "y"
        },
        {
         "hovertemplate": "<b>%{hovertext}</b><br><br>Maturity Stage=Early<br>Growth Tier=Steady-Growth<br>EV Penetration (%)=%{marker.size}<br>CAGR (%)=%{y}<extra></extra>",
         "hovertext": [
          "Ladakh",
          "Manipur",
          "Nagaland"
         ],
         "legendgroup": "Early, Steady-Growth",
         "marker": {
          "color": "#636efa",
          "size": {
           "bdata": "uxK1K1G75D8MJ7xyR0/SP/KgMsQAMZ4/",
           "dtype": "f8"
          },
          "sizemode": "area",
          "sizeref": 0.024608691303695553,
          "symbol": "square"
         },
         "mode": "markers",
         "name": "Early, Steady-Growth",
         "orientation": "v",
         "showlegend": true,
         "type": "scatter",
         "x": {
          "bdata": "uxK1K1G75D8MJ7xyR0/SP/KgMsQAMZ4/",
          "dtype": "f8"
         },
         "xaxis": "x",
         "y": {
          "bdata": "Ic2NjU9RQEB0j+Op4cBCQMEEWWTLHEZA",
          "dtype": "f8"
         },
         "yaxis": "y"
        },
        {
         "hovertemplate": "<b>%{hovertext}</b><br><br>Maturity Stage=Early<br>Growth Tier=Hyper-Growth<br>EV Penetration (%)=%{marker.size}<br>CAGR (%)=%{y}<extra></extra>",
         "hovertext": [
          "Meghalaya",
          "Tripura"
         ],
         "legendgroup": "Early, Hyper-Growth",
         "marker": {
          "color": "#636efa",
          "size": {
           "bdata": "UNiD3ksfyT+kxZsbirncPw==",
           "dtype": "f8"
          },
          "sizemode": "area",
          "sizeref": 0.024608691303695553,
          "symbol": "x"
         },
         "mode": "markers",
         "name": "Early, Hyper-Growth",
         "orientation": "v",
         "showlegend": true,
         "type": "scatter",
         "x": {
          "bdata": "UNiD3ksfyT+kxZsbirncPw==",
          "dtype": "f8"
         },
         "xaxis": "x",
         "y": {
          "bdata": "x31EVhs3Y0DNlQNq4ONtQA==",
          "dtype": "f8"
         },
         "yaxis": "y"
        },
        {
         "hovertemplate": "<b>%{hovertext}</b><br><br>Maturity Stage=Emerging<br>Growth Tier=Emerging<br>EV Penetration (%)=%{marker.size}<br>CAGR (%)=%{y}<extra></extra>",
         "hovertext": [
          "Andhra Pradesh",
          "Haryana",
          "Jammu and Kashmir",
          "Jharkhand",
          "Odisha",
          "Punjab",
          "Rajasthan",
          "Tamil Nadu",
          "Uttarakhand"
         ],
         "legendgroup": "Emerging, Emerging",
         "marker": {
          "color": "#EF553B",
          "size": {
           "bdata": "Tpu3J5weC0Ckdr/ThuX5P+XVu92oC/c/dwMneh2k9T/xOqHqt4kSQAaf/ECxsvg/EadQtjEvEkDRf+O/bTMRQIedLWERbwNA",
           "dtype": "f8"
          },
          "sizemode": "area",
          "sizeref": 0.024608691303695553,
          "symbol": "circle"
         },
         "mode": "markers",
         "name": "Emerging, Emerging",
         "orientation": "v",
         "showlegend": true,
         "type": "scatter",
         "x": {
          "bdata": "Tpu3J5weC0Ckdr/ThuX5P+XVu92oC/c/dwMneh2k9T/xOqHqt4kSQAaf/ECxsvg/EadQtjEvEkDRf+O/bTMRQIedLWERbwNA",
          "dtype": "f8"
         },
         "xaxis": "x",
         "y": {
          "bdata": "HosFw+eyN0Dej61mGSciQKqB5VVy1x7AnsFmB1HOKkADa5aJUm01QFvbORyGeB9AQpnM0+VIMUDVQUWb9GswQJy7i4ldSitA",
          "dtype": "f8"
         },
         "yaxis": "y"
        },
        {
         "hovertemplate": "<b>%{hovertext}</b><br><br>Maturity Stage=Emerging<br>Growth Tier=High-Growth<br>EV Penetration (%)=%{marker.size}<br>CAGR (%)=%{y}<extra></extra>",
         "hovertext": [
          "Chhattisgarh",
          "Puducherry",
          "Uttar Pradesh",
          "West Bengal"
         ],
         "legendgroup": "Emerging, High-Growth",
         "marker": {
          "color": "#EF553B",
          "size": {
           "bdata": "l36VwAUfEEB9COSqfF4NQPQmlxcsvvI/BA+bIcXe8T8=",
           "dtype": "f8"
          },
          "sizemode": "area",
          "sizeref": 0.024608691303695553,
          "symbol": "diamond"
         },
         "mode": "markers",
         "name": "Emerging, High-Growth",
         "orientation": "v",
         "showlegend": true,
         "type": "scatter",
         "x": {
          "bdata": "l36VwAUfEEB9COSqfF4NQPQmlxcsvvI/BA+bIcXe8T8=",
          "dtype": "f8"
         },
         "xaxis": "x",
         "y": {
          "bdata": "0iqyvXRQS0B3ctU1bj5KQMfW6c6xqktAwuaYdDMpUkA=",
          "dtype": "f8"
         },
         "yaxis": "y"
        },
        {
         "hovertemplate": "<b>%{hovertext}</b><br><br>Maturity Stage=Emerging<br>Growth Tier=Steady-Growth<br>EV Penetration (%)=%{marker.size}<br>CAGR (%)=%{y}<extra></extra>",
         "hovertext": [
          "Bihar",
          "Chandigarh",
          "Gujarat",
          "Madhya Pradesh"
         ],
         "legendgroup": "Emerging, Steady-Growth",
         "marker": {
          "color": "#EF553B",
          "size": {
           "bdata": "K7KiKOxH8D+xP5OgPCoQQCyFBD0+lhFADsBDnB4PAkA=",
           "dtype": "f8"
          },
          "sizemode": "area",
          "sizeref": 0.024608691303695553,
          "symbol": "square"
         },
         "mode": "markers",
         "name": "Emerging, Steady-Growth",
         "orientation": "v",
         "showlegend": true,
         "type": "scatter",
         "x": {
          "bdata": "K7KiKOxH8D+xP5OgPCoQQCyFBD0+lhFADsBDnB4PAkA=",
          "dtype": "f8"
         },
         "xaxis": "x",
         "y": {
          "bdata": "RunVVLEjPEBqfzrdJJdDQP6U+GdF9EFAw2P7sVBOR0A=",
          "dtype": "f8"
         },
         "yaxis": "y"
        },
        {
         "hovertemplate": "<b>%{hovertext}</b><br><br>Maturity Stage=Developing<br>Growth Tier=Emerging<br>EV Penetration (%)=%{marker.size}<br>CAGR (%)=%{y}<extra></extra>",
         "hovertext": [
          "Delhi"
         ],
         "legendgroup": "Developing, Emerging",
         "marker": {
          "color": "#00cc96",
          "size": {
           "bdata": "aDRZtfcFG0A=",
           "dtype": "f8"
          },
          "sizemode": "area",
          "sizeref": 0.024608691303695553,
          "symbol": "circle"
         },
         "mode": "markers",
         "name": "Developing, Emerging",
         "orientation": "v",
         "showlegend": true,
         "type": "scatter",
         "x": {
          "bdata": "aDRZtfcFG0A=",
          "dtype": "f8"
         },
         "xaxis": "x",
         "y": {
          "bdata": "TlEtgpbqMUA=",
          "dtype": "f8"
         },
         "yaxis": "y"
        },
        {
         "hovertemplate": "<b>%{hovertext}</b><br><br>Maturity Stage=Developing<br>Growth Tier=High-Growth<br>EV Penetration (%)=%{marker.size}<br>CAGR (%)=%{y}<extra></extra>",
         "hovertext": [
          "Goa"
         ],
         "legendgroup": "Developing, High-Growth",
         "marker": {
          "color": "#00cc96",
          "size": {
           "bdata": "t2KVJ9yvI0A=",
           "dtype": "f8"
          },
          "sizemode": "area",
          "sizeref": 0.024608691303695553,
          "symbol": "diamond"
         },
         "mode": "markers",
         "name": "Developing, High-Growth",
         "orientation": "v",
         "showlegend": true,
         "type": "scatter",
         "x": {
          "bdata": "t2KVJ9yvI0A=",
          "dtype": "f8"
         },
         "xaxis": "x",
         "y": {
          "bdata": "+Ct+hGFAT0A=",
          "dtype": "f8"
         },
         "yaxis": "y"
        },
        {
         "hovertemplate": "<b>%{hovertext}</b><br><br>Maturity Stage=Developing<br>Growth Tier=Steady-Growth<br>EV Penetration (%)=%{marker.size}<br>CAGR (%)=%{y}<extra></extra>",
         "hovertext": [
          "Karnataka",
          "Kerala",
          "Maharashtra"
         ],
         "legendgroup": "Developing, Steady-Growth",
         "marker": {
          "color": "#00cc96",
          "size": {
           "bdata": "/InmTwxYH0AIjOB0pY0aQMwmDgzO9hlA",
           "dtype": "f8"
          },
          "sizemode": "area",
          "sizeref": 0.024608691303695553,
          "symbol": "square"
         },
         "mode": "markers",
         "name": "Developing, Steady-Growth",
         "orientation": "v",
         "showlegend": true,
         "type": "scatter",
         "x": {
          "bdata": "/InmTwxYH0AIjOB0pY0aQMwmDgzO9hlA",
          "dtype": "f8"
         },
         "xaxis": "x",
         "y": {
          "bdata": "iVGGAl+wOkA/HKuaK7dIQHLxxVKVEkNA",
          "dtype": "f8"
         },
         "yaxis": "y"
        }
       ],
       "layout": {
        "height": 600,
        "legend": {
         "itemsizing": "constant",
         "title": {
          "text": "Market Segmentation"
         },
         "tracegroupgap": 0
        },
        "plot_bgcolor": "white",
        "template": {
         "data": {
          "bar": [
           {
            "error_x": {
             "color": "#2a3f5f"
            },
            "error_y": {
             "color": "#2a3f5f"
            },
            "marker": {
             "line": {
              "color": "#E5ECF6",
              "width": 0.5
             },
             "pattern": {
              "fillmode": "overlay",
              "size": 10,
              "solidity": 0.2
             }
            },
            "type": "bar"
           }
          ],
          "barpolar": [
           {
            "marker": {
             "line": {
              "color": "#E5ECF6",
              "width": 0.5
             },
             "pattern": {
              "fillmode": "overlay",
              "size": 10,
              "solidity": 0.2
             }
            },
            "type": "barpolar"
           }
          ],
          "carpet": [
           {
            "aaxis": {
             "endlinecolor": "#2a3f5f",
             "gridcolor": "white",
             "linecolor": "white",
             "minorgridcolor": "white",
             "startlinecolor": "#2a3f5f"
            },
            "baxis": {
             "endlinecolor": "#2a3f5f",
             "gridcolor": "white",
             "linecolor": "white",
             "minorgridcolor": "white",
             "startlinecolor": "#2a3f5f"
            },
            "type": "carpet"
           }
          ],
          "choropleth": [
           {
            "colorbar": {
             "outlinewidth": 0,
             "ticks": ""
            },
            "type": "choropleth"
           }
          ],
          "contour": [
           {
            "colorbar": {
             "outlinewidth": 0,
             "ticks": ""
            },
            "colorscale": [
             [
              0,
              "#0d0887"
             ],
             [
              0.1111111111111111,
              "#46039f"
             ],
             [
              0.2222222222222222,
              "#7201a8"
             ],
             [
              0.3333333333333333,
              "#9c179e"
             ],
             [
              0.4444444444444444,
              "#bd3786"
             ],
             [
              0.5555555555555556,
              "#d8576b"
             ],
             [
              0.6666666666666666,
              "#ed7953"
             ],
             [
              0.7777777777777778,
              "#fb9f3a"
             ],
             [
              0.8888888888888888,
              "#fdca26"
             ],
             [
              1,
              "#f0f921"
             ]
            ],
            "type": "contour"
           }
          ],
          "contourcarpet": [
           {
            "colorbar": {
             "outlinewidth": 0,
             "ticks": ""
            },
            "type": "contourcarpet"
           }
          ],
          "heatmap": [
           {
            "colorbar": {
             "outlinewidth": 0,
             "ticks": ""
            },
            "colorscale": [
             [
              0,
              "#0d0887"
             ],
             [
              0.1111111111111111,
              "#46039f"
             ],
             [
              0.2222222222222222,
              "#7201a8"
             ],
             [
              0.3333333333333333,
              "#9c179e"
             ],
             [
              0.4444444444444444,
              "#bd3786"
             ],
             [
              0.5555555555555556,
              "#d8576b"
             ],
             [
              0.6666666666666666,
              "#ed7953"
             ],
             [
              0.7777777777777778,
              "#fb9f3a"
             ],
             [
              0.8888888888888888,
              "#fdca26"
             ],
             [
              1,
              "#f0f921"
             ]
            ],
            "type": "heatmap"
           }
          ],
          "histogram": [
           {
            "marker": {
             "pattern": {
              "fillmode": "overlay",
              "size": 10,
              "solidity": 0.2
             }
            },
            "type": "histogram"
           }
          ],
          "histogram2d": [
           {
            "colorbar": {
             "outlinewidth": 0,
             "ticks": ""
            },
            "colorscale": [
             [
              0,
              "#0d0887"
             ],
             [
              0.1111111111111111,
              "#46039f"
             ],
             [
              0.2222222222222222,
              "#7201a8"
             ],
             [
              0.3333333333333333,
              "#9c179e"
             ],
             [
              0.4444444444444444,
              "#bd3786"
             ],
             [
              0.5555555555555556,
              "#d8576b"
             ],
             [
              0.6666666666666666,
              "#ed7953"
             ],
             [
              0.7777777777777778,
              "#fb9f3a"
             ],
             [
              0.8888888888888888,
              "#fdca26"
             ],
             [
              1,
              "#f0f921"
             ]
            ],
            "type": "histogram2d"
           }
          ],
          "histogram2dcontour": [
           {
            "colorbar": {
             "outlinewidth": 0,
             "ticks": ""
            },
            "colorscale": [
             [
              0,
              "#0d0887"
             ],
             [
              0.1111111111111111,
              "#46039f"
             ],
             [
              0.2222222222222222,
              "#7201a8"
             ],
             [
              0.3333333333333333,
              "#9c179e"
             ],
             [
              0.4444444444444444,
              "#bd3786"
             ],
             [
              0.5555555555555556,
              "#d8576b"
             ],
             [
              0.6666666666666666,
              "#ed7953"
             ],
             [
              0.7777777777777778,
              "#fb9f3a"
             ],
             [
              0.8888888888888888,
              "#fdca26"
             ],
             [
              1,
              "#f0f921"
             ]
            ],
            "type": "histogram2dcontour"
           }
          ],
          "mesh3d": [
           {
            "colorbar": {
             "outlinewidth": 0,
             "ticks": ""
            },
            "type": "mesh3d"
           }
          ],
          "parcoords": [
           {
            "line": {
             "colorbar": {
              "outlinewidth": 0,
              "ticks": ""
             }
            },
            "type": "parcoords"
           }
          ],
          "pie": [
           {
            "automargin": true,
            "type": "pie"
           }
          ],
          "scatter": [
           {
            "fillpattern": {
             "fillmode": "overlay",
             "size": 10,
             "solidity": 0.2
            },
            "type": "scatter"
           }
          ],
          "scatter3d": [
           {
            "line": {
             "colorbar": {
              "outlinewidth": 0,
              "ticks": ""
             }
            },
            "marker": {
             "colorbar": {
              "outlinewidth": 0,
              "ticks": ""
             }
            },
            "type": "scatter3d"
           }
          ],
          "scattercarpet": [
           {
            "marker": {
             "colorbar": {
              "outlinewidth": 0,
              "ticks": ""
             }
            },
            "type": "scattercarpet"
           }
          ],
          "scattergeo": [
           {
            "marker": {
             "colorbar": {
              "outlinewidth": 0,
              "ticks": ""
             }
            },
            "type": "scattergeo"
           }
          ],
          "scattergl": [
           {
            "marker": {
             "colorbar": {
              "outlinewidth": 0,
              "ticks": ""
             }
            },
            "type": "scattergl"
           }
          ],
          "scattermap": [
           {
            "marker": {
             "colorbar": {
              "outlinewidth": 0,
              "ticks": ""
             }
            },
            "type": "scattermap"
           }
          ],
          "scattermapbox": [
           {
            "marker": {
             "colorbar": {
              "outlinewidth": 0,
              "ticks": ""
             }
            },
            "type": "scattermapbox"
           }
          ],
          "scatterpolar": [
           {
            "marker": {
             "colorbar": {
              "outlinewidth": 0,
              "ticks": ""
             }
            },
            "type": "scatterpolar"
           }
          ],
          "scatterpolargl": [
           {
            "marker": {
             "colorbar": {
              "outlinewidth": 0,
              "ticks": ""
             }
            },
            "type": "scatterpolargl"
           }
          ],
          "scatterternary": [
           {
            "marker": {
             "colorbar": {
              "outlinewidth": 0,
              "ticks": ""
             }
            },
            "type": "scatterternary"
           }
          ],
          "surface": [
           {
            "colorbar": {
             "outlinewidth": 0,
             "ticks": ""
            },
            "colorscale": [
             [
              0,
              "#0d0887"
             ],
             [
              0.1111111111111111,
              "#46039f"
             ],
             [
              0.2222222222222222,
              "#7201a8"
             ],
             [
              0.3333333333333333,
              "#9c179e"
             ],
             [
              0.4444444444444444,
              "#bd3786"
             ],
             [
              0.5555555555555556,
              "#d8576b"
             ],
             [
              0.6666666666666666,
              "#ed7953"
             ],
             [
              0.7777777777777778,
              "#fb9f3a"
             ],
             [
              0.8888888888888888,
              "#fdca26"
             ],
             [
              1,
              "#f0f921"
             ]
            ],
            "type": "surface"
           }
          ],
          "table": [
           {
            "cells": {
             "fill": {
              "color": "#EBF0F8"
             },
             "line": {
              "color": "white"
             }
            },
            "header": {
             "fill": {
              "color": "#C8D4E3"
             },
             "line": {
              "color": "white"
             }
            },
            "type": "table"
           }
          ]
         },
         "layout": {
          "annotationdefaults": {
           "arrowcolor": "#2a3f5f",
           "arrowhead": 0,
           "arrowwidth": 1
          },
          "autotypenumbers": "strict",
          "coloraxis": {
           "colorbar": {
            "outlinewidth": 0,
            "ticks": ""
           }
          },
          "colorscale": {
           "diverging": [
            [
             0,
             "#8e0152"
            ],
            [
             0.1,
             "#c51b7d"
            ],
            [
             0.2,
             "#de77ae"
            ],
            [
             0.3,
             "#f1b6da"
            ],
            [
             0.4,
             "#fde0ef"
            ],
            [
             0.5,
             "#f7f7f7"
            ],
            [
             0.6,
             "#e6f5d0"
            ],
            [
             0.7,
             "#b8e186"
            ],
            [
             0.8,
             "#7fbc41"
            ],
            [
             0.9,
             "#4d9221"
            ],
            [
             1,
             "#276419"
            ]
           ],
           "sequential": [
            [
             0,
             "#0d0887"
            ],
            [
             0.1111111111111111,
             "#46039f"
            ],
            [
             0.2222222222222222,
             "#7201a8"
            ],
            [
             0.3333333333333333,
             "#9c179e"
            ],
            [
             0.4444444444444444,
             "#bd3786"
            ],
            [
             0.5555555555555556,
             "#d8576b"
            ],
            [
             0.6666666666666666,
             "#ed7953"
            ],
            [
             0.7777777777777778,
             "#fb9f3a"
            ],
            [
             0.8888888888888888,
             "#fdca26"
            ],
            [
             1,
             "#f0f921"
            ]
           ],
           "sequentialminus": [
            [
             0,
             "#0d0887"
            ],
            [
             0.1111111111111111,
             "#46039f"
            ],
            [
             0.2222222222222222,
             "#7201a8"
            ],
            [
             0.3333333333333333,
             "#9c179e"
            ],
            [
             0.4444444444444444,
             "#bd3786"
            ],
            [
             0.5555555555555556,
             "#d8576b"
            ],
            [
             0.6666666666666666,
             "#ed7953"
            ],
            [
             0.7777777777777778,
             "#fb9f3a"
            ],
            [
             0.8888888888888888,
             "#fdca26"
            ],
            [
             1,
             "#f0f921"
            ]
           ]
          },
          "colorway": [
           "#636efa",
           "#EF553B",
           "#00cc96",
           "#ab63fa",
           "#FFA15A",
           "#19d3f3",
           "#FF6692",
           "#B6E880",
           "#FF97FF",
           "#FECB52"
          ],
          "font": {
           "color": "#2a3f5f"
          },
          "geo": {
           "bgcolor": "white",
           "lakecolor": "white",
           "landcolor": "#E5ECF6",
           "showlakes": true,
           "showland": true,
           "subunitcolor": "white"
          },
          "hoverlabel": {
           "align": "left"
          },
          "hovermode": "closest",
          "mapbox": {
           "style": "light"
          },
          "paper_bgcolor": "white",
          "plot_bgcolor": "#E5ECF6",
          "polar": {
           "angularaxis": {
            "gridcolor": "white",
            "linecolor": "white",
            "ticks": ""
           },
           "bgcolor": "#E5ECF6",
           "radialaxis": {
            "gridcolor": "white",
            "linecolor": "white",
            "ticks": ""
           }
          },
          "scene": {
           "xaxis": {
            "backgroundcolor": "#E5ECF6",
            "gridcolor": "white",
            "gridwidth": 2,
            "linecolor": "white",
            "showbackground": true,
            "ticks": "",
            "zerolinecolor": "white"
           },
           "yaxis": {
            "backgroundcolor": "#E5ECF6",
            "gridcolor": "white",
            "gridwidth": 2,
            "linecolor": "white",
            "showbackground": true,
            "ticks": "",
            "zerolinecolor": "white"
           },
           "zaxis": {
            "backgroundcolor": "#E5ECF6",
            "gridcolor": "white",
            "gridwidth": 2,
            "linecolor": "white",
            "showbackground": true,
            "ticks": "",
            "zerolinecolor": "white"
           }
          },
          "shapedefaults": {
           "line": {
            "color": "#2a3f5f"
           }
          },
          "ternary": {
           "aaxis": {
            "gridcolor": "white",
            "linecolor": "white",
            "ticks": ""
           },
           "baxis": {
            "gridcolor": "white",
            "linecolor": "white",
            "ticks": ""
           },
           "bgcolor": "#E5ECF6",
           "caxis": {
            "gridcolor": "white",
            "linecolor": "white",
            "ticks": ""
           }
          },
          "title": {
           "x": 0.05
          },
          "xaxis": {
           "automargin": true,
           "gridcolor": "white",
           "linecolor": "white",
           "ticks": "",
           "title": {
            "standoff": 15
           },
           "zerolinecolor": "white",
           "zerolinewidth": 2
          },
          "yaxis": {
           "automargin": true,
           "gridcolor": "white",
           "linecolor": "white",
           "ticks": "",
           "title": {
            "standoff": 15
           },
           "zerolinecolor": "white",
           "zerolinewidth": 2
          }
         }
        },
        "title": {
         "text": "EV Market Maturity vs Growth Tier by State"
        },
        "width": 900,
        "xaxis": {
         "anchor": "y",
         "domain": [
          0,
          1
         ],
         "tickformat": ".1f",
         "title": {
          "text": "EV Penetration (%)"
         }
        },
        "yaxis": {
         "anchor": "x",
         "domain": [
          0,
          1
         ],
         "tickformat": ".1f",
         "title": {
          "text": "CAGR (%)"
         }
        }
       }
      }
     },
     "metadata": {},
     "output_type": "display_data"
    }
   ],
   "source": [
    "import plotly.express as px\n",
    "\n",
    "# Scatter plot: EV Penetration vs CAGR\n",
    "fig = px.scatter(\n",
    "    state_maturity,\n",
    "    x=\"ev_penetration\",\n",
    "    y=\"cagr\",\n",
    "    color=\"maturity_stage\",\n",
    "    symbol=\"growth_tier\",\n",
    "    hover_name=\"state\",\n",
    "    size=\"ev_penetration\",\n",
    "    title=\"EV Market Maturity vs Growth Tier by State\",\n",
    "    labels={\n",
    "        \"ev_penetration\": \"EV Penetration (%)\",\n",
    "        \"cagr\": \"CAGR (%)\",\n",
    "        \"maturity_stage\": \"Maturity Stage\",\n",
    "        \"growth_tier\": \"Growth Tier\"\n",
    "    },\n",
    "    width=900,\n",
    "    height=600\n",
    ")\n",
    "\n",
    "fig.update_layout(\n",
    "    xaxis=dict(tickformat=\".1f\"),\n",
    "    yaxis=dict(tickformat=\".1f\"),\n",
    "    legend_title_text='Market Segmentation',\n",
    "    plot_bgcolor=\"white\"\n",
    ")\n",
    "\n",
    "fig.show()\n"
   ]
  },
  {
   "cell_type": "code",
   "execution_count": 5,
   "id": "10358311",
   "metadata": {},
   "outputs": [
    {
     "data": {
      "application/vnd.plotly.v1+json": {
       "config": {
        "plotlyServerURL": "https://plot.ly"
       },
       "data": [
        {
         "alignmentgroup": "True",
         "hovertemplate": "Growth Tier=Emerging<br>Market Maturity Stage=%{x}<br>Number of States=%{text}<extra></extra>",
         "legendgroup": "Emerging",
         "marker": {
          "color": "#636efa",
          "pattern": {
           "shape": ""
          }
         },
         "name": "Emerging",
         "offsetgroup": "Emerging",
         "orientation": "v",
         "showlegend": true,
         "text": {
          "bdata": "AAAAAAAA8D8AAAAAAAAUQAAAAAAAACJA",
          "dtype": "f8"
         },
         "textposition": "outside",
         "type": "bar",
         "x": [
          "Developing",
          "Early",
          "Emerging"
         ],
         "xaxis": "x",
         "y": {
          "bdata": "AQUJ",
          "dtype": "i1"
         },
         "yaxis": "y"
        },
        {
         "alignmentgroup": "True",
         "hovertemplate": "Growth Tier=Steady-Growth<br>Market Maturity Stage=%{x}<br>Number of States=%{text}<extra></extra>",
         "legendgroup": "Steady-Growth",
         "marker": {
          "color": "#EF553B",
          "pattern": {
           "shape": ""
          }
         },
         "name": "Steady-Growth",
         "offsetgroup": "Steady-Growth",
         "orientation": "v",
         "showlegend": true,
         "text": {
          "bdata": "AAAAAAAACEAAAAAAAAAIQAAAAAAAABBA",
          "dtype": "f8"
         },
         "textposition": "outside",
         "type": "bar",
         "x": [
          "Developing",
          "Early",
          "Emerging"
         ],
         "xaxis": "x",
         "y": {
          "bdata": "AwME",
          "dtype": "i1"
         },
         "yaxis": "y"
        },
        {
         "alignmentgroup": "True",
         "hovertemplate": "Growth Tier=High-Growth<br>Market Maturity Stage=%{x}<br>Number of States=%{text}<extra></extra>",
         "legendgroup": "High-Growth",
         "marker": {
          "color": "#00cc96",
          "pattern": {
           "shape": ""
          }
         },
         "name": "High-Growth",
         "offsetgroup": "High-Growth",
         "orientation": "v",
         "showlegend": true,
         "text": {
          "bdata": "AAAAAAAA8D8AAAAAAAAAQAAAAAAAABBA",
          "dtype": "f8"
         },
         "textposition": "outside",
         "type": "bar",
         "x": [
          "Developing",
          "Early",
          "Emerging"
         ],
         "xaxis": "x",
         "y": {
          "bdata": "AQIE",
          "dtype": "i1"
         },
         "yaxis": "y"
        },
        {
         "alignmentgroup": "True",
         "hovertemplate": "Growth Tier=Hyper-Growth<br>Market Maturity Stage=%{x}<br>Number of States=%{text}<extra></extra>",
         "legendgroup": "Hyper-Growth",
         "marker": {
          "color": "#ab63fa",
          "pattern": {
           "shape": ""
          }
         },
         "name": "Hyper-Growth",
         "offsetgroup": "Hyper-Growth",
         "orientation": "v",
         "showlegend": true,
         "text": {
          "bdata": "AAAAAAAAAEA=",
          "dtype": "f8"
         },
         "textposition": "outside",
         "type": "bar",
         "x": [
          "Early"
         ],
         "xaxis": "x",
         "y": {
          "bdata": "Ag==",
          "dtype": "i1"
         },
         "yaxis": "y"
        }
       ],
       "layout": {
        "barmode": "group",
        "height": 500,
        "legend": {
         "title": {
          "text": "Growth Tier"
         },
         "tracegroupgap": 0
        },
        "plot_bgcolor": "white",
        "template": {
         "data": {
          "bar": [
           {
            "error_x": {
             "color": "#2a3f5f"
            },
            "error_y": {
             "color": "#2a3f5f"
            },
            "marker": {
             "line": {
              "color": "#E5ECF6",
              "width": 0.5
             },
             "pattern": {
              "fillmode": "overlay",
              "size": 10,
              "solidity": 0.2
             }
            },
            "type": "bar"
           }
          ],
          "barpolar": [
           {
            "marker": {
             "line": {
              "color": "#E5ECF6",
              "width": 0.5
             },
             "pattern": {
              "fillmode": "overlay",
              "size": 10,
              "solidity": 0.2
             }
            },
            "type": "barpolar"
           }
          ],
          "carpet": [
           {
            "aaxis": {
             "endlinecolor": "#2a3f5f",
             "gridcolor": "white",
             "linecolor": "white",
             "minorgridcolor": "white",
             "startlinecolor": "#2a3f5f"
            },
            "baxis": {
             "endlinecolor": "#2a3f5f",
             "gridcolor": "white",
             "linecolor": "white",
             "minorgridcolor": "white",
             "startlinecolor": "#2a3f5f"
            },
            "type": "carpet"
           }
          ],
          "choropleth": [
           {
            "colorbar": {
             "outlinewidth": 0,
             "ticks": ""
            },
            "type": "choropleth"
           }
          ],
          "contour": [
           {
            "colorbar": {
             "outlinewidth": 0,
             "ticks": ""
            },
            "colorscale": [
             [
              0,
              "#0d0887"
             ],
             [
              0.1111111111111111,
              "#46039f"
             ],
             [
              0.2222222222222222,
              "#7201a8"
             ],
             [
              0.3333333333333333,
              "#9c179e"
             ],
             [
              0.4444444444444444,
              "#bd3786"
             ],
             [
              0.5555555555555556,
              "#d8576b"
             ],
             [
              0.6666666666666666,
              "#ed7953"
             ],
             [
              0.7777777777777778,
              "#fb9f3a"
             ],
             [
              0.8888888888888888,
              "#fdca26"
             ],
             [
              1,
              "#f0f921"
             ]
            ],
            "type": "contour"
           }
          ],
          "contourcarpet": [
           {
            "colorbar": {
             "outlinewidth": 0,
             "ticks": ""
            },
            "type": "contourcarpet"
           }
          ],
          "heatmap": [
           {
            "colorbar": {
             "outlinewidth": 0,
             "ticks": ""
            },
            "colorscale": [
             [
              0,
              "#0d0887"
             ],
             [
              0.1111111111111111,
              "#46039f"
             ],
             [
              0.2222222222222222,
              "#7201a8"
             ],
             [
              0.3333333333333333,
              "#9c179e"
             ],
             [
              0.4444444444444444,
              "#bd3786"
             ],
             [
              0.5555555555555556,
              "#d8576b"
             ],
             [
              0.6666666666666666,
              "#ed7953"
             ],
             [
              0.7777777777777778,
              "#fb9f3a"
             ],
             [
              0.8888888888888888,
              "#fdca26"
             ],
             [
              1,
              "#f0f921"
             ]
            ],
            "type": "heatmap"
           }
          ],
          "histogram": [
           {
            "marker": {
             "pattern": {
              "fillmode": "overlay",
              "size": 10,
              "solidity": 0.2
             }
            },
            "type": "histogram"
           }
          ],
          "histogram2d": [
           {
            "colorbar": {
             "outlinewidth": 0,
             "ticks": ""
            },
            "colorscale": [
             [
              0,
              "#0d0887"
             ],
             [
              0.1111111111111111,
              "#46039f"
             ],
             [
              0.2222222222222222,
              "#7201a8"
             ],
             [
              0.3333333333333333,
              "#9c179e"
             ],
             [
              0.4444444444444444,
              "#bd3786"
             ],
             [
              0.5555555555555556,
              "#d8576b"
             ],
             [
              0.6666666666666666,
              "#ed7953"
             ],
             [
              0.7777777777777778,
              "#fb9f3a"
             ],
             [
              0.8888888888888888,
              "#fdca26"
             ],
             [
              1,
              "#f0f921"
             ]
            ],
            "type": "histogram2d"
           }
          ],
          "histogram2dcontour": [
           {
            "colorbar": {
             "outlinewidth": 0,
             "ticks": ""
            },
            "colorscale": [
             [
              0,
              "#0d0887"
             ],
             [
              0.1111111111111111,
              "#46039f"
             ],
             [
              0.2222222222222222,
              "#7201a8"
             ],
             [
              0.3333333333333333,
              "#9c179e"
             ],
             [
              0.4444444444444444,
              "#bd3786"
             ],
             [
              0.5555555555555556,
              "#d8576b"
             ],
             [
              0.6666666666666666,
              "#ed7953"
             ],
             [
              0.7777777777777778,
              "#fb9f3a"
             ],
             [
              0.8888888888888888,
              "#fdca26"
             ],
             [
              1,
              "#f0f921"
             ]
            ],
            "type": "histogram2dcontour"
           }
          ],
          "mesh3d": [
           {
            "colorbar": {
             "outlinewidth": 0,
             "ticks": ""
            },
            "type": "mesh3d"
           }
          ],
          "parcoords": [
           {
            "line": {
             "colorbar": {
              "outlinewidth": 0,
              "ticks": ""
             }
            },
            "type": "parcoords"
           }
          ],
          "pie": [
           {
            "automargin": true,
            "type": "pie"
           }
          ],
          "scatter": [
           {
            "fillpattern": {
             "fillmode": "overlay",
             "size": 10,
             "solidity": 0.2
            },
            "type": "scatter"
           }
          ],
          "scatter3d": [
           {
            "line": {
             "colorbar": {
              "outlinewidth": 0,
              "ticks": ""
             }
            },
            "marker": {
             "colorbar": {
              "outlinewidth": 0,
              "ticks": ""
             }
            },
            "type": "scatter3d"
           }
          ],
          "scattercarpet": [
           {
            "marker": {
             "colorbar": {
              "outlinewidth": 0,
              "ticks": ""
             }
            },
            "type": "scattercarpet"
           }
          ],
          "scattergeo": [
           {
            "marker": {
             "colorbar": {
              "outlinewidth": 0,
              "ticks": ""
             }
            },
            "type": "scattergeo"
           }
          ],
          "scattergl": [
           {
            "marker": {
             "colorbar": {
              "outlinewidth": 0,
              "ticks": ""
             }
            },
            "type": "scattergl"
           }
          ],
          "scattermap": [
           {
            "marker": {
             "colorbar": {
              "outlinewidth": 0,
              "ticks": ""
             }
            },
            "type": "scattermap"
           }
          ],
          "scattermapbox": [
           {
            "marker": {
             "colorbar": {
              "outlinewidth": 0,
              "ticks": ""
             }
            },
            "type": "scattermapbox"
           }
          ],
          "scatterpolar": [
           {
            "marker": {
             "colorbar": {
              "outlinewidth": 0,
              "ticks": ""
             }
            },
            "type": "scatterpolar"
           }
          ],
          "scatterpolargl": [
           {
            "marker": {
             "colorbar": {
              "outlinewidth": 0,
              "ticks": ""
             }
            },
            "type": "scatterpolargl"
           }
          ],
          "scatterternary": [
           {
            "marker": {
             "colorbar": {
              "outlinewidth": 0,
              "ticks": ""
             }
            },
            "type": "scatterternary"
           }
          ],
          "surface": [
           {
            "colorbar": {
             "outlinewidth": 0,
             "ticks": ""
            },
            "colorscale": [
             [
              0,
              "#0d0887"
             ],
             [
              0.1111111111111111,
              "#46039f"
             ],
             [
              0.2222222222222222,
              "#7201a8"
             ],
             [
              0.3333333333333333,
              "#9c179e"
             ],
             [
              0.4444444444444444,
              "#bd3786"
             ],
             [
              0.5555555555555556,
              "#d8576b"
             ],
             [
              0.6666666666666666,
              "#ed7953"
             ],
             [
              0.7777777777777778,
              "#fb9f3a"
             ],
             [
              0.8888888888888888,
              "#fdca26"
             ],
             [
              1,
              "#f0f921"
             ]
            ],
            "type": "surface"
           }
          ],
          "table": [
           {
            "cells": {
             "fill": {
              "color": "#EBF0F8"
             },
             "line": {
              "color": "white"
             }
            },
            "header": {
             "fill": {
              "color": "#C8D4E3"
             },
             "line": {
              "color": "white"
             }
            },
            "type": "table"
           }
          ]
         },
         "layout": {
          "annotationdefaults": {
           "arrowcolor": "#2a3f5f",
           "arrowhead": 0,
           "arrowwidth": 1
          },
          "autotypenumbers": "strict",
          "coloraxis": {
           "colorbar": {
            "outlinewidth": 0,
            "ticks": ""
           }
          },
          "colorscale": {
           "diverging": [
            [
             0,
             "#8e0152"
            ],
            [
             0.1,
             "#c51b7d"
            ],
            [
             0.2,
             "#de77ae"
            ],
            [
             0.3,
             "#f1b6da"
            ],
            [
             0.4,
             "#fde0ef"
            ],
            [
             0.5,
             "#f7f7f7"
            ],
            [
             0.6,
             "#e6f5d0"
            ],
            [
             0.7,
             "#b8e186"
            ],
            [
             0.8,
             "#7fbc41"
            ],
            [
             0.9,
             "#4d9221"
            ],
            [
             1,
             "#276419"
            ]
           ],
           "sequential": [
            [
             0,
             "#0d0887"
            ],
            [
             0.1111111111111111,
             "#46039f"
            ],
            [
             0.2222222222222222,
             "#7201a8"
            ],
            [
             0.3333333333333333,
             "#9c179e"
            ],
            [
             0.4444444444444444,
             "#bd3786"
            ],
            [
             0.5555555555555556,
             "#d8576b"
            ],
            [
             0.6666666666666666,
             "#ed7953"
            ],
            [
             0.7777777777777778,
             "#fb9f3a"
            ],
            [
             0.8888888888888888,
             "#fdca26"
            ],
            [
             1,
             "#f0f921"
            ]
           ],
           "sequentialminus": [
            [
             0,
             "#0d0887"
            ],
            [
             0.1111111111111111,
             "#46039f"
            ],
            [
             0.2222222222222222,
             "#7201a8"
            ],
            [
             0.3333333333333333,
             "#9c179e"
            ],
            [
             0.4444444444444444,
             "#bd3786"
            ],
            [
             0.5555555555555556,
             "#d8576b"
            ],
            [
             0.6666666666666666,
             "#ed7953"
            ],
            [
             0.7777777777777778,
             "#fb9f3a"
            ],
            [
             0.8888888888888888,
             "#fdca26"
            ],
            [
             1,
             "#f0f921"
            ]
           ]
          },
          "colorway": [
           "#636efa",
           "#EF553B",
           "#00cc96",
           "#ab63fa",
           "#FFA15A",
           "#19d3f3",
           "#FF6692",
           "#B6E880",
           "#FF97FF",
           "#FECB52"
          ],
          "font": {
           "color": "#2a3f5f"
          },
          "geo": {
           "bgcolor": "white",
           "lakecolor": "white",
           "landcolor": "#E5ECF6",
           "showlakes": true,
           "showland": true,
           "subunitcolor": "white"
          },
          "hoverlabel": {
           "align": "left"
          },
          "hovermode": "closest",
          "mapbox": {
           "style": "light"
          },
          "paper_bgcolor": "white",
          "plot_bgcolor": "#E5ECF6",
          "polar": {
           "angularaxis": {
            "gridcolor": "white",
            "linecolor": "white",
            "ticks": ""
           },
           "bgcolor": "#E5ECF6",
           "radialaxis": {
            "gridcolor": "white",
            "linecolor": "white",
            "ticks": ""
           }
          },
          "scene": {
           "xaxis": {
            "backgroundcolor": "#E5ECF6",
            "gridcolor": "white",
            "gridwidth": 2,
            "linecolor": "white",
            "showbackground": true,
            "ticks": "",
            "zerolinecolor": "white"
           },
           "yaxis": {
            "backgroundcolor": "#E5ECF6",
            "gridcolor": "white",
            "gridwidth": 2,
            "linecolor": "white",
            "showbackground": true,
            "ticks": "",
            "zerolinecolor": "white"
           },
           "zaxis": {
            "backgroundcolor": "#E5ECF6",
            "gridcolor": "white",
            "gridwidth": 2,
            "linecolor": "white",
            "showbackground": true,
            "ticks": "",
            "zerolinecolor": "white"
           }
          },
          "shapedefaults": {
           "line": {
            "color": "#2a3f5f"
           }
          },
          "ternary": {
           "aaxis": {
            "gridcolor": "white",
            "linecolor": "white",
            "ticks": ""
           },
           "baxis": {
            "gridcolor": "white",
            "linecolor": "white",
            "ticks": ""
           },
           "bgcolor": "#E5ECF6",
           "caxis": {
            "gridcolor": "white",
            "linecolor": "white",
            "ticks": ""
           }
          },
          "title": {
           "x": 0.05
          },
          "xaxis": {
           "automargin": true,
           "gridcolor": "white",
           "linecolor": "white",
           "ticks": "",
           "title": {
            "standoff": 15
           },
           "zerolinecolor": "white",
           "zerolinewidth": 2
          },
          "yaxis": {
           "automargin": true,
           "gridcolor": "white",
           "linecolor": "white",
           "ticks": "",
           "title": {
            "standoff": 15
           },
           "zerolinecolor": "white",
           "zerolinewidth": 2
          }
         }
        },
        "title": {
         "text": "EV Market Maturity & Growth Tier Distribution"
        },
        "width": 900,
        "xaxis": {
         "anchor": "y",
         "categoryarray": [
          "Early",
          "Emerging",
          "Developing",
          "Advanced"
         ],
         "categoryorder": "array",
         "domain": [
          0,
          1
         ],
         "showgrid": false,
         "title": {
          "text": "Market Maturity Stage"
         }
        },
        "yaxis": {
         "anchor": "x",
         "domain": [
          0,
          1
         ],
         "showgrid": false,
         "title": {
          "text": "Number of States"
         }
        }
       }
      }
     },
     "metadata": {},
     "output_type": "display_data"
    }
   ],
   "source": [
    "import plotly.express as px\n",
    "\n",
    "# Count states by maturity stage and growth tier\n",
    "summary_df = state_maturity.groupby([\"maturity_stage\", \"growth_tier\"]) \\\n",
    "    .size().reset_index(name=\"state_count\")\n",
    "\n",
    "# Sort maturity stages logically\n",
    "stage_order = [\"Early\", \"Emerging\", \"Developing\", \"Advanced\"]\n",
    "tier_order = [\"Emerging\", \"Steady-Growth\", \"High-Growth\", \"Hyper-Growth\"]\n",
    "\n",
    "fig = px.bar(\n",
    "    summary_df,\n",
    "    x=\"maturity_stage\",\n",
    "    y=\"state_count\",\n",
    "    color=\"growth_tier\",\n",
    "    category_orders={\"maturity_stage\": stage_order, \"growth_tier\": tier_order},\n",
    "    text=\"state_count\",\n",
    "    title=\"EV Market Maturity & Growth Tier Distribution\",\n",
    "    labels={\n",
    "        \"maturity_stage\": \"Market Maturity Stage\",\n",
    "        \"state_count\": \"Number of States\",\n",
    "        \"growth_tier\": \"Growth Tier\"\n",
    "    },\n",
    "    barmode=\"group\",\n",
    "    width=900,\n",
    "    height=500\n",
    ")\n",
    "\n",
    "fig.update_traces(textposition=\"outside\")\n",
    "fig.update_layout(\n",
    "    plot_bgcolor=\"white\",\n",
    "    xaxis=dict(showgrid=False),\n",
    "    yaxis=dict(showgrid=False)\n",
    ")\n",
    "\n",
    "fig.show()\n"
   ]
  },
  {
   "cell_type": "code",
   "execution_count": 6,
   "id": "fcf8c0ae",
   "metadata": {},
   "outputs": [
    {
     "data": {
      "application/vnd.plotly.v1+json": {
       "config": {
        "plotlyServerURL": "https://plot.ly"
       },
       "data": [
        {
         "hovertemplate": "<b>%{hovertext}</b><br><br>growth_tier=Emerging<br>EV Penetration (%)=%{x}<br>CAGR (%)=%{y}<extra></extra>",
         "hovertext": [
          "Andaman & Nicobar Island",
          "Andhra Pradesh",
          "Arunachal Pradesh",
          "Delhi",
          "Haryana",
          "Himachal Pradesh",
          "Jammu and Kashmir",
          "Jharkhand",
          "Mizoram",
          "Odisha",
          "Punjab",
          "Rajasthan",
          "Sikkim",
          "Tamil Nadu",
          "Uttarakhand"
         ],
         "legendgroup": "Emerging",
         "marker": {
          "color": "#a6cee3",
          "symbol": "circle"
         },
         "mode": "markers",
         "name": "Emerging",
         "orientation": "v",
         "showlegend": true,
         "type": "scatter",
         "x": {
          "bdata": "s9LoERVk2z9Om7cnnB4LQJ4bu8GAnac/aDRZtfcFG0Ckdr/ThuX5P9baJZijhek/5dW73agL9z93Ayd6HaT1P2nmZIUUhN4/8Tqh6reJEkAGn/xAsbL4PxGnULYxLxJAAAAAAAAAAADRf+O/bTMRQIedLWERbwNA",
          "dtype": "f8"
         },
         "xaxis": "x",
         "y": {
          "bdata": "Llb9gHpeN8AeiwXD57I3QAAAAAAAAAAATlEtgpbqMUDej61mGSciQKaxpak9xv2/qoHlVXLXHsCewWYHUc4qQAAAAAAAAAAAA2uWiVJtNUBb2zkchngfQEKZzNPlSDFAAAAAAAAAAADVQUWb9GswQJy7i4ldSitA",
          "dtype": "f8"
         },
         "yaxis": "y"
        },
        {
         "hovertemplate": "<b>%{hovertext}</b><br><br>growth_tier=High-Growth<br>EV Penetration (%)=%{x}<br>CAGR (%)=%{y}<extra></extra>",
         "hovertext": [
          "Assam",
          "Chhattisgarh",
          "DNH and DD",
          "Goa",
          "Puducherry",
          "Uttar Pradesh",
          "West Bengal"
         ],
         "legendgroup": "High-Growth",
         "marker": {
          "color": "#33a02c",
          "symbol": "circle"
         },
         "mode": "markers",
         "name": "High-Growth",
         "orientation": "v",
         "showlegend": true,
         "type": "scatter",
         "x": {
          "bdata": "HAHVzWJF3T+XfpXABR8QQPQBce9KLeo/t2KVJ9yvI0B9COSqfF4NQPQmlxcsvvI/BA+bIcXe8T8=",
          "dtype": "f8"
         },
         "xaxis": "x",
         "y": {
          "bdata": "1uVMPWL8TEDSKrK9dFBLQPkr/oJREFJA+Ct+hGFAT0B3ctU1bj5KQMfW6c6xqktAwuaYdDMpUkA=",
          "dtype": "f8"
         },
         "yaxis": "y"
        },
        {
         "hovertemplate": "<b>%{hovertext}</b><br><br>growth_tier=Steady-Growth<br>EV Penetration (%)=%{x}<br>CAGR (%)=%{y}<extra></extra>",
         "hovertext": [
          "Bihar",
          "Chandigarh",
          "Gujarat",
          "Karnataka",
          "Kerala",
          "Ladakh",
          "Madhya Pradesh",
          "Maharashtra",
          "Manipur",
          "Nagaland"
         ],
         "legendgroup": "Steady-Growth",
         "marker": {
          "color": "#1f78b4",
          "symbol": "circle"
         },
         "mode": "markers",
         "name": "Steady-Growth",
         "orientation": "v",
         "showlegend": true,
         "type": "scatter",
         "x": {
          "bdata": "K7KiKOxH8D+xP5OgPCoQQCyFBD0+lhFA/InmTwxYH0AIjOB0pY0aQLsStStRu+Q/DsBDnB4PAkDMJg4MzvYZQAwnvHJHT9I/8qAyxAAxnj8=",
          "dtype": "f8"
         },
         "xaxis": "x",
         "y": {
          "bdata": "RunVVLEjPEBqfzrdJJdDQP6U+GdF9EFAiVGGAl+wOkA/HKuaK7dIQCHNjY1PUUBAw2P7sVBOR0By8cVSlRJDQHSP46nhwEJAwQRZZMscRkA=",
          "dtype": "f8"
         },
         "yaxis": "y"
        },
        {
         "hovertemplate": "<b>%{hovertext}</b><br><br>growth_tier=Hyper-Growth<br>EV Penetration (%)=%{x}<br>CAGR (%)=%{y}<extra></extra>",
         "hovertext": [
          "Meghalaya",
          "Tripura"
         ],
         "legendgroup": "Hyper-Growth",
         "marker": {
          "color": "#e31a1c",
          "symbol": "circle"
         },
         "mode": "markers",
         "name": "Hyper-Growth",
         "orientation": "v",
         "showlegend": true,
         "type": "scatter",
         "x": {
          "bdata": "UNiD3ksfyT+kxZsbirncPw==",
          "dtype": "f8"
         },
         "xaxis": "x",
         "y": {
          "bdata": "x31EVhs3Y0DNlQNq4ONtQA==",
          "dtype": "f8"
         },
         "yaxis": "y"
        }
       ],
       "layout": {
        "annotations": [
         {
          "font": {
           "color": "gray",
           "size": 10
          },
          "opacity": 0.6,
          "showarrow": false,
          "text": "Hyper-Growth\nEarly/Emerging",
          "x": 0.5,
          "y": 85
         },
         {
          "font": {
           "color": "gray",
           "size": 10
          },
          "opacity": 0.6,
          "showarrow": false,
          "text": "Hyper-Growth\nDeveloping/Advanced",
          "x": 10,
          "y": 85
         },
         {
          "font": {
           "color": "gray",
           "size": 10
          },
          "opacity": 0.6,
          "showarrow": false,
          "text": "Steady/High Growth\nEarly/Emerging",
          "x": 0.5,
          "y": 40
         },
         {
          "font": {
           "color": "gray",
           "size": 10
          },
          "opacity": 0.6,
          "showarrow": false,
          "text": "Steady/High Growth\nDeveloping/Advanced",
          "x": 10,
          "y": 40
         },
         {
          "font": {
           "color": "gray",
           "size": 10
          },
          "opacity": 0.6,
          "showarrow": false,
          "text": "Emerging Growth\nEarly/Emerging",
          "x": 0.5,
          "y": 10
         },
         {
          "font": {
           "color": "gray",
           "size": 10
          },
          "opacity": 0.6,
          "showarrow": false,
          "text": "Emerging Growth\nDeveloping/Advanced",
          "x": 10,
          "y": 10
         }
        ],
        "height": 600,
        "legend": {
         "title": {
          "text": "growth_tier"
         },
         "tracegroupgap": 0
        },
        "plot_bgcolor": "white",
        "shapes": [
         {
          "line": {
           "color": "gray",
           "dash": "dash"
          },
          "type": "line",
          "x0": 1,
          "x1": 1,
          "xref": "x",
          "y0": 0,
          "y1": 1,
          "yref": "y domain"
         },
         {
          "line": {
           "color": "gray",
           "dash": "dash"
          },
          "type": "line",
          "x0": 5,
          "x1": 5,
          "xref": "x",
          "y0": 0,
          "y1": 1,
          "yref": "y domain"
         },
         {
          "line": {
           "color": "gray",
           "dash": "dash"
          },
          "type": "line",
          "x0": 15,
          "x1": 15,
          "xref": "x",
          "y0": 0,
          "y1": 1,
          "yref": "y domain"
         },
         {
          "line": {
           "color": "gray",
           "dash": "dash"
          },
          "type": "line",
          "x0": 0,
          "x1": 1,
          "xref": "x domain",
          "y0": 25,
          "y1": 25,
          "yref": "y"
         },
         {
          "line": {
           "color": "gray",
           "dash": "dash"
          },
          "type": "line",
          "x0": 0,
          "x1": 1,
          "xref": "x domain",
          "y0": 50,
          "y1": 50,
          "yref": "y"
         },
         {
          "line": {
           "color": "gray",
           "dash": "dash"
          },
          "type": "line",
          "x0": 0,
          "x1": 1,
          "xref": "x domain",
          "y0": 80,
          "y1": 80,
          "yref": "y"
         }
        ],
        "template": {
         "data": {
          "bar": [
           {
            "error_x": {
             "color": "#2a3f5f"
            },
            "error_y": {
             "color": "#2a3f5f"
            },
            "marker": {
             "line": {
              "color": "#E5ECF6",
              "width": 0.5
             },
             "pattern": {
              "fillmode": "overlay",
              "size": 10,
              "solidity": 0.2
             }
            },
            "type": "bar"
           }
          ],
          "barpolar": [
           {
            "marker": {
             "line": {
              "color": "#E5ECF6",
              "width": 0.5
             },
             "pattern": {
              "fillmode": "overlay",
              "size": 10,
              "solidity": 0.2
             }
            },
            "type": "barpolar"
           }
          ],
          "carpet": [
           {
            "aaxis": {
             "endlinecolor": "#2a3f5f",
             "gridcolor": "white",
             "linecolor": "white",
             "minorgridcolor": "white",
             "startlinecolor": "#2a3f5f"
            },
            "baxis": {
             "endlinecolor": "#2a3f5f",
             "gridcolor": "white",
             "linecolor": "white",
             "minorgridcolor": "white",
             "startlinecolor": "#2a3f5f"
            },
            "type": "carpet"
           }
          ],
          "choropleth": [
           {
            "colorbar": {
             "outlinewidth": 0,
             "ticks": ""
            },
            "type": "choropleth"
           }
          ],
          "contour": [
           {
            "colorbar": {
             "outlinewidth": 0,
             "ticks": ""
            },
            "colorscale": [
             [
              0,
              "#0d0887"
             ],
             [
              0.1111111111111111,
              "#46039f"
             ],
             [
              0.2222222222222222,
              "#7201a8"
             ],
             [
              0.3333333333333333,
              "#9c179e"
             ],
             [
              0.4444444444444444,
              "#bd3786"
             ],
             [
              0.5555555555555556,
              "#d8576b"
             ],
             [
              0.6666666666666666,
              "#ed7953"
             ],
             [
              0.7777777777777778,
              "#fb9f3a"
             ],
             [
              0.8888888888888888,
              "#fdca26"
             ],
             [
              1,
              "#f0f921"
             ]
            ],
            "type": "contour"
           }
          ],
          "contourcarpet": [
           {
            "colorbar": {
             "outlinewidth": 0,
             "ticks": ""
            },
            "type": "contourcarpet"
           }
          ],
          "heatmap": [
           {
            "colorbar": {
             "outlinewidth": 0,
             "ticks": ""
            },
            "colorscale": [
             [
              0,
              "#0d0887"
             ],
             [
              0.1111111111111111,
              "#46039f"
             ],
             [
              0.2222222222222222,
              "#7201a8"
             ],
             [
              0.3333333333333333,
              "#9c179e"
             ],
             [
              0.4444444444444444,
              "#bd3786"
             ],
             [
              0.5555555555555556,
              "#d8576b"
             ],
             [
              0.6666666666666666,
              "#ed7953"
             ],
             [
              0.7777777777777778,
              "#fb9f3a"
             ],
             [
              0.8888888888888888,
              "#fdca26"
             ],
             [
              1,
              "#f0f921"
             ]
            ],
            "type": "heatmap"
           }
          ],
          "histogram": [
           {
            "marker": {
             "pattern": {
              "fillmode": "overlay",
              "size": 10,
              "solidity": 0.2
             }
            },
            "type": "histogram"
           }
          ],
          "histogram2d": [
           {
            "colorbar": {
             "outlinewidth": 0,
             "ticks": ""
            },
            "colorscale": [
             [
              0,
              "#0d0887"
             ],
             [
              0.1111111111111111,
              "#46039f"
             ],
             [
              0.2222222222222222,
              "#7201a8"
             ],
             [
              0.3333333333333333,
              "#9c179e"
             ],
             [
              0.4444444444444444,
              "#bd3786"
             ],
             [
              0.5555555555555556,
              "#d8576b"
             ],
             [
              0.6666666666666666,
              "#ed7953"
             ],
             [
              0.7777777777777778,
              "#fb9f3a"
             ],
             [
              0.8888888888888888,
              "#fdca26"
             ],
             [
              1,
              "#f0f921"
             ]
            ],
            "type": "histogram2d"
           }
          ],
          "histogram2dcontour": [
           {
            "colorbar": {
             "outlinewidth": 0,
             "ticks": ""
            },
            "colorscale": [
             [
              0,
              "#0d0887"
             ],
             [
              0.1111111111111111,
              "#46039f"
             ],
             [
              0.2222222222222222,
              "#7201a8"
             ],
             [
              0.3333333333333333,
              "#9c179e"
             ],
             [
              0.4444444444444444,
              "#bd3786"
             ],
             [
              0.5555555555555556,
              "#d8576b"
             ],
             [
              0.6666666666666666,
              "#ed7953"
             ],
             [
              0.7777777777777778,
              "#fb9f3a"
             ],
             [
              0.8888888888888888,
              "#fdca26"
             ],
             [
              1,
              "#f0f921"
             ]
            ],
            "type": "histogram2dcontour"
           }
          ],
          "mesh3d": [
           {
            "colorbar": {
             "outlinewidth": 0,
             "ticks": ""
            },
            "type": "mesh3d"
           }
          ],
          "parcoords": [
           {
            "line": {
             "colorbar": {
              "outlinewidth": 0,
              "ticks": ""
             }
            },
            "type": "parcoords"
           }
          ],
          "pie": [
           {
            "automargin": true,
            "type": "pie"
           }
          ],
          "scatter": [
           {
            "fillpattern": {
             "fillmode": "overlay",
             "size": 10,
             "solidity": 0.2
            },
            "type": "scatter"
           }
          ],
          "scatter3d": [
           {
            "line": {
             "colorbar": {
              "outlinewidth": 0,
              "ticks": ""
             }
            },
            "marker": {
             "colorbar": {
              "outlinewidth": 0,
              "ticks": ""
             }
            },
            "type": "scatter3d"
           }
          ],
          "scattercarpet": [
           {
            "marker": {
             "colorbar": {
              "outlinewidth": 0,
              "ticks": ""
             }
            },
            "type": "scattercarpet"
           }
          ],
          "scattergeo": [
           {
            "marker": {
             "colorbar": {
              "outlinewidth": 0,
              "ticks": ""
             }
            },
            "type": "scattergeo"
           }
          ],
          "scattergl": [
           {
            "marker": {
             "colorbar": {
              "outlinewidth": 0,
              "ticks": ""
             }
            },
            "type": "scattergl"
           }
          ],
          "scattermap": [
           {
            "marker": {
             "colorbar": {
              "outlinewidth": 0,
              "ticks": ""
             }
            },
            "type": "scattermap"
           }
          ],
          "scattermapbox": [
           {
            "marker": {
             "colorbar": {
              "outlinewidth": 0,
              "ticks": ""
             }
            },
            "type": "scattermapbox"
           }
          ],
          "scatterpolar": [
           {
            "marker": {
             "colorbar": {
              "outlinewidth": 0,
              "ticks": ""
             }
            },
            "type": "scatterpolar"
           }
          ],
          "scatterpolargl": [
           {
            "marker": {
             "colorbar": {
              "outlinewidth": 0,
              "ticks": ""
             }
            },
            "type": "scatterpolargl"
           }
          ],
          "scatterternary": [
           {
            "marker": {
             "colorbar": {
              "outlinewidth": 0,
              "ticks": ""
             }
            },
            "type": "scatterternary"
           }
          ],
          "surface": [
           {
            "colorbar": {
             "outlinewidth": 0,
             "ticks": ""
            },
            "colorscale": [
             [
              0,
              "#0d0887"
             ],
             [
              0.1111111111111111,
              "#46039f"
             ],
             [
              0.2222222222222222,
              "#7201a8"
             ],
             [
              0.3333333333333333,
              "#9c179e"
             ],
             [
              0.4444444444444444,
              "#bd3786"
             ],
             [
              0.5555555555555556,
              "#d8576b"
             ],
             [
              0.6666666666666666,
              "#ed7953"
             ],
             [
              0.7777777777777778,
              "#fb9f3a"
             ],
             [
              0.8888888888888888,
              "#fdca26"
             ],
             [
              1,
              "#f0f921"
             ]
            ],
            "type": "surface"
           }
          ],
          "table": [
           {
            "cells": {
             "fill": {
              "color": "#EBF0F8"
             },
             "line": {
              "color": "white"
             }
            },
            "header": {
             "fill": {
              "color": "#C8D4E3"
             },
             "line": {
              "color": "white"
             }
            },
            "type": "table"
           }
          ]
         },
         "layout": {
          "annotationdefaults": {
           "arrowcolor": "#2a3f5f",
           "arrowhead": 0,
           "arrowwidth": 1
          },
          "autotypenumbers": "strict",
          "coloraxis": {
           "colorbar": {
            "outlinewidth": 0,
            "ticks": ""
           }
          },
          "colorscale": {
           "diverging": [
            [
             0,
             "#8e0152"
            ],
            [
             0.1,
             "#c51b7d"
            ],
            [
             0.2,
             "#de77ae"
            ],
            [
             0.3,
             "#f1b6da"
            ],
            [
             0.4,
             "#fde0ef"
            ],
            [
             0.5,
             "#f7f7f7"
            ],
            [
             0.6,
             "#e6f5d0"
            ],
            [
             0.7,
             "#b8e186"
            ],
            [
             0.8,
             "#7fbc41"
            ],
            [
             0.9,
             "#4d9221"
            ],
            [
             1,
             "#276419"
            ]
           ],
           "sequential": [
            [
             0,
             "#0d0887"
            ],
            [
             0.1111111111111111,
             "#46039f"
            ],
            [
             0.2222222222222222,
             "#7201a8"
            ],
            [
             0.3333333333333333,
             "#9c179e"
            ],
            [
             0.4444444444444444,
             "#bd3786"
            ],
            [
             0.5555555555555556,
             "#d8576b"
            ],
            [
             0.6666666666666666,
             "#ed7953"
            ],
            [
             0.7777777777777778,
             "#fb9f3a"
            ],
            [
             0.8888888888888888,
             "#fdca26"
            ],
            [
             1,
             "#f0f921"
            ]
           ],
           "sequentialminus": [
            [
             0,
             "#0d0887"
            ],
            [
             0.1111111111111111,
             "#46039f"
            ],
            [
             0.2222222222222222,
             "#7201a8"
            ],
            [
             0.3333333333333333,
             "#9c179e"
            ],
            [
             0.4444444444444444,
             "#bd3786"
            ],
            [
             0.5555555555555556,
             "#d8576b"
            ],
            [
             0.6666666666666666,
             "#ed7953"
            ],
            [
             0.7777777777777778,
             "#fb9f3a"
            ],
            [
             0.8888888888888888,
             "#fdca26"
            ],
            [
             1,
             "#f0f921"
            ]
           ]
          },
          "colorway": [
           "#636efa",
           "#EF553B",
           "#00cc96",
           "#ab63fa",
           "#FFA15A",
           "#19d3f3",
           "#FF6692",
           "#B6E880",
           "#FF97FF",
           "#FECB52"
          ],
          "font": {
           "color": "#2a3f5f"
          },
          "geo": {
           "bgcolor": "white",
           "lakecolor": "white",
           "landcolor": "#E5ECF6",
           "showlakes": true,
           "showland": true,
           "subunitcolor": "white"
          },
          "hoverlabel": {
           "align": "left"
          },
          "hovermode": "closest",
          "mapbox": {
           "style": "light"
          },
          "paper_bgcolor": "white",
          "plot_bgcolor": "#E5ECF6",
          "polar": {
           "angularaxis": {
            "gridcolor": "white",
            "linecolor": "white",
            "ticks": ""
           },
           "bgcolor": "#E5ECF6",
           "radialaxis": {
            "gridcolor": "white",
            "linecolor": "white",
            "ticks": ""
           }
          },
          "scene": {
           "xaxis": {
            "backgroundcolor": "#E5ECF6",
            "gridcolor": "white",
            "gridwidth": 2,
            "linecolor": "white",
            "showbackground": true,
            "ticks": "",
            "zerolinecolor": "white"
           },
           "yaxis": {
            "backgroundcolor": "#E5ECF6",
            "gridcolor": "white",
            "gridwidth": 2,
            "linecolor": "white",
            "showbackground": true,
            "ticks": "",
            "zerolinecolor": "white"
           },
           "zaxis": {
            "backgroundcolor": "#E5ECF6",
            "gridcolor": "white",
            "gridwidth": 2,
            "linecolor": "white",
            "showbackground": true,
            "ticks": "",
            "zerolinecolor": "white"
           }
          },
          "shapedefaults": {
           "line": {
            "color": "#2a3f5f"
           }
          },
          "ternary": {
           "aaxis": {
            "gridcolor": "white",
            "linecolor": "white",
            "ticks": ""
           },
           "baxis": {
            "gridcolor": "white",
            "linecolor": "white",
            "ticks": ""
           },
           "bgcolor": "#E5ECF6",
           "caxis": {
            "gridcolor": "white",
            "linecolor": "white",
            "ticks": ""
           }
          },
          "title": {
           "x": 0.05
          },
          "xaxis": {
           "automargin": true,
           "gridcolor": "white",
           "linecolor": "white",
           "ticks": "",
           "title": {
            "standoff": 15
           },
           "zerolinecolor": "white",
           "zerolinewidth": 2
          },
          "yaxis": {
           "automargin": true,
           "gridcolor": "white",
           "linecolor": "white",
           "ticks": "",
           "title": {
            "standoff": 15
           },
           "zerolinecolor": "white",
           "zerolinewidth": 2
          }
         }
        },
        "title": {
         "text": "EV Market Maturity Matrix"
        },
        "width": 900,
        "xaxis": {
         "anchor": "y",
         "domain": [
          0,
          1
         ],
         "showgrid": true,
         "title": {
          "text": "EV Penetration (%)"
         }
        },
        "yaxis": {
         "anchor": "x",
         "domain": [
          0,
          1
         ],
         "showgrid": true,
         "title": {
          "text": "CAGR (%)"
         }
        }
       }
      }
     },
     "metadata": {},
     "output_type": "display_data"
    }
   ],
   "source": [
    "import plotly.express as px\n",
    "import plotly.graph_objects as go\n",
    "\n",
    "fig = px.scatter(\n",
    "    state_maturity,\n",
    "    x=\"ev_penetration\",\n",
    "    y=\"cagr\",\n",
    "    color=\"growth_tier\",\n",
    "    hover_name=\"state\",\n",
    "    size_max=12,\n",
    "    color_discrete_map={\n",
    "        \"Emerging\": \"#a6cee3\",\n",
    "        \"Steady-Growth\": \"#1f78b4\",\n",
    "        \"High-Growth\": \"#33a02c\",\n",
    "        \"Hyper-Growth\": \"#e31a1c\"\n",
    "    },\n",
    "    labels={\n",
    "        \"ev_penetration\": \"EV Penetration (%)\",\n",
    "        \"cagr\": \"CAGR (%)\"\n",
    "    },\n",
    "    title=\"EV Market Maturity Matrix\",\n",
    "    width=900,\n",
    "    height=600\n",
    ")\n",
    "\n",
    "# Add vertical lines for maturity stage boundaries\n",
    "fig.add_vline(x=1, line_dash=\"dash\", line_color=\"gray\")   # Early/Emerging\n",
    "fig.add_vline(x=5, line_dash=\"dash\", line_color=\"gray\")   # Emerging/Developing\n",
    "fig.add_vline(x=15, line_dash=\"dash\", line_color=\"gray\")  # Developing/Advanced\n",
    "\n",
    "# Add horizontal lines for growth tier boundaries\n",
    "fig.add_hline(y=25, line_dash=\"dash\", line_color=\"gray\")  # Emerging/Steady\n",
    "fig.add_hline(y=50, line_dash=\"dash\", line_color=\"gray\")  # Steady/High\n",
    "fig.add_hline(y=80, line_dash=\"dash\", line_color=\"gray\")  # High/Hyper\n",
    "\n",
    "# Optional quadrant labels\n",
    "quadrants = [\n",
    "    {\"x\": 0.5, \"y\": 85, \"text\": \"Hyper-Growth\\nEarly/Emerging\"},\n",
    "    {\"x\": 10, \"y\": 85, \"text\": \"Hyper-Growth\\nDeveloping/Advanced\"},\n",
    "    {\"x\": 0.5, \"y\": 40, \"text\": \"Steady/High Growth\\nEarly/Emerging\"},\n",
    "    {\"x\": 10, \"y\": 40, \"text\": \"Steady/High Growth\\nDeveloping/Advanced\"},\n",
    "    {\"x\": 0.5, \"y\": 10, \"text\": \"Emerging Growth\\nEarly/Emerging\"},\n",
    "    {\"x\": 10, \"y\": 10, \"text\": \"Emerging Growth\\nDeveloping/Advanced\"}\n",
    "]\n",
    "\n",
    "for q in quadrants:\n",
    "    fig.add_annotation(\n",
    "        x=q[\"x\"], y=q[\"y\"], text=q[\"text\"],\n",
    "        showarrow=False, font=dict(size=10, color=\"gray\"), opacity=0.6\n",
    "    )\n",
    "\n",
    "fig.update_layout(\n",
    "    plot_bgcolor=\"white\",\n",
    "    xaxis=dict(showgrid=True),\n",
    "    yaxis=dict(showgrid=True)\n",
    ")\n",
    "\n",
    "fig.show()\n"
   ]
  },
  {
   "cell_type": "code",
   "execution_count": 8,
   "id": "2d6ec6a3",
   "metadata": {},
   "outputs": [
    {
     "data": {
      "application/vnd.plotly.v1+json": {
       "config": {
        "plotlyServerURL": "https://plot.ly"
       },
       "data": [
        {
         "hovertemplate": "maturity_stage=Early<br>EV Penetration (%)=%{x}<br>Annual Growth Rate (CAGR %)=%{y}<br>state=%{text}<extra></extra>",
         "legendgroup": "Early",
         "marker": {
          "color": "#636efa",
          "size": 12,
          "symbol": "circle"
         },
         "mode": "markers+text",
         "name": "Early",
         "orientation": "v",
         "showlegend": true,
         "text": [
          "Andaman & Nicobar Island",
          "Arunachal Pradesh",
          "Assam",
          "DNH and DD",
          "Himachal Pradesh",
          "Ladakh",
          "Manipur",
          "Meghalaya",
          "Mizoram",
          "Nagaland",
          "Sikkim",
          "Tripura"
         ],
         "textposition": "top center",
         "type": "scatter",
         "x": {
          "bdata": "s9LoERVk2z+eG7vBgJ2nPxwB1c1iRd0/9AFx70ot6j/W2iWYo4XpP7sStStRu+Q/DCe8ckdP0j9Q2IPeSx/JP2nmZIUUhN4/8qAyxAAxnj8AAAAAAAAAAKTFmxuKudw/",
          "dtype": "f8"
         },
         "xaxis": "x",
         "y": {
          "bdata": "Llb9gHpeN8AAAAAAAAAAANblTD1i/ExA+Sv+glEQUkCmsaWpPcb9vyHNjY1PUUBAdI/jqeHAQkDHfURWGzdjQAAAAAAAAAAAwQRZZMscRkAAAAAAAAAAAM2VA2rg421A",
          "dtype": "f8"
         },
         "yaxis": "y"
        },
        {
         "hovertemplate": "maturity_stage=Emerging<br>EV Penetration (%)=%{x}<br>Annual Growth Rate (CAGR %)=%{y}<br>state=%{text}<extra></extra>",
         "legendgroup": "Emerging",
         "marker": {
          "color": "#EF553B",
          "size": 12,
          "symbol": "circle"
         },
         "mode": "markers+text",
         "name": "Emerging",
         "orientation": "v",
         "showlegend": true,
         "text": [
          "Andhra Pradesh",
          "Bihar",
          "Chandigarh",
          "Chhattisgarh",
          "Gujarat",
          "Haryana",
          "Jammu and Kashmir",
          "Jharkhand",
          "Madhya Pradesh",
          "Odisha",
          "Puducherry",
          "Punjab",
          "Rajasthan",
          "Tamil Nadu",
          "Uttar Pradesh",
          "Uttarakhand",
          "West Bengal"
         ],
         "textposition": "top center",
         "type": "scatter",
         "x": {
          "bdata": "Tpu3J5weC0ArsqIo7EfwP7E/k6A8KhBAl36VwAUfEEAshQQ9PpYRQKR2v9OG5fk/5dW73agL9z93Ayd6HaT1Pw7AQ5weDwJA8Tqh6reJEkB9COSqfF4NQAaf/ECxsvg/EadQtjEvEkDRf+O/bTMRQPQmlxcsvvI/h50tYRFvA0AED5shxd7xPw==",
          "dtype": "f8"
         },
         "xaxis": "x",
         "y": {
          "bdata": "HosFw+eyN0BG6dVUsSM8QGp/Ot0kl0NA0iqyvXRQS0D+lPhnRfRBQN6PrWYZJyJAqoHlVXLXHsCewWYHUc4qQMNj+7FQTkdAA2uWiVJtNUB3ctU1bj5KQFvbORyGeB9AQpnM0+VIMUDVQUWb9GswQMfW6c6xqktAnLuLiV1KK0DC5ph0MylSQA==",
          "dtype": "f8"
         },
         "yaxis": "y"
        },
        {
         "hovertemplate": "maturity_stage=Developing<br>EV Penetration (%)=%{x}<br>Annual Growth Rate (CAGR %)=%{y}<br>state=%{text}<extra></extra>",
         "legendgroup": "Developing",
         "marker": {
          "color": "#00cc96",
          "size": 12,
          "symbol": "circle"
         },
         "mode": "markers+text",
         "name": "Developing",
         "orientation": "v",
         "showlegend": true,
         "text": [
          "Delhi",
          "Goa",
          "Karnataka",
          "Kerala",
          "Maharashtra"
         ],
         "textposition": "top center",
         "type": "scatter",
         "x": {
          "bdata": "aDRZtfcFG0C3YpUn3K8jQPyJ5k8MWB9ACIzgdKWNGkDMJg4MzvYZQA==",
          "dtype": "f8"
         },
         "xaxis": "x",
         "y": {
          "bdata": "TlEtgpbqMUD4K36EYUBPQIlRhgJfsDpAPxyrmiu3SEBy8cVSlRJDQA==",
          "dtype": "f8"
         },
         "yaxis": "y"
        }
       ],
       "layout": {
        "annotations": [
         {
          "font": {
           "color": "red",
           "size": 14
          },
          "showarrow": false,
          "text": "Hyper Growth (Low Maturity)",
          "x": 0.5,
          "y": 90
         },
         {
          "font": {
           "color": "red",
           "size": 14
          },
          "showarrow": false,
          "text": "Hyper Growth (High Maturity)",
          "x": 10,
          "y": 90
         },
         {
          "font": {
           "color": "green",
           "size": 14
          },
          "showarrow": false,
          "text": "Steady/High Growth (Low Maturity)",
          "x": 0.5,
          "y": 35
         },
         {
          "font": {
           "color": "green",
           "size": 14
          },
          "showarrow": false,
          "text": "Steady/High Growth (High Maturity)",
          "x": 10,
          "y": 35
         },
         {
          "font": {
           "color": "blue",
           "size": 14
          },
          "showarrow": false,
          "text": "Emerging Growth (Low Maturity)",
          "x": 0.5,
          "y": 10
         },
         {
          "font": {
           "color": "blue",
           "size": 14
          },
          "showarrow": false,
          "text": "Emerging Growth (High Maturity)",
          "x": 10,
          "y": 10
         }
        ],
        "height": 650,
        "legend": {
         "title": {
          "text": "Maturity Stage"
         },
         "tracegroupgap": 0
        },
        "plot_bgcolor": "white",
        "shapes": [
         {
          "line": {
           "color": "black",
           "dash": "dash"
          },
          "type": "line",
          "x0": 1,
          "x1": 1,
          "xref": "x",
          "y0": 0,
          "y1": 1,
          "yref": "y domain"
         },
         {
          "line": {
           "color": "black",
           "dash": "dash"
          },
          "type": "line",
          "x0": 5,
          "x1": 5,
          "xref": "x",
          "y0": 0,
          "y1": 1,
          "yref": "y domain"
         },
         {
          "line": {
           "color": "black",
           "dash": "dash"
          },
          "type": "line",
          "x0": 15,
          "x1": 15,
          "xref": "x",
          "y0": 0,
          "y1": 1,
          "yref": "y domain"
         },
         {
          "line": {
           "color": "black",
           "dash": "dash"
          },
          "type": "line",
          "x0": 0,
          "x1": 1,
          "xref": "x domain",
          "y0": 25,
          "y1": 25,
          "yref": "y"
         },
         {
          "line": {
           "color": "black",
           "dash": "dash"
          },
          "type": "line",
          "x0": 0,
          "x1": 1,
          "xref": "x domain",
          "y0": 50,
          "y1": 50,
          "yref": "y"
         },
         {
          "line": {
           "color": "black",
           "dash": "dash"
          },
          "type": "line",
          "x0": 0,
          "x1": 1,
          "xref": "x domain",
          "y0": 80,
          "y1": 80,
          "yref": "y"
         }
        ],
        "template": {
         "data": {
          "bar": [
           {
            "error_x": {
             "color": "#2a3f5f"
            },
            "error_y": {
             "color": "#2a3f5f"
            },
            "marker": {
             "line": {
              "color": "#E5ECF6",
              "width": 0.5
             },
             "pattern": {
              "fillmode": "overlay",
              "size": 10,
              "solidity": 0.2
             }
            },
            "type": "bar"
           }
          ],
          "barpolar": [
           {
            "marker": {
             "line": {
              "color": "#E5ECF6",
              "width": 0.5
             },
             "pattern": {
              "fillmode": "overlay",
              "size": 10,
              "solidity": 0.2
             }
            },
            "type": "barpolar"
           }
          ],
          "carpet": [
           {
            "aaxis": {
             "endlinecolor": "#2a3f5f",
             "gridcolor": "white",
             "linecolor": "white",
             "minorgridcolor": "white",
             "startlinecolor": "#2a3f5f"
            },
            "baxis": {
             "endlinecolor": "#2a3f5f",
             "gridcolor": "white",
             "linecolor": "white",
             "minorgridcolor": "white",
             "startlinecolor": "#2a3f5f"
            },
            "type": "carpet"
           }
          ],
          "choropleth": [
           {
            "colorbar": {
             "outlinewidth": 0,
             "ticks": ""
            },
            "type": "choropleth"
           }
          ],
          "contour": [
           {
            "colorbar": {
             "outlinewidth": 0,
             "ticks": ""
            },
            "colorscale": [
             [
              0,
              "#0d0887"
             ],
             [
              0.1111111111111111,
              "#46039f"
             ],
             [
              0.2222222222222222,
              "#7201a8"
             ],
             [
              0.3333333333333333,
              "#9c179e"
             ],
             [
              0.4444444444444444,
              "#bd3786"
             ],
             [
              0.5555555555555556,
              "#d8576b"
             ],
             [
              0.6666666666666666,
              "#ed7953"
             ],
             [
              0.7777777777777778,
              "#fb9f3a"
             ],
             [
              0.8888888888888888,
              "#fdca26"
             ],
             [
              1,
              "#f0f921"
             ]
            ],
            "type": "contour"
           }
          ],
          "contourcarpet": [
           {
            "colorbar": {
             "outlinewidth": 0,
             "ticks": ""
            },
            "type": "contourcarpet"
           }
          ],
          "heatmap": [
           {
            "colorbar": {
             "outlinewidth": 0,
             "ticks": ""
            },
            "colorscale": [
             [
              0,
              "#0d0887"
             ],
             [
              0.1111111111111111,
              "#46039f"
             ],
             [
              0.2222222222222222,
              "#7201a8"
             ],
             [
              0.3333333333333333,
              "#9c179e"
             ],
             [
              0.4444444444444444,
              "#bd3786"
             ],
             [
              0.5555555555555556,
              "#d8576b"
             ],
             [
              0.6666666666666666,
              "#ed7953"
             ],
             [
              0.7777777777777778,
              "#fb9f3a"
             ],
             [
              0.8888888888888888,
              "#fdca26"
             ],
             [
              1,
              "#f0f921"
             ]
            ],
            "type": "heatmap"
           }
          ],
          "histogram": [
           {
            "marker": {
             "pattern": {
              "fillmode": "overlay",
              "size": 10,
              "solidity": 0.2
             }
            },
            "type": "histogram"
           }
          ],
          "histogram2d": [
           {
            "colorbar": {
             "outlinewidth": 0,
             "ticks": ""
            },
            "colorscale": [
             [
              0,
              "#0d0887"
             ],
             [
              0.1111111111111111,
              "#46039f"
             ],
             [
              0.2222222222222222,
              "#7201a8"
             ],
             [
              0.3333333333333333,
              "#9c179e"
             ],
             [
              0.4444444444444444,
              "#bd3786"
             ],
             [
              0.5555555555555556,
              "#d8576b"
             ],
             [
              0.6666666666666666,
              "#ed7953"
             ],
             [
              0.7777777777777778,
              "#fb9f3a"
             ],
             [
              0.8888888888888888,
              "#fdca26"
             ],
             [
              1,
              "#f0f921"
             ]
            ],
            "type": "histogram2d"
           }
          ],
          "histogram2dcontour": [
           {
            "colorbar": {
             "outlinewidth": 0,
             "ticks": ""
            },
            "colorscale": [
             [
              0,
              "#0d0887"
             ],
             [
              0.1111111111111111,
              "#46039f"
             ],
             [
              0.2222222222222222,
              "#7201a8"
             ],
             [
              0.3333333333333333,
              "#9c179e"
             ],
             [
              0.4444444444444444,
              "#bd3786"
             ],
             [
              0.5555555555555556,
              "#d8576b"
             ],
             [
              0.6666666666666666,
              "#ed7953"
             ],
             [
              0.7777777777777778,
              "#fb9f3a"
             ],
             [
              0.8888888888888888,
              "#fdca26"
             ],
             [
              1,
              "#f0f921"
             ]
            ],
            "type": "histogram2dcontour"
           }
          ],
          "mesh3d": [
           {
            "colorbar": {
             "outlinewidth": 0,
             "ticks": ""
            },
            "type": "mesh3d"
           }
          ],
          "parcoords": [
           {
            "line": {
             "colorbar": {
              "outlinewidth": 0,
              "ticks": ""
             }
            },
            "type": "parcoords"
           }
          ],
          "pie": [
           {
            "automargin": true,
            "type": "pie"
           }
          ],
          "scatter": [
           {
            "fillpattern": {
             "fillmode": "overlay",
             "size": 10,
             "solidity": 0.2
            },
            "type": "scatter"
           }
          ],
          "scatter3d": [
           {
            "line": {
             "colorbar": {
              "outlinewidth": 0,
              "ticks": ""
             }
            },
            "marker": {
             "colorbar": {
              "outlinewidth": 0,
              "ticks": ""
             }
            },
            "type": "scatter3d"
           }
          ],
          "scattercarpet": [
           {
            "marker": {
             "colorbar": {
              "outlinewidth": 0,
              "ticks": ""
             }
            },
            "type": "scattercarpet"
           }
          ],
          "scattergeo": [
           {
            "marker": {
             "colorbar": {
              "outlinewidth": 0,
              "ticks": ""
             }
            },
            "type": "scattergeo"
           }
          ],
          "scattergl": [
           {
            "marker": {
             "colorbar": {
              "outlinewidth": 0,
              "ticks": ""
             }
            },
            "type": "scattergl"
           }
          ],
          "scattermap": [
           {
            "marker": {
             "colorbar": {
              "outlinewidth": 0,
              "ticks": ""
             }
            },
            "type": "scattermap"
           }
          ],
          "scattermapbox": [
           {
            "marker": {
             "colorbar": {
              "outlinewidth": 0,
              "ticks": ""
             }
            },
            "type": "scattermapbox"
           }
          ],
          "scatterpolar": [
           {
            "marker": {
             "colorbar": {
              "outlinewidth": 0,
              "ticks": ""
             }
            },
            "type": "scatterpolar"
           }
          ],
          "scatterpolargl": [
           {
            "marker": {
             "colorbar": {
              "outlinewidth": 0,
              "ticks": ""
             }
            },
            "type": "scatterpolargl"
           }
          ],
          "scatterternary": [
           {
            "marker": {
             "colorbar": {
              "outlinewidth": 0,
              "ticks": ""
             }
            },
            "type": "scatterternary"
           }
          ],
          "surface": [
           {
            "colorbar": {
             "outlinewidth": 0,
             "ticks": ""
            },
            "colorscale": [
             [
              0,
              "#0d0887"
             ],
             [
              0.1111111111111111,
              "#46039f"
             ],
             [
              0.2222222222222222,
              "#7201a8"
             ],
             [
              0.3333333333333333,
              "#9c179e"
             ],
             [
              0.4444444444444444,
              "#bd3786"
             ],
             [
              0.5555555555555556,
              "#d8576b"
             ],
             [
              0.6666666666666666,
              "#ed7953"
             ],
             [
              0.7777777777777778,
              "#fb9f3a"
             ],
             [
              0.8888888888888888,
              "#fdca26"
             ],
             [
              1,
              "#f0f921"
             ]
            ],
            "type": "surface"
           }
          ],
          "table": [
           {
            "cells": {
             "fill": {
              "color": "#EBF0F8"
             },
             "line": {
              "color": "white"
             }
            },
            "header": {
             "fill": {
              "color": "#C8D4E3"
             },
             "line": {
              "color": "white"
             }
            },
            "type": "table"
           }
          ]
         },
         "layout": {
          "annotationdefaults": {
           "arrowcolor": "#2a3f5f",
           "arrowhead": 0,
           "arrowwidth": 1
          },
          "autotypenumbers": "strict",
          "coloraxis": {
           "colorbar": {
            "outlinewidth": 0,
            "ticks": ""
           }
          },
          "colorscale": {
           "diverging": [
            [
             0,
             "#8e0152"
            ],
            [
             0.1,
             "#c51b7d"
            ],
            [
             0.2,
             "#de77ae"
            ],
            [
             0.3,
             "#f1b6da"
            ],
            [
             0.4,
             "#fde0ef"
            ],
            [
             0.5,
             "#f7f7f7"
            ],
            [
             0.6,
             "#e6f5d0"
            ],
            [
             0.7,
             "#b8e186"
            ],
            [
             0.8,
             "#7fbc41"
            ],
            [
             0.9,
             "#4d9221"
            ],
            [
             1,
             "#276419"
            ]
           ],
           "sequential": [
            [
             0,
             "#0d0887"
            ],
            [
             0.1111111111111111,
             "#46039f"
            ],
            [
             0.2222222222222222,
             "#7201a8"
            ],
            [
             0.3333333333333333,
             "#9c179e"
            ],
            [
             0.4444444444444444,
             "#bd3786"
            ],
            [
             0.5555555555555556,
             "#d8576b"
            ],
            [
             0.6666666666666666,
             "#ed7953"
            ],
            [
             0.7777777777777778,
             "#fb9f3a"
            ],
            [
             0.8888888888888888,
             "#fdca26"
            ],
            [
             1,
             "#f0f921"
            ]
           ],
           "sequentialminus": [
            [
             0,
             "#0d0887"
            ],
            [
             0.1111111111111111,
             "#46039f"
            ],
            [
             0.2222222222222222,
             "#7201a8"
            ],
            [
             0.3333333333333333,
             "#9c179e"
            ],
            [
             0.4444444444444444,
             "#bd3786"
            ],
            [
             0.5555555555555556,
             "#d8576b"
            ],
            [
             0.6666666666666666,
             "#ed7953"
            ],
            [
             0.7777777777777778,
             "#fb9f3a"
            ],
            [
             0.8888888888888888,
             "#fdca26"
            ],
            [
             1,
             "#f0f921"
            ]
           ]
          },
          "colorway": [
           "#636efa",
           "#EF553B",
           "#00cc96",
           "#ab63fa",
           "#FFA15A",
           "#19d3f3",
           "#FF6692",
           "#B6E880",
           "#FF97FF",
           "#FECB52"
          ],
          "font": {
           "color": "#2a3f5f"
          },
          "geo": {
           "bgcolor": "white",
           "lakecolor": "white",
           "landcolor": "#E5ECF6",
           "showlakes": true,
           "showland": true,
           "subunitcolor": "white"
          },
          "hoverlabel": {
           "align": "left"
          },
          "hovermode": "closest",
          "mapbox": {
           "style": "light"
          },
          "paper_bgcolor": "white",
          "plot_bgcolor": "#E5ECF6",
          "polar": {
           "angularaxis": {
            "gridcolor": "white",
            "linecolor": "white",
            "ticks": ""
           },
           "bgcolor": "#E5ECF6",
           "radialaxis": {
            "gridcolor": "white",
            "linecolor": "white",
            "ticks": ""
           }
          },
          "scene": {
           "xaxis": {
            "backgroundcolor": "#E5ECF6",
            "gridcolor": "white",
            "gridwidth": 2,
            "linecolor": "white",
            "showbackground": true,
            "ticks": "",
            "zerolinecolor": "white"
           },
           "yaxis": {
            "backgroundcolor": "#E5ECF6",
            "gridcolor": "white",
            "gridwidth": 2,
            "linecolor": "white",
            "showbackground": true,
            "ticks": "",
            "zerolinecolor": "white"
           },
           "zaxis": {
            "backgroundcolor": "#E5ECF6",
            "gridcolor": "white",
            "gridwidth": 2,
            "linecolor": "white",
            "showbackground": true,
            "ticks": "",
            "zerolinecolor": "white"
           }
          },
          "shapedefaults": {
           "line": {
            "color": "#2a3f5f"
           }
          },
          "ternary": {
           "aaxis": {
            "gridcolor": "white",
            "linecolor": "white",
            "ticks": ""
           },
           "baxis": {
            "gridcolor": "white",
            "linecolor": "white",
            "ticks": ""
           },
           "bgcolor": "#E5ECF6",
           "caxis": {
            "gridcolor": "white",
            "linecolor": "white",
            "ticks": ""
           }
          },
          "title": {
           "x": 0.05
          },
          "xaxis": {
           "automargin": true,
           "gridcolor": "white",
           "linecolor": "white",
           "ticks": "",
           "title": {
            "standoff": 15
           },
           "zerolinecolor": "white",
           "zerolinewidth": 2
          },
          "yaxis": {
           "automargin": true,
           "gridcolor": "white",
           "linecolor": "white",
           "ticks": "",
           "title": {
            "standoff": 15
           },
           "zerolinecolor": "white",
           "zerolinewidth": 2
          }
         }
        },
        "title": {
         "text": "EV Market Maturity Matrix (States)"
        },
        "width": 900,
        "xaxis": {
         "anchor": "y",
         "domain": [
          0,
          1
         ],
         "range": [
          0,
          14.843476521478221
         ],
         "showgrid": true,
         "title": {
          "text": "EV Penetration (%)"
         }
        },
        "yaxis": {
         "anchor": "x",
         "domain": [
          0,
          1
         ],
         "range": [
          0,
          249.12114430141665
         ],
         "showgrid": true,
         "title": {
          "text": "Annual Growth Rate (CAGR %)"
         }
        }
       }
      }
     },
     "metadata": {},
     "output_type": "display_data"
    }
   ],
   "source": [
    "import plotly.express as px\n",
    "import plotly.graph_objects as go\n",
    "\n",
    "fig = px.scatter(\n",
    "    state_maturity,\n",
    "    x=\"ev_penetration\",\n",
    "    y=\"cagr\",\n",
    "    text=\"state\",  # show state names on points\n",
    "    color=\"maturity_stage\",\n",
    "    labels={\n",
    "        \"ev_penetration\": \"EV Penetration (%)\",\n",
    "        \"cagr\": \"Annual Growth Rate (CAGR %)\"\n",
    "    },\n",
    "    title=\"EV Market Maturity Matrix (States)\",\n",
    "    width=900,\n",
    "    height=650\n",
    ")\n",
    "\n",
    "# Add maturity boundaries\n",
    "fig.add_vline(x=1, line_dash=\"dash\", line_color=\"black\")   # Early/Emerging\n",
    "fig.add_vline(x=5, line_dash=\"dash\", line_color=\"black\")   # Emerging/Developing\n",
    "fig.add_vline(x=15, line_dash=\"dash\", line_color=\"black\")  # Developing/Advanced\n",
    "\n",
    "# Add growth boundaries\n",
    "fig.add_hline(y=25, line_dash=\"dash\", line_color=\"black\")  # Emerging/Steady\n",
    "fig.add_hline(y=50, line_dash=\"dash\", line_color=\"black\")  # Steady/High\n",
    "fig.add_hline(y=80, line_dash=\"dash\", line_color=\"black\")  # High/Hyper\n",
    "\n",
    "# Quadrant labels (big & clear)\n",
    "fig.add_annotation(x=0.5, y=90, text=\"Hyper Growth (Low Maturity)\", showarrow=False, font=dict(size=14, color=\"red\"))\n",
    "fig.add_annotation(x=10, y=90, text=\"Hyper Growth (High Maturity)\", showarrow=False, font=dict(size=14, color=\"red\"))\n",
    "fig.add_annotation(x=0.5, y=35, text=\"Steady/High Growth (Low Maturity)\", showarrow=False, font=dict(size=14, color=\"green\"))\n",
    "fig.add_annotation(x=10, y=35, text=\"Steady/High Growth (High Maturity)\", showarrow=False, font=dict(size=14, color=\"green\"))\n",
    "fig.add_annotation(x=0.5, y=10, text=\"Emerging Growth (Low Maturity)\", showarrow=False, font=dict(size=14, color=\"blue\"))\n",
    "fig.add_annotation(x=10, y=10, text=\"Emerging Growth (High Maturity)\", showarrow=False, font=dict(size=14, color=\"blue\"))\n",
    "\n",
    "# Make text readable\n",
    "fig.update_traces(textposition='top center', marker=dict(size=12))\n",
    "\n",
    "# Style\n",
    "fig.update_layout(\n",
    "    plot_bgcolor=\"white\",\n",
    "    xaxis=dict(showgrid=True, range=[0, max(state_maturity[\"ev_penetration\"])+5]),\n",
    "    yaxis=dict(showgrid=True, range=[0, max(state_maturity[\"cagr\"])+10]),\n",
    "    legend_title_text=\"Maturity Stage\"\n",
    ")\n",
    "\n",
    "fig.show()\n"
   ]
  }
 ],
 "metadata": {
  "kernelspec": {
   "display_name": "ev-analysis (3.13.3)",
   "language": "python",
   "name": "python3"
  },
  "language_info": {
   "codemirror_mode": {
    "name": "ipython",
    "version": 3
   },
   "file_extension": ".py",
   "mimetype": "text/x-python",
   "name": "python",
   "nbconvert_exporter": "python",
   "pygments_lexer": "ipython3",
   "version": "3.13.3"
  }
 },
 "nbformat": 4,
 "nbformat_minor": 5
}
