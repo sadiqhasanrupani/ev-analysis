{
 "cells": [
  {
   "cell_type": "markdown",
   "id": "9a6ccd26",
   "metadata": {},
   "source": [
    "### Question\n",
    "#### *List down the top 10 states that had the highest compounded annual growth rate (CAGR) from 2022 to 2024 in total vehicles sold.*\n",
    "\n",
    "---\n",
    "\n",
    "## Solution for this problem\n",
    "\n",
    "### **Steps to Calculate Top 10 States by CAGR (2022–2024)**\n",
    "\n",
    "1. **Filter the Data for Relevant Years**\n",
    "\n",
    "   * Keep only rows where `year` is 2022 or 2024.\n",
    "   * Make sure the sales column contains total vehicles sold (not EV-only, unless the question specifies EVs).\n",
    "\n",
    "2. **Aggregate Sales by State and Year**\n",
    "\n",
    "   * Group by `state` and `year`.\n",
    "   * Sum the `total_vehicles_sold` for each combination.\n",
    "\n",
    "3. **Pivot or Reshape the Data**\n",
    "\n",
    "   * Make a table where each row is a state and columns are `2022_sales` and `2024_sales`.\n",
    "\n",
    "4. **Apply the CAGR Formula**\n",
    "   For each state:\n",
    "\n",
    "   $$\n",
    "   \\text{CAGR} = \\left( \\frac{\\text{Sales in 2024}}{\\text{Sales in 2022}} \\right)^{\\frac{1}{n}} - 1\n",
    "   $$\n",
    "\n",
    "   Here, $n = 2$ years (from 2022 to 2024).\n",
    "\n",
    "5. **Handle Missing or Zero Values**\n",
    "\n",
    "   * If a state has `2022_sales = 0`, you can either:\n",
    "\n",
    "     * Skip it (CAGR undefined), or\n",
    "     * Use a special note (infinite growth) if your context allows.\n",
    "\n",
    "6. **Sort the Results**\n",
    "\n",
    "   * Sort by `CAGR` in descending order.\n",
    "\n",
    "7. **Select Top 10 States**\n",
    "\n",
    "   * Pick the first 10 states after sorting.\n",
    "\n",
    "8. **Format the Output**\n",
    "\n",
    "   * Show a table with `state`, `2022_sales`, `2024_sales`, and `CAGR (%)`."
   ]
  },
  {
   "cell_type": "code",
   "execution_count": 1,
   "id": "9b8aad6e",
   "metadata": {},
   "outputs": [],
   "source": [
    "# Importing necessary libraries for data manupulation and data visualizaion\n",
    "\n",
    "import pandas as pd\n",
    "import numpy as np\n",
    "import matplotlib.pyplot as plt\n",
    "import seaborn as sns\n",
    "import plotly as pt\n",
    "from IPython.display import display"
   ]
  },
  {
   "cell_type": "code",
   "execution_count": 2,
   "id": "96ae53f6",
   "metadata": {},
   "outputs": [
    {
     "data": {
      "text/html": [
       "<div>\n",
       "<style scoped>\n",
       "    .dataframe tbody tr th:only-of-type {\n",
       "        vertical-align: middle;\n",
       "    }\n",
       "\n",
       "    .dataframe tbody tr th {\n",
       "        vertical-align: top;\n",
       "    }\n",
       "\n",
       "    .dataframe thead th {\n",
       "        text-align: right;\n",
       "    }\n",
       "</style>\n",
       "<table border=\"1\" class=\"dataframe\">\n",
       "  <thead>\n",
       "    <tr style=\"text-align: right;\">\n",
       "      <th></th>\n",
       "      <th>date</th>\n",
       "      <th>state</th>\n",
       "      <th>vehicle_category</th>\n",
       "      <th>electric_vehicles_sold</th>\n",
       "      <th>total_vehicles_sold</th>\n",
       "    </tr>\n",
       "  </thead>\n",
       "  <tbody>\n",
       "    <tr>\n",
       "      <th>0</th>\n",
       "      <td>01-Apr-21</td>\n",
       "      <td>Sikkim</td>\n",
       "      <td>2-Wheelers</td>\n",
       "      <td>0</td>\n",
       "      <td>398</td>\n",
       "    </tr>\n",
       "    <tr>\n",
       "      <th>1</th>\n",
       "      <td>01-Apr-21</td>\n",
       "      <td>Sikkim</td>\n",
       "      <td>4-Wheelers</td>\n",
       "      <td>0</td>\n",
       "      <td>361</td>\n",
       "    </tr>\n",
       "    <tr>\n",
       "      <th>2</th>\n",
       "      <td>01-May-21</td>\n",
       "      <td>Sikkim</td>\n",
       "      <td>2-Wheelers</td>\n",
       "      <td>0</td>\n",
       "      <td>113</td>\n",
       "    </tr>\n",
       "    <tr>\n",
       "      <th>3</th>\n",
       "      <td>01-May-21</td>\n",
       "      <td>Sikkim</td>\n",
       "      <td>4-Wheelers</td>\n",
       "      <td>0</td>\n",
       "      <td>98</td>\n",
       "    </tr>\n",
       "    <tr>\n",
       "      <th>4</th>\n",
       "      <td>01-Jun-21</td>\n",
       "      <td>Sikkim</td>\n",
       "      <td>2-Wheelers</td>\n",
       "      <td>0</td>\n",
       "      <td>229</td>\n",
       "    </tr>\n",
       "  </tbody>\n",
       "</table>\n",
       "</div>"
      ],
      "text/plain": [
       "        date   state vehicle_category  electric_vehicles_sold  \\\n",
       "0  01-Apr-21  Sikkim       2-Wheelers                       0   \n",
       "1  01-Apr-21  Sikkim       4-Wheelers                       0   \n",
       "2  01-May-21  Sikkim       2-Wheelers                       0   \n",
       "3  01-May-21  Sikkim       4-Wheelers                       0   \n",
       "4  01-Jun-21  Sikkim       2-Wheelers                       0   \n",
       "\n",
       "   total_vehicles_sold  \n",
       "0                  398  \n",
       "1                  361  \n",
       "2                  113  \n",
       "3                   98  \n",
       "4                  229  "
      ]
     },
     "metadata": {},
     "output_type": "display_data"
    }
   ],
   "source": [
    "# Load a state based ev sales dataframe\n",
    "state_sales = pd.read_csv(\"../../data/processed/electric_vehicle_sales_by_state.csv\")\n",
    "\n",
    "# display the first 5 dataset from state_sales\n",
    "display(state_sales.head())"
   ]
  },
  {
   "cell_type": "code",
   "execution_count": 3,
   "id": "ffc94edb",
   "metadata": {},
   "outputs": [
    {
     "data": {
      "text/html": [
       "<div>\n",
       "<style scoped>\n",
       "    .dataframe tbody tr th:only-of-type {\n",
       "        vertical-align: middle;\n",
       "    }\n",
       "\n",
       "    .dataframe tbody tr th {\n",
       "        vertical-align: top;\n",
       "    }\n",
       "\n",
       "    .dataframe thead th {\n",
       "        text-align: right;\n",
       "    }\n",
       "</style>\n",
       "<table border=\"1\" class=\"dataframe\">\n",
       "  <thead>\n",
       "    <tr style=\"text-align: right;\">\n",
       "      <th></th>\n",
       "      <th>date</th>\n",
       "      <th>fiscal_year</th>\n",
       "      <th>quarter</th>\n",
       "    </tr>\n",
       "  </thead>\n",
       "  <tbody>\n",
       "    <tr>\n",
       "      <th>0</th>\n",
       "      <td>01-Apr-21</td>\n",
       "      <td>2022</td>\n",
       "      <td>Q1</td>\n",
       "    </tr>\n",
       "    <tr>\n",
       "      <th>1</th>\n",
       "      <td>01-May-21</td>\n",
       "      <td>2022</td>\n",
       "      <td>Q1</td>\n",
       "    </tr>\n",
       "    <tr>\n",
       "      <th>2</th>\n",
       "      <td>01-Jun-21</td>\n",
       "      <td>2022</td>\n",
       "      <td>Q1</td>\n",
       "    </tr>\n",
       "    <tr>\n",
       "      <th>3</th>\n",
       "      <td>01-Jul-21</td>\n",
       "      <td>2022</td>\n",
       "      <td>Q2</td>\n",
       "    </tr>\n",
       "    <tr>\n",
       "      <th>4</th>\n",
       "      <td>01-Aug-21</td>\n",
       "      <td>2022</td>\n",
       "      <td>Q2</td>\n",
       "    </tr>\n",
       "  </tbody>\n",
       "</table>\n",
       "</div>"
      ],
      "text/plain": [
       "        date  fiscal_year quarter\n",
       "0  01-Apr-21         2022      Q1\n",
       "1  01-May-21         2022      Q1\n",
       "2  01-Jun-21         2022      Q1\n",
       "3  01-Jul-21         2022      Q2\n",
       "4  01-Aug-21         2022      Q2"
      ]
     },
     "metadata": {},
     "output_type": "display_data"
    }
   ],
   "source": [
    "dim_date = pd.read_csv(\"../../data/raw/dim_date.csv\")\n",
    "\n",
    "display(dim_date.head())"
   ]
  },
  {
   "cell_type": "code",
   "execution_count": 4,
   "id": "3c23255a",
   "metadata": {},
   "outputs": [
    {
     "data": {
      "text/html": [
       "<div>\n",
       "<style scoped>\n",
       "    .dataframe tbody tr th:only-of-type {\n",
       "        vertical-align: middle;\n",
       "    }\n",
       "\n",
       "    .dataframe tbody tr th {\n",
       "        vertical-align: top;\n",
       "    }\n",
       "\n",
       "    .dataframe thead th {\n",
       "        text-align: right;\n",
       "    }\n",
       "</style>\n",
       "<table border=\"1\" class=\"dataframe\">\n",
       "  <thead>\n",
       "    <tr style=\"text-align: right;\">\n",
       "      <th></th>\n",
       "      <th>date</th>\n",
       "      <th>fiscal_year</th>\n",
       "      <th>quarter</th>\n",
       "      <th>state</th>\n",
       "      <th>vehicle_category</th>\n",
       "      <th>electric_vehicles_sold</th>\n",
       "      <th>total_vehicles_sold</th>\n",
       "    </tr>\n",
       "  </thead>\n",
       "  <tbody>\n",
       "    <tr>\n",
       "      <th>0</th>\n",
       "      <td>01-Apr-21</td>\n",
       "      <td>2022</td>\n",
       "      <td>Q1</td>\n",
       "      <td>Sikkim</td>\n",
       "      <td>2-Wheelers</td>\n",
       "      <td>0</td>\n",
       "      <td>398</td>\n",
       "    </tr>\n",
       "    <tr>\n",
       "      <th>1</th>\n",
       "      <td>01-Apr-21</td>\n",
       "      <td>2022</td>\n",
       "      <td>Q1</td>\n",
       "      <td>Sikkim</td>\n",
       "      <td>4-Wheelers</td>\n",
       "      <td>0</td>\n",
       "      <td>361</td>\n",
       "    </tr>\n",
       "    <tr>\n",
       "      <th>2</th>\n",
       "      <td>01-Apr-21</td>\n",
       "      <td>2022</td>\n",
       "      <td>Q1</td>\n",
       "      <td>Andaman &amp; Nicobar Island</td>\n",
       "      <td>2-Wheelers</td>\n",
       "      <td>0</td>\n",
       "      <td>515</td>\n",
       "    </tr>\n",
       "    <tr>\n",
       "      <th>3</th>\n",
       "      <td>01-Apr-21</td>\n",
       "      <td>2022</td>\n",
       "      <td>Q1</td>\n",
       "      <td>Arunachal Pradesh</td>\n",
       "      <td>2-Wheelers</td>\n",
       "      <td>0</td>\n",
       "      <td>1256</td>\n",
       "    </tr>\n",
       "    <tr>\n",
       "      <th>4</th>\n",
       "      <td>01-Apr-21</td>\n",
       "      <td>2022</td>\n",
       "      <td>Q1</td>\n",
       "      <td>Arunachal Pradesh</td>\n",
       "      <td>4-Wheelers</td>\n",
       "      <td>0</td>\n",
       "      <td>724</td>\n",
       "    </tr>\n",
       "    <tr>\n",
       "      <th>...</th>\n",
       "      <td>...</td>\n",
       "      <td>...</td>\n",
       "      <td>...</td>\n",
       "      <td>...</td>\n",
       "      <td>...</td>\n",
       "      <td>...</td>\n",
       "      <td>...</td>\n",
       "    </tr>\n",
       "    <tr>\n",
       "      <th>2440</th>\n",
       "      <td>01-Mar-24</td>\n",
       "      <td>2024</td>\n",
       "      <td>Q4</td>\n",
       "      <td>Mizoram</td>\n",
       "      <td>2-Wheelers</td>\n",
       "      <td>58</td>\n",
       "      <td>1932</td>\n",
       "    </tr>\n",
       "    <tr>\n",
       "      <th>2441</th>\n",
       "      <td>01-Mar-24</td>\n",
       "      <td>2024</td>\n",
       "      <td>Q4</td>\n",
       "      <td>DNH and DD</td>\n",
       "      <td>2-Wheelers</td>\n",
       "      <td>25</td>\n",
       "      <td>780</td>\n",
       "    </tr>\n",
       "    <tr>\n",
       "      <th>2442</th>\n",
       "      <td>01-Mar-24</td>\n",
       "      <td>2024</td>\n",
       "      <td>Q4</td>\n",
       "      <td>Manipur</td>\n",
       "      <td>2-Wheelers</td>\n",
       "      <td>13</td>\n",
       "      <td>1394</td>\n",
       "    </tr>\n",
       "    <tr>\n",
       "      <th>2443</th>\n",
       "      <td>01-Mar-24</td>\n",
       "      <td>2024</td>\n",
       "      <td>Q4</td>\n",
       "      <td>Andaman &amp; Nicobar Island</td>\n",
       "      <td>2-Wheelers</td>\n",
       "      <td>2</td>\n",
       "      <td>447</td>\n",
       "    </tr>\n",
       "    <tr>\n",
       "      <th>2444</th>\n",
       "      <td>01-Mar-24</td>\n",
       "      <td>2024</td>\n",
       "      <td>Q4</td>\n",
       "      <td>Nagaland</td>\n",
       "      <td>2-Wheelers</td>\n",
       "      <td>2</td>\n",
       "      <td>1180</td>\n",
       "    </tr>\n",
       "  </tbody>\n",
       "</table>\n",
       "<p>2445 rows × 7 columns</p>\n",
       "</div>"
      ],
      "text/plain": [
       "           date  fiscal_year quarter                     state  \\\n",
       "0     01-Apr-21         2022      Q1                    Sikkim   \n",
       "1     01-Apr-21         2022      Q1                    Sikkim   \n",
       "2     01-Apr-21         2022      Q1  Andaman & Nicobar Island   \n",
       "3     01-Apr-21         2022      Q1         Arunachal Pradesh   \n",
       "4     01-Apr-21         2022      Q1         Arunachal Pradesh   \n",
       "...         ...          ...     ...                       ...   \n",
       "2440  01-Mar-24         2024      Q4                   Mizoram   \n",
       "2441  01-Mar-24         2024      Q4                DNH and DD   \n",
       "2442  01-Mar-24         2024      Q4                   Manipur   \n",
       "2443  01-Mar-24         2024      Q4  Andaman & Nicobar Island   \n",
       "2444  01-Mar-24         2024      Q4                  Nagaland   \n",
       "\n",
       "     vehicle_category  electric_vehicles_sold  total_vehicles_sold  \n",
       "0          2-Wheelers                       0                  398  \n",
       "1          4-Wheelers                       0                  361  \n",
       "2          2-Wheelers                       0                  515  \n",
       "3          2-Wheelers                       0                 1256  \n",
       "4          4-Wheelers                       0                  724  \n",
       "...               ...                     ...                  ...  \n",
       "2440       2-Wheelers                      58                 1932  \n",
       "2441       2-Wheelers                      25                  780  \n",
       "2442       2-Wheelers                      13                 1394  \n",
       "2443       2-Wheelers                       2                  447  \n",
       "2444       2-Wheelers                       2                 1180  \n",
       "\n",
       "[2445 rows x 7 columns]"
      ]
     },
     "metadata": {},
     "output_type": "display_data"
    },
    {
     "data": {
      "text/html": [
       "<div>\n",
       "<style scoped>\n",
       "    .dataframe tbody tr th:only-of-type {\n",
       "        vertical-align: middle;\n",
       "    }\n",
       "\n",
       "    .dataframe tbody tr th {\n",
       "        vertical-align: top;\n",
       "    }\n",
       "\n",
       "    .dataframe thead th {\n",
       "        text-align: right;\n",
       "    }\n",
       "</style>\n",
       "<table border=\"1\" class=\"dataframe\">\n",
       "  <thead>\n",
       "    <tr style=\"text-align: right;\">\n",
       "      <th></th>\n",
       "      <th>date</th>\n",
       "      <th>fiscal_year</th>\n",
       "      <th>quarter</th>\n",
       "      <th>state</th>\n",
       "      <th>vehicle_category</th>\n",
       "      <th>electric_vehicles_sold</th>\n",
       "      <th>total_vehicles_sold</th>\n",
       "    </tr>\n",
       "  </thead>\n",
       "  <tbody>\n",
       "  </tbody>\n",
       "</table>\n",
       "</div>"
      ],
      "text/plain": [
       "Empty DataFrame\n",
       "Columns: [date, fiscal_year, quarter, state, vehicle_category, electric_vehicles_sold, total_vehicles_sold]\n",
       "Index: []"
      ]
     },
     "metadata": {},
     "output_type": "display_data"
    }
   ],
   "source": [
    "merge_df = pd.merge(dim_date, state_sales, on=\"date\", how='left')\n",
    "\n",
    "display(merge_df)\n",
    "display(merge_df[merge_df['fiscal_year'] == '2024'])"
   ]
  },
  {
   "cell_type": "code",
   "execution_count": 5,
   "id": "c5193f60",
   "metadata": {},
   "outputs": [
    {
     "data": {
      "text/plain": [
       "array([2022, 2023, 2024])"
      ]
     },
     "metadata": {},
     "output_type": "display_data"
    }
   ],
   "source": [
    "display(merge_df['fiscal_year'].unique())"
   ]
  },
  {
   "cell_type": "code",
   "execution_count": 6,
   "id": "4553476f",
   "metadata": {},
   "outputs": [
    {
     "data": {
      "text/html": [
       "<div>\n",
       "<style scoped>\n",
       "    .dataframe tbody tr th:only-of-type {\n",
       "        vertical-align: middle;\n",
       "    }\n",
       "\n",
       "    .dataframe tbody tr th {\n",
       "        vertical-align: top;\n",
       "    }\n",
       "\n",
       "    .dataframe thead th {\n",
       "        text-align: right;\n",
       "    }\n",
       "</style>\n",
       "<table border=\"1\" class=\"dataframe\">\n",
       "  <thead>\n",
       "    <tr style=\"text-align: right;\">\n",
       "      <th></th>\n",
       "      <th>date</th>\n",
       "      <th>fiscal_year</th>\n",
       "      <th>quarter</th>\n",
       "      <th>state</th>\n",
       "      <th>vehicle_category</th>\n",
       "      <th>electric_vehicles_sold</th>\n",
       "      <th>total_vehicles_sold</th>\n",
       "    </tr>\n",
       "  </thead>\n",
       "  <tbody>\n",
       "    <tr>\n",
       "      <th>0</th>\n",
       "      <td>01-Apr-21</td>\n",
       "      <td>2022</td>\n",
       "      <td>Q1</td>\n",
       "      <td>Sikkim</td>\n",
       "      <td>2-Wheelers</td>\n",
       "      <td>0</td>\n",
       "      <td>398</td>\n",
       "    </tr>\n",
       "    <tr>\n",
       "      <th>1</th>\n",
       "      <td>01-Apr-21</td>\n",
       "      <td>2022</td>\n",
       "      <td>Q1</td>\n",
       "      <td>Sikkim</td>\n",
       "      <td>4-Wheelers</td>\n",
       "      <td>0</td>\n",
       "      <td>361</td>\n",
       "    </tr>\n",
       "    <tr>\n",
       "      <th>2</th>\n",
       "      <td>01-Apr-21</td>\n",
       "      <td>2022</td>\n",
       "      <td>Q1</td>\n",
       "      <td>Andaman &amp; Nicobar Island</td>\n",
       "      <td>2-Wheelers</td>\n",
       "      <td>0</td>\n",
       "      <td>515</td>\n",
       "    </tr>\n",
       "    <tr>\n",
       "      <th>3</th>\n",
       "      <td>01-Apr-21</td>\n",
       "      <td>2022</td>\n",
       "      <td>Q1</td>\n",
       "      <td>Arunachal Pradesh</td>\n",
       "      <td>2-Wheelers</td>\n",
       "      <td>0</td>\n",
       "      <td>1256</td>\n",
       "    </tr>\n",
       "    <tr>\n",
       "      <th>4</th>\n",
       "      <td>01-Apr-21</td>\n",
       "      <td>2022</td>\n",
       "      <td>Q1</td>\n",
       "      <td>Arunachal Pradesh</td>\n",
       "      <td>4-Wheelers</td>\n",
       "      <td>0</td>\n",
       "      <td>724</td>\n",
       "    </tr>\n",
       "  </tbody>\n",
       "</table>\n",
       "</div>"
      ],
      "text/plain": [
       "        date  fiscal_year quarter                     state vehicle_category  \\\n",
       "0  01-Apr-21         2022      Q1                    Sikkim       2-Wheelers   \n",
       "1  01-Apr-21         2022      Q1                    Sikkim       4-Wheelers   \n",
       "2  01-Apr-21         2022      Q1  Andaman & Nicobar Island       2-Wheelers   \n",
       "3  01-Apr-21         2022      Q1         Arunachal Pradesh       2-Wheelers   \n",
       "4  01-Apr-21         2022      Q1         Arunachal Pradesh       4-Wheelers   \n",
       "\n",
       "   electric_vehicles_sold  total_vehicles_sold  \n",
       "0                       0                  398  \n",
       "1                       0                  361  \n",
       "2                       0                  515  \n",
       "3                       0                 1256  \n",
       "4                       0                  724  "
      ]
     },
     "execution_count": 6,
     "metadata": {},
     "output_type": "execute_result"
    }
   ],
   "source": [
    "# Filtering out the dataset\n",
    "state_sales_filtered = merge_df.loc[merge_df['fiscal_year'].isin([2022, 2024])]\n",
    "\n",
    "state_sales_filtered.head()\n"
   ]
  },
  {
   "cell_type": "code",
   "execution_count": 7,
   "id": "d91080df",
   "metadata": {},
   "outputs": [
    {
     "data": {
      "text/plain": [
       "array([2022, 2024])"
      ]
     },
     "execution_count": 7,
     "metadata": {},
     "output_type": "execute_result"
    }
   ],
   "source": [
    "state_sales_filtered['fiscal_year'].unique()"
   ]
  },
  {
   "cell_type": "code",
   "execution_count": 8,
   "id": "bd1fa0e2",
   "metadata": {},
   "outputs": [
    {
     "name": "stderr",
     "output_type": "stream",
     "text": [
      "/tmp/ipykernel_166463/1051267921.py:1: SettingWithCopyWarning: \n",
      "A value is trying to be set on a copy of a slice from a DataFrame.\n",
      "Try using .loc[row_indexer,col_indexer] = value instead\n",
      "\n",
      "See the caveats in the documentation: https://pandas.pydata.org/pandas-docs/stable/user_guide/indexing.html#returning-a-view-versus-a-copy\n",
      "  state_sales_filtered['state'] = state_sales_filtered['state'].replace({\n"
     ]
    },
    {
     "data": {
      "text/html": [
       "<div>\n",
       "<style scoped>\n",
       "    .dataframe tbody tr th:only-of-type {\n",
       "        vertical-align: middle;\n",
       "    }\n",
       "\n",
       "    .dataframe tbody tr th {\n",
       "        vertical-align: top;\n",
       "    }\n",
       "\n",
       "    .dataframe thead th {\n",
       "        text-align: right;\n",
       "    }\n",
       "</style>\n",
       "<table border=\"1\" class=\"dataframe\">\n",
       "  <thead>\n",
       "    <tr style=\"text-align: right;\">\n",
       "      <th></th>\n",
       "      <th>state</th>\n",
       "      <th>fiscal_year</th>\n",
       "      <th>total_vehicles_sold</th>\n",
       "    </tr>\n",
       "  </thead>\n",
       "  <tbody>\n",
       "    <tr>\n",
       "      <th>0</th>\n",
       "      <td>Andaman &amp; Nicobar</td>\n",
       "      <td>2022</td>\n",
       "      <td>5148</td>\n",
       "    </tr>\n",
       "    <tr>\n",
       "      <th>1</th>\n",
       "      <td>Andaman &amp; Nicobar</td>\n",
       "      <td>2024</td>\n",
       "      <td>7203</td>\n",
       "    </tr>\n",
       "    <tr>\n",
       "      <th>2</th>\n",
       "      <td>Andhra Pradesh</td>\n",
       "      <td>2022</td>\n",
       "      <td>772748</td>\n",
       "    </tr>\n",
       "    <tr>\n",
       "      <th>3</th>\n",
       "      <td>Andhra Pradesh</td>\n",
       "      <td>2024</td>\n",
       "      <td>782865</td>\n",
       "    </tr>\n",
       "    <tr>\n",
       "      <th>4</th>\n",
       "      <td>Arunachal Pradesh</td>\n",
       "      <td>2022</td>\n",
       "      <td>19929</td>\n",
       "    </tr>\n",
       "    <tr>\n",
       "      <th>...</th>\n",
       "      <td>...</td>\n",
       "      <td>...</td>\n",
       "      <td>...</td>\n",
       "    </tr>\n",
       "    <tr>\n",
       "      <th>63</th>\n",
       "      <td>Uttar Pradesh</td>\n",
       "      <td>2024</td>\n",
       "      <td>2932347</td>\n",
       "    </tr>\n",
       "    <tr>\n",
       "      <th>64</th>\n",
       "      <td>Uttarakhand</td>\n",
       "      <td>2022</td>\n",
       "      <td>173331</td>\n",
       "    </tr>\n",
       "    <tr>\n",
       "      <th>65</th>\n",
       "      <td>Uttarakhand</td>\n",
       "      <td>2024</td>\n",
       "      <td>233111</td>\n",
       "    </tr>\n",
       "    <tr>\n",
       "      <th>66</th>\n",
       "      <td>West Bengal</td>\n",
       "      <td>2022</td>\n",
       "      <td>860709</td>\n",
       "    </tr>\n",
       "    <tr>\n",
       "      <th>67</th>\n",
       "      <td>West Bengal</td>\n",
       "      <td>2024</td>\n",
       "      <td>961909</td>\n",
       "    </tr>\n",
       "  </tbody>\n",
       "</table>\n",
       "<p>68 rows × 3 columns</p>\n",
       "</div>"
      ],
      "text/plain": [
       "                state  fiscal_year  total_vehicles_sold\n",
       "0   Andaman & Nicobar         2022                 5148\n",
       "1   Andaman & Nicobar         2024                 7203\n",
       "2      Andhra Pradesh         2022               772748\n",
       "3      Andhra Pradesh         2024               782865\n",
       "4   Arunachal Pradesh         2022                19929\n",
       "..                ...          ...                  ...\n",
       "63      Uttar Pradesh         2024              2932347\n",
       "64        Uttarakhand         2022               173331\n",
       "65        Uttarakhand         2024               233111\n",
       "66        West Bengal         2022               860709\n",
       "67        West Bengal         2024               961909\n",
       "\n",
       "[68 rows x 3 columns]"
      ]
     },
     "metadata": {},
     "output_type": "display_data"
    }
   ],
   "source": [
    "state_sales_filtered['state'] = state_sales_filtered['state'].replace({\n",
    "  'Andaman & Nicobar Island': 'Andaman & Nicobar'\n",
    "})\n",
    "\n",
    "# Aggregate Sales by state and year\n",
    "state_sales_grouped = (\n",
    "  state_sales_filtered.groupby(['state', 'fiscal_year'], as_index=False)['total_vehicles_sold'].sum()\n",
    ") \n",
    "\n",
    "display(state_sales_grouped)"
   ]
  },
  {
   "cell_type": "code",
   "execution_count": 9,
   "id": "434bda1e",
   "metadata": {},
   "outputs": [
    {
     "data": {
      "text/plain": [
       "array([2022, 2024])"
      ]
     },
     "execution_count": 9,
     "metadata": {},
     "output_type": "execute_result"
    }
   ],
   "source": [
    "state_sales_grouped['fiscal_year'].unique()"
   ]
  },
  {
   "cell_type": "code",
   "execution_count": 10,
   "id": "97f1ad72",
   "metadata": {},
   "outputs": [
    {
     "data": {
      "text/html": [
       "<div>\n",
       "<style scoped>\n",
       "    .dataframe tbody tr th:only-of-type {\n",
       "        vertical-align: middle;\n",
       "    }\n",
       "\n",
       "    .dataframe tbody tr th {\n",
       "        vertical-align: top;\n",
       "    }\n",
       "\n",
       "    .dataframe thead th {\n",
       "        text-align: right;\n",
       "    }\n",
       "</style>\n",
       "<table border=\"1\" class=\"dataframe\">\n",
       "  <thead>\n",
       "    <tr style=\"text-align: right;\">\n",
       "      <th>fiscal_year</th>\n",
       "      <th>state</th>\n",
       "      <th>sales_2022</th>\n",
       "      <th>sales_2024</th>\n",
       "    </tr>\n",
       "  </thead>\n",
       "  <tbody>\n",
       "    <tr>\n",
       "      <th>0</th>\n",
       "      <td>Andaman &amp; Nicobar</td>\n",
       "      <td>5148</td>\n",
       "      <td>7203</td>\n",
       "    </tr>\n",
       "    <tr>\n",
       "      <th>1</th>\n",
       "      <td>Andhra Pradesh</td>\n",
       "      <td>772748</td>\n",
       "      <td>782865</td>\n",
       "    </tr>\n",
       "    <tr>\n",
       "      <th>2</th>\n",
       "      <td>Arunachal Pradesh</td>\n",
       "      <td>19929</td>\n",
       "      <td>27892</td>\n",
       "    </tr>\n",
       "    <tr>\n",
       "      <th>3</th>\n",
       "      <td>Assam</td>\n",
       "      <td>379450</td>\n",
       "      <td>547626</td>\n",
       "    </tr>\n",
       "    <tr>\n",
       "      <th>4</th>\n",
       "      <td>Bihar</td>\n",
       "      <td>892873</td>\n",
       "      <td>1132703</td>\n",
       "    </tr>\n",
       "  </tbody>\n",
       "</table>\n",
       "</div>"
      ],
      "text/plain": [
       "fiscal_year              state  sales_2022  sales_2024\n",
       "0            Andaman & Nicobar        5148        7203\n",
       "1               Andhra Pradesh      772748      782865\n",
       "2            Arunachal Pradesh       19929       27892\n",
       "3                        Assam      379450      547626\n",
       "4                        Bihar      892873     1132703"
      ]
     },
     "metadata": {},
     "output_type": "display_data"
    }
   ],
   "source": [
    "state_sales_pivot = (\n",
    "    state_sales_grouped.pivot(\n",
    "      index='state',\n",
    "      columns='fiscal_year',\n",
    "      values='total_vehicles_sold'\n",
    "    )\n",
    "  .rename(columns={2022: 'sales_2022', 2024: 'sales_2024'})\n",
    "  .reset_index()\n",
    ")\n",
    "\n",
    "display(state_sales_pivot.head())"
   ]
  },
  {
   "cell_type": "code",
   "execution_count": 11,
   "id": "2687d1c9",
   "metadata": {},
   "outputs": [
    {
     "data": {
      "text/html": [
       "<div>\n",
       "<style scoped>\n",
       "    .dataframe tbody tr th:only-of-type {\n",
       "        vertical-align: middle;\n",
       "    }\n",
       "\n",
       "    .dataframe tbody tr th {\n",
       "        vertical-align: top;\n",
       "    }\n",
       "\n",
       "    .dataframe thead th {\n",
       "        text-align: right;\n",
       "    }\n",
       "</style>\n",
       "<table border=\"1\" class=\"dataframe\">\n",
       "  <thead>\n",
       "    <tr style=\"text-align: right;\">\n",
       "      <th>fiscal_year</th>\n",
       "      <th>state</th>\n",
       "      <th>sales_2022</th>\n",
       "      <th>sales_2024</th>\n",
       "      <th>CAGR</th>\n",
       "    </tr>\n",
       "  </thead>\n",
       "  <tbody>\n",
       "    <tr>\n",
       "      <th>0</th>\n",
       "      <td>Andaman &amp; Nicobar</td>\n",
       "      <td>5148</td>\n",
       "      <td>7203</td>\n",
       "      <td>18.287115</td>\n",
       "    </tr>\n",
       "    <tr>\n",
       "      <th>1</th>\n",
       "      <td>Andhra Pradesh</td>\n",
       "      <td>772748</td>\n",
       "      <td>782865</td>\n",
       "      <td>0.652483</td>\n",
       "    </tr>\n",
       "    <tr>\n",
       "      <th>2</th>\n",
       "      <td>Arunachal Pradesh</td>\n",
       "      <td>19929</td>\n",
       "      <td>27892</td>\n",
       "      <td>18.303359</td>\n",
       "    </tr>\n",
       "    <tr>\n",
       "      <th>3</th>\n",
       "      <td>Assam</td>\n",
       "      <td>379450</td>\n",
       "      <td>547626</td>\n",
       "      <td>20.133672</td>\n",
       "    </tr>\n",
       "    <tr>\n",
       "      <th>4</th>\n",
       "      <td>Bihar</td>\n",
       "      <td>892873</td>\n",
       "      <td>1132703</td>\n",
       "      <td>12.632359</td>\n",
       "    </tr>\n",
       "  </tbody>\n",
       "</table>\n",
       "</div>"
      ],
      "text/plain": [
       "fiscal_year              state  sales_2022  sales_2024       CAGR\n",
       "0            Andaman & Nicobar        5148        7203  18.287115\n",
       "1               Andhra Pradesh      772748      782865   0.652483\n",
       "2            Arunachal Pradesh       19929       27892  18.303359\n",
       "3                        Assam      379450      547626  20.133672\n",
       "4                        Bihar      892873     1132703  12.632359"
      ]
     },
     "metadata": {},
     "output_type": "display_data"
    }
   ],
   "source": [
    "# Calculate CAGR ( n = 2years)\n",
    "state_sales_pivot['CAGR'] = (\n",
    "  (state_sales_pivot['sales_2024'] / state_sales_pivot['sales_2022']) ** (1/2) - 1\n",
    ") * 100\n",
    "\n",
    "display(state_sales_pivot.head())"
   ]
  },
  {
   "cell_type": "code",
   "execution_count": 12,
   "id": "b68cb4ba",
   "metadata": {},
   "outputs": [],
   "source": [
    "# 5. Handle division by zero or missing data\n",
    "state_sales_pivot = state_sales_pivot.dropna(subset=['sales_2022', 'sales_2024'])\n",
    "state_sales_pivot = state_sales_pivot[state_sales_pivot['sales_2022'] > 0]"
   ]
  },
  {
   "cell_type": "code",
   "execution_count": 13,
   "id": "a0243fce",
   "metadata": {},
   "outputs": [],
   "source": [
    "# 6. Sort by CAGR descending\n",
    "state_cagr_top10 = state_sales_pivot.sort_values('CAGR', ascending=False).head(10)"
   ]
  },
  {
   "cell_type": "code",
   "execution_count": 14,
   "id": "4ce8ffe4",
   "metadata": {},
   "outputs": [
    {
     "data": {
      "text/html": [
       "<div>\n",
       "<style scoped>\n",
       "    .dataframe tbody tr th:only-of-type {\n",
       "        vertical-align: middle;\n",
       "    }\n",
       "\n",
       "    .dataframe tbody tr th {\n",
       "        vertical-align: top;\n",
       "    }\n",
       "\n",
       "    .dataframe thead th {\n",
       "        text-align: right;\n",
       "    }\n",
       "</style>\n",
       "<table border=\"1\" class=\"dataframe\">\n",
       "  <thead>\n",
       "    <tr style=\"text-align: right;\">\n",
       "      <th>fiscal_year</th>\n",
       "      <th>state</th>\n",
       "      <th>sales_2022</th>\n",
       "      <th>sales_2024</th>\n",
       "      <th>CAGR</th>\n",
       "    </tr>\n",
       "  </thead>\n",
       "  <tbody>\n",
       "    <tr>\n",
       "      <th>21</th>\n",
       "      <td>Meghalaya</td>\n",
       "      <td>22193</td>\n",
       "      <td>36628</td>\n",
       "      <td>28.469075</td>\n",
       "    </tr>\n",
       "    <tr>\n",
       "      <th>9</th>\n",
       "      <td>Goa</td>\n",
       "      <td>48372</td>\n",
       "      <td>78524</td>\n",
       "      <td>27.410196</td>\n",
       "    </tr>\n",
       "    <tr>\n",
       "      <th>15</th>\n",
       "      <td>Karnataka</td>\n",
       "      <td>1007894</td>\n",
       "      <td>1581988</td>\n",
       "      <td>25.283582</td>\n",
       "    </tr>\n",
       "    <tr>\n",
       "      <th>8</th>\n",
       "      <td>Delhi</td>\n",
       "      <td>401540</td>\n",
       "      <td>606348</td>\n",
       "      <td>22.884347</td>\n",
       "    </tr>\n",
       "    <tr>\n",
       "      <th>27</th>\n",
       "      <td>Rajasthan</td>\n",
       "      <td>880985</td>\n",
       "      <td>1300476</td>\n",
       "      <td>21.497380</td>\n",
       "    </tr>\n",
       "    <tr>\n",
       "      <th>10</th>\n",
       "      <td>Gujarat</td>\n",
       "      <td>1094872</td>\n",
       "      <td>1590987</td>\n",
       "      <td>20.545677</td>\n",
       "    </tr>\n",
       "    <tr>\n",
       "      <th>3</th>\n",
       "      <td>Assam</td>\n",
       "      <td>379450</td>\n",
       "      <td>547626</td>\n",
       "      <td>20.133672</td>\n",
       "    </tr>\n",
       "    <tr>\n",
       "      <th>22</th>\n",
       "      <td>Mizoram</td>\n",
       "      <td>19439</td>\n",
       "      <td>27422</td>\n",
       "      <td>18.771599</td>\n",
       "    </tr>\n",
       "    <tr>\n",
       "      <th>2</th>\n",
       "      <td>Arunachal Pradesh</td>\n",
       "      <td>19929</td>\n",
       "      <td>27892</td>\n",
       "      <td>18.303359</td>\n",
       "    </tr>\n",
       "    <tr>\n",
       "      <th>0</th>\n",
       "      <td>Andaman &amp; Nicobar</td>\n",
       "      <td>5148</td>\n",
       "      <td>7203</td>\n",
       "      <td>18.287115</td>\n",
       "    </tr>\n",
       "  </tbody>\n",
       "</table>\n",
       "</div>"
      ],
      "text/plain": [
       "fiscal_year              state  sales_2022  sales_2024       CAGR\n",
       "21                   Meghalaya       22193       36628  28.469075\n",
       "9                          Goa       48372       78524  27.410196\n",
       "15                   Karnataka     1007894     1581988  25.283582\n",
       "8                        Delhi      401540      606348  22.884347\n",
       "27                   Rajasthan      880985     1300476  21.497380\n",
       "10                     Gujarat     1094872     1590987  20.545677\n",
       "3                        Assam      379450      547626  20.133672\n",
       "22                     Mizoram       19439       27422  18.771599\n",
       "2            Arunachal Pradesh       19929       27892  18.303359\n",
       "0            Andaman & Nicobar        5148        7203  18.287115"
      ]
     },
     "execution_count": 14,
     "metadata": {},
     "output_type": "execute_result"
    }
   ],
   "source": [
    "state_cagr_top10"
   ]
  },
  {
   "cell_type": "code",
   "execution_count": 15,
   "id": "662ae1dc",
   "metadata": {},
   "outputs": [
    {
     "data": {
      "image/png": "[encoded data removed]",
      "text/plain": [
       "<Figure size 1000x600 with 1 Axes>"
      ]
     },
     "metadata": {},
     "output_type": "display_data"
    }
   ],
   "source": [
    "import matplotlib.pyplot as plt\n",
    "\n",
    "# Sort again to plot in correct order\n",
    "df_top10_sorted = state_cagr_top10.sort_values('CAGR')\n",
    "\n",
    "plt.figure(figsize=(10,6))\n",
    "plt.barh(df_top10_sorted['state'], df_top10_sorted['CAGR'], color='skyblue')\n",
    "plt.xlabel('CAGR (%)')\n",
    "plt.ylabel('State')\n",
    "plt.title('Top 10 States by CAGR (2022–2024) in Total Vehicle Sales')\n",
    "plt.grid(axis='x', linestyle='--', alpha=0.7)\n",
    "\n",
    "# Optional: Add labels to bars\n",
    "for index, value in enumerate(df_top10_sorted['CAGR']):\n",
    "    plt.text(value, index, f\"{value:.2f}%\", va='center')\n",
    "\n",
    "plt.show()\n"
   ]
  },
  {
   "cell_type": "markdown",
   "id": "b0f08971",
   "metadata": {},
   "source": [
    "Between 2022 and 2024, Meghalaya led vehicle sales growth with a remarkable 28.47% CAGR, followed by Goa (27.41%) and Karnataka (25.28%). Other top performers included Delhi (22.88%) and Rajasthan (21.50%).\n",
    "\n",
    "Notably, these states showed consistent growth in both overall vehicle sales and electric vehicle adoption:\n",
    "\n",
    "- Meghalaya's exceptional performance included 476.63% CAGR in EV sales\n",
    "- Goa achieved 146.45% CAGR in the EV segment\n",
    "- Karnataka recorded 93.24% EV sales growth\n",
    "\n",
    "The positive growth in both segments suggests effective policies and market conditions supporting automotive sector expansion, particularly in EV adoption. This trend indicates these regions could serve as models for other states aiming to boost their automotive markets.\n",
    "\n",
    "For stakeholders, these states represent high-potential markets for both traditional and electric vehicles, warranting focused investment and market development strategies."
   ]
  },
  {
   "cell_type": "markdown",
   "id": "176a51d9",
   "metadata": {},
   "source": [
    ">From 2022 to 2024, vehicle sales declined across all states, but some regions showed greater resilience. Nagaland led with the smallest drop at -37.81% CAGR, followed by Puducherry and Assam. These states outperformed the national trend, signaling pockets of stable demand despite market challenges. Targeted efforts here could yield quicker recovery compared to other regions.\""
   ]
  },
  {
   "cell_type": "markdown",
   "id": "25bc4b58",
   "metadata": {},
   "source": [
    "### Let Get the CAGR of EV Vehicles from 2022 - 2024"
   ]
  },
  {
   "cell_type": "code",
   "execution_count": 16,
   "id": "75e80fe7",
   "metadata": {},
   "outputs": [
    {
     "data": {
      "text/plain": [
       "fiscal_year               0\n",
       "state                     0\n",
       "electric_vehicles_sold    4\n",
       "dtype: int64"
      ]
     },
     "metadata": {},
     "output_type": "display_data"
    },
    {
     "data": {
      "text/html": [
       "<div>\n",
       "<style scoped>\n",
       "    .dataframe tbody tr th:only-of-type {\n",
       "        vertical-align: middle;\n",
       "    }\n",
       "\n",
       "    .dataframe tbody tr th {\n",
       "        vertical-align: top;\n",
       "    }\n",
       "\n",
       "    .dataframe thead th {\n",
       "        text-align: right;\n",
       "    }\n",
       "</style>\n",
       "<table border=\"1\" class=\"dataframe\">\n",
       "  <thead>\n",
       "    <tr style=\"text-align: right;\">\n",
       "      <th></th>\n",
       "      <th>fiscal_year</th>\n",
       "      <th>state</th>\n",
       "      <th>electric_vehicles_sold</th>\n",
       "    </tr>\n",
       "  </thead>\n",
       "  <tbody>\n",
       "    <tr>\n",
       "      <th>0</th>\n",
       "      <td>2022</td>\n",
       "      <td>Andaman &amp; Nicobar</td>\n",
       "      <td>22</td>\n",
       "    </tr>\n",
       "    <tr>\n",
       "      <th>1</th>\n",
       "      <td>2022</td>\n",
       "      <td>Andhra Pradesh</td>\n",
       "      <td>13928</td>\n",
       "    </tr>\n",
       "    <tr>\n",
       "      <th>3</th>\n",
       "      <td>2022</td>\n",
       "      <td>Assam</td>\n",
       "      <td>730</td>\n",
       "    </tr>\n",
       "    <tr>\n",
       "      <th>4</th>\n",
       "      <td>2022</td>\n",
       "      <td>Bihar</td>\n",
       "      <td>4829</td>\n",
       "    </tr>\n",
       "    <tr>\n",
       "      <th>5</th>\n",
       "      <td>2022</td>\n",
       "      <td>Chandigarh</td>\n",
       "      <td>411</td>\n",
       "    </tr>\n",
       "  </tbody>\n",
       "</table>\n",
       "</div>"
      ],
      "text/plain": [
       "   fiscal_year              state  electric_vehicles_sold\n",
       "0         2022  Andaman & Nicobar                      22\n",
       "1         2022     Andhra Pradesh                   13928\n",
       "3         2022              Assam                     730\n",
       "4         2022              Bihar                    4829\n",
       "5         2022         Chandigarh                     411"
      ]
     },
     "metadata": {},
     "output_type": "display_data"
    },
    {
     "data": {
      "text/plain": [
       "array([2022, 2024])"
      ]
     },
     "metadata": {},
     "output_type": "display_data"
    }
   ],
   "source": [
    "ev_sal_state = state_sales_filtered.groupby(['fiscal_year', 'state'])['electric_vehicles_sold'].sum().reset_index()\n",
    "\n",
    "\n",
    "zero_counts = (ev_sal_state == 0).sum()\n",
    "display(zero_counts)\n",
    "\n",
    "ev_sal_state = ev_sal_state[ev_sal_state['electric_vehicles_sold'] != 0]\n",
    "\n",
    "display(ev_sal_state.head())\n",
    "\n",
    "display(ev_sal_state['fiscal_year'].unique())"
   ]
  },
  {
   "cell_type": "code",
   "execution_count": 17,
   "id": "229d3989",
   "metadata": {},
   "outputs": [
    {
     "data": {
      "text/html": [
       "<div>\n",
       "<style scoped>\n",
       "    .dataframe tbody tr th:only-of-type {\n",
       "        vertical-align: middle;\n",
       "    }\n",
       "\n",
       "    .dataframe tbody tr th {\n",
       "        vertical-align: top;\n",
       "    }\n",
       "\n",
       "    .dataframe thead th {\n",
       "        text-align: right;\n",
       "    }\n",
       "</style>\n",
       "<table border=\"1\" class=\"dataframe\">\n",
       "  <thead>\n",
       "    <tr style=\"text-align: right;\">\n",
       "      <th>fiscal_year</th>\n",
       "      <th>state</th>\n",
       "      <th>sales_2022</th>\n",
       "      <th>sales_2024</th>\n",
       "    </tr>\n",
       "  </thead>\n",
       "  <tbody>\n",
       "    <tr>\n",
       "      <th>0</th>\n",
       "      <td>Andaman &amp; Nicobar</td>\n",
       "      <td>22.0</td>\n",
       "      <td>35.0</td>\n",
       "    </tr>\n",
       "    <tr>\n",
       "      <th>1</th>\n",
       "      <td>Andhra Pradesh</td>\n",
       "      <td>13928.0</td>\n",
       "      <td>33183.0</td>\n",
       "    </tr>\n",
       "    <tr>\n",
       "      <th>2</th>\n",
       "      <td>Arunachal Pradesh</td>\n",
       "      <td>NaN</td>\n",
       "      <td>31.0</td>\n",
       "    </tr>\n",
       "    <tr>\n",
       "      <th>3</th>\n",
       "      <td>Assam</td>\n",
       "      <td>730.0</td>\n",
       "      <td>3497.0</td>\n",
       "    </tr>\n",
       "    <tr>\n",
       "      <th>4</th>\n",
       "      <td>Bihar</td>\n",
       "      <td>4829.0</td>\n",
       "      <td>15069.0</td>\n",
       "    </tr>\n",
       "  </tbody>\n",
       "</table>\n",
       "</div>"
      ],
      "text/plain": [
       "fiscal_year              state  sales_2022  sales_2024\n",
       "0            Andaman & Nicobar        22.0        35.0\n",
       "1               Andhra Pradesh     13928.0     33183.0\n",
       "2            Arunachal Pradesh         NaN        31.0\n",
       "3                        Assam       730.0      3497.0\n",
       "4                        Bihar      4829.0     15069.0"
      ]
     },
     "metadata": {},
     "output_type": "display_data"
    }
   ],
   "source": [
    "ev_state_pt = (\n",
    "  ev_sal_state.pivot(index='state', columns='fiscal_year', values='electric_vehicles_sold')\n",
    "  .rename(columns={2022: 'sales_2022', 2024: 'sales_2024'})\n",
    "  .reset_index()\n",
    ")\n",
    "\n",
    "display(ev_state_pt.head())"
   ]
  },
  {
   "cell_type": "code",
   "execution_count": 18,
   "id": "4fa7b713",
   "metadata": {},
   "outputs": [
    {
     "data": {
      "text/html": [
       "<div>\n",
       "<style scoped>\n",
       "    .dataframe tbody tr th:only-of-type {\n",
       "        vertical-align: middle;\n",
       "    }\n",
       "\n",
       "    .dataframe tbody tr th {\n",
       "        vertical-align: top;\n",
       "    }\n",
       "\n",
       "    .dataframe thead th {\n",
       "        text-align: right;\n",
       "    }\n",
       "</style>\n",
       "<table border=\"1\" class=\"dataframe\">\n",
       "  <thead>\n",
       "    <tr style=\"text-align: right;\">\n",
       "      <th>fiscal_year</th>\n",
       "      <th>state</th>\n",
       "      <th>sales_2022</th>\n",
       "      <th>sales_2024</th>\n",
       "      <th>CAGR</th>\n",
       "    </tr>\n",
       "  </thead>\n",
       "  <tbody>\n",
       "    <tr>\n",
       "      <th>0</th>\n",
       "      <td>Andaman &amp; Nicobar</td>\n",
       "      <td>22.0</td>\n",
       "      <td>35.0</td>\n",
       "      <td>26.13</td>\n",
       "    </tr>\n",
       "    <tr>\n",
       "      <th>1</th>\n",
       "      <td>Andhra Pradesh</td>\n",
       "      <td>13928.0</td>\n",
       "      <td>33183.0</td>\n",
       "      <td>54.35</td>\n",
       "    </tr>\n",
       "    <tr>\n",
       "      <th>3</th>\n",
       "      <td>Assam</td>\n",
       "      <td>730.0</td>\n",
       "      <td>3497.0</td>\n",
       "      <td>118.87</td>\n",
       "    </tr>\n",
       "    <tr>\n",
       "      <th>4</th>\n",
       "      <td>Bihar</td>\n",
       "      <td>4829.0</td>\n",
       "      <td>15069.0</td>\n",
       "      <td>76.65</td>\n",
       "    </tr>\n",
       "    <tr>\n",
       "      <th>5</th>\n",
       "      <td>Chandigarh</td>\n",
       "      <td>411.0</td>\n",
       "      <td>2877.0</td>\n",
       "      <td>164.58</td>\n",
       "    </tr>\n",
       "    <tr>\n",
       "      <th>6</th>\n",
       "      <td>Chhattisgarh</td>\n",
       "      <td>4534.0</td>\n",
       "      <td>28540.0</td>\n",
       "      <td>150.89</td>\n",
       "    </tr>\n",
       "    <tr>\n",
       "      <th>7</th>\n",
       "      <td>DNH and DD</td>\n",
       "      <td>35.0</td>\n",
       "      <td>198.0</td>\n",
       "      <td>137.85</td>\n",
       "    </tr>\n",
       "    <tr>\n",
       "      <th>8</th>\n",
       "      <td>Delhi</td>\n",
       "      <td>16535.0</td>\n",
       "      <td>46724.0</td>\n",
       "      <td>68.10</td>\n",
       "    </tr>\n",
       "    <tr>\n",
       "      <th>9</th>\n",
       "      <td>Goa</td>\n",
       "      <td>1778.0</td>\n",
       "      <td>10799.0</td>\n",
       "      <td>146.45</td>\n",
       "    </tr>\n",
       "    <tr>\n",
       "      <th>10</th>\n",
       "      <td>Gujarat</td>\n",
       "      <td>18026.0</td>\n",
       "      <td>84359.0</td>\n",
       "      <td>116.33</td>\n",
       "    </tr>\n",
       "    <tr>\n",
       "      <th>11</th>\n",
       "      <td>Haryana</td>\n",
       "      <td>5926.0</td>\n",
       "      <td>11793.0</td>\n",
       "      <td>41.07</td>\n",
       "    </tr>\n",
       "    <tr>\n",
       "      <th>12</th>\n",
       "      <td>Himachal Pradesh</td>\n",
       "      <td>443.0</td>\n",
       "      <td>1048.0</td>\n",
       "      <td>53.81</td>\n",
       "    </tr>\n",
       "    <tr>\n",
       "      <th>13</th>\n",
       "      <td>Jammu and Kashmir</td>\n",
       "      <td>1434.0</td>\n",
       "      <td>2283.0</td>\n",
       "      <td>26.18</td>\n",
       "    </tr>\n",
       "    <tr>\n",
       "      <th>14</th>\n",
       "      <td>Jharkhand</td>\n",
       "      <td>2713.0</td>\n",
       "      <td>7830.0</td>\n",
       "      <td>69.89</td>\n",
       "    </tr>\n",
       "    <tr>\n",
       "      <th>15</th>\n",
       "      <td>Karnataka</td>\n",
       "      <td>43111.0</td>\n",
       "      <td>160989.0</td>\n",
       "      <td>93.24</td>\n",
       "    </tr>\n",
       "    <tr>\n",
       "      <th>16</th>\n",
       "      <td>Kerala</td>\n",
       "      <td>13639.0</td>\n",
       "      <td>73938.0</td>\n",
       "      <td>132.83</td>\n",
       "    </tr>\n",
       "    <tr>\n",
       "      <th>17</th>\n",
       "      <td>Ladakh</td>\n",
       "      <td>12.0</td>\n",
       "      <td>31.0</td>\n",
       "      <td>60.73</td>\n",
       "    </tr>\n",
       "    <tr>\n",
       "      <th>18</th>\n",
       "      <td>Madhya Pradesh</td>\n",
       "      <td>7916.0</td>\n",
       "      <td>43223.0</td>\n",
       "      <td>133.67</td>\n",
       "    </tr>\n",
       "    <tr>\n",
       "      <th>19</th>\n",
       "      <td>Maharashtra</td>\n",
       "      <td>48374.0</td>\n",
       "      <td>197169.0</td>\n",
       "      <td>101.89</td>\n",
       "    </tr>\n",
       "    <tr>\n",
       "      <th>20</th>\n",
       "      <td>Manipur</td>\n",
       "      <td>25.0</td>\n",
       "      <td>126.0</td>\n",
       "      <td>124.50</td>\n",
       "    </tr>\n",
       "    <tr>\n",
       "      <th>21</th>\n",
       "      <td>Meghalaya</td>\n",
       "      <td>4.0</td>\n",
       "      <td>133.0</td>\n",
       "      <td>476.63</td>\n",
       "    </tr>\n",
       "    <tr>\n",
       "      <th>23</th>\n",
       "      <td>Nagaland</td>\n",
       "      <td>1.0</td>\n",
       "      <td>9.0</td>\n",
       "      <td>200.00</td>\n",
       "    </tr>\n",
       "    <tr>\n",
       "      <th>24</th>\n",
       "      <td>Odisha</td>\n",
       "      <td>9498.0</td>\n",
       "      <td>39118.0</td>\n",
       "      <td>102.94</td>\n",
       "    </tr>\n",
       "    <tr>\n",
       "      <th>25</th>\n",
       "      <td>Puducherry</td>\n",
       "      <td>734.0</td>\n",
       "      <td>3098.0</td>\n",
       "      <td>105.44</td>\n",
       "    </tr>\n",
       "    <tr>\n",
       "      <th>26</th>\n",
       "      <td>Punjab</td>\n",
       "      <td>4528.0</td>\n",
       "      <td>11198.0</td>\n",
       "      <td>57.26</td>\n",
       "    </tr>\n",
       "    <tr>\n",
       "      <th>27</th>\n",
       "      <td>Rajasthan</td>\n",
       "      <td>20087.0</td>\n",
       "      <td>66444.0</td>\n",
       "      <td>81.87</td>\n",
       "    </tr>\n",
       "    <tr>\n",
       "      <th>28</th>\n",
       "      <td>Tamil Nadu</td>\n",
       "      <td>36863.0</td>\n",
       "      <td>94314.0</td>\n",
       "      <td>59.95</td>\n",
       "    </tr>\n",
       "    <tr>\n",
       "      <th>29</th>\n",
       "      <td>Tripura</td>\n",
       "      <td>28.0</td>\n",
       "      <td>304.0</td>\n",
       "      <td>229.50</td>\n",
       "    </tr>\n",
       "    <tr>\n",
       "      <th>30</th>\n",
       "      <td>Uttar Pradesh</td>\n",
       "      <td>10222.0</td>\n",
       "      <td>57758.0</td>\n",
       "      <td>137.70</td>\n",
       "    </tr>\n",
       "    <tr>\n",
       "      <th>31</th>\n",
       "      <td>Uttarakhand</td>\n",
       "      <td>2079.0</td>\n",
       "      <td>6336.0</td>\n",
       "      <td>74.57</td>\n",
       "    </tr>\n",
       "    <tr>\n",
       "      <th>32</th>\n",
       "      <td>West Bengal</td>\n",
       "      <td>2685.0</td>\n",
       "      <td>16864.0</td>\n",
       "      <td>150.62</td>\n",
       "    </tr>\n",
       "  </tbody>\n",
       "</table>\n",
       "</div>"
      ],
      "text/plain": [
       "fiscal_year              state  sales_2022  sales_2024    CAGR\n",
       "0            Andaman & Nicobar        22.0        35.0   26.13\n",
       "1               Andhra Pradesh     13928.0     33183.0   54.35\n",
       "3                        Assam       730.0      3497.0  118.87\n",
       "4                        Bihar      4829.0     15069.0   76.65\n",
       "5                   Chandigarh       411.0      2877.0  164.58\n",
       "6                 Chhattisgarh      4534.0     28540.0  150.89\n",
       "7                   DNH and DD        35.0       198.0  137.85\n",
       "8                        Delhi     16535.0     46724.0   68.10\n",
       "9                          Goa      1778.0     10799.0  146.45\n",
       "10                     Gujarat     18026.0     84359.0  116.33\n",
       "11                     Haryana      5926.0     11793.0   41.07\n",
       "12            Himachal Pradesh       443.0      1048.0   53.81\n",
       "13           Jammu and Kashmir      1434.0      2283.0   26.18\n",
       "14                   Jharkhand      2713.0      7830.0   69.89\n",
       "15                   Karnataka     43111.0    160989.0   93.24\n",
       "16                      Kerala     13639.0     73938.0  132.83\n",
       "17                      Ladakh        12.0        31.0   60.73\n",
       "18              Madhya Pradesh      7916.0     43223.0  133.67\n",
       "19                 Maharashtra     48374.0    197169.0  101.89\n",
       "20                     Manipur        25.0       126.0  124.50\n",
       "21                   Meghalaya         4.0       133.0  476.63\n",
       "23                    Nagaland         1.0         9.0  200.00\n",
       "24                      Odisha      9498.0     39118.0  102.94\n",
       "25                  Puducherry       734.0      3098.0  105.44\n",
       "26                      Punjab      4528.0     11198.0   57.26\n",
       "27                   Rajasthan     20087.0     66444.0   81.87\n",
       "28                  Tamil Nadu     36863.0     94314.0   59.95\n",
       "29                     Tripura        28.0       304.0  229.50\n",
       "30               Uttar Pradesh     10222.0     57758.0  137.70\n",
       "31                 Uttarakhand      2079.0      6336.0   74.57\n",
       "32                 West Bengal      2685.0     16864.0  150.62"
      ]
     },
     "metadata": {},
     "output_type": "display_data"
    }
   ],
   "source": [
    "# Calculate the CAGR of EV_sales\n",
    "ev_state_pt['CAGR'] = (\n",
    "  (\n",
    "    (ev_state_pt['sales_2024'] / ev_state_pt['sales_2022']) ** (1/2) - 1 \n",
    "  ) * 100\n",
    ").round(2) # in %\n",
    "\n",
    "display(ev_state_pt[ev_state_pt['CAGR'] > 0])"
   ]
  },
  {
   "cell_type": "code",
   "execution_count": 19,
   "id": "c8e07530",
   "metadata": {},
   "outputs": [],
   "source": [
    "# Handle division by zero\n",
    "ev_state_pt = ev_state_pt.dropna(subset=['sales_2022', 'sales_2024'])\n",
    "ev_state_pt = ev_state_pt.loc[ev_state_pt['sales_2022'] > 0]"
   ]
  },
  {
   "cell_type": "code",
   "execution_count": 20,
   "id": "5644d6d8",
   "metadata": {},
   "outputs": [
    {
     "data": {
      "text/html": [
       "<div>\n",
       "<style scoped>\n",
       "    .dataframe tbody tr th:only-of-type {\n",
       "        vertical-align: middle;\n",
       "    }\n",
       "\n",
       "    .dataframe tbody tr th {\n",
       "        vertical-align: top;\n",
       "    }\n",
       "\n",
       "    .dataframe thead th {\n",
       "        text-align: right;\n",
       "    }\n",
       "</style>\n",
       "<table border=\"1\" class=\"dataframe\">\n",
       "  <thead>\n",
       "    <tr style=\"text-align: right;\">\n",
       "      <th>fiscal_year</th>\n",
       "      <th>state</th>\n",
       "      <th>sales_2022</th>\n",
       "      <th>sales_2024</th>\n",
       "      <th>CAGR</th>\n",
       "    </tr>\n",
       "  </thead>\n",
       "  <tbody>\n",
       "    <tr>\n",
       "      <th>21</th>\n",
       "      <td>Meghalaya</td>\n",
       "      <td>4.0</td>\n",
       "      <td>133.0</td>\n",
       "      <td>476.63</td>\n",
       "    </tr>\n",
       "    <tr>\n",
       "      <th>29</th>\n",
       "      <td>Tripura</td>\n",
       "      <td>28.0</td>\n",
       "      <td>304.0</td>\n",
       "      <td>229.50</td>\n",
       "    </tr>\n",
       "    <tr>\n",
       "      <th>23</th>\n",
       "      <td>Nagaland</td>\n",
       "      <td>1.0</td>\n",
       "      <td>9.0</td>\n",
       "      <td>200.00</td>\n",
       "    </tr>\n",
       "    <tr>\n",
       "      <th>5</th>\n",
       "      <td>Chandigarh</td>\n",
       "      <td>411.0</td>\n",
       "      <td>2877.0</td>\n",
       "      <td>164.58</td>\n",
       "    </tr>\n",
       "    <tr>\n",
       "      <th>6</th>\n",
       "      <td>Chhattisgarh</td>\n",
       "      <td>4534.0</td>\n",
       "      <td>28540.0</td>\n",
       "      <td>150.89</td>\n",
       "    </tr>\n",
       "    <tr>\n",
       "      <th>32</th>\n",
       "      <td>West Bengal</td>\n",
       "      <td>2685.0</td>\n",
       "      <td>16864.0</td>\n",
       "      <td>150.62</td>\n",
       "    </tr>\n",
       "    <tr>\n",
       "      <th>9</th>\n",
       "      <td>Goa</td>\n",
       "      <td>1778.0</td>\n",
       "      <td>10799.0</td>\n",
       "      <td>146.45</td>\n",
       "    </tr>\n",
       "    <tr>\n",
       "      <th>7</th>\n",
       "      <td>DNH and DD</td>\n",
       "      <td>35.0</td>\n",
       "      <td>198.0</td>\n",
       "      <td>137.85</td>\n",
       "    </tr>\n",
       "    <tr>\n",
       "      <th>30</th>\n",
       "      <td>Uttar Pradesh</td>\n",
       "      <td>10222.0</td>\n",
       "      <td>57758.0</td>\n",
       "      <td>137.70</td>\n",
       "    </tr>\n",
       "    <tr>\n",
       "      <th>18</th>\n",
       "      <td>Madhya Pradesh</td>\n",
       "      <td>7916.0</td>\n",
       "      <td>43223.0</td>\n",
       "      <td>133.67</td>\n",
       "    </tr>\n",
       "  </tbody>\n",
       "</table>\n",
       "</div>"
      ],
      "text/plain": [
       "fiscal_year           state  sales_2022  sales_2024    CAGR\n",
       "21                Meghalaya         4.0       133.0  476.63\n",
       "29                  Tripura        28.0       304.0  229.50\n",
       "23                 Nagaland         1.0         9.0  200.00\n",
       "5                Chandigarh       411.0      2877.0  164.58\n",
       "6              Chhattisgarh      4534.0     28540.0  150.89\n",
       "32              West Bengal      2685.0     16864.0  150.62\n",
       "9                       Goa      1778.0     10799.0  146.45\n",
       "7                DNH and DD        35.0       198.0  137.85\n",
       "30            Uttar Pradesh     10222.0     57758.0  137.70\n",
       "18           Madhya Pradesh      7916.0     43223.0  133.67"
      ]
     },
     "metadata": {},
     "output_type": "display_data"
    }
   ],
   "source": [
    "# Sort by CAGR in decending order\n",
    "top_10_ev_CAGR = ev_state_pt.sort_values(by='CAGR', ascending=False).head(10)\n",
    "\n",
    "display(top_10_ev_CAGR)"
   ]
  },
  {
   "cell_type": "code",
   "execution_count": 21,
   "id": "a47755db",
   "metadata": {},
   "outputs": [
    {
     "data": {
      "image/png": "[encoded data removed]",
      "text/plain": [
       "<Figure size 1000x600 with 1 Axes>"
      ]
     },
     "metadata": {},
     "output_type": "display_data"
    }
   ],
   "source": [
    "# Sort for plotting\n",
    "df_top10_sorted = top_10_ev_CAGR.sort_values(\"CAGR\")\n",
    "\n",
    "# Create color mapping: green if positive, red if negative\n",
    "colors = [\"#2ecc71\" if val > 0 else \"#e74c3c\" for val in df_top10_sorted[\"CAGR\"]]\n",
    "\n",
    "plt.figure(figsize=(10, 6))\n",
    "plt.barh(df_top10_sorted[\"state\"], df_top10_sorted[\"CAGR\"], color=colors)\n",
    "plt.xlabel(\"CAGR (%)\")\n",
    "plt.ylabel(\"State\")\n",
    "plt.title(\"Top 10 States by CAGR (2022–2024) in Total Vehicle Sales\")\n",
    "plt.grid(axis=\"x\", linestyle=\"--\", alpha=0.7)\n",
    "\n",
    "# Add labels to bars\n",
    "for index, value in enumerate(df_top10_sorted[\"CAGR\"]):\n",
    "    plt.text(value, index, f\"{value:.2f}%\", va=\"center\");"
   ]
  },
  {
   "cell_type": "markdown",
   "id": "1743cd84",
   "metadata": {},
   "source": [
    "### Showing the top 10 listed state which having other then ev_sales CAGR"
   ]
  },
  {
   "cell_type": "code",
   "execution_count": 22,
   "id": "249e6081",
   "metadata": {},
   "outputs": [
    {
     "name": "stderr",
     "output_type": "stream",
     "text": [
      "/tmp/ipykernel_166463/1335137374.py:2: SettingWithCopyWarning: \n",
      "A value is trying to be set on a copy of a slice from a DataFrame.\n",
      "Try using .loc[row_indexer,col_indexer] = value instead\n",
      "\n",
      "See the caveats in the documentation: https://pandas.pydata.org/pandas-docs/stable/user_guide/indexing.html#returning-a-view-versus-a-copy\n",
      "  state_sales_filtered['none_ev_sales'] = state_sales_filtered['total_vehicles_sold'] - state_sales_filtered['electric_vehicles_sold']\n"
     ]
    },
    {
     "data": {
      "text/html": [
       "<div>\n",
       "<style scoped>\n",
       "    .dataframe tbody tr th:only-of-type {\n",
       "        vertical-align: middle;\n",
       "    }\n",
       "\n",
       "    .dataframe tbody tr th {\n",
       "        vertical-align: top;\n",
       "    }\n",
       "\n",
       "    .dataframe thead th {\n",
       "        text-align: right;\n",
       "    }\n",
       "</style>\n",
       "<table border=\"1\" class=\"dataframe\">\n",
       "  <thead>\n",
       "    <tr style=\"text-align: right;\">\n",
       "      <th></th>\n",
       "      <th>date</th>\n",
       "      <th>fiscal_year</th>\n",
       "      <th>quarter</th>\n",
       "      <th>state</th>\n",
       "      <th>vehicle_category</th>\n",
       "      <th>electric_vehicles_sold</th>\n",
       "      <th>total_vehicles_sold</th>\n",
       "      <th>none_ev_sales</th>\n",
       "    </tr>\n",
       "  </thead>\n",
       "  <tbody>\n",
       "    <tr>\n",
       "      <th>20</th>\n",
       "      <td>01-Apr-21</td>\n",
       "      <td>2022</td>\n",
       "      <td>Q1</td>\n",
       "      <td>DNH and DD</td>\n",
       "      <td>2-Wheelers</td>\n",
       "      <td>1</td>\n",
       "      <td>657</td>\n",
       "      <td>656</td>\n",
       "    </tr>\n",
       "    <tr>\n",
       "      <th>21</th>\n",
       "      <td>01-Apr-21</td>\n",
       "      <td>2022</td>\n",
       "      <td>Q1</td>\n",
       "      <td>Himachal Pradesh</td>\n",
       "      <td>4-Wheelers</td>\n",
       "      <td>1</td>\n",
       "      <td>3544</td>\n",
       "      <td>3543</td>\n",
       "    </tr>\n",
       "    <tr>\n",
       "      <th>22</th>\n",
       "      <td>01-Apr-21</td>\n",
       "      <td>2022</td>\n",
       "      <td>Q1</td>\n",
       "      <td>Meghalaya</td>\n",
       "      <td>4-Wheelers</td>\n",
       "      <td>1</td>\n",
       "      <td>930</td>\n",
       "      <td>929</td>\n",
       "    </tr>\n",
       "    <tr>\n",
       "      <th>23</th>\n",
       "      <td>01-Apr-21</td>\n",
       "      <td>2022</td>\n",
       "      <td>Q1</td>\n",
       "      <td>Andaman &amp; Nicobar</td>\n",
       "      <td>4-Wheelers</td>\n",
       "      <td>9</td>\n",
       "      <td>168</td>\n",
       "      <td>159</td>\n",
       "    </tr>\n",
       "    <tr>\n",
       "      <th>24</th>\n",
       "      <td>01-Apr-21</td>\n",
       "      <td>2022</td>\n",
       "      <td>Q1</td>\n",
       "      <td>Andhra Pradesh</td>\n",
       "      <td>4-Wheelers</td>\n",
       "      <td>26</td>\n",
       "      <td>7837</td>\n",
       "      <td>7811</td>\n",
       "    </tr>\n",
       "    <tr>\n",
       "      <th>...</th>\n",
       "      <td>...</td>\n",
       "      <td>...</td>\n",
       "      <td>...</td>\n",
       "      <td>...</td>\n",
       "      <td>...</td>\n",
       "      <td>...</td>\n",
       "      <td>...</td>\n",
       "      <td>...</td>\n",
       "    </tr>\n",
       "    <tr>\n",
       "      <th>2440</th>\n",
       "      <td>01-Mar-24</td>\n",
       "      <td>2024</td>\n",
       "      <td>Q4</td>\n",
       "      <td>Mizoram</td>\n",
       "      <td>2-Wheelers</td>\n",
       "      <td>58</td>\n",
       "      <td>1932</td>\n",
       "      <td>1874</td>\n",
       "    </tr>\n",
       "    <tr>\n",
       "      <th>2441</th>\n",
       "      <td>01-Mar-24</td>\n",
       "      <td>2024</td>\n",
       "      <td>Q4</td>\n",
       "      <td>DNH and DD</td>\n",
       "      <td>2-Wheelers</td>\n",
       "      <td>25</td>\n",
       "      <td>780</td>\n",
       "      <td>755</td>\n",
       "    </tr>\n",
       "    <tr>\n",
       "      <th>2442</th>\n",
       "      <td>01-Mar-24</td>\n",
       "      <td>2024</td>\n",
       "      <td>Q4</td>\n",
       "      <td>Manipur</td>\n",
       "      <td>2-Wheelers</td>\n",
       "      <td>13</td>\n",
       "      <td>1394</td>\n",
       "      <td>1381</td>\n",
       "    </tr>\n",
       "    <tr>\n",
       "      <th>2443</th>\n",
       "      <td>01-Mar-24</td>\n",
       "      <td>2024</td>\n",
       "      <td>Q4</td>\n",
       "      <td>Andaman &amp; Nicobar</td>\n",
       "      <td>2-Wheelers</td>\n",
       "      <td>2</td>\n",
       "      <td>447</td>\n",
       "      <td>445</td>\n",
       "    </tr>\n",
       "    <tr>\n",
       "      <th>2444</th>\n",
       "      <td>01-Mar-24</td>\n",
       "      <td>2024</td>\n",
       "      <td>Q4</td>\n",
       "      <td>Nagaland</td>\n",
       "      <td>2-Wheelers</td>\n",
       "      <td>2</td>\n",
       "      <td>1180</td>\n",
       "      <td>1178</td>\n",
       "    </tr>\n",
       "  </tbody>\n",
       "</table>\n",
       "<p>1304 rows × 8 columns</p>\n",
       "</div>"
      ],
      "text/plain": [
       "           date  fiscal_year quarter              state vehicle_category  \\\n",
       "20    01-Apr-21         2022      Q1         DNH and DD       2-Wheelers   \n",
       "21    01-Apr-21         2022      Q1   Himachal Pradesh       4-Wheelers   \n",
       "22    01-Apr-21         2022      Q1          Meghalaya       4-Wheelers   \n",
       "23    01-Apr-21         2022      Q1  Andaman & Nicobar       4-Wheelers   \n",
       "24    01-Apr-21         2022      Q1     Andhra Pradesh       4-Wheelers   \n",
       "...         ...          ...     ...                ...              ...   \n",
       "2440  01-Mar-24         2024      Q4            Mizoram       2-Wheelers   \n",
       "2441  01-Mar-24         2024      Q4         DNH and DD       2-Wheelers   \n",
       "2442  01-Mar-24         2024      Q4            Manipur       2-Wheelers   \n",
       "2443  01-Mar-24         2024      Q4  Andaman & Nicobar       2-Wheelers   \n",
       "2444  01-Mar-24         2024      Q4           Nagaland       2-Wheelers   \n",
       "\n",
       "      electric_vehicles_sold  total_vehicles_sold  none_ev_sales  \n",
       "20                         1                  657            656  \n",
       "21                         1                 3544           3543  \n",
       "22                         1                  930            929  \n",
       "23                         9                  168            159  \n",
       "24                        26                 7837           7811  \n",
       "...                      ...                  ...            ...  \n",
       "2440                      58                 1932           1874  \n",
       "2441                      25                  780            755  \n",
       "2442                      13                 1394           1381  \n",
       "2443                       2                  447            445  \n",
       "2444                       2                 1180           1178  \n",
       "\n",
       "[1304 rows x 8 columns]"
      ]
     },
     "metadata": {},
     "output_type": "display_data"
    },
    {
     "data": {
      "text/html": [
       "<div>\n",
       "<style scoped>\n",
       "    .dataframe tbody tr th:only-of-type {\n",
       "        vertical-align: middle;\n",
       "    }\n",
       "\n",
       "    .dataframe tbody tr th {\n",
       "        vertical-align: top;\n",
       "    }\n",
       "\n",
       "    .dataframe thead th {\n",
       "        text-align: right;\n",
       "    }\n",
       "</style>\n",
       "<table border=\"1\" class=\"dataframe\">\n",
       "  <thead>\n",
       "    <tr style=\"text-align: right;\">\n",
       "      <th></th>\n",
       "      <th>electric_vehicles_sold</th>\n",
       "      <th>none_ev_sales</th>\n",
       "    </tr>\n",
       "  </thead>\n",
       "  <tbody>\n",
       "    <tr>\n",
       "      <th>count</th>\n",
       "      <td>1629.000000</td>\n",
       "      <td>1629.000000</td>\n",
       "    </tr>\n",
       "    <tr>\n",
       "      <th>mean</th>\n",
       "      <td>792.352977</td>\n",
       "      <td>22288.723143</td>\n",
       "    </tr>\n",
       "    <tr>\n",
       "      <th>std</th>\n",
       "      <td>2190.583536</td>\n",
       "      <td>36923.982026</td>\n",
       "    </tr>\n",
       "    <tr>\n",
       "      <th>min</th>\n",
       "      <td>0.000000</td>\n",
       "      <td>-570.000000</td>\n",
       "    </tr>\n",
       "    <tr>\n",
       "      <th>25%</th>\n",
       "      <td>2.000000</td>\n",
       "      <td>1111.000000</td>\n",
       "    </tr>\n",
       "    <tr>\n",
       "      <th>50%</th>\n",
       "      <td>51.000000</td>\n",
       "      <td>5815.000000</td>\n",
       "    </tr>\n",
       "    <tr>\n",
       "      <th>75%</th>\n",
       "      <td>493.000000</td>\n",
       "      <td>27893.000000</td>\n",
       "    </tr>\n",
       "    <tr>\n",
       "      <th>max</th>\n",
       "      <td>26668.000000</td>\n",
       "      <td>382656.000000</td>\n",
       "    </tr>\n",
       "  </tbody>\n",
       "</table>\n",
       "</div>"
      ],
      "text/plain": [
       "       electric_vehicles_sold  none_ev_sales\n",
       "count             1629.000000    1629.000000\n",
       "mean               792.352977   22288.723143\n",
       "std               2190.583536   36923.982026\n",
       "min                  0.000000    -570.000000\n",
       "25%                  2.000000    1111.000000\n",
       "50%                 51.000000    5815.000000\n",
       "75%                493.000000   27893.000000\n",
       "max              26668.000000  382656.000000"
      ]
     },
     "metadata": {},
     "output_type": "display_data"
    }
   ],
   "source": [
    "# Calculate non-EV sales by subtracting EV sales from total sales\n",
    "state_sales_filtered['none_ev_sales'] = state_sales_filtered['total_vehicles_sold'] - state_sales_filtered['electric_vehicles_sold']\n",
    "\n",
    "# Display rows where EV sales are greater than 0\n",
    "display(state_sales_filtered.loc[state_sales_filtered['electric_vehicles_sold'] > 0])\n",
    "\n",
    "# Display statistical summary of numeric columns\n",
    "display(state_sales_filtered[['electric_vehicles_sold', 'none_ev_sales']].describe())"
   ]
  },
  {
   "cell_type": "code",
   "execution_count": null,
   "id": "bee8e164",
   "metadata": {},
   "outputs": [],
   "source": []
  },
  {
   "cell_type": "code",
   "execution_count": 23,
   "id": "c588be4d",
   "metadata": {},
   "outputs": [
    {
     "data": {
      "text/html": [
       "<div>\n",
       "<style scoped>\n",
       "    .dataframe tbody tr th:only-of-type {\n",
       "        vertical-align: middle;\n",
       "    }\n",
       "\n",
       "    .dataframe tbody tr th {\n",
       "        vertical-align: top;\n",
       "    }\n",
       "\n",
       "    .dataframe thead th {\n",
       "        text-align: right;\n",
       "    }\n",
       "</style>\n",
       "<table border=\"1\" class=\"dataframe\">\n",
       "  <thead>\n",
       "    <tr style=\"text-align: right;\">\n",
       "      <th></th>\n",
       "      <th>fiscal_year</th>\n",
       "      <th>state</th>\n",
       "      <th>none_ev_sales</th>\n",
       "    </tr>\n",
       "  </thead>\n",
       "  <tbody>\n",
       "    <tr>\n",
       "      <th>0</th>\n",
       "      <td>2022</td>\n",
       "      <td>Andaman &amp; Nicobar</td>\n",
       "      <td>5126</td>\n",
       "    </tr>\n",
       "    <tr>\n",
       "      <th>1</th>\n",
       "      <td>2022</td>\n",
       "      <td>Andhra Pradesh</td>\n",
       "      <td>758820</td>\n",
       "    </tr>\n",
       "    <tr>\n",
       "      <th>2</th>\n",
       "      <td>2022</td>\n",
       "      <td>Arunachal Pradesh</td>\n",
       "      <td>19929</td>\n",
       "    </tr>\n",
       "    <tr>\n",
       "      <th>3</th>\n",
       "      <td>2022</td>\n",
       "      <td>Assam</td>\n",
       "      <td>378720</td>\n",
       "    </tr>\n",
       "    <tr>\n",
       "      <th>4</th>\n",
       "      <td>2022</td>\n",
       "      <td>Bihar</td>\n",
       "      <td>888044</td>\n",
       "    </tr>\n",
       "  </tbody>\n",
       "</table>\n",
       "</div>"
      ],
      "text/plain": [
       "   fiscal_year              state  none_ev_sales\n",
       "0         2022  Andaman & Nicobar           5126\n",
       "1         2022     Andhra Pradesh         758820\n",
       "2         2022  Arunachal Pradesh          19929\n",
       "3         2022              Assam         378720\n",
       "4         2022              Bihar         888044"
      ]
     },
     "metadata": {},
     "output_type": "display_data"
    }
   ],
   "source": [
    "df_grouped = state_sales_filtered.groupby(['fiscal_year', 'state'], as_index=False)['none_ev_sales'].sum()\n",
    "\n",
    "display(df_grouped.head())"
   ]
  },
  {
   "cell_type": "code",
   "execution_count": 24,
   "id": "b0693c51",
   "metadata": {},
   "outputs": [
    {
     "data": {
      "text/html": [
       "<div>\n",
       "<style scoped>\n",
       "    .dataframe tbody tr th:only-of-type {\n",
       "        vertical-align: middle;\n",
       "    }\n",
       "\n",
       "    .dataframe tbody tr th {\n",
       "        vertical-align: top;\n",
       "    }\n",
       "\n",
       "    .dataframe thead th {\n",
       "        text-align: right;\n",
       "    }\n",
       "</style>\n",
       "<table border=\"1\" class=\"dataframe\">\n",
       "  <thead>\n",
       "    <tr style=\"text-align: right;\">\n",
       "      <th>fiscal_year</th>\n",
       "      <th>state</th>\n",
       "      <th>sales_2022</th>\n",
       "      <th>sales_2024</th>\n",
       "    </tr>\n",
       "  </thead>\n",
       "  <tbody>\n",
       "    <tr>\n",
       "      <th>0</th>\n",
       "      <td>Andaman &amp; Nicobar</td>\n",
       "      <td>5126</td>\n",
       "      <td>7168</td>\n",
       "    </tr>\n",
       "    <tr>\n",
       "      <th>1</th>\n",
       "      <td>Andhra Pradesh</td>\n",
       "      <td>758820</td>\n",
       "      <td>749682</td>\n",
       "    </tr>\n",
       "    <tr>\n",
       "      <th>2</th>\n",
       "      <td>Arunachal Pradesh</td>\n",
       "      <td>19929</td>\n",
       "      <td>27861</td>\n",
       "    </tr>\n",
       "    <tr>\n",
       "      <th>3</th>\n",
       "      <td>Assam</td>\n",
       "      <td>378720</td>\n",
       "      <td>544129</td>\n",
       "    </tr>\n",
       "    <tr>\n",
       "      <th>4</th>\n",
       "      <td>Bihar</td>\n",
       "      <td>888044</td>\n",
       "      <td>1117634</td>\n",
       "    </tr>\n",
       "  </tbody>\n",
       "</table>\n",
       "</div>"
      ],
      "text/plain": [
       "fiscal_year              state  sales_2022  sales_2024\n",
       "0            Andaman & Nicobar        5126        7168\n",
       "1               Andhra Pradesh      758820      749682\n",
       "2            Arunachal Pradesh       19929       27861\n",
       "3                        Assam      378720      544129\n",
       "4                        Bihar      888044     1117634"
      ]
     },
     "metadata": {},
     "output_type": "display_data"
    }
   ],
   "source": [
    "# pivot\n",
    "df_pivot = (\n",
    "  df_grouped.pivot(index='state', columns='fiscal_year', values='none_ev_sales')\n",
    "  .rename(columns={2022: 'sales_2022', 2024: 'sales_2024'})\n",
    "  .reset_index()\n",
    ")\n",
    "\n",
    "display(df_pivot.head())"
   ]
  },
  {
   "cell_type": "code",
   "execution_count": 25,
   "id": "f24d6976",
   "metadata": {},
   "outputs": [
    {
     "data": {
      "text/html": [
       "<div>\n",
       "<style scoped>\n",
       "    .dataframe tbody tr th:only-of-type {\n",
       "        vertical-align: middle;\n",
       "    }\n",
       "\n",
       "    .dataframe tbody tr th {\n",
       "        vertical-align: top;\n",
       "    }\n",
       "\n",
       "    .dataframe thead th {\n",
       "        text-align: right;\n",
       "    }\n",
       "</style>\n",
       "<table border=\"1\" class=\"dataframe\">\n",
       "  <thead>\n",
       "    <tr style=\"text-align: right;\">\n",
       "      <th>fiscal_year</th>\n",
       "      <th>state</th>\n",
       "      <th>sales_2022</th>\n",
       "      <th>sales_2024</th>\n",
       "      <th>CAGR</th>\n",
       "    </tr>\n",
       "  </thead>\n",
       "  <tbody>\n",
       "    <tr>\n",
       "      <th>0</th>\n",
       "      <td>Andaman &amp; Nicobar</td>\n",
       "      <td>5126</td>\n",
       "      <td>7168</td>\n",
       "      <td>18.25</td>\n",
       "    </tr>\n",
       "    <tr>\n",
       "      <th>1</th>\n",
       "      <td>Andhra Pradesh</td>\n",
       "      <td>758820</td>\n",
       "      <td>749682</td>\n",
       "      <td>-0.60</td>\n",
       "    </tr>\n",
       "    <tr>\n",
       "      <th>2</th>\n",
       "      <td>Arunachal Pradesh</td>\n",
       "      <td>19929</td>\n",
       "      <td>27861</td>\n",
       "      <td>18.24</td>\n",
       "    </tr>\n",
       "    <tr>\n",
       "      <th>3</th>\n",
       "      <td>Assam</td>\n",
       "      <td>378720</td>\n",
       "      <td>544129</td>\n",
       "      <td>19.86</td>\n",
       "    </tr>\n",
       "    <tr>\n",
       "      <th>4</th>\n",
       "      <td>Bihar</td>\n",
       "      <td>888044</td>\n",
       "      <td>1117634</td>\n",
       "      <td>12.18</td>\n",
       "    </tr>\n",
       "  </tbody>\n",
       "</table>\n",
       "</div>"
      ],
      "text/plain": [
       "fiscal_year              state  sales_2022  sales_2024   CAGR\n",
       "0            Andaman & Nicobar        5126        7168  18.25\n",
       "1               Andhra Pradesh      758820      749682  -0.60\n",
       "2            Arunachal Pradesh       19929       27861  18.24\n",
       "3                        Assam      378720      544129  19.86\n",
       "4                        Bihar      888044     1117634  12.18"
      ]
     },
     "metadata": {},
     "output_type": "display_data"
    }
   ],
   "source": [
    "# ev_state_pt['CAGR'] = (\n",
    "#   (\n",
    "#     (ev_state_pt['sales_2024'] / ev_state_pt['sales_2022']) ** (1/2) - 1\n",
    "#   ) * 100\n",
    "# ).round(2) # in %\n",
    "\n",
    "df_pivot[\"CAGR\"] = (\n",
    "    ((df_pivot[\"sales_2024\"] / df_pivot[\"sales_2022\"]) ** (1 / 2) - 1) * 100\n",
    ").round(\n",
    "    2\n",
    ") \n",
    "\n",
    "\n",
    "display(df_pivot.head())"
   ]
  },
  {
   "cell_type": "code",
   "execution_count": 26,
   "id": "69bf8663",
   "metadata": {},
   "outputs": [
    {
     "data": {
      "text/plain": [
       "fiscal_year\n",
       "state         0\n",
       "sales_2022    0\n",
       "sales_2024    0\n",
       "CAGR          0\n",
       "dtype: int64"
      ]
     },
     "metadata": {},
     "output_type": "display_data"
    },
    {
     "data": {
      "text/plain": [
       "fiscal_year\n",
       "state         0\n",
       "sales_2022    0\n",
       "sales_2024    0\n",
       "CAGR          0\n",
       "dtype: int64"
      ]
     },
     "metadata": {},
     "output_type": "display_data"
    }
   ],
   "source": [
    "display(df_pivot.isna().sum())\n",
    "display(df_pivot.isnull().sum())\n",
    "\n",
    "\n",
    "df_pivot = df_pivot[df_pivot['sales_2022'] > 0]"
   ]
  },
  {
   "cell_type": "code",
   "execution_count": 27,
   "id": "39e63d5b",
   "metadata": {},
   "outputs": [],
   "source": [
    "df_top10 = df_pivot.sort_values(by='CAGR', ascending=False).head(10)"
   ]
  },
  {
   "cell_type": "code",
   "execution_count": 28,
   "id": "e1e23b8b",
   "metadata": {},
   "outputs": [
    {
     "data": {
      "image/png": "[encoded data removed]",
      "text/plain": [
       "<Figure size 1000x600 with 1 Axes>"
      ]
     },
     "metadata": {},
     "output_type": "display_data"
    }
   ],
   "source": [
    "# Sort for plotting\n",
    "df_top10_sorted = df_top10.sort_values(\"CAGR\")\n",
    "\n",
    "# Create color mapping: green if positive, red if negative\n",
    "colors = [\"#2ecc71\" if val > 0 else \"#e74c3c\" for val in df_top10_sorted[\"CAGR\"]]\n",
    "\n",
    "plt.figure(figsize=(10, 6))\n",
    "plt.barh(df_top10_sorted[\"state\"], df_top10_sorted[\"CAGR\"], color=colors)\n",
    "plt.xlabel(\"CAGR (%)\")\n",
    "plt.ylabel(\"State\")\n",
    "plt.title(\"Top 10 States by CAGR (2022–2024) in Total Vehicle Sales\")\n",
    "plt.grid(axis=\"x\", linestyle=\"--\", alpha=0.7)\n",
    "\n",
    "# Add labels to bars\n",
    "for index, value in enumerate(df_top10_sorted[\"CAGR\"]):\n",
    "    plt.text(value, index, f\"{value:.2f}%\", va=\"center\");"
   ]
  },
  {
   "cell_type": "code",
   "execution_count": 29,
   "id": "f4f1c17d",
   "metadata": {},
   "outputs": [
    {
     "data": {
      "image/png": "[encoded data removed]",
      "text/plain": [
       "<Figure size 1500x500 with 2 Axes>"
      ]
     },
     "metadata": {},
     "output_type": "display_data"
    }
   ],
   "source": [
    "# Calculate means\n",
    "mean_non_ev = df_pivot['sales_2024'].mean()\n",
    "mean_ev = ev_state_pt['sales_2024'].mean()\n",
    "\n",
    "# Create subplots\n",
    "fig, (ax1, ax2) = plt.subplots(1, 2, figsize=(15,5))\n",
    "\n",
    "# Non-EV sales distribution with density curve\n",
    "sns.kdeplot(data=df_pivot['sales_2024'], alpha=0.7, color='skyblue', ax=ax1)\n",
    "ax1.axvline(mean_non_ev, color='red', linestyle='--', linewidth=2)\n",
    "ax1.text(mean_non_ev, ax1.get_ylim()[1]*0.9, f\"Mean: {mean_non_ev:.0f}\",\n",
    "         color='red', rotation=90, va='top', ha='right', fontsize=9)\n",
    "ax1.set_title('Non-EV Sales Distribution (2024)')\n",
    "ax1.set_xlabel('Number of Sales')\n",
    "ax1.set_ylabel('Density')\n",
    "\n",
    "# EV sales distribution with density curve\n",
    "sns.kdeplot(data=ev_state_pt['sales_2024'], alpha=0.7, color='lightgreen', ax=ax2)\n",
    "ax2.axvline(mean_ev, color='red', linestyle='--', linewidth=2)\n",
    "ax2.text(mean_ev, ax2.get_ylim()[1]*0.9, f\"Mean: {mean_ev:.0f}\",\n",
    "         color='red', rotation=90, va='top', ha='right', fontsize=9)\n",
    "ax2.set_title('EV Sales Distribution (2024)') \n",
    "ax2.set_xlabel('Number of Sales')\n",
    "ax2.set_ylabel('Density')\n",
    "\n",
    "plt.tight_layout()\n",
    "plt.show()\n"
   ]
  },
  {
   "cell_type": "code",
   "execution_count": 30,
   "id": "2b01cdbc",
   "metadata": {},
   "outputs": [
    {
     "data": {
      "application/vnd.plotly.v1+json": {
       "config": {
        "plotlyServerURL": "https://plot.ly"
       },
       "data": [
        {
         "alignmentgroup": "True",
         "boxpoints": "all",
         "hovertemplate": "sales_2024=%{y}<extra></extra>",
         "legendgroup": "",
         "marker": {
          "color": "skyblue"
         },
         "name": "",
         "notched": false,
         "offsetgroup": "",
         "orientation": "v",
         "showlegend": false,
         "type": "box",
         "x0": " ",
         "xaxis": "x",
         "y": {
          "bdata": "ABwAAHJwCwDVbAAAgU0IAMINEQAepQAAoD0HAEo/AAAIiggAjQgBAET9FgBs/QoARMUBAHQXAgANbwcAx64VANCbCABnDAAAT/cSALn+HwB4RwAAj44AAAtqAABDQgAA19UIAELVAABYmAgAcNQSABYpAABiwhgAP7QAAN3cKwDXdQMAlWsOAA==",
          "dtype": "i4"
         },
         "y0": " ",
         "yaxis": "y"
        },
        {
         "alignmentgroup": "True",
         "boxpoints": "all",
         "hovertemplate": "sales_2024=%{y}<extra></extra>",
         "legendgroup": "",
         "marker": {
          "color": "lightgreen"
         },
         "name": "",
         "notched": false,
         "offsetgroup": "",
         "orientation": "v",
         "showlegend": false,
         "type": "box",
         "x0": " ",
         "xaxis": "x2",
         "y": {
          "bdata": "AAAAAACAQUAAAAAA4DPgQAAAAAAAUqtAAAAAAIBuzUAAAAAAAHqmQAAAAAAA39tAAAAAAADAaEAAAAAAgNDmQAAAAACAF8VAAAAAAHCY9EAAAAAAgAjHQAAAAAAAYJBAAAAAAADWoUAAAAAAAJa+QAAAAADopgNBAAAAACAN8kAAAAAAAAA/QAAAAADgGuVAAAAAAIgRCEEAAAAAAIBfQAAAAAAAoGBAAAAAAAAAIkAAAAAAwBnjQAAAAAAANKhAAAAAAADfxUAAAAAAwDjwQAAAAACgBvdAAAAAAAAAc0AAAAAAwDPsQAAAAAAAwLhAAAAAAAB40EA=",
          "dtype": "f8"
         },
         "y0": " ",
         "yaxis": "y2"
        }
       ],
       "layout": {
        "annotations": [
         {
          "font": {
           "size": 16
          },
          "showarrow": false,
          "text": "Non-EV Sales",
          "x": 0.225,
          "xanchor": "center",
          "xref": "paper",
          "y": 1,
          "yanchor": "bottom",
          "yref": "paper"
         },
         {
          "font": {
           "size": 16
          },
          "showarrow": false,
          "text": "EV Sales",
          "x": 0.775,
          "xanchor": "center",
          "xref": "paper",
          "y": 1,
          "yanchor": "bottom",
          "yref": "paper"
         }
        ],
        "template": {
         "data": {
          "bar": [
           {
            "error_x": {
             "color": "#2a3f5f"
            },
            "error_y": {
             "color": "#2a3f5f"
            },
            "marker": {
             "line": {
              "color": "#E5ECF6",
              "width": 0.5
             },
             "pattern": {
              "fillmode": "overlay",
              "size": 10,
              "solidity": 0.2
             }
            },
            "type": "bar"
           }
          ],
          "barpolar": [
           {
            "marker": {
             "line": {
              "color": "#E5ECF6",
              "width": 0.5
             },
             "pattern": {
              "fillmode": "overlay",
              "size": 10,
              "solidity": 0.2
             }
            },
            "type": "barpolar"
           }
          ],
          "carpet": [
           {
            "aaxis": {
             "endlinecolor": "#2a3f5f",
             "gridcolor": "white",
             "linecolor": "white",
             "minorgridcolor": "white",
             "startlinecolor": "#2a3f5f"
            },
            "baxis": {
             "endlinecolor": "#2a3f5f",
             "gridcolor": "white",
             "linecolor": "white",
             "minorgridcolor": "white",
             "startlinecolor": "#2a3f5f"
            },
            "type": "carpet"
           }
          ],
          "choropleth": [
           {
            "colorbar": {
             "outlinewidth": 0,
             "ticks": ""
            },
            "type": "choropleth"
           }
          ],
          "contour": [
           {
            "colorbar": {
             "outlinewidth": 0,
             "ticks": ""
            },
            "colorscale": [
             [
              0,
              "#0d0887"
             ],
             [
              0.1111111111111111,
              "#46039f"
             ],
             [
              0.2222222222222222,
              "#7201a8"
             ],
             [
              0.3333333333333333,
              "#9c179e"
             ],
             [
              0.4444444444444444,
              "#bd3786"
             ],
             [
              0.5555555555555556,
              "#d8576b"
             ],
             [
              0.6666666666666666,
              "#ed7953"
             ],
             [
              0.7777777777777778,
              "#fb9f3a"
             ],
             [
              0.8888888888888888,
              "#fdca26"
             ],
             [
              1,
              "#f0f921"
             ]
            ],
            "type": "contour"
           }
          ],
          "contourcarpet": [
           {
            "colorbar": {
             "outlinewidth": 0,
             "ticks": ""
            },
            "type": "contourcarpet"
           }
          ],
          "heatmap": [
           {
            "colorbar": {
             "outlinewidth": 0,
             "ticks": ""
            },
            "colorscale": [
             [
              0,
              "#0d0887"
             ],
             [
              0.1111111111111111,
              "#46039f"
             ],
             [
              0.2222222222222222,
              "#7201a8"
             ],
             [
              0.3333333333333333,
              "#9c179e"
             ],
             [
              0.4444444444444444,
              "#bd3786"
             ],
             [
              0.5555555555555556,
              "#d8576b"
             ],
             [
              0.6666666666666666,
              "#ed7953"
             ],
             [
              0.7777777777777778,
              "#fb9f3a"
             ],
             [
              0.8888888888888888,
              "#fdca26"
             ],
             [
              1,
              "#f0f921"
             ]
            ],
            "type": "heatmap"
           }
          ],
          "histogram": [
           {
            "marker": {
             "pattern": {
              "fillmode": "overlay",
              "size": 10,
              "solidity": 0.2
             }
            },
            "type": "histogram"
           }
          ],
          "histogram2d": [
           {
            "colorbar": {
             "outlinewidth": 0,
             "ticks": ""
            },
            "colorscale": [
             [
              0,
              "#0d0887"
             ],
             [
              0.1111111111111111,
              "#46039f"
             ],
             [
              0.2222222222222222,
              "#7201a8"
             ],
             [
              0.3333333333333333,
              "#9c179e"
             ],
             [
              0.4444444444444444,
              "#bd3786"
             ],
             [
              0.5555555555555556,
              "#d8576b"
             ],
             [
              0.6666666666666666,
              "#ed7953"
             ],
             [
              0.7777777777777778,
              "#fb9f3a"
             ],
             [
              0.8888888888888888,
              "#fdca26"
             ],
             [
              1,
              "#f0f921"
             ]
            ],
            "type": "histogram2d"
           }
          ],
          "histogram2dcontour": [
           {
            "colorbar": {
             "outlinewidth": 0,
             "ticks": ""
            },
            "colorscale": [
             [
              0,
              "#0d0887"
             ],
             [
              0.1111111111111111,
              "#46039f"
             ],
             [
              0.2222222222222222,
              "#7201a8"
             ],
             [
              0.3333333333333333,
              "#9c179e"
             ],
             [
              0.4444444444444444,
              "#bd3786"
             ],
             [
              0.5555555555555556,
              "#d8576b"
             ],
             [
              0.6666666666666666,
              "#ed7953"
             ],
             [
              0.7777777777777778,
              "#fb9f3a"
             ],
             [
              0.8888888888888888,
              "#fdca26"
             ],
             [
              1,
              "#f0f921"
             ]
            ],
            "type": "histogram2dcontour"
           }
          ],
          "mesh3d": [
           {
            "colorbar": {
             "outlinewidth": 0,
             "ticks": ""
            },
            "type": "mesh3d"
           }
          ],
          "parcoords": [
           {
            "line": {
             "colorbar": {
              "outlinewidth": 0,
              "ticks": ""
             }
            },
            "type": "parcoords"
           }
          ],
          "pie": [
           {
            "automargin": true,
            "type": "pie"
           }
          ],
          "scatter": [
           {
            "fillpattern": {
             "fillmode": "overlay",
             "size": 10,
             "solidity": 0.2
            },
            "type": "scatter"
           }
          ],
          "scatter3d": [
           {
            "line": {
             "colorbar": {
              "outlinewidth": 0,
              "ticks": ""
             }
            },
            "marker": {
             "colorbar": {
              "outlinewidth": 0,
              "ticks": ""
             }
            },
            "type": "scatter3d"
           }
          ],
          "scattercarpet": [
           {
            "marker": {
             "colorbar": {
              "outlinewidth": 0,
              "ticks": ""
             }
            },
            "type": "scattercarpet"
           }
          ],
          "scattergeo": [
           {
            "marker": {
             "colorbar": {
              "outlinewidth": 0,
              "ticks": ""
             }
            },
            "type": "scattergeo"
           }
          ],
          "scattergl": [
           {
            "marker": {
             "colorbar": {
              "outlinewidth": 0,
              "ticks": ""
             }
            },
            "type": "scattergl"
           }
          ],
          "scattermap": [
           {
            "marker": {
             "colorbar": {
              "outlinewidth": 0,
              "ticks": ""
             }
            },
            "type": "scattermap"
           }
          ],
          "scattermapbox": [
           {
            "marker": {
             "colorbar": {
              "outlinewidth": 0,
              "ticks": ""
             }
            },
            "type": "scattermapbox"
           }
          ],
          "scatterpolar": [
           {
            "marker": {
             "colorbar": {
              "outlinewidth": 0,
              "ticks": ""
             }
            },
            "type": "scatterpolar"
           }
          ],
          "scatterpolargl": [
           {
            "marker": {
             "colorbar": {
              "outlinewidth": 0,
              "ticks": ""
             }
            },
            "type": "scatterpolargl"
           }
          ],
          "scatterternary": [
           {
            "marker": {
             "colorbar": {
              "outlinewidth": 0,
              "ticks": ""
             }
            },
            "type": "scatterternary"
           }
          ],
          "surface": [
           {
            "colorbar": {
             "outlinewidth": 0,
             "ticks": ""
            },
            "colorscale": [
             [
              0,
              "#0d0887"
             ],
             [
              0.1111111111111111,
              "#46039f"
             ],
             [
              0.2222222222222222,
              "#7201a8"
             ],
             [
              0.3333333333333333,
              "#9c179e"
             ],
             [
              0.4444444444444444,
              "#bd3786"
             ],
             [
              0.5555555555555556,
              "#d8576b"
             ],
             [
              0.6666666666666666,
              "#ed7953"
             ],
             [
              0.7777777777777778,
              "#fb9f3a"
             ],
             [
              0.8888888888888888,
              "#fdca26"
             ],
             [
              1,
              "#f0f921"
             ]
            ],
            "type": "surface"
           }
          ],
          "table": [
           {
            "cells": {
             "fill": {
              "color": "#EBF0F8"
             },
             "line": {
              "color": "white"
             }
            },
            "header": {
             "fill": {
              "color": "#C8D4E3"
             },
             "line": {
              "color": "white"
             }
            },
            "type": "table"
           }
          ]
         },
         "layout": {
          "annotationdefaults": {
           "arrowcolor": "#2a3f5f",
           "arrowhead": 0,
           "arrowwidth": 1
          },
          "autotypenumbers": "strict",
          "coloraxis": {
           "colorbar": {
            "outlinewidth": 0,
            "ticks": ""
           }
          },
          "colorscale": {
           "diverging": [
            [
             0,
             "#8e0152"
            ],
            [
             0.1,
             "#c51b7d"
            ],
            [
             0.2,
             "#de77ae"
            ],
            [
             0.3,
             "#f1b6da"
            ],
            [
             0.4,
             "#fde0ef"
            ],
            [
             0.5,
             "#f7f7f7"
            ],
            [
             0.6,
             "#e6f5d0"
            ],
            [
             0.7,
             "#b8e186"
            ],
            [
             0.8,
             "#7fbc41"
            ],
            [
             0.9,
             "#4d9221"
            ],
            [
             1,
             "#276419"
            ]
           ],
           "sequential": [
            [
             0,
             "#0d0887"
            ],
            [
             0.1111111111111111,
             "#46039f"
            ],
            [
             0.2222222222222222,
             "#7201a8"
            ],
            [
             0.3333333333333333,
             "#9c179e"
            ],
            [
             0.4444444444444444,
             "#bd3786"
            ],
            [
             0.5555555555555556,
             "#d8576b"
            ],
            [
             0.6666666666666666,
             "#ed7953"
            ],
            [
             0.7777777777777778,
             "#fb9f3a"
            ],
            [
             0.8888888888888888,
             "#fdca26"
            ],
            [
             1,
             "#f0f921"
            ]
           ],
           "sequentialminus": [
            [
             0,
             "#0d0887"
            ],
            [
             0.1111111111111111,
             "#46039f"
            ],
            [
             0.2222222222222222,
             "#7201a8"
            ],
            [
             0.3333333333333333,
             "#9c179e"
            ],
            [
             0.4444444444444444,
             "#bd3786"
            ],
            [
             0.5555555555555556,
             "#d8576b"
            ],
            [
             0.6666666666666666,
             "#ed7953"
            ],
            [
             0.7777777777777778,
             "#fb9f3a"
            ],
            [
             0.8888888888888888,
             "#fdca26"
            ],
            [
             1,
             "#f0f921"
            ]
           ]
          },
          "colorway": [
           "#636efa",
           "#EF553B",
           "#00cc96",
           "#ab63fa",
           "#FFA15A",
           "#19d3f3",
           "#FF6692",
           "#B6E880",
           "#FF97FF",
           "#FECB52"
          ],
          "font": {
           "color": "#2a3f5f"
          },
          "geo": {
           "bgcolor": "white",
           "lakecolor": "white",
           "landcolor": "#E5ECF6",
           "showlakes": true,
           "showland": true,
           "subunitcolor": "white"
          },
          "hoverlabel": {
           "align": "left"
          },
          "hovermode": "closest",
          "mapbox": {
           "style": "light"
          },
          "paper_bgcolor": "white",
          "plot_bgcolor": "#E5ECF6",
          "polar": {
           "angularaxis": {
            "gridcolor": "white",
            "linecolor": "white",
            "ticks": ""
           },
           "bgcolor": "#E5ECF6",
           "radialaxis": {
            "gridcolor": "white",
            "linecolor": "white",
            "ticks": ""
           }
          },
          "scene": {
           "xaxis": {
            "backgroundcolor": "#E5ECF6",
            "gridcolor": "white",
            "gridwidth": 2,
            "linecolor": "white",
            "showbackground": true,
            "ticks": "",
            "zerolinecolor": "white"
           },
           "yaxis": {
            "backgroundcolor": "#E5ECF6",
            "gridcolor": "white",
            "gridwidth": 2,
            "linecolor": "white",
            "showbackground": true,
            "ticks": "",
            "zerolinecolor": "white"
           },
           "zaxis": {
            "backgroundcolor": "#E5ECF6",
            "gridcolor": "white",
            "gridwidth": 2,
            "linecolor": "white",
            "showbackground": true,
            "ticks": "",
            "zerolinecolor": "white"
           }
          },
          "shapedefaults": {
           "line": {
            "color": "#2a3f5f"
           }
          },
          "ternary": {
           "aaxis": {
            "gridcolor": "white",
            "linecolor": "white",
            "ticks": ""
           },
           "baxis": {
            "gridcolor": "white",
            "linecolor": "white",
            "ticks": ""
           },
           "bgcolor": "#E5ECF6",
           "caxis": {
            "gridcolor": "white",
            "linecolor": "white",
            "ticks": ""
           }
          },
          "title": {
           "x": 0.05
          },
          "xaxis": {
           "automargin": true,
           "gridcolor": "white",
           "linecolor": "white",
           "ticks": "",
           "title": {
            "standoff": 15
           },
           "zerolinecolor": "white",
           "zerolinewidth": 2
          },
          "yaxis": {
           "automargin": true,
           "gridcolor": "white",
           "linecolor": "white",
           "ticks": "",
           "title": {
            "standoff": 15
           },
           "zerolinecolor": "white",
           "zerolinewidth": 2
          }
         }
        },
        "title": {
         "text": "Distribution of 2024 Vehicle Sales"
        },
        "xaxis": {
         "anchor": "y",
         "domain": [
          0,
          0.45
         ]
        },
        "xaxis2": {
         "anchor": "y2",
         "domain": [
          0.55,
          1
         ]
        },
        "yaxis": {
         "anchor": "x",
         "domain": [
          0,
          1
         ]
        },
        "yaxis2": {
         "anchor": "x2",
         "domain": [
          0,
          1
         ]
        }
       }
      }
     },
     "metadata": {},
     "output_type": "display_data"
    }
   ],
   "source": [
    "import plotly.subplots as sp\n",
    "import plotly.express as px\n",
    "\n",
    "fig = sp.make_subplots(rows=1, cols=2, subplot_titles=(\"Non-EV Sales\", \"EV Sales\"))\n",
    "\n",
    "# Non-EV\n",
    "fig.add_trace(\n",
    "    px.box(\n",
    "        df_pivot, y=\"sales_2024\", points=\"all\", color_discrete_sequence=[\"skyblue\"]\n",
    "    ).data[0],\n",
    "    row=1,\n",
    "    col=1,\n",
    ")\n",
    "\n",
    "# EV\n",
    "fig.add_trace(\n",
    "    px.box(\n",
    "        ev_state_pt,\n",
    "        y=\"sales_2024\",\n",
    "        points=\"all\",\n",
    "        color_discrete_sequence=[\"lightgreen\"],\n",
    "    ).data[0],\n",
    "    row=1,\n",
    "    col=2,\n",
    ")\n",
    "\n",
    "fig.update_layout(title=\"Distribution of 2024 Vehicle Sales\")\n",
    "fig.show()"
   ]
  },
  {
   "cell_type": "code",
   "execution_count": 31,
   "id": "a9c1b588",
   "metadata": {},
   "outputs": [
    {
     "data": {
      "image/png": "[encoded data removed]",
      "text/plain": [
       "<Figure size 750x750 with 12 Axes>"
      ]
     },
     "metadata": {},
     "output_type": "display_data"
    }
   ],
   "source": [
    "import seaborn as sns\n",
    "import matplotlib.pyplot as plt\n",
    "\n",
    "# Example with multiple numeric columns\n",
    "sns.pairplot(df_pivot, vars=[\"sales_2022\", \"sales_2024\", \"CAGR\"], kind=\"scatter\")\n",
    "plt.show()\n"
   ]
  },
  {
   "cell_type": "code",
   "execution_count": 32,
   "id": "25dc1f7b",
   "metadata": {},
   "outputs": [
    {
     "data": {
      "text/html": [
       "<div>\n",
       "<style scoped>\n",
       "    .dataframe tbody tr th:only-of-type {\n",
       "        vertical-align: middle;\n",
       "    }\n",
       "\n",
       "    .dataframe tbody tr th {\n",
       "        vertical-align: top;\n",
       "    }\n",
       "\n",
       "    .dataframe thead th {\n",
       "        text-align: right;\n",
       "    }\n",
       "</style>\n",
       "<table border=\"1\" class=\"dataframe\">\n",
       "  <thead>\n",
       "    <tr style=\"text-align: right;\">\n",
       "      <th>fiscal_year</th>\n",
       "      <th>state</th>\n",
       "      <th>Total_CAGR</th>\n",
       "      <th>EV_CAGR</th>\n",
       "    </tr>\n",
       "  </thead>\n",
       "  <tbody>\n",
       "    <tr>\n",
       "      <th>20</th>\n",
       "      <td>Meghalaya</td>\n",
       "      <td>28.469075</td>\n",
       "      <td>476.63</td>\n",
       "    </tr>\n",
       "    <tr>\n",
       "      <th>27</th>\n",
       "      <td>Tripura</td>\n",
       "      <td>10.944725</td>\n",
       "      <td>229.50</td>\n",
       "    </tr>\n",
       "    <tr>\n",
       "      <th>21</th>\n",
       "      <td>Nagaland</td>\n",
       "      <td>14.916173</td>\n",
       "      <td>200.00</td>\n",
       "    </tr>\n",
       "    <tr>\n",
       "      <th>4</th>\n",
       "      <td>Chandigarh</td>\n",
       "      <td>10.530904</td>\n",
       "      <td>164.58</td>\n",
       "    </tr>\n",
       "    <tr>\n",
       "      <th>5</th>\n",
       "      <td>Chhattisgarh</td>\n",
       "      <td>13.534970</td>\n",
       "      <td>150.89</td>\n",
       "    </tr>\n",
       "  </tbody>\n",
       "</table>\n",
       "</div>"
      ],
      "text/plain": [
       "fiscal_year         state  Total_CAGR  EV_CAGR\n",
       "20              Meghalaya   28.469075   476.63\n",
       "27                Tripura   10.944725   229.50\n",
       "21               Nagaland   14.916173   200.00\n",
       "4              Chandigarh   10.530904   164.58\n",
       "5            Chhattisgarh   13.534970   150.89"
      ]
     },
     "metadata": {},
     "output_type": "display_data"
    }
   ],
   "source": [
    "# Get total vehicles CAGR and EV CAGR\n",
    "comparison = pd.merge(\n",
    "    state_sales_pivot[['state', 'CAGR']].rename(columns={'CAGR': 'Total_CAGR'}),\n",
    "    ev_state_pt[['state', 'CAGR']].rename(columns={'CAGR': 'EV_CAGR'}),\n",
    "    on='state',\n",
    "    how='inner'\n",
    ")\n",
    "\n",
    "# Sort by EV_CAGR descending\n",
    "comparison = comparison.sort_values('EV_CAGR', ascending=False)\n",
    "\n",
    "# Display the comparison\n",
    "display(comparison.head())\n"
   ]
  },
  {
   "cell_type": "code",
   "execution_count": 33,
   "id": "809da04b",
   "metadata": {},
   "outputs": [
    {
     "ename": "AttributeError",
     "evalue": "'Annotation' object has no property 'scatter'",
     "output_type": "error",
     "traceback": [
      "\u001b[31m---------------------------------------------------------------------------\u001b[39m",
      "\u001b[31mAttributeError\u001b[39m                            Traceback (most recent call last)",
      "\u001b[36mCell\u001b[39m\u001b[36m \u001b[39m\u001b[32mIn[33]\u001b[39m\u001b[32m, line 27\u001b[39m\n\u001b[32m     25\u001b[39m \u001b[38;5;66;03m# Add data labels\u001b[39;00m\n\u001b[32m     26\u001b[39m \u001b[38;5;28;01mfor\u001b[39;00m idx, row \u001b[38;5;129;01min\u001b[39;00m comparison.iterrows():\n\u001b[32m---> \u001b[39m\u001b[32m27\u001b[39m     \u001b[43mg\u001b[49m\u001b[43m.\u001b[49m\u001b[43max_joint\u001b[49m\u001b[43m.\u001b[49m\u001b[43mannotate\u001b[49m\u001b[43m(\u001b[49m\n\u001b[32m     28\u001b[39m \u001b[43m        \u001b[49m\u001b[43mrow\u001b[49m\u001b[43m[\u001b[49m\u001b[33;43m'\u001b[39;49m\u001b[33;43mstate\u001b[39;49m\u001b[33;43m'\u001b[39;49m\u001b[43m]\u001b[49m\u001b[43m,\u001b[49m\n\u001b[32m     29\u001b[39m \u001b[43m        \u001b[49m\u001b[43m(\u001b[49m\u001b[43mrow\u001b[49m\u001b[43m[\u001b[49m\u001b[33;43m'\u001b[39;49m\u001b[33;43mTotal_CAGR\u001b[39;49m\u001b[33;43m'\u001b[39;49m\u001b[43m]\u001b[49m\u001b[43m,\u001b[49m\u001b[43m \u001b[49m\u001b[43mrow\u001b[49m\u001b[43m[\u001b[49m\u001b[33;43m'\u001b[39;49m\u001b[33;43mEV_CAGR\u001b[39;49m\u001b[33;43m'\u001b[39;49m\u001b[43m]\u001b[49m\u001b[43m)\u001b[49m\u001b[43m,\u001b[49m\n\u001b[32m     30\u001b[39m \u001b[43m    \u001b[49m\u001b[43mscatter\u001b[49m\u001b[43m=\u001b[49m\u001b[38;5;28;43;01mFalse\u001b[39;49;00m\u001b[43m,\u001b[49m\n\u001b[32m     31\u001b[39m \u001b[43m    \u001b[49m\u001b[43mcolor\u001b[49m\u001b[43m=\u001b[49m\u001b[33;43m\"\u001b[39;49m\u001b[33;43mdarkorange\u001b[39;49m\u001b[33;43m\"\u001b[39;49m\u001b[43m,\u001b[49m\n\u001b[32m     32\u001b[39m \u001b[43m    \u001b[49m\u001b[43mline_kws\u001b[49m\u001b[43m=\u001b[49m\u001b[43m{\u001b[49m\u001b[33;43m\"\u001b[39;49m\u001b[33;43mlw\u001b[39;49m\u001b[33;43m\"\u001b[39;49m\u001b[43m:\u001b[49m\u001b[43m \u001b[49m\u001b[32;43m2\u001b[39;49m\u001b[43m}\u001b[49m\u001b[43m,\u001b[49m\n\u001b[32m     33\u001b[39m \u001b[43m    \u001b[49m\u001b[43max\u001b[49m\u001b[43m=\u001b[49m\u001b[43mg\u001b[49m\u001b[43m.\u001b[49m\u001b[43max_joint\u001b[49m\n\u001b[32m     34\u001b[39m \u001b[43m)\u001b[49m\n\u001b[32m     36\u001b[39m \u001b[38;5;66;03m# Marginal histograms without hue\u001b[39;00m\n\u001b[32m     37\u001b[39m sns.histplot(\n\u001b[32m     38\u001b[39m     data=comparison,\n\u001b[32m     39\u001b[39m     x=\u001b[33m\"\u001b[39m\u001b[33mTotal_CAGR\u001b[39m\u001b[33m\"\u001b[39m,\n\u001b[32m   (...)\u001b[39m\u001b[32m     42\u001b[39m     ax=g.ax_marg_x\n\u001b[32m     43\u001b[39m )\n",
      "\u001b[36mFile \u001b[39m\u001b[32m/mnt/data/projects/data-analyst/python-based/ev-analysis/ev-analysis/.venv/lib/python3.13/site-packages/matplotlib/axes/_axes.py:721\u001b[39m, in \u001b[36mAxes.annotate\u001b[39m\u001b[34m(self, text, xy, xytext, xycoords, textcoords, arrowprops, annotation_clip, **kwargs)\u001b[39m\n\u001b[32m    716\u001b[39m \u001b[38;5;129m@_docstring\u001b[39m.interpd\n\u001b[32m    717\u001b[39m \u001b[38;5;28;01mdef\u001b[39;00m\u001b[38;5;250m \u001b[39m\u001b[34mannotate\u001b[39m(\u001b[38;5;28mself\u001b[39m, text, xy, xytext=\u001b[38;5;28;01mNone\u001b[39;00m, xycoords=\u001b[33m'\u001b[39m\u001b[33mdata\u001b[39m\u001b[33m'\u001b[39m, textcoords=\u001b[38;5;28;01mNone\u001b[39;00m,\n\u001b[32m    718\u001b[39m              arrowprops=\u001b[38;5;28;01mNone\u001b[39;00m, annotation_clip=\u001b[38;5;28;01mNone\u001b[39;00m, **kwargs):\n\u001b[32m    719\u001b[39m     \u001b[38;5;66;03m# Signature must match Annotation. This is verified in\u001b[39;00m\n\u001b[32m    720\u001b[39m     \u001b[38;5;66;03m# test_annotate_signature().\u001b[39;00m\n\u001b[32m--> \u001b[39m\u001b[32m721\u001b[39m     a = \u001b[43mmtext\u001b[49m\u001b[43m.\u001b[49m\u001b[43mAnnotation\u001b[49m\u001b[43m(\u001b[49m\u001b[43mtext\u001b[49m\u001b[43m,\u001b[49m\u001b[43m \u001b[49m\u001b[43mxy\u001b[49m\u001b[43m,\u001b[49m\u001b[43m \u001b[49m\u001b[43mxytext\u001b[49m\u001b[43m=\u001b[49m\u001b[43mxytext\u001b[49m\u001b[43m,\u001b[49m\u001b[43m \u001b[49m\u001b[43mxycoords\u001b[49m\u001b[43m=\u001b[49m\u001b[43mxycoords\u001b[49m\u001b[43m,\u001b[49m\n\u001b[32m    722\u001b[39m \u001b[43m                         \u001b[49m\u001b[43mtextcoords\u001b[49m\u001b[43m=\u001b[49m\u001b[43mtextcoords\u001b[49m\u001b[43m,\u001b[49m\u001b[43m \u001b[49m\u001b[43marrowprops\u001b[49m\u001b[43m=\u001b[49m\u001b[43marrowprops\u001b[49m\u001b[43m,\u001b[49m\n\u001b[32m    723\u001b[39m \u001b[43m                         \u001b[49m\u001b[43mannotation_clip\u001b[49m\u001b[43m=\u001b[49m\u001b[43mannotation_clip\u001b[49m\u001b[43m,\u001b[49m\u001b[43m \u001b[49m\u001b[43m*\u001b[49m\u001b[43m*\u001b[49m\u001b[43mkwargs\u001b[49m\u001b[43m)\u001b[49m\n\u001b[32m    724\u001b[39m     a.set_transform(mtransforms.IdentityTransform())\n\u001b[32m    725\u001b[39m     \u001b[38;5;28;01mif\u001b[39;00m kwargs.get(\u001b[33m'\u001b[39m\u001b[33mclip_on\u001b[39m\u001b[33m'\u001b[39m, \u001b[38;5;28;01mFalse\u001b[39;00m) \u001b[38;5;129;01mand\u001b[39;00m a.get_clip_path() \u001b[38;5;129;01mis\u001b[39;00m \u001b[38;5;28;01mNone\u001b[39;00m:\n",
      "\u001b[36mFile \u001b[39m\u001b[32m/mnt/data/projects/data-analyst/python-based/ev-analysis/ev-analysis/.venv/lib/python3.13/site-packages/matplotlib/text.py:1857\u001b[39m, in \u001b[36mAnnotation.__init__\u001b[39m\u001b[34m(self, text, xy, xytext, xycoords, textcoords, arrowprops, annotation_clip, **kwargs)\u001b[39m\n\u001b[32m   1854\u001b[39m     \u001b[38;5;28mself\u001b[39m.arrow_patch = \u001b[38;5;28;01mNone\u001b[39;00m\n\u001b[32m   1856\u001b[39m \u001b[38;5;66;03m# Must come last, as some kwargs may be propagated to arrow_patch.\u001b[39;00m\n\u001b[32m-> \u001b[39m\u001b[32m1857\u001b[39m \u001b[43mText\u001b[49m\u001b[43m.\u001b[49m\u001b[34;43m__init__\u001b[39;49m\u001b[43m(\u001b[49m\u001b[38;5;28;43mself\u001b[39;49m\u001b[43m,\u001b[49m\u001b[43m \u001b[49m\u001b[43mx\u001b[49m\u001b[43m,\u001b[49m\u001b[43m \u001b[49m\u001b[43my\u001b[49m\u001b[43m,\u001b[49m\u001b[43m \u001b[49m\u001b[43mtext\u001b[49m\u001b[43m,\u001b[49m\u001b[43m \u001b[49m\u001b[43m*\u001b[49m\u001b[43m*\u001b[49m\u001b[43mkwargs\u001b[49m\u001b[43m)\u001b[49m\n",
      "\u001b[36mFile \u001b[39m\u001b[32m/mnt/data/projects/data-analyst/python-based/ev-analysis/ev-analysis/.venv/lib/python3.13/site-packages/matplotlib/text.py:155\u001b[39m, in \u001b[36mText.__init__\u001b[39m\u001b[34m(self, x, y, text, color, verticalalignment, horizontalalignment, multialignment, fontproperties, rotation, linespacing, rotation_mode, usetex, wrap, transform_rotates_text, parse_math, antialiased, **kwargs)\u001b[39m\n\u001b[32m    138\u001b[39m \u001b[38;5;28mself\u001b[39m._text = \u001b[33m'\u001b[39m\u001b[33m'\u001b[39m\n\u001b[32m    139\u001b[39m \u001b[38;5;28mself\u001b[39m._reset_visual_defaults(\n\u001b[32m    140\u001b[39m     text=text,\n\u001b[32m    141\u001b[39m     color=color,\n\u001b[32m   (...)\u001b[39m\u001b[32m    153\u001b[39m     antialiased=antialiased\n\u001b[32m    154\u001b[39m )\n\u001b[32m--> \u001b[39m\u001b[32m155\u001b[39m \u001b[38;5;28;43mself\u001b[39;49m\u001b[43m.\u001b[49m\u001b[43mupdate\u001b[49m\u001b[43m(\u001b[49m\u001b[43mkwargs\u001b[49m\u001b[43m)\u001b[49m\n",
      "\u001b[36mFile \u001b[39m\u001b[32m/mnt/data/projects/data-analyst/python-based/ev-analysis/ev-analysis/.venv/lib/python3.13/site-packages/matplotlib/text.py:205\u001b[39m, in \u001b[36mText.update\u001b[39m\u001b[34m(self, kwargs)\u001b[39m\n\u001b[32m    203\u001b[39m \u001b[38;5;66;03m# Update bbox last, as it depends on font properties.\u001b[39;00m\n\u001b[32m    204\u001b[39m bbox = kwargs.pop(\u001b[33m\"\u001b[39m\u001b[33mbbox\u001b[39m\u001b[33m\"\u001b[39m, sentinel)\n\u001b[32m--> \u001b[39m\u001b[32m205\u001b[39m ret.extend(\u001b[38;5;28;43msuper\u001b[39;49m\u001b[43m(\u001b[49m\u001b[43m)\u001b[49m\u001b[43m.\u001b[49m\u001b[43mupdate\u001b[49m\u001b[43m(\u001b[49m\u001b[43mkwargs\u001b[49m\u001b[43m)\u001b[49m)\n\u001b[32m    206\u001b[39m \u001b[38;5;28;01mif\u001b[39;00m bbox \u001b[38;5;129;01mis\u001b[39;00m \u001b[38;5;129;01mnot\u001b[39;00m sentinel:\n\u001b[32m    207\u001b[39m     ret.append(\u001b[38;5;28mself\u001b[39m.set_bbox(bbox))\n",
      "\u001b[36mFile \u001b[39m\u001b[32m/mnt/data/projects/data-analyst/python-based/ev-analysis/ev-analysis/.venv/lib/python3.13/site-packages/matplotlib/artist.py:1223\u001b[39m, in \u001b[36mArtist.update\u001b[39m\u001b[34m(self, props)\u001b[39m\n\u001b[32m   1215\u001b[39m \u001b[38;5;28;01mdef\u001b[39;00m\u001b[38;5;250m \u001b[39m\u001b[34mupdate\u001b[39m(\u001b[38;5;28mself\u001b[39m, props):\n\u001b[32m   1216\u001b[39m \u001b[38;5;250m    \u001b[39m\u001b[33;03m\"\"\"\u001b[39;00m\n\u001b[32m   1217\u001b[39m \u001b[33;03m    Update this artist's properties from the dict *props*.\u001b[39;00m\n\u001b[32m   1218\u001b[39m \n\u001b[32m   (...)\u001b[39m\u001b[32m   1221\u001b[39m \u001b[33;03m    props : dict\u001b[39;00m\n\u001b[32m   1222\u001b[39m \u001b[33;03m    \"\"\"\u001b[39;00m\n\u001b[32m-> \u001b[39m\u001b[32m1223\u001b[39m     \u001b[38;5;28;01mreturn\u001b[39;00m \u001b[38;5;28;43mself\u001b[39;49m\u001b[43m.\u001b[49m\u001b[43m_update_props\u001b[49m\u001b[43m(\u001b[49m\n\u001b[32m   1224\u001b[39m \u001b[43m        \u001b[49m\u001b[43mprops\u001b[49m\u001b[43m,\u001b[49m\u001b[43m \u001b[49m\u001b[33;43m\"\u001b[39;49m\u001b[38;5;132;43;01m{cls.__name__!r}\u001b[39;49;00m\u001b[33;43m object has no property \u001b[39;49m\u001b[38;5;132;43;01m{prop_name!r}\u001b[39;49;00m\u001b[33;43m\"\u001b[39;49m\u001b[43m)\u001b[49m\n",
      "\u001b[36mFile \u001b[39m\u001b[32m/mnt/data/projects/data-analyst/python-based/ev-analysis/ev-analysis/.venv/lib/python3.13/site-packages/matplotlib/artist.py:1206\u001b[39m, in \u001b[36mArtist._update_props\u001b[39m\u001b[34m(self, props, errfmt)\u001b[39m\n\u001b[32m   1204\u001b[39m             func = \u001b[38;5;28mgetattr\u001b[39m(\u001b[38;5;28mself\u001b[39m, \u001b[33mf\u001b[39m\u001b[33m\"\u001b[39m\u001b[33mset_\u001b[39m\u001b[38;5;132;01m{\u001b[39;00mk\u001b[38;5;132;01m}\u001b[39;00m\u001b[33m\"\u001b[39m, \u001b[38;5;28;01mNone\u001b[39;00m)\n\u001b[32m   1205\u001b[39m             \u001b[38;5;28;01mif\u001b[39;00m \u001b[38;5;129;01mnot\u001b[39;00m \u001b[38;5;28mcallable\u001b[39m(func):\n\u001b[32m-> \u001b[39m\u001b[32m1206\u001b[39m                 \u001b[38;5;28;01mraise\u001b[39;00m \u001b[38;5;167;01mAttributeError\u001b[39;00m(\n\u001b[32m   1207\u001b[39m                     errfmt.format(\u001b[38;5;28mcls\u001b[39m=\u001b[38;5;28mtype\u001b[39m(\u001b[38;5;28mself\u001b[39m), prop_name=k),\n\u001b[32m   1208\u001b[39m                     name=k)\n\u001b[32m   1209\u001b[39m             ret.append(func(v))\n\u001b[32m   1210\u001b[39m \u001b[38;5;28;01mif\u001b[39;00m ret:\n",
      "\u001b[31mAttributeError\u001b[39m: 'Annotation' object has no property 'scatter'"
     ]
    },
    {
     "data": {
      "image/png": "[encoded data removed]",
      "text/plain": [
       "<Figure size 900x900 with 3 Axes>"
      ]
     },
     "metadata": {},
     "output_type": "display_data"
    }
   ],
   "source": [
    "import seaborn as sns\n",
    "import matplotlib.pyplot as plt\n",
    "\n",
    "sns.set_theme(style=\"whitegrid\", font_scale=1.2)\n",
    "\n",
    "# Create the JointGrid for full control\n",
    "g = sns.JointGrid(\n",
    "    data=comparison,\n",
    "    x=\"Total_CAGR\",\n",
    "    y=\"EV_CAGR\",\n",
    "    height=9\n",
    ")\n",
    "\n",
    "# Main scatter plot without hue\n",
    "scatter = sns.scatterplot(\n",
    "    data=comparison,\n",
    "    x=\"Total_CAGR\",\n",
    "    y=\"EV_CAGR\",\n",
    "    color=\"skyblue\",\n",
    "    s=80,\n",
    "    alpha=0.8,\n",
    "    ax=g.ax_joint\n",
    ")\n",
    "\n",
    "# Add data labels\n",
    "for idx, row in comparison.iterrows():\n",
    "    g.ax_joint.annotate(\n",
    "        row['state'],\n",
    "        (row['Total_CAGR'], row['EV_CAGR']),\n",
    "    scatter=False,\n",
    "    color=\"darkorange\",\n",
    "    line_kws={\"lw\": 2},\n",
    "    ax=g.ax_joint\n",
    ")\n",
    "\n",
    "# Marginal histograms without hue\n",
    "sns.histplot(\n",
    "    data=comparison,\n",
    "    x=\"Total_CAGR\",\n",
    "    color=\"skyblue\",\n",
    "    alpha=0.7,\n",
    "    ax=g.ax_marg_x\n",
    ")\n",
    "sns.histplot(\n",
    "    data=comparison,\n",
    "    y=\"EV_CAGR\",\n",
    "    color=\"skyblue\",\n",
    "    alpha=0.7,\n",
    "    ax=g.ax_marg_y\n",
    ")"
   ]
  },
  {
   "cell_type": "code",
   "execution_count": 34,
   "id": "1a14a1ba",
   "metadata": {},
   "outputs": [
    {
     "data": {
      "application/vnd.plotly.v1+json": {
       "config": {
        "plotlyServerURL": "https://plot.ly"
       },
       "data": [
        {
         "customdata": [
          [
           "Meghalaya"
          ],
          [
           "Tripura"
          ],
          [
           "Nagaland"
          ],
          [
           "Chandigarh"
          ],
          [
           "Chhattisgarh"
          ],
          [
           "West Bengal"
          ],
          [
           "Goa"
          ],
          [
           "DNH and DD"
          ],
          [
           "Uttar Pradesh"
          ],
          [
           "Madhya Pradesh"
          ],
          [
           "Kerala"
          ],
          [
           "Manipur"
          ],
          [
           "Assam"
          ],
          [
           "Gujarat"
          ],
          [
           "Puducherry"
          ],
          [
           "Odisha"
          ],
          [
           "Maharashtra"
          ],
          [
           "Karnataka"
          ],
          [
           "Rajasthan"
          ],
          [
           "Bihar"
          ],
          [
           "Uttarakhand"
          ],
          [
           "Jharkhand"
          ],
          [
           "Delhi"
          ],
          [
           "Ladakh"
          ],
          [
           "Tamil Nadu"
          ],
          [
           "Punjab"
          ],
          [
           "Andhra Pradesh"
          ],
          [
           "Himachal Pradesh"
          ],
          [
           "Haryana"
          ],
          [
           "Jammu and Kashmir"
          ],
          [
           "Andaman & Nicobar"
          ]
         ],
         "hovertemplate": "Total_CAGR=%{x}<br>EV_CAGR=%{y}<br>state=%{customdata[0]}<extra></extra>",
         "legendgroup": "",
         "marker": {
          "color": "skyblue",
          "opacity": 0.8,
          "size": 10,
          "symbol": "circle"
         },
         "mode": "markers",
         "name": "",
         "orientation": "v",
         "showlegend": false,
         "type": "scatter",
         "x": {
          "bdata": "dBbZRxV4PED66971suMlQIGsrpQU1S1AmHx3n9IPJUDoWIWV5xErQLadeti13BZAo1M8oQJpO0C8tgI59OItQNzT087guCBAR6mxqeiiLkAQxdqY+G0OwPyYWNPSlzzAxRACUDgiNEAcbRt/sYs0QMSXpnZEzy9AFSuFEEwTK0BtDDYE4U4xQDXynNeYSDlAKRHWUFR/NUCMQFiPxEMpQIyW6gVQ8C9AEfZ1HtBTI0Dt0ieXZOI2QNXVzK1oxxNA1sMZOV/3KUC+5yqiArIrQGjPlWgk4eQ/SMB5i89PIkB1fW3qMK4xQLgnTFiGAwBAPwp5WIBJMkA=",
          "dtype": "f8"
         },
         "xaxis": "x",
         "y": {
          "bdata": "rkfhehTKfUAAAAAAALBsQAAAAAAAAGlAw/UoXI+SZEAUrkfhetxiQKRwPQrX02JAZmZmZmZOYkAzMzMzMzthQGZmZmZmNmFAPQrXo3C1YEDD9Shcj5pgQAAAAAAAIF9ASOF6FK63XUCF61G4HhVdQFyPwvUoXFpAXI/C9Si8WUApXI/C9XhZQI/C9ShcT1dASOF6FK53VECamZmZmSlTQBSuR+F6pFJAKVyPwvV4UUBmZmZmZgZRQD0K16NwXU5AmpmZmZn5TUDhehSuR6FMQM3MzMzMLEtASOF6FK7nSkApXI/C9YhEQK5H4XoULjpA4XoUrkchOkA=",
          "dtype": "f8"
         },
         "yaxis": "y"
        },
        {
         "bingroup": "x",
         "hovertemplate": "Total_CAGR=%{x}<br>count=%{y}<extra></extra>",
         "legendgroup": "",
         "marker": {
          "color": "skyblue"
         },
         "name": "",
         "opacity": 0.5,
         "showlegend": false,
         "type": "histogram",
         "x": {
          "bdata": "dBbZRxV4PED66971suMlQIGsrpQU1S1AmHx3n9IPJUDoWIWV5xErQLadeti13BZAo1M8oQJpO0C8tgI59OItQNzT087guCBAR6mxqeiiLkAQxdqY+G0OwPyYWNPSlzzAxRACUDgiNEAcbRt/sYs0QMSXpnZEzy9AFSuFEEwTK0BtDDYE4U4xQDXynNeYSDlAKRHWUFR/NUCMQFiPxEMpQIyW6gVQ8C9AEfZ1HtBTI0Dt0ieXZOI2QNXVzK1oxxNA1sMZOV/3KUC+5yqiArIrQGjPlWgk4eQ/SMB5i89PIkB1fW3qMK4xQLgnTFiGAwBAPwp5WIBJMkA=",
          "dtype": "f8"
         },
         "xaxis": "x3",
         "yaxis": "y3"
        },
        {
         "bingroup": "y",
         "hovertemplate": "EV_CAGR=%{y}<br>count=%{x}<extra></extra>",
         "legendgroup": "",
         "marker": {
          "color": "skyblue"
         },
         "name": "",
         "opacity": 0.5,
         "showlegend": false,
         "type": "histogram",
         "xaxis": "x2",
         "y": {
          "bdata": "rkfhehTKfUAAAAAAALBsQAAAAAAAAGlAw/UoXI+SZEAUrkfhetxiQKRwPQrX02JAZmZmZmZOYkAzMzMzMzthQGZmZmZmNmFAPQrXo3C1YEDD9Shcj5pgQAAAAAAAIF9ASOF6FK63XUCF61G4HhVdQFyPwvUoXFpAXI/C9Si8WUApXI/C9XhZQI/C9ShcT1dASOF6FK53VECamZmZmSlTQBSuR+F6pFJAKVyPwvV4UUBmZmZmZgZRQD0K16NwXU5AmpmZmZn5TUDhehSuR6FMQM3MzMzMLEtASOF6FK7nSkApXI/C9YhEQK5H4XoULjpA4XoUrkchOkA=",
          "dtype": "f8"
         },
         "yaxis": "y2"
        },
        {
         "hovertemplate": "Total_CAGR=%{x}<br>EV_CAGR=%{y}<br>state=%{text}<extra></extra>",
         "legendgroup": "",
         "marker": {
          "color": "#636efa",
          "symbol": "circle"
         },
         "mode": "markers+text",
         "name": "",
         "orientation": "v",
         "showlegend": false,
         "text": [
          "Meghalaya",
          "Tripura",
          "Nagaland",
          "Chandigarh",
          "Chhattisgarh",
          "West Bengal",
          "Goa",
          "DNH and DD",
          "Uttar Pradesh",
          "Madhya Pradesh",
          "Kerala",
          "Manipur",
          "Assam",
          "Gujarat",
          "Puducherry",
          "Odisha",
          "Maharashtra",
          "Karnataka",
          "Rajasthan",
          "Bihar",
          "Uttarakhand",
          "Jharkhand",
          "Delhi",
          "Ladakh",
          "Tamil Nadu",
          "Punjab",
          "Andhra Pradesh",
          "Himachal Pradesh",
          "Haryana",
          "Jammu and Kashmir",
          "Andaman & Nicobar"
         ],
         "textfont": {
          "size": 8
         },
         "textposition": "top center",
         "type": "scatter",
         "x": {
          "bdata": "dBbZRxV4PED66971suMlQIGsrpQU1S1AmHx3n9IPJUDoWIWV5xErQLadeti13BZAo1M8oQJpO0C8tgI59OItQNzT087guCBAR6mxqeiiLkAQxdqY+G0OwPyYWNPSlzzAxRACUDgiNEAcbRt/sYs0QMSXpnZEzy9AFSuFEEwTK0BtDDYE4U4xQDXynNeYSDlAKRHWUFR/NUCMQFiPxEMpQIyW6gVQ8C9AEfZ1HtBTI0Dt0ieXZOI2QNXVzK1oxxNA1sMZOV/3KUC+5yqiArIrQGjPlWgk4eQ/SMB5i89PIkB1fW3qMK4xQLgnTFiGAwBAPwp5WIBJMkA=",
          "dtype": "f8"
         },
         "xaxis": "x",
         "y": {
          "bdata": "rkfhehTKfUAAAAAAALBsQAAAAAAAAGlAw/UoXI+SZEAUrkfhetxiQKRwPQrX02JAZmZmZmZOYkAzMzMzMzthQGZmZmZmNmFAPQrXo3C1YEDD9Shcj5pgQAAAAAAAIF9ASOF6FK63XUCF61G4HhVdQFyPwvUoXFpAXI/C9Si8WUApXI/C9XhZQI/C9ShcT1dASOF6FK53VECamZmZmSlTQBSuR+F6pFJAKVyPwvV4UUBmZmZmZgZRQD0K16NwXU5AmpmZmZn5TUDhehSuR6FMQM3MzMzMLEtASOF6FK7nSkApXI/C9YhEQK5H4XoULjpA4XoUrkchOkA=",
          "dtype": "f8"
         },
         "yaxis": "y"
        },
        {
         "hovertemplate": "Total_CAGR=%{x}<br>EV_CAGR=%{y}<extra></extra>",
         "legendgroup": "",
         "line": {
          "color": "darkorange",
          "dash": "solid",
          "width": 3
         },
         "marker": {
          "symbol": "circle"
         },
         "mode": "lines",
         "name": "",
         "orientation": "v",
         "showlegend": false,
         "type": "scatter",
         "x": {
          "bdata": "/JhY09KXPMC1PD7YRAQ8wG7gI922cDvAJ4QJ4ijdOsDgJ+/mmkk6wJnL1OsMtjnAUm+68H4iOcAME6D18I44wMS2hfpi+zfAflpr/9RnN8A2/lAER9Q2wPChNgm5QDbAqUUcDiutNcBi6QETnRk1wBuN5xcPhjTA1DDNHIHyM8CN1LIh814zwEZ4mCZlyzLA/xt+K9c3MsC4v2MwSaQxwHFjSTW7EDHAKgcvOi19MMDHVSl+PtMvwDmd9IcirC7Aq+S/kQaFLcAdLIub6l0swI9zVqXONivAAbshr7IPKsB0Au24lugowOZJuMJ6wSfAWJGDzF6aJsDK2E7WQnMlwDwgGuAmTCTArmfl6QolI8Agr7Dz7v0hwJL2e/3S1iDACHyODm5fH8DsCiUiNhEdwNCZuzX+whrAtChSScZ0GMCYt+hcjiYWwIBGf3BW2BPAZNUVhB6KEcCQyFgvzXcOwFjmhVZd2wnAIASzfe0+BcDoIeCkfaIAwGB/GpgbDPi/4HXpzHem7b8A2jvTcGnWv4BvtuYb9Mw/wCT5XMau6T/QViLgQhD2P0AbyJEiSf8/2O+2IQFBBEAQ0on6cN0IQEC0XNPgeQ1AQMsXVigLEUBYPIFCYFkTQHit6i6YpxVAkB5UG9D1F0Cwj70HCEQaQMgAJ/Q/khxA6HGQ4HfgHkCA8XzmV5cgQAyqsdxzviFAnGLm0o/lIkAoGxvJqwwkQLjTT7/HMyVARIyEteNaJkDURLmr/4EnQGD97aEbqShA8LUimDfQKUB8bleOU/cqQAwnjIRvHixAmN/AeotFLUAomPVwp2wuQLRQKmfDky9AooSvrm9dMEDo4Mmp/fAwQDA95KSLhDFAdpn+nxkYMkC89Ribp6syQARSM5Y1PzNASq5NkcPSM0CSCmiMUWY0QNhmgoff+TRAIMOcgm2NNUBmH7d9+yA2QK570XiJtDZA9NfrcxdIN0A8NAZvpds3QIKQIGozbzhAyuw6ZcECOUAQSVVgT5Y5QFilb1vdKTpAngGKVmu9OkDkXaRR+VA7QCy6vkyH5DtAdBbZRxV4PEA=",
          "dtype": "f8"
         },
         "xaxis": "x",
         "y": {
          "bdata": "a54gykMcSUDieMpEpZBJQFlTdL8GBUpA0C0eOmh5SkBHCMi0ye1KQL7icS8rYktANb0bqozWS0Csl8Uk7kpMQCNyb59Pv0xAmkwZGrEzTUASJ8OUEqhNQIgBbQ90HE5A/9sWitWQTkB2tsAENwVPQO2Qan+YeU9AZGsU+vntT0DuIl+6LTFQQCkQtHdea1BAZf0INY+lUECg6l3yv99QQNzXsq/wGVFAGMUHbSFUUUBTslwqUo5RQI6fseeCyFFAyowGpbMCUkAGelti5DxSQEFnsB8Vd1JAfFQF3UWxUkC4QVqadutSQPQur1enJVNALxwEFdhfU0BqCVnSCJpTQKb2rY851FNA4uMCTWoOVEAd0VcKm0hUQFm+rMfLglRAlKsBhfy8VEDQmFZCLfdUQAuGq/9dMVVAR3MAvY5rVUCCYFV6v6VVQL5Nqjfw31VA+Tr/9CAaVkA1KFSyUVRWQHAVqW+CjlZArAL+LLPIVkDn71Lq4wJXQCPdp6cUPVdAX8r8ZEV3V0Cat1EidrFXQNakpt+m61dAEZL7nNclWEBNf1BaCGBYQIhspRc5mlhAxFn61GnUWED/Rk+Smg5ZQDo0pE/LSFlAdiH5DPyCWUCyDk7KLL1ZQO77oodd91lAKen3RI4xWkBl1kwCv2taQKDDob/vpVpA3LD2fCDgWkAXnks6URpbQFKLoPeBVFtAjnj1tLKOW0DJZUpy48hbQAVTny8UA1xAQED07EQ9XEB8LUmqdXdcQLganmemsVxA8wfzJNfrXEAu9UfiByZdQGrinJ84YF1Aps/xXGmaXUDivEYamtRdQB2qm9fKDl5AWZfwlPtIXkCUhEVSLINeQNBxmg9dvV5AC1/vzI33XkBGTESKvjFfQII5mUfva19AvSbuBCCmX0D5E0PCUOBfQJoAzL9ADWBAOHd2HlkqYEDW7SB9cUdgQHRky9uJZGBAEdt1OqKBYECvUSCZup5gQE3IyvfSu2BA6z51VuvYYECItR+1A/ZgQCYsyhMcE2FAxKJ0cjQwYUBiGR/RTE1hQACQyS9lamFAngZ0jn2HYUA=",
          "dtype": "f8"
         },
         "yaxis": "y"
        }
       ],
       "layout": {
        "barmode": "overlay",
        "legend": {
         "tracegroupgap": 0
        },
        "plot_bgcolor": "white",
        "shapes": [
         {
          "line": {
           "color": "crimson",
           "dash": "dash",
           "width": 2
          },
          "type": "line",
          "x0": -28.593060692911408,
          "x1": 28.469074717044762,
          "y0": -28.593060692911408,
          "y1": 28.469074717044762
         }
        ],
        "template": {
         "data": {
          "bar": [
           {
            "error_x": {
             "color": "#2a3f5f"
            },
            "error_y": {
             "color": "#2a3f5f"
            },
            "marker": {
             "line": {
              "color": "#E5ECF6",
              "width": 0.5
             },
             "pattern": {
              "fillmode": "overlay",
              "size": 10,
              "solidity": 0.2
             }
            },
            "type": "bar"
           }
          ],
          "barpolar": [
           {
            "marker": {
             "line": {
              "color": "#E5ECF6",
              "width": 0.5
             },
             "pattern": {
              "fillmode": "overlay",
              "size": 10,
              "solidity": 0.2
             }
            },
            "type": "barpolar"
           }
          ],
          "carpet": [
           {
            "aaxis": {
             "endlinecolor": "#2a3f5f",
             "gridcolor": "white",
             "linecolor": "white",
             "minorgridcolor": "white",
             "startlinecolor": "#2a3f5f"
            },
            "baxis": {
             "endlinecolor": "#2a3f5f",
             "gridcolor": "white",
             "linecolor": "white",
             "minorgridcolor": "white",
             "startlinecolor": "#2a3f5f"
            },
            "type": "carpet"
           }
          ],
          "choropleth": [
           {
            "colorbar": {
             "outlinewidth": 0,
             "ticks": ""
            },
            "type": "choropleth"
           }
          ],
          "contour": [
           {
            "colorbar": {
             "outlinewidth": 0,
             "ticks": ""
            },
            "colorscale": [
             [
              0,
              "#0d0887"
             ],
             [
              0.1111111111111111,
              "#46039f"
             ],
             [
              0.2222222222222222,
              "#7201a8"
             ],
             [
              0.3333333333333333,
              "#9c179e"
             ],
             [
              0.4444444444444444,
              "#bd3786"
             ],
             [
              0.5555555555555556,
              "#d8576b"
             ],
             [
              0.6666666666666666,
              "#ed7953"
             ],
             [
              0.7777777777777778,
              "#fb9f3a"
             ],
             [
              0.8888888888888888,
              "#fdca26"
             ],
             [
              1,
              "#f0f921"
             ]
            ],
            "type": "contour"
           }
          ],
          "contourcarpet": [
           {
            "colorbar": {
             "outlinewidth": 0,
             "ticks": ""
            },
            "type": "contourcarpet"
           }
          ],
          "heatmap": [
           {
            "colorbar": {
             "outlinewidth": 0,
             "ticks": ""
            },
            "colorscale": [
             [
              0,
              "#0d0887"
             ],
             [
              0.1111111111111111,
              "#46039f"
             ],
             [
              0.2222222222222222,
              "#7201a8"
             ],
             [
              0.3333333333333333,
              "#9c179e"
             ],
             [
              0.4444444444444444,
              "#bd3786"
             ],
             [
              0.5555555555555556,
              "#d8576b"
             ],
             [
              0.6666666666666666,
              "#ed7953"
             ],
             [
              0.7777777777777778,
              "#fb9f3a"
             ],
             [
              0.8888888888888888,
              "#fdca26"
             ],
             [
              1,
              "#f0f921"
             ]
            ],
            "type": "heatmap"
           }
          ],
          "histogram": [
           {
            "marker": {
             "pattern": {
              "fillmode": "overlay",
              "size": 10,
              "solidity": 0.2
             }
            },
            "type": "histogram"
           }
          ],
          "histogram2d": [
           {
            "colorbar": {
             "outlinewidth": 0,
             "ticks": ""
            },
            "colorscale": [
             [
              0,
              "#0d0887"
             ],
             [
              0.1111111111111111,
              "#46039f"
             ],
             [
              0.2222222222222222,
              "#7201a8"
             ],
             [
              0.3333333333333333,
              "#9c179e"
             ],
             [
              0.4444444444444444,
              "#bd3786"
             ],
             [
              0.5555555555555556,
              "#d8576b"
             ],
             [
              0.6666666666666666,
              "#ed7953"
             ],
             [
              0.7777777777777778,
              "#fb9f3a"
             ],
             [
              0.8888888888888888,
              "#fdca26"
             ],
             [
              1,
              "#f0f921"
             ]
            ],
            "type": "histogram2d"
           }
          ],
          "histogram2dcontour": [
           {
            "colorbar": {
             "outlinewidth": 0,
             "ticks": ""
            },
            "colorscale": [
             [
              0,
              "#0d0887"
             ],
             [
              0.1111111111111111,
              "#46039f"
             ],
             [
              0.2222222222222222,
              "#7201a8"
             ],
             [
              0.3333333333333333,
              "#9c179e"
             ],
             [
              0.4444444444444444,
              "#bd3786"
             ],
             [
              0.5555555555555556,
              "#d8576b"
             ],
             [
              0.6666666666666666,
              "#ed7953"
             ],
             [
              0.7777777777777778,
              "#fb9f3a"
             ],
             [
              0.8888888888888888,
              "#fdca26"
             ],
             [
              1,
              "#f0f921"
             ]
            ],
            "type": "histogram2dcontour"
           }
          ],
          "mesh3d": [
           {
            "colorbar": {
             "outlinewidth": 0,
             "ticks": ""
            },
            "type": "mesh3d"
           }
          ],
          "parcoords": [
           {
            "line": {
             "colorbar": {
              "outlinewidth": 0,
              "ticks": ""
             }
            },
            "type": "parcoords"
           }
          ],
          "pie": [
           {
            "automargin": true,
            "type": "pie"
           }
          ],
          "scatter": [
           {
            "fillpattern": {
             "fillmode": "overlay",
             "size": 10,
             "solidity": 0.2
            },
            "type": "scatter"
           }
          ],
          "scatter3d": [
           {
            "line": {
             "colorbar": {
              "outlinewidth": 0,
              "ticks": ""
             }
            },
            "marker": {
             "colorbar": {
              "outlinewidth": 0,
              "ticks": ""
             }
            },
            "type": "scatter3d"
           }
          ],
          "scattercarpet": [
           {
            "marker": {
             "colorbar": {
              "outlinewidth": 0,
              "ticks": ""
             }
            },
            "type": "scattercarpet"
           }
          ],
          "scattergeo": [
           {
            "marker": {
             "colorbar": {
              "outlinewidth": 0,
              "ticks": ""
             }
            },
            "type": "scattergeo"
           }
          ],
          "scattergl": [
           {
            "marker": {
             "colorbar": {
              "outlinewidth": 0,
              "ticks": ""
             }
            },
            "type": "scattergl"
           }
          ],
          "scattermap": [
           {
            "marker": {
             "colorbar": {
              "outlinewidth": 0,
              "ticks": ""
             }
            },
            "type": "scattermap"
           }
          ],
          "scattermapbox": [
           {
            "marker": {
             "colorbar": {
              "outlinewidth": 0,
              "ticks": ""
             }
            },
            "type": "scattermapbox"
           }
          ],
          "scatterpolar": [
           {
            "marker": {
             "colorbar": {
              "outlinewidth": 0,
              "ticks": ""
             }
            },
            "type": "scatterpolar"
           }
          ],
          "scatterpolargl": [
           {
            "marker": {
             "colorbar": {
              "outlinewidth": 0,
              "ticks": ""
             }
            },
            "type": "scatterpolargl"
           }
          ],
          "scatterternary": [
           {
            "marker": {
             "colorbar": {
              "outlinewidth": 0,
              "ticks": ""
             }
            },
            "type": "scatterternary"
           }
          ],
          "surface": [
           {
            "colorbar": {
             "outlinewidth": 0,
             "ticks": ""
            },
            "colorscale": [
             [
              0,
              "#0d0887"
             ],
             [
              0.1111111111111111,
              "#46039f"
             ],
             [
              0.2222222222222222,
              "#7201a8"
             ],
             [
              0.3333333333333333,
              "#9c179e"
             ],
             [
              0.4444444444444444,
              "#bd3786"
             ],
             [
              0.5555555555555556,
              "#d8576b"
             ],
             [
              0.6666666666666666,
              "#ed7953"
             ],
             [
              0.7777777777777778,
              "#fb9f3a"
             ],
             [
              0.8888888888888888,
              "#fdca26"
             ],
             [
              1,
              "#f0f921"
             ]
            ],
            "type": "surface"
           }
          ],
          "table": [
           {
            "cells": {
             "fill": {
              "color": "#EBF0F8"
             },
             "line": {
              "color": "white"
             }
            },
            "header": {
             "fill": {
              "color": "#C8D4E3"
             },
             "line": {
              "color": "white"
             }
            },
            "type": "table"
           }
          ]
         },
         "layout": {
          "annotationdefaults": {
           "arrowcolor": "#2a3f5f",
           "arrowhead": 0,
           "arrowwidth": 1
          },
          "autotypenumbers": "strict",
          "coloraxis": {
           "colorbar": {
            "outlinewidth": 0,
            "ticks": ""
           }
          },
          "colorscale": {
           "diverging": [
            [
             0,
             "#8e0152"
            ],
            [
             0.1,
             "#c51b7d"
            ],
            [
             0.2,
             "#de77ae"
            ],
            [
             0.3,
             "#f1b6da"
            ],
            [
             0.4,
             "#fde0ef"
            ],
            [
             0.5,
             "#f7f7f7"
            ],
            [
             0.6,
             "#e6f5d0"
            ],
            [
             0.7,
             "#b8e186"
            ],
            [
             0.8,
             "#7fbc41"
            ],
            [
             0.9,
             "#4d9221"
            ],
            [
             1,
             "#276419"
            ]
           ],
           "sequential": [
            [
             0,
             "#0d0887"
            ],
            [
             0.1111111111111111,
             "#46039f"
            ],
            [
             0.2222222222222222,
             "#7201a8"
            ],
            [
             0.3333333333333333,
             "#9c179e"
            ],
            [
             0.4444444444444444,
             "#bd3786"
            ],
            [
             0.5555555555555556,
             "#d8576b"
            ],
            [
             0.6666666666666666,
             "#ed7953"
            ],
            [
             0.7777777777777778,
             "#fb9f3a"
            ],
            [
             0.8888888888888888,
             "#fdca26"
            ],
            [
             1,
             "#f0f921"
            ]
           ],
           "sequentialminus": [
            [
             0,
             "#0d0887"
            ],
            [
             0.1111111111111111,
             "#46039f"
            ],
            [
             0.2222222222222222,
             "#7201a8"
            ],
            [
             0.3333333333333333,
             "#9c179e"
            ],
            [
             0.4444444444444444,
             "#bd3786"
            ],
            [
             0.5555555555555556,
             "#d8576b"
            ],
            [
             0.6666666666666666,
             "#ed7953"
            ],
            [
             0.7777777777777778,
             "#fb9f3a"
            ],
            [
             0.8888888888888888,
             "#fdca26"
            ],
            [
             1,
             "#f0f921"
            ]
           ]
          },
          "colorway": [
           "#636efa",
           "#EF553B",
           "#00cc96",
           "#ab63fa",
           "#FFA15A",
           "#19d3f3",
           "#FF6692",
           "#B6E880",
           "#FF97FF",
           "#FECB52"
          ],
          "font": {
           "color": "#2a3f5f"
          },
          "geo": {
           "bgcolor": "white",
           "lakecolor": "white",
           "landcolor": "#E5ECF6",
           "showlakes": true,
           "showland": true,
           "subunitcolor": "white"
          },
          "hoverlabel": {
           "align": "left"
          },
          "hovermode": "closest",
          "mapbox": {
           "style": "light"
          },
          "paper_bgcolor": "white",
          "plot_bgcolor": "#E5ECF6",
          "polar": {
           "angularaxis": {
            "gridcolor": "white",
            "linecolor": "white",
            "ticks": ""
           },
           "bgcolor": "#E5ECF6",
           "radialaxis": {
            "gridcolor": "white",
            "linecolor": "white",
            "ticks": ""
           }
          },
          "scene": {
           "xaxis": {
            "backgroundcolor": "#E5ECF6",
            "gridcolor": "white",
            "gridwidth": 2,
            "linecolor": "white",
            "showbackground": true,
            "ticks": "",
            "zerolinecolor": "white"
           },
           "yaxis": {
            "backgroundcolor": "#E5ECF6",
            "gridcolor": "white",
            "gridwidth": 2,
            "linecolor": "white",
            "showbackground": true,
            "ticks": "",
            "zerolinecolor": "white"
           },
           "zaxis": {
            "backgroundcolor": "#E5ECF6",
            "gridcolor": "white",
            "gridwidth": 2,
            "linecolor": "white",
            "showbackground": true,
            "ticks": "",
            "zerolinecolor": "white"
           }
          },
          "shapedefaults": {
           "line": {
            "color": "#2a3f5f"
           }
          },
          "ternary": {
           "aaxis": {
            "gridcolor": "white",
            "linecolor": "white",
            "ticks": ""
           },
           "baxis": {
            "gridcolor": "white",
            "linecolor": "white",
            "ticks": ""
           },
           "bgcolor": "#E5ECF6",
           "caxis": {
            "gridcolor": "white",
            "linecolor": "white",
            "ticks": ""
           }
          },
          "title": {
           "x": 0.05
          },
          "xaxis": {
           "automargin": true,
           "gridcolor": "white",
           "linecolor": "white",
           "ticks": "",
           "title": {
            "standoff": 15
           },
           "zerolinecolor": "white",
           "zerolinewidth": 2
          },
          "yaxis": {
           "automargin": true,
           "gridcolor": "white",
           "linecolor": "white",
           "ticks": "",
           "title": {
            "standoff": 15
           },
           "zerolinecolor": "white",
           "zerolinewidth": 2
          }
         }
        },
        "title": {
         "font": {
          "size": 18
         },
         "text": "Relationship Between Total Vehicles CAGR and EV CAGR by State",
         "x": 0.5,
         "xanchor": "center"
        },
        "xaxis": {
         "anchor": "y",
         "domain": [
          0,
          0.7363
         ],
         "gridcolor": "lightgray",
         "showgrid": true,
         "title": {
          "text": "Total Vehicles CAGR (%)"
         }
        },
        "xaxis2": {
         "anchor": "y2",
         "domain": [
          0.7413,
          1
         ],
         "matches": "x2",
         "showgrid": true,
         "showline": false,
         "showticklabels": false,
         "ticks": ""
        },
        "xaxis3": {
         "anchor": "y3",
         "domain": [
          0,
          0.7363
         ],
         "matches": "x",
         "showgrid": true,
         "showticklabels": false
        },
        "xaxis4": {
         "anchor": "y4",
         "domain": [
          0.7413,
          1
         ],
         "matches": "x2",
         "showgrid": true,
         "showline": false,
         "showticklabels": false,
         "ticks": ""
        },
        "yaxis": {
         "anchor": "x",
         "domain": [
          0,
          0.7326
         ],
         "gridcolor": "lightgray",
         "showgrid": true,
         "title": {
          "text": "EV CAGR (%)"
         }
        },
        "yaxis2": {
         "anchor": "x2",
         "domain": [
          0,
          0.7326
         ],
         "matches": "y",
         "showgrid": true,
         "showticklabels": false
        },
        "yaxis3": {
         "anchor": "x3",
         "domain": [
          0.7426,
          1
         ],
         "matches": "y3",
         "showgrid": true,
         "showline": false,
         "showticklabels": false,
         "ticks": ""
        },
        "yaxis4": {
         "anchor": "x4",
         "domain": [
          0.7426,
          1
         ],
         "matches": "y3",
         "showgrid": true,
         "showline": false,
         "showticklabels": false,
         "ticks": ""
        }
       }
      }
     },
     "metadata": {},
     "output_type": "display_data"
    }
   ],
   "source": [
    "import plotly.express as px\n",
    "\n",
    "# Create scatter plot\n",
    "fig = px.scatter(\n",
    "  comparison,\n",
    "  x=\"Total_CAGR\",\n",
    "  y=\"EV_CAGR\",\n",
    "  hover_data=[\"state\"],  # Add state names to tooltips\n",
    "  color_discrete_sequence=[\"skyblue\"],\n",
    "  opacity=0.8,\n",
    "  size_max=8,\n",
    "  marginal_x=\"histogram\",\n",
    "  marginal_y=\"histogram\",\n",
    "  title=\"Relationship Between Total Vehicles CAGR and EV CAGR by State\",\n",
    ")\n",
    "\n",
    "# Add text labels for states\n",
    "fig.add_trace(\n",
    "  px.scatter(\n",
    "    comparison,\n",
    "    x=\"Total_CAGR\",\n",
    "    y=\"EV_CAGR\",\n",
    "    text=\"state\"\n",
    "  ).update_traces(\n",
    "    textposition=\"top center\",\n",
    "    textfont=dict(size=8),\n",
    "    showlegend=False\n",
    "  ).data[0]\n",
    ")\n",
    "\n",
    "# Update marker style\n",
    "fig.update_traces(marker=dict(size=10), selector=dict(mode=\"markers\"))\n",
    "\n",
    "# Add regression line\n",
    "import numpy as np\n",
    "from sklearn.linear_model import LinearRegression\n",
    "\n",
    "X = comparison[\"Total_CAGR\"].values.reshape(-1, 1)\n",
    "y = comparison[\"EV_CAGR\"].values\n",
    "model = LinearRegression().fit(X, y)\n",
    "x_range = np.linspace(comparison[\"Total_CAGR\"].min(), comparison[\"Total_CAGR\"].max(), 100)\n",
    "y_pred = model.predict(x_range.reshape(-1, 1))\n",
    "\n",
    "fig.add_traces(\n",
    "  px.line(x=x_range, y=y_pred, labels={\"x\": \"Total_CAGR\", \"y\": \"EV_CAGR\"})\n",
    "  .update_traces(line=dict(color=\"darkorange\", width=3))\n",
    "  .data\n",
    ")\n",
    "\n",
    "# Add reference y = x line\n",
    "fig.add_shape(\n",
    "  type=\"line\",\n",
    "  x0=comparison[\"Total_CAGR\"].min(),\n",
    "  y0=comparison[\"Total_CAGR\"].min(),\n",
    "  x1=comparison[\"Total_CAGR\"].max(),\n",
    "  y1=comparison[\"Total_CAGR\"].max(),\n",
    "  line=dict(color=\"crimson\", dash=\"dash\", width=2),\n",
    ")\n",
    "\n",
    "# Layout tweaks\n",
    "fig.update_layout(\n",
    "  title=dict(x=0.5, xanchor=\"center\", font=dict(size=18)),\n",
    "  xaxis_title=\"Total Vehicles CAGR (%)\",\n",
    "  yaxis_title=\"EV CAGR (%)\",\n",
    "  plot_bgcolor=\"white\",\n",
    "  xaxis=dict(showgrid=True, gridcolor=\"lightgray\"),\n",
    "  yaxis=dict(showgrid=True, gridcolor=\"lightgray\"),\n",
    ")\n",
    "\n",
    "fig.show()"
   ]
  },
  {
   "cell_type": "markdown",
   "id": "24669647",
   "metadata": {},
   "source": [
    "From this **jointplot** showing **Total Vehicles CAGR (%)** vs **EV CAGR (%)**:\n",
    "\n",
    "### Observations\n",
    "\n",
    "1. **General Decline in Total Vehicle Sales**\n",
    "\n",
    "   * The x-axis shows all states having negative Total CAGR values (ranging roughly from -72% to -40%).\n",
    "   * This confirms your earlier finding: **no state had positive growth in overall vehicle sales** between 2022 and 2024.\n",
    "\n",
    "2. **Variation in EV CAGR**\n",
    "\n",
    "   * The y-axis shows a wider spread for EV CAGR — some states have **positive EV growth** (up to ~~120%), while others are strongly negative (~~-100%).\n",
    "   * This suggests **EV adoption trends are not strongly tied to the overall vehicle sales trend**.\n",
    "\n",
    "3. **Weak Positive Relationship**\n",
    "\n",
    "   * The regression line slopes slightly upward, meaning states with **less negative total CAGR** tend to have **slightly better EV CAGR**, but the correlation looks weak.\n",
    "   * The confidence interval is quite wide, especially toward the extremes, indicating high variability and low predictive strength.\n",
    "\n",
    "4. **Clusters**\n",
    "\n",
    "   * Most states cluster in the bottom-right quadrant: **moderately negative Total CAGR (-50% to -40%)** and **negative EV CAGR (-50% to 0%)**.\n",
    "   * A few outlier states in the top area (positive EV CAGR) are likely the ones leading EV adoption despite market contraction."
   ]
  },
  {
   "cell_type": "code",
   "execution_count": 35,
   "id": "b04110f8",
   "metadata": {},
   "outputs": [
    {
     "data": {
      "application/vnd.plotly.v1+json": {
       "config": {
        "plotlyServerURL": "https://plot.ly"
       },
       "data": [
        {
         "colorbar": {
          "title": {
           "text": "Count"
          }
         },
         "colorscale": [
          [
           0,
           "#440154"
          ],
          [
           0.1111111111111111,
           "#482878"
          ],
          [
           0.2222222222222222,
           "#3e4989"
          ],
          [
           0.3333333333333333,
           "#31688e"
          ],
          [
           0.4444444444444444,
           "#26828e"
          ],
          [
           0.5555555555555556,
           "#1f9e89"
          ],
          [
           0.6666666666666666,
           "#35b779"
          ],
          [
           0.7777777777777778,
           "#6ece58"
          ],
          [
           0.8888888888888888,
           "#b5de2b"
          ],
          [
           1,
           "#fde725"
          ]
         ],
         "nbinsx": 25,
         "nbinsy": 25,
         "type": "histogram2d",
         "x": {
          "bdata": "BhQAACSUCwDZTQAAYMcFAOyMDQC/jgAAyuIFAFowAADt3wUAArYAAG5uEACp+QcAH34BAJ0FAgBEPQYAr7gOAGBQCgBTCwAAH6MOAMSyGAAIjQAArVYAAO9LAAAzMgAADSwHAOOkAACwsQYA4iINAMEiAAD69RMAS5MAABrzJQD0nAIAqBcNAA==",
          "dtype": "i4"
         },
         "xaxis": "x2",
         "y": {
          "bdata": "ABwAAHJwCwDVbAAAgU0IAMINEQAepQAAoD0HAEo/AAAIiggAjQgBAET9FgBs/QoARMUBAHQXAgANbwcAx64VANCbCABnDAAAT/cSALn+HwB4RwAAj44AAAtqAABDQgAA19UIAELVAABYmAgAcNQSABYpAABiwhgAP7QAAN3cKwDXdQMAlWsOAA==",
          "dtype": "i4"
         },
         "yaxis": "y2"
        },
        {
         "nbinsx": 25,
         "type": "histogram",
         "x": {
          "bdata": "BhQAACSUCwDZTQAAYMcFAOyMDQC/jgAAyuIFAFowAADt3wUAArYAAG5uEACp+QcAH34BAJ0FAgBEPQYAr7gOAGBQCgBTCwAAH6MOAMSyGAAIjQAArVYAAO9LAAAzMgAADSwHAOOkAACwsQYA4iINAMEiAAD69RMAS5MAABrzJQD0nAIAqBcNAA==",
          "dtype": "i4"
         },
         "xaxis": "x",
         "yaxis": "y"
        }
       ],
       "layout": {
        "height": 800,
        "showlegend": false,
        "template": {
         "data": {
          "bar": [
           {
            "error_x": {
             "color": "#2a3f5f"
            },
            "error_y": {
             "color": "#2a3f5f"
            },
            "marker": {
             "line": {
              "color": "#E5ECF6",
              "width": 0.5
             },
             "pattern": {
              "fillmode": "overlay",
              "size": 10,
              "solidity": 0.2
             }
            },
            "type": "bar"
           }
          ],
          "barpolar": [
           {
            "marker": {
             "line": {
              "color": "#E5ECF6",
              "width": 0.5
             },
             "pattern": {
              "fillmode": "overlay",
              "size": 10,
              "solidity": 0.2
             }
            },
            "type": "barpolar"
           }
          ],
          "carpet": [
           {
            "aaxis": {
             "endlinecolor": "#2a3f5f",
             "gridcolor": "white",
             "linecolor": "white",
             "minorgridcolor": "white",
             "startlinecolor": "#2a3f5f"
            },
            "baxis": {
             "endlinecolor": "#2a3f5f",
             "gridcolor": "white",
             "linecolor": "white",
             "minorgridcolor": "white",
             "startlinecolor": "#2a3f5f"
            },
            "type": "carpet"
           }
          ],
          "choropleth": [
           {
            "colorbar": {
             "outlinewidth": 0,
             "ticks": ""
            },
            "type": "choropleth"
           }
          ],
          "contour": [
           {
            "colorbar": {
             "outlinewidth": 0,
             "ticks": ""
            },
            "colorscale": [
             [
              0,
              "#0d0887"
             ],
             [
              0.1111111111111111,
              "#46039f"
             ],
             [
              0.2222222222222222,
              "#7201a8"
             ],
             [
              0.3333333333333333,
              "#9c179e"
             ],
             [
              0.4444444444444444,
              "#bd3786"
             ],
             [
              0.5555555555555556,
              "#d8576b"
             ],
             [
              0.6666666666666666,
              "#ed7953"
             ],
             [
              0.7777777777777778,
              "#fb9f3a"
             ],
             [
              0.8888888888888888,
              "#fdca26"
             ],
             [
              1,
              "#f0f921"
             ]
            ],
            "type": "contour"
           }
          ],
          "contourcarpet": [
           {
            "colorbar": {
             "outlinewidth": 0,
             "ticks": ""
            },
            "type": "contourcarpet"
           }
          ],
          "heatmap": [
           {
            "colorbar": {
             "outlinewidth": 0,
             "ticks": ""
            },
            "colorscale": [
             [
              0,
              "#0d0887"
             ],
             [
              0.1111111111111111,
              "#46039f"
             ],
             [
              0.2222222222222222,
              "#7201a8"
             ],
             [
              0.3333333333333333,
              "#9c179e"
             ],
             [
              0.4444444444444444,
              "#bd3786"
             ],
             [
              0.5555555555555556,
              "#d8576b"
             ],
             [
              0.6666666666666666,
              "#ed7953"
             ],
             [
              0.7777777777777778,
              "#fb9f3a"
             ],
             [
              0.8888888888888888,
              "#fdca26"
             ],
             [
              1,
              "#f0f921"
             ]
            ],
            "type": "heatmap"
           }
          ],
          "histogram": [
           {
            "marker": {
             "pattern": {
              "fillmode": "overlay",
              "size": 10,
              "solidity": 0.2
             }
            },
            "type": "histogram"
           }
          ],
          "histogram2d": [
           {
            "colorbar": {
             "outlinewidth": 0,
             "ticks": ""
            },
            "colorscale": [
             [
              0,
              "#0d0887"
             ],
             [
              0.1111111111111111,
              "#46039f"
             ],
             [
              0.2222222222222222,
              "#7201a8"
             ],
             [
              0.3333333333333333,
              "#9c179e"
             ],
             [
              0.4444444444444444,
              "#bd3786"
             ],
             [
              0.5555555555555556,
              "#d8576b"
             ],
             [
              0.6666666666666666,
              "#ed7953"
             ],
             [
              0.7777777777777778,
              "#fb9f3a"
             ],
             [
              0.8888888888888888,
              "#fdca26"
             ],
             [
              1,
              "#f0f921"
             ]
            ],
            "type": "histogram2d"
           }
          ],
          "histogram2dcontour": [
           {
            "colorbar": {
             "outlinewidth": 0,
             "ticks": ""
            },
            "colorscale": [
             [
              0,
              "#0d0887"
             ],
             [
              0.1111111111111111,
              "#46039f"
             ],
             [
              0.2222222222222222,
              "#7201a8"
             ],
             [
              0.3333333333333333,
              "#9c179e"
             ],
             [
              0.4444444444444444,
              "#bd3786"
             ],
             [
              0.5555555555555556,
              "#d8576b"
             ],
             [
              0.6666666666666666,
              "#ed7953"
             ],
             [
              0.7777777777777778,
              "#fb9f3a"
             ],
             [
              0.8888888888888888,
              "#fdca26"
             ],
             [
              1,
              "#f0f921"
             ]
            ],
            "type": "histogram2dcontour"
           }
          ],
          "mesh3d": [
           {
            "colorbar": {
             "outlinewidth": 0,
             "ticks": ""
            },
            "type": "mesh3d"
           }
          ],
          "parcoords": [
           {
            "line": {
             "colorbar": {
              "outlinewidth": 0,
              "ticks": ""
             }
            },
            "type": "parcoords"
           }
          ],
          "pie": [
           {
            "automargin": true,
            "type": "pie"
           }
          ],
          "scatter": [
           {
            "fillpattern": {
             "fillmode": "overlay",
             "size": 10,
             "solidity": 0.2
            },
            "type": "scatter"
           }
          ],
          "scatter3d": [
           {
            "line": {
             "colorbar": {
              "outlinewidth": 0,
              "ticks": ""
             }
            },
            "marker": {
             "colorbar": {
              "outlinewidth": 0,
              "ticks": ""
             }
            },
            "type": "scatter3d"
           }
          ],
          "scattercarpet": [
           {
            "marker": {
             "colorbar": {
              "outlinewidth": 0,
              "ticks": ""
             }
            },
            "type": "scattercarpet"
           }
          ],
          "scattergeo": [
           {
            "marker": {
             "colorbar": {
              "outlinewidth": 0,
              "ticks": ""
             }
            },
            "type": "scattergeo"
           }
          ],
          "scattergl": [
           {
            "marker": {
             "colorbar": {
              "outlinewidth": 0,
              "ticks": ""
             }
            },
            "type": "scattergl"
           }
          ],
          "scattermap": [
           {
            "marker": {
             "colorbar": {
              "outlinewidth": 0,
              "ticks": ""
             }
            },
            "type": "scattermap"
           }
          ],
          "scattermapbox": [
           {
            "marker": {
             "colorbar": {
              "outlinewidth": 0,
              "ticks": ""
             }
            },
            "type": "scattermapbox"
           }
          ],
          "scatterpolar": [
           {
            "marker": {
             "colorbar": {
              "outlinewidth": 0,
              "ticks": ""
             }
            },
            "type": "scatterpolar"
           }
          ],
          "scatterpolargl": [
           {
            "marker": {
             "colorbar": {
              "outlinewidth": 0,
              "ticks": ""
             }
            },
            "type": "scatterpolargl"
           }
          ],
          "scatterternary": [
           {
            "marker": {
             "colorbar": {
              "outlinewidth": 0,
              "ticks": ""
             }
            },
            "type": "scatterternary"
           }
          ],
          "surface": [
           {
            "colorbar": {
             "outlinewidth": 0,
             "ticks": ""
            },
            "colorscale": [
             [
              0,
              "#0d0887"
             ],
             [
              0.1111111111111111,
              "#46039f"
             ],
             [
              0.2222222222222222,
              "#7201a8"
             ],
             [
              0.3333333333333333,
              "#9c179e"
             ],
             [
              0.4444444444444444,
              "#bd3786"
             ],
             [
              0.5555555555555556,
              "#d8576b"
             ],
             [
              0.6666666666666666,
              "#ed7953"
             ],
             [
              0.7777777777777778,
              "#fb9f3a"
             ],
             [
              0.8888888888888888,
              "#fdca26"
             ],
             [
              1,
              "#f0f921"
             ]
            ],
            "type": "surface"
           }
          ],
          "table": [
           {
            "cells": {
             "fill": {
              "color": "#EBF0F8"
             },
             "line": {
              "color": "white"
             }
            },
            "header": {
             "fill": {
              "color": "#C8D4E3"
             },
             "line": {
              "color": "white"
             }
            },
            "type": "table"
           }
          ]
         },
         "layout": {
          "annotationdefaults": {
           "arrowcolor": "#2a3f5f",
           "arrowhead": 0,
           "arrowwidth": 1
          },
          "autotypenumbers": "strict",
          "coloraxis": {
           "colorbar": {
            "outlinewidth": 0,
            "ticks": ""
           }
          },
          "colorscale": {
           "diverging": [
            [
             0,
             "#8e0152"
            ],
            [
             0.1,
             "#c51b7d"
            ],
            [
             0.2,
             "#de77ae"
            ],
            [
             0.3,
             "#f1b6da"
            ],
            [
             0.4,
             "#fde0ef"
            ],
            [
             0.5,
             "#f7f7f7"
            ],
            [
             0.6,
             "#e6f5d0"
            ],
            [
             0.7,
             "#b8e186"
            ],
            [
             0.8,
             "#7fbc41"
            ],
            [
             0.9,
             "#4d9221"
            ],
            [
             1,
             "#276419"
            ]
           ],
           "sequential": [
            [
             0,
             "#0d0887"
            ],
            [
             0.1111111111111111,
             "#46039f"
            ],
            [
             0.2222222222222222,
             "#7201a8"
            ],
            [
             0.3333333333333333,
             "#9c179e"
            ],
            [
             0.4444444444444444,
             "#bd3786"
            ],
            [
             0.5555555555555556,
             "#d8576b"
            ],
            [
             0.6666666666666666,
             "#ed7953"
            ],
            [
             0.7777777777777778,
             "#fb9f3a"
            ],
            [
             0.8888888888888888,
             "#fdca26"
            ],
            [
             1,
             "#f0f921"
            ]
           ],
           "sequentialminus": [
            [
             0,
             "#0d0887"
            ],
            [
             0.1111111111111111,
             "#46039f"
            ],
            [
             0.2222222222222222,
             "#7201a8"
            ],
            [
             0.3333333333333333,
             "#9c179e"
            ],
            [
             0.4444444444444444,
             "#bd3786"
            ],
            [
             0.5555555555555556,
             "#d8576b"
            ],
            [
             0.6666666666666666,
             "#ed7953"
            ],
            [
             0.7777777777777778,
             "#fb9f3a"
            ],
            [
             0.8888888888888888,
             "#fdca26"
            ],
            [
             1,
             "#f0f921"
            ]
           ]
          },
          "colorway": [
           "#636efa",
           "#EF553B",
           "#00cc96",
           "#ab63fa",
           "#FFA15A",
           "#19d3f3",
           "#FF6692",
           "#B6E880",
           "#FF97FF",
           "#FECB52"
          ],
          "font": {
           "color": "#2a3f5f"
          },
          "geo": {
           "bgcolor": "white",
           "lakecolor": "white",
           "landcolor": "#E5ECF6",
           "showlakes": true,
           "showland": true,
           "subunitcolor": "white"
          },
          "hoverlabel": {
           "align": "left"
          },
          "hovermode": "closest",
          "mapbox": {
           "style": "light"
          },
          "paper_bgcolor": "white",
          "plot_bgcolor": "#E5ECF6",
          "polar": {
           "angularaxis": {
            "gridcolor": "white",
            "linecolor": "white",
            "ticks": ""
           },
           "bgcolor": "#E5ECF6",
           "radialaxis": {
            "gridcolor": "white",
            "linecolor": "white",
            "ticks": ""
           }
          },
          "scene": {
           "xaxis": {
            "backgroundcolor": "#E5ECF6",
            "gridcolor": "white",
            "gridwidth": 2,
            "linecolor": "white",
            "showbackground": true,
            "ticks": "",
            "zerolinecolor": "white"
           },
           "yaxis": {
            "backgroundcolor": "#E5ECF6",
            "gridcolor": "white",
            "gridwidth": 2,
            "linecolor": "white",
            "showbackground": true,
            "ticks": "",
            "zerolinecolor": "white"
           },
           "zaxis": {
            "backgroundcolor": "#E5ECF6",
            "gridcolor": "white",
            "gridwidth": 2,
            "linecolor": "white",
            "showbackground": true,
            "ticks": "",
            "zerolinecolor": "white"
           }
          },
          "shapedefaults": {
           "line": {
            "color": "#2a3f5f"
           }
          },
          "ternary": {
           "aaxis": {
            "gridcolor": "white",
            "linecolor": "white",
            "ticks": ""
           },
           "baxis": {
            "gridcolor": "white",
            "linecolor": "white",
            "ticks": ""
           },
           "bgcolor": "#E5ECF6",
           "caxis": {
            "gridcolor": "white",
            "linecolor": "white",
            "ticks": ""
           }
          },
          "title": {
           "x": 0.05
          },
          "xaxis": {
           "automargin": true,
           "gridcolor": "white",
           "linecolor": "white",
           "ticks": "",
           "title": {
            "standoff": 15
           },
           "zerolinecolor": "white",
           "zerolinewidth": 2
          },
          "yaxis": {
           "automargin": true,
           "gridcolor": "white",
           "linecolor": "white",
           "ticks": "",
           "title": {
            "standoff": 15
           },
           "zerolinecolor": "white",
           "zerolinewidth": 2
          }
         }
        },
        "title": {
         "text": "Vehicle Sales Distribution: 2022 vs 2024"
        },
        "width": 800,
        "xaxis": {
         "anchor": "y",
         "domain": [
          0.706,
          1
         ],
         "title": {
          "text": "Sales 2022"
         }
        },
        "xaxis2": {
         "anchor": "y2",
         "domain": [
          0,
          0.6859999999999999
         ],
         "title": {
          "text": "Count"
         }
        },
        "yaxis": {
         "anchor": "x",
         "domain": [
          0.706,
          1
         ],
         "title": {
          "text": "Sales 2024"
         }
        },
        "yaxis2": {
         "anchor": "x2",
         "domain": [
          0,
          0.6859999999999999
         ]
        }
       }
      }
     },
     "metadata": {},
     "output_type": "display_data"
    }
   ],
   "source": [
    "import plotly.express as px\n",
    "import plotly.graph_objects as go\n",
    "from plotly.subplots import make_subplots\n",
    "\n",
    "# Create the main scatter plot\n",
    "fig = make_subplots(\n",
    "  rows=2, cols=2,\n",
    "  column_widths=[0.7, 0.3],\n",
    "  row_heights=[0.3, 0.7],\n",
    "  vertical_spacing=0.02,\n",
    "  horizontal_spacing=0.02,\n",
    "  specs=[[None, {\"type\": \"histogram\"}],\n",
    "       [{\"type\": \"histogram2d\"}, None]]\n",
    ")\n",
    "\n",
    "# Add 2D histogram\n",
    "fig.add_trace(\n",
    "  go.Histogram2d(\n",
    "    x=df_pivot['sales_2022'],\n",
    "    y=df_pivot['sales_2024'],\n",
    "    colorscale='Viridis',\n",
    "    nbinsx=25,\n",
    "    nbinsy=25,\n",
    "    colorbar=dict(title='Count')\n",
    "  ),\n",
    "  row=2, col=1\n",
    ")\n",
    "\n",
    "# Add marginal histograms\n",
    "fig.add_trace(\n",
    "  go.Histogram(x=df_pivot['sales_2022'], nbinsx=25),\n",
    "  row=1, col=2\n",
    ")\n",
    "\n",
    "# Update layout\n",
    "fig.update_layout(\n",
    "  title='Vehicle Sales Distribution: 2022 vs 2024',\n",
    "  showlegend=False,\n",
    "  width=800,\n",
    "  height=800,\n",
    "  xaxis=dict(title='Sales 2022'),\n",
    "  xaxis2=dict(title='Count'),\n",
    "  yaxis=dict(title='Sales 2024')\n",
    ")\n",
    "\n",
    "fig.show()\n"
   ]
  },
  {
   "cell_type": "markdown",
   "id": "4049a52d",
   "metadata": {},
   "source": [
    "### Distribution Analysis of Vehicle Sales (2022-2024)\n",
    "\n",
    "#### Key Findings:\n",
    "\n",
    "1. **Electric Vehicle Growth**\n",
    "  - Shows dramatic variations across states:\n",
    "    - Meghalaya leads with 476.63% CAGR\n",
    "    - Tripura follows at 229.50%\n",
    "    - Nagaland shows 200% growth\n",
    "  - Most states show positive EV growth despite overall market decline\n",
    "\n",
    "2. **Traditional Vehicle Market**\n",
    "  - All states experienced growth between -40% to +30%\n",
    "  - Top performers:\n",
    "    - Meghalaya (28.47%)\n",
    "    - Goa (27.41%)\n",
    "    - Karnataka (25.28%)\n",
    "  - Shows steady but moderate growth compared to EV segment\n",
    "\n",
    "3. **Market Transition Patterns**\n",
    "  - Clear shift toward EV adoption:\n",
    "    - EV sales show higher growth rates\n",
    "    - Traditional vehicle sales show stable but lower growth\n",
    "  - Regional variations are significant:\n",
    "    - Northeastern states show strong performance in both segments\n",
    "    - Urban centers maintain steady growth\n",
    "\n",
    "4. **Distribution Characteristics**\n",
    "  - Traditional vehicles:\n",
    "    - Mean sales (2024): 592,872 units\n",
    "    - Wider distribution range\n",
    "  - Electric vehicles:\n",
    "    - Mean sales (2024): 32,880 units\n",
    "    - Narrower but rapidly expanding distribution\n",
    "\n",
    "This analysis reveals a clear market transition toward electric vehicles, with dramatic growth in EV sales despite moderate growth in traditional vehicle segments."
   ]
  },
  {
   "cell_type": "code",
   "execution_count": null,
   "id": "a1418aae",
   "metadata": {},
   "outputs": [],
   "source": [
    "import os\n",
    "\n",
    "# Create paths if they don't exist\n",
    "if not os.path.exists('../../data/visuals'):\n",
    "  os.makedirs('../../data/visuals')\n",
    "\n",
    "# Export top 10 state CAGR for total vehicles\n",
    "state_cagr_top10.to_csv('../../data/visuals/top10_total_vehicles_cagr.csv', index=False)\n",
    "\n",
    "# Export top 10 EV CAGR \n",
    "top_10_ev_CAGR.to_csv('../../data/visuals/top10_ev_cagr.csv', index=False)\n",
    "\n",
    "# Export top 10 non-EV CAGR\n",
    "df_top10.to_csv('../../data/visuals/top10_non_ev_cagr.csv', index=False)"
   ]
  }
 ],
 "metadata": {
  "kernelspec": {
   "display_name": "ev-analysis (3.13.3)",
   "language": "python",
   "name": "python3"
  },
  "language_info": {
   "codemirror_mode": {
    "name": "ipython",
    "version": 3
   },
   "file_extension": ".py",
   "mimetype": "text/x-python",
   "name": "python",
   "nbconvert_exporter": "python",
   "pygments_lexer": "ipython3",
   "version": "3.13.3"
  },
  "widgets": {
   "application/vnd.jupyter.widget-state+json": {
    "state": {},
    "version_major": 2,
    "version_minor": 0
   }
  }
 },
 "nbformat": 4,
 "nbformat_minor": 5
}
