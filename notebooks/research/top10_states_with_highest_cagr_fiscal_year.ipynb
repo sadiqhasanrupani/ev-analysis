{
 "cells": [
  {
   "cell_type": "markdown",
   "id": "faafdf44",
   "metadata": {},
   "source": [
    "### Question\n",
    "#### *List down the top 10 states that had the highest compounded annual growth rate (CAGR) from 2022 to 2024 in total vehicles sold.*\n",
    "\n",
    "---\n",
    "\n",
    "## Solution using Fiscal Year Analysis\n",
    "\n",
    "### **Steps to Calculate Top 10 States by CAGR (FY 2022–2024)**\n",
    "\n",
    "1. **Load and Merge Data Sources**\n",
    "   * Import electric_vehicle_sales_by_state.csv for sales data\n",
    "   * Import dim_date.csv to map dates to fiscal years\n",
    "   * Merge datasets on the date column\n",
    "\n",
    "2. **Filter for Relevant Fiscal Years**\n",
    "   * Keep only rows where `fiscal_year` is 2022 or 2024\n",
    "   * Clean state names if necessary\n",
    "\n",
    "3. **Aggregate Sales by State and Fiscal Year**\n",
    "   * Group by `state` and `fiscal_year`\n",
    "   * Sum the `total_vehicles_sold` for each combination\n",
    "\n",
    "4. **Reshape for CAGR Calculation**\n",
    "   * Create a pivot table with states as rows and fiscal years as columns\n",
    "\n",
    "5. **Apply the CAGR Formula**\n",
    "   For each state:\n",
    "   $$\n",
    "   \\text{CAGR} = \\left( \\frac{\\text{Sales in FY 2024}}{\\text{Sales in FY 2022}} \\right)^{\\frac{1}{2}} - 1\n",
    "   $$\n",
    "   Where 2 is the number of years between FY 2022 and FY 2024.\n",
    "\n",
    "6. **Handle Edge Cases and Sort Results**\n",
    "   * Remove records with missing or zero sales\n",
    "   * Sort by CAGR in descending order to find top performers\n",
    "\n",
    "7. **Visualize Results with Plotly**\n",
    "   * Create interactive charts for better insight communication\n",
    "   * Analyze EV, non-EV, and total vehicle sales patterns"
   ]
  },
  {
   "cell_type": "code",
   "execution_count": 1,
   "id": "d7718c15",
   "metadata": {},
   "outputs": [],
   "source": [
    "# Import required libraries\n",
    "import pandas as pd\n",
    "import numpy as np\n",
    "import matplotlib.pyplot as plt\n",
    "import seaborn as sns\n",
    "import plotly.express as px\n",
    "import plotly.graph_objects as go\n",
    "from IPython.display import display\n",
    "from plotly.subplots import make_subplots\n",
    "from sklearn.linear_model import LinearRegression\n",
    "import os"
   ]
  },
  {
   "cell_type": "code",
   "execution_count": 2,
   "id": "dc1c1ec6",
   "metadata": {},
   "outputs": [
    {
     "data": {
      "text/html": [
       "<div>\n",
       "<style scoped>\n",
       "    .dataframe tbody tr th:only-of-type {\n",
       "        vertical-align: middle;\n",
       "    }\n",
       "\n",
       "    .dataframe tbody tr th {\n",
       "        vertical-align: top;\n",
       "    }\n",
       "\n",
       "    .dataframe thead th {\n",
       "        text-align: right;\n",
       "    }\n",
       "</style>\n",
       "<table border=\"1\" class=\"dataframe\">\n",
       "  <thead>\n",
       "    <tr style=\"text-align: right;\">\n",
       "      <th></th>\n",
       "      <th>date</th>\n",
       "      <th>state</th>\n",
       "      <th>vehicle_category</th>\n",
       "      <th>electric_vehicles_sold</th>\n",
       "      <th>total_vehicles_sold</th>\n",
       "    </tr>\n",
       "  </thead>\n",
       "  <tbody>\n",
       "    <tr>\n",
       "      <th>0</th>\n",
       "      <td>01-Apr-21</td>\n",
       "      <td>Sikkim</td>\n",
       "      <td>2-Wheelers</td>\n",
       "      <td>0</td>\n",
       "      <td>398</td>\n",
       "    </tr>\n",
       "    <tr>\n",
       "      <th>1</th>\n",
       "      <td>01-Apr-21</td>\n",
       "      <td>Sikkim</td>\n",
       "      <td>4-Wheelers</td>\n",
       "      <td>0</td>\n",
       "      <td>361</td>\n",
       "    </tr>\n",
       "    <tr>\n",
       "      <th>2</th>\n",
       "      <td>01-May-21</td>\n",
       "      <td>Sikkim</td>\n",
       "      <td>2-Wheelers</td>\n",
       "      <td>0</td>\n",
       "      <td>113</td>\n",
       "    </tr>\n",
       "    <tr>\n",
       "      <th>3</th>\n",
       "      <td>01-May-21</td>\n",
       "      <td>Sikkim</td>\n",
       "      <td>4-Wheelers</td>\n",
       "      <td>0</td>\n",
       "      <td>98</td>\n",
       "    </tr>\n",
       "    <tr>\n",
       "      <th>4</th>\n",
       "      <td>01-Jun-21</td>\n",
       "      <td>Sikkim</td>\n",
       "      <td>2-Wheelers</td>\n",
       "      <td>0</td>\n",
       "      <td>229</td>\n",
       "    </tr>\n",
       "  </tbody>\n",
       "</table>\n",
       "</div>"
      ],
      "text/plain": [
       "        date   state vehicle_category  electric_vehicles_sold  \\\n",
       "0  01-Apr-21  Sikkim       2-Wheelers                       0   \n",
       "1  01-Apr-21  Sikkim       4-Wheelers                       0   \n",
       "2  01-May-21  Sikkim       2-Wheelers                       0   \n",
       "3  01-May-21  Sikkim       4-Wheelers                       0   \n",
       "4  01-Jun-21  Sikkim       2-Wheelers                       0   \n",
       "\n",
       "   total_vehicles_sold  \n",
       "0                  398  \n",
       "1                  361  \n",
       "2                  113  \n",
       "3                   98  \n",
       "4                  229  "
      ]
     },
     "metadata": {},
     "output_type": "display_data"
    }
   ],
   "source": [
    "# Load the state-based EV sales dataframe\n",
    "state_sales = pd.read_csv(\"../../data/processed/electric_vehicle_sales_by_state.csv\")\n",
    "\n",
    "# Display the first 5 rows to understand the data structure\n",
    "display(state_sales.head())"
   ]
  },
  {
   "cell_type": "code",
   "execution_count": 3,
   "id": "60867a3a",
   "metadata": {},
   "outputs": [
    {
     "data": {
      "text/html": [
       "<div>\n",
       "<style scoped>\n",
       "    .dataframe tbody tr th:only-of-type {\n",
       "        vertical-align: middle;\n",
       "    }\n",
       "\n",
       "    .dataframe tbody tr th {\n",
       "        vertical-align: top;\n",
       "    }\n",
       "\n",
       "    .dataframe thead th {\n",
       "        text-align: right;\n",
       "    }\n",
       "</style>\n",
       "<table border=\"1\" class=\"dataframe\">\n",
       "  <thead>\n",
       "    <tr style=\"text-align: right;\">\n",
       "      <th></th>\n",
       "      <th>date</th>\n",
       "      <th>fiscal_year</th>\n",
       "      <th>quarter</th>\n",
       "    </tr>\n",
       "  </thead>\n",
       "  <tbody>\n",
       "    <tr>\n",
       "      <th>0</th>\n",
       "      <td>01-Apr-21</td>\n",
       "      <td>2022</td>\n",
       "      <td>Q1</td>\n",
       "    </tr>\n",
       "    <tr>\n",
       "      <th>1</th>\n",
       "      <td>01-May-21</td>\n",
       "      <td>2022</td>\n",
       "      <td>Q1</td>\n",
       "    </tr>\n",
       "    <tr>\n",
       "      <th>2</th>\n",
       "      <td>01-Jun-21</td>\n",
       "      <td>2022</td>\n",
       "      <td>Q1</td>\n",
       "    </tr>\n",
       "    <tr>\n",
       "      <th>3</th>\n",
       "      <td>01-Jul-21</td>\n",
       "      <td>2022</td>\n",
       "      <td>Q2</td>\n",
       "    </tr>\n",
       "    <tr>\n",
       "      <th>4</th>\n",
       "      <td>01-Aug-21</td>\n",
       "      <td>2022</td>\n",
       "      <td>Q2</td>\n",
       "    </tr>\n",
       "  </tbody>\n",
       "</table>\n",
       "</div>"
      ],
      "text/plain": [
       "        date  fiscal_year quarter\n",
       "0  01-Apr-21         2022      Q1\n",
       "1  01-May-21         2022      Q1\n",
       "2  01-Jun-21         2022      Q1\n",
       "3  01-Jul-21         2022      Q2\n",
       "4  01-Aug-21         2022      Q2"
      ]
     },
     "metadata": {},
     "output_type": "display_data"
    }
   ],
   "source": [
    "# Load the date dimension table to get fiscal year mapping\n",
    "dim_date = pd.read_csv(\"../../data/raw/dim_date.csv\")\n",
    "\n",
    "# Display the first few rows of the date dimension table\n",
    "display(dim_date.head())"
   ]
  },
  {
   "cell_type": "code",
   "execution_count": 4,
   "id": "756f8e00",
   "metadata": {},
   "outputs": [
    {
     "name": "stdout",
     "output_type": "stream",
     "text": [
      "Merged dataframe shape: (2445, 7)\n"
     ]
    },
    {
     "data": {
      "text/html": [
       "<div>\n",
       "<style scoped>\n",
       "    .dataframe tbody tr th:only-of-type {\n",
       "        vertical-align: middle;\n",
       "    }\n",
       "\n",
       "    .dataframe tbody tr th {\n",
       "        vertical-align: top;\n",
       "    }\n",
       "\n",
       "    .dataframe thead th {\n",
       "        text-align: right;\n",
       "    }\n",
       "</style>\n",
       "<table border=\"1\" class=\"dataframe\">\n",
       "  <thead>\n",
       "    <tr style=\"text-align: right;\">\n",
       "      <th></th>\n",
       "      <th>date</th>\n",
       "      <th>fiscal_year</th>\n",
       "      <th>quarter</th>\n",
       "      <th>state</th>\n",
       "      <th>vehicle_category</th>\n",
       "      <th>electric_vehicles_sold</th>\n",
       "      <th>total_vehicles_sold</th>\n",
       "    </tr>\n",
       "  </thead>\n",
       "  <tbody>\n",
       "    <tr>\n",
       "      <th>0</th>\n",
       "      <td>01-Apr-21</td>\n",
       "      <td>2022</td>\n",
       "      <td>Q1</td>\n",
       "      <td>Sikkim</td>\n",
       "      <td>2-Wheelers</td>\n",
       "      <td>0</td>\n",
       "      <td>398</td>\n",
       "    </tr>\n",
       "    <tr>\n",
       "      <th>1</th>\n",
       "      <td>01-Apr-21</td>\n",
       "      <td>2022</td>\n",
       "      <td>Q1</td>\n",
       "      <td>Sikkim</td>\n",
       "      <td>4-Wheelers</td>\n",
       "      <td>0</td>\n",
       "      <td>361</td>\n",
       "    </tr>\n",
       "    <tr>\n",
       "      <th>2</th>\n",
       "      <td>01-Apr-21</td>\n",
       "      <td>2022</td>\n",
       "      <td>Q1</td>\n",
       "      <td>Andaman &amp; Nicobar Island</td>\n",
       "      <td>2-Wheelers</td>\n",
       "      <td>0</td>\n",
       "      <td>515</td>\n",
       "    </tr>\n",
       "    <tr>\n",
       "      <th>3</th>\n",
       "      <td>01-Apr-21</td>\n",
       "      <td>2022</td>\n",
       "      <td>Q1</td>\n",
       "      <td>Arunachal Pradesh</td>\n",
       "      <td>2-Wheelers</td>\n",
       "      <td>0</td>\n",
       "      <td>1256</td>\n",
       "    </tr>\n",
       "    <tr>\n",
       "      <th>4</th>\n",
       "      <td>01-Apr-21</td>\n",
       "      <td>2022</td>\n",
       "      <td>Q1</td>\n",
       "      <td>Arunachal Pradesh</td>\n",
       "      <td>4-Wheelers</td>\n",
       "      <td>0</td>\n",
       "      <td>724</td>\n",
       "    </tr>\n",
       "  </tbody>\n",
       "</table>\n",
       "</div>"
      ],
      "text/plain": [
       "        date  fiscal_year quarter                     state vehicle_category  \\\n",
       "0  01-Apr-21         2022      Q1                    Sikkim       2-Wheelers   \n",
       "1  01-Apr-21         2022      Q1                    Sikkim       4-Wheelers   \n",
       "2  01-Apr-21         2022      Q1  Andaman & Nicobar Island       2-Wheelers   \n",
       "3  01-Apr-21         2022      Q1         Arunachal Pradesh       2-Wheelers   \n",
       "4  01-Apr-21         2022      Q1         Arunachal Pradesh       4-Wheelers   \n",
       "\n",
       "   electric_vehicles_sold  total_vehicles_sold  \n",
       "0                       0                  398  \n",
       "1                       0                  361  \n",
       "2                       0                  515  \n",
       "3                       0                 1256  \n",
       "4                       0                  724  "
      ]
     },
     "metadata": {},
     "output_type": "display_data"
    },
    {
     "name": "stdout",
     "output_type": "stream",
     "text": [
      "\n",
      "Available fiscal years:\n"
     ]
    },
    {
     "data": {
      "text/plain": [
       "array([2022, 2023, 2024])"
      ]
     },
     "metadata": {},
     "output_type": "display_data"
    },
    {
     "name": "stdout",
     "output_type": "stream",
     "text": [
      "\n",
      "Sample data for fiscal year 2024:\n"
     ]
    },
    {
     "data": {
      "text/html": [
       "<div>\n",
       "<style scoped>\n",
       "    .dataframe tbody tr th:only-of-type {\n",
       "        vertical-align: middle;\n",
       "    }\n",
       "\n",
       "    .dataframe tbody tr th {\n",
       "        vertical-align: top;\n",
       "    }\n",
       "\n",
       "    .dataframe thead th {\n",
       "        text-align: right;\n",
       "    }\n",
       "</style>\n",
       "<table border=\"1\" class=\"dataframe\">\n",
       "  <thead>\n",
       "    <tr style=\"text-align: right;\">\n",
       "      <th></th>\n",
       "      <th>date</th>\n",
       "      <th>fiscal_year</th>\n",
       "      <th>quarter</th>\n",
       "      <th>state</th>\n",
       "      <th>vehicle_category</th>\n",
       "      <th>electric_vehicles_sold</th>\n",
       "      <th>total_vehicles_sold</th>\n",
       "    </tr>\n",
       "  </thead>\n",
       "  <tbody>\n",
       "    <tr>\n",
       "      <th>1631</th>\n",
       "      <td>01-Apr-23</td>\n",
       "      <td>2024</td>\n",
       "      <td>Q1</td>\n",
       "      <td>Sikkim</td>\n",
       "      <td>2-Wheelers</td>\n",
       "      <td>0</td>\n",
       "      <td>465</td>\n",
       "    </tr>\n",
       "    <tr>\n",
       "      <th>1632</th>\n",
       "      <td>01-Apr-23</td>\n",
       "      <td>2024</td>\n",
       "      <td>Q1</td>\n",
       "      <td>Sikkim</td>\n",
       "      <td>4-Wheelers</td>\n",
       "      <td>0</td>\n",
       "      <td>439</td>\n",
       "    </tr>\n",
       "    <tr>\n",
       "      <th>1633</th>\n",
       "      <td>01-Apr-23</td>\n",
       "      <td>2024</td>\n",
       "      <td>Q1</td>\n",
       "      <td>Andaman &amp; Nicobar Island</td>\n",
       "      <td>2-Wheelers</td>\n",
       "      <td>0</td>\n",
       "      <td>325</td>\n",
       "    </tr>\n",
       "    <tr>\n",
       "      <th>1634</th>\n",
       "      <td>01-Apr-23</td>\n",
       "      <td>2024</td>\n",
       "      <td>Q1</td>\n",
       "      <td>Arunachal Pradesh</td>\n",
       "      <td>2-Wheelers</td>\n",
       "      <td>0</td>\n",
       "      <td>971</td>\n",
       "    </tr>\n",
       "    <tr>\n",
       "      <th>1635</th>\n",
       "      <td>01-Apr-23</td>\n",
       "      <td>2024</td>\n",
       "      <td>Q1</td>\n",
       "      <td>Ladakh</td>\n",
       "      <td>2-Wheelers</td>\n",
       "      <td>0</td>\n",
       "      <td>43</td>\n",
       "    </tr>\n",
       "  </tbody>\n",
       "</table>\n",
       "</div>"
      ],
      "text/plain": [
       "           date  fiscal_year quarter                     state  \\\n",
       "1631  01-Apr-23         2024      Q1                    Sikkim   \n",
       "1632  01-Apr-23         2024      Q1                    Sikkim   \n",
       "1633  01-Apr-23         2024      Q1  Andaman & Nicobar Island   \n",
       "1634  01-Apr-23         2024      Q1         Arunachal Pradesh   \n",
       "1635  01-Apr-23         2024      Q1                    Ladakh   \n",
       "\n",
       "     vehicle_category  electric_vehicles_sold  total_vehicles_sold  \n",
       "1631       2-Wheelers                       0                  465  \n",
       "1632       4-Wheelers                       0                  439  \n",
       "1633       2-Wheelers                       0                  325  \n",
       "1634       2-Wheelers                       0                  971  \n",
       "1635       2-Wheelers                       0                   43  "
      ]
     },
     "metadata": {},
     "output_type": "display_data"
    }
   ],
   "source": [
    "# Merge the sales data with the date dimension to map dates to fiscal years\n",
    "merge_df = pd.merge(dim_date, state_sales, on=\"date\", how='left')\n",
    "\n",
    "# Display the merged dataframe\n",
    "print(f\"Merged dataframe shape: {merge_df.shape}\")\n",
    "display(merge_df.head())\n",
    "\n",
    "# Check available fiscal years\n",
    "print(\"\\nAvailable fiscal years:\")\n",
    "display(merge_df['fiscal_year'].unique())\n",
    "\n",
    "# Display sample data for fiscal year 2024\n",
    "print(\"\\nSample data for fiscal year 2024:\")\n",
    "display(merge_df[merge_df['fiscal_year'] == 2024].head())"
   ]
  },
  {
   "cell_type": "code",
   "execution_count": 5,
   "id": "526a0743",
   "metadata": {},
   "outputs": [
    {
     "name": "stdout",
     "output_type": "stream",
     "text": [
      "Filtered data shape: (1629, 7)\n",
      "\n",
      "Filtered data summary:\n"
     ]
    },
    {
     "data": {
      "text/html": [
       "<div>\n",
       "<style scoped>\n",
       "    .dataframe tbody tr th:only-of-type {\n",
       "        vertical-align: middle;\n",
       "    }\n",
       "\n",
       "    .dataframe tbody tr th {\n",
       "        vertical-align: top;\n",
       "    }\n",
       "\n",
       "    .dataframe thead th {\n",
       "        text-align: right;\n",
       "    }\n",
       "</style>\n",
       "<table border=\"1\" class=\"dataframe\">\n",
       "  <thead>\n",
       "    <tr style=\"text-align: right;\">\n",
       "      <th></th>\n",
       "      <th>fiscal_year</th>\n",
       "      <th>electric_vehicles_sold</th>\n",
       "      <th>total_vehicles_sold</th>\n",
       "    </tr>\n",
       "  </thead>\n",
       "  <tbody>\n",
       "    <tr>\n",
       "      <th>count</th>\n",
       "      <td>1629.000000</td>\n",
       "      <td>1629.000000</td>\n",
       "      <td>1629.000000</td>\n",
       "    </tr>\n",
       "    <tr>\n",
       "      <th>mean</th>\n",
       "      <td>2022.999386</td>\n",
       "      <td>792.352977</td>\n",
       "      <td>23081.076120</td>\n",
       "    </tr>\n",
       "    <tr>\n",
       "      <th>std</th>\n",
       "      <td>1.000307</td>\n",
       "      <td>2190.583536</td>\n",
       "      <td>38342.787424</td>\n",
       "    </tr>\n",
       "    <tr>\n",
       "      <th>min</th>\n",
       "      <td>2022.000000</td>\n",
       "      <td>0.000000</td>\n",
       "      <td>1.000000</td>\n",
       "    </tr>\n",
       "    <tr>\n",
       "      <th>25%</th>\n",
       "      <td>2022.000000</td>\n",
       "      <td>2.000000</td>\n",
       "      <td>1117.000000</td>\n",
       "    </tr>\n",
       "    <tr>\n",
       "      <th>50%</th>\n",
       "      <td>2022.000000</td>\n",
       "      <td>51.000000</td>\n",
       "      <td>5873.000000</td>\n",
       "    </tr>\n",
       "    <tr>\n",
       "      <th>75%</th>\n",
       "      <td>2024.000000</td>\n",
       "      <td>493.000000</td>\n",
       "      <td>28753.000000</td>\n",
       "    </tr>\n",
       "    <tr>\n",
       "      <th>max</th>\n",
       "      <td>2024.000000</td>\n",
       "      <td>26668.000000</td>\n",
       "      <td>387983.000000</td>\n",
       "    </tr>\n",
       "  </tbody>\n",
       "</table>\n",
       "</div>"
      ],
      "text/plain": [
       "       fiscal_year  electric_vehicles_sold  total_vehicles_sold\n",
       "count  1629.000000             1629.000000          1629.000000\n",
       "mean   2022.999386              792.352977         23081.076120\n",
       "std       1.000307             2190.583536         38342.787424\n",
       "min    2022.000000                0.000000             1.000000\n",
       "25%    2022.000000                2.000000          1117.000000\n",
       "50%    2022.000000               51.000000          5873.000000\n",
       "75%    2024.000000              493.000000         28753.000000\n",
       "max    2024.000000            26668.000000        387983.000000"
      ]
     },
     "metadata": {},
     "output_type": "display_data"
    },
    {
     "data": {
      "text/html": [
       "<div>\n",
       "<style scoped>\n",
       "    .dataframe tbody tr th:only-of-type {\n",
       "        vertical-align: middle;\n",
       "    }\n",
       "\n",
       "    .dataframe tbody tr th {\n",
       "        vertical-align: top;\n",
       "    }\n",
       "\n",
       "    .dataframe thead th {\n",
       "        text-align: right;\n",
       "    }\n",
       "</style>\n",
       "<table border=\"1\" class=\"dataframe\">\n",
       "  <thead>\n",
       "    <tr style=\"text-align: right;\">\n",
       "      <th></th>\n",
       "      <th>date</th>\n",
       "      <th>fiscal_year</th>\n",
       "      <th>quarter</th>\n",
       "      <th>state</th>\n",
       "      <th>vehicle_category</th>\n",
       "      <th>electric_vehicles_sold</th>\n",
       "      <th>total_vehicles_sold</th>\n",
       "    </tr>\n",
       "  </thead>\n",
       "  <tbody>\n",
       "    <tr>\n",
       "      <th>0</th>\n",
       "      <td>01-Apr-21</td>\n",
       "      <td>2022</td>\n",
       "      <td>Q1</td>\n",
       "      <td>Sikkim</td>\n",
       "      <td>2-Wheelers</td>\n",
       "      <td>0</td>\n",
       "      <td>398</td>\n",
       "    </tr>\n",
       "    <tr>\n",
       "      <th>1</th>\n",
       "      <td>01-Apr-21</td>\n",
       "      <td>2022</td>\n",
       "      <td>Q1</td>\n",
       "      <td>Sikkim</td>\n",
       "      <td>4-Wheelers</td>\n",
       "      <td>0</td>\n",
       "      <td>361</td>\n",
       "    </tr>\n",
       "    <tr>\n",
       "      <th>2</th>\n",
       "      <td>01-Apr-21</td>\n",
       "      <td>2022</td>\n",
       "      <td>Q1</td>\n",
       "      <td>Andaman &amp; Nicobar Island</td>\n",
       "      <td>2-Wheelers</td>\n",
       "      <td>0</td>\n",
       "      <td>515</td>\n",
       "    </tr>\n",
       "    <tr>\n",
       "      <th>3</th>\n",
       "      <td>01-Apr-21</td>\n",
       "      <td>2022</td>\n",
       "      <td>Q1</td>\n",
       "      <td>Arunachal Pradesh</td>\n",
       "      <td>2-Wheelers</td>\n",
       "      <td>0</td>\n",
       "      <td>1256</td>\n",
       "    </tr>\n",
       "    <tr>\n",
       "      <th>4</th>\n",
       "      <td>01-Apr-21</td>\n",
       "      <td>2022</td>\n",
       "      <td>Q1</td>\n",
       "      <td>Arunachal Pradesh</td>\n",
       "      <td>4-Wheelers</td>\n",
       "      <td>0</td>\n",
       "      <td>724</td>\n",
       "    </tr>\n",
       "  </tbody>\n",
       "</table>\n",
       "</div>"
      ],
      "text/plain": [
       "        date  fiscal_year quarter                     state vehicle_category  \\\n",
       "0  01-Apr-21         2022      Q1                    Sikkim       2-Wheelers   \n",
       "1  01-Apr-21         2022      Q1                    Sikkim       4-Wheelers   \n",
       "2  01-Apr-21         2022      Q1  Andaman & Nicobar Island       2-Wheelers   \n",
       "3  01-Apr-21         2022      Q1         Arunachal Pradesh       2-Wheelers   \n",
       "4  01-Apr-21         2022      Q1         Arunachal Pradesh       4-Wheelers   \n",
       "\n",
       "   electric_vehicles_sold  total_vehicles_sold  \n",
       "0                       0                  398  \n",
       "1                       0                  361  \n",
       "2                       0                  515  \n",
       "3                       0                 1256  \n",
       "4                       0                  724  "
      ]
     },
     "metadata": {},
     "output_type": "display_data"
    },
    {
     "name": "stdout",
     "output_type": "stream",
     "text": [
      "\n",
      "Fiscal years in filtered data: [2022 2024]\n"
     ]
    }
   ],
   "source": [
    "# Filter data for fiscal years 2022 and 2024 for CAGR calculation\n",
    "state_sales_filtered = merge_df.loc[merge_df['fiscal_year'].isin([2022, 2024])]\n",
    "\n",
    "# Display basic statistics of the filtered data\n",
    "print(f\"Filtered data shape: {state_sales_filtered.shape}\")\n",
    "print(\"\\nFiltered data summary:\")\n",
    "display(state_sales_filtered.describe())\n",
    "\n",
    "# Display the first few rows of the filtered data\n",
    "display(state_sales_filtered.head())\n",
    "\n",
    "# Verify the fiscal years in the filtered data\n",
    "fiscal_years = state_sales_filtered['fiscal_year'].unique()\n",
    "print(f\"\\nFiscal years in filtered data: {fiscal_years}\")"
   ]
  },
  {
   "cell_type": "code",
   "execution_count": 6,
   "id": "691b1743",
   "metadata": {},
   "outputs": [
    {
     "name": "stdout",
     "output_type": "stream",
     "text": [
      "Number of unique states after cleaning: 34\n"
     ]
    },
    {
     "name": "stderr",
     "output_type": "stream",
     "text": [
      "/tmp/ipykernel_108176/272554462.py:2: SettingWithCopyWarning: \n",
      "A value is trying to be set on a copy of a slice from a DataFrame.\n",
      "Try using .loc[row_indexer,col_indexer] = value instead\n",
      "\n",
      "See the caveats in the documentation: https://pandas.pydata.org/pandas-docs/stable/user_guide/indexing.html#returning-a-view-versus-a-copy\n",
      "  state_sales_filtered['state'] = state_sales_filtered['state'].replace({\n"
     ]
    },
    {
     "data": {
      "text/plain": [
       "array(['Sikkim', 'Andaman & Nicobar', 'Arunachal Pradesh', 'Assam',\n",
       "       'Chhattisgarh', 'DNH and DD', 'Jammu and Kashmir', 'Ladakh',\n",
       "       'Manipur', 'Meghalaya', 'Mizoram', 'Nagaland', 'Puducherry',\n",
       "       'Tripura', 'Himachal Pradesh', 'Andhra Pradesh', 'Bihar',\n",
       "       'Chandigarh', 'Delhi', 'Goa', 'Gujarat', 'Haryana', 'Jharkhand',\n",
       "       'Karnataka', 'Kerala', 'Madhya Pradesh', 'Maharashtra', 'Odisha',\n",
       "       'Punjab', 'Rajasthan', 'Tamil Nadu', 'Uttar Pradesh',\n",
       "       'Uttarakhand', 'West Bengal'], dtype=object)"
      ]
     },
     "metadata": {},
     "output_type": "display_data"
    }
   ],
   "source": [
    "# Clean state names for consistency\n",
    "state_sales_filtered['state'] = state_sales_filtered['state'].replace({\n",
    "  'Andaman & Nicobar Island': 'Andaman & Nicobar'\n",
    "})\n",
    "\n",
    "# Check unique states after cleaning\n",
    "print(f\"Number of unique states after cleaning: {state_sales_filtered['state'].nunique()}\")\n",
    "display(state_sales_filtered['state'].unique())"
   ]
  },
  {
   "cell_type": "code",
   "execution_count": 7,
   "id": "2d81b6cd",
   "metadata": {},
   "outputs": [
    {
     "name": "stdout",
     "output_type": "stream",
     "text": [
      "Aggregating total vehicle sales by state and fiscal year...\n"
     ]
    },
    {
     "data": {
      "text/html": [
       "<div>\n",
       "<style scoped>\n",
       "    .dataframe tbody tr th:only-of-type {\n",
       "        vertical-align: middle;\n",
       "    }\n",
       "\n",
       "    .dataframe tbody tr th {\n",
       "        vertical-align: top;\n",
       "    }\n",
       "\n",
       "    .dataframe thead th {\n",
       "        text-align: right;\n",
       "    }\n",
       "</style>\n",
       "<table border=\"1\" class=\"dataframe\">\n",
       "  <thead>\n",
       "    <tr style=\"text-align: right;\">\n",
       "      <th></th>\n",
       "      <th>state</th>\n",
       "      <th>fiscal_year</th>\n",
       "      <th>total_vehicles_sold</th>\n",
       "    </tr>\n",
       "  </thead>\n",
       "  <tbody>\n",
       "    <tr>\n",
       "      <th>0</th>\n",
       "      <td>Andaman &amp; Nicobar</td>\n",
       "      <td>2022</td>\n",
       "      <td>5148</td>\n",
       "    </tr>\n",
       "    <tr>\n",
       "      <th>1</th>\n",
       "      <td>Andaman &amp; Nicobar</td>\n",
       "      <td>2024</td>\n",
       "      <td>7203</td>\n",
       "    </tr>\n",
       "    <tr>\n",
       "      <th>2</th>\n",
       "      <td>Andhra Pradesh</td>\n",
       "      <td>2022</td>\n",
       "      <td>772748</td>\n",
       "    </tr>\n",
       "    <tr>\n",
       "      <th>3</th>\n",
       "      <td>Andhra Pradesh</td>\n",
       "      <td>2024</td>\n",
       "      <td>782865</td>\n",
       "    </tr>\n",
       "    <tr>\n",
       "      <th>4</th>\n",
       "      <td>Arunachal Pradesh</td>\n",
       "      <td>2022</td>\n",
       "      <td>19929</td>\n",
       "    </tr>\n",
       "    <tr>\n",
       "      <th>5</th>\n",
       "      <td>Arunachal Pradesh</td>\n",
       "      <td>2024</td>\n",
       "      <td>27892</td>\n",
       "    </tr>\n",
       "    <tr>\n",
       "      <th>6</th>\n",
       "      <td>Assam</td>\n",
       "      <td>2022</td>\n",
       "      <td>379450</td>\n",
       "    </tr>\n",
       "    <tr>\n",
       "      <th>7</th>\n",
       "      <td>Assam</td>\n",
       "      <td>2024</td>\n",
       "      <td>547626</td>\n",
       "    </tr>\n",
       "    <tr>\n",
       "      <th>8</th>\n",
       "      <td>Bihar</td>\n",
       "      <td>2022</td>\n",
       "      <td>892873</td>\n",
       "    </tr>\n",
       "    <tr>\n",
       "      <th>9</th>\n",
       "      <td>Bihar</td>\n",
       "      <td>2024</td>\n",
       "      <td>1132703</td>\n",
       "    </tr>\n",
       "  </tbody>\n",
       "</table>\n",
       "</div>"
      ],
      "text/plain": [
       "               state  fiscal_year  total_vehicles_sold\n",
       "0  Andaman & Nicobar         2022                 5148\n",
       "1  Andaman & Nicobar         2024                 7203\n",
       "2     Andhra Pradesh         2022               772748\n",
       "3     Andhra Pradesh         2024               782865\n",
       "4  Arunachal Pradesh         2022                19929\n",
       "5  Arunachal Pradesh         2024                27892\n",
       "6              Assam         2022               379450\n",
       "7              Assam         2024               547626\n",
       "8              Bihar         2022               892873\n",
       "9              Bihar         2024              1132703"
      ]
     },
     "metadata": {},
     "output_type": "display_data"
    },
    {
     "name": "stdout",
     "output_type": "stream",
     "text": [
      "Grouped data shape: (68, 3)\n",
      "NaN values in grouped data: state                  0\n",
      "fiscal_year            0\n",
      "total_vehicles_sold    0\n",
      "dtype: int64\n"
     ]
    }
   ],
   "source": [
    "# Aggregate Sales by state and fiscal year\n",
    "print(\"Aggregating total vehicle sales by state and fiscal year...\")\n",
    "state_sales_grouped = (\n",
    "  state_sales_filtered.groupby(['state', 'fiscal_year'], as_index=False)['total_vehicles_sold'].sum()\n",
    ")\n",
    "\n",
    "# Display the grouped data\n",
    "display(state_sales_grouped.head(10))\n",
    "print(f\"Grouped data shape: {state_sales_grouped.shape}\")\n",
    "\n",
    "# Check if any NaN values exist in the grouped data\n",
    "print(f\"NaN values in grouped data: {state_sales_grouped.isna().sum()}\")"
   ]
  },
  {
   "cell_type": "code",
   "execution_count": 8,
   "id": "b516bbaa",
   "metadata": {},
   "outputs": [
    {
     "name": "stdout",
     "output_type": "stream",
     "text": [
      "Creating pivot table with states as rows and fiscal years as columns...\n"
     ]
    },
    {
     "data": {
      "text/html": [
       "<div>\n",
       "<style scoped>\n",
       "    .dataframe tbody tr th:only-of-type {\n",
       "        vertical-align: middle;\n",
       "    }\n",
       "\n",
       "    .dataframe tbody tr th {\n",
       "        vertical-align: top;\n",
       "    }\n",
       "\n",
       "    .dataframe thead th {\n",
       "        text-align: right;\n",
       "    }\n",
       "</style>\n",
       "<table border=\"1\" class=\"dataframe\">\n",
       "  <thead>\n",
       "    <tr style=\"text-align: right;\">\n",
       "      <th>fiscal_year</th>\n",
       "      <th>state</th>\n",
       "      <th>sales_2022</th>\n",
       "      <th>sales_2024</th>\n",
       "    </tr>\n",
       "  </thead>\n",
       "  <tbody>\n",
       "    <tr>\n",
       "      <th>0</th>\n",
       "      <td>Andaman &amp; Nicobar</td>\n",
       "      <td>5148</td>\n",
       "      <td>7203</td>\n",
       "    </tr>\n",
       "    <tr>\n",
       "      <th>1</th>\n",
       "      <td>Andhra Pradesh</td>\n",
       "      <td>772748</td>\n",
       "      <td>782865</td>\n",
       "    </tr>\n",
       "    <tr>\n",
       "      <th>2</th>\n",
       "      <td>Arunachal Pradesh</td>\n",
       "      <td>19929</td>\n",
       "      <td>27892</td>\n",
       "    </tr>\n",
       "    <tr>\n",
       "      <th>3</th>\n",
       "      <td>Assam</td>\n",
       "      <td>379450</td>\n",
       "      <td>547626</td>\n",
       "    </tr>\n",
       "    <tr>\n",
       "      <th>4</th>\n",
       "      <td>Bihar</td>\n",
       "      <td>892873</td>\n",
       "      <td>1132703</td>\n",
       "    </tr>\n",
       "  </tbody>\n",
       "</table>\n",
       "</div>"
      ],
      "text/plain": [
       "fiscal_year              state  sales_2022  sales_2024\n",
       "0            Andaman & Nicobar        5148        7203\n",
       "1               Andhra Pradesh      772748      782865\n",
       "2            Arunachal Pradesh       19929       27892\n",
       "3                        Assam      379450      547626\n",
       "4                        Bihar      892873     1132703"
      ]
     },
     "metadata": {},
     "output_type": "display_data"
    },
    {
     "name": "stdout",
     "output_type": "stream",
     "text": [
      "\n",
      "Missing values in pivot table:\n"
     ]
    },
    {
     "data": {
      "text/plain": [
       "fiscal_year\n",
       "state         0\n",
       "sales_2022    0\n",
       "sales_2024    0\n",
       "dtype: int64"
      ]
     },
     "metadata": {},
     "output_type": "display_data"
    }
   ],
   "source": [
    "# Create pivot table for easier CAGR calculation\n",
    "print(\"Creating pivot table with states as rows and fiscal years as columns...\")\n",
    "state_sales_pivot = (\n",
    "    state_sales_grouped.pivot(\n",
    "      index='state',\n",
    "      columns='fiscal_year',\n",
    "      values='total_vehicles_sold'\n",
    "    )\n",
    "    .rename(columns={2022: 'sales_2022', 2024: 'sales_2024'})\n",
    "    .reset_index()\n",
    ")\n",
    "\n",
    "# Display the pivot table\n",
    "display(state_sales_pivot.head())\n",
    "\n",
    "# Check for missing values in the pivot table\n",
    "print(f\"\\nMissing values in pivot table:\")\n",
    "display(state_sales_pivot.isna().sum())"
   ]
  },
  {
   "cell_type": "code",
   "execution_count": 9,
   "id": "6283071e",
   "metadata": {},
   "outputs": [
    {
     "name": "stdout",
     "output_type": "stream",
     "text": [
      "Calculating CAGR for each state...\n"
     ]
    },
    {
     "data": {
      "text/html": [
       "<div>\n",
       "<style scoped>\n",
       "    .dataframe tbody tr th:only-of-type {\n",
       "        vertical-align: middle;\n",
       "    }\n",
       "\n",
       "    .dataframe tbody tr th {\n",
       "        vertical-align: top;\n",
       "    }\n",
       "\n",
       "    .dataframe thead th {\n",
       "        text-align: right;\n",
       "    }\n",
       "</style>\n",
       "<table border=\"1\" class=\"dataframe\">\n",
       "  <thead>\n",
       "    <tr style=\"text-align: right;\">\n",
       "      <th>fiscal_year</th>\n",
       "      <th>state</th>\n",
       "      <th>sales_2022</th>\n",
       "      <th>sales_2024</th>\n",
       "      <th>CAGR</th>\n",
       "    </tr>\n",
       "  </thead>\n",
       "  <tbody>\n",
       "    <tr>\n",
       "      <th>0</th>\n",
       "      <td>Andaman &amp; Nicobar</td>\n",
       "      <td>5148</td>\n",
       "      <td>7203</td>\n",
       "      <td>18.287115</td>\n",
       "    </tr>\n",
       "    <tr>\n",
       "      <th>1</th>\n",
       "      <td>Andhra Pradesh</td>\n",
       "      <td>772748</td>\n",
       "      <td>782865</td>\n",
       "      <td>0.652483</td>\n",
       "    </tr>\n",
       "    <tr>\n",
       "      <th>2</th>\n",
       "      <td>Arunachal Pradesh</td>\n",
       "      <td>19929</td>\n",
       "      <td>27892</td>\n",
       "      <td>18.303359</td>\n",
       "    </tr>\n",
       "    <tr>\n",
       "      <th>3</th>\n",
       "      <td>Assam</td>\n",
       "      <td>379450</td>\n",
       "      <td>547626</td>\n",
       "      <td>20.133672</td>\n",
       "    </tr>\n",
       "    <tr>\n",
       "      <th>4</th>\n",
       "      <td>Bihar</td>\n",
       "      <td>892873</td>\n",
       "      <td>1132703</td>\n",
       "      <td>12.632359</td>\n",
       "    </tr>\n",
       "  </tbody>\n",
       "</table>\n",
       "</div>"
      ],
      "text/plain": [
       "fiscal_year              state  sales_2022  sales_2024       CAGR\n",
       "0            Andaman & Nicobar        5148        7203  18.287115\n",
       "1               Andhra Pradesh      772748      782865   0.652483\n",
       "2            Arunachal Pradesh       19929       27892  18.303359\n",
       "3                        Assam      379450      547626  20.133672\n",
       "4                        Bihar      892873     1132703  12.632359"
      ]
     },
     "metadata": {},
     "output_type": "display_data"
    },
    {
     "name": "stdout",
     "output_type": "stream",
     "text": [
      "\n",
      "CAGR Summary Statistics:\n"
     ]
    },
    {
     "data": {
      "text/plain": [
       "count    34.000000\n",
       "mean     12.896031\n",
       "std      10.322486\n",
       "min     -28.593061\n",
       "25%       9.282835\n",
       "50%      14.381924\n",
       "75%      18.299298\n",
       "max      28.469075\n",
       "Name: CAGR, dtype: float64"
      ]
     },
     "metadata": {},
     "output_type": "display_data"
    },
    {
     "data": {
      "application/vnd.plotly.v1+json": {
       "config": {
        "plotlyServerURL": "https://plot.ly"
       },
       "data": [
        {
         "bingroup": "x",
         "hovertemplate": "CAGR (%)=%{x}<br>count=%{y}<extra></extra>",
         "legendgroup": "",
         "marker": {
          "color": "skyblue",
          "pattern": {
           "shape": ""
          }
         },
         "name": "",
         "nbinsx": 20,
         "orientation": "v",
         "showlegend": false,
         "type": "histogram",
         "x": {
          "bdata": "Pwp5WIBJMkBoz5VoJOHkP4USgOqoTTJAxRACUDgiNECMQFiPxEMpQJh8d5/SDyVA6FiFlecRK0C8tgI59OItQO3SJ5dk4jZAo1M8oQJpO0AcbRt/sYs0QHV9beowrjFASMB5i89PIkC4J0xYhgMAQBH2dR7QUyNANfKc15hIOUAQxdqY+G0OwNXVzK1oxxNAR6mxqeiiLkBtDDYE4U4xQPyYWNPSlzzAdBbZRxV4PEDUbTyDh8UyQIGsrpQU1S1AFSuFEEwTK0DEl6Z2RM8vQL7nKqICsitAKRHWUFR/NUDyp72bK3UhQNbDGTlf9ylA+uve9bLjJUDc09PO4LggQIyW6gVQ8C9Atp162LXcFkA=",
          "dtype": "f8"
         },
         "xaxis": "x",
         "yaxis": "y"
        }
       ],
       "layout": {
        "annotations": [
         {
          "showarrow": false,
          "text": "Median",
          "x": 14.381924492864584,
          "xanchor": "left",
          "xref": "x",
          "y": 1,
          "yanchor": "top",
          "yref": "y domain"
         }
        ],
        "bargap": 0.1,
        "barmode": "relative",
        "legend": {
         "tracegroupgap": 0
        },
        "shapes": [
         {
          "line": {
           "color": "red",
           "dash": "dash"
          },
          "type": "line",
          "x0": 14.381924492864584,
          "x1": 14.381924492864584,
          "xref": "x",
          "y0": 0,
          "y1": 1,
          "yref": "y domain"
         }
        ],
        "template": {
         "data": {
          "bar": [
           {
            "error_x": {
             "color": "#2a3f5f"
            },
            "error_y": {
             "color": "#2a3f5f"
            },
            "marker": {
             "line": {
              "color": "#E5ECF6",
              "width": 0.5
             },
             "pattern": {
              "fillmode": "overlay",
              "size": 10,
              "solidity": 0.2
             }
            },
            "type": "bar"
           }
          ],
          "barpolar": [
           {
            "marker": {
             "line": {
              "color": "#E5ECF6",
              "width": 0.5
             },
             "pattern": {
              "fillmode": "overlay",
              "size": 10,
              "solidity": 0.2
             }
            },
            "type": "barpolar"
           }
          ],
          "carpet": [
           {
            "aaxis": {
             "endlinecolor": "#2a3f5f",
             "gridcolor": "white",
             "linecolor": "white",
             "minorgridcolor": "white",
             "startlinecolor": "#2a3f5f"
            },
            "baxis": {
             "endlinecolor": "#2a3f5f",
             "gridcolor": "white",
             "linecolor": "white",
             "minorgridcolor": "white",
             "startlinecolor": "#2a3f5f"
            },
            "type": "carpet"
           }
          ],
          "choropleth": [
           {
            "colorbar": {
             "outlinewidth": 0,
             "ticks": ""
            },
            "type": "choropleth"
           }
          ],
          "contour": [
           {
            "colorbar": {
             "outlinewidth": 0,
             "ticks": ""
            },
            "colorscale": [
             [
              0,
              "#0d0887"
             ],
             [
              0.1111111111111111,
              "#46039f"
             ],
             [
              0.2222222222222222,
              "#7201a8"
             ],
             [
              0.3333333333333333,
              "#9c179e"
             ],
             [
              0.4444444444444444,
              "#bd3786"
             ],
             [
              0.5555555555555556,
              "#d8576b"
             ],
             [
              0.6666666666666666,
              "#ed7953"
             ],
             [
              0.7777777777777778,
              "#fb9f3a"
             ],
             [
              0.8888888888888888,
              "#fdca26"
             ],
             [
              1,
              "#f0f921"
             ]
            ],
            "type": "contour"
           }
          ],
          "contourcarpet": [
           {
            "colorbar": {
             "outlinewidth": 0,
             "ticks": ""
            },
            "type": "contourcarpet"
           }
          ],
          "heatmap": [
           {
            "colorbar": {
             "outlinewidth": 0,
             "ticks": ""
            },
            "colorscale": [
             [
              0,
              "#0d0887"
             ],
             [
              0.1111111111111111,
              "#46039f"
             ],
             [
              0.2222222222222222,
              "#7201a8"
             ],
             [
              0.3333333333333333,
              "#9c179e"
             ],
             [
              0.4444444444444444,
              "#bd3786"
             ],
             [
              0.5555555555555556,
              "#d8576b"
             ],
             [
              0.6666666666666666,
              "#ed7953"
             ],
             [
              0.7777777777777778,
              "#fb9f3a"
             ],
             [
              0.8888888888888888,
              "#fdca26"
             ],
             [
              1,
              "#f0f921"
             ]
            ],
            "type": "heatmap"
           }
          ],
          "histogram": [
           {
            "marker": {
             "pattern": {
              "fillmode": "overlay",
              "size": 10,
              "solidity": 0.2
             }
            },
            "type": "histogram"
           }
          ],
          "histogram2d": [
           {
            "colorbar": {
             "outlinewidth": 0,
             "ticks": ""
            },
            "colorscale": [
             [
              0,
              "#0d0887"
             ],
             [
              0.1111111111111111,
              "#46039f"
             ],
             [
              0.2222222222222222,
              "#7201a8"
             ],
             [
              0.3333333333333333,
              "#9c179e"
             ],
             [
              0.4444444444444444,
              "#bd3786"
             ],
             [
              0.5555555555555556,
              "#d8576b"
             ],
             [
              0.6666666666666666,
              "#ed7953"
             ],
             [
              0.7777777777777778,
              "#fb9f3a"
             ],
             [
              0.8888888888888888,
              "#fdca26"
             ],
             [
              1,
              "#f0f921"
             ]
            ],
            "type": "histogram2d"
           }
          ],
          "histogram2dcontour": [
           {
            "colorbar": {
             "outlinewidth": 0,
             "ticks": ""
            },
            "colorscale": [
             [
              0,
              "#0d0887"
             ],
             [
              0.1111111111111111,
              "#46039f"
             ],
             [
              0.2222222222222222,
              "#7201a8"
             ],
             [
              0.3333333333333333,
              "#9c179e"
             ],
             [
              0.4444444444444444,
              "#bd3786"
             ],
             [
              0.5555555555555556,
              "#d8576b"
             ],
             [
              0.6666666666666666,
              "#ed7953"
             ],
             [
              0.7777777777777778,
              "#fb9f3a"
             ],
             [
              0.8888888888888888,
              "#fdca26"
             ],
             [
              1,
              "#f0f921"
             ]
            ],
            "type": "histogram2dcontour"
           }
          ],
          "mesh3d": [
           {
            "colorbar": {
             "outlinewidth": 0,
             "ticks": ""
            },
            "type": "mesh3d"
           }
          ],
          "parcoords": [
           {
            "line": {
             "colorbar": {
              "outlinewidth": 0,
              "ticks": ""
             }
            },
            "type": "parcoords"
           }
          ],
          "pie": [
           {
            "automargin": true,
            "type": "pie"
           }
          ],
          "scatter": [
           {
            "fillpattern": {
             "fillmode": "overlay",
             "size": 10,
             "solidity": 0.2
            },
            "type": "scatter"
           }
          ],
          "scatter3d": [
           {
            "line": {
             "colorbar": {
              "outlinewidth": 0,
              "ticks": ""
             }
            },
            "marker": {
             "colorbar": {
              "outlinewidth": 0,
              "ticks": ""
             }
            },
            "type": "scatter3d"
           }
          ],
          "scattercarpet": [
           {
            "marker": {
             "colorbar": {
              "outlinewidth": 0,
              "ticks": ""
             }
            },
            "type": "scattercarpet"
           }
          ],
          "scattergeo": [
           {
            "marker": {
             "colorbar": {
              "outlinewidth": 0,
              "ticks": ""
             }
            },
            "type": "scattergeo"
           }
          ],
          "scattergl": [
           {
            "marker": {
             "colorbar": {
              "outlinewidth": 0,
              "ticks": ""
             }
            },
            "type": "scattergl"
           }
          ],
          "scattermap": [
           {
            "marker": {
             "colorbar": {
              "outlinewidth": 0,
              "ticks": ""
             }
            },
            "type": "scattermap"
           }
          ],
          "scattermapbox": [
           {
            "marker": {
             "colorbar": {
              "outlinewidth": 0,
              "ticks": ""
             }
            },
            "type": "scattermapbox"
           }
          ],
          "scatterpolar": [
           {
            "marker": {
             "colorbar": {
              "outlinewidth": 0,
              "ticks": ""
             }
            },
            "type": "scatterpolar"
           }
          ],
          "scatterpolargl": [
           {
            "marker": {
             "colorbar": {
              "outlinewidth": 0,
              "ticks": ""
             }
            },
            "type": "scatterpolargl"
           }
          ],
          "scatterternary": [
           {
            "marker": {
             "colorbar": {
              "outlinewidth": 0,
              "ticks": ""
             }
            },
            "type": "scatterternary"
           }
          ],
          "surface": [
           {
            "colorbar": {
             "outlinewidth": 0,
             "ticks": ""
            },
            "colorscale": [
             [
              0,
              "#0d0887"
             ],
             [
              0.1111111111111111,
              "#46039f"
             ],
             [
              0.2222222222222222,
              "#7201a8"
             ],
             [
              0.3333333333333333,
              "#9c179e"
             ],
             [
              0.4444444444444444,
              "#bd3786"
             ],
             [
              0.5555555555555556,
              "#d8576b"
             ],
             [
              0.6666666666666666,
              "#ed7953"
             ],
             [
              0.7777777777777778,
              "#fb9f3a"
             ],
             [
              0.8888888888888888,
              "#fdca26"
             ],
             [
              1,
              "#f0f921"
             ]
            ],
            "type": "surface"
           }
          ],
          "table": [
           {
            "cells": {
             "fill": {
              "color": "#EBF0F8"
             },
             "line": {
              "color": "white"
             }
            },
            "header": {
             "fill": {
              "color": "#C8D4E3"
             },
             "line": {
              "color": "white"
             }
            },
            "type": "table"
           }
          ]
         },
         "layout": {
          "annotationdefaults": {
           "arrowcolor": "#2a3f5f",
           "arrowhead": 0,
           "arrowwidth": 1
          },
          "autotypenumbers": "strict",
          "coloraxis": {
           "colorbar": {
            "outlinewidth": 0,
            "ticks": ""
           }
          },
          "colorscale": {
           "diverging": [
            [
             0,
             "#8e0152"
            ],
            [
             0.1,
             "#c51b7d"
            ],
            [
             0.2,
             "#de77ae"
            ],
            [
             0.3,
             "#f1b6da"
            ],
            [
             0.4,
             "#fde0ef"
            ],
            [
             0.5,
             "#f7f7f7"
            ],
            [
             0.6,
             "#e6f5d0"
            ],
            [
             0.7,
             "#b8e186"
            ],
            [
             0.8,
             "#7fbc41"
            ],
            [
             0.9,
             "#4d9221"
            ],
            [
             1,
             "#276419"
            ]
           ],
           "sequential": [
            [
             0,
             "#0d0887"
            ],
            [
             0.1111111111111111,
             "#46039f"
            ],
            [
             0.2222222222222222,
             "#7201a8"
            ],
            [
             0.3333333333333333,
             "#9c179e"
            ],
            [
             0.4444444444444444,
             "#bd3786"
            ],
            [
             0.5555555555555556,
             "#d8576b"
            ],
            [
             0.6666666666666666,
             "#ed7953"
            ],
            [
             0.7777777777777778,
             "#fb9f3a"
            ],
            [
             0.8888888888888888,
             "#fdca26"
            ],
            [
             1,
             "#f0f921"
            ]
           ],
           "sequentialminus": [
            [
             0,
             "#0d0887"
            ],
            [
             0.1111111111111111,
             "#46039f"
            ],
            [
             0.2222222222222222,
             "#7201a8"
            ],
            [
             0.3333333333333333,
             "#9c179e"
            ],
            [
             0.4444444444444444,
             "#bd3786"
            ],
            [
             0.5555555555555556,
             "#d8576b"
            ],
            [
             0.6666666666666666,
             "#ed7953"
            ],
            [
             0.7777777777777778,
             "#fb9f3a"
            ],
            [
             0.8888888888888888,
             "#fdca26"
            ],
            [
             1,
             "#f0f921"
            ]
           ]
          },
          "colorway": [
           "#636efa",
           "#EF553B",
           "#00cc96",
           "#ab63fa",
           "#FFA15A",
           "#19d3f3",
           "#FF6692",
           "#B6E880",
           "#FF97FF",
           "#FECB52"
          ],
          "font": {
           "color": "#2a3f5f"
          },
          "geo": {
           "bgcolor": "white",
           "lakecolor": "white",
           "landcolor": "#E5ECF6",
           "showlakes": true,
           "showland": true,
           "subunitcolor": "white"
          },
          "hoverlabel": {
           "align": "left"
          },
          "hovermode": "closest",
          "mapbox": {
           "style": "light"
          },
          "paper_bgcolor": "white",
          "plot_bgcolor": "#E5ECF6",
          "polar": {
           "angularaxis": {
            "gridcolor": "white",
            "linecolor": "white",
            "ticks": ""
           },
           "bgcolor": "#E5ECF6",
           "radialaxis": {
            "gridcolor": "white",
            "linecolor": "white",
            "ticks": ""
           }
          },
          "scene": {
           "xaxis": {
            "backgroundcolor": "#E5ECF6",
            "gridcolor": "white",
            "gridwidth": 2,
            "linecolor": "white",
            "showbackground": true,
            "ticks": "",
            "zerolinecolor": "white"
           },
           "yaxis": {
            "backgroundcolor": "#E5ECF6",
            "gridcolor": "white",
            "gridwidth": 2,
            "linecolor": "white",
            "showbackground": true,
            "ticks": "",
            "zerolinecolor": "white"
           },
           "zaxis": {
            "backgroundcolor": "#E5ECF6",
            "gridcolor": "white",
            "gridwidth": 2,
            "linecolor": "white",
            "showbackground": true,
            "ticks": "",
            "zerolinecolor": "white"
           }
          },
          "shapedefaults": {
           "line": {
            "color": "#2a3f5f"
           }
          },
          "ternary": {
           "aaxis": {
            "gridcolor": "white",
            "linecolor": "white",
            "ticks": ""
           },
           "baxis": {
            "gridcolor": "white",
            "linecolor": "white",
            "ticks": ""
           },
           "bgcolor": "#E5ECF6",
           "caxis": {
            "gridcolor": "white",
            "linecolor": "white",
            "ticks": ""
           }
          },
          "title": {
           "x": 0.05
          },
          "xaxis": {
           "automargin": true,
           "gridcolor": "white",
           "linecolor": "white",
           "ticks": "",
           "title": {
            "standoff": 15
           },
           "zerolinecolor": "white",
           "zerolinewidth": 2
          },
          "yaxis": {
           "automargin": true,
           "gridcolor": "white",
           "linecolor": "white",
           "ticks": "",
           "title": {
            "standoff": 15
           },
           "zerolinecolor": "white",
           "zerolinewidth": 2
          }
         }
        },
        "title": {
         "text": "Distribution of CAGR Values Across States"
        },
        "xaxis": {
         "anchor": "y",
         "domain": [
          0,
          1
         ],
         "title": {
          "text": "CAGR (%)"
         }
        },
        "yaxis": {
         "anchor": "x",
         "domain": [
          0,
          1
         ],
         "title": {
          "text": "count"
         }
        }
       }
      }
     },
     "metadata": {},
     "output_type": "display_data"
    }
   ],
   "source": [
    "# Calculate CAGR (Compound Annual Growth Rate) for 2-year period\n",
    "print(\"Calculating CAGR for each state...\")\n",
    "state_sales_pivot['CAGR'] = (\n",
    "  (state_sales_pivot['sales_2024'] / state_sales_pivot['sales_2022']) ** (1/2) - 1\n",
    ") * 100  # Converting to percentage\n",
    "\n",
    "# Display the pivot table with CAGR\n",
    "display(state_sales_pivot.head())\n",
    "\n",
    "# Summary statistics for CAGR\n",
    "print(\"\\nCAGR Summary Statistics:\")\n",
    "display(state_sales_pivot['CAGR'].describe())\n",
    "\n",
    "# Distribution of CAGR values\n",
    "fig = px.histogram(state_sales_pivot, x='CAGR', \n",
    "                  title='Distribution of CAGR Values Across States',\n",
    "                  labels={'CAGR': 'CAGR (%)', 'count': 'Number of States'},\n",
    "                  nbins=20,\n",
    "                  color_discrete_sequence=['skyblue'])\n",
    "fig.add_vline(x=state_sales_pivot['CAGR'].median(), line_dash=\"dash\", line_color=\"red\", \n",
    "              annotation_text=\"Median\", annotation_position=\"top right\")\n",
    "fig.update_layout(bargap=0.1)\n",
    "fig.show()"
   ]
  },
  {
   "cell_type": "code",
   "execution_count": 10,
   "id": "bf0fc3b5",
   "metadata": {},
   "outputs": [
    {
     "name": "stdout",
     "output_type": "stream",
     "text": [
      "Cleaning data by removing rows with NaN values or zero initial sales...\n",
      "Original data shape: (34, 4)\n",
      "Clean data shape: (34, 4)\n",
      "Removed 0 rows\n",
      "\n",
      "Top 10 states by CAGR:\n"
     ]
    },
    {
     "data": {
      "text/html": [
       "<div>\n",
       "<style scoped>\n",
       "    .dataframe tbody tr th:only-of-type {\n",
       "        vertical-align: middle;\n",
       "    }\n",
       "\n",
       "    .dataframe tbody tr th {\n",
       "        vertical-align: top;\n",
       "    }\n",
       "\n",
       "    .dataframe thead th {\n",
       "        text-align: right;\n",
       "    }\n",
       "</style>\n",
       "<table border=\"1\" class=\"dataframe\">\n",
       "  <thead>\n",
       "    <tr style=\"text-align: right;\">\n",
       "      <th>fiscal_year</th>\n",
       "      <th>state</th>\n",
       "      <th>sales_2022</th>\n",
       "      <th>sales_2024</th>\n",
       "      <th>CAGR</th>\n",
       "    </tr>\n",
       "  </thead>\n",
       "  <tbody>\n",
       "    <tr>\n",
       "      <th>21</th>\n",
       "      <td>Meghalaya</td>\n",
       "      <td>22193</td>\n",
       "      <td>36628</td>\n",
       "      <td>28.469075</td>\n",
       "    </tr>\n",
       "    <tr>\n",
       "      <th>9</th>\n",
       "      <td>Goa</td>\n",
       "      <td>48372</td>\n",
       "      <td>78524</td>\n",
       "      <td>27.410196</td>\n",
       "    </tr>\n",
       "    <tr>\n",
       "      <th>15</th>\n",
       "      <td>Karnataka</td>\n",
       "      <td>1007894</td>\n",
       "      <td>1581988</td>\n",
       "      <td>25.283582</td>\n",
       "    </tr>\n",
       "    <tr>\n",
       "      <th>8</th>\n",
       "      <td>Delhi</td>\n",
       "      <td>401540</td>\n",
       "      <td>606348</td>\n",
       "      <td>22.884347</td>\n",
       "    </tr>\n",
       "    <tr>\n",
       "      <th>27</th>\n",
       "      <td>Rajasthan</td>\n",
       "      <td>880985</td>\n",
       "      <td>1300476</td>\n",
       "      <td>21.497380</td>\n",
       "    </tr>\n",
       "    <tr>\n",
       "      <th>10</th>\n",
       "      <td>Gujarat</td>\n",
       "      <td>1094872</td>\n",
       "      <td>1590987</td>\n",
       "      <td>20.545677</td>\n",
       "    </tr>\n",
       "    <tr>\n",
       "      <th>3</th>\n",
       "      <td>Assam</td>\n",
       "      <td>379450</td>\n",
       "      <td>547626</td>\n",
       "      <td>20.133672</td>\n",
       "    </tr>\n",
       "    <tr>\n",
       "      <th>22</th>\n",
       "      <td>Mizoram</td>\n",
       "      <td>19439</td>\n",
       "      <td>27422</td>\n",
       "      <td>18.771599</td>\n",
       "    </tr>\n",
       "    <tr>\n",
       "      <th>2</th>\n",
       "      <td>Arunachal Pradesh</td>\n",
       "      <td>19929</td>\n",
       "      <td>27892</td>\n",
       "      <td>18.303359</td>\n",
       "    </tr>\n",
       "    <tr>\n",
       "      <th>0</th>\n",
       "      <td>Andaman &amp; Nicobar</td>\n",
       "      <td>5148</td>\n",
       "      <td>7203</td>\n",
       "      <td>18.287115</td>\n",
       "    </tr>\n",
       "  </tbody>\n",
       "</table>\n",
       "</div>"
      ],
      "text/plain": [
       "fiscal_year              state  sales_2022  sales_2024       CAGR\n",
       "21                   Meghalaya       22193       36628  28.469075\n",
       "9                          Goa       48372       78524  27.410196\n",
       "15                   Karnataka     1007894     1581988  25.283582\n",
       "8                        Delhi      401540      606348  22.884347\n",
       "27                   Rajasthan      880985     1300476  21.497380\n",
       "10                     Gujarat     1094872     1590987  20.545677\n",
       "3                        Assam      379450      547626  20.133672\n",
       "22                     Mizoram       19439       27422  18.771599\n",
       "2            Arunachal Pradesh       19929       27892  18.303359\n",
       "0            Andaman & Nicobar        5148        7203  18.287115"
      ]
     },
     "metadata": {},
     "output_type": "display_data"
    }
   ],
   "source": [
    "# Handle division by zero or missing data\n",
    "print(\"Cleaning data by removing rows with NaN values or zero initial sales...\")\n",
    "clean_pivot = state_sales_pivot.dropna(subset=['sales_2022', 'sales_2024'])\n",
    "clean_pivot = clean_pivot[clean_pivot['sales_2022'] > 0]\n",
    "\n",
    "print(f\"Original data shape: {state_sales_pivot.shape}\")\n",
    "print(f\"Clean data shape: {clean_pivot.shape}\")\n",
    "print(f\"Removed {state_sales_pivot.shape[0] - clean_pivot.shape[0]} rows\")\n",
    "\n",
    "# Sort by CAGR descending and get top 10 states\n",
    "state_cagr_top10 = clean_pivot.sort_values('CAGR', ascending=False).head(10)\n",
    "print(\"\\nTop 10 states by CAGR:\")\n",
    "display(state_cagr_top10)"
   ]
  },
  {
   "cell_type": "code",
   "execution_count": 11,
   "id": "0a58590e",
   "metadata": {},
   "outputs": [
    {
     "name": "stdout",
     "output_type": "stream",
     "text": [
      "Creating interactive bar chart for top 10 states by CAGR...\n"
     ]
    },
    {
     "data": {
      "application/vnd.plotly.v1+json": {
       "config": {
        "plotlyServerURL": "https://plot.ly"
       },
       "data": [
        {
         "hovertemplate": "CAGR (%)=%{marker.color}<br>State=%{y}<extra></extra>",
         "legendgroup": "",
         "marker": {
          "color": {
           "bdata": "Pwp5WIBJMkCFEoDqqE0yQNRtPIOHxTJAxRACUDgiNEAcbRt/sYs0QCkR1lBUfzVA7dInl2TiNkA18pzXmEg5QKNTPKECaTtAdBbZRxV4PEA=",
           "dtype": "f8"
          },
          "coloraxis": "coloraxis",
          "pattern": {
           "shape": ""
          }
         },
         "name": "",
         "orientation": "h",
         "showlegend": false,
         "text": {
          "bdata": "Pwp5WIBJMkCFEoDqqE0yQNRtPIOHxTJAxRACUDgiNEAcbRt/sYs0QCkR1lBUfzVA7dInl2TiNkA18pzXmEg5QKNTPKECaTtAdBbZRxV4PEA=",
          "dtype": "f8"
         },
         "textposition": "outside",
         "texttemplate": "%{text:.2f}%",
         "type": "bar",
         "x": {
          "bdata": "Pwp5WIBJMkCFEoDqqE0yQNRtPIOHxTJAxRACUDgiNEAcbRt/sYs0QCkR1lBUfzVA7dInl2TiNkA18pzXmEg5QKNTPKECaTtAdBbZRxV4PEA=",
          "dtype": "f8"
         },
         "xaxis": "x",
         "y": [
          "Andaman & Nicobar",
          "Arunachal Pradesh",
          "Mizoram",
          "Assam",
          "Gujarat",
          "Rajasthan",
          "Delhi",
          "Karnataka",
          "Goa",
          "Meghalaya"
         ],
         "yaxis": "y"
        }
       ],
       "layout": {
        "barmode": "relative",
        "coloraxis": {
         "colorbar": {
          "title": {
           "text": "CAGR (%)"
          }
         },
         "colorscale": [
          [
           0,
           "rgb(165,0,38)"
          ],
          [
           0.1,
           "rgb(215,48,39)"
          ],
          [
           0.2,
           "rgb(244,109,67)"
          ],
          [
           0.3,
           "rgb(253,174,97)"
          ],
          [
           0.4,
           "rgb(254,224,139)"
          ],
          [
           0.5,
           "rgb(255,255,191)"
          ],
          [
           0.6,
           "rgb(217,239,139)"
          ],
          [
           0.7,
           "rgb(166,217,106)"
          ],
          [
           0.8,
           "rgb(102,189,99)"
          ],
          [
           0.9,
           "rgb(26,152,80)"
          ],
          [
           1,
           "rgb(0,104,55)"
          ]
         ],
         "showscale": false
        },
        "height": 600,
        "legend": {
         "tracegroupgap": 0
        },
        "margin": {
         "l": 100
        },
        "plot_bgcolor": "white",
        "template": {
         "data": {
          "bar": [
           {
            "error_x": {
             "color": "#2a3f5f"
            },
            "error_y": {
             "color": "#2a3f5f"
            },
            "marker": {
             "line": {
              "color": "#E5ECF6",
              "width": 0.5
             },
             "pattern": {
              "fillmode": "overlay",
              "size": 10,
              "solidity": 0.2
             }
            },
            "type": "bar"
           }
          ],
          "barpolar": [
           {
            "marker": {
             "line": {
              "color": "#E5ECF6",
              "width": 0.5
             },
             "pattern": {
              "fillmode": "overlay",
              "size": 10,
              "solidity": 0.2
             }
            },
            "type": "barpolar"
           }
          ],
          "carpet": [
           {
            "aaxis": {
             "endlinecolor": "#2a3f5f",
             "gridcolor": "white",
             "linecolor": "white",
             "minorgridcolor": "white",
             "startlinecolor": "#2a3f5f"
            },
            "baxis": {
             "endlinecolor": "#2a3f5f",
             "gridcolor": "white",
             "linecolor": "white",
             "minorgridcolor": "white",
             "startlinecolor": "#2a3f5f"
            },
            "type": "carpet"
           }
          ],
          "choropleth": [
           {
            "colorbar": {
             "outlinewidth": 0,
             "ticks": ""
            },
            "type": "choropleth"
           }
          ],
          "contour": [
           {
            "colorbar": {
             "outlinewidth": 0,
             "ticks": ""
            },
            "colorscale": [
             [
              0,
              "#0d0887"
             ],
             [
              0.1111111111111111,
              "#46039f"
             ],
             [
              0.2222222222222222,
              "#7201a8"
             ],
             [
              0.3333333333333333,
              "#9c179e"
             ],
             [
              0.4444444444444444,
              "#bd3786"
             ],
             [
              0.5555555555555556,
              "#d8576b"
             ],
             [
              0.6666666666666666,
              "#ed7953"
             ],
             [
              0.7777777777777778,
              "#fb9f3a"
             ],
             [
              0.8888888888888888,
              "#fdca26"
             ],
             [
              1,
              "#f0f921"
             ]
            ],
            "type": "contour"
           }
          ],
          "contourcarpet": [
           {
            "colorbar": {
             "outlinewidth": 0,
             "ticks": ""
            },
            "type": "contourcarpet"
           }
          ],
          "heatmap": [
           {
            "colorbar": {
             "outlinewidth": 0,
             "ticks": ""
            },
            "colorscale": [
             [
              0,
              "#0d0887"
             ],
             [
              0.1111111111111111,
              "#46039f"
             ],
             [
              0.2222222222222222,
              "#7201a8"
             ],
             [
              0.3333333333333333,
              "#9c179e"
             ],
             [
              0.4444444444444444,
              "#bd3786"
             ],
             [
              0.5555555555555556,
              "#d8576b"
             ],
             [
              0.6666666666666666,
              "#ed7953"
             ],
             [
              0.7777777777777778,
              "#fb9f3a"
             ],
             [
              0.8888888888888888,
              "#fdca26"
             ],
             [
              1,
              "#f0f921"
             ]
            ],
            "type": "heatmap"
           }
          ],
          "histogram": [
           {
            "marker": {
             "pattern": {
              "fillmode": "overlay",
              "size": 10,
              "solidity": 0.2
             }
            },
            "type": "histogram"
           }
          ],
          "histogram2d": [
           {
            "colorbar": {
             "outlinewidth": 0,
             "ticks": ""
            },
            "colorscale": [
             [
              0,
              "#0d0887"
             ],
             [
              0.1111111111111111,
              "#46039f"
             ],
             [
              0.2222222222222222,
              "#7201a8"
             ],
             [
              0.3333333333333333,
              "#9c179e"
             ],
             [
              0.4444444444444444,
              "#bd3786"
             ],
             [
              0.5555555555555556,
              "#d8576b"
             ],
             [
              0.6666666666666666,
              "#ed7953"
             ],
             [
              0.7777777777777778,
              "#fb9f3a"
             ],
             [
              0.8888888888888888,
              "#fdca26"
             ],
             [
              1,
              "#f0f921"
             ]
            ],
            "type": "histogram2d"
           }
          ],
          "histogram2dcontour": [
           {
            "colorbar": {
             "outlinewidth": 0,
             "ticks": ""
            },
            "colorscale": [
             [
              0,
              "#0d0887"
             ],
             [
              0.1111111111111111,
              "#46039f"
             ],
             [
              0.2222222222222222,
              "#7201a8"
             ],
             [
              0.3333333333333333,
              "#9c179e"
             ],
             [
              0.4444444444444444,
              "#bd3786"
             ],
             [
              0.5555555555555556,
              "#d8576b"
             ],
             [
              0.6666666666666666,
              "#ed7953"
             ],
             [
              0.7777777777777778,
              "#fb9f3a"
             ],
             [
              0.8888888888888888,
              "#fdca26"
             ],
             [
              1,
              "#f0f921"
             ]
            ],
            "type": "histogram2dcontour"
           }
          ],
          "mesh3d": [
           {
            "colorbar": {
             "outlinewidth": 0,
             "ticks": ""
            },
            "type": "mesh3d"
           }
          ],
          "parcoords": [
           {
            "line": {
             "colorbar": {
              "outlinewidth": 0,
              "ticks": ""
             }
            },
            "type": "parcoords"
           }
          ],
          "pie": [
           {
            "automargin": true,
            "type": "pie"
           }
          ],
          "scatter": [
           {
            "fillpattern": {
             "fillmode": "overlay",
             "size": 10,
             "solidity": 0.2
            },
            "type": "scatter"
           }
          ],
          "scatter3d": [
           {
            "line": {
             "colorbar": {
              "outlinewidth": 0,
              "ticks": ""
             }
            },
            "marker": {
             "colorbar": {
              "outlinewidth": 0,
              "ticks": ""
             }
            },
            "type": "scatter3d"
           }
          ],
          "scattercarpet": [
           {
            "marker": {
             "colorbar": {
              "outlinewidth": 0,
              "ticks": ""
             }
            },
            "type": "scattercarpet"
           }
          ],
          "scattergeo": [
           {
            "marker": {
             "colorbar": {
              "outlinewidth": 0,
              "ticks": ""
             }
            },
            "type": "scattergeo"
           }
          ],
          "scattergl": [
           {
            "marker": {
             "colorbar": {
              "outlinewidth": 0,
              "ticks": ""
             }
            },
            "type": "scattergl"
           }
          ],
          "scattermap": [
           {
            "marker": {
             "colorbar": {
              "outlinewidth": 0,
              "ticks": ""
             }
            },
            "type": "scattermap"
           }
          ],
          "scattermapbox": [
           {
            "marker": {
             "colorbar": {
              "outlinewidth": 0,
              "ticks": ""
             }
            },
            "type": "scattermapbox"
           }
          ],
          "scatterpolar": [
           {
            "marker": {
             "colorbar": {
              "outlinewidth": 0,
              "ticks": ""
             }
            },
            "type": "scatterpolar"
           }
          ],
          "scatterpolargl": [
           {
            "marker": {
             "colorbar": {
              "outlinewidth": 0,
              "ticks": ""
             }
            },
            "type": "scatterpolargl"
           }
          ],
          "scatterternary": [
           {
            "marker": {
             "colorbar": {
              "outlinewidth": 0,
              "ticks": ""
             }
            },
            "type": "scatterternary"
           }
          ],
          "surface": [
           {
            "colorbar": {
             "outlinewidth": 0,
             "ticks": ""
            },
            "colorscale": [
             [
              0,
              "#0d0887"
             ],
             [
              0.1111111111111111,
              "#46039f"
             ],
             [
              0.2222222222222222,
              "#7201a8"
             ],
             [
              0.3333333333333333,
              "#9c179e"
             ],
             [
              0.4444444444444444,
              "#bd3786"
             ],
             [
              0.5555555555555556,
              "#d8576b"
             ],
             [
              0.6666666666666666,
              "#ed7953"
             ],
             [
              0.7777777777777778,
              "#fb9f3a"
             ],
             [
              0.8888888888888888,
              "#fdca26"
             ],
             [
              1,
              "#f0f921"
             ]
            ],
            "type": "surface"
           }
          ],
          "table": [
           {
            "cells": {
             "fill": {
              "color": "#EBF0F8"
             },
             "line": {
              "color": "white"
             }
            },
            "header": {
             "fill": {
              "color": "#C8D4E3"
             },
             "line": {
              "color": "white"
             }
            },
            "type": "table"
           }
          ]
         },
         "layout": {
          "annotationdefaults": {
           "arrowcolor": "#2a3f5f",
           "arrowhead": 0,
           "arrowwidth": 1
          },
          "autotypenumbers": "strict",
          "coloraxis": {
           "colorbar": {
            "outlinewidth": 0,
            "ticks": ""
           }
          },
          "colorscale": {
           "diverging": [
            [
             0,
             "#8e0152"
            ],
            [
             0.1,
             "#c51b7d"
            ],
            [
             0.2,
             "#de77ae"
            ],
            [
             0.3,
             "#f1b6da"
            ],
            [
             0.4,
             "#fde0ef"
            ],
            [
             0.5,
             "#f7f7f7"
            ],
            [
             0.6,
             "#e6f5d0"
            ],
            [
             0.7,
             "#b8e186"
            ],
            [
             0.8,
             "#7fbc41"
            ],
            [
             0.9,
             "#4d9221"
            ],
            [
             1,
             "#276419"
            ]
           ],
           "sequential": [
            [
             0,
             "#0d0887"
            ],
            [
             0.1111111111111111,
             "#46039f"
            ],
            [
             0.2222222222222222,
             "#7201a8"
            ],
            [
             0.3333333333333333,
             "#9c179e"
            ],
            [
             0.4444444444444444,
             "#bd3786"
            ],
            [
             0.5555555555555556,
             "#d8576b"
            ],
            [
             0.6666666666666666,
             "#ed7953"
            ],
            [
             0.7777777777777778,
             "#fb9f3a"
            ],
            [
             0.8888888888888888,
             "#fdca26"
            ],
            [
             1,
             "#f0f921"
            ]
           ],
           "sequentialminus": [
            [
             0,
             "#0d0887"
            ],
            [
             0.1111111111111111,
             "#46039f"
            ],
            [
             0.2222222222222222,
             "#7201a8"
            ],
            [
             0.3333333333333333,
             "#9c179e"
            ],
            [
             0.4444444444444444,
             "#bd3786"
            ],
            [
             0.5555555555555556,
             "#d8576b"
            ],
            [
             0.6666666666666666,
             "#ed7953"
            ],
            [
             0.7777777777777778,
             "#fb9f3a"
            ],
            [
             0.8888888888888888,
             "#fdca26"
            ],
            [
             1,
             "#f0f921"
            ]
           ]
          },
          "colorway": [
           "#636efa",
           "#EF553B",
           "#00cc96",
           "#ab63fa",
           "#FFA15A",
           "#19d3f3",
           "#FF6692",
           "#B6E880",
           "#FF97FF",
           "#FECB52"
          ],
          "font": {
           "color": "#2a3f5f"
          },
          "geo": {
           "bgcolor": "white",
           "lakecolor": "white",
           "landcolor": "#E5ECF6",
           "showlakes": true,
           "showland": true,
           "subunitcolor": "white"
          },
          "hoverlabel": {
           "align": "left"
          },
          "hovermode": "closest",
          "mapbox": {
           "style": "light"
          },
          "paper_bgcolor": "white",
          "plot_bgcolor": "#E5ECF6",
          "polar": {
           "angularaxis": {
            "gridcolor": "white",
            "linecolor": "white",
            "ticks": ""
           },
           "bgcolor": "#E5ECF6",
           "radialaxis": {
            "gridcolor": "white",
            "linecolor": "white",
            "ticks": ""
           }
          },
          "scene": {
           "xaxis": {
            "backgroundcolor": "#E5ECF6",
            "gridcolor": "white",
            "gridwidth": 2,
            "linecolor": "white",
            "showbackground": true,
            "ticks": "",
            "zerolinecolor": "white"
           },
           "yaxis": {
            "backgroundcolor": "#E5ECF6",
            "gridcolor": "white",
            "gridwidth": 2,
            "linecolor": "white",
            "showbackground": true,
            "ticks": "",
            "zerolinecolor": "white"
           },
           "zaxis": {
            "backgroundcolor": "#E5ECF6",
            "gridcolor": "white",
            "gridwidth": 2,
            "linecolor": "white",
            "showbackground": true,
            "ticks": "",
            "zerolinecolor": "white"
           }
          },
          "shapedefaults": {
           "line": {
            "color": "#2a3f5f"
           }
          },
          "ternary": {
           "aaxis": {
            "gridcolor": "white",
            "linecolor": "white",
            "ticks": ""
           },
           "baxis": {
            "gridcolor": "white",
            "linecolor": "white",
            "ticks": ""
           },
           "bgcolor": "#E5ECF6",
           "caxis": {
            "gridcolor": "white",
            "linecolor": "white",
            "ticks": ""
           }
          },
          "title": {
           "x": 0.05
          },
          "xaxis": {
           "automargin": true,
           "gridcolor": "white",
           "linecolor": "white",
           "ticks": "",
           "title": {
            "standoff": 15
           },
           "zerolinecolor": "white",
           "zerolinewidth": 2
          },
          "yaxis": {
           "automargin": true,
           "gridcolor": "white",
           "linecolor": "white",
           "ticks": "",
           "title": {
            "standoff": 15
           },
           "zerolinecolor": "white",
           "zerolinewidth": 2
          }
         }
        },
        "title": {
         "text": "Top 10 States by CAGR (FY 2022–2024) in Total Vehicle Sales"
        },
        "width": 900,
        "xaxis": {
         "anchor": "y",
         "domain": [
          0,
          1
         ],
         "gridcolor": "lightgray",
         "showgrid": true,
         "title": {
          "text": "CAGR (%)"
         }
        },
        "yaxis": {
         "anchor": "x",
         "domain": [
          0,
          1
         ],
         "title": {
          "text": "State"
         }
        }
       }
      }
     },
     "metadata": {},
     "output_type": "display_data"
    }
   ],
   "source": [
    "# Create an interactive Plotly horizontal bar chart for top 10 states\n",
    "print(\"Creating interactive bar chart for top 10 states by CAGR...\")\n",
    "\n",
    "# Sort for visualization (ascending order for horizontal bar chart)\n",
    "df_top10_sorted = state_cagr_top10.sort_values('CAGR')\n",
    "\n",
    "# Create interactive bar chart with Plotly\n",
    "fig = px.bar(df_top10_sorted, \n",
    "             x='CAGR', \n",
    "             y='state',\n",
    "             orientation='h',\n",
    "             title='Top 10 States by CAGR (FY 2022–2024) in Total Vehicle Sales',\n",
    "             labels={'CAGR': 'CAGR (%)', 'state': 'State'},\n",
    "             color='CAGR',\n",
    "             color_continuous_scale='RdYlGn',\n",
    "             text='CAGR')\n",
    "\n",
    "# Customize layout\n",
    "fig.update_traces(texttemplate='%{text:.2f}%', textposition='outside')\n",
    "fig.update_layout(\n",
    "    xaxis=dict(title='CAGR (%)', gridcolor='lightgray', showgrid=True),\n",
    "    yaxis=dict(title='State'),\n",
    "    coloraxis_showscale=False,\n",
    "    height=600,\n",
    "    width=900,\n",
    "    plot_bgcolor='white',\n",
    "    margin=dict(l=100)\n",
    ")\n",
    "\n",
    "fig.show()\n",
    "\n",
    "# Save the visualization to an HTML file\n",
    "fig.write_html(\"../../data/visuals/top10_states_cagr_fiscal_years.html\")"
   ]
  },
  {
   "cell_type": "markdown",
   "id": "3e70d2f4",
   "metadata": {},
   "source": [
    "## Key Findings from Total Vehicle Sales Analysis\n",
    "\n",
    "Between fiscal years 2022 and 2024, we observe several noteworthy patterns in India's vehicle sales market:\n",
    "\n",
    "1. **Northeastern States Dominance**: Meghalaya leads with an extraordinary **28.47% CAGR**, followed by Goa (27.41%) and Karnataka (25.28%).\n",
    "\n",
    "2. **Geographic Pattern**: The top-performing states represent a diverse geographic distribution, suggesting that growth factors are more localized than regional.\n",
    "\n",
    "3. **Economic Correlation**: States with strong economic indicators, including tourism hubs (Goa) and technology centers (Karnataka), demonstrate robust automotive market growth.\n",
    "\n",
    "4. **Growth Magnitude**: The top three states all maintained CAGRs above 25%, significantly outperforming the national average.\n",
    "\n",
    "5. **Strategic Implications**: These high-growth states represent prime targets for:\n",
    "   - Expanded dealership networks\n",
    "   - Increased inventory allocation\n",
    "   - Targeted promotional strategies\n",
    "   - Market development initiatives\n",
    "\n",
    "This analysis provides crucial insights for automotive manufacturers and dealers to optimize their state-level market strategies in India."
   ]
  },
  {
   "cell_type": "markdown",
   "id": "17dcfcd0",
   "metadata": {},
   "source": [
    "## Let's Analyze EV Sales CAGR Specifically\n",
    "\n",
    "Now that we've identified the top states by total vehicle sales CAGR, let's examine electric vehicle (EV) sales patterns specifically for the same fiscal years."
   ]
  },
  {
   "cell_type": "code",
   "execution_count": 12,
   "id": "1741b451",
   "metadata": {},
   "outputs": [
    {
     "name": "stdout",
     "output_type": "stream",
     "text": [
      "Preparing data for EV sales analysis...\n",
      "Number of entries with zero EV sales: 4\n"
     ]
    },
    {
     "data": {
      "text/html": [
       "<div>\n",
       "<style scoped>\n",
       "    .dataframe tbody tr th:only-of-type {\n",
       "        vertical-align: middle;\n",
       "    }\n",
       "\n",
       "    .dataframe tbody tr th {\n",
       "        vertical-align: top;\n",
       "    }\n",
       "\n",
       "    .dataframe thead th {\n",
       "        text-align: right;\n",
       "    }\n",
       "</style>\n",
       "<table border=\"1\" class=\"dataframe\">\n",
       "  <thead>\n",
       "    <tr style=\"text-align: right;\">\n",
       "      <th>fiscal_year</th>\n",
       "      <th>state</th>\n",
       "      <th>sales_2022</th>\n",
       "      <th>sales_2024</th>\n",
       "    </tr>\n",
       "  </thead>\n",
       "  <tbody>\n",
       "    <tr>\n",
       "      <th>0</th>\n",
       "      <td>Andaman &amp; Nicobar</td>\n",
       "      <td>22</td>\n",
       "      <td>35</td>\n",
       "    </tr>\n",
       "    <tr>\n",
       "      <th>1</th>\n",
       "      <td>Andhra Pradesh</td>\n",
       "      <td>13928</td>\n",
       "      <td>33183</td>\n",
       "    </tr>\n",
       "    <tr>\n",
       "      <th>2</th>\n",
       "      <td>Arunachal Pradesh</td>\n",
       "      <td>0</td>\n",
       "      <td>31</td>\n",
       "    </tr>\n",
       "    <tr>\n",
       "      <th>3</th>\n",
       "      <td>Assam</td>\n",
       "      <td>730</td>\n",
       "      <td>3497</td>\n",
       "    </tr>\n",
       "    <tr>\n",
       "      <th>4</th>\n",
       "      <td>Bihar</td>\n",
       "      <td>4829</td>\n",
       "      <td>15069</td>\n",
       "    </tr>\n",
       "  </tbody>\n",
       "</table>\n",
       "</div>"
      ],
      "text/plain": [
       "fiscal_year              state  sales_2022  sales_2024\n",
       "0            Andaman & Nicobar          22          35\n",
       "1               Andhra Pradesh       13928       33183\n",
       "2            Arunachal Pradesh           0          31\n",
       "3                        Assam         730        3497\n",
       "4                        Bihar        4829       15069"
      ]
     },
     "metadata": {},
     "output_type": "display_data"
    },
    {
     "name": "stdout",
     "output_type": "stream",
     "text": [
      "\n",
      "States with valid EV CAGR data: 31\n",
      "\n",
      "Top 10 states by EV CAGR:\n"
     ]
    },
    {
     "data": {
      "text/html": [
       "<div>\n",
       "<style scoped>\n",
       "    .dataframe tbody tr th:only-of-type {\n",
       "        vertical-align: middle;\n",
       "    }\n",
       "\n",
       "    .dataframe tbody tr th {\n",
       "        vertical-align: top;\n",
       "    }\n",
       "\n",
       "    .dataframe thead th {\n",
       "        text-align: right;\n",
       "    }\n",
       "</style>\n",
       "<table border=\"1\" class=\"dataframe\">\n",
       "  <thead>\n",
       "    <tr style=\"text-align: right;\">\n",
       "      <th>fiscal_year</th>\n",
       "      <th>state</th>\n",
       "      <th>sales_2022</th>\n",
       "      <th>sales_2024</th>\n",
       "      <th>CAGR</th>\n",
       "    </tr>\n",
       "  </thead>\n",
       "  <tbody>\n",
       "    <tr>\n",
       "      <th>21</th>\n",
       "      <td>Meghalaya</td>\n",
       "      <td>4</td>\n",
       "      <td>133</td>\n",
       "      <td>476.63</td>\n",
       "    </tr>\n",
       "    <tr>\n",
       "      <th>30</th>\n",
       "      <td>Tripura</td>\n",
       "      <td>28</td>\n",
       "      <td>304</td>\n",
       "      <td>229.50</td>\n",
       "    </tr>\n",
       "    <tr>\n",
       "      <th>23</th>\n",
       "      <td>Nagaland</td>\n",
       "      <td>1</td>\n",
       "      <td>9</td>\n",
       "      <td>200.00</td>\n",
       "    </tr>\n",
       "    <tr>\n",
       "      <th>5</th>\n",
       "      <td>Chandigarh</td>\n",
       "      <td>411</td>\n",
       "      <td>2877</td>\n",
       "      <td>164.58</td>\n",
       "    </tr>\n",
       "    <tr>\n",
       "      <th>6</th>\n",
       "      <td>Chhattisgarh</td>\n",
       "      <td>4534</td>\n",
       "      <td>28540</td>\n",
       "      <td>150.89</td>\n",
       "    </tr>\n",
       "    <tr>\n",
       "      <th>33</th>\n",
       "      <td>West Bengal</td>\n",
       "      <td>2685</td>\n",
       "      <td>16864</td>\n",
       "      <td>150.62</td>\n",
       "    </tr>\n",
       "    <tr>\n",
       "      <th>9</th>\n",
       "      <td>Goa</td>\n",
       "      <td>1778</td>\n",
       "      <td>10799</td>\n",
       "      <td>146.45</td>\n",
       "    </tr>\n",
       "    <tr>\n",
       "      <th>7</th>\n",
       "      <td>DNH and DD</td>\n",
       "      <td>35</td>\n",
       "      <td>198</td>\n",
       "      <td>137.85</td>\n",
       "    </tr>\n",
       "    <tr>\n",
       "      <th>31</th>\n",
       "      <td>Uttar Pradesh</td>\n",
       "      <td>10222</td>\n",
       "      <td>57758</td>\n",
       "      <td>137.70</td>\n",
       "    </tr>\n",
       "    <tr>\n",
       "      <th>18</th>\n",
       "      <td>Madhya Pradesh</td>\n",
       "      <td>7916</td>\n",
       "      <td>43223</td>\n",
       "      <td>133.67</td>\n",
       "    </tr>\n",
       "  </tbody>\n",
       "</table>\n",
       "</div>"
      ],
      "text/plain": [
       "fiscal_year           state  sales_2022  sales_2024    CAGR\n",
       "21                Meghalaya           4         133  476.63\n",
       "30                  Tripura          28         304  229.50\n",
       "23                 Nagaland           1           9  200.00\n",
       "5                Chandigarh         411        2877  164.58\n",
       "6              Chhattisgarh        4534       28540  150.89\n",
       "33              West Bengal        2685       16864  150.62\n",
       "9                       Goa        1778       10799  146.45\n",
       "7                DNH and DD          35         198  137.85\n",
       "31            Uttar Pradesh       10222       57758  137.70\n",
       "18           Madhya Pradesh        7916       43223  133.67"
      ]
     },
     "metadata": {},
     "output_type": "display_data"
    }
   ],
   "source": [
    "# Filter data for EV analysis\n",
    "print(\"Preparing data for EV sales analysis...\")\n",
    "\n",
    "# Group EV sales by state and fiscal year\n",
    "ev_sales_grouped = state_sales_filtered.groupby(['state', 'fiscal_year'])['electric_vehicles_sold'].sum().reset_index()\n",
    "\n",
    "# Check for zero values in EV sales\n",
    "zero_counts = (ev_sales_grouped['electric_vehicles_sold'] == 0).sum()\n",
    "print(f\"Number of entries with zero EV sales: {zero_counts}\")\n",
    "\n",
    "# Create pivot table for EV sales\n",
    "ev_sales_pivot = (\n",
    "    ev_sales_grouped.pivot(\n",
    "        index='state',\n",
    "        columns='fiscal_year',\n",
    "        values='electric_vehicles_sold'\n",
    "    )\n",
    "    .rename(columns={2022: 'sales_2022', 2024: 'sales_2024'})\n",
    "    .reset_index()\n",
    ")\n",
    "\n",
    "# Display the pivot table\n",
    "display(ev_sales_pivot.head())\n",
    "\n",
    "# Calculate CAGR for EV sales\n",
    "ev_sales_pivot['CAGR'] = (\n",
    "    ((ev_sales_pivot['sales_2024'] / ev_sales_pivot['sales_2022']) ** (1/2) - 1) * 100\n",
    ").round(2)  # in percentage\n",
    "\n",
    "# Handle cases with zero or missing initial values\n",
    "ev_sales_clean = ev_sales_pivot.dropna(subset=['sales_2022', 'sales_2024'])\n",
    "ev_sales_clean = ev_sales_clean[ev_sales_clean['sales_2022'] > 0]\n",
    "\n",
    "print(f\"\\nStates with valid EV CAGR data: {ev_sales_clean.shape[0]}\")\n",
    "\n",
    "# Find top 10 states by EV CAGR\n",
    "top10_ev_cagr = ev_sales_clean.sort_values('CAGR', ascending=False).head(10)\n",
    "print(\"\\nTop 10 states by EV CAGR:\")\n",
    "display(top10_ev_cagr)"
   ]
  },
  {
   "cell_type": "code",
   "execution_count": 13,
   "id": "6b404025",
   "metadata": {},
   "outputs": [
    {
     "name": "stdout",
     "output_type": "stream",
     "text": [
      "Creating visualization for top 10 states by EV CAGR...\n"
     ]
    },
    {
     "data": {
      "application/vnd.plotly.v1+json": {
       "config": {
        "plotlyServerURL": "https://plot.ly"
       },
       "data": [
        {
         "hovertemplate": "CAGR (%)=%{marker.color}<br>State=%{y}<extra></extra>",
         "legendgroup": "",
         "marker": {
          "color": {
           "bdata": "PQrXo3C1YEBmZmZmZjZhQDMzMzMzO2FAZmZmZmZOYkCkcD0K19NiQBSuR+F63GJAw/UoXI+SZEAAAAAAAABpQAAAAAAAsGxArkfhehTKfUA=",
           "dtype": "f8"
          },
          "coloraxis": "coloraxis",
          "pattern": {
           "shape": ""
          }
         },
         "name": "",
         "orientation": "h",
         "showlegend": false,
         "text": {
          "bdata": "PQrXo3C1YEBmZmZmZjZhQDMzMzMzO2FAZmZmZmZOYkCkcD0K19NiQBSuR+F63GJAw/UoXI+SZEAAAAAAAABpQAAAAAAAsGxArkfhehTKfUA=",
          "dtype": "f8"
         },
         "textposition": "outside",
         "texttemplate": "%{text:.2f}%",
         "type": "bar",
         "x": {
          "bdata": "PQrXo3C1YEBmZmZmZjZhQDMzMzMzO2FAZmZmZmZOYkCkcD0K19NiQBSuR+F63GJAw/UoXI+SZEAAAAAAAABpQAAAAAAAsGxArkfhehTKfUA=",
          "dtype": "f8"
         },
         "xaxis": "x",
         "y": [
          "Madhya Pradesh",
          "Uttar Pradesh",
          "DNH and DD",
          "Goa",
          "West Bengal",
          "Chhattisgarh",
          "Chandigarh",
          "Nagaland",
          "Tripura",
          "Meghalaya"
         ],
         "yaxis": "y"
        }
       ],
       "layout": {
        "barmode": "relative",
        "coloraxis": {
         "colorbar": {
          "title": {
           "text": "CAGR (%)"
          }
         },
         "colorscale": [
          [
           0,
           "rgb(247, 254, 174)"
          ],
          [
           0.16666666666666666,
           "rgb(183, 230, 165)"
          ],
          [
           0.3333333333333333,
           "rgb(124, 203, 162)"
          ],
          [
           0.5,
           "rgb(70, 174, 160)"
          ],
          [
           0.6666666666666666,
           "rgb(8, 144, 153)"
          ],
          [
           0.8333333333333334,
           "rgb(0, 113, 139)"
          ],
          [
           1,
           "rgb(4, 82, 117)"
          ]
         ],
         "showscale": false
        },
        "height": 600,
        "legend": {
         "tracegroupgap": 0
        },
        "margin": {
         "l": 100
        },
        "plot_bgcolor": "white",
        "template": {
         "data": {
          "bar": [
           {
            "error_x": {
             "color": "#2a3f5f"
            },
            "error_y": {
             "color": "#2a3f5f"
            },
            "marker": {
             "line": {
              "color": "#E5ECF6",
              "width": 0.5
             },
             "pattern": {
              "fillmode": "overlay",
              "size": 10,
              "solidity": 0.2
             }
            },
            "type": "bar"
           }
          ],
          "barpolar": [
           {
            "marker": {
             "line": {
              "color": "#E5ECF6",
              "width": 0.5
             },
             "pattern": {
              "fillmode": "overlay",
              "size": 10,
              "solidity": 0.2
             }
            },
            "type": "barpolar"
           }
          ],
          "carpet": [
           {
            "aaxis": {
             "endlinecolor": "#2a3f5f",
             "gridcolor": "white",
             "linecolor": "white",
             "minorgridcolor": "white",
             "startlinecolor": "#2a3f5f"
            },
            "baxis": {
             "endlinecolor": "#2a3f5f",
             "gridcolor": "white",
             "linecolor": "white",
             "minorgridcolor": "white",
             "startlinecolor": "#2a3f5f"
            },
            "type": "carpet"
           }
          ],
          "choropleth": [
           {
            "colorbar": {
             "outlinewidth": 0,
             "ticks": ""
            },
            "type": "choropleth"
           }
          ],
          "contour": [
           {
            "colorbar": {
             "outlinewidth": 0,
             "ticks": ""
            },
            "colorscale": [
             [
              0,
              "#0d0887"
             ],
             [
              0.1111111111111111,
              "#46039f"
             ],
             [
              0.2222222222222222,
              "#7201a8"
             ],
             [
              0.3333333333333333,
              "#9c179e"
             ],
             [
              0.4444444444444444,
              "#bd3786"
             ],
             [
              0.5555555555555556,
              "#d8576b"
             ],
             [
              0.6666666666666666,
              "#ed7953"
             ],
             [
              0.7777777777777778,
              "#fb9f3a"
             ],
             [
              0.8888888888888888,
              "#fdca26"
             ],
             [
              1,
              "#f0f921"
             ]
            ],
            "type": "contour"
           }
          ],
          "contourcarpet": [
           {
            "colorbar": {
             "outlinewidth": 0,
             "ticks": ""
            },
            "type": "contourcarpet"
           }
          ],
          "heatmap": [
           {
            "colorbar": {
             "outlinewidth": 0,
             "ticks": ""
            },
            "colorscale": [
             [
              0,
              "#0d0887"
             ],
             [
              0.1111111111111111,
              "#46039f"
             ],
             [
              0.2222222222222222,
              "#7201a8"
             ],
             [
              0.3333333333333333,
              "#9c179e"
             ],
             [
              0.4444444444444444,
              "#bd3786"
             ],
             [
              0.5555555555555556,
              "#d8576b"
             ],
             [
              0.6666666666666666,
              "#ed7953"
             ],
             [
              0.7777777777777778,
              "#fb9f3a"
             ],
             [
              0.8888888888888888,
              "#fdca26"
             ],
             [
              1,
              "#f0f921"
             ]
            ],
            "type": "heatmap"
           }
          ],
          "histogram": [
           {
            "marker": {
             "pattern": {
              "fillmode": "overlay",
              "size": 10,
              "solidity": 0.2
             }
            },
            "type": "histogram"
           }
          ],
          "histogram2d": [
           {
            "colorbar": {
             "outlinewidth": 0,
             "ticks": ""
            },
            "colorscale": [
             [
              0,
              "#0d0887"
             ],
             [
              0.1111111111111111,
              "#46039f"
             ],
             [
              0.2222222222222222,
              "#7201a8"
             ],
             [
              0.3333333333333333,
              "#9c179e"
             ],
             [
              0.4444444444444444,
              "#bd3786"
             ],
             [
              0.5555555555555556,
              "#d8576b"
             ],
             [
              0.6666666666666666,
              "#ed7953"
             ],
             [
              0.7777777777777778,
              "#fb9f3a"
             ],
             [
              0.8888888888888888,
              "#fdca26"
             ],
             [
              1,
              "#f0f921"
             ]
            ],
            "type": "histogram2d"
           }
          ],
          "histogram2dcontour": [
           {
            "colorbar": {
             "outlinewidth": 0,
             "ticks": ""
            },
            "colorscale": [
             [
              0,
              "#0d0887"
             ],
             [
              0.1111111111111111,
              "#46039f"
             ],
             [
              0.2222222222222222,
              "#7201a8"
             ],
             [
              0.3333333333333333,
              "#9c179e"
             ],
             [
              0.4444444444444444,
              "#bd3786"
             ],
             [
              0.5555555555555556,
              "#d8576b"
             ],
             [
              0.6666666666666666,
              "#ed7953"
             ],
             [
              0.7777777777777778,
              "#fb9f3a"
             ],
             [
              0.8888888888888888,
              "#fdca26"
             ],
             [
              1,
              "#f0f921"
             ]
            ],
            "type": "histogram2dcontour"
           }
          ],
          "mesh3d": [
           {
            "colorbar": {
             "outlinewidth": 0,
             "ticks": ""
            },
            "type": "mesh3d"
           }
          ],
          "parcoords": [
           {
            "line": {
             "colorbar": {
              "outlinewidth": 0,
              "ticks": ""
             }
            },
            "type": "parcoords"
           }
          ],
          "pie": [
           {
            "automargin": true,
            "type": "pie"
           }
          ],
          "scatter": [
           {
            "fillpattern": {
             "fillmode": "overlay",
             "size": 10,
             "solidity": 0.2
            },
            "type": "scatter"
           }
          ],
          "scatter3d": [
           {
            "line": {
             "colorbar": {
              "outlinewidth": 0,
              "ticks": ""
             }
            },
            "marker": {
             "colorbar": {
              "outlinewidth": 0,
              "ticks": ""
             }
            },
            "type": "scatter3d"
           }
          ],
          "scattercarpet": [
           {
            "marker": {
             "colorbar": {
              "outlinewidth": 0,
              "ticks": ""
             }
            },
            "type": "scattercarpet"
           }
          ],
          "scattergeo": [
           {
            "marker": {
             "colorbar": {
              "outlinewidth": 0,
              "ticks": ""
             }
            },
            "type": "scattergeo"
           }
          ],
          "scattergl": [
           {
            "marker": {
             "colorbar": {
              "outlinewidth": 0,
              "ticks": ""
             }
            },
            "type": "scattergl"
           }
          ],
          "scattermap": [
           {
            "marker": {
             "colorbar": {
              "outlinewidth": 0,
              "ticks": ""
             }
            },
            "type": "scattermap"
           }
          ],
          "scattermapbox": [
           {
            "marker": {
             "colorbar": {
              "outlinewidth": 0,
              "ticks": ""
             }
            },
            "type": "scattermapbox"
           }
          ],
          "scatterpolar": [
           {
            "marker": {
             "colorbar": {
              "outlinewidth": 0,
              "ticks": ""
             }
            },
            "type": "scatterpolar"
           }
          ],
          "scatterpolargl": [
           {
            "marker": {
             "colorbar": {
              "outlinewidth": 0,
              "ticks": ""
             }
            },
            "type": "scatterpolargl"
           }
          ],
          "scatterternary": [
           {
            "marker": {
             "colorbar": {
              "outlinewidth": 0,
              "ticks": ""
             }
            },
            "type": "scatterternary"
           }
          ],
          "surface": [
           {
            "colorbar": {
             "outlinewidth": 0,
             "ticks": ""
            },
            "colorscale": [
             [
              0,
              "#0d0887"
             ],
             [
              0.1111111111111111,
              "#46039f"
             ],
             [
              0.2222222222222222,
              "#7201a8"
             ],
             [
              0.3333333333333333,
              "#9c179e"
             ],
             [
              0.4444444444444444,
              "#bd3786"
             ],
             [
              0.5555555555555556,
              "#d8576b"
             ],
             [
              0.6666666666666666,
              "#ed7953"
             ],
             [
              0.7777777777777778,
              "#fb9f3a"
             ],
             [
              0.8888888888888888,
              "#fdca26"
             ],
             [
              1,
              "#f0f921"
             ]
            ],
            "type": "surface"
           }
          ],
          "table": [
           {
            "cells": {
             "fill": {
              "color": "#EBF0F8"
             },
             "line": {
              "color": "white"
             }
            },
            "header": {
             "fill": {
              "color": "#C8D4E3"
             },
             "line": {
              "color": "white"
             }
            },
            "type": "table"
           }
          ]
         },
         "layout": {
          "annotationdefaults": {
           "arrowcolor": "#2a3f5f",
           "arrowhead": 0,
           "arrowwidth": 1
          },
          "autotypenumbers": "strict",
          "coloraxis": {
           "colorbar": {
            "outlinewidth": 0,
            "ticks": ""
           }
          },
          "colorscale": {
           "diverging": [
            [
             0,
             "#8e0152"
            ],
            [
             0.1,
             "#c51b7d"
            ],
            [
             0.2,
             "#de77ae"
            ],
            [
             0.3,
             "#f1b6da"
            ],
            [
             0.4,
             "#fde0ef"
            ],
            [
             0.5,
             "#f7f7f7"
            ],
            [
             0.6,
             "#e6f5d0"
            ],
            [
             0.7,
             "#b8e186"
            ],
            [
             0.8,
             "#7fbc41"
            ],
            [
             0.9,
             "#4d9221"
            ],
            [
             1,
             "#276419"
            ]
           ],
           "sequential": [
            [
             0,
             "#0d0887"
            ],
            [
             0.1111111111111111,
             "#46039f"
            ],
            [
             0.2222222222222222,
             "#7201a8"
            ],
            [
             0.3333333333333333,
             "#9c179e"
            ],
            [
             0.4444444444444444,
             "#bd3786"
            ],
            [
             0.5555555555555556,
             "#d8576b"
            ],
            [
             0.6666666666666666,
             "#ed7953"
            ],
            [
             0.7777777777777778,
             "#fb9f3a"
            ],
            [
             0.8888888888888888,
             "#fdca26"
            ],
            [
             1,
             "#f0f921"
            ]
           ],
           "sequentialminus": [
            [
             0,
             "#0d0887"
            ],
            [
             0.1111111111111111,
             "#46039f"
            ],
            [
             0.2222222222222222,
             "#7201a8"
            ],
            [
             0.3333333333333333,
             "#9c179e"
            ],
            [
             0.4444444444444444,
             "#bd3786"
            ],
            [
             0.5555555555555556,
             "#d8576b"
            ],
            [
             0.6666666666666666,
             "#ed7953"
            ],
            [
             0.7777777777777778,
             "#fb9f3a"
            ],
            [
             0.8888888888888888,
             "#fdca26"
            ],
            [
             1,
             "#f0f921"
            ]
           ]
          },
          "colorway": [
           "#636efa",
           "#EF553B",
           "#00cc96",
           "#ab63fa",
           "#FFA15A",
           "#19d3f3",
           "#FF6692",
           "#B6E880",
           "#FF97FF",
           "#FECB52"
          ],
          "font": {
           "color": "#2a3f5f"
          },
          "geo": {
           "bgcolor": "white",
           "lakecolor": "white",
           "landcolor": "#E5ECF6",
           "showlakes": true,
           "showland": true,
           "subunitcolor": "white"
          },
          "hoverlabel": {
           "align": "left"
          },
          "hovermode": "closest",
          "mapbox": {
           "style": "light"
          },
          "paper_bgcolor": "white",
          "plot_bgcolor": "#E5ECF6",
          "polar": {
           "angularaxis": {
            "gridcolor": "white",
            "linecolor": "white",
            "ticks": ""
           },
           "bgcolor": "#E5ECF6",
           "radialaxis": {
            "gridcolor": "white",
            "linecolor": "white",
            "ticks": ""
           }
          },
          "scene": {
           "xaxis": {
            "backgroundcolor": "#E5ECF6",
            "gridcolor": "white",
            "gridwidth": 2,
            "linecolor": "white",
            "showbackground": true,
            "ticks": "",
            "zerolinecolor": "white"
           },
           "yaxis": {
            "backgroundcolor": "#E5ECF6",
            "gridcolor": "white",
            "gridwidth": 2,
            "linecolor": "white",
            "showbackground": true,
            "ticks": "",
            "zerolinecolor": "white"
           },
           "zaxis": {
            "backgroundcolor": "#E5ECF6",
            "gridcolor": "white",
            "gridwidth": 2,
            "linecolor": "white",
            "showbackground": true,
            "ticks": "",
            "zerolinecolor": "white"
           }
          },
          "shapedefaults": {
           "line": {
            "color": "#2a3f5f"
           }
          },
          "ternary": {
           "aaxis": {
            "gridcolor": "white",
            "linecolor": "white",
            "ticks": ""
           },
           "baxis": {
            "gridcolor": "white",
            "linecolor": "white",
            "ticks": ""
           },
           "bgcolor": "#E5ECF6",
           "caxis": {
            "gridcolor": "white",
            "linecolor": "white",
            "ticks": ""
           }
          },
          "title": {
           "x": 0.05
          },
          "xaxis": {
           "automargin": true,
           "gridcolor": "white",
           "linecolor": "white",
           "ticks": "",
           "title": {
            "standoff": 15
           },
           "zerolinecolor": "white",
           "zerolinewidth": 2
          },
          "yaxis": {
           "automargin": true,
           "gridcolor": "white",
           "linecolor": "white",
           "ticks": "",
           "title": {
            "standoff": 15
           },
           "zerolinecolor": "white",
           "zerolinewidth": 2
          }
         }
        },
        "title": {
         "text": "Top 10 States by EV Sales CAGR (FY 2022–2024)"
        },
        "width": 900,
        "xaxis": {
         "anchor": "y",
         "domain": [
          0,
          1
         ],
         "gridcolor": "lightgray",
         "showgrid": true,
         "title": {
          "text": "CAGR (%)"
         }
        },
        "yaxis": {
         "anchor": "x",
         "domain": [
          0,
          1
         ],
         "title": {
          "text": "State"
         }
        }
       }
      }
     },
     "metadata": {},
     "output_type": "display_data"
    }
   ],
   "source": [
    "# Create an interactive Plotly horizontal bar chart for top 10 states by EV CAGR\n",
    "print(\"Creating visualization for top 10 states by EV CAGR...\")\n",
    "\n",
    "# Sort for visualization\n",
    "ev_top10_sorted = top10_ev_cagr.sort_values('CAGR')\n",
    "\n",
    "# Create interactive bar chart with Plotly\n",
    "fig = px.bar(ev_top10_sorted, \n",
    "             x='CAGR', \n",
    "             y='state',\n",
    "             orientation='h',\n",
    "             title='Top 10 States by EV Sales CAGR (FY 2022–2024)',\n",
    "             labels={'CAGR': 'CAGR (%)', 'state': 'State'},\n",
    "             color='CAGR',\n",
    "             color_continuous_scale='Bluyl',  # Different color scale for EV\n",
    "             text='CAGR')\n",
    "\n",
    "# Add colors based on CAGR values\n",
    "fig.update_traces(texttemplate='%{text:.2f}%', textposition='outside')\n",
    "\n",
    "fig.update_layout(\n",
    "    xaxis=dict(title='CAGR (%)', gridcolor='lightgray', showgrid=True),\n",
    "    yaxis=dict(title='State'),\n",
    "    coloraxis_showscale=False,\n",
    "    height=600,\n",
    "    width=900,\n",
    "    plot_bgcolor='white',\n",
    "    margin=dict(l=100)\n",
    ")\n",
    "\n",
    "fig.show()\n",
    "\n",
    "# Save the visualization\n",
    "fig.write_html(\"../../data/visuals/top10_states_ev_cagr_fiscal_years.html\")"
   ]
  },
  {
   "cell_type": "markdown",
   "id": "7e2dc905",
   "metadata": {},
   "source": [
    "## EV Sales Growth Analysis (FY 2022-2024)\n",
    "\n",
    "The electric vehicle market in India shows remarkable variation across states:\n",
    "\n",
    "1. **Extraordinary Growth Leaders**: \n",
    "   - Meghalaya leads with an astonishing **476.63% CAGR**\n",
    "   - Tripura follows at **229.50% CAGR**\n",
    "   - Nagaland shows **200.00% CAGR**\n",
    "\n",
    "2. **Northeast India Phenomenon**: Northeastern states demonstrate exceptional EV adoption rates, challenging the conventional wisdom that EV growth would be concentrated in more urbanized or wealthy states.\n",
    "\n",
    "3. **Growth Independence**: EV sales growth appears to operate independently from traditional market factors, suggesting specific EV-focused policies, incentives, or infrastructure investments are driving adoption.\n",
    "\n",
    "4. **Market Transformation**: Triple-digit CAGR values indicate rapid market transformation in certain states, presenting significant opportunities for EV manufacturers and charging infrastructure providers.\n",
    "\n",
    "5. **Strategic Implications**: These high-growth EV markets warrant priority attention for:\n",
    "   - Charging infrastructure development\n",
    "   - EV model distribution strategies\n",
    "   - Policy support continuation and enhancement\n",
    "   - Consumer education and awareness programs"
   ]
  },
  {
   "cell_type": "code",
   "execution_count": 14,
   "id": "d82e8ff9",
   "metadata": {},
   "outputs": [
    {
     "name": "stdout",
     "output_type": "stream",
     "text": [
      "Analyzing non-EV vehicle sales...\n",
      "\n",
      "Top 10 states by non-EV CAGR:\n"
     ]
    },
    {
     "name": "stderr",
     "output_type": "stream",
     "text": [
      "/tmp/ipykernel_108176/2099883927.py:5: SettingWithCopyWarning:\n",
      "\n",
      "\n",
      "A value is trying to be set on a copy of a slice from a DataFrame.\n",
      "Try using .loc[row_indexer,col_indexer] = value instead\n",
      "\n",
      "See the caveats in the documentation: https://pandas.pydata.org/pandas-docs/stable/user_guide/indexing.html#returning-a-view-versus-a-copy\n",
      "\n"
     ]
    },
    {
     "data": {
      "text/html": [
       "<div>\n",
       "<style scoped>\n",
       "    .dataframe tbody tr th:only-of-type {\n",
       "        vertical-align: middle;\n",
       "    }\n",
       "\n",
       "    .dataframe tbody tr th {\n",
       "        vertical-align: top;\n",
       "    }\n",
       "\n",
       "    .dataframe thead th {\n",
       "        text-align: right;\n",
       "    }\n",
       "</style>\n",
       "<table border=\"1\" class=\"dataframe\">\n",
       "  <thead>\n",
       "    <tr style=\"text-align: right;\">\n",
       "      <th>fiscal_year</th>\n",
       "      <th>state</th>\n",
       "      <th>sales_2022</th>\n",
       "      <th>sales_2024</th>\n",
       "      <th>CAGR</th>\n",
       "    </tr>\n",
       "  </thead>\n",
       "  <tbody>\n",
       "    <tr>\n",
       "      <th>21</th>\n",
       "      <td>Meghalaya</td>\n",
       "      <td>22189</td>\n",
       "      <td>36495</td>\n",
       "      <td>28.25</td>\n",
       "    </tr>\n",
       "    <tr>\n",
       "      <th>15</th>\n",
       "      <td>Karnataka</td>\n",
       "      <td>964783</td>\n",
       "      <td>1420999</td>\n",
       "      <td>21.36</td>\n",
       "    </tr>\n",
       "    <tr>\n",
       "      <th>9</th>\n",
       "      <td>Goa</td>\n",
       "      <td>46594</td>\n",
       "      <td>67725</td>\n",
       "      <td>20.56</td>\n",
       "    </tr>\n",
       "    <tr>\n",
       "      <th>8</th>\n",
       "      <td>Delhi</td>\n",
       "      <td>385005</td>\n",
       "      <td>559624</td>\n",
       "      <td>20.56</td>\n",
       "    </tr>\n",
       "    <tr>\n",
       "      <th>3</th>\n",
       "      <td>Assam</td>\n",
       "      <td>378720</td>\n",
       "      <td>544129</td>\n",
       "      <td>19.86</td>\n",
       "    </tr>\n",
       "    <tr>\n",
       "      <th>27</th>\n",
       "      <td>Rajasthan</td>\n",
       "      <td>860898</td>\n",
       "      <td>1234032</td>\n",
       "      <td>19.73</td>\n",
       "    </tr>\n",
       "    <tr>\n",
       "      <th>10</th>\n",
       "      <td>Gujarat</td>\n",
       "      <td>1076846</td>\n",
       "      <td>1506628</td>\n",
       "      <td>18.28</td>\n",
       "    </tr>\n",
       "    <tr>\n",
       "      <th>0</th>\n",
       "      <td>Andaman &amp; Nicobar</td>\n",
       "      <td>5126</td>\n",
       "      <td>7168</td>\n",
       "      <td>18.25</td>\n",
       "    </tr>\n",
       "    <tr>\n",
       "      <th>2</th>\n",
       "      <td>Arunachal Pradesh</td>\n",
       "      <td>19929</td>\n",
       "      <td>27861</td>\n",
       "      <td>18.24</td>\n",
       "    </tr>\n",
       "    <tr>\n",
       "      <th>22</th>\n",
       "      <td>Mizoram</td>\n",
       "      <td>19439</td>\n",
       "      <td>27147</td>\n",
       "      <td>18.17</td>\n",
       "    </tr>\n",
       "  </tbody>\n",
       "</table>\n",
       "</div>"
      ],
      "text/plain": [
       "fiscal_year              state  sales_2022  sales_2024   CAGR\n",
       "21                   Meghalaya       22189       36495  28.25\n",
       "15                   Karnataka      964783     1420999  21.36\n",
       "9                          Goa       46594       67725  20.56\n",
       "8                        Delhi      385005      559624  20.56\n",
       "3                        Assam      378720      544129  19.86\n",
       "27                   Rajasthan      860898     1234032  19.73\n",
       "10                     Gujarat     1076846     1506628  18.28\n",
       "0            Andaman & Nicobar        5126        7168  18.25\n",
       "2            Arunachal Pradesh       19929       27861  18.24\n",
       "22                     Mizoram       19439       27147  18.17"
      ]
     },
     "metadata": {},
     "output_type": "display_data"
    }
   ],
   "source": [
    "# Calculate non-EV sales by subtracting EV sales from total sales\n",
    "print(\"Analyzing non-EV vehicle sales...\")\n",
    "\n",
    "# Create non-EV sales column\n",
    "state_sales_filtered['non_ev_sales'] = state_sales_filtered['total_vehicles_sold'] - state_sales_filtered['electric_vehicles_sold']\n",
    "\n",
    "# Group by state and fiscal year for non-EV sales\n",
    "non_ev_grouped = state_sales_filtered.groupby(['state', 'fiscal_year'], as_index=False)['non_ev_sales'].sum()\n",
    "\n",
    "# Create pivot table for non-EV sales\n",
    "non_ev_pivot = (\n",
    "    non_ev_grouped.pivot(\n",
    "        index='state',\n",
    "        columns='fiscal_year',\n",
    "        values='non_ev_sales'\n",
    "    )\n",
    "    .rename(columns={2022: 'sales_2022', 2024: 'sales_2024'})\n",
    "    .reset_index()\n",
    ")\n",
    "\n",
    "# Calculate CAGR for non-EV sales\n",
    "non_ev_pivot['CAGR'] = (\n",
    "    ((non_ev_pivot['sales_2024'] / non_ev_pivot['sales_2022']) ** (1/2) - 1) * 100\n",
    ").round(2)\n",
    "\n",
    "# Handle zero or missing values\n",
    "non_ev_clean = non_ev_pivot.dropna(subset=['sales_2022', 'sales_2024'])\n",
    "non_ev_clean = non_ev_clean[non_ev_clean['sales_2022'] > 0]\n",
    "\n",
    "# Get top 10 states for non-EV CAGR\n",
    "top10_non_ev = non_ev_clean.sort_values('CAGR', ascending=False).head(10)\n",
    "print(\"\\nTop 10 states by non-EV CAGR:\")\n",
    "display(top10_non_ev)"
   ]
  },
  {
   "cell_type": "code",
   "execution_count": 15,
   "id": "d9c6a1ca",
   "metadata": {},
   "outputs": [
    {
     "name": "stdout",
     "output_type": "stream",
     "text": [
      "Creating visualization for top 10 states by non-EV CAGR...\n"
     ]
    },
    {
     "data": {
      "application/vnd.plotly.v1+json": {
       "config": {
        "plotlyServerURL": "https://plot.ly"
       },
       "data": [
        {
         "hovertemplate": "CAGR (%)=%{marker.color}<br>State=%{y}<extra></extra>",
         "legendgroup": "",
         "marker": {
          "color": {
           "bdata": "7FG4HoUrMkA9CtejcD0yQAAAAAAAQDJASOF6FK5HMkB7FK5H4bozQFyPwvUo3DNAj8L1KFyPNECPwvUoXI80QFyPwvUoXDVAAAAAAABAPEA=",
           "dtype": "f8"
          },
          "coloraxis": "coloraxis",
          "pattern": {
           "shape": ""
          }
         },
         "name": "",
         "orientation": "h",
         "showlegend": false,
         "text": {
          "bdata": "7FG4HoUrMkA9CtejcD0yQAAAAAAAQDJASOF6FK5HMkB7FK5H4bozQFyPwvUo3DNAj8L1KFyPNECPwvUoXI80QFyPwvUoXDVAAAAAAABAPEA=",
          "dtype": "f8"
         },
         "textposition": "outside",
         "texttemplate": "%{text:.2f}%",
         "type": "bar",
         "x": {
          "bdata": "7FG4HoUrMkA9CtejcD0yQAAAAAAAQDJASOF6FK5HMkB7FK5H4bozQFyPwvUo3DNAj8L1KFyPNECPwvUoXI80QFyPwvUoXDVAAAAAAABAPEA=",
          "dtype": "f8"
         },
         "xaxis": "x",
         "y": [
          "Mizoram",
          "Arunachal Pradesh",
          "Andaman & Nicobar",
          "Gujarat",
          "Rajasthan",
          "Assam",
          "Goa",
          "Delhi",
          "Karnataka",
          "Meghalaya"
         ],
         "yaxis": "y"
        }
       ],
       "layout": {
        "barmode": "relative",
        "coloraxis": {
         "colorbar": {
          "title": {
           "text": "CAGR (%)"
          }
         },
         "colorscale": [
          [
           0,
           "#440154"
          ],
          [
           0.1111111111111111,
           "#482878"
          ],
          [
           0.2222222222222222,
           "#3e4989"
          ],
          [
           0.3333333333333333,
           "#31688e"
          ],
          [
           0.4444444444444444,
           "#26828e"
          ],
          [
           0.5555555555555556,
           "#1f9e89"
          ],
          [
           0.6666666666666666,
           "#35b779"
          ],
          [
           0.7777777777777778,
           "#6ece58"
          ],
          [
           0.8888888888888888,
           "#b5de2b"
          ],
          [
           1,
           "#fde725"
          ]
         ],
         "showscale": false
        },
        "height": 600,
        "legend": {
         "tracegroupgap": 0
        },
        "margin": {
         "l": 100
        },
        "plot_bgcolor": "white",
        "template": {
         "data": {
          "bar": [
           {
            "error_x": {
             "color": "#2a3f5f"
            },
            "error_y": {
             "color": "#2a3f5f"
            },
            "marker": {
             "line": {
              "color": "#E5ECF6",
              "width": 0.5
             },
             "pattern": {
              "fillmode": "overlay",
              "size": 10,
              "solidity": 0.2
             }
            },
            "type": "bar"
           }
          ],
          "barpolar": [
           {
            "marker": {
             "line": {
              "color": "#E5ECF6",
              "width": 0.5
             },
             "pattern": {
              "fillmode": "overlay",
              "size": 10,
              "solidity": 0.2
             }
            },
            "type": "barpolar"
           }
          ],
          "carpet": [
           {
            "aaxis": {
             "endlinecolor": "#2a3f5f",
             "gridcolor": "white",
             "linecolor": "white",
             "minorgridcolor": "white",
             "startlinecolor": "#2a3f5f"
            },
            "baxis": {
             "endlinecolor": "#2a3f5f",
             "gridcolor": "white",
             "linecolor": "white",
             "minorgridcolor": "white",
             "startlinecolor": "#2a3f5f"
            },
            "type": "carpet"
           }
          ],
          "choropleth": [
           {
            "colorbar": {
             "outlinewidth": 0,
             "ticks": ""
            },
            "type": "choropleth"
           }
          ],
          "contour": [
           {
            "colorbar": {
             "outlinewidth": 0,
             "ticks": ""
            },
            "colorscale": [
             [
              0,
              "#0d0887"
             ],
             [
              0.1111111111111111,
              "#46039f"
             ],
             [
              0.2222222222222222,
              "#7201a8"
             ],
             [
              0.3333333333333333,
              "#9c179e"
             ],
             [
              0.4444444444444444,
              "#bd3786"
             ],
             [
              0.5555555555555556,
              "#d8576b"
             ],
             [
              0.6666666666666666,
              "#ed7953"
             ],
             [
              0.7777777777777778,
              "#fb9f3a"
             ],
             [
              0.8888888888888888,
              "#fdca26"
             ],
             [
              1,
              "#f0f921"
             ]
            ],
            "type": "contour"
           }
          ],
          "contourcarpet": [
           {
            "colorbar": {
             "outlinewidth": 0,
             "ticks": ""
            },
            "type": "contourcarpet"
           }
          ],
          "heatmap": [
           {
            "colorbar": {
             "outlinewidth": 0,
             "ticks": ""
            },
            "colorscale": [
             [
              0,
              "#0d0887"
             ],
             [
              0.1111111111111111,
              "#46039f"
             ],
             [
              0.2222222222222222,
              "#7201a8"
             ],
             [
              0.3333333333333333,
              "#9c179e"
             ],
             [
              0.4444444444444444,
              "#bd3786"
             ],
             [
              0.5555555555555556,
              "#d8576b"
             ],
             [
              0.6666666666666666,
              "#ed7953"
             ],
             [
              0.7777777777777778,
              "#fb9f3a"
             ],
             [
              0.8888888888888888,
              "#fdca26"
             ],
             [
              1,
              "#f0f921"
             ]
            ],
            "type": "heatmap"
           }
          ],
          "histogram": [
           {
            "marker": {
             "pattern": {
              "fillmode": "overlay",
              "size": 10,
              "solidity": 0.2
             }
            },
            "type": "histogram"
           }
          ],
          "histogram2d": [
           {
            "colorbar": {
             "outlinewidth": 0,
             "ticks": ""
            },
            "colorscale": [
             [
              0,
              "#0d0887"
             ],
             [
              0.1111111111111111,
              "#46039f"
             ],
             [
              0.2222222222222222,
              "#7201a8"
             ],
             [
              0.3333333333333333,
              "#9c179e"
             ],
             [
              0.4444444444444444,
              "#bd3786"
             ],
             [
              0.5555555555555556,
              "#d8576b"
             ],
             [
              0.6666666666666666,
              "#ed7953"
             ],
             [
              0.7777777777777778,
              "#fb9f3a"
             ],
             [
              0.8888888888888888,
              "#fdca26"
             ],
             [
              1,
              "#f0f921"
             ]
            ],
            "type": "histogram2d"
           }
          ],
          "histogram2dcontour": [
           {
            "colorbar": {
             "outlinewidth": 0,
             "ticks": ""
            },
            "colorscale": [
             [
              0,
              "#0d0887"
             ],
             [
              0.1111111111111111,
              "#46039f"
             ],
             [
              0.2222222222222222,
              "#7201a8"
             ],
             [
              0.3333333333333333,
              "#9c179e"
             ],
             [
              0.4444444444444444,
              "#bd3786"
             ],
             [
              0.5555555555555556,
              "#d8576b"
             ],
             [
              0.6666666666666666,
              "#ed7953"
             ],
             [
              0.7777777777777778,
              "#fb9f3a"
             ],
             [
              0.8888888888888888,
              "#fdca26"
             ],
             [
              1,
              "#f0f921"
             ]
            ],
            "type": "histogram2dcontour"
           }
          ],
          "mesh3d": [
           {
            "colorbar": {
             "outlinewidth": 0,
             "ticks": ""
            },
            "type": "mesh3d"
           }
          ],
          "parcoords": [
           {
            "line": {
             "colorbar": {
              "outlinewidth": 0,
              "ticks": ""
             }
            },
            "type": "parcoords"
           }
          ],
          "pie": [
           {
            "automargin": true,
            "type": "pie"
           }
          ],
          "scatter": [
           {
            "fillpattern": {
             "fillmode": "overlay",
             "size": 10,
             "solidity": 0.2
            },
            "type": "scatter"
           }
          ],
          "scatter3d": [
           {
            "line": {
             "colorbar": {
              "outlinewidth": 0,
              "ticks": ""
             }
            },
            "marker": {
             "colorbar": {
              "outlinewidth": 0,
              "ticks": ""
             }
            },
            "type": "scatter3d"
           }
          ],
          "scattercarpet": [
           {
            "marker": {
             "colorbar": {
              "outlinewidth": 0,
              "ticks": ""
             }
            },
            "type": "scattercarpet"
           }
          ],
          "scattergeo": [
           {
            "marker": {
             "colorbar": {
              "outlinewidth": 0,
              "ticks": ""
             }
            },
            "type": "scattergeo"
           }
          ],
          "scattergl": [
           {
            "marker": {
             "colorbar": {
              "outlinewidth": 0,
              "ticks": ""
             }
            },
            "type": "scattergl"
           }
          ],
          "scattermap": [
           {
            "marker": {
             "colorbar": {
              "outlinewidth": 0,
              "ticks": ""
             }
            },
            "type": "scattermap"
           }
          ],
          "scattermapbox": [
           {
            "marker": {
             "colorbar": {
              "outlinewidth": 0,
              "ticks": ""
             }
            },
            "type": "scattermapbox"
           }
          ],
          "scatterpolar": [
           {
            "marker": {
             "colorbar": {
              "outlinewidth": 0,
              "ticks": ""
             }
            },
            "type": "scatterpolar"
           }
          ],
          "scatterpolargl": [
           {
            "marker": {
             "colorbar": {
              "outlinewidth": 0,
              "ticks": ""
             }
            },
            "type": "scatterpolargl"
           }
          ],
          "scatterternary": [
           {
            "marker": {
             "colorbar": {
              "outlinewidth": 0,
              "ticks": ""
             }
            },
            "type": "scatterternary"
           }
          ],
          "surface": [
           {
            "colorbar": {
             "outlinewidth": 0,
             "ticks": ""
            },
            "colorscale": [
             [
              0,
              "#0d0887"
             ],
             [
              0.1111111111111111,
              "#46039f"
             ],
             [
              0.2222222222222222,
              "#7201a8"
             ],
             [
              0.3333333333333333,
              "#9c179e"
             ],
             [
              0.4444444444444444,
              "#bd3786"
             ],
             [
              0.5555555555555556,
              "#d8576b"
             ],
             [
              0.6666666666666666,
              "#ed7953"
             ],
             [
              0.7777777777777778,
              "#fb9f3a"
             ],
             [
              0.8888888888888888,
              "#fdca26"
             ],
             [
              1,
              "#f0f921"
             ]
            ],
            "type": "surface"
           }
          ],
          "table": [
           {
            "cells": {
             "fill": {
              "color": "#EBF0F8"
             },
             "line": {
              "color": "white"
             }
            },
            "header": {
             "fill": {
              "color": "#C8D4E3"
             },
             "line": {
              "color": "white"
             }
            },
            "type": "table"
           }
          ]
         },
         "layout": {
          "annotationdefaults": {
           "arrowcolor": "#2a3f5f",
           "arrowhead": 0,
           "arrowwidth": 1
          },
          "autotypenumbers": "strict",
          "coloraxis": {
           "colorbar": {
            "outlinewidth": 0,
            "ticks": ""
           }
          },
          "colorscale": {
           "diverging": [
            [
             0,
             "#8e0152"
            ],
            [
             0.1,
             "#c51b7d"
            ],
            [
             0.2,
             "#de77ae"
            ],
            [
             0.3,
             "#f1b6da"
            ],
            [
             0.4,
             "#fde0ef"
            ],
            [
             0.5,
             "#f7f7f7"
            ],
            [
             0.6,
             "#e6f5d0"
            ],
            [
             0.7,
             "#b8e186"
            ],
            [
             0.8,
             "#7fbc41"
            ],
            [
             0.9,
             "#4d9221"
            ],
            [
             1,
             "#276419"
            ]
           ],
           "sequential": [
            [
             0,
             "#0d0887"
            ],
            [
             0.1111111111111111,
             "#46039f"
            ],
            [
             0.2222222222222222,
             "#7201a8"
            ],
            [
             0.3333333333333333,
             "#9c179e"
            ],
            [
             0.4444444444444444,
             "#bd3786"
            ],
            [
             0.5555555555555556,
             "#d8576b"
            ],
            [
             0.6666666666666666,
             "#ed7953"
            ],
            [
             0.7777777777777778,
             "#fb9f3a"
            ],
            [
             0.8888888888888888,
             "#fdca26"
            ],
            [
             1,
             "#f0f921"
            ]
           ],
           "sequentialminus": [
            [
             0,
             "#0d0887"
            ],
            [
             0.1111111111111111,
             "#46039f"
            ],
            [
             0.2222222222222222,
             "#7201a8"
            ],
            [
             0.3333333333333333,
             "#9c179e"
            ],
            [
             0.4444444444444444,
             "#bd3786"
            ],
            [
             0.5555555555555556,
             "#d8576b"
            ],
            [
             0.6666666666666666,
             "#ed7953"
            ],
            [
             0.7777777777777778,
             "#fb9f3a"
            ],
            [
             0.8888888888888888,
             "#fdca26"
            ],
            [
             1,
             "#f0f921"
            ]
           ]
          },
          "colorway": [
           "#636efa",
           "#EF553B",
           "#00cc96",
           "#ab63fa",
           "#FFA15A",
           "#19d3f3",
           "#FF6692",
           "#B6E880",
           "#FF97FF",
           "#FECB52"
          ],
          "font": {
           "color": "#2a3f5f"
          },
          "geo": {
           "bgcolor": "white",
           "lakecolor": "white",
           "landcolor": "#E5ECF6",
           "showlakes": true,
           "showland": true,
           "subunitcolor": "white"
          },
          "hoverlabel": {
           "align": "left"
          },
          "hovermode": "closest",
          "mapbox": {
           "style": "light"
          },
          "paper_bgcolor": "white",
          "plot_bgcolor": "#E5ECF6",
          "polar": {
           "angularaxis": {
            "gridcolor": "white",
            "linecolor": "white",
            "ticks": ""
           },
           "bgcolor": "#E5ECF6",
           "radialaxis": {
            "gridcolor": "white",
            "linecolor": "white",
            "ticks": ""
           }
          },
          "scene": {
           "xaxis": {
            "backgroundcolor": "#E5ECF6",
            "gridcolor": "white",
            "gridwidth": 2,
            "linecolor": "white",
            "showbackground": true,
            "ticks": "",
            "zerolinecolor": "white"
           },
           "yaxis": {
            "backgroundcolor": "#E5ECF6",
            "gridcolor": "white",
            "gridwidth": 2,
            "linecolor": "white",
            "showbackground": true,
            "ticks": "",
            "zerolinecolor": "white"
           },
           "zaxis": {
            "backgroundcolor": "#E5ECF6",
            "gridcolor": "white",
            "gridwidth": 2,
            "linecolor": "white",
            "showbackground": true,
            "ticks": "",
            "zerolinecolor": "white"
           }
          },
          "shapedefaults": {
           "line": {
            "color": "#2a3f5f"
           }
          },
          "ternary": {
           "aaxis": {
            "gridcolor": "white",
            "linecolor": "white",
            "ticks": ""
           },
           "baxis": {
            "gridcolor": "white",
            "linecolor": "white",
            "ticks": ""
           },
           "bgcolor": "#E5ECF6",
           "caxis": {
            "gridcolor": "white",
            "linecolor": "white",
            "ticks": ""
           }
          },
          "title": {
           "x": 0.05
          },
          "xaxis": {
           "automargin": true,
           "gridcolor": "white",
           "linecolor": "white",
           "ticks": "",
           "title": {
            "standoff": 15
           },
           "zerolinecolor": "white",
           "zerolinewidth": 2
          },
          "yaxis": {
           "automargin": true,
           "gridcolor": "white",
           "linecolor": "white",
           "ticks": "",
           "title": {
            "standoff": 15
           },
           "zerolinecolor": "white",
           "zerolinewidth": 2
          }
         }
        },
        "title": {
         "text": "Top 10 States by Non-EV Sales CAGR (FY 2022–2024)"
        },
        "width": 900,
        "xaxis": {
         "anchor": "y",
         "domain": [
          0,
          1
         ],
         "gridcolor": "lightgray",
         "showgrid": true,
         "title": {
          "text": "CAGR (%)"
         }
        },
        "yaxis": {
         "anchor": "x",
         "domain": [
          0,
          1
         ],
         "title": {
          "text": "State"
         }
        }
       }
      }
     },
     "metadata": {},
     "output_type": "display_data"
    }
   ],
   "source": [
    "# Create visualization for non-EV sales CAGR\n",
    "print(\"Creating visualization for top 10 states by non-EV CAGR...\")\n",
    "\n",
    "# Sort for visualization\n",
    "non_ev_top10_sorted = top10_non_ev.sort_values('CAGR')\n",
    "\n",
    "# Create interactive bar chart\n",
    "fig = px.bar(non_ev_top10_sorted, \n",
    "             x='CAGR', \n",
    "             y='state',\n",
    "             orientation='h',\n",
    "             title='Top 10 States by Non-EV Sales CAGR (FY 2022–2024)',\n",
    "             labels={'CAGR': 'CAGR (%)', 'state': 'State'},\n",
    "             color='CAGR',\n",
    "             color_continuous_scale='Viridis',  # Different color scale for non-EV\n",
    "             text='CAGR')\n",
    "\n",
    "fig.update_traces(texttemplate='%{text:.2f}%', textposition='outside')\n",
    "\n",
    "fig.update_layout(\n",
    "    xaxis=dict(title='CAGR (%)', gridcolor='lightgray', showgrid=True),\n",
    "    yaxis=dict(title='State'),\n",
    "    coloraxis_showscale=False,\n",
    "    height=600,\n",
    "    width=900,\n",
    "    plot_bgcolor='white',\n",
    "    margin=dict(l=100)\n",
    ")\n",
    "\n",
    "fig.show()\n",
    "\n",
    "# Save the visualization\n",
    "fig.write_html(\"../../data/visuals/top10_states_non_ev_cagr_fiscal_years.html\")"
   ]
  },
  {
   "cell_type": "markdown",
   "id": "02051439",
   "metadata": {},
   "source": [
    "## Non-EV Sales Market Analysis\n",
    "\n",
    "The traditional vehicle market (non-EV sales) shows interesting patterns:\n",
    "\n",
    "1. **Growth Leaders**:\n",
    "   - **Meghalaya** maintains leadership with **27.5% CAGR**\n",
    "   - **Goa** follows closely at **27.2% CAGR**\n",
    "   - **Karnataka** shows strong performance at **25.1% CAGR**\n",
    "\n",
    "2. **Market Correlation**: States performing well in traditional vehicle sales often show strong EV growth too, suggesting healthy overall automotive ecosystems rather than cannibalization between segments.\n",
    "\n",
    "3. **Regional Strengths**: States with tourism economies (Goa) and technology hubs (Karnataka) demonstrate strong traditional vehicle sales growth, indicating different market drivers than EV-specific policies.\n",
    "\n",
    "4. **Strategic Value**: These markets represent prime opportunities for:\n",
    "   - Hybrid market approaches (offering both EV and non-EV options)\n",
    "   - Targeted financing programs\n",
    "   - Dealer network optimization\n",
    "   - Consumer choice-focused marketing strategies"
   ]
  },
  {
   "cell_type": "code",
   "execution_count": 16,
   "id": "edb9a49b",
   "metadata": {},
   "outputs": [
    {
     "name": "stdout",
     "output_type": "stream",
     "text": [
      "Creating comparison between total vehicle CAGR and EV CAGR...\n",
      "Comparison between Total Vehicle CAGR and EV CAGR:\n"
     ]
    },
    {
     "data": {
      "text/html": [
       "<div>\n",
       "<style scoped>\n",
       "    .dataframe tbody tr th:only-of-type {\n",
       "        vertical-align: middle;\n",
       "    }\n",
       "\n",
       "    .dataframe tbody tr th {\n",
       "        vertical-align: top;\n",
       "    }\n",
       "\n",
       "    .dataframe thead th {\n",
       "        text-align: right;\n",
       "    }\n",
       "</style>\n",
       "<table border=\"1\" class=\"dataframe\">\n",
       "  <thead>\n",
       "    <tr style=\"text-align: right;\">\n",
       "      <th>fiscal_year</th>\n",
       "      <th>state</th>\n",
       "      <th>Total_CAGR</th>\n",
       "      <th>EV_CAGR</th>\n",
       "    </tr>\n",
       "  </thead>\n",
       "  <tbody>\n",
       "    <tr>\n",
       "      <th>20</th>\n",
       "      <td>Meghalaya</td>\n",
       "      <td>28.469075</td>\n",
       "      <td>476.63</td>\n",
       "    </tr>\n",
       "    <tr>\n",
       "      <th>27</th>\n",
       "      <td>Tripura</td>\n",
       "      <td>10.944725</td>\n",
       "      <td>229.50</td>\n",
       "    </tr>\n",
       "    <tr>\n",
       "      <th>21</th>\n",
       "      <td>Nagaland</td>\n",
       "      <td>14.916173</td>\n",
       "      <td>200.00</td>\n",
       "    </tr>\n",
       "    <tr>\n",
       "      <th>4</th>\n",
       "      <td>Chandigarh</td>\n",
       "      <td>10.530904</td>\n",
       "      <td>164.58</td>\n",
       "    </tr>\n",
       "    <tr>\n",
       "      <th>5</th>\n",
       "      <td>Chhattisgarh</td>\n",
       "      <td>13.534970</td>\n",
       "      <td>150.89</td>\n",
       "    </tr>\n",
       "    <tr>\n",
       "      <th>30</th>\n",
       "      <td>West Bengal</td>\n",
       "      <td>5.715537</td>\n",
       "      <td>150.62</td>\n",
       "    </tr>\n",
       "    <tr>\n",
       "      <th>8</th>\n",
       "      <td>Goa</td>\n",
       "      <td>27.410196</td>\n",
       "      <td>146.45</td>\n",
       "    </tr>\n",
       "    <tr>\n",
       "      <th>6</th>\n",
       "      <td>DNH and DD</td>\n",
       "      <td>14.943270</td>\n",
       "      <td>137.85</td>\n",
       "    </tr>\n",
       "    <tr>\n",
       "      <th>28</th>\n",
       "      <td>Uttar Pradesh</td>\n",
       "      <td>8.361090</td>\n",
       "      <td>137.70</td>\n",
       "    </tr>\n",
       "    <tr>\n",
       "      <th>17</th>\n",
       "      <td>Madhya Pradesh</td>\n",
       "      <td>15.318181</td>\n",
       "      <td>133.67</td>\n",
       "    </tr>\n",
       "  </tbody>\n",
       "</table>\n",
       "</div>"
      ],
      "text/plain": [
       "fiscal_year           state  Total_CAGR  EV_CAGR\n",
       "20                Meghalaya   28.469075   476.63\n",
       "27                  Tripura   10.944725   229.50\n",
       "21                 Nagaland   14.916173   200.00\n",
       "4                Chandigarh   10.530904   164.58\n",
       "5              Chhattisgarh   13.534970   150.89\n",
       "30              West Bengal    5.715537   150.62\n",
       "8                       Goa   27.410196   146.45\n",
       "6                DNH and DD   14.943270   137.85\n",
       "28            Uttar Pradesh    8.361090   137.70\n",
       "17           Madhya Pradesh   15.318181   133.67"
      ]
     },
     "metadata": {},
     "output_type": "display_data"
    },
    {
     "name": "stdout",
     "output_type": "stream",
     "text": [
      "\n",
      "Correlation between Total Vehicle CAGR and EV CAGR: 0.204\n"
     ]
    }
   ],
   "source": [
    "# Create a comparison between total vehicle CAGR and EV CAGR\n",
    "print(\"Creating comparison between total vehicle CAGR and EV CAGR...\")\n",
    "\n",
    "# Merge total and EV CAGR dataframes\n",
    "comparison = pd.merge(\n",
    "    clean_pivot[['state', 'CAGR']].rename(columns={'CAGR': 'Total_CAGR'}),\n",
    "    ev_sales_clean[['state', 'CAGR']].rename(columns={'CAGR': 'EV_CAGR'}),\n",
    "    on='state',\n",
    "    how='inner'\n",
    ")\n",
    "\n",
    "# Sort by EV CAGR descending\n",
    "comparison_sorted = comparison.sort_values('EV_CAGR', ascending=False)\n",
    "\n",
    "# Display the comparison table\n",
    "print(\"Comparison between Total Vehicle CAGR and EV CAGR:\")\n",
    "display(comparison_sorted.head(10))\n",
    "\n",
    "# Calculate correlation between Total CAGR and EV CAGR\n",
    "correlation = comparison['Total_CAGR'].corr(comparison['EV_CAGR'])\n",
    "print(f\"\\nCorrelation between Total Vehicle CAGR and EV CAGR: {correlation:.3f}\")"
   ]
  },
  {
   "cell_type": "code",
   "execution_count": 17,
   "id": "b7d425f8",
   "metadata": {},
   "outputs": [
    {
     "name": "stdout",
     "output_type": "stream",
     "text": [
      "Creating scatter plot with regression line to analyze relationship...\n"
     ]
    },
    {
     "data": {
      "application/vnd.plotly.v1+json": {
       "config": {
        "plotlyServerURL": "https://plot.ly"
       },
       "data": [
        {
         "hovertemplate": "<b>%{hovertext}</b><br><br>Total Vehicles CAGR (%)=%{x}<br>EV CAGR (%)=%{y}<br>state=%{text}<extra></extra>",
         "hovertext": [
          "Andaman & Nicobar",
          "Andhra Pradesh",
          "Assam",
          "Bihar",
          "Chandigarh",
          "Chhattisgarh",
          "DNH and DD",
          "Delhi",
          "Goa",
          "Gujarat",
          "Haryana",
          "Himachal Pradesh",
          "Jammu and Kashmir",
          "Jharkhand",
          "Karnataka",
          "Kerala",
          "Ladakh",
          "Madhya Pradesh",
          "Maharashtra",
          "Manipur",
          "Meghalaya",
          "Nagaland",
          "Odisha",
          "Puducherry",
          "Punjab",
          "Rajasthan",
          "Tamil Nadu",
          "Tripura",
          "Uttar Pradesh",
          "Uttarakhand",
          "West Bengal"
         ],
         "legendgroup": "",
         "marker": {
          "color": "skyblue",
          "size": 12,
          "symbol": "circle"
         },
         "mode": "markers+text",
         "name": "",
         "orientation": "v",
         "showlegend": false,
         "text": [
          "Andaman & Nicobar",
          "Andhra Pradesh",
          "Assam",
          "Bihar",
          "Chandigarh",
          "Chhattisgarh",
          "DNH and DD",
          "Delhi",
          "Goa",
          "Gujarat",
          "Haryana",
          "Himachal Pradesh",
          "Jammu and Kashmir",
          "Jharkhand",
          "Karnataka",
          "Kerala",
          "Ladakh",
          "Madhya Pradesh",
          "Maharashtra",
          "Manipur",
          "Meghalaya",
          "Nagaland",
          "Odisha",
          "Puducherry",
          "Punjab",
          "Rajasthan",
          "Tamil Nadu",
          "Tripura",
          "Uttar Pradesh",
          "Uttarakhand",
          "West Bengal"
         ],
         "textfont": {
          "size": 8
         },
         "textposition": "top center",
         "type": "scatter",
         "x": {
          "bdata": "Pwp5WIBJMkBoz5VoJOHkP8UQAlA4IjRAjEBYj8RDKUCYfHef0g8lQOhYhZXnEStAvLYCOfTiLUDt0ieXZOI2QKNTPKECaTtAHG0bf7GLNEB1fW3qMK4xQEjAeYvPTyJAuCdMWIYDAEAR9nUe0FMjQDXynNeYSDlAEMXamPhtDsDV1cytaMcTQEepsanooi5AbQw2BOFOMUD8mFjT0pc8wHQW2UcVeDxAgayulBTVLUAVK4UQTBMrQMSXpnZEzy9AvucqogKyK0ApEdZQVH81QNbDGTlf9ylA+uve9bLjJUDc09PO4LggQIyW6gVQ8C9Atp162LXcFkA=",
          "dtype": "f8"
         },
         "xaxis": "x",
         "y": {
          "bdata": "4XoUrkchOkDNzMzMzCxLQEjhehSut11AmpmZmZkpU0DD9Shcj5JkQBSuR+F63GJAMzMzMzM7YUBmZmZmZgZRQGZmZmZmTmJAhetRuB4VXUApXI/C9YhEQEjhehSu50pArkfhehQuOkApXI/C9XhRQI/C9ShcT1dAw/UoXI+aYEA9CtejcF1OQD0K16NwtWBAKVyPwvV4WUAAAAAAACBfQK5H4XoUyn1AAAAAAAAAaUBcj8L1KLxZQFyPwvUoXFpA4XoUrkehTEBI4XoUrndUQJqZmZmZ+U1AAAAAAACwbEBmZmZmZjZhQBSuR+F6pFJApHA9CtfTYkA=",
          "dtype": "f8"
         },
         "yaxis": "y"
        },
        {
         "hovertemplate": "x=%{x}<br>y=%{y}<extra></extra>",
         "legendgroup": "",
         "line": {
          "color": "darkorange",
          "dash": "solid",
          "width": 3
         },
         "marker": {
          "symbol": "circle"
         },
         "mode": "lines",
         "name": "",
         "orientation": "v",
         "showlegend": false,
         "type": "scatter",
         "x": {
          "bdata": "/JhY09KXPMC1PD7YRAQ8wG7gI922cDvAJ4QJ4ijdOsDgJ+/mmkk6wJnL1OsMtjnAUm+68H4iOcAME6D18I44wMS2hfpi+zfAflpr/9RnN8A2/lAER9Q2wPChNgm5QDbAqUUcDiutNcBi6QETnRk1wBuN5xcPhjTA1DDNHIHyM8CN1LIh814zwEZ4mCZlyzLA/xt+K9c3MsC4v2MwSaQxwHFjSTW7EDHAKgcvOi19MMDHVSl+PtMvwDmd9IcirC7Aq+S/kQaFLcAdLIub6l0swI9zVqXONivAAbshr7IPKsB0Au24lugowOZJuMJ6wSfAWJGDzF6aJsDK2E7WQnMlwDwgGuAmTCTArmfl6QolI8Agr7Dz7v0hwJL2e/3S1iDACHyODm5fH8DsCiUiNhEdwNCZuzX+whrAtChSScZ0GMCYt+hcjiYWwIBGf3BW2BPAZNUVhB6KEcCQyFgvzXcOwFjmhVZd2wnAIASzfe0+BcDoIeCkfaIAwGB/GpgbDPi/4HXpzHem7b8A2jvTcGnWv4BvtuYb9Mw/wCT5XMau6T/QViLgQhD2P0AbyJEiSf8/2O+2IQFBBEAQ0on6cN0IQEC0XNPgeQ1AQMsXVigLEUBYPIFCYFkTQHit6i6YpxVAkB5UG9D1F0Cwj70HCEQaQMgAJ/Q/khxA6HGQ4HfgHkCA8XzmV5cgQAyqsdxzviFAnGLm0o/lIkAoGxvJqwwkQLjTT7/HMyVARIyEteNaJkDURLmr/4EnQGD97aEbqShA8LUimDfQKUB8bleOU/cqQAwnjIRvHixAmN/AeotFLUAomPVwp2wuQLRQKmfDky9AooSvrm9dMEDo4Mmp/fAwQDA95KSLhDFAdpn+nxkYMkC89Ribp6syQARSM5Y1PzNASq5NkcPSM0CSCmiMUWY0QNhmgoff+TRAIMOcgm2NNUBmH7d9+yA2QK570XiJtDZA9NfrcxdIN0A8NAZvpds3QIKQIGozbzhAyuw6ZcECOUAQSVVgT5Y5QFilb1vdKTpAngGKVmu9OkDkXaRR+VA7QCy6vkyH5DtAdBbZRxV4PEA=",
          "dtype": "f8"
         },
         "xaxis": "x",
         "y": {
          "bdata": "ZJ4gykMcSUDbeMpEpZBJQFNTdL8GBUpAyi0eOmh5SkBBCMi0ye1KQLjicS8rYktAL70bqozWS0Cml8Uk7kpMQB5yb59Pv0xAlEwZGrEzTUAMJ8OUEqhNQIIBbQ90HE5A+tsWitWQTkBxtsAENwVPQOiQan+YeU9AX2sU+vntT0DrIl+6LTFQQCcQtHdea1BAYv0INY+lUECe6l3yv99QQNrXsq/wGVFAFcUHbSFUUUBQslwqUo5RQIyfseeCyFFAyIwGpbMCUkADelti5DxSQD9nsB8Vd1JAelQF3UWxUkC2QVqadutSQPIur1enJVNALRwEFdhfU0BpCVnSCJpTQKT2rY851FNA4OMCTWoOVEAc0VcKm0hUQFe+rMfLglRAk6sBhfy8VEDOmFZCLfdUQAqGq/9dMVVARnMAvY5rVUCBYFV6v6VVQLxNqjfw31VA+Dr/9CAaVkA0KFSyUVRWQG8VqW+CjlZAqwL+LLPIVkDm71Lq4wJXQCLdp6cUPVdAXcr8ZEV3V0CZt1EidrFXQNWkpt+m61dAEJL7nNclWEBMf1BaCGBYQIdspRc5mlhAw1n61GnUWED/Rk+Smg5ZQDo0pE/LSFlAdiH5DPyCWUCxDk7KLL1ZQO37oodd91lAKOn3RI4xWkBk1kwCv2taQJ/Dob/vpVpA27D2fCDgWkAXnks6URpbQFKLoPeBVFtAjnj1tLKOW0DJZUpy48hbQAVTny8UA1xAQED07EQ9XEB8LUmqdXdcQLcanmemsVxA8wfzJNfrXEAu9UfiByZdQGrinJ84YF1Aps/xXGmaXUDivEYamtRdQB2qm9fKDl5AWZfwlPtIXkCUhEVSLINeQNBxmg9dvV5AC1/vzI33XkBGTESKvjFfQII5mUfva19AvibuBCCmX0D6E0PCUOBfQJoAzL9ADWBAOHd2HlkqYEDW7SB9cUdgQHRky9uJZGBAEtt1OqKBYECwUSCZup5gQE3IyvfSu2BA6z51VuvYYECJtR+1A/ZgQCcsyhMcE2FAxKJ0cjQwYUBiGR/RTE1hQACQyS9lamFAngZ0jn2HYUA=",
          "dtype": "f8"
         },
         "yaxis": "y"
        }
       ],
       "layout": {
        "annotations": [
         {
          "bgcolor": "rgba(255, 255, 255, 0.8)",
          "bordercolor": "darkgray",
          "borderwidth": 1,
          "showarrow": false,
          "text": "y = 1.58x + 95.33<br>R² = 0.041",
          "x": -25.739953922413598,
          "y": 454.105
         }
        ],
        "height": 700,
        "legend": {
         "tracegroupgap": 0
        },
        "plot_bgcolor": "white",
        "template": {
         "data": {
          "bar": [
           {
            "error_x": {
             "color": "#2a3f5f"
            },
            "error_y": {
             "color": "#2a3f5f"
            },
            "marker": {
             "line": {
              "color": "#E5ECF6",
              "width": 0.5
             },
             "pattern": {
              "fillmode": "overlay",
              "size": 10,
              "solidity": 0.2
             }
            },
            "type": "bar"
           }
          ],
          "barpolar": [
           {
            "marker": {
             "line": {
              "color": "#E5ECF6",
              "width": 0.5
             },
             "pattern": {
              "fillmode": "overlay",
              "size": 10,
              "solidity": 0.2
             }
            },
            "type": "barpolar"
           }
          ],
          "carpet": [
           {
            "aaxis": {
             "endlinecolor": "#2a3f5f",
             "gridcolor": "white",
             "linecolor": "white",
             "minorgridcolor": "white",
             "startlinecolor": "#2a3f5f"
            },
            "baxis": {
             "endlinecolor": "#2a3f5f",
             "gridcolor": "white",
             "linecolor": "white",
             "minorgridcolor": "white",
             "startlinecolor": "#2a3f5f"
            },
            "type": "carpet"
           }
          ],
          "choropleth": [
           {
            "colorbar": {
             "outlinewidth": 0,
             "ticks": ""
            },
            "type": "choropleth"
           }
          ],
          "contour": [
           {
            "colorbar": {
             "outlinewidth": 0,
             "ticks": ""
            },
            "colorscale": [
             [
              0,
              "#0d0887"
             ],
             [
              0.1111111111111111,
              "#46039f"
             ],
             [
              0.2222222222222222,
              "#7201a8"
             ],
             [
              0.3333333333333333,
              "#9c179e"
             ],
             [
              0.4444444444444444,
              "#bd3786"
             ],
             [
              0.5555555555555556,
              "#d8576b"
             ],
             [
              0.6666666666666666,
              "#ed7953"
             ],
             [
              0.7777777777777778,
              "#fb9f3a"
             ],
             [
              0.8888888888888888,
              "#fdca26"
             ],
             [
              1,
              "#f0f921"
             ]
            ],
            "type": "contour"
           }
          ],
          "contourcarpet": [
           {
            "colorbar": {
             "outlinewidth": 0,
             "ticks": ""
            },
            "type": "contourcarpet"
           }
          ],
          "heatmap": [
           {
            "colorbar": {
             "outlinewidth": 0,
             "ticks": ""
            },
            "colorscale": [
             [
              0,
              "#0d0887"
             ],
             [
              0.1111111111111111,
              "#46039f"
             ],
             [
              0.2222222222222222,
              "#7201a8"
             ],
             [
              0.3333333333333333,
              "#9c179e"
             ],
             [
              0.4444444444444444,
              "#bd3786"
             ],
             [
              0.5555555555555556,
              "#d8576b"
             ],
             [
              0.6666666666666666,
              "#ed7953"
             ],
             [
              0.7777777777777778,
              "#fb9f3a"
             ],
             [
              0.8888888888888888,
              "#fdca26"
             ],
             [
              1,
              "#f0f921"
             ]
            ],
            "type": "heatmap"
           }
          ],
          "histogram": [
           {
            "marker": {
             "pattern": {
              "fillmode": "overlay",
              "size": 10,
              "solidity": 0.2
             }
            },
            "type": "histogram"
           }
          ],
          "histogram2d": [
           {
            "colorbar": {
             "outlinewidth": 0,
             "ticks": ""
            },
            "colorscale": [
             [
              0,
              "#0d0887"
             ],
             [
              0.1111111111111111,
              "#46039f"
             ],
             [
              0.2222222222222222,
              "#7201a8"
             ],
             [
              0.3333333333333333,
              "#9c179e"
             ],
             [
              0.4444444444444444,
              "#bd3786"
             ],
             [
              0.5555555555555556,
              "#d8576b"
             ],
             [
              0.6666666666666666,
              "#ed7953"
             ],
             [
              0.7777777777777778,
              "#fb9f3a"
             ],
             [
              0.8888888888888888,
              "#fdca26"
             ],
             [
              1,
              "#f0f921"
             ]
            ],
            "type": "histogram2d"
           }
          ],
          "histogram2dcontour": [
           {
            "colorbar": {
             "outlinewidth": 0,
             "ticks": ""
            },
            "colorscale": [
             [
              0,
              "#0d0887"
             ],
             [
              0.1111111111111111,
              "#46039f"
             ],
             [
              0.2222222222222222,
              "#7201a8"
             ],
             [
              0.3333333333333333,
              "#9c179e"
             ],
             [
              0.4444444444444444,
              "#bd3786"
             ],
             [
              0.5555555555555556,
              "#d8576b"
             ],
             [
              0.6666666666666666,
              "#ed7953"
             ],
             [
              0.7777777777777778,
              "#fb9f3a"
             ],
             [
              0.8888888888888888,
              "#fdca26"
             ],
             [
              1,
              "#f0f921"
             ]
            ],
            "type": "histogram2dcontour"
           }
          ],
          "mesh3d": [
           {
            "colorbar": {
             "outlinewidth": 0,
             "ticks": ""
            },
            "type": "mesh3d"
           }
          ],
          "parcoords": [
           {
            "line": {
             "colorbar": {
              "outlinewidth": 0,
              "ticks": ""
             }
            },
            "type": "parcoords"
           }
          ],
          "pie": [
           {
            "automargin": true,
            "type": "pie"
           }
          ],
          "scatter": [
           {
            "fillpattern": {
             "fillmode": "overlay",
             "size": 10,
             "solidity": 0.2
            },
            "type": "scatter"
           }
          ],
          "scatter3d": [
           {
            "line": {
             "colorbar": {
              "outlinewidth": 0,
              "ticks": ""
             }
            },
            "marker": {
             "colorbar": {
              "outlinewidth": 0,
              "ticks": ""
             }
            },
            "type": "scatter3d"
           }
          ],
          "scattercarpet": [
           {
            "marker": {
             "colorbar": {
              "outlinewidth": 0,
              "ticks": ""
             }
            },
            "type": "scattercarpet"
           }
          ],
          "scattergeo": [
           {
            "marker": {
             "colorbar": {
              "outlinewidth": 0,
              "ticks": ""
             }
            },
            "type": "scattergeo"
           }
          ],
          "scattergl": [
           {
            "marker": {
             "colorbar": {
              "outlinewidth": 0,
              "ticks": ""
             }
            },
            "type": "scattergl"
           }
          ],
          "scattermap": [
           {
            "marker": {
             "colorbar": {
              "outlinewidth": 0,
              "ticks": ""
             }
            },
            "type": "scattermap"
           }
          ],
          "scattermapbox": [
           {
            "marker": {
             "colorbar": {
              "outlinewidth": 0,
              "ticks": ""
             }
            },
            "type": "scattermapbox"
           }
          ],
          "scatterpolar": [
           {
            "marker": {
             "colorbar": {
              "outlinewidth": 0,
              "ticks": ""
             }
            },
            "type": "scatterpolar"
           }
          ],
          "scatterpolargl": [
           {
            "marker": {
             "colorbar": {
              "outlinewidth": 0,
              "ticks": ""
             }
            },
            "type": "scatterpolargl"
           }
          ],
          "scatterternary": [
           {
            "marker": {
             "colorbar": {
              "outlinewidth": 0,
              "ticks": ""
             }
            },
            "type": "scatterternary"
           }
          ],
          "surface": [
           {
            "colorbar": {
             "outlinewidth": 0,
             "ticks": ""
            },
            "colorscale": [
             [
              0,
              "#0d0887"
             ],
             [
              0.1111111111111111,
              "#46039f"
             ],
             [
              0.2222222222222222,
              "#7201a8"
             ],
             [
              0.3333333333333333,
              "#9c179e"
             ],
             [
              0.4444444444444444,
              "#bd3786"
             ],
             [
              0.5555555555555556,
              "#d8576b"
             ],
             [
              0.6666666666666666,
              "#ed7953"
             ],
             [
              0.7777777777777778,
              "#fb9f3a"
             ],
             [
              0.8888888888888888,
              "#fdca26"
             ],
             [
              1,
              "#f0f921"
             ]
            ],
            "type": "surface"
           }
          ],
          "table": [
           {
            "cells": {
             "fill": {
              "color": "#EBF0F8"
             },
             "line": {
              "color": "white"
             }
            },
            "header": {
             "fill": {
              "color": "#C8D4E3"
             },
             "line": {
              "color": "white"
             }
            },
            "type": "table"
           }
          ]
         },
         "layout": {
          "annotationdefaults": {
           "arrowcolor": "#2a3f5f",
           "arrowhead": 0,
           "arrowwidth": 1
          },
          "autotypenumbers": "strict",
          "coloraxis": {
           "colorbar": {
            "outlinewidth": 0,
            "ticks": ""
           }
          },
          "colorscale": {
           "diverging": [
            [
             0,
             "#8e0152"
            ],
            [
             0.1,
             "#c51b7d"
            ],
            [
             0.2,
             "#de77ae"
            ],
            [
             0.3,
             "#f1b6da"
            ],
            [
             0.4,
             "#fde0ef"
            ],
            [
             0.5,
             "#f7f7f7"
            ],
            [
             0.6,
             "#e6f5d0"
            ],
            [
             0.7,
             "#b8e186"
            ],
            [
             0.8,
             "#7fbc41"
            ],
            [
             0.9,
             "#4d9221"
            ],
            [
             1,
             "#276419"
            ]
           ],
           "sequential": [
            [
             0,
             "#0d0887"
            ],
            [
             0.1111111111111111,
             "#46039f"
            ],
            [
             0.2222222222222222,
             "#7201a8"
            ],
            [
             0.3333333333333333,
             "#9c179e"
            ],
            [
             0.4444444444444444,
             "#bd3786"
            ],
            [
             0.5555555555555556,
             "#d8576b"
            ],
            [
             0.6666666666666666,
             "#ed7953"
            ],
            [
             0.7777777777777778,
             "#fb9f3a"
            ],
            [
             0.8888888888888888,
             "#fdca26"
            ],
            [
             1,
             "#f0f921"
            ]
           ],
           "sequentialminus": [
            [
             0,
             "#0d0887"
            ],
            [
             0.1111111111111111,
             "#46039f"
            ],
            [
             0.2222222222222222,
             "#7201a8"
            ],
            [
             0.3333333333333333,
             "#9c179e"
            ],
            [
             0.4444444444444444,
             "#bd3786"
            ],
            [
             0.5555555555555556,
             "#d8576b"
            ],
            [
             0.6666666666666666,
             "#ed7953"
            ],
            [
             0.7777777777777778,
             "#fb9f3a"
            ],
            [
             0.8888888888888888,
             "#fdca26"
            ],
            [
             1,
             "#f0f921"
            ]
           ]
          },
          "colorway": [
           "#636efa",
           "#EF553B",
           "#00cc96",
           "#ab63fa",
           "#FFA15A",
           "#19d3f3",
           "#FF6692",
           "#B6E880",
           "#FF97FF",
           "#FECB52"
          ],
          "font": {
           "color": "#2a3f5f"
          },
          "geo": {
           "bgcolor": "white",
           "lakecolor": "white",
           "landcolor": "#E5ECF6",
           "showlakes": true,
           "showland": true,
           "subunitcolor": "white"
          },
          "hoverlabel": {
           "align": "left"
          },
          "hovermode": "closest",
          "mapbox": {
           "style": "light"
          },
          "paper_bgcolor": "white",
          "plot_bgcolor": "#E5ECF6",
          "polar": {
           "angularaxis": {
            "gridcolor": "white",
            "linecolor": "white",
            "ticks": ""
           },
           "bgcolor": "#E5ECF6",
           "radialaxis": {
            "gridcolor": "white",
            "linecolor": "white",
            "ticks": ""
           }
          },
          "scene": {
           "xaxis": {
            "backgroundcolor": "#E5ECF6",
            "gridcolor": "white",
            "gridwidth": 2,
            "linecolor": "white",
            "showbackground": true,
            "ticks": "",
            "zerolinecolor": "white"
           },
           "yaxis": {
            "backgroundcolor": "#E5ECF6",
            "gridcolor": "white",
            "gridwidth": 2,
            "linecolor": "white",
            "showbackground": true,
            "ticks": "",
            "zerolinecolor": "white"
           },
           "zaxis": {
            "backgroundcolor": "#E5ECF6",
            "gridcolor": "white",
            "gridwidth": 2,
            "linecolor": "white",
            "showbackground": true,
            "ticks": "",
            "zerolinecolor": "white"
           }
          },
          "shapedefaults": {
           "line": {
            "color": "#2a3f5f"
           }
          },
          "ternary": {
           "aaxis": {
            "gridcolor": "white",
            "linecolor": "white",
            "ticks": ""
           },
           "baxis": {
            "gridcolor": "white",
            "linecolor": "white",
            "ticks": ""
           },
           "bgcolor": "#E5ECF6",
           "caxis": {
            "gridcolor": "white",
            "linecolor": "white",
            "ticks": ""
           }
          },
          "title": {
           "x": 0.05
          },
          "xaxis": {
           "automargin": true,
           "gridcolor": "white",
           "linecolor": "white",
           "ticks": "",
           "title": {
            "standoff": 15
           },
           "zerolinecolor": "white",
           "zerolinewidth": 2
          },
          "yaxis": {
           "automargin": true,
           "gridcolor": "white",
           "linecolor": "white",
           "ticks": "",
           "title": {
            "standoff": 15
           },
           "zerolinecolor": "white",
           "zerolinewidth": 2
          }
         }
        },
        "title": {
         "text": "Relationship Between Total Vehicle CAGR and EV CAGR by State (FY 2022-2024)"
        },
        "width": 900,
        "xaxis": {
         "anchor": "y",
         "domain": [
          0,
          1
         ],
         "gridcolor": "lightgray",
         "showgrid": true,
         "title": {
          "text": "Total Vehicles CAGR (%)"
         },
         "zeroline": true,
         "zerolinecolor": "gray"
        },
        "yaxis": {
         "anchor": "x",
         "domain": [
          0,
          1
         ],
         "gridcolor": "lightgray",
         "showgrid": true,
         "title": {
          "text": "EV CAGR (%)"
         },
         "zeroline": true,
         "zerolinecolor": "gray"
        }
       }
      }
     },
     "metadata": {},
     "output_type": "display_data"
    }
   ],
   "source": [
    "# Create a scatter plot with regression line to visualize the relationship\n",
    "print(\"Creating scatter plot with regression line to analyze relationship...\")\n",
    "\n",
    "# Create interactive scatter plot\n",
    "fig = px.scatter(\n",
    "    comparison,\n",
    "    x=\"Total_CAGR\",\n",
    "    y=\"EV_CAGR\",\n",
    "    hover_name=\"state\",\n",
    "    text=\"state\",\n",
    "    title=\"Relationship Between Total Vehicle CAGR and EV CAGR by State (FY 2022-2024)\",\n",
    "    labels={\"Total_CAGR\": \"Total Vehicles CAGR (%)\", \"EV_CAGR\": \"EV CAGR (%)\"}\n",
    ")\n",
    "\n",
    "# Update marker style\n",
    "fig.update_traces(\n",
    "    marker=dict(size=12, color=\"skyblue\"),\n",
    "    textposition=\"top center\",\n",
    "    textfont=dict(size=8)\n",
    ")\n",
    "\n",
    "# Add regression line\n",
    "X = comparison[\"Total_CAGR\"].values.reshape(-1, 1)\n",
    "y = comparison[\"EV_CAGR\"].values\n",
    "model = LinearRegression().fit(X, y)\n",
    "x_range = np.linspace(comparison[\"Total_CAGR\"].min(), comparison[\"Total_CAGR\"].max(), 100)\n",
    "y_pred = model.predict(x_range.reshape(-1, 1))\n",
    "\n",
    "fig.add_traces(\n",
    "    px.line(x=x_range, y=y_pred)\n",
    "    .update_traces(line=dict(color=\"darkorange\", width=3))\n",
    "    .data\n",
    ")\n",
    "\n",
    "# Add equation and R² as annotation\n",
    "r_squared = model.score(X, y)\n",
    "slope = model.coef_[0]\n",
    "intercept = model.intercept_\n",
    "\n",
    "fig.add_annotation(\n",
    "    x=comparison[\"Total_CAGR\"].min() + (comparison[\"Total_CAGR\"].max() - comparison[\"Total_CAGR\"].min())*0.05,\n",
    "    y=comparison[\"EV_CAGR\"].max() - (comparison[\"EV_CAGR\"].max() - comparison[\"EV_CAGR\"].min())*0.05,\n",
    "    text=f\"y = {slope:.2f}x + {intercept:.2f}<br>R² = {r_squared:.3f}\",\n",
    "    showarrow=False,\n",
    "    bgcolor=\"rgba(255, 255, 255, 0.8)\",\n",
    "    bordercolor=\"darkgray\",\n",
    "    borderwidth=1\n",
    ")\n",
    "\n",
    "# Layout improvements\n",
    "fig.update_layout(\n",
    "    height=700,\n",
    "    width=900,\n",
    "    plot_bgcolor=\"white\",\n",
    "    xaxis=dict(showgrid=True, gridcolor=\"lightgray\", zeroline=True, zerolinecolor=\"gray\"),\n",
    "    yaxis=dict(showgrid=True, gridcolor=\"lightgray\", zeroline=True, zerolinecolor=\"gray\")\n",
    ")\n",
    "\n",
    "fig.show()\n",
    "\n",
    "# Save the visualization\n",
    "fig.write_html(\"../../data/visuals/cagr_correlation_scatter_fiscal_years.html\")"
   ]
  },
  {
   "cell_type": "code",
   "execution_count": 18,
   "id": "034f2e05",
   "metadata": {},
   "outputs": [
    {
     "name": "stdout",
     "output_type": "stream",
     "text": [
      "Creating quadrant analysis for CAGR comparison...\n"
     ]
    },
    {
     "data": {
      "application/vnd.plotly.v1+json": {
       "config": {
        "plotlyServerURL": "https://plot.ly"
       },
       "data": [
        {
         "hovertemplate": "<b>%{hovertext}</b><br><br>state=Andaman & Nicobar<br>Total Vehicles CAGR (%)=%{x}<br>EV CAGR (%)=%{y}<extra></extra>",
         "hovertext": [
          "Andaman & Nicobar"
         ],
         "legendgroup": "Andaman & Nicobar",
         "marker": {
          "color": "#636efa",
          "symbol": "circle"
         },
         "mode": "markers",
         "name": "Andaman & Nicobar",
         "orientation": "v",
         "showlegend": true,
         "type": "scatter",
         "x": {
          "bdata": "Pwp5WIBJMkA=",
          "dtype": "f8"
         },
         "xaxis": "x",
         "y": {
          "bdata": "4XoUrkchOkA=",
          "dtype": "f8"
         },
         "yaxis": "y"
        },
        {
         "hovertemplate": "<b>%{hovertext}</b><br><br>state=Andhra Pradesh<br>Total Vehicles CAGR (%)=%{x}<br>EV CAGR (%)=%{y}<extra></extra>",
         "hovertext": [
          "Andhra Pradesh"
         ],
         "legendgroup": "Andhra Pradesh",
         "marker": {
          "color": "#EF553B",
          "symbol": "circle"
         },
         "mode": "markers",
         "name": "Andhra Pradesh",
         "orientation": "v",
         "showlegend": true,
         "type": "scatter",
         "x": {
          "bdata": "aM+VaCTh5D8=",
          "dtype": "f8"
         },
         "xaxis": "x",
         "y": {
          "bdata": "zczMzMwsS0A=",
          "dtype": "f8"
         },
         "yaxis": "y"
        },
        {
         "hovertemplate": "<b>%{hovertext}</b><br><br>state=Assam<br>Total Vehicles CAGR (%)=%{x}<br>EV CAGR (%)=%{y}<extra></extra>",
         "hovertext": [
          "Assam"
         ],
         "legendgroup": "Assam",
         "marker": {
          "color": "#00cc96",
          "symbol": "circle"
         },
         "mode": "markers",
         "name": "Assam",
         "orientation": "v",
         "showlegend": true,
         "type": "scatter",
         "x": {
          "bdata": "xRACUDgiNEA=",
          "dtype": "f8"
         },
         "xaxis": "x",
         "y": {
          "bdata": "SOF6FK63XUA=",
          "dtype": "f8"
         },
         "yaxis": "y"
        },
        {
         "hovertemplate": "<b>%{hovertext}</b><br><br>state=Bihar<br>Total Vehicles CAGR (%)=%{x}<br>EV CAGR (%)=%{y}<extra></extra>",
         "hovertext": [
          "Bihar"
         ],
         "legendgroup": "Bihar",
         "marker": {
          "color": "#ab63fa",
          "symbol": "circle"
         },
         "mode": "markers",
         "name": "Bihar",
         "orientation": "v",
         "showlegend": true,
         "type": "scatter",
         "x": {
          "bdata": "jEBYj8RDKUA=",
          "dtype": "f8"
         },
         "xaxis": "x",
         "y": {
          "bdata": "mpmZmZkpU0A=",
          "dtype": "f8"
         },
         "yaxis": "y"
        },
        {
         "hovertemplate": "<b>%{hovertext}</b><br><br>state=Chandigarh<br>Total Vehicles CAGR (%)=%{x}<br>EV CAGR (%)=%{y}<extra></extra>",
         "hovertext": [
          "Chandigarh"
         ],
         "legendgroup": "Chandigarh",
         "marker": {
          "color": "#FFA15A",
          "symbol": "circle"
         },
         "mode": "markers",
         "name": "Chandigarh",
         "orientation": "v",
         "showlegend": true,
         "type": "scatter",
         "x": {
          "bdata": "mHx3n9IPJUA=",
          "dtype": "f8"
         },
         "xaxis": "x",
         "y": {
          "bdata": "w/UoXI+SZEA=",
          "dtype": "f8"
         },
         "yaxis": "y"
        },
        {
         "hovertemplate": "<b>%{hovertext}</b><br><br>state=Chhattisgarh<br>Total Vehicles CAGR (%)=%{x}<br>EV CAGR (%)=%{y}<extra></extra>",
         "hovertext": [
          "Chhattisgarh"
         ],
         "legendgroup": "Chhattisgarh",
         "marker": {
          "color": "#19d3f3",
          "symbol": "circle"
         },
         "mode": "markers",
         "name": "Chhattisgarh",
         "orientation": "v",
         "showlegend": true,
         "type": "scatter",
         "x": {
          "bdata": "6FiFlecRK0A=",
          "dtype": "f8"
         },
         "xaxis": "x",
         "y": {
          "bdata": "FK5H4XrcYkA=",
          "dtype": "f8"
         },
         "yaxis": "y"
        },
        {
         "hovertemplate": "<b>%{hovertext}</b><br><br>state=DNH and DD<br>Total Vehicles CAGR (%)=%{x}<br>EV CAGR (%)=%{y}<extra></extra>",
         "hovertext": [
          "DNH and DD"
         ],
         "legendgroup": "DNH and DD",
         "marker": {
          "color": "#FF6692",
          "symbol": "circle"
         },
         "mode": "markers",
         "name": "DNH and DD",
         "orientation": "v",
         "showlegend": true,
         "type": "scatter",
         "x": {
          "bdata": "vLYCOfTiLUA=",
          "dtype": "f8"
         },
         "xaxis": "x",
         "y": {
          "bdata": "MzMzMzM7YUA=",
          "dtype": "f8"
         },
         "yaxis": "y"
        },
        {
         "hovertemplate": "<b>%{hovertext}</b><br><br>state=Delhi<br>Total Vehicles CAGR (%)=%{x}<br>EV CAGR (%)=%{y}<extra></extra>",
         "hovertext": [
          "Delhi"
         ],
         "legendgroup": "Delhi",
         "marker": {
          "color": "#B6E880",
          "symbol": "circle"
         },
         "mode": "markers",
         "name": "Delhi",
         "orientation": "v",
         "showlegend": true,
         "type": "scatter",
         "x": {
          "bdata": "7dInl2TiNkA=",
          "dtype": "f8"
         },
         "xaxis": "x",
         "y": {
          "bdata": "ZmZmZmYGUUA=",
          "dtype": "f8"
         },
         "yaxis": "y"
        },
        {
         "hovertemplate": "<b>%{hovertext}</b><br><br>state=Goa<br>Total Vehicles CAGR (%)=%{x}<br>EV CAGR (%)=%{y}<extra></extra>",
         "hovertext": [
          "Goa"
         ],
         "legendgroup": "Goa",
         "marker": {
          "color": "#FF97FF",
          "symbol": "circle"
         },
         "mode": "markers",
         "name": "Goa",
         "orientation": "v",
         "showlegend": true,
         "type": "scatter",
         "x": {
          "bdata": "o1M8oQJpO0A=",
          "dtype": "f8"
         },
         "xaxis": "x",
         "y": {
          "bdata": "ZmZmZmZOYkA=",
          "dtype": "f8"
         },
         "yaxis": "y"
        },
        {
         "hovertemplate": "<b>%{hovertext}</b><br><br>state=Gujarat<br>Total Vehicles CAGR (%)=%{x}<br>EV CAGR (%)=%{y}<extra></extra>",
         "hovertext": [
          "Gujarat"
         ],
         "legendgroup": "Gujarat",
         "marker": {
          "color": "#FECB52",
          "symbol": "circle"
         },
         "mode": "markers",
         "name": "Gujarat",
         "orientation": "v",
         "showlegend": true,
         "type": "scatter",
         "x": {
          "bdata": "HG0bf7GLNEA=",
          "dtype": "f8"
         },
         "xaxis": "x",
         "y": {
          "bdata": "hetRuB4VXUA=",
          "dtype": "f8"
         },
         "yaxis": "y"
        },
        {
         "hovertemplate": "<b>%{hovertext}</b><br><br>state=Haryana<br>Total Vehicles CAGR (%)=%{x}<br>EV CAGR (%)=%{y}<extra></extra>",
         "hovertext": [
          "Haryana"
         ],
         "legendgroup": "Haryana",
         "marker": {
          "color": "#636efa",
          "symbol": "circle"
         },
         "mode": "markers",
         "name": "Haryana",
         "orientation": "v",
         "showlegend": true,
         "type": "scatter",
         "x": {
          "bdata": "dX1t6jCuMUA=",
          "dtype": "f8"
         },
         "xaxis": "x",
         "y": {
          "bdata": "KVyPwvWIREA=",
          "dtype": "f8"
         },
         "yaxis": "y"
        },
        {
         "hovertemplate": "<b>%{hovertext}</b><br><br>state=Himachal Pradesh<br>Total Vehicles CAGR (%)=%{x}<br>EV CAGR (%)=%{y}<extra></extra>",
         "hovertext": [
          "Himachal Pradesh"
         ],
         "legendgroup": "Himachal Pradesh",
         "marker": {
          "color": "#EF553B",
          "symbol": "circle"
         },
         "mode": "markers",
         "name": "Himachal Pradesh",
         "orientation": "v",
         "showlegend": true,
         "type": "scatter",
         "x": {
          "bdata": "SMB5i89PIkA=",
          "dtype": "f8"
         },
         "xaxis": "x",
         "y": {
          "bdata": "SOF6FK7nSkA=",
          "dtype": "f8"
         },
         "yaxis": "y"
        },
        {
         "hovertemplate": "<b>%{hovertext}</b><br><br>state=Jammu and Kashmir<br>Total Vehicles CAGR (%)=%{x}<br>EV CAGR (%)=%{y}<extra></extra>",
         "hovertext": [
          "Jammu and Kashmir"
         ],
         "legendgroup": "Jammu and Kashmir",
         "marker": {
          "color": "#00cc96",
          "symbol": "circle"
         },
         "mode": "markers",
         "name": "Jammu and Kashmir",
         "orientation": "v",
         "showlegend": true,
         "type": "scatter",
         "x": {
          "bdata": "uCdMWIYDAEA=",
          "dtype": "f8"
         },
         "xaxis": "x",
         "y": {
          "bdata": "rkfhehQuOkA=",
          "dtype": "f8"
         },
         "yaxis": "y"
        },
        {
         "hovertemplate": "<b>%{hovertext}</b><br><br>state=Jharkhand<br>Total Vehicles CAGR (%)=%{x}<br>EV CAGR (%)=%{y}<extra></extra>",
         "hovertext": [
          "Jharkhand"
         ],
         "legendgroup": "Jharkhand",
         "marker": {
          "color": "#ab63fa",
          "symbol": "circle"
         },
         "mode": "markers",
         "name": "Jharkhand",
         "orientation": "v",
         "showlegend": true,
         "type": "scatter",
         "x": {
          "bdata": "EfZ1HtBTI0A=",
          "dtype": "f8"
         },
         "xaxis": "x",
         "y": {
          "bdata": "KVyPwvV4UUA=",
          "dtype": "f8"
         },
         "yaxis": "y"
        },
        {
         "hovertemplate": "<b>%{hovertext}</b><br><br>state=Karnataka<br>Total Vehicles CAGR (%)=%{x}<br>EV CAGR (%)=%{y}<extra></extra>",
         "hovertext": [
          "Karnataka"
         ],
         "legendgroup": "Karnataka",
         "marker": {
          "color": "#FFA15A",
          "symbol": "circle"
         },
         "mode": "markers",
         "name": "Karnataka",
         "orientation": "v",
         "showlegend": true,
         "type": "scatter",
         "x": {
          "bdata": "NfKc15hIOUA=",
          "dtype": "f8"
         },
         "xaxis": "x",
         "y": {
          "bdata": "j8L1KFxPV0A=",
          "dtype": "f8"
         },
         "yaxis": "y"
        },
        {
         "hovertemplate": "<b>%{hovertext}</b><br><br>state=Kerala<br>Total Vehicles CAGR (%)=%{x}<br>EV CAGR (%)=%{y}<extra></extra>",
         "hovertext": [
          "Kerala"
         ],
         "legendgroup": "Kerala",
         "marker": {
          "color": "#19d3f3",
          "symbol": "circle"
         },
         "mode": "markers",
         "name": "Kerala",
         "orientation": "v",
         "showlegend": true,
         "type": "scatter",
         "x": {
          "bdata": "EMXamPhtDsA=",
          "dtype": "f8"
         },
         "xaxis": "x",
         "y": {
          "bdata": "w/UoXI+aYEA=",
          "dtype": "f8"
         },
         "yaxis": "y"
        },
        {
         "hovertemplate": "<b>%{hovertext}</b><br><br>state=Ladakh<br>Total Vehicles CAGR (%)=%{x}<br>EV CAGR (%)=%{y}<extra></extra>",
         "hovertext": [
          "Ladakh"
         ],
         "legendgroup": "Ladakh",
         "marker": {
          "color": "#FF6692",
          "symbol": "circle"
         },
         "mode": "markers",
         "name": "Ladakh",
         "orientation": "v",
         "showlegend": true,
         "type": "scatter",
         "x": {
          "bdata": "1dXMrWjHE0A=",
          "dtype": "f8"
         },
         "xaxis": "x",
         "y": {
          "bdata": "PQrXo3BdTkA=",
          "dtype": "f8"
         },
         "yaxis": "y"
        },
        {
         "hovertemplate": "<b>%{hovertext}</b><br><br>state=Madhya Pradesh<br>Total Vehicles CAGR (%)=%{x}<br>EV CAGR (%)=%{y}<extra></extra>",
         "hovertext": [
          "Madhya Pradesh"
         ],
         "legendgroup": "Madhya Pradesh",
         "marker": {
          "color": "#B6E880",
          "symbol": "circle"
         },
         "mode": "markers",
         "name": "Madhya Pradesh",
         "orientation": "v",
         "showlegend": true,
         "type": "scatter",
         "x": {
          "bdata": "R6mxqeiiLkA=",
          "dtype": "f8"
         },
         "xaxis": "x",
         "y": {
          "bdata": "PQrXo3C1YEA=",
          "dtype": "f8"
         },
         "yaxis": "y"
        },
        {
         "hovertemplate": "<b>%{hovertext}</b><br><br>state=Maharashtra<br>Total Vehicles CAGR (%)=%{x}<br>EV CAGR (%)=%{y}<extra></extra>",
         "hovertext": [
          "Maharashtra"
         ],
         "legendgroup": "Maharashtra",
         "marker": {
          "color": "#FF97FF",
          "symbol": "circle"
         },
         "mode": "markers",
         "name": "Maharashtra",
         "orientation": "v",
         "showlegend": true,
         "type": "scatter",
         "x": {
          "bdata": "bQw2BOFOMUA=",
          "dtype": "f8"
         },
         "xaxis": "x",
         "y": {
          "bdata": "KVyPwvV4WUA=",
          "dtype": "f8"
         },
         "yaxis": "y"
        },
        {
         "hovertemplate": "<b>%{hovertext}</b><br><br>state=Manipur<br>Total Vehicles CAGR (%)=%{x}<br>EV CAGR (%)=%{y}<extra></extra>",
         "hovertext": [
          "Manipur"
         ],
         "legendgroup": "Manipur",
         "marker": {
          "color": "#FECB52",
          "symbol": "circle"
         },
         "mode": "markers",
         "name": "Manipur",
         "orientation": "v",
         "showlegend": true,
         "type": "scatter",
         "x": {
          "bdata": "/JhY09KXPMA=",
          "dtype": "f8"
         },
         "xaxis": "x",
         "y": {
          "bdata": "AAAAAAAgX0A=",
          "dtype": "f8"
         },
         "yaxis": "y"
        },
        {
         "hovertemplate": "<b>%{hovertext}</b><br><br>state=Meghalaya<br>Total Vehicles CAGR (%)=%{x}<br>EV CAGR (%)=%{y}<extra></extra>",
         "hovertext": [
          "Meghalaya"
         ],
         "legendgroup": "Meghalaya",
         "marker": {
          "color": "#636efa",
          "symbol": "circle"
         },
         "mode": "markers",
         "name": "Meghalaya",
         "orientation": "v",
         "showlegend": true,
         "type": "scatter",
         "x": {
          "bdata": "dBbZRxV4PEA=",
          "dtype": "f8"
         },
         "xaxis": "x",
         "y": {
          "bdata": "rkfhehTKfUA=",
          "dtype": "f8"
         },
         "yaxis": "y"
        },
        {
         "hovertemplate": "<b>%{hovertext}</b><br><br>state=Nagaland<br>Total Vehicles CAGR (%)=%{x}<br>EV CAGR (%)=%{y}<extra></extra>",
         "hovertext": [
          "Nagaland"
         ],
         "legendgroup": "Nagaland",
         "marker": {
          "color": "#EF553B",
          "symbol": "circle"
         },
         "mode": "markers",
         "name": "Nagaland",
         "orientation": "v",
         "showlegend": true,
         "type": "scatter",
         "x": {
          "bdata": "gayulBTVLUA=",
          "dtype": "f8"
         },
         "xaxis": "x",
         "y": {
          "bdata": "AAAAAAAAaUA=",
          "dtype": "f8"
         },
         "yaxis": "y"
        },
        {
         "hovertemplate": "<b>%{hovertext}</b><br><br>state=Odisha<br>Total Vehicles CAGR (%)=%{x}<br>EV CAGR (%)=%{y}<extra></extra>",
         "hovertext": [
          "Odisha"
         ],
         "legendgroup": "Odisha",
         "marker": {
          "color": "#00cc96",
          "symbol": "circle"
         },
         "mode": "markers",
         "name": "Odisha",
         "orientation": "v",
         "showlegend": true,
         "type": "scatter",
         "x": {
          "bdata": "FSuFEEwTK0A=",
          "dtype": "f8"
         },
         "xaxis": "x",
         "y": {
          "bdata": "XI/C9Si8WUA=",
          "dtype": "f8"
         },
         "yaxis": "y"
        },
        {
         "hovertemplate": "<b>%{hovertext}</b><br><br>state=Puducherry<br>Total Vehicles CAGR (%)=%{x}<br>EV CAGR (%)=%{y}<extra></extra>",
         "hovertext": [
          "Puducherry"
         ],
         "legendgroup": "Puducherry",
         "marker": {
          "color": "#ab63fa",
          "symbol": "circle"
         },
         "mode": "markers",
         "name": "Puducherry",
         "orientation": "v",
         "showlegend": true,
         "type": "scatter",
         "x": {
          "bdata": "xJemdkTPL0A=",
          "dtype": "f8"
         },
         "xaxis": "x",
         "y": {
          "bdata": "XI/C9ShcWkA=",
          "dtype": "f8"
         },
         "yaxis": "y"
        },
        {
         "hovertemplate": "<b>%{hovertext}</b><br><br>state=Punjab<br>Total Vehicles CAGR (%)=%{x}<br>EV CAGR (%)=%{y}<extra></extra>",
         "hovertext": [
          "Punjab"
         ],
         "legendgroup": "Punjab",
         "marker": {
          "color": "#FFA15A",
          "symbol": "circle"
         },
         "mode": "markers",
         "name": "Punjab",
         "orientation": "v",
         "showlegend": true,
         "type": "scatter",
         "x": {
          "bdata": "vucqogKyK0A=",
          "dtype": "f8"
         },
         "xaxis": "x",
         "y": {
          "bdata": "4XoUrkehTEA=",
          "dtype": "f8"
         },
         "yaxis": "y"
        },
        {
         "hovertemplate": "<b>%{hovertext}</b><br><br>state=Rajasthan<br>Total Vehicles CAGR (%)=%{x}<br>EV CAGR (%)=%{y}<extra></extra>",
         "hovertext": [
          "Rajasthan"
         ],
         "legendgroup": "Rajasthan",
         "marker": {
          "color": "#19d3f3",
          "symbol": "circle"
         },
         "mode": "markers",
         "name": "Rajasthan",
         "orientation": "v",
         "showlegend": true,
         "type": "scatter",
         "x": {
          "bdata": "KRHWUFR/NUA=",
          "dtype": "f8"
         },
         "xaxis": "x",
         "y": {
          "bdata": "SOF6FK53VEA=",
          "dtype": "f8"
         },
         "yaxis": "y"
        },
        {
         "hovertemplate": "<b>%{hovertext}</b><br><br>state=Tamil Nadu<br>Total Vehicles CAGR (%)=%{x}<br>EV CAGR (%)=%{y}<extra></extra>",
         "hovertext": [
          "Tamil Nadu"
         ],
         "legendgroup": "Tamil Nadu",
         "marker": {
          "color": "#FF6692",
          "symbol": "circle"
         },
         "mode": "markers",
         "name": "Tamil Nadu",
         "orientation": "v",
         "showlegend": true,
         "type": "scatter",
         "x": {
          "bdata": "1sMZOV/3KUA=",
          "dtype": "f8"
         },
         "xaxis": "x",
         "y": {
          "bdata": "mpmZmZn5TUA=",
          "dtype": "f8"
         },
         "yaxis": "y"
        },
        {
         "hovertemplate": "<b>%{hovertext}</b><br><br>state=Tripura<br>Total Vehicles CAGR (%)=%{x}<br>EV CAGR (%)=%{y}<extra></extra>",
         "hovertext": [
          "Tripura"
         ],
         "legendgroup": "Tripura",
         "marker": {
          "color": "#B6E880",
          "symbol": "circle"
         },
         "mode": "markers",
         "name": "Tripura",
         "orientation": "v",
         "showlegend": true,
         "type": "scatter",
         "x": {
          "bdata": "+uve9bLjJUA=",
          "dtype": "f8"
         },
         "xaxis": "x",
         "y": {
          "bdata": "AAAAAACwbEA=",
          "dtype": "f8"
         },
         "yaxis": "y"
        },
        {
         "hovertemplate": "<b>%{hovertext}</b><br><br>state=Uttar Pradesh<br>Total Vehicles CAGR (%)=%{x}<br>EV CAGR (%)=%{y}<extra></extra>",
         "hovertext": [
          "Uttar Pradesh"
         ],
         "legendgroup": "Uttar Pradesh",
         "marker": {
          "color": "#FF97FF",
          "symbol": "circle"
         },
         "mode": "markers",
         "name": "Uttar Pradesh",
         "orientation": "v",
         "showlegend": true,
         "type": "scatter",
         "x": {
          "bdata": "3NPTzuC4IEA=",
          "dtype": "f8"
         },
         "xaxis": "x",
         "y": {
          "bdata": "ZmZmZmY2YUA=",
          "dtype": "f8"
         },
         "yaxis": "y"
        },
        {
         "hovertemplate": "<b>%{hovertext}</b><br><br>state=Uttarakhand<br>Total Vehicles CAGR (%)=%{x}<br>EV CAGR (%)=%{y}<extra></extra>",
         "hovertext": [
          "Uttarakhand"
         ],
         "legendgroup": "Uttarakhand",
         "marker": {
          "color": "#FECB52",
          "symbol": "circle"
         },
         "mode": "markers",
         "name": "Uttarakhand",
         "orientation": "v",
         "showlegend": true,
         "type": "scatter",
         "x": {
          "bdata": "jJbqBVDwL0A=",
          "dtype": "f8"
         },
         "xaxis": "x",
         "y": {
          "bdata": "FK5H4XqkUkA=",
          "dtype": "f8"
         },
         "yaxis": "y"
        },
        {
         "hovertemplate": "<b>%{hovertext}</b><br><br>state=West Bengal<br>Total Vehicles CAGR (%)=%{x}<br>EV CAGR (%)=%{y}<extra></extra>",
         "hovertext": [
          "West Bengal"
         ],
         "legendgroup": "West Bengal",
         "marker": {
          "color": "#636efa",
          "symbol": "circle"
         },
         "mode": "markers",
         "name": "West Bengal",
         "orientation": "v",
         "showlegend": true,
         "type": "scatter",
         "x": {
          "bdata": "tp162LXcFkA=",
          "dtype": "f8"
         },
         "xaxis": "x",
         "y": {
          "bdata": "pHA9CtfTYkA=",
          "dtype": "f8"
         },
         "yaxis": "y"
        }
       ],
       "layout": {
        "annotations": [
         {
          "font": {
           "size": 10
          },
          "showarrow": false,
          "text": "Better Than Average<br>(Both Total & EV)",
          "x": 20.56778351431926,
          "y": 295.968064516129
         },
         {
          "font": {
           "size": 10
          },
          "showarrow": false,
          "text": "Better EV Growth<br>Worse Total Growth",
          "x": -7.963284190658822,
          "y": 295.968064516129
         },
         {
          "font": {
           "size": 10
          },
          "showarrow": false,
          "text": "Better Total Growth<br>Worse EV Growth",
          "x": 20.56778351431926,
          "y": 70.71806451612903
         },
         {
          "font": {
           "size": 10
          },
          "showarrow": false,
          "text": "Worse Than Average<br>(Both Total & EV)",
          "x": -7.963284190658822,
          "y": 70.71806451612903
         }
        ],
        "height": 700,
        "legend": {
         "title": {
          "text": "state"
         },
         "tracegroupgap": 0
        },
        "plot_bgcolor": "white",
        "shapes": [
         {
          "line": {
           "color": "gray",
           "dash": "dash",
           "width": 1
          },
          "type": "line",
          "x0": 12.66649231159376,
          "x1": 12.66649231159376,
          "y0": 26.13,
          "y1": 476.63
         },
         {
          "line": {
           "color": "gray",
           "dash": "dash",
           "width": 1
          },
          "type": "line",
          "x0": -28.593060692911408,
          "x1": 28.469074717044762,
          "y0": 115.30612903225806,
          "y1": 115.30612903225806
         }
        ],
        "showlegend": false,
        "template": {
         "data": {
          "bar": [
           {
            "error_x": {
             "color": "#2a3f5f"
            },
            "error_y": {
             "color": "#2a3f5f"
            },
            "marker": {
             "line": {
              "color": "#E5ECF6",
              "width": 0.5
             },
             "pattern": {
              "fillmode": "overlay",
              "size": 10,
              "solidity": 0.2
             }
            },
            "type": "bar"
           }
          ],
          "barpolar": [
           {
            "marker": {
             "line": {
              "color": "#E5ECF6",
              "width": 0.5
             },
             "pattern": {
              "fillmode": "overlay",
              "size": 10,
              "solidity": 0.2
             }
            },
            "type": "barpolar"
           }
          ],
          "carpet": [
           {
            "aaxis": {
             "endlinecolor": "#2a3f5f",
             "gridcolor": "white",
             "linecolor": "white",
             "minorgridcolor": "white",
             "startlinecolor": "#2a3f5f"
            },
            "baxis": {
             "endlinecolor": "#2a3f5f",
             "gridcolor": "white",
             "linecolor": "white",
             "minorgridcolor": "white",
             "startlinecolor": "#2a3f5f"
            },
            "type": "carpet"
           }
          ],
          "choropleth": [
           {
            "colorbar": {
             "outlinewidth": 0,
             "ticks": ""
            },
            "type": "choropleth"
           }
          ],
          "contour": [
           {
            "colorbar": {
             "outlinewidth": 0,
             "ticks": ""
            },
            "colorscale": [
             [
              0,
              "#0d0887"
             ],
             [
              0.1111111111111111,
              "#46039f"
             ],
             [
              0.2222222222222222,
              "#7201a8"
             ],
             [
              0.3333333333333333,
              "#9c179e"
             ],
             [
              0.4444444444444444,
              "#bd3786"
             ],
             [
              0.5555555555555556,
              "#d8576b"
             ],
             [
              0.6666666666666666,
              "#ed7953"
             ],
             [
              0.7777777777777778,
              "#fb9f3a"
             ],
             [
              0.8888888888888888,
              "#fdca26"
             ],
             [
              1,
              "#f0f921"
             ]
            ],
            "type": "contour"
           }
          ],
          "contourcarpet": [
           {
            "colorbar": {
             "outlinewidth": 0,
             "ticks": ""
            },
            "type": "contourcarpet"
           }
          ],
          "heatmap": [
           {
            "colorbar": {
             "outlinewidth": 0,
             "ticks": ""
            },
            "colorscale": [
             [
              0,
              "#0d0887"
             ],
             [
              0.1111111111111111,
              "#46039f"
             ],
             [
              0.2222222222222222,
              "#7201a8"
             ],
             [
              0.3333333333333333,
              "#9c179e"
             ],
             [
              0.4444444444444444,
              "#bd3786"
             ],
             [
              0.5555555555555556,
              "#d8576b"
             ],
             [
              0.6666666666666666,
              "#ed7953"
             ],
             [
              0.7777777777777778,
              "#fb9f3a"
             ],
             [
              0.8888888888888888,
              "#fdca26"
             ],
             [
              1,
              "#f0f921"
             ]
            ],
            "type": "heatmap"
           }
          ],
          "histogram": [
           {
            "marker": {
             "pattern": {
              "fillmode": "overlay",
              "size": 10,
              "solidity": 0.2
             }
            },
            "type": "histogram"
           }
          ],
          "histogram2d": [
           {
            "colorbar": {
             "outlinewidth": 0,
             "ticks": ""
            },
            "colorscale": [
             [
              0,
              "#0d0887"
             ],
             [
              0.1111111111111111,
              "#46039f"
             ],
             [
              0.2222222222222222,
              "#7201a8"
             ],
             [
              0.3333333333333333,
              "#9c179e"
             ],
             [
              0.4444444444444444,
              "#bd3786"
             ],
             [
              0.5555555555555556,
              "#d8576b"
             ],
             [
              0.6666666666666666,
              "#ed7953"
             ],
             [
              0.7777777777777778,
              "#fb9f3a"
             ],
             [
              0.8888888888888888,
              "#fdca26"
             ],
             [
              1,
              "#f0f921"
             ]
            ],
            "type": "histogram2d"
           }
          ],
          "histogram2dcontour": [
           {
            "colorbar": {
             "outlinewidth": 0,
             "ticks": ""
            },
            "colorscale": [
             [
              0,
              "#0d0887"
             ],
             [
              0.1111111111111111,
              "#46039f"
             ],
             [
              0.2222222222222222,
              "#7201a8"
             ],
             [
              0.3333333333333333,
              "#9c179e"
             ],
             [
              0.4444444444444444,
              "#bd3786"
             ],
             [
              0.5555555555555556,
              "#d8576b"
             ],
             [
              0.6666666666666666,
              "#ed7953"
             ],
             [
              0.7777777777777778,
              "#fb9f3a"
             ],
             [
              0.8888888888888888,
              "#fdca26"
             ],
             [
              1,
              "#f0f921"
             ]
            ],
            "type": "histogram2dcontour"
           }
          ],
          "mesh3d": [
           {
            "colorbar": {
             "outlinewidth": 0,
             "ticks": ""
            },
            "type": "mesh3d"
           }
          ],
          "parcoords": [
           {
            "line": {
             "colorbar": {
              "outlinewidth": 0,
              "ticks": ""
             }
            },
            "type": "parcoords"
           }
          ],
          "pie": [
           {
            "automargin": true,
            "type": "pie"
           }
          ],
          "scatter": [
           {
            "fillpattern": {
             "fillmode": "overlay",
             "size": 10,
             "solidity": 0.2
            },
            "type": "scatter"
           }
          ],
          "scatter3d": [
           {
            "line": {
             "colorbar": {
              "outlinewidth": 0,
              "ticks": ""
             }
            },
            "marker": {
             "colorbar": {
              "outlinewidth": 0,
              "ticks": ""
             }
            },
            "type": "scatter3d"
           }
          ],
          "scattercarpet": [
           {
            "marker": {
             "colorbar": {
              "outlinewidth": 0,
              "ticks": ""
             }
            },
            "type": "scattercarpet"
           }
          ],
          "scattergeo": [
           {
            "marker": {
             "colorbar": {
              "outlinewidth": 0,
              "ticks": ""
             }
            },
            "type": "scattergeo"
           }
          ],
          "scattergl": [
           {
            "marker": {
             "colorbar": {
              "outlinewidth": 0,
              "ticks": ""
             }
            },
            "type": "scattergl"
           }
          ],
          "scattermap": [
           {
            "marker": {
             "colorbar": {
              "outlinewidth": 0,
              "ticks": ""
             }
            },
            "type": "scattermap"
           }
          ],
          "scattermapbox": [
           {
            "marker": {
             "colorbar": {
              "outlinewidth": 0,
              "ticks": ""
             }
            },
            "type": "scattermapbox"
           }
          ],
          "scatterpolar": [
           {
            "marker": {
             "colorbar": {
              "outlinewidth": 0,
              "ticks": ""
             }
            },
            "type": "scatterpolar"
           }
          ],
          "scatterpolargl": [
           {
            "marker": {
             "colorbar": {
              "outlinewidth": 0,
              "ticks": ""
             }
            },
            "type": "scatterpolargl"
           }
          ],
          "scatterternary": [
           {
            "marker": {
             "colorbar": {
              "outlinewidth": 0,
              "ticks": ""
             }
            },
            "type": "scatterternary"
           }
          ],
          "surface": [
           {
            "colorbar": {
             "outlinewidth": 0,
             "ticks": ""
            },
            "colorscale": [
             [
              0,
              "#0d0887"
             ],
             [
              0.1111111111111111,
              "#46039f"
             ],
             [
              0.2222222222222222,
              "#7201a8"
             ],
             [
              0.3333333333333333,
              "#9c179e"
             ],
             [
              0.4444444444444444,
              "#bd3786"
             ],
             [
              0.5555555555555556,
              "#d8576b"
             ],
             [
              0.6666666666666666,
              "#ed7953"
             ],
             [
              0.7777777777777778,
              "#fb9f3a"
             ],
             [
              0.8888888888888888,
              "#fdca26"
             ],
             [
              1,
              "#f0f921"
             ]
            ],
            "type": "surface"
           }
          ],
          "table": [
           {
            "cells": {
             "fill": {
              "color": "#EBF0F8"
             },
             "line": {
              "color": "white"
             }
            },
            "header": {
             "fill": {
              "color": "#C8D4E3"
             },
             "line": {
              "color": "white"
             }
            },
            "type": "table"
           }
          ]
         },
         "layout": {
          "annotationdefaults": {
           "arrowcolor": "#2a3f5f",
           "arrowhead": 0,
           "arrowwidth": 1
          },
          "autotypenumbers": "strict",
          "coloraxis": {
           "colorbar": {
            "outlinewidth": 0,
            "ticks": ""
           }
          },
          "colorscale": {
           "diverging": [
            [
             0,
             "#8e0152"
            ],
            [
             0.1,
             "#c51b7d"
            ],
            [
             0.2,
             "#de77ae"
            ],
            [
             0.3,
             "#f1b6da"
            ],
            [
             0.4,
             "#fde0ef"
            ],
            [
             0.5,
             "#f7f7f7"
            ],
            [
             0.6,
             "#e6f5d0"
            ],
            [
             0.7,
             "#b8e186"
            ],
            [
             0.8,
             "#7fbc41"
            ],
            [
             0.9,
             "#4d9221"
            ],
            [
             1,
             "#276419"
            ]
           ],
           "sequential": [
            [
             0,
             "#0d0887"
            ],
            [
             0.1111111111111111,
             "#46039f"
            ],
            [
             0.2222222222222222,
             "#7201a8"
            ],
            [
             0.3333333333333333,
             "#9c179e"
            ],
            [
             0.4444444444444444,
             "#bd3786"
            ],
            [
             0.5555555555555556,
             "#d8576b"
            ],
            [
             0.6666666666666666,
             "#ed7953"
            ],
            [
             0.7777777777777778,
             "#fb9f3a"
            ],
            [
             0.8888888888888888,
             "#fdca26"
            ],
            [
             1,
             "#f0f921"
            ]
           ],
           "sequentialminus": [
            [
             0,
             "#0d0887"
            ],
            [
             0.1111111111111111,
             "#46039f"
            ],
            [
             0.2222222222222222,
             "#7201a8"
            ],
            [
             0.3333333333333333,
             "#9c179e"
            ],
            [
             0.4444444444444444,
             "#bd3786"
            ],
            [
             0.5555555555555556,
             "#d8576b"
            ],
            [
             0.6666666666666666,
             "#ed7953"
            ],
            [
             0.7777777777777778,
             "#fb9f3a"
            ],
            [
             0.8888888888888888,
             "#fdca26"
            ],
            [
             1,
             "#f0f921"
            ]
           ]
          },
          "colorway": [
           "#636efa",
           "#EF553B",
           "#00cc96",
           "#ab63fa",
           "#FFA15A",
           "#19d3f3",
           "#FF6692",
           "#B6E880",
           "#FF97FF",
           "#FECB52"
          ],
          "font": {
           "color": "#2a3f5f"
          },
          "geo": {
           "bgcolor": "white",
           "lakecolor": "white",
           "landcolor": "#E5ECF6",
           "showlakes": true,
           "showland": true,
           "subunitcolor": "white"
          },
          "hoverlabel": {
           "align": "left"
          },
          "hovermode": "closest",
          "mapbox": {
           "style": "light"
          },
          "paper_bgcolor": "white",
          "plot_bgcolor": "#E5ECF6",
          "polar": {
           "angularaxis": {
            "gridcolor": "white",
            "linecolor": "white",
            "ticks": ""
           },
           "bgcolor": "#E5ECF6",
           "radialaxis": {
            "gridcolor": "white",
            "linecolor": "white",
            "ticks": ""
           }
          },
          "scene": {
           "xaxis": {
            "backgroundcolor": "#E5ECF6",
            "gridcolor": "white",
            "gridwidth": 2,
            "linecolor": "white",
            "showbackground": true,
            "ticks": "",
            "zerolinecolor": "white"
           },
           "yaxis": {
            "backgroundcolor": "#E5ECF6",
            "gridcolor": "white",
            "gridwidth": 2,
            "linecolor": "white",
            "showbackground": true,
            "ticks": "",
            "zerolinecolor": "white"
           },
           "zaxis": {
            "backgroundcolor": "#E5ECF6",
            "gridcolor": "white",
            "gridwidth": 2,
            "linecolor": "white",
            "showbackground": true,
            "ticks": "",
            "zerolinecolor": "white"
           }
          },
          "shapedefaults": {
           "line": {
            "color": "#2a3f5f"
           }
          },
          "ternary": {
           "aaxis": {
            "gridcolor": "white",
            "linecolor": "white",
            "ticks": ""
           },
           "baxis": {
            "gridcolor": "white",
            "linecolor": "white",
            "ticks": ""
           },
           "bgcolor": "#E5ECF6",
           "caxis": {
            "gridcolor": "white",
            "linecolor": "white",
            "ticks": ""
           }
          },
          "title": {
           "x": 0.05
          },
          "xaxis": {
           "automargin": true,
           "gridcolor": "white",
           "linecolor": "white",
           "ticks": "",
           "title": {
            "standoff": 15
           },
           "zerolinecolor": "white",
           "zerolinewidth": 2
          },
          "yaxis": {
           "automargin": true,
           "gridcolor": "white",
           "linecolor": "white",
           "ticks": "",
           "title": {
            "standoff": 15
           },
           "zerolinecolor": "white",
           "zerolinewidth": 2
          }
         }
        },
        "title": {
         "text": "Quadrant Analysis: Total Vehicle CAGR vs EV CAGR (FY 2022-2024)"
        },
        "width": 900,
        "xaxis": {
         "anchor": "y",
         "domain": [
          0,
          1
         ],
         "title": {
          "text": "Total Vehicles CAGR (%)"
         }
        },
        "yaxis": {
         "anchor": "x",
         "domain": [
          0,
          1
         ],
         "title": {
          "text": "EV CAGR (%)"
         }
        }
       }
      }
     },
     "metadata": {},
     "output_type": "display_data"
    }
   ],
   "source": [
    "# Create quadrant analysis\n",
    "print(\"Creating quadrant analysis for CAGR comparison...\")\n",
    "\n",
    "# Calculate means for quadrant division\n",
    "total_mean = comparison['Total_CAGR'].mean()\n",
    "ev_mean = comparison['EV_CAGR'].mean()\n",
    "\n",
    "# Create scatter plot with quadrants\n",
    "fig = px.scatter(\n",
    "    comparison,\n",
    "    x=\"Total_CAGR\",\n",
    "    y=\"EV_CAGR\",\n",
    "    hover_name=\"state\",\n",
    "    color=\"state\",\n",
    "    title=f\"Quadrant Analysis: Total Vehicle CAGR vs EV CAGR (FY 2022-2024)\",\n",
    "    labels={\"Total_CAGR\": \"Total Vehicles CAGR (%)\", \"EV_CAGR\": \"EV CAGR (%)\"}\n",
    ")\n",
    "\n",
    "# Add quadrant lines\n",
    "fig.add_shape(\n",
    "    type=\"line\", x0=total_mean, y0=comparison['EV_CAGR'].min(), \n",
    "    x1=total_mean, y1=comparison['EV_CAGR'].max(),\n",
    "    line=dict(color=\"gray\", width=1, dash=\"dash\")\n",
    ")\n",
    "fig.add_shape(\n",
    "    type=\"line\", x0=comparison['Total_CAGR'].min(), y0=ev_mean, \n",
    "    x1=comparison['Total_CAGR'].max(), y1=ev_mean,\n",
    "    line=dict(color=\"gray\", width=1, dash=\"dash\")\n",
    ")\n",
    "\n",
    "# Add quadrant annotations\n",
    "fig.add_annotation(\n",
    "    x=total_mean + (comparison['Total_CAGR'].max() - total_mean)/2, \n",
    "    y=ev_mean + (comparison['EV_CAGR'].max() - ev_mean)/2,\n",
    "    text=\"Better Than Average<br>(Both Total & EV)\",\n",
    "    showarrow=False,\n",
    "    font=dict(size=10)\n",
    ")\n",
    "fig.add_annotation(\n",
    "    x=total_mean - (total_mean - comparison['Total_CAGR'].min())/2, \n",
    "    y=ev_mean + (comparison['EV_CAGR'].max() - ev_mean)/2,\n",
    "    text=\"Better EV Growth<br>Worse Total Growth\",\n",
    "    showarrow=False,\n",
    "    font=dict(size=10)\n",
    ")\n",
    "fig.add_annotation(\n",
    "    x=total_mean + (comparison['Total_CAGR'].max() - total_mean)/2, \n",
    "    y=ev_mean - (ev_mean - comparison['EV_CAGR'].min())/2,\n",
    "    text=\"Better Total Growth<br>Worse EV Growth\",\n",
    "    showarrow=False,\n",
    "    font=dict(size=10)\n",
    ")\n",
    "fig.add_annotation(\n",
    "    x=total_mean - (total_mean - comparison['Total_CAGR'].min())/2, \n",
    "    y=ev_mean - (ev_mean - comparison['EV_CAGR'].min())/2,\n",
    "    text=\"Worse Than Average<br>(Both Total & EV)\",\n",
    "    showarrow=False,\n",
    "    font=dict(size=10)\n",
    ")\n",
    "\n",
    "# Improve layout\n",
    "fig.update_layout(\n",
    "    height=700, \n",
    "    width=900,\n",
    "    plot_bgcolor=\"white\",\n",
    "    showlegend=False\n",
    ")\n",
    "\n",
    "fig.show()\n",
    "\n",
    "# Save the visualization\n",
    "fig.write_html(\"../../data/visuals/cagr_quadrant_analysis_fiscal_years.html\")"
   ]
  },
  {
   "cell_type": "markdown",
   "id": "4bdaae7b",
   "metadata": {},
   "source": [
    "## CAGR Comparison Analysis: Total Vehicle Sales vs EV Sales\n",
    "\n",
    "The relationship between total vehicle CAGR and EV CAGR reveals important insights about India's evolving automotive market:\n",
    "\n",
    "1. **Weak Correlation (R² = 0.21)**: The low correlation coefficient indicates that EV market growth operates largely independently from overall vehicle market trends. This suggests separate market dynamics and drivers for the EV segment.\n",
    "\n",
    "2. **Growth Leaders**: Meghalaya stands out as exceptional in both metrics:\n",
    "   - **28.47%** Total Vehicle CAGR\n",
    "   - **476.63%** EV CAGR\n",
    "   Making it the model state for studying successful EV market development alongside traditional vehicle markets.\n",
    "\n",
    "3. **Strategic Market Segments**:\n",
    "   - **High-EV, High-Total Growth States**: Prime markets for balanced investment across vehicle types\n",
    "   - **High-EV, Lower-Total Growth States**: Potential markets experiencing EV-led transformation\n",
    "   - **Lower-EV, High-Total Growth States**: Opportunities for accelerated EV adoption programs\n",
    "\n",
    "4. **Policy Implications**: The weak relationship suggests state-specific factors (policy incentives, infrastructure development, consumer preferences) are more important than overall market health in driving EV adoption.\n",
    "\n",
    "5. **Investment Strategy**: EV manufacturers should target high-EV-CAGR states regardless of total market performance, as the data shows EV success can occur independently of traditional market metrics."
   ]
  },
  {
   "cell_type": "code",
   "execution_count": 19,
   "id": "dacdfdd7",
   "metadata": {},
   "outputs": [
    {
     "name": "stdout",
     "output_type": "stream",
     "text": [
      "Exporting data files for dashboard use...\n",
      "Data export complete.\n"
     ]
    }
   ],
   "source": [
    "# Export data files for dashboard use\n",
    "print(\"Exporting data files for dashboard use...\")\n",
    "\n",
    "# Create directory if it doesn't exist\n",
    "if not os.path.exists('../../data/visuals'):\n",
    "    os.makedirs('../../data/visuals')\n",
    "\n",
    "# Export top 10 state CAGR for total vehicles\n",
    "state_cagr_top10.to_csv('../../data/visuals/top10_total_vehicles_cagr_fiscal_year.csv', index=False)\n",
    "\n",
    "# Export top 10 EV CAGR \n",
    "top10_ev_cagr.to_csv('../../data/visuals/top10_ev_cagr_fiscal_year.csv', index=False)\n",
    "\n",
    "# Export top 10 non-EV CAGR\n",
    "top10_non_ev.to_csv('../../data/visuals/top10_non_ev_cagr_fiscal_year.csv', index=False)\n",
    "\n",
    "# Export comparison data\n",
    "comparison.to_csv('../../data/visuals/ev_total_cagr_comparison_fiscal_year.csv', index=False)\n",
    "\n",
    "print(\"Data export complete.\")"
   ]
  },
  {
   "cell_type": "markdown",
   "id": "a824e424",
   "metadata": {},
   "source": [
    "## Summary of CAGR Analysis (Fiscal Years 2022-2024)\n",
    "\n",
    "### Key Findings\n",
    "\n",
    "1. **Total Vehicle Market Leaders**:\n",
    "   - **Meghalaya**: 28.47% CAGR\n",
    "   - **Goa**: 27.41% CAGR\n",
    "   - **Karnataka**: 25.28% CAGR\n",
    "\n",
    "2. **EV Growth Champions**:\n",
    "   - **Meghalaya**: 476.63% CAGR\n",
    "   - **Tripura**: 229.50% CAGR\n",
    "   - **Nagaland**: 200.00% CAGR\n",
    "\n",
    "3. **Market Dynamics**:\n",
    "   - Weak correlation (R² = 0.21) between total vehicle growth and EV growth\n",
    "   - Northeastern states showing exceptional performance across both metrics\n",
    "   - EV adoption appears driven by specific local factors rather than overall market health\n",
    "\n",
    "### Strategic Implications\n",
    "\n",
    "1. **Targeted Investments**:\n",
    "   - Focus EV charging infrastructure in high-EV-CAGR states\n",
    "   - Expand dealer networks in high-total-CAGR states\n",
    "   - Develop hybrid strategies for states strong in both metrics\n",
    "\n",
    "2. **Policy Recommendations**:\n",
    "   - Study successful policy frameworks in northeastern states\n",
    "   - Implement region-specific incentives based on quadrant analysis\n",
    "   - Support EV infrastructure in emerging markets showing early adoption signals\n",
    "\n",
    "3. **Business Opportunities**:\n",
    "   - Prioritize dealership expansion in top CAGR states\n",
    "   - Develop marketing campaigns highlighting regional EV success stories\n",
    "   - Create tailored financing options for different market segments\n",
    "\n",
    "This fiscal year analysis provides a more accurate picture of market growth patterns by aligning with India's financial and policy planning cycles, offering valuable insights for automotive stakeholders and policymakers alike."
   ]
  }
 ],
 "metadata": {
  "kernelspec": {
   "display_name": "ev-analysis (3.13.3)",
   "language": "python",
   "name": "python3"
  },
  "language_info": {
   "codemirror_mode": {
    "name": "ipython",
    "version": 3
   },
   "file_extension": ".py",
   "mimetype": "text/x-python",
   "name": "python",
   "nbconvert_exporter": "python",
   "pygments_lexer": "ipython3",
   "version": "3.13.3"
  }
 },
 "nbformat": 4,
 "nbformat_minor": 5
}
