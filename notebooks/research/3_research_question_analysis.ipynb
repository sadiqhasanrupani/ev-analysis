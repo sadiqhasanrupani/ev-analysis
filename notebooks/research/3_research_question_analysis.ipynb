{
 "cells": [
  {
   "cell_type": "markdown",
   "id": "e6355e6b",
   "metadata": {
    "vscode": {
     "languageId": "plaintext"
    }
   },
   "source": [
    "# Analysis of Top 5 States by EV Penetration Rate (FY 2024)\n",
    "\n",
    "This analysis identifies the states with the highest electric vehicle penetration rates for both 2-wheelers and 4-wheelers in fiscal year 2024. We'll:\n",
    "\n",
    "1. Load and prepare the data\n",
    "2. Calculate penetration rates by state for each vehicle category\n",
    "3. Identify top 5 states for each category\n",
    "4. Create visualizations to compare the results"
   ]
  },
  {
   "cell_type": "code",
   "execution_count": 91,
   "id": "53161335",
   "metadata": {},
   "outputs": [
    {
     "name": "stdout",
     "output_type": "stream",
     "text": [
      "Dataset Info:\n",
      "--------------------------------------------------\n",
      "<class 'pandas.core.frame.DataFrame'>\n",
      "RangeIndex: 2445 entries, 0 to 2444\n",
      "Data columns (total 42 columns):\n",
      " #   Column                               Non-Null Count  Dtype         \n",
      "---  ------                               --------------  -----         \n",
      " 0   date                                 2445 non-null   datetime64[ns]\n",
      " 1   year                                 2445 non-null   int64         \n",
      " 2   month                                2445 non-null   int64         \n",
      " 3   quarter                              2445 non-null   int64         \n",
      " 4   months_from_start                    2445 non-null   int64         \n",
      " 5   rolling_mean_ev                      2445 non-null   float64       \n",
      " 6   ev_growth_rate                       2445 non-null   float64       \n",
      " 7   ev_penetration                       2445 non-null   float64       \n",
      " 8   ev_penetration_log                   2445 non-null   float64       \n",
      " 9   national_market_share                2445 non-null   float64       \n",
      " 10  state_rank                           2445 non-null   float64       \n",
      " 11  growth_stage                         2445 non-null   object        \n",
      " 12  market_concentration                 2445 non-null   float64       \n",
      " 13  region                               2445 non-null   object        \n",
      " 14  regional_avg_penetration             2445 non-null   float64       \n",
      " 15  state_to_region_ratio                2445 non-null   float64       \n",
      " 16  regional_rank                        2445 non-null   float64       \n",
      " 17  market_maturity_score                2445 non-null   float64       \n",
      " 18  adoption_velocity                    2445 non-null   float64       \n",
      " 19  adoption_velocity_capped             2445 non-null   float64       \n",
      " 20  segment_penetration_2-wheelers       2445 non-null   float64       \n",
      " 21  segment_penetration_4-wheelers       2444 non-null   float64       \n",
      " 22  segment_preference_ratio             2445 non-null   float64       \n",
      " 23  segment_preference_ratio_capped      2445 non-null   float64       \n",
      " 24  segment_preference_ratio_log         2445 non-null   float64       \n",
      " 25  dominant_segment                     2445 non-null   object        \n",
      " 26  segment_growth_diff                  2445 non-null   float64       \n",
      " 27  ev_sales_growth_rank_state           2445 non-null   float64       \n",
      " 28  ev_sales_growth_rank_region          2445 non-null   float64       \n",
      " 29  is_early_adopter                     2445 non-null   int64         \n",
      " 30  months_since_peak                    2374 non-null   float64       \n",
      " 31  is_at_peak                           2445 non-null   int64         \n",
      " 32  is_missing_ev_growth_rate            2445 non-null   int64         \n",
      " 33  is_missing_segment_preference_ratio  2445 non-null   int64         \n",
      " 34  is_missing_segment_growth_diff       2445 non-null   int64         \n",
      " 35  is_missing_regional_avg_penetration  2445 non-null   int64         \n",
      " 36  is_missing_adoption_velocity         2445 non-null   int64         \n",
      " 37  state                                2445 non-null   object        \n",
      " 38  vehicle_category                     2445 non-null   object        \n",
      " 39  electric_vehicles_sold               2445 non-null   int64         \n",
      " 40  total_vehicles_sold                  2445 non-null   int64         \n",
      " 41  fiscal_year                          2445 non-null   int32         \n",
      "dtypes: datetime64[ns](1), float64(22), int32(1), int64(13), object(5)\n",
      "memory usage: 792.8+ KB\n",
      "None\n",
      "\n",
      "First few rows:\n",
      "--------------------------------------------------\n"
     ]
    },
    {
     "data": {
      "text/html": [
       "<div>\n",
       "<style scoped>\n",
       "    .dataframe tbody tr th:only-of-type {\n",
       "        vertical-align: middle;\n",
       "    }\n",
       "\n",
       "    .dataframe tbody tr th {\n",
       "        vertical-align: top;\n",
       "    }\n",
       "\n",
       "    .dataframe thead th {\n",
       "        text-align: right;\n",
       "    }\n",
       "</style>\n",
       "<table border=\"1\" class=\"dataframe\">\n",
       "  <thead>\n",
       "    <tr style=\"text-align: right;\">\n",
       "      <th></th>\n",
       "      <th>date</th>\n",
       "      <th>year</th>\n",
       "      <th>month</th>\n",
       "      <th>quarter</th>\n",
       "      <th>months_from_start</th>\n",
       "      <th>rolling_mean_ev</th>\n",
       "      <th>ev_growth_rate</th>\n",
       "      <th>ev_penetration</th>\n",
       "      <th>ev_penetration_log</th>\n",
       "      <th>national_market_share</th>\n",
       "      <th>...</th>\n",
       "      <th>is_missing_ev_growth_rate</th>\n",
       "      <th>is_missing_segment_preference_ratio</th>\n",
       "      <th>is_missing_segment_growth_diff</th>\n",
       "      <th>is_missing_regional_avg_penetration</th>\n",
       "      <th>is_missing_adoption_velocity</th>\n",
       "      <th>state</th>\n",
       "      <th>vehicle_category</th>\n",
       "      <th>electric_vehicles_sold</th>\n",
       "      <th>total_vehicles_sold</th>\n",
       "      <th>fiscal_year</th>\n",
       "    </tr>\n",
       "  </thead>\n",
       "  <tbody>\n",
       "    <tr>\n",
       "      <th>0</th>\n",
       "      <td>2021-04-01</td>\n",
       "      <td>2021</td>\n",
       "      <td>4</td>\n",
       "      <td>2</td>\n",
       "      <td>3</td>\n",
       "      <td>0.0</td>\n",
       "      <td>0.0</td>\n",
       "      <td>0.00</td>\n",
       "      <td>0.000000</td>\n",
       "      <td>0.00</td>\n",
       "      <td>...</td>\n",
       "      <td>0</td>\n",
       "      <td>0</td>\n",
       "      <td>0</td>\n",
       "      <td>0</td>\n",
       "      <td>0</td>\n",
       "      <td>Andaman and Nicobar Islands</td>\n",
       "      <td>2-Wheelers</td>\n",
       "      <td>0</td>\n",
       "      <td>515</td>\n",
       "      <td>2022</td>\n",
       "    </tr>\n",
       "    <tr>\n",
       "      <th>1</th>\n",
       "      <td>2021-04-01</td>\n",
       "      <td>2021</td>\n",
       "      <td>4</td>\n",
       "      <td>2</td>\n",
       "      <td>3</td>\n",
       "      <td>9.0</td>\n",
       "      <td>0.0</td>\n",
       "      <td>5.36</td>\n",
       "      <td>1.850028</td>\n",
       "      <td>0.14</td>\n",
       "      <td>...</td>\n",
       "      <td>0</td>\n",
       "      <td>0</td>\n",
       "      <td>0</td>\n",
       "      <td>0</td>\n",
       "      <td>0</td>\n",
       "      <td>Andaman and Nicobar Islands</td>\n",
       "      <td>4-Wheelers</td>\n",
       "      <td>9</td>\n",
       "      <td>168</td>\n",
       "      <td>2022</td>\n",
       "    </tr>\n",
       "    <tr>\n",
       "      <th>2</th>\n",
       "      <td>2021-04-01</td>\n",
       "      <td>2021</td>\n",
       "      <td>4</td>\n",
       "      <td>2</td>\n",
       "      <td>3</td>\n",
       "      <td>436.0</td>\n",
       "      <td>0.0</td>\n",
       "      <td>0.69</td>\n",
       "      <td>0.524729</td>\n",
       "      <td>6.90</td>\n",
       "      <td>...</td>\n",
       "      <td>0</td>\n",
       "      <td>0</td>\n",
       "      <td>0</td>\n",
       "      <td>0</td>\n",
       "      <td>0</td>\n",
       "      <td>Andhra Pradesh</td>\n",
       "      <td>2-Wheelers</td>\n",
       "      <td>436</td>\n",
       "      <td>63444</td>\n",
       "      <td>2022</td>\n",
       "    </tr>\n",
       "    <tr>\n",
       "      <th>3</th>\n",
       "      <td>2021-04-01</td>\n",
       "      <td>2021</td>\n",
       "      <td>4</td>\n",
       "      <td>2</td>\n",
       "      <td>3</td>\n",
       "      <td>26.0</td>\n",
       "      <td>0.0</td>\n",
       "      <td>0.33</td>\n",
       "      <td>0.285179</td>\n",
       "      <td>0.41</td>\n",
       "      <td>...</td>\n",
       "      <td>0</td>\n",
       "      <td>0</td>\n",
       "      <td>0</td>\n",
       "      <td>0</td>\n",
       "      <td>0</td>\n",
       "      <td>Andhra Pradesh</td>\n",
       "      <td>4-Wheelers</td>\n",
       "      <td>26</td>\n",
       "      <td>7837</td>\n",
       "      <td>2022</td>\n",
       "    </tr>\n",
       "    <tr>\n",
       "      <th>4</th>\n",
       "      <td>2021-04-01</td>\n",
       "      <td>2021</td>\n",
       "      <td>4</td>\n",
       "      <td>2</td>\n",
       "      <td>3</td>\n",
       "      <td>0.0</td>\n",
       "      <td>0.0</td>\n",
       "      <td>0.00</td>\n",
       "      <td>0.000000</td>\n",
       "      <td>0.00</td>\n",
       "      <td>...</td>\n",
       "      <td>0</td>\n",
       "      <td>0</td>\n",
       "      <td>0</td>\n",
       "      <td>0</td>\n",
       "      <td>0</td>\n",
       "      <td>Arunachal Pradesh</td>\n",
       "      <td>2-Wheelers</td>\n",
       "      <td>0</td>\n",
       "      <td>1256</td>\n",
       "      <td>2022</td>\n",
       "    </tr>\n",
       "  </tbody>\n",
       "</table>\n",
       "<p>5 rows × 42 columns</p>\n",
       "</div>"
      ],
      "text/plain": [
       "        date  year  month  quarter  months_from_start  rolling_mean_ev  \\\n",
       "0 2021-04-01  2021      4        2                  3              0.0   \n",
       "1 2021-04-01  2021      4        2                  3              9.0   \n",
       "2 2021-04-01  2021      4        2                  3            436.0   \n",
       "3 2021-04-01  2021      4        2                  3             26.0   \n",
       "4 2021-04-01  2021      4        2                  3              0.0   \n",
       "\n",
       "   ev_growth_rate  ev_penetration  ev_penetration_log  national_market_share  \\\n",
       "0             0.0            0.00            0.000000                   0.00   \n",
       "1             0.0            5.36            1.850028                   0.14   \n",
       "2             0.0            0.69            0.524729                   6.90   \n",
       "3             0.0            0.33            0.285179                   0.41   \n",
       "4             0.0            0.00            0.000000                   0.00   \n",
       "\n",
       "   ...  is_missing_ev_growth_rate is_missing_segment_preference_ratio  \\\n",
       "0  ...                          0                                   0   \n",
       "1  ...                          0                                   0   \n",
       "2  ...                          0                                   0   \n",
       "3  ...                          0                                   0   \n",
       "4  ...                          0                                   0   \n",
       "\n",
       "   is_missing_segment_growth_diff is_missing_regional_avg_penetration  \\\n",
       "0                               0                                   0   \n",
       "1                               0                                   0   \n",
       "2                               0                                   0   \n",
       "3                               0                                   0   \n",
       "4                               0                                   0   \n",
       "\n",
       "   is_missing_adoption_velocity                        state  \\\n",
       "0                             0  Andaman and Nicobar Islands   \n",
       "1                             0  Andaman and Nicobar Islands   \n",
       "2                             0               Andhra Pradesh   \n",
       "3                             0               Andhra Pradesh   \n",
       "4                             0            Arunachal Pradesh   \n",
       "\n",
       "   vehicle_category  electric_vehicles_sold  total_vehicles_sold  fiscal_year  \n",
       "0        2-Wheelers                       0                  515         2022  \n",
       "1        4-Wheelers                       9                  168         2022  \n",
       "2        2-Wheelers                     436                63444         2022  \n",
       "3        4-Wheelers                      26                 7837         2022  \n",
       "4        2-Wheelers                       0                 1256         2022  \n",
       "\n",
       "[5 rows x 42 columns]"
      ]
     },
     "execution_count": 91,
     "metadata": {},
     "output_type": "execute_result"
    }
   ],
   "source": [
    "# Import required libraries\n",
    "import pandas as pd\n",
    "import plotly.express as px\n",
    "import plotly.graph_objects as go\n",
    "from plotly.subplots import make_subplots\n",
    "\n",
    "# Load the data\n",
    "df = pd.read_csv('../../data/processed/ev_sales_enhanced.csv')\n",
    "\n",
    "# Convert date to datetime and create fiscal year column\n",
    "df['date'] = pd.to_datetime(df['date'])\n",
    "df['fiscal_year'] = df['date'].dt.year.where(\n",
    "    df['date'].dt.month < 4,\n",
    "    df['date'].dt.year + 1\n",
    ")\n",
    "\n",
    "# Show the first few rows and data info\n",
    "print(\"Dataset Info:\")\n",
    "print(\"-\" * 50)\n",
    "print(df.info())\n",
    "print(\"\\nFirst few rows:\")\n",
    "print(\"-\" * 50)\n",
    "df.head()"
   ]
  },
  {
   "cell_type": "code",
   "execution_count": 92,
   "id": "78d7e40f",
   "metadata": {},
   "outputs": [],
   "source": [
    "from IPython.display import display\n",
    "\n",
    "# Filter data for FY 2024\n",
    "fy_2024_data = df[df['fiscal_year'] == 2024]"
   ]
  },
  {
   "cell_type": "code",
   "execution_count": 93,
   "id": "21aca7f2",
   "metadata": {},
   "outputs": [
    {
     "name": "stdout",
     "output_type": "stream",
     "text": [
      "Two wheeler data:\n"
     ]
    },
    {
     "data": {
      "text/html": [
       "<div>\n",
       "<style scoped>\n",
       "    .dataframe tbody tr th:only-of-type {\n",
       "        vertical-align: middle;\n",
       "    }\n",
       "\n",
       "    .dataframe tbody tr th {\n",
       "        vertical-align: top;\n",
       "    }\n",
       "\n",
       "    .dataframe thead th {\n",
       "        text-align: right;\n",
       "    }\n",
       "</style>\n",
       "<table border=\"1\" class=\"dataframe\">\n",
       "  <thead>\n",
       "    <tr style=\"text-align: right;\">\n",
       "      <th></th>\n",
       "      <th>date</th>\n",
       "      <th>year</th>\n",
       "      <th>month</th>\n",
       "      <th>quarter</th>\n",
       "      <th>months_from_start</th>\n",
       "      <th>rolling_mean_ev</th>\n",
       "      <th>ev_growth_rate</th>\n",
       "      <th>ev_penetration</th>\n",
       "      <th>ev_penetration_log</th>\n",
       "      <th>national_market_share</th>\n",
       "      <th>...</th>\n",
       "      <th>is_missing_ev_growth_rate</th>\n",
       "      <th>is_missing_segment_preference_ratio</th>\n",
       "      <th>is_missing_segment_growth_diff</th>\n",
       "      <th>is_missing_regional_avg_penetration</th>\n",
       "      <th>is_missing_adoption_velocity</th>\n",
       "      <th>state</th>\n",
       "      <th>vehicle_category</th>\n",
       "      <th>electric_vehicles_sold</th>\n",
       "      <th>total_vehicles_sold</th>\n",
       "      <th>fiscal_year</th>\n",
       "    </tr>\n",
       "  </thead>\n",
       "  <tbody>\n",
       "    <tr>\n",
       "      <th>1631</th>\n",
       "      <td>2023-04-01</td>\n",
       "      <td>2023</td>\n",
       "      <td>4</td>\n",
       "      <td>2</td>\n",
       "      <td>27</td>\n",
       "      <td>0.333333</td>\n",
       "      <td>-1.00</td>\n",
       "      <td>0.00</td>\n",
       "      <td>0.000000</td>\n",
       "      <td>0.00</td>\n",
       "      <td>...</td>\n",
       "      <td>0</td>\n",
       "      <td>0</td>\n",
       "      <td>0</td>\n",
       "      <td>0</td>\n",
       "      <td>0</td>\n",
       "      <td>Andaman and Nicobar Islands</td>\n",
       "      <td>2-Wheelers</td>\n",
       "      <td>0</td>\n",
       "      <td>325</td>\n",
       "      <td>2024</td>\n",
       "    </tr>\n",
       "    <tr>\n",
       "      <th>1633</th>\n",
       "      <td>2023-04-01</td>\n",
       "      <td>2023</td>\n",
       "      <td>4</td>\n",
       "      <td>2</td>\n",
       "      <td>27</td>\n",
       "      <td>3312.333333</td>\n",
       "      <td>0.00</td>\n",
       "      <td>7.32</td>\n",
       "      <td>2.118662</td>\n",
       "      <td>4.83</td>\n",
       "      <td>...</td>\n",
       "      <td>0</td>\n",
       "      <td>0</td>\n",
       "      <td>0</td>\n",
       "      <td>0</td>\n",
       "      <td>0</td>\n",
       "      <td>Andhra Pradesh</td>\n",
       "      <td>2-Wheelers</td>\n",
       "      <td>3515</td>\n",
       "      <td>48046</td>\n",
       "      <td>2024</td>\n",
       "    </tr>\n",
       "    <tr>\n",
       "      <th>1635</th>\n",
       "      <td>2023-04-01</td>\n",
       "      <td>2023</td>\n",
       "      <td>4</td>\n",
       "      <td>2</td>\n",
       "      <td>27</td>\n",
       "      <td>0.000000</td>\n",
       "      <td>0.00</td>\n",
       "      <td>0.00</td>\n",
       "      <td>0.000000</td>\n",
       "      <td>0.00</td>\n",
       "      <td>...</td>\n",
       "      <td>0</td>\n",
       "      <td>0</td>\n",
       "      <td>0</td>\n",
       "      <td>0</td>\n",
       "      <td>0</td>\n",
       "      <td>Arunachal Pradesh</td>\n",
       "      <td>2-Wheelers</td>\n",
       "      <td>0</td>\n",
       "      <td>971</td>\n",
       "      <td>2024</td>\n",
       "    </tr>\n",
       "    <tr>\n",
       "      <th>1637</th>\n",
       "      <td>2023-04-01</td>\n",
       "      <td>2023</td>\n",
       "      <td>4</td>\n",
       "      <td>2</td>\n",
       "      <td>27</td>\n",
       "      <td>196.333333</td>\n",
       "      <td>-0.19</td>\n",
       "      <td>0.51</td>\n",
       "      <td>0.412110</td>\n",
       "      <td>0.24</td>\n",
       "      <td>...</td>\n",
       "      <td>0</td>\n",
       "      <td>0</td>\n",
       "      <td>0</td>\n",
       "      <td>0</td>\n",
       "      <td>0</td>\n",
       "      <td>Assam</td>\n",
       "      <td>2-Wheelers</td>\n",
       "      <td>178</td>\n",
       "      <td>35047</td>\n",
       "      <td>2024</td>\n",
       "    </tr>\n",
       "    <tr>\n",
       "      <th>1639</th>\n",
       "      <td>2023-04-01</td>\n",
       "      <td>2023</td>\n",
       "      <td>4</td>\n",
       "      <td>2</td>\n",
       "      <td>27</td>\n",
       "      <td>1061.333333</td>\n",
       "      <td>-0.25</td>\n",
       "      <td>1.15</td>\n",
       "      <td>0.765468</td>\n",
       "      <td>1.33</td>\n",
       "      <td>...</td>\n",
       "      <td>0</td>\n",
       "      <td>0</td>\n",
       "      <td>0</td>\n",
       "      <td>0</td>\n",
       "      <td>0</td>\n",
       "      <td>Bihar</td>\n",
       "      <td>2-Wheelers</td>\n",
       "      <td>971</td>\n",
       "      <td>84319</td>\n",
       "      <td>2024</td>\n",
       "    </tr>\n",
       "    <tr>\n",
       "      <th>...</th>\n",
       "      <td>...</td>\n",
       "      <td>...</td>\n",
       "      <td>...</td>\n",
       "      <td>...</td>\n",
       "      <td>...</td>\n",
       "      <td>...</td>\n",
       "      <td>...</td>\n",
       "      <td>...</td>\n",
       "      <td>...</td>\n",
       "      <td>...</td>\n",
       "      <td>...</td>\n",
       "      <td>...</td>\n",
       "      <td>...</td>\n",
       "      <td>...</td>\n",
       "      <td>...</td>\n",
       "      <td>...</td>\n",
       "      <td>...</td>\n",
       "      <td>...</td>\n",
       "      <td>...</td>\n",
       "      <td>...</td>\n",
       "      <td>...</td>\n",
       "    </tr>\n",
       "    <tr>\n",
       "      <th>2435</th>\n",
       "      <td>2024-03-01</td>\n",
       "      <td>2024</td>\n",
       "      <td>3</td>\n",
       "      <td>1</td>\n",
       "      <td>38</td>\n",
       "      <td>9859.000000</td>\n",
       "      <td>0.54</td>\n",
       "      <td>10.76</td>\n",
       "      <td>2.464704</td>\n",
       "      <td>9.65</td>\n",
       "      <td>...</td>\n",
       "      <td>0</td>\n",
       "      <td>0</td>\n",
       "      <td>0</td>\n",
       "      <td>0</td>\n",
       "      <td>0</td>\n",
       "      <td>Tamil Nadu</td>\n",
       "      <td>2-Wheelers</td>\n",
       "      <td>13350</td>\n",
       "      <td>124071</td>\n",
       "      <td>2024</td>\n",
       "    </tr>\n",
       "    <tr>\n",
       "      <th>2437</th>\n",
       "      <td>2024-03-01</td>\n",
       "      <td>2024</td>\n",
       "      <td>3</td>\n",
       "      <td>1</td>\n",
       "      <td>38</td>\n",
       "      <td>22.666667</td>\n",
       "      <td>0.71</td>\n",
       "      <td>1.10</td>\n",
       "      <td>0.741937</td>\n",
       "      <td>0.03</td>\n",
       "      <td>...</td>\n",
       "      <td>0</td>\n",
       "      <td>0</td>\n",
       "      <td>0</td>\n",
       "      <td>0</td>\n",
       "      <td>0</td>\n",
       "      <td>Tripura</td>\n",
       "      <td>2-Wheelers</td>\n",
       "      <td>41</td>\n",
       "      <td>3728</td>\n",
       "      <td>2024</td>\n",
       "    </tr>\n",
       "    <tr>\n",
       "      <th>2439</th>\n",
       "      <td>2024-03-01</td>\n",
       "      <td>2024</td>\n",
       "      <td>3</td>\n",
       "      <td>1</td>\n",
       "      <td>38</td>\n",
       "      <td>6674.666667</td>\n",
       "      <td>0.19</td>\n",
       "      <td>3.71</td>\n",
       "      <td>1.549688</td>\n",
       "      <td>5.64</td>\n",
       "      <td>...</td>\n",
       "      <td>0</td>\n",
       "      <td>0</td>\n",
       "      <td>0</td>\n",
       "      <td>0</td>\n",
       "      <td>0</td>\n",
       "      <td>Uttar Pradesh</td>\n",
       "      <td>2-Wheelers</td>\n",
       "      <td>7799</td>\n",
       "      <td>210216</td>\n",
       "      <td>2024</td>\n",
       "    </tr>\n",
       "    <tr>\n",
       "      <th>2441</th>\n",
       "      <td>2024-03-01</td>\n",
       "      <td>2024</td>\n",
       "      <td>3</td>\n",
       "      <td>1</td>\n",
       "      <td>38</td>\n",
       "      <td>515.666667</td>\n",
       "      <td>-0.01</td>\n",
       "      <td>4.63</td>\n",
       "      <td>1.728109</td>\n",
       "      <td>0.42</td>\n",
       "      <td>...</td>\n",
       "      <td>0</td>\n",
       "      <td>0</td>\n",
       "      <td>0</td>\n",
       "      <td>0</td>\n",
       "      <td>0</td>\n",
       "      <td>Uttarakhand</td>\n",
       "      <td>2-Wheelers</td>\n",
       "      <td>579</td>\n",
       "      <td>12506</td>\n",
       "      <td>2024</td>\n",
       "    </tr>\n",
       "    <tr>\n",
       "      <th>2443</th>\n",
       "      <td>2024-03-01</td>\n",
       "      <td>2024</td>\n",
       "      <td>3</td>\n",
       "      <td>1</td>\n",
       "      <td>38</td>\n",
       "      <td>1712.000000</td>\n",
       "      <td>0.61</td>\n",
       "      <td>3.09</td>\n",
       "      <td>1.408545</td>\n",
       "      <td>1.56</td>\n",
       "      <td>...</td>\n",
       "      <td>0</td>\n",
       "      <td>0</td>\n",
       "      <td>0</td>\n",
       "      <td>0</td>\n",
       "      <td>0</td>\n",
       "      <td>West Bengal</td>\n",
       "      <td>2-Wheelers</td>\n",
       "      <td>2159</td>\n",
       "      <td>69871</td>\n",
       "      <td>2024</td>\n",
       "    </tr>\n",
       "  </tbody>\n",
       "</table>\n",
       "<p>407 rows × 42 columns</p>\n",
       "</div>"
      ],
      "text/plain": [
       "           date  year  month  quarter  months_from_start  rolling_mean_ev  \\\n",
       "1631 2023-04-01  2023      4        2                 27         0.333333   \n",
       "1633 2023-04-01  2023      4        2                 27      3312.333333   \n",
       "1635 2023-04-01  2023      4        2                 27         0.000000   \n",
       "1637 2023-04-01  2023      4        2                 27       196.333333   \n",
       "1639 2023-04-01  2023      4        2                 27      1061.333333   \n",
       "...         ...   ...    ...      ...                ...              ...   \n",
       "2435 2024-03-01  2024      3        1                 38      9859.000000   \n",
       "2437 2024-03-01  2024      3        1                 38        22.666667   \n",
       "2439 2024-03-01  2024      3        1                 38      6674.666667   \n",
       "2441 2024-03-01  2024      3        1                 38       515.666667   \n",
       "2443 2024-03-01  2024      3        1                 38      1712.000000   \n",
       "\n",
       "      ev_growth_rate  ev_penetration  ev_penetration_log  \\\n",
       "1631           -1.00            0.00            0.000000   \n",
       "1633            0.00            7.32            2.118662   \n",
       "1635            0.00            0.00            0.000000   \n",
       "1637           -0.19            0.51            0.412110   \n",
       "1639           -0.25            1.15            0.765468   \n",
       "...              ...             ...                 ...   \n",
       "2435            0.54           10.76            2.464704   \n",
       "2437            0.71            1.10            0.741937   \n",
       "2439            0.19            3.71            1.549688   \n",
       "2441           -0.01            4.63            1.728109   \n",
       "2443            0.61            3.09            1.408545   \n",
       "\n",
       "      national_market_share  ...  is_missing_ev_growth_rate  \\\n",
       "1631                   0.00  ...                          0   \n",
       "1633                   4.83  ...                          0   \n",
       "1635                   0.00  ...                          0   \n",
       "1637                   0.24  ...                          0   \n",
       "1639                   1.33  ...                          0   \n",
       "...                     ...  ...                        ...   \n",
       "2435                   9.65  ...                          0   \n",
       "2437                   0.03  ...                          0   \n",
       "2439                   5.64  ...                          0   \n",
       "2441                   0.42  ...                          0   \n",
       "2443                   1.56  ...                          0   \n",
       "\n",
       "     is_missing_segment_preference_ratio  is_missing_segment_growth_diff  \\\n",
       "1631                                   0                               0   \n",
       "1633                                   0                               0   \n",
       "1635                                   0                               0   \n",
       "1637                                   0                               0   \n",
       "1639                                   0                               0   \n",
       "...                                  ...                             ...   \n",
       "2435                                   0                               0   \n",
       "2437                                   0                               0   \n",
       "2439                                   0                               0   \n",
       "2441                                   0                               0   \n",
       "2443                                   0                               0   \n",
       "\n",
       "     is_missing_regional_avg_penetration  is_missing_adoption_velocity  \\\n",
       "1631                                   0                             0   \n",
       "1633                                   0                             0   \n",
       "1635                                   0                             0   \n",
       "1637                                   0                             0   \n",
       "1639                                   0                             0   \n",
       "...                                  ...                           ...   \n",
       "2435                                   0                             0   \n",
       "2437                                   0                             0   \n",
       "2439                                   0                             0   \n",
       "2441                                   0                             0   \n",
       "2443                                   0                             0   \n",
       "\n",
       "                            state  vehicle_category  electric_vehicles_sold  \\\n",
       "1631  Andaman and Nicobar Islands        2-Wheelers                       0   \n",
       "1633               Andhra Pradesh        2-Wheelers                    3515   \n",
       "1635            Arunachal Pradesh        2-Wheelers                       0   \n",
       "1637                        Assam        2-Wheelers                     178   \n",
       "1639                        Bihar        2-Wheelers                     971   \n",
       "...                           ...               ...                     ...   \n",
       "2435                   Tamil Nadu        2-Wheelers                   13350   \n",
       "2437                      Tripura        2-Wheelers                      41   \n",
       "2439                Uttar Pradesh        2-Wheelers                    7799   \n",
       "2441                  Uttarakhand        2-Wheelers                     579   \n",
       "2443                  West Bengal        2-Wheelers                    2159   \n",
       "\n",
       "      total_vehicles_sold  fiscal_year  \n",
       "1631                  325         2024  \n",
       "1633                48046         2024  \n",
       "1635                  971         2024  \n",
       "1637                35047         2024  \n",
       "1639                84319         2024  \n",
       "...                   ...          ...  \n",
       "2435               124071         2024  \n",
       "2437                 3728         2024  \n",
       "2439               210216         2024  \n",
       "2441                12506         2024  \n",
       "2443                69871         2024  \n",
       "\n",
       "[407 rows x 42 columns]"
      ]
     },
     "metadata": {},
     "output_type": "display_data"
    },
    {
     "name": "stdout",
     "output_type": "stream",
     "text": [
      "Two Wheeler stats:\n"
     ]
    },
    {
     "data": {
      "text/html": [
       "<div>\n",
       "<style scoped>\n",
       "    .dataframe tbody tr th:only-of-type {\n",
       "        vertical-align: middle;\n",
       "    }\n",
       "\n",
       "    .dataframe tbody tr th {\n",
       "        vertical-align: top;\n",
       "    }\n",
       "\n",
       "    .dataframe thead th {\n",
       "        text-align: right;\n",
       "    }\n",
       "</style>\n",
       "<table border=\"1\" class=\"dataframe\">\n",
       "  <thead>\n",
       "    <tr style=\"text-align: right;\">\n",
       "      <th></th>\n",
       "      <th>electric_vehicles_sold</th>\n",
       "      <th>total_vehicles_sold</th>\n",
       "    </tr>\n",
       "    <tr>\n",
       "      <th>state</th>\n",
       "      <th></th>\n",
       "      <th></th>\n",
       "    </tr>\n",
       "  </thead>\n",
       "  <tbody>\n",
       "    <tr>\n",
       "      <th>Andaman and Nicobar Islands</th>\n",
       "      <td>20</td>\n",
       "      <td>5249</td>\n",
       "    </tr>\n",
       "    <tr>\n",
       "      <th>Andhra Pradesh</th>\n",
       "      <td>31353</td>\n",
       "      <td>694105</td>\n",
       "    </tr>\n",
       "    <tr>\n",
       "      <th>Arunachal Pradesh</th>\n",
       "      <td>3</td>\n",
       "      <td>14673</td>\n",
       "    </tr>\n",
       "    <tr>\n",
       "      <th>Assam</th>\n",
       "      <td>3168</td>\n",
       "      <td>456726</td>\n",
       "    </tr>\n",
       "    <tr>\n",
       "      <th>Bihar</th>\n",
       "      <td>14366</td>\n",
       "      <td>1057642</td>\n",
       "    </tr>\n",
       "    <tr>\n",
       "      <th>Chandigarh</th>\n",
       "      <td>1857</td>\n",
       "      <td>22496</td>\n",
       "    </tr>\n",
       "    <tr>\n",
       "      <th>Chhattisgarh</th>\n",
       "      <td>27283</td>\n",
       "      <td>451086</td>\n",
       "    </tr>\n",
       "    <tr>\n",
       "      <th>Dadra and Nagar Haveli and Daman and Diu</th>\n",
       "      <td>149</td>\n",
       "      <td>10893</td>\n",
       "    </tr>\n",
       "    <tr>\n",
       "      <th>Delhi</th>\n",
       "      <td>38094</td>\n",
       "      <td>405218</td>\n",
       "    </tr>\n",
       "    <tr>\n",
       "      <th>Goa</th>\n",
       "      <td>9768</td>\n",
       "      <td>54290</td>\n",
       "    </tr>\n",
       "    <tr>\n",
       "      <th>Gujarat</th>\n",
       "      <td>77102</td>\n",
       "      <td>1236242</td>\n",
       "    </tr>\n",
       "    <tr>\n",
       "      <th>Haryana</th>\n",
       "      <td>9031</td>\n",
       "      <td>462725</td>\n",
       "    </tr>\n",
       "    <tr>\n",
       "      <th>Himachal Pradesh</th>\n",
       "      <td>888</td>\n",
       "      <td>68013</td>\n",
       "    </tr>\n",
       "    <tr>\n",
       "      <th>Jammu and Kashmir</th>\n",
       "      <td>2117</td>\n",
       "      <td>84301</td>\n",
       "    </tr>\n",
       "    <tr>\n",
       "      <th>Jharkhand</th>\n",
       "      <td>7381</td>\n",
       "      <td>439281</td>\n",
       "    </tr>\n",
       "    <tr>\n",
       "      <th>Karnataka</th>\n",
       "      <td>148111</td>\n",
       "      <td>1279767</td>\n",
       "    </tr>\n",
       "    <tr>\n",
       "      <th>Kerala</th>\n",
       "      <td>64769</td>\n",
       "      <td>478887</td>\n",
       "    </tr>\n",
       "    <tr>\n",
       "      <th>Ladakh</th>\n",
       "      <td>31</td>\n",
       "      <td>763</td>\n",
       "    </tr>\n",
       "    <tr>\n",
       "      <th>Madhya Pradesh</th>\n",
       "      <td>41674</td>\n",
       "      <td>1125193</td>\n",
       "    </tr>\n",
       "    <tr>\n",
       "      <th>Maharashtra</th>\n",
       "      <td>183052</td>\n",
       "      <td>1817343</td>\n",
       "    </tr>\n",
       "    <tr>\n",
       "      <th>Manipur</th>\n",
       "      <td>88</td>\n",
       "      <td>14180</td>\n",
       "    </tr>\n",
       "    <tr>\n",
       "      <th>Meghalaya</th>\n",
       "      <td>106</td>\n",
       "      <td>22482</td>\n",
       "    </tr>\n",
       "    <tr>\n",
       "      <th>Mizoram</th>\n",
       "      <td>274</td>\n",
       "      <td>22035</td>\n",
       "    </tr>\n",
       "    <tr>\n",
       "      <th>Nagaland</th>\n",
       "      <td>5</td>\n",
       "      <td>7516</td>\n",
       "    </tr>\n",
       "    <tr>\n",
       "      <th>Odisha</th>\n",
       "      <td>37613</td>\n",
       "      <td>545939</td>\n",
       "    </tr>\n",
       "    <tr>\n",
       "      <th>Puducherry</th>\n",
       "      <td>2987</td>\n",
       "      <td>46119</td>\n",
       "    </tr>\n",
       "    <tr>\n",
       "      <th>Punjab</th>\n",
       "      <td>10101</td>\n",
       "      <td>427112</td>\n",
       "    </tr>\n",
       "    <tr>\n",
       "      <th>Rajasthan</th>\n",
       "      <td>61319</td>\n",
       "      <td>1094945</td>\n",
       "    </tr>\n",
       "    <tr>\n",
       "      <th>Sikkim</th>\n",
       "      <td>0</td>\n",
       "      <td>5472</td>\n",
       "    </tr>\n",
       "    <tr>\n",
       "      <th>Tamil Nadu</th>\n",
       "      <td>87405</td>\n",
       "      <td>1447749</td>\n",
       "    </tr>\n",
       "    <tr>\n",
       "      <th>Tripura</th>\n",
       "      <td>273</td>\n",
       "      <td>40620</td>\n",
       "    </tr>\n",
       "    <tr>\n",
       "      <th>Uttar Pradesh</th>\n",
       "      <td>52513</td>\n",
       "      <td>2525152</td>\n",
       "    </tr>\n",
       "    <tr>\n",
       "      <th>Uttarakhand</th>\n",
       "      <td>5775</td>\n",
       "      <td>175010</td>\n",
       "    </tr>\n",
       "    <tr>\n",
       "      <th>West Bengal</th>\n",
       "      <td>14016</td>\n",
       "      <td>855595</td>\n",
       "    </tr>\n",
       "  </tbody>\n",
       "</table>\n",
       "</div>"
      ],
      "text/plain": [
       "                                          electric_vehicles_sold  \\\n",
       "state                                                              \n",
       "Andaman and Nicobar Islands                                   20   \n",
       "Andhra Pradesh                                             31353   \n",
       "Arunachal Pradesh                                              3   \n",
       "Assam                                                       3168   \n",
       "Bihar                                                      14366   \n",
       "Chandigarh                                                  1857   \n",
       "Chhattisgarh                                               27283   \n",
       "Dadra and Nagar Haveli and Daman and Diu                     149   \n",
       "Delhi                                                      38094   \n",
       "Goa                                                         9768   \n",
       "Gujarat                                                    77102   \n",
       "Haryana                                                     9031   \n",
       "Himachal Pradesh                                             888   \n",
       "Jammu and Kashmir                                           2117   \n",
       "Jharkhand                                                   7381   \n",
       "Karnataka                                                 148111   \n",
       "Kerala                                                     64769   \n",
       "Ladakh                                                        31   \n",
       "Madhya Pradesh                                             41674   \n",
       "Maharashtra                                               183052   \n",
       "Manipur                                                       88   \n",
       "Meghalaya                                                    106   \n",
       "Mizoram                                                      274   \n",
       "Nagaland                                                       5   \n",
       "Odisha                                                     37613   \n",
       "Puducherry                                                  2987   \n",
       "Punjab                                                     10101   \n",
       "Rajasthan                                                  61319   \n",
       "Sikkim                                                         0   \n",
       "Tamil Nadu                                                 87405   \n",
       "Tripura                                                      273   \n",
       "Uttar Pradesh                                              52513   \n",
       "Uttarakhand                                                 5775   \n",
       "West Bengal                                                14016   \n",
       "\n",
       "                                          total_vehicles_sold  \n",
       "state                                                          \n",
       "Andaman and Nicobar Islands                              5249  \n",
       "Andhra Pradesh                                         694105  \n",
       "Arunachal Pradesh                                       14673  \n",
       "Assam                                                  456726  \n",
       "Bihar                                                 1057642  \n",
       "Chandigarh                                              22496  \n",
       "Chhattisgarh                                           451086  \n",
       "Dadra and Nagar Haveli and Daman and Diu                10893  \n",
       "Delhi                                                  405218  \n",
       "Goa                                                     54290  \n",
       "Gujarat                                               1236242  \n",
       "Haryana                                                462725  \n",
       "Himachal Pradesh                                        68013  \n",
       "Jammu and Kashmir                                       84301  \n",
       "Jharkhand                                              439281  \n",
       "Karnataka                                             1279767  \n",
       "Kerala                                                 478887  \n",
       "Ladakh                                                    763  \n",
       "Madhya Pradesh                                        1125193  \n",
       "Maharashtra                                           1817343  \n",
       "Manipur                                                 14180  \n",
       "Meghalaya                                               22482  \n",
       "Mizoram                                                 22035  \n",
       "Nagaland                                                 7516  \n",
       "Odisha                                                 545939  \n",
       "Puducherry                                              46119  \n",
       "Punjab                                                 427112  \n",
       "Rajasthan                                             1094945  \n",
       "Sikkim                                                   5472  \n",
       "Tamil Nadu                                            1447749  \n",
       "Tripura                                                 40620  \n",
       "Uttar Pradesh                                         2525152  \n",
       "Uttarakhand                                            175010  \n",
       "West Bengal                                            855595  "
      ]
     },
     "metadata": {},
     "output_type": "display_data"
    },
    {
     "data": {
      "text/plain": [
       "Index(['date', 'year', 'month', 'quarter', 'months_from_start',\n",
       "       'rolling_mean_ev', 'ev_growth_rate', 'ev_penetration',\n",
       "       'ev_penetration_log', 'national_market_share', 'state_rank',\n",
       "       'growth_stage', 'market_concentration', 'region',\n",
       "       'regional_avg_penetration', 'state_to_region_ratio', 'regional_rank',\n",
       "       'market_maturity_score', 'adoption_velocity',\n",
       "       'adoption_velocity_capped', 'segment_penetration_2-wheelers',\n",
       "       'segment_penetration_4-wheelers', 'segment_preference_ratio',\n",
       "       'segment_preference_ratio_capped', 'segment_preference_ratio_log',\n",
       "       'dominant_segment', 'segment_growth_diff', 'ev_sales_growth_rank_state',\n",
       "       'ev_sales_growth_rank_region', 'is_early_adopter', 'months_since_peak',\n",
       "       'is_at_peak', 'is_missing_ev_growth_rate',\n",
       "       'is_missing_segment_preference_ratio', 'is_missing_segment_growth_diff',\n",
       "       'is_missing_regional_avg_penetration', 'is_missing_adoption_velocity',\n",
       "       'state', 'vehicle_category', 'electric_vehicles_sold',\n",
       "       'total_vehicles_sold', 'fiscal_year'],\n",
       "      dtype='object')"
      ]
     },
     "metadata": {},
     "output_type": "display_data"
    }
   ],
   "source": [
    "# Calculate penetration rates for 2-wheelers\n",
    "two_wheeler_data = fy_2024_data[fy_2024_data['vehicle_category'] == '2-Wheelers']\n",
    "two_wheeler_stats = two_wheeler_data.groupby('state').agg({\n",
    "    'electric_vehicles_sold': 'sum',\n",
    "    'total_vehicles_sold': 'sum'\n",
    "}).reset_index()\n",
    "\n",
    "two_wheeler_stats = two_wheeler_stats.set_index('state')\n",
    "\n",
    "print(\"Two wheeler data:\")\n",
    "display(two_wheeler_data)\n",
    "\n",
    "print(\"Two Wheeler stats:\")\n",
    "display(two_wheeler_stats)\n",
    "\n",
    "display(df.columns)"
   ]
  },
  {
   "cell_type": "code",
   "execution_count": 94,
   "id": "e1965d9f",
   "metadata": {},
   "outputs": [],
   "source": [
    "two_wheeler_stats['penetration_rate'] = (\n",
    "    two_wheeler_stats['electric_vehicles_sold'] / two_wheeler_stats['total_vehicles_sold'] * 100\n",
    ")\n",
    "top_5_2w = two_wheeler_stats.nlargest(5, 'penetration_rate')\n",
    "\n",
    "# Calculate penetration rates for 4-wheelers\n",
    "four_wheeler_data = fy_2024_data[fy_2024_data['vehicle_category'] == '4-Wheelers']\n",
    "four_wheeler_stats = four_wheeler_data.groupby('state').agg({\n",
    "    'electric_vehicles_sold': 'sum',\n",
    "    'total_vehicles_sold': 'sum'\n",
    "}).reset_index()\n",
    "\n",
    "four_wheeler_stats['penetration_rate'] = (\n",
    "    four_wheeler_stats['electric_vehicles_sold'] / four_wheeler_stats['total_vehicles_sold'] * 100\n",
    ")\n",
    "top_5_4w = four_wheeler_stats.nlargest(5, 'penetration_rate')"
   ]
  },
  {
   "cell_type": "code",
   "execution_count": 95,
   "id": "0eede54c",
   "metadata": {},
   "outputs": [],
   "source": [
    "overall_stats = df.groupby('state').agg({\n",
    "    'electric_vehicles_sold': 'sum',\n",
    "    'total_vehicles_sold': 'sum'\n",
    "}).reset_index()\n",
    "\n",
    "overall_stats['penetration_rate'] = (\n",
    "    overall_stats['electric_vehicles_sold'] / overall_stats['total_vehicles_sold'] * 100\n",
    ")"
   ]
  },
  {
   "cell_type": "code",
   "execution_count": 96,
   "id": "ed8db9a1",
   "metadata": {},
   "outputs": [
    {
     "data": {
      "text/html": [
       "<div>\n",
       "<style scoped>\n",
       "    .dataframe tbody tr th:only-of-type {\n",
       "        vertical-align: middle;\n",
       "    }\n",
       "\n",
       "    .dataframe tbody tr th {\n",
       "        vertical-align: top;\n",
       "    }\n",
       "\n",
       "    .dataframe thead th {\n",
       "        text-align: right;\n",
       "    }\n",
       "</style>\n",
       "<table border=\"1\" class=\"dataframe\">\n",
       "  <thead>\n",
       "    <tr style=\"text-align: right;\">\n",
       "      <th></th>\n",
       "      <th>state</th>\n",
       "      <th>fiscal_year</th>\n",
       "      <th>electric_vehicles_sold</th>\n",
       "      <th>total_vehicles_sold</th>\n",
       "      <th>penetration_rate</th>\n",
       "    </tr>\n",
       "  </thead>\n",
       "  <tbody>\n",
       "    <tr>\n",
       "      <th>29</th>\n",
       "      <td>Goa</td>\n",
       "      <td>2024</td>\n",
       "      <td>10799</td>\n",
       "      <td>78524</td>\n",
       "      <td>13.752483</td>\n",
       "    </tr>\n",
       "    <tr>\n",
       "      <th>50</th>\n",
       "      <td>Kerala</td>\n",
       "      <td>2024</td>\n",
       "      <td>73938</td>\n",
       "      <td>638114</td>\n",
       "      <td>11.586958</td>\n",
       "    </tr>\n",
       "    <tr>\n",
       "      <th>47</th>\n",
       "      <td>Karnataka</td>\n",
       "      <td>2024</td>\n",
       "      <td>160989</td>\n",
       "      <td>1581988</td>\n",
       "      <td>10.176373</td>\n",
       "    </tr>\n",
       "    <tr>\n",
       "      <th>28</th>\n",
       "      <td>Goa</td>\n",
       "      <td>2023</td>\n",
       "      <td>7107</td>\n",
       "      <td>73074</td>\n",
       "      <td>9.725757</td>\n",
       "    </tr>\n",
       "    <tr>\n",
       "      <th>59</th>\n",
       "      <td>Maharashtra</td>\n",
       "      <td>2024</td>\n",
       "      <td>197169</td>\n",
       "      <td>2293994</td>\n",
       "      <td>8.595009</td>\n",
       "    </tr>\n",
       "  </tbody>\n",
       "</table>\n",
       "</div>"
      ],
      "text/plain": [
       "          state  fiscal_year  electric_vehicles_sold  total_vehicles_sold  \\\n",
       "29          Goa         2024                   10799                78524   \n",
       "50       Kerala         2024                   73938               638114   \n",
       "47    Karnataka         2024                  160989              1581988   \n",
       "28          Goa         2023                    7107                73074   \n",
       "59  Maharashtra         2024                  197169              2293994   \n",
       "\n",
       "    penetration_rate  \n",
       "29         13.752483  \n",
       "50         11.586958  \n",
       "47         10.176373  \n",
       "28          9.725757  \n",
       "59          8.595009  "
      ]
     },
     "metadata": {},
     "output_type": "display_data"
    }
   ],
   "source": [
    "yearly_stats = df.groupby(['state','fiscal_year']).agg({\n",
    "  'electric_vehicles_sold': 'sum',\n",
    "  'total_vehicles_sold': 'sum'\n",
    "}).reset_index()\n",
    "\n",
    "yearly_statsyearly_stats = df.groupby(['state', 'fiscal_year']).agg({\n",
    "    'electric_vehicles_sold': 'sum',\n",
    "    'total_vehicles_sold': 'sum'\n",
    "}).reset_index()\n",
    "\n",
    "yearly_stats['penetration_rate'] = (\n",
    "    yearly_stats['electric_vehicles_sold'] / yearly_stats['total_vehicles_sold'] * 100\n",
    ")\n",
    "\n",
    "top_5_overall = yearly_stats.nlargest(5, 'penetration_rate')\n",
    "\n",
    "display(top_5_overall)"
   ]
  },
  {
   "cell_type": "code",
   "execution_count": 97,
   "id": "2c4646df",
   "metadata": {},
   "outputs": [],
   "source": [
    "national_stats = yearly_stats.groupby('fiscal_year', as_index=False).agg({\n",
    "    'electric_vehicles_sold': 'sum',\n",
    "    'total_vehicles_sold': 'sum'\n",
    "})\n",
    "\n",
    "# Calculate national penetration rate\n",
    "national_stats['penetration_rate'] = (\n",
    "    national_stats['electric_vehicles_sold'] / national_stats['total_vehicles_sold'] * 100\n",
    ")"
   ]
  },
  {
   "cell_type": "code",
   "execution_count": 98,
   "id": "104c37b2",
   "metadata": {},
   "outputs": [
    {
     "data": {
      "image/png": "[encoded data removed]",
      "text/plain": [
       "<Figure size 1000x600 with 1 Axes>"
      ]
     },
     "metadata": {},
     "output_type": "display_data"
    }
   ],
   "source": [
    "import matplotlib.pyplot as plt\n",
    "from matplotlib.patches import Rectangle\n",
    "import seaborn as sns\n",
    "\n",
    "# Step 1: Group and calculate national penetration rate\n",
    "national_stats = yearly_stats.groupby('fiscal_year', as_index=False).agg({\n",
    "    'electric_vehicles_sold': 'sum',\n",
    "    'total_vehicles_sold': 'sum'\n",
    "})\n",
    "national_stats['penetration_rate'] = (\n",
    "    national_stats['electric_vehicles_sold'] / national_stats['total_vehicles_sold'] * 100\n",
    ")\n",
    "\n",
    "# Step 2: Bar plot\n",
    "plt.figure(figsize=(10, 6))\n",
    "ax = sns.barplot(data=national_stats, x='fiscal_year', y='penetration_rate', palette='viridis')\n",
    "\n",
    "# Step 3: Add data labels on bars\n",
    "for bar in ax.patches:\n",
    "    if isinstance(bar, Rectangle):\n",
    "        height = bar.get_height()\n",
    "        ax.text(\n",
    "            bar.get_x() + bar.get_width() / 2,\n",
    "            height + 0.5,\n",
    "            f\"{height:.1f}%\",\n",
    "            ha='center',\n",
    "            va='bottom',\n",
    "            fontsize=10,\n",
    "            fontweight='bold'\n",
    "        )\n",
    "\n",
    "\n",
    "# Final touches\n",
    "plt.title('National EV Penetration Rate by Fiscal Year')\n",
    "plt.xlabel('Fiscal Year')\n",
    "plt.ylabel('Penetration Rate (%)')\n",
    "plt.grid(axis='y')\n",
    "plt.tight_layout()\n",
    "plt.show()\n"
   ]
  },
  {
   "cell_type": "markdown",
   "id": "68776924",
   "metadata": {},
   "source": [
    "### 🔍 **Key Insights from the Chart**\n",
    "\n",
    "#### 1. 📈 **Consistent Growth in EV Penetration**\n",
    "\n",
    "* **FY 2022:** The EV penetration rate started at **1.7%**, meaning that fewer than 2 out of every 100 vehicles sold were electric.\n",
    "* **FY 2023:** This more than **doubled to 4.0%**, reflecting increasing awareness, affordability, and state-level incentives.\n",
    "* **FY 2024:** The rate climbed further to **4.8%**, showing continued growth, though the pace of increase slowed compared to the previous year.\n",
    "\n",
    "#### 2. 🚀 **More Than 2.8x Growth in 2 Years**\n",
    "\n",
    "* From **1.7% in 2022 to 4.8% in 2024**, this represents a **182% increase** in EV adoption rate nationally.\n",
    "* This rapid rise suggests stronger infrastructure, improved vehicle options, and positive policy impacts.\n",
    "\n",
    "#### 3. 🧭 **Growth Rate is Slowing Slightly**\n",
    "\n",
    "* While FY 2023 saw a **+2.3 percentage point jump**, FY 2024 only added **+0.8 points**.\n",
    "* This suggests that early adopters may be saturated, and further growth may depend on deeper market penetration (e.g., rural areas, affordable models).\n",
    "\n",
    "---\n",
    "\n",
    "### 🗣️ How to Explain to a Non-Technical Audience\n",
    "\n",
    "> Over the past three years, India has made big strides in embracing electric vehicles. In 2022, EVs made up just 1.7% of all vehicle sales. By 2023, that more than doubled to 4%, and in 2024, nearly **1 in every 20 vehicles sold was electric**.\n",
    ">\n",
    "> This shows that electric mobility is no longer a niche—it’s going mainstream. However, the slightly slower growth from 2023 to 2024 tells us that while awareness is high, the next big leap will need even stronger charging infrastructure and affordable EV options for the masses."
   ]
  },
  {
   "cell_type": "code",
   "execution_count": 99,
   "id": "8c921d2b",
   "metadata": {},
   "outputs": [
    {
     "data": {
      "application/vnd.plotly.v1+json": {
       "config": {
        "plotlyServerURL": "https://plot.ly"
       },
       "data": [
        {
         "marker": {
          "color": "rgb(55, 83, 109)"
         },
         "name": "2-Wheelers",
         "text": [
          17.99,
          13.52,
          11.57,
          10.07,
          9.4
         ],
         "textposition": "auto",
         "type": "bar",
         "x": [
          "Goa",
          "Kerala",
          "Karnataka",
          "Maharashtra",
          "Delhi"
         ],
         "xaxis": "x",
         "y": [
          17.992263768649845,
          13.524902534418349,
          11.573278573365307,
          10.072506951081882,
          9.40086570685409
         ],
         "yaxis": "y"
        },
        {
         "marker": {
          "color": "rgb(26, 118, 255)"
         },
         "name": "4-Wheelers",
         "text": [
          5.76,
          4.5,
          4.29,
          4.26,
          4.25
         ],
         "textposition": "auto",
         "type": "bar",
         "x": [
          "Kerala",
          "Chandigarh",
          "Delhi",
          "Karnataka",
          "Goa"
         ],
         "xaxis": "x2",
         "y": [
          5.7584454897724635,
          4.503112445366651,
          4.29075722169741,
          4.261120173647761,
          4.2543533878022615
         ],
         "yaxis": "y2"
        }
       ],
       "layout": {
        "annotations": [
         {
          "font": {
           "size": 16
          },
          "showarrow": false,
          "text": "Top 5 States - 2-Wheeler EV Penetration Rate (FY 2024)",
          "x": 0.5,
          "xanchor": "center",
          "xref": "paper",
          "y": 1,
          "yanchor": "bottom",
          "yref": "paper"
         },
         {
          "font": {
           "size": 16
          },
          "showarrow": false,
          "text": "Top 5 States - 4-Wheeler EV Penetration Rate (FY 2024)",
          "x": 0.5,
          "xanchor": "center",
          "xref": "paper",
          "y": 0.425,
          "yanchor": "bottom",
          "yref": "paper"
         }
        ],
        "height": 800,
        "showlegend": false,
        "template": {
         "data": {
          "bar": [
           {
            "error_x": {
             "color": "#2a3f5f"
            },
            "error_y": {
             "color": "#2a3f5f"
            },
            "marker": {
             "line": {
              "color": "white",
              "width": 0.5
             },
             "pattern": {
              "fillmode": "overlay",
              "size": 10,
              "solidity": 0.2
             }
            },
            "type": "bar"
           }
          ],
          "barpolar": [
           {
            "marker": {
             "line": {
              "color": "white",
              "width": 0.5
             },
             "pattern": {
              "fillmode": "overlay",
              "size": 10,
              "solidity": 0.2
             }
            },
            "type": "barpolar"
           }
          ],
          "carpet": [
           {
            "aaxis": {
             "endlinecolor": "#2a3f5f",
             "gridcolor": "#C8D4E3",
             "linecolor": "#C8D4E3",
             "minorgridcolor": "#C8D4E3",
             "startlinecolor": "#2a3f5f"
            },
            "baxis": {
             "endlinecolor": "#2a3f5f",
             "gridcolor": "#C8D4E3",
             "linecolor": "#C8D4E3",
             "minorgridcolor": "#C8D4E3",
             "startlinecolor": "#2a3f5f"
            },
            "type": "carpet"
           }
          ],
          "choropleth": [
           {
            "colorbar": {
             "outlinewidth": 0,
             "ticks": ""
            },
            "type": "choropleth"
           }
          ],
          "contour": [
           {
            "colorbar": {
             "outlinewidth": 0,
             "ticks": ""
            },
            "colorscale": [
             [
              0,
              "#0d0887"
             ],
             [
              0.1111111111111111,
              "#46039f"
             ],
             [
              0.2222222222222222,
              "#7201a8"
             ],
             [
              0.3333333333333333,
              "#9c179e"
             ],
             [
              0.4444444444444444,
              "#bd3786"
             ],
             [
              0.5555555555555556,
              "#d8576b"
             ],
             [
              0.6666666666666666,
              "#ed7953"
             ],
             [
              0.7777777777777778,
              "#fb9f3a"
             ],
             [
              0.8888888888888888,
              "#fdca26"
             ],
             [
              1,
              "#f0f921"
             ]
            ],
            "type": "contour"
           }
          ],
          "contourcarpet": [
           {
            "colorbar": {
             "outlinewidth": 0,
             "ticks": ""
            },
            "type": "contourcarpet"
           }
          ],
          "heatmap": [
           {
            "colorbar": {
             "outlinewidth": 0,
             "ticks": ""
            },
            "colorscale": [
             [
              0,
              "#0d0887"
             ],
             [
              0.1111111111111111,
              "#46039f"
             ],
             [
              0.2222222222222222,
              "#7201a8"
             ],
             [
              0.3333333333333333,
              "#9c179e"
             ],
             [
              0.4444444444444444,
              "#bd3786"
             ],
             [
              0.5555555555555556,
              "#d8576b"
             ],
             [
              0.6666666666666666,
              "#ed7953"
             ],
             [
              0.7777777777777778,
              "#fb9f3a"
             ],
             [
              0.8888888888888888,
              "#fdca26"
             ],
             [
              1,
              "#f0f921"
             ]
            ],
            "type": "heatmap"
           }
          ],
          "heatmapgl": [
           {
            "colorbar": {
             "outlinewidth": 0,
             "ticks": ""
            },
            "colorscale": [
             [
              0,
              "#0d0887"
             ],
             [
              0.1111111111111111,
              "#46039f"
             ],
             [
              0.2222222222222222,
              "#7201a8"
             ],
             [
              0.3333333333333333,
              "#9c179e"
             ],
             [
              0.4444444444444444,
              "#bd3786"
             ],
             [
              0.5555555555555556,
              "#d8576b"
             ],
             [
              0.6666666666666666,
              "#ed7953"
             ],
             [
              0.7777777777777778,
              "#fb9f3a"
             ],
             [
              0.8888888888888888,
              "#fdca26"
             ],
             [
              1,
              "#f0f921"
             ]
            ],
            "type": "heatmapgl"
           }
          ],
          "histogram": [
           {
            "marker": {
             "pattern": {
              "fillmode": "overlay",
              "size": 10,
              "solidity": 0.2
             }
            },
            "type": "histogram"
           }
          ],
          "histogram2d": [
           {
            "colorbar": {
             "outlinewidth": 0,
             "ticks": ""
            },
            "colorscale": [
             [
              0,
              "#0d0887"
             ],
             [
              0.1111111111111111,
              "#46039f"
             ],
             [
              0.2222222222222222,
              "#7201a8"
             ],
             [
              0.3333333333333333,
              "#9c179e"
             ],
             [
              0.4444444444444444,
              "#bd3786"
             ],
             [
              0.5555555555555556,
              "#d8576b"
             ],
             [
              0.6666666666666666,
              "#ed7953"
             ],
             [
              0.7777777777777778,
              "#fb9f3a"
             ],
             [
              0.8888888888888888,
              "#fdca26"
             ],
             [
              1,
              "#f0f921"
             ]
            ],
            "type": "histogram2d"
           }
          ],
          "histogram2dcontour": [
           {
            "colorbar": {
             "outlinewidth": 0,
             "ticks": ""
            },
            "colorscale": [
             [
              0,
              "#0d0887"
             ],
             [
              0.1111111111111111,
              "#46039f"
             ],
             [
              0.2222222222222222,
              "#7201a8"
             ],
             [
              0.3333333333333333,
              "#9c179e"
             ],
             [
              0.4444444444444444,
              "#bd3786"
             ],
             [
              0.5555555555555556,
              "#d8576b"
             ],
             [
              0.6666666666666666,
              "#ed7953"
             ],
             [
              0.7777777777777778,
              "#fb9f3a"
             ],
             [
              0.8888888888888888,
              "#fdca26"
             ],
             [
              1,
              "#f0f921"
             ]
            ],
            "type": "histogram2dcontour"
           }
          ],
          "mesh3d": [
           {
            "colorbar": {
             "outlinewidth": 0,
             "ticks": ""
            },
            "type": "mesh3d"
           }
          ],
          "parcoords": [
           {
            "line": {
             "colorbar": {
              "outlinewidth": 0,
              "ticks": ""
             }
            },
            "type": "parcoords"
           }
          ],
          "pie": [
           {
            "automargin": true,
            "type": "pie"
           }
          ],
          "scatter": [
           {
            "fillpattern": {
             "fillmode": "overlay",
             "size": 10,
             "solidity": 0.2
            },
            "type": "scatter"
           }
          ],
          "scatter3d": [
           {
            "line": {
             "colorbar": {
              "outlinewidth": 0,
              "ticks": ""
             }
            },
            "marker": {
             "colorbar": {
              "outlinewidth": 0,
              "ticks": ""
             }
            },
            "type": "scatter3d"
           }
          ],
          "scattercarpet": [
           {
            "marker": {
             "colorbar": {
              "outlinewidth": 0,
              "ticks": ""
             }
            },
            "type": "scattercarpet"
           }
          ],
          "scattergeo": [
           {
            "marker": {
             "colorbar": {
              "outlinewidth": 0,
              "ticks": ""
             }
            },
            "type": "scattergeo"
           }
          ],
          "scattergl": [
           {
            "marker": {
             "colorbar": {
              "outlinewidth": 0,
              "ticks": ""
             }
            },
            "type": "scattergl"
           }
          ],
          "scattermapbox": [
           {
            "marker": {
             "colorbar": {
              "outlinewidth": 0,
              "ticks": ""
             }
            },
            "type": "scattermapbox"
           }
          ],
          "scatterpolar": [
           {
            "marker": {
             "colorbar": {
              "outlinewidth": 0,
              "ticks": ""
             }
            },
            "type": "scatterpolar"
           }
          ],
          "scatterpolargl": [
           {
            "marker": {
             "colorbar": {
              "outlinewidth": 0,
              "ticks": ""
             }
            },
            "type": "scatterpolargl"
           }
          ],
          "scatterternary": [
           {
            "marker": {
             "colorbar": {
              "outlinewidth": 0,
              "ticks": ""
             }
            },
            "type": "scatterternary"
           }
          ],
          "surface": [
           {
            "colorbar": {
             "outlinewidth": 0,
             "ticks": ""
            },
            "colorscale": [
             [
              0,
              "#0d0887"
             ],
             [
              0.1111111111111111,
              "#46039f"
             ],
             [
              0.2222222222222222,
              "#7201a8"
             ],
             [
              0.3333333333333333,
              "#9c179e"
             ],
             [
              0.4444444444444444,
              "#bd3786"
             ],
             [
              0.5555555555555556,
              "#d8576b"
             ],
             [
              0.6666666666666666,
              "#ed7953"
             ],
             [
              0.7777777777777778,
              "#fb9f3a"
             ],
             [
              0.8888888888888888,
              "#fdca26"
             ],
             [
              1,
              "#f0f921"
             ]
            ],
            "type": "surface"
           }
          ],
          "table": [
           {
            "cells": {
             "fill": {
              "color": "#EBF0F8"
             },
             "line": {
              "color": "white"
             }
            },
            "header": {
             "fill": {
              "color": "#C8D4E3"
             },
             "line": {
              "color": "white"
             }
            },
            "type": "table"
           }
          ]
         },
         "layout": {
          "annotationdefaults": {
           "arrowcolor": "#2a3f5f",
           "arrowhead": 0,
           "arrowwidth": 1
          },
          "autotypenumbers": "strict",
          "coloraxis": {
           "colorbar": {
            "outlinewidth": 0,
            "ticks": ""
           }
          },
          "colorscale": {
           "diverging": [
            [
             0,
             "#8e0152"
            ],
            [
             0.1,
             "#c51b7d"
            ],
            [
             0.2,
             "#de77ae"
            ],
            [
             0.3,
             "#f1b6da"
            ],
            [
             0.4,
             "#fde0ef"
            ],
            [
             0.5,
             "#f7f7f7"
            ],
            [
             0.6,
             "#e6f5d0"
            ],
            [
             0.7,
             "#b8e186"
            ],
            [
             0.8,
             "#7fbc41"
            ],
            [
             0.9,
             "#4d9221"
            ],
            [
             1,
             "#276419"
            ]
           ],
           "sequential": [
            [
             0,
             "#0d0887"
            ],
            [
             0.1111111111111111,
             "#46039f"
            ],
            [
             0.2222222222222222,
             "#7201a8"
            ],
            [
             0.3333333333333333,
             "#9c179e"
            ],
            [
             0.4444444444444444,
             "#bd3786"
            ],
            [
             0.5555555555555556,
             "#d8576b"
            ],
            [
             0.6666666666666666,
             "#ed7953"
            ],
            [
             0.7777777777777778,
             "#fb9f3a"
            ],
            [
             0.8888888888888888,
             "#fdca26"
            ],
            [
             1,
             "#f0f921"
            ]
           ],
           "sequentialminus": [
            [
             0,
             "#0d0887"
            ],
            [
             0.1111111111111111,
             "#46039f"
            ],
            [
             0.2222222222222222,
             "#7201a8"
            ],
            [
             0.3333333333333333,
             "#9c179e"
            ],
            [
             0.4444444444444444,
             "#bd3786"
            ],
            [
             0.5555555555555556,
             "#d8576b"
            ],
            [
             0.6666666666666666,
             "#ed7953"
            ],
            [
             0.7777777777777778,
             "#fb9f3a"
            ],
            [
             0.8888888888888888,
             "#fdca26"
            ],
            [
             1,
             "#f0f921"
            ]
           ]
          },
          "colorway": [
           "#636efa",
           "#EF553B",
           "#00cc96",
           "#ab63fa",
           "#FFA15A",
           "#19d3f3",
           "#FF6692",
           "#B6E880",
           "#FF97FF",
           "#FECB52"
          ],
          "font": {
           "color": "#2a3f5f"
          },
          "geo": {
           "bgcolor": "white",
           "lakecolor": "white",
           "landcolor": "white",
           "showlakes": true,
           "showland": true,
           "subunitcolor": "#C8D4E3"
          },
          "hoverlabel": {
           "align": "left"
          },
          "hovermode": "closest",
          "mapbox": {
           "style": "light"
          },
          "paper_bgcolor": "white",
          "plot_bgcolor": "white",
          "polar": {
           "angularaxis": {
            "gridcolor": "#EBF0F8",
            "linecolor": "#EBF0F8",
            "ticks": ""
           },
           "bgcolor": "white",
           "radialaxis": {
            "gridcolor": "#EBF0F8",
            "linecolor": "#EBF0F8",
            "ticks": ""
           }
          },
          "scene": {
           "xaxis": {
            "backgroundcolor": "white",
            "gridcolor": "#DFE8F3",
            "gridwidth": 2,
            "linecolor": "#EBF0F8",
            "showbackground": true,
            "ticks": "",
            "zerolinecolor": "#EBF0F8"
           },
           "yaxis": {
            "backgroundcolor": "white",
            "gridcolor": "#DFE8F3",
            "gridwidth": 2,
            "linecolor": "#EBF0F8",
            "showbackground": true,
            "ticks": "",
            "zerolinecolor": "#EBF0F8"
           },
           "zaxis": {
            "backgroundcolor": "white",
            "gridcolor": "#DFE8F3",
            "gridwidth": 2,
            "linecolor": "#EBF0F8",
            "showbackground": true,
            "ticks": "",
            "zerolinecolor": "#EBF0F8"
           }
          },
          "shapedefaults": {
           "line": {
            "color": "#2a3f5f"
           }
          },
          "ternary": {
           "aaxis": {
            "gridcolor": "#DFE8F3",
            "linecolor": "#A2B1C6",
            "ticks": ""
           },
           "baxis": {
            "gridcolor": "#DFE8F3",
            "linecolor": "#A2B1C6",
            "ticks": ""
           },
           "bgcolor": "white",
           "caxis": {
            "gridcolor": "#DFE8F3",
            "linecolor": "#A2B1C6",
            "ticks": ""
           }
          },
          "title": {
           "x": 0.05
          },
          "xaxis": {
           "automargin": true,
           "gridcolor": "#EBF0F8",
           "linecolor": "#EBF0F8",
           "ticks": "",
           "title": {
            "standoff": 15
           },
           "zerolinecolor": "#EBF0F8",
           "zerolinewidth": 2
          },
          "yaxis": {
           "automargin": true,
           "gridcolor": "#EBF0F8",
           "linecolor": "#EBF0F8",
           "ticks": "",
           "title": {
            "standoff": 15
           },
           "zerolinecolor": "#EBF0F8",
           "zerolinewidth": 2
          }
         }
        },
        "title": {
         "text": "Top 5 States by EV Penetration Rate (FY 2024)"
        },
        "xaxis": {
         "anchor": "y",
         "domain": [
          0,
          1
         ]
        },
        "xaxis2": {
         "anchor": "y2",
         "domain": [
          0,
          1
         ]
        },
        "yaxis": {
         "anchor": "x",
         "domain": [
          0.575,
          1
         ],
         "title": {
          "text": "Penetration Rate (%)"
         }
        },
        "yaxis2": {
         "anchor": "x2",
         "domain": [
          0,
          0.425
         ],
         "title": {
          "text": "Penetration Rate (%)"
         }
        }
       }
      }
     },
     "metadata": {},
     "output_type": "display_data"
    }
   ],
   "source": [
    "# Create subplots for 2-wheeler and 4-wheeler penetration rates\n",
    "fig = make_subplots(\n",
    "    rows=2, cols=1,\n",
    "    subplot_titles=(\n",
    "        'Top 5 States - 2-Wheeler EV Penetration Rate (FY 2024)',\n",
    "        'Top 5 States - 4-Wheeler EV Penetration Rate (FY 2024)'\n",
    "    ),\n",
    "    vertical_spacing=0.15\n",
    ")\n",
    "\n",
    "# Add bar chart for 2-wheelers\n",
    "fig.add_trace(\n",
    "    go.Bar(\n",
    "        x=top_5_2w.index,\n",
    "        y=top_5_2w['penetration_rate'],\n",
    "        text=top_5_2w['penetration_rate'].round(2),\n",
    "        textposition='auto',\n",
    "        name='2-Wheelers',\n",
    "        marker_color='rgb(55, 83, 109)'\n",
    "    ),\n",
    "    row=1, col=1\n",
    ")\n",
    "\n",
    "# Add bar chart for 4-wheelers\n",
    "fig.add_trace(\n",
    "    go.Bar(\n",
    "        x=top_5_4w['state'],\n",
    "        y=top_5_4w['penetration_rate'],\n",
    "        text=top_5_4w['penetration_rate'].round(2),\n",
    "        textposition='auto',\n",
    "        name='4-Wheelers',\n",
    "        marker_color='rgb(26, 118, 255)'\n",
    "    ),\n",
    "    row=2, col=1\n",
    ")\n",
    "\n",
    "# Update layout\n",
    "fig.update_layout(\n",
    "    title_text='Top 5 States by EV Penetration Rate (FY 2024)',\n",
    "    showlegend=False,\n",
    "    template='plotly_white',\n",
    "    height=800  # Moved height parameter here\n",
    ")\n",
    "\n",
    "# Update y-axes labels\n",
    "fig.update_yaxes(title_text='Penetration Rate (%)', row=1, col=1)\n",
    "fig.update_yaxes(title_text='Penetration Rate (%)', row=2, col=1)\n",
    "\n",
    "fig.show()"
   ]
  },
  {
   "cell_type": "markdown",
   "id": "03a110f8",
   "metadata": {},
   "source": [
    "### 🗺️ EV Adoption Story: Top 5 States in FY 2024\n",
    "\n",
    "In **FY 2024**, several Indian states made notable progress in the adoption of electric vehicles (EVs), especially in the **2-wheeler and 4-wheeler segments**. Let’s break it down in a simple, story-like way.\n",
    "\n",
    "---\n",
    "\n",
    "### 🛵 **2-Wheelers: Goa Leads the Charge**\n",
    "\n",
    "When it comes to **electric 2-wheelers**, **Goa** is at the forefront of EV adoption. Here's the top 5 list:\n",
    "\n",
    "1. **Goa** – with a **penetration rate of nearly 18%**, almost 1 in every 5 two-wheelers sold was electric.\n",
    "2. **Kerala** – not far behind, at **13.5%**.\n",
    "3. **Karnataka** – known for its tech-savvy population, reached **11.6%**.\n",
    "4. **Maharashtra** – a big market, achieved **10.1%**.\n",
    "5. **Delhi** – the capital, stood at **9.4%**.\n",
    "\n",
    "🧠 **What it means:** Goa, despite being a smaller state, is setting the pace with quick EV adoption in 2-wheelers, likely due to its compact geography, tourism industry, and ease of charging.\n",
    "\n",
    "---\n",
    "\n",
    "### 🚗 **4-Wheelers: Kerala Stands Tall**\n",
    "\n",
    "For **electric 4-wheelers**, the competition is tighter but impressive:\n",
    "\n",
    "1. **Kerala** – leads again with **5.76%**, showing its consistency across segments.\n",
    "2. **Chandigarh** – at **4.5%**, the only union territory on the list.\n",
    "3. **Delhi** – at **4.29%**, continues its efforts toward green mobility.\n",
    "4. **Karnataka** – at **4.26%**, matches Delhi closely.\n",
    "5. **Goa** – once again in the top 5, with **4.25%**.\n",
    "\n",
    "🧠 **What it means:** While 4-wheeler EV adoption is slower (due to higher costs and longer replacement cycles), states like Kerala and Delhi are showing that sustained policy efforts and awareness campaigns are working.\n",
    "\n",
    "---\n",
    "\n",
    "### 🌱 Final Thought\n",
    "\n",
    "This data tells a powerful story: **smaller and progressive regions like Goa, Kerala, and Chandigarh are embracing electric mobility faster than larger states**. With clear government support, awareness, and infrastructure, the shift toward cleaner vehicles is not just a trend—it’s the beginning of a nationwide transformation."
   ]
  },
  {
   "cell_type": "code",
   "execution_count": 100,
   "id": "21bdfbc9",
   "metadata": {},
   "outputs": [
    {
     "data": {
      "text/html": [
       "<div>\n",
       "<style scoped>\n",
       "    .dataframe tbody tr th:only-of-type {\n",
       "        vertical-align: middle;\n",
       "    }\n",
       "\n",
       "    .dataframe tbody tr th {\n",
       "        vertical-align: top;\n",
       "    }\n",
       "\n",
       "    .dataframe thead th {\n",
       "        text-align: right;\n",
       "    }\n",
       "</style>\n",
       "<table border=\"1\" class=\"dataframe\">\n",
       "  <thead>\n",
       "    <tr style=\"text-align: right;\">\n",
       "      <th></th>\n",
       "      <th>electric_vehicles_sold</th>\n",
       "      <th>total_vehicles_sold</th>\n",
       "      <th>penetration_rate</th>\n",
       "    </tr>\n",
       "    <tr>\n",
       "      <th>state</th>\n",
       "      <th></th>\n",
       "      <th></th>\n",
       "      <th></th>\n",
       "    </tr>\n",
       "  </thead>\n",
       "  <tbody>\n",
       "    <tr>\n",
       "      <th>Goa</th>\n",
       "      <td>9768</td>\n",
       "      <td>54290</td>\n",
       "      <td>17.992264</td>\n",
       "    </tr>\n",
       "    <tr>\n",
       "      <th>Kerala</th>\n",
       "      <td>64769</td>\n",
       "      <td>478887</td>\n",
       "      <td>13.524903</td>\n",
       "    </tr>\n",
       "    <tr>\n",
       "      <th>Karnataka</th>\n",
       "      <td>148111</td>\n",
       "      <td>1279767</td>\n",
       "      <td>11.573279</td>\n",
       "    </tr>\n",
       "    <tr>\n",
       "      <th>Maharashtra</th>\n",
       "      <td>183052</td>\n",
       "      <td>1817343</td>\n",
       "      <td>10.072507</td>\n",
       "    </tr>\n",
       "    <tr>\n",
       "      <th>Delhi</th>\n",
       "      <td>38094</td>\n",
       "      <td>405218</td>\n",
       "      <td>9.400866</td>\n",
       "    </tr>\n",
       "  </tbody>\n",
       "</table>\n",
       "</div>"
      ],
      "text/plain": [
       "             electric_vehicles_sold  total_vehicles_sold  penetration_rate\n",
       "state                                                                     \n",
       "Goa                            9768                54290         17.992264\n",
       "Kerala                        64769               478887         13.524903\n",
       "Karnataka                    148111              1279767         11.573279\n",
       "Maharashtra                  183052              1817343         10.072507\n",
       "Delhi                         38094               405218          9.400866"
      ]
     },
     "execution_count": 100,
     "metadata": {},
     "output_type": "execute_result"
    }
   ],
   "source": [
    "top_5_2w.head()"
   ]
  },
  {
   "cell_type": "code",
   "execution_count": 101,
   "id": "7ef527db",
   "metadata": {},
   "outputs": [
    {
     "name": "stdout",
     "output_type": "stream",
     "text": [
      "Top 5 States - 2-Wheeler EV Penetration (FY 2024)\n",
      "------------------------------------------------------------\n"
     ]
    },
    {
     "data": {
      "text/html": [
       "<div>\n",
       "<style scoped>\n",
       "    .dataframe tbody tr th:only-of-type {\n",
       "        vertical-align: middle;\n",
       "    }\n",
       "\n",
       "    .dataframe tbody tr th {\n",
       "        vertical-align: top;\n",
       "    }\n",
       "\n",
       "    .dataframe thead th {\n",
       "        text-align: right;\n",
       "    }\n",
       "</style>\n",
       "<table border=\"1\" class=\"dataframe\">\n",
       "  <thead>\n",
       "    <tr style=\"text-align: right;\">\n",
       "      <th></th>\n",
       "      <th>state</th>\n",
       "      <th>electric_vehicles_sold</th>\n",
       "      <th>total_vehicles_sold</th>\n",
       "      <th>penetration_rate</th>\n",
       "    </tr>\n",
       "  </thead>\n",
       "  <tbody>\n",
       "    <tr>\n",
       "      <th>0</th>\n",
       "      <td>Goa</td>\n",
       "      <td>9768</td>\n",
       "      <td>54290</td>\n",
       "      <td>17.99</td>\n",
       "    </tr>\n",
       "    <tr>\n",
       "      <th>1</th>\n",
       "      <td>Kerala</td>\n",
       "      <td>64769</td>\n",
       "      <td>478887</td>\n",
       "      <td>13.52</td>\n",
       "    </tr>\n",
       "    <tr>\n",
       "      <th>2</th>\n",
       "      <td>Karnataka</td>\n",
       "      <td>148111</td>\n",
       "      <td>1279767</td>\n",
       "      <td>11.57</td>\n",
       "    </tr>\n",
       "    <tr>\n",
       "      <th>3</th>\n",
       "      <td>Maharashtra</td>\n",
       "      <td>183052</td>\n",
       "      <td>1817343</td>\n",
       "      <td>10.07</td>\n",
       "    </tr>\n",
       "    <tr>\n",
       "      <th>4</th>\n",
       "      <td>Delhi</td>\n",
       "      <td>38094</td>\n",
       "      <td>405218</td>\n",
       "      <td>9.40</td>\n",
       "    </tr>\n",
       "  </tbody>\n",
       "</table>\n",
       "</div>"
      ],
      "text/plain": [
       "         state  electric_vehicles_sold  total_vehicles_sold  penetration_rate\n",
       "0          Goa                    9768                54290             17.99\n",
       "1       Kerala                   64769               478887             13.52\n",
       "2    Karnataka                  148111              1279767             11.57\n",
       "3  Maharashtra                  183052              1817343             10.07\n",
       "4        Delhi                   38094               405218              9.40"
      ]
     },
     "metadata": {},
     "output_type": "display_data"
    },
    {
     "name": "stdout",
     "output_type": "stream",
     "text": [
      "\n",
      "\n",
      "Top 5 States - 4-Wheeler EV Penetration (FY 2024)\n",
      "------------------------------------------------------------\n"
     ]
    },
    {
     "data": {
      "text/html": [
       "<div>\n",
       "<style scoped>\n",
       "    .dataframe tbody tr th:only-of-type {\n",
       "        vertical-align: middle;\n",
       "    }\n",
       "\n",
       "    .dataframe tbody tr th {\n",
       "        vertical-align: top;\n",
       "    }\n",
       "\n",
       "    .dataframe thead th {\n",
       "        text-align: right;\n",
       "    }\n",
       "</style>\n",
       "<table border=\"1\" class=\"dataframe\">\n",
       "  <thead>\n",
       "    <tr style=\"text-align: right;\">\n",
       "      <th></th>\n",
       "      <th>state</th>\n",
       "      <th>electric_vehicles_sold</th>\n",
       "      <th>total_vehicles_sold</th>\n",
       "      <th>penetration_rate</th>\n",
       "    </tr>\n",
       "  </thead>\n",
       "  <tbody>\n",
       "    <tr>\n",
       "      <th>16</th>\n",
       "      <td>Kerala</td>\n",
       "      <td>9169</td>\n",
       "      <td>159227</td>\n",
       "      <td>5.76</td>\n",
       "    </tr>\n",
       "    <tr>\n",
       "      <th>5</th>\n",
       "      <td>Chandigarh</td>\n",
       "      <td>1020</td>\n",
       "      <td>22651</td>\n",
       "      <td>4.50</td>\n",
       "    </tr>\n",
       "    <tr>\n",
       "      <th>8</th>\n",
       "      <td>Delhi</td>\n",
       "      <td>8630</td>\n",
       "      <td>201130</td>\n",
       "      <td>4.29</td>\n",
       "    </tr>\n",
       "    <tr>\n",
       "      <th>15</th>\n",
       "      <td>Karnataka</td>\n",
       "      <td>12878</td>\n",
       "      <td>302221</td>\n",
       "      <td>4.26</td>\n",
       "    </tr>\n",
       "    <tr>\n",
       "      <th>9</th>\n",
       "      <td>Goa</td>\n",
       "      <td>1031</td>\n",
       "      <td>24234</td>\n",
       "      <td>4.25</td>\n",
       "    </tr>\n",
       "  </tbody>\n",
       "</table>\n",
       "</div>"
      ],
      "text/plain": [
       "         state  electric_vehicles_sold  total_vehicles_sold  penetration_rate\n",
       "16      Kerala                    9169               159227              5.76\n",
       "5   Chandigarh                    1020                22651              4.50\n",
       "8        Delhi                    8630               201130              4.29\n",
       "15   Karnataka                   12878               302221              4.26\n",
       "9          Goa                    1031                24234              4.25"
      ]
     },
     "metadata": {},
     "output_type": "display_data"
    }
   ],
   "source": [
    "# Create detailed statistics tables\n",
    "print(\"Top 5 States - 2-Wheeler EV Penetration (FY 2024)\")\n",
    "print(\"-\" * 60)\n",
    "top_5_2w.reset_index(inplace=True)\n",
    "display(\n",
    "    top_5_2w[\n",
    "        [\"state\", \"electric_vehicles_sold\", \"total_vehicles_sold\", \"penetration_rate\"]\n",
    "    ].round(2)\n",
    ")\n",
    "\n",
    "print(\"\\n\\nTop 5 States - 4-Wheeler EV Penetration (FY 2024)\")\n",
    "print(\"-\" * 60)\n",
    "display(\n",
    "    top_5_4w[\n",
    "        [\"state\", \"electric_vehicles_sold\", \"total_vehicles_sold\", \"penetration_rate\"]\n",
    "    ].round(2)\n",
    ")"
   ]
  },
  {
   "cell_type": "markdown",
   "id": "2921c845",
   "metadata": {},
   "source": [
    "# Key Insights\n",
    "\n",
    "1. **2-Wheeler EV Penetration**:\n",
    "   - The top 5 states show varying levels of 2-wheeler EV adoption\n",
    "   - We can see significant differences in total vehicle volumes across states\n",
    "   - Some states might have high penetration rates despite lower total volumes\n",
    "\n",
    "2. **4-Wheeler EV Penetration**:\n",
    "   - The penetration rates for 4-wheelers are generally lower than 2-wheelers\n",
    "   - Different states lead in 4-wheeler adoption compared to 2-wheelers\n",
    "   - This suggests different market dynamics for different vehicle segments\n",
    "\n",
    "3. **Comparative Analysis**:\n",
    "   - Some states perform well in both categories\n",
    "   - Others show strength in specific segments\n",
    "   - This could be due to various factors like:\n",
    "     - Local policies and incentives\n",
    "     - Urban vs rural population distribution\n",
    "     - Income levels and purchasing power\n",
    "     - Charging infrastructure availability"
   ]
  },
  {
   "cell_type": "markdown",
   "id": "bc0e6e31",
   "metadata": {},
   "source": [
    "dont use this one \"india_states = px.utils.get_geojson(url='https://gist.githubusercontent.com/jbrobst/56c13bbbf9d97d187fea01ca62ea5112/raw/e388c4cae20aa53cb5090210a42ebb9b765c0a36/india_states.geojson')\" use this one \"import geopandas as gpd\n",
    "import matplotlib.pyplot as plt\n",
    "\n",
    "india_states = gpd.read_file('../../data/external/gadm41_IND.gpkg', layer='ADM_ADM_1')\""
   ]
  },
  {
   "cell_type": "code",
   "execution_count": null,
   "id": "e30d3e72",
   "metadata": {},
   "outputs": [],
   "source": [
    "import geopandas as gpd\n",
    "import matplotlib.pyplot as plt\n",
    "import pandas as pd\n",
    "\n",
    "\n",
    "def plot_ev_penetration_map(\n",
    "    top_states_df: pd.DataFrame,\n",
    "    geo_file_path: str,\n",
    "    geo_layer: str,\n",
    "    geo_state_col: str = \"NAME_1\",\n",
    "    df_state_col: str = \"state\",\n",
    "    penetration_col: str = \"penetration_rate\",\n",
    "    replace_state_names: dict = None,\n",
    "    title: str = \"Top States by EV Penetration Rate\",\n",
    "    cmap: str = \"viridis\",\n",
    "    figsize=(15, 10),\n",
    "    annotate: bool = True,\n",
    "):\n",
    "    \"\"\"\n",
    "    Plots a choropleth map of top Indian states by EV penetration rate.\n",
    "\n",
    "    Parameters:\n",
    "        top_states_df (pd.DataFrame): DataFrame with 'state' and 'penetration_rate' columns.\n",
    "        geo_file_path (str): Path to the GeoPackage or GeoJSON file.\n",
    "        geo_layer (str): Layer name in GeoPackage.\n",
    "        geo_state_col (str): Column in GeoDataFrame that contains state names.\n",
    "        df_state_col (str): Column in top_states_df that contains state names.\n",
    "        penetration_col (str): Column with the penetration rate.\n",
    "        replace_state_names (dict): Optional mapping to align names between datasets.\n",
    "        title (str): Title of the map.\n",
    "        cmap (str): Colormap.\n",
    "        figsize (tuple): Figure size.\n",
    "        annotate (bool): Whether to annotate the states on the map.\n",
    "    \"\"\"\n",
    "\n",
    "    # Replace names if mapping provided\n",
    "    if replace_state_names:\n",
    "        top_states_df[df_state_col] = top_states_df[df_state_col].replace(replace_state_names)\n",
    "\n",
    "    # Create dictionary: {state: penetration_rate}\n",
    "    top_state_dict = dict(zip(top_states_df[df_state_col], top_states_df[penetration_col]))\n",
    "\n",
    "    # Load GeoData\n",
    "    india_states = gpd.read_file(geo_file_path, layer=geo_layer)\n",
    "\n",
    "    # Map the penetration rate to GeoDataFrame\n",
    "    india_states[\"penetration_rate\"] = india_states[geo_state_col].map(top_state_dict)\n",
    "\n",
    "    # Plot\n",
    "    fig, ax = plt.subplots(1, 1, figsize=figsize)\n",
    "\n",
    "    # Base map\n",
    "    india_states.plot(ax=ax, color=\"lightgray\", edgecolor=\"white\")\n",
    "\n",
    "    # Top states with data\n",
    "    top_states = india_states[india_states[\"penetration_rate\"].notna()]\n",
    "    top_states.plot(\n",
    "        column=\"penetration_rate\",\n",
    "        ax=ax,\n",
    "        cmap=cmap,\n",
    "        legend=True,\n",
    "        legend_kwds={\"label\": \"EV Penetration Rate (%)\"},\n",
    "    )\n",
    "\n",
    "    # Title and formatting\n",
    "    ax.set_title(title, pad=20)\n",
    "    ax.axis(\"off\")\n",
    "\n",
    "    # Annotate each top state\n",
    "    if annotate:\n",
    "        for _, row in top_states.iterrows():\n",
    "            centroid = row.geometry.centroid\n",
    "            ax.annotate(\n",
    "                f\"{row[geo_state_col]}\\n{row['penetration_rate']:.1f}%\",\n",
    "                xy=(centroid.x, centroid.y),\n",
    "                xytext=(3, 3),\n",
    "                textcoords=\"offset points\",\n",
    "                ha=\"center\",\n",
    "                va=\"center\",\n",
    "                bbox=dict(boxstyle=\"round,pad=0.4\", fc=\"white\", ec=\"gray\", alpha=0.7),\n",
    "                fontsize=8,\n",
    "            )\n",
    "\n",
    "    plt.tight_layout()\n",
    "    plt.show()"
   ]
  },
  {
   "cell_type": "code",
   "execution_count": 120,
   "id": "7073ab7c",
   "metadata": {},
   "outputs": [
    {
     "data": {
      "image/png": "[encoded data removed]",
      "text/plain": [
       "<Figure size 1500x1000 with 2 Axes>"
      ]
     },
     "metadata": {},
     "output_type": "display_data"
    }
   ],
   "source": [
    "# 1. Create the mapping dictionary from top_5_4w DataFrame\n",
    "top_5_data = dict(\n",
    "    zip(\n",
    "        top_5_2w[\"state\"].replace(\n",
    "            {\"Delhi\": \"NCT of Delhi\"}\n",
    "        ),  # Ensure names match the GeoData\n",
    "        top_5_2w[\"penetration_rate\"],\n",
    "    )\n",
    ")\n",
    "\n",
    "# 2. Convert the dictionary back into a DataFrame for the function\n",
    "import pandas as pd\n",
    "\n",
    "top_5_df_for_plot = pd.DataFrame(\n",
    "    list(top_5_data.items()), columns=[\"state\", \"penetration_rate\"]\n",
    ")\n",
    "\n",
    "# 3. Use the function\n",
    "plot_ev_penetration_map(\n",
    "    top_states_df=top_5_df_for_plot,\n",
    "    geo_file_path=\"../../data/external/gadm41_IND.gpkg\",\n",
    "    geo_layer=\"ADM_ADM_1\",  # Change to your actual layer name if different\n",
    "    geo_state_col=\"NAME_1\",\n",
    "    df_state_col=\"state\",\n",
    "    penetration_col=\"penetration_rate\",\n",
    "    title=\"Top 5 States by 4-Wheeler EV Penetration Rate (FY 2024)\",\n",
    "    cmap=\"viridis\",\n",
    ")"
   ]
  },
  {
   "cell_type": "code",
   "execution_count": null,
   "id": "52e7f3f5",
   "metadata": {},
   "outputs": [
    {
     "data": {
      "image/png": "[encoded data removed]",
      "text/plain": [
       "<Figure size 1500x1000 with 2 Axes>"
      ]
     },
     "metadata": {},
     "output_type": "display_data"
    }
   ],
   "source": [
    "# 1. Create the mapping dictionary from top_5_4w DataFrame\n",
    "top_5_data = dict(\n",
    "    zip(\n",
    "        top_5_4w[\"state\"].replace(\n",
    "            {\"Delhi\": \"NCT of Delhi\"}\n",
    "        ),  # Ensure names match the GeoData\n",
    "        top_5_4w[\"penetration_rate\"],\n",
    "    )\n",
    ")\n",
    "\n",
    "# 2. Convert the dictionary back into a DataFrame for the function\n",
    "import pandas as pd\n",
    "\n",
    "top_5_df_for_plot = pd.DataFrame(\n",
    "    list(top_5_data.items()), columns=[\"state\", \"penetration_rate\"]\n",
    ")\n",
    "\n",
    "# 3. Use the function\n",
    "plot_ev_penetration_map(\n",
    "    top_states_df=top_5_df_for_plot,\n",
    "    geo_file_path=\"../../data/external/gadm41_IND.gpkg\",\n",
    "    geo_layer=\"ADM_ADM_1\",  # Change to your actual layer name if different\n",
    "    geo_state_col=\"NAME_1\",\n",
    "    df_state_col=\"state\",\n",
    "    penetration_col=\"penetration_rate\",\n",
    "    title=\"Top 5 States by 4-Wheeler EV Penetration Rate (FY 2024)\",\n",
    "    cmap=\"viridis\",\n",
    ")"
   ]
  },
  {
   "cell_type": "code",
   "execution_count": null,
   "id": "070f8967",
   "metadata": {},
   "outputs": [],
   "source": []
  }
 ],
 "metadata": {
  "kernelspec": {
   "display_name": "base",
   "language": "python",
   "name": "python3"
  },
  "language_info": {
   "codemirror_mode": {
    "name": "ipython",
    "version": 3
   },
   "file_extension": ".py",
   "mimetype": "text/x-python",
   "name": "python",
   "nbconvert_exporter": "python",
   "pygments_lexer": "ipython3",
   "version": "3.11.5"
  }
 },
 "nbformat": 4,
 "nbformat_minor": 5
}
