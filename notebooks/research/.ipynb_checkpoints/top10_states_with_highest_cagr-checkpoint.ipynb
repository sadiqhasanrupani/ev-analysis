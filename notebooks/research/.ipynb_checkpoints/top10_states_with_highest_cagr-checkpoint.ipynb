{
 "cells": [
  {
   "cell_type": "markdown",
   "id": "9a6ccd26",
   "metadata": {},
   "source": [
    "### Question\n",
    "#### *List down the top 10 states that had the highest compounded annual growth rate (CAGR) from 2022 to 2024 in total vehicles sold.*\n",
    "\n",
    "---\n",
    "\n",
    "## Solution for this problem\n",
    "\n",
    "### **Steps to Calculate Top 10 States by CAGR (2022–2024)**\n",
    "\n",
    "1. **Filter the Data for Relevant Years**\n",
    "\n",
    "   * Keep only rows where `year` is 2022 or 2024.\n",
    "   * Make sure the sales column contains total vehicles sold (not EV-only, unless the question specifies EVs).\n",
    "\n",
    "2. **Aggregate Sales by State and Year**\n",
    "\n",
    "   * Group by `state` and `year`.\n",
    "   * Sum the `total_vehicles_sold` for each combination.\n",
    "\n",
    "3. **Pivot or Reshape the Data**\n",
    "\n",
    "   * Make a table where each row is a state and columns are `2022_sales` and `2024_sales`.\n",
    "\n",
    "4. **Apply the CAGR Formula**\n",
    "   For each state:\n",
    "\n",
    "   $$\n",
    "   \\text{CAGR} = \\left( \\frac{\\text{Sales in 2024}}{\\text{Sales in 2022}} \\right)^{\\frac{1}{n}} - 1\n",
    "   $$\n",
    "\n",
    "   Here, $n = 2$ years (from 2022 to 2024).\n",
    "\n",
    "5. **Handle Missing or Zero Values**\n",
    "\n",
    "   * If a state has `2022_sales = 0`, you can either:\n",
    "\n",
    "     * Skip it (CAGR undefined), or\n",
    "     * Use a special note (infinite growth) if your context allows.\n",
    "\n",
    "6. **Sort the Results**\n",
    "\n",
    "   * Sort by `CAGR` in descending order.\n",
    "\n",
    "7. **Select Top 10 States**\n",
    "\n",
    "   * Pick the first 10 states after sorting.\n",
    "\n",
    "8. **Format the Output**\n",
    "\n",
    "   * Show a table with `state`, `2022_sales`, `2024_sales`, and `CAGR (%)`."
   ]
  },
  {
   "cell_type": "code",
   "execution_count": 1,
   "id": "9b8aad6e",
   "metadata": {},
   "outputs": [],
   "source": [
    "# Importing necessary libraries for data manupulation and data visualizaion\n",
    "\n",
    "import pandas as pd\n",
    "import numpy as np\n",
    "import matplotlib.pyplot as plt\n",
    "import seaborn as sns\n",
    "import plotly as pt\n",
    "from IPython.display import display"
   ]
  },
  {
   "cell_type": "code",
   "execution_count": 2,
   "id": "96ae53f6",
   "metadata": {},
   "outputs": [
    {
     "data": {
      "text/html": [
       "<div>\n",
       "<style scoped>\n",
       "    .dataframe tbody tr th:only-of-type {\n",
       "        vertical-align: middle;\n",
       "    }\n",
       "\n",
       "    .dataframe tbody tr th {\n",
       "        vertical-align: top;\n",
       "    }\n",
       "\n",
       "    .dataframe thead th {\n",
       "        text-align: right;\n",
       "    }\n",
       "</style>\n",
       "<table border=\"1\" class=\"dataframe\">\n",
       "  <thead>\n",
       "    <tr style=\"text-align: right;\">\n",
       "      <th></th>\n",
       "      <th>date</th>\n",
       "      <th>year</th>\n",
       "      <th>month</th>\n",
       "      <th>quarter</th>\n",
       "      <th>months_from_start</th>\n",
       "      <th>rolling_mean_ev</th>\n",
       "      <th>ev_growth_rate</th>\n",
       "      <th>ev_penetration</th>\n",
       "      <th>ev_penetration_log</th>\n",
       "      <th>national_market_share</th>\n",
       "      <th>...</th>\n",
       "      <th>is_missing_ev_growth_rate</th>\n",
       "      <th>is_missing_segment_preference_ratio</th>\n",
       "      <th>is_missing_segment_growth_diff</th>\n",
       "      <th>is_missing_regional_avg_penetration</th>\n",
       "      <th>is_missing_adoption_velocity</th>\n",
       "      <th>state</th>\n",
       "      <th>vehicle_category</th>\n",
       "      <th>electric_vehicles_sold</th>\n",
       "      <th>total_vehicles_sold</th>\n",
       "      <th>ev_penetration_rate</th>\n",
       "    </tr>\n",
       "  </thead>\n",
       "  <tbody>\n",
       "    <tr>\n",
       "      <th>0</th>\n",
       "      <td>2021-04-01</td>\n",
       "      <td>2021</td>\n",
       "      <td>4</td>\n",
       "      <td>2</td>\n",
       "      <td>3</td>\n",
       "      <td>0.0</td>\n",
       "      <td>0.0</td>\n",
       "      <td>0.00</td>\n",
       "      <td>0.000000</td>\n",
       "      <td>0.00</td>\n",
       "      <td>...</td>\n",
       "      <td>0</td>\n",
       "      <td>0</td>\n",
       "      <td>0</td>\n",
       "      <td>0</td>\n",
       "      <td>0</td>\n",
       "      <td>Andaman and Nicobar Islands</td>\n",
       "      <td>2-Wheelers</td>\n",
       "      <td>0</td>\n",
       "      <td>515</td>\n",
       "      <td>0.000000</td>\n",
       "    </tr>\n",
       "    <tr>\n",
       "      <th>1</th>\n",
       "      <td>2021-04-01</td>\n",
       "      <td>2021</td>\n",
       "      <td>4</td>\n",
       "      <td>2</td>\n",
       "      <td>3</td>\n",
       "      <td>9.0</td>\n",
       "      <td>0.0</td>\n",
       "      <td>5.36</td>\n",
       "      <td>1.850028</td>\n",
       "      <td>0.14</td>\n",
       "      <td>...</td>\n",
       "      <td>0</td>\n",
       "      <td>0</td>\n",
       "      <td>0</td>\n",
       "      <td>0</td>\n",
       "      <td>0</td>\n",
       "      <td>Andaman and Nicobar Islands</td>\n",
       "      <td>4-Wheelers</td>\n",
       "      <td>9</td>\n",
       "      <td>168</td>\n",
       "      <td>0.053571</td>\n",
       "    </tr>\n",
       "    <tr>\n",
       "      <th>2</th>\n",
       "      <td>2021-04-01</td>\n",
       "      <td>2021</td>\n",
       "      <td>4</td>\n",
       "      <td>2</td>\n",
       "      <td>3</td>\n",
       "      <td>436.0</td>\n",
       "      <td>0.0</td>\n",
       "      <td>0.69</td>\n",
       "      <td>0.524729</td>\n",
       "      <td>6.90</td>\n",
       "      <td>...</td>\n",
       "      <td>0</td>\n",
       "      <td>0</td>\n",
       "      <td>0</td>\n",
       "      <td>0</td>\n",
       "      <td>0</td>\n",
       "      <td>Andhra Pradesh</td>\n",
       "      <td>2-Wheelers</td>\n",
       "      <td>436</td>\n",
       "      <td>63444</td>\n",
       "      <td>0.006872</td>\n",
       "    </tr>\n",
       "    <tr>\n",
       "      <th>3</th>\n",
       "      <td>2021-04-01</td>\n",
       "      <td>2021</td>\n",
       "      <td>4</td>\n",
       "      <td>2</td>\n",
       "      <td>3</td>\n",
       "      <td>26.0</td>\n",
       "      <td>0.0</td>\n",
       "      <td>0.33</td>\n",
       "      <td>0.285179</td>\n",
       "      <td>0.41</td>\n",
       "      <td>...</td>\n",
       "      <td>0</td>\n",
       "      <td>0</td>\n",
       "      <td>0</td>\n",
       "      <td>0</td>\n",
       "      <td>0</td>\n",
       "      <td>Andhra Pradesh</td>\n",
       "      <td>4-Wheelers</td>\n",
       "      <td>26</td>\n",
       "      <td>7837</td>\n",
       "      <td>0.003318</td>\n",
       "    </tr>\n",
       "    <tr>\n",
       "      <th>4</th>\n",
       "      <td>2021-04-01</td>\n",
       "      <td>2021</td>\n",
       "      <td>4</td>\n",
       "      <td>2</td>\n",
       "      <td>3</td>\n",
       "      <td>0.0</td>\n",
       "      <td>0.0</td>\n",
       "      <td>0.00</td>\n",
       "      <td>0.000000</td>\n",
       "      <td>0.00</td>\n",
       "      <td>...</td>\n",
       "      <td>0</td>\n",
       "      <td>0</td>\n",
       "      <td>0</td>\n",
       "      <td>0</td>\n",
       "      <td>0</td>\n",
       "      <td>Arunachal Pradesh</td>\n",
       "      <td>2-Wheelers</td>\n",
       "      <td>0</td>\n",
       "      <td>1256</td>\n",
       "      <td>0.000000</td>\n",
       "    </tr>\n",
       "  </tbody>\n",
       "</table>\n",
       "<p>5 rows × 42 columns</p>\n",
       "</div>"
      ],
      "text/plain": [
       "         date  year  month  quarter  months_from_start  rolling_mean_ev  \\\n",
       "0  2021-04-01  2021      4        2                  3              0.0   \n",
       "1  2021-04-01  2021      4        2                  3              9.0   \n",
       "2  2021-04-01  2021      4        2                  3            436.0   \n",
       "3  2021-04-01  2021      4        2                  3             26.0   \n",
       "4  2021-04-01  2021      4        2                  3              0.0   \n",
       "\n",
       "   ev_growth_rate  ev_penetration  ev_penetration_log  national_market_share  \\\n",
       "0             0.0            0.00            0.000000                   0.00   \n",
       "1             0.0            5.36            1.850028                   0.14   \n",
       "2             0.0            0.69            0.524729                   6.90   \n",
       "3             0.0            0.33            0.285179                   0.41   \n",
       "4             0.0            0.00            0.000000                   0.00   \n",
       "\n",
       "   ...  is_missing_ev_growth_rate is_missing_segment_preference_ratio  \\\n",
       "0  ...                          0                                   0   \n",
       "1  ...                          0                                   0   \n",
       "2  ...                          0                                   0   \n",
       "3  ...                          0                                   0   \n",
       "4  ...                          0                                   0   \n",
       "\n",
       "   is_missing_segment_growth_diff is_missing_regional_avg_penetration  \\\n",
       "0                               0                                   0   \n",
       "1                               0                                   0   \n",
       "2                               0                                   0   \n",
       "3                               0                                   0   \n",
       "4                               0                                   0   \n",
       "\n",
       "   is_missing_adoption_velocity                        state  \\\n",
       "0                             0  Andaman and Nicobar Islands   \n",
       "1                             0  Andaman and Nicobar Islands   \n",
       "2                             0               Andhra Pradesh   \n",
       "3                             0               Andhra Pradesh   \n",
       "4                             0            Arunachal Pradesh   \n",
       "\n",
       "   vehicle_category  electric_vehicles_sold  total_vehicles_sold  \\\n",
       "0        2-Wheelers                       0                  515   \n",
       "1        4-Wheelers                       9                  168   \n",
       "2        2-Wheelers                     436                63444   \n",
       "3        4-Wheelers                      26                 7837   \n",
       "4        2-Wheelers                       0                 1256   \n",
       "\n",
       "   ev_penetration_rate  \n",
       "0             0.000000  \n",
       "1             0.053571  \n",
       "2             0.006872  \n",
       "3             0.003318  \n",
       "4             0.000000  \n",
       "\n",
       "[5 rows x 42 columns]"
      ]
     },
     "metadata": {},
     "output_type": "display_data"
    }
   ],
   "source": [
    "# Load a state based ev sales dataframe\n",
    "state_sales = pd.read_csv(\"../../data/processed/ev_sales_by_state_enhanced_20250806.csv\")\n",
    "\n",
    "# display the first 5 dataset from state_sales\n",
    "display(state_sales.head())"
   ]
  },
  {
   "cell_type": "code",
   "execution_count": 3,
   "id": "c5193f60",
   "metadata": {},
   "outputs": [
    {
     "data": {
      "text/html": [
       "<div>\n",
       "<style scoped>\n",
       "    .dataframe tbody tr th:only-of-type {\n",
       "        vertical-align: middle;\n",
       "    }\n",
       "\n",
       "    .dataframe tbody tr th {\n",
       "        vertical-align: top;\n",
       "    }\n",
       "\n",
       "    .dataframe thead th {\n",
       "        text-align: right;\n",
       "    }\n",
       "</style>\n",
       "<table border=\"1\" class=\"dataframe\">\n",
       "  <thead>\n",
       "    <tr style=\"text-align: right;\">\n",
       "      <th></th>\n",
       "      <th>date</th>\n",
       "      <th>year</th>\n",
       "      <th>month</th>\n",
       "      <th>quarter</th>\n",
       "      <th>months_from_start</th>\n",
       "      <th>rolling_mean_ev</th>\n",
       "      <th>ev_growth_rate</th>\n",
       "      <th>ev_penetration</th>\n",
       "      <th>ev_penetration_log</th>\n",
       "      <th>national_market_share</th>\n",
       "      <th>...</th>\n",
       "      <th>is_missing_ev_growth_rate</th>\n",
       "      <th>is_missing_segment_preference_ratio</th>\n",
       "      <th>is_missing_segment_growth_diff</th>\n",
       "      <th>is_missing_regional_avg_penetration</th>\n",
       "      <th>is_missing_adoption_velocity</th>\n",
       "      <th>state</th>\n",
       "      <th>vehicle_category</th>\n",
       "      <th>electric_vehicles_sold</th>\n",
       "      <th>total_vehicles_sold</th>\n",
       "      <th>ev_penetration_rate</th>\n",
       "    </tr>\n",
       "  </thead>\n",
       "  <tbody>\n",
       "    <tr>\n",
       "      <th>611</th>\n",
       "      <td>2022-01-01</td>\n",
       "      <td>2022</td>\n",
       "      <td>1</td>\n",
       "      <td>1</td>\n",
       "      <td>12</td>\n",
       "      <td>0.000000</td>\n",
       "      <td>0.00</td>\n",
       "      <td>0.00</td>\n",
       "      <td>0.000000</td>\n",
       "      <td>0.00</td>\n",
       "      <td>...</td>\n",
       "      <td>0</td>\n",
       "      <td>0</td>\n",
       "      <td>0</td>\n",
       "      <td>0</td>\n",
       "      <td>0</td>\n",
       "      <td>Andaman and Nicobar Islands</td>\n",
       "      <td>2-Wheelers</td>\n",
       "      <td>0</td>\n",
       "      <td>336</td>\n",
       "      <td>0.000000</td>\n",
       "    </tr>\n",
       "    <tr>\n",
       "      <th>612</th>\n",
       "      <td>2022-01-01</td>\n",
       "      <td>2022</td>\n",
       "      <td>1</td>\n",
       "      <td>1</td>\n",
       "      <td>12</td>\n",
       "      <td>0.333333</td>\n",
       "      <td>-1.00</td>\n",
       "      <td>0.00</td>\n",
       "      <td>0.000000</td>\n",
       "      <td>0.00</td>\n",
       "      <td>...</td>\n",
       "      <td>0</td>\n",
       "      <td>0</td>\n",
       "      <td>0</td>\n",
       "      <td>0</td>\n",
       "      <td>0</td>\n",
       "      <td>Andaman and Nicobar Islands</td>\n",
       "      <td>4-Wheelers</td>\n",
       "      <td>0</td>\n",
       "      <td>90</td>\n",
       "      <td>0.000000</td>\n",
       "    </tr>\n",
       "    <tr>\n",
       "      <th>613</th>\n",
       "      <td>2022-01-01</td>\n",
       "      <td>2022</td>\n",
       "      <td>1</td>\n",
       "      <td>1</td>\n",
       "      <td>12</td>\n",
       "      <td>1256.666667</td>\n",
       "      <td>0.70</td>\n",
       "      <td>2.80</td>\n",
       "      <td>1.335001</td>\n",
       "      <td>5.28</td>\n",
       "      <td>...</td>\n",
       "      <td>0</td>\n",
       "      <td>0</td>\n",
       "      <td>0</td>\n",
       "      <td>0</td>\n",
       "      <td>0</td>\n",
       "      <td>Andhra Pradesh</td>\n",
       "      <td>2-Wheelers</td>\n",
       "      <td>1671</td>\n",
       "      <td>59712</td>\n",
       "      <td>0.027984</td>\n",
       "    </tr>\n",
       "    <tr>\n",
       "      <th>614</th>\n",
       "      <td>2022-01-01</td>\n",
       "      <td>2022</td>\n",
       "      <td>1</td>\n",
       "      <td>1</td>\n",
       "      <td>12</td>\n",
       "      <td>31.333333</td>\n",
       "      <td>-0.06</td>\n",
       "      <td>0.34</td>\n",
       "      <td>0.292670</td>\n",
       "      <td>0.09</td>\n",
       "      <td>...</td>\n",
       "      <td>0</td>\n",
       "      <td>0</td>\n",
       "      <td>0</td>\n",
       "      <td>0</td>\n",
       "      <td>0</td>\n",
       "      <td>Andhra Pradesh</td>\n",
       "      <td>4-Wheelers</td>\n",
       "      <td>29</td>\n",
       "      <td>8418</td>\n",
       "      <td>0.003445</td>\n",
       "    </tr>\n",
       "    <tr>\n",
       "      <th>615</th>\n",
       "      <td>2022-01-01</td>\n",
       "      <td>2022</td>\n",
       "      <td>1</td>\n",
       "      <td>1</td>\n",
       "      <td>12</td>\n",
       "      <td>0.000000</td>\n",
       "      <td>0.00</td>\n",
       "      <td>0.00</td>\n",
       "      <td>0.000000</td>\n",
       "      <td>0.00</td>\n",
       "      <td>...</td>\n",
       "      <td>0</td>\n",
       "      <td>0</td>\n",
       "      <td>0</td>\n",
       "      <td>0</td>\n",
       "      <td>0</td>\n",
       "      <td>Arunachal Pradesh</td>\n",
       "      <td>2-Wheelers</td>\n",
       "      <td>0</td>\n",
       "      <td>950</td>\n",
       "      <td>0.000000</td>\n",
       "    </tr>\n",
       "    <tr>\n",
       "      <th>...</th>\n",
       "      <td>...</td>\n",
       "      <td>...</td>\n",
       "      <td>...</td>\n",
       "      <td>...</td>\n",
       "      <td>...</td>\n",
       "      <td>...</td>\n",
       "      <td>...</td>\n",
       "      <td>...</td>\n",
       "      <td>...</td>\n",
       "      <td>...</td>\n",
       "      <td>...</td>\n",
       "      <td>...</td>\n",
       "      <td>...</td>\n",
       "      <td>...</td>\n",
       "      <td>...</td>\n",
       "      <td>...</td>\n",
       "      <td>...</td>\n",
       "      <td>...</td>\n",
       "      <td>...</td>\n",
       "      <td>...</td>\n",
       "      <td>...</td>\n",
       "    </tr>\n",
       "    <tr>\n",
       "      <th>2440</th>\n",
       "      <td>2024-03-01</td>\n",
       "      <td>2024</td>\n",
       "      <td>3</td>\n",
       "      <td>1</td>\n",
       "      <td>38</td>\n",
       "      <td>394.000000</td>\n",
       "      <td>-0.01</td>\n",
       "      <td>1.13</td>\n",
       "      <td>0.756122</td>\n",
       "      <td>0.28</td>\n",
       "      <td>...</td>\n",
       "      <td>0</td>\n",
       "      <td>0</td>\n",
       "      <td>0</td>\n",
       "      <td>0</td>\n",
       "      <td>0</td>\n",
       "      <td>Uttar Pradesh</td>\n",
       "      <td>4-Wheelers</td>\n",
       "      <td>389</td>\n",
       "      <td>34425</td>\n",
       "      <td>0.011300</td>\n",
       "    </tr>\n",
       "    <tr>\n",
       "      <th>2441</th>\n",
       "      <td>2024-03-01</td>\n",
       "      <td>2024</td>\n",
       "      <td>3</td>\n",
       "      <td>1</td>\n",
       "      <td>38</td>\n",
       "      <td>515.666667</td>\n",
       "      <td>-0.01</td>\n",
       "      <td>4.63</td>\n",
       "      <td>1.728109</td>\n",
       "      <td>0.42</td>\n",
       "      <td>...</td>\n",
       "      <td>0</td>\n",
       "      <td>0</td>\n",
       "      <td>0</td>\n",
       "      <td>0</td>\n",
       "      <td>0</td>\n",
       "      <td>Uttarakhand</td>\n",
       "      <td>2-Wheelers</td>\n",
       "      <td>579</td>\n",
       "      <td>12506</td>\n",
       "      <td>0.046298</td>\n",
       "    </tr>\n",
       "    <tr>\n",
       "      <th>2442</th>\n",
       "      <td>2024-03-01</td>\n",
       "      <td>2024</td>\n",
       "      <td>3</td>\n",
       "      <td>1</td>\n",
       "      <td>38</td>\n",
       "      <td>53.333333</td>\n",
       "      <td>-0.15</td>\n",
       "      <td>1.06</td>\n",
       "      <td>0.722706</td>\n",
       "      <td>0.04</td>\n",
       "      <td>...</td>\n",
       "      <td>0</td>\n",
       "      <td>0</td>\n",
       "      <td>0</td>\n",
       "      <td>0</td>\n",
       "      <td>0</td>\n",
       "      <td>Uttarakhand</td>\n",
       "      <td>4-Wheelers</td>\n",
       "      <td>51</td>\n",
       "      <td>4812</td>\n",
       "      <td>0.010599</td>\n",
       "    </tr>\n",
       "    <tr>\n",
       "      <th>2443</th>\n",
       "      <td>2024-03-01</td>\n",
       "      <td>2024</td>\n",
       "      <td>3</td>\n",
       "      <td>1</td>\n",
       "      <td>38</td>\n",
       "      <td>1712.000000</td>\n",
       "      <td>0.61</td>\n",
       "      <td>3.09</td>\n",
       "      <td>1.408545</td>\n",
       "      <td>1.56</td>\n",
       "      <td>...</td>\n",
       "      <td>0</td>\n",
       "      <td>0</td>\n",
       "      <td>0</td>\n",
       "      <td>0</td>\n",
       "      <td>0</td>\n",
       "      <td>West Bengal</td>\n",
       "      <td>2-Wheelers</td>\n",
       "      <td>2159</td>\n",
       "      <td>69871</td>\n",
       "      <td>0.030900</td>\n",
       "    </tr>\n",
       "    <tr>\n",
       "      <th>2444</th>\n",
       "      <td>2024-03-01</td>\n",
       "      <td>2024</td>\n",
       "      <td>3</td>\n",
       "      <td>1</td>\n",
       "      <td>38</td>\n",
       "      <td>288.000000</td>\n",
       "      <td>1.68</td>\n",
       "      <td>6.12</td>\n",
       "      <td>1.962908</td>\n",
       "      <td>0.36</td>\n",
       "      <td>...</td>\n",
       "      <td>0</td>\n",
       "      <td>0</td>\n",
       "      <td>0</td>\n",
       "      <td>0</td>\n",
       "      <td>0</td>\n",
       "      <td>West Bengal</td>\n",
       "      <td>4-Wheelers</td>\n",
       "      <td>495</td>\n",
       "      <td>8089</td>\n",
       "      <td>0.061194</td>\n",
       "    </tr>\n",
       "  </tbody>\n",
       "</table>\n",
       "<p>1018 rows × 42 columns</p>\n",
       "</div>"
      ],
      "text/plain": [
       "            date  year  month  quarter  months_from_start  rolling_mean_ev  \\\n",
       "611   2022-01-01  2022      1        1                 12         0.000000   \n",
       "612   2022-01-01  2022      1        1                 12         0.333333   \n",
       "613   2022-01-01  2022      1        1                 12      1256.666667   \n",
       "614   2022-01-01  2022      1        1                 12        31.333333   \n",
       "615   2022-01-01  2022      1        1                 12         0.000000   \n",
       "...          ...   ...    ...      ...                ...              ...   \n",
       "2440  2024-03-01  2024      3        1                 38       394.000000   \n",
       "2441  2024-03-01  2024      3        1                 38       515.666667   \n",
       "2442  2024-03-01  2024      3        1                 38        53.333333   \n",
       "2443  2024-03-01  2024      3        1                 38      1712.000000   \n",
       "2444  2024-03-01  2024      3        1                 38       288.000000   \n",
       "\n",
       "      ev_growth_rate  ev_penetration  ev_penetration_log  \\\n",
       "611             0.00            0.00            0.000000   \n",
       "612            -1.00            0.00            0.000000   \n",
       "613             0.70            2.80            1.335001   \n",
       "614            -0.06            0.34            0.292670   \n",
       "615             0.00            0.00            0.000000   \n",
       "...              ...             ...                 ...   \n",
       "2440           -0.01            1.13            0.756122   \n",
       "2441           -0.01            4.63            1.728109   \n",
       "2442           -0.15            1.06            0.722706   \n",
       "2443            0.61            3.09            1.408545   \n",
       "2444            1.68            6.12            1.962908   \n",
       "\n",
       "      national_market_share  ...  is_missing_ev_growth_rate  \\\n",
       "611                    0.00  ...                          0   \n",
       "612                    0.00  ...                          0   \n",
       "613                    5.28  ...                          0   \n",
       "614                    0.09  ...                          0   \n",
       "615                    0.00  ...                          0   \n",
       "...                     ...  ...                        ...   \n",
       "2440                   0.28  ...                          0   \n",
       "2441                   0.42  ...                          0   \n",
       "2442                   0.04  ...                          0   \n",
       "2443                   1.56  ...                          0   \n",
       "2444                   0.36  ...                          0   \n",
       "\n",
       "     is_missing_segment_preference_ratio  is_missing_segment_growth_diff  \\\n",
       "611                                    0                               0   \n",
       "612                                    0                               0   \n",
       "613                                    0                               0   \n",
       "614                                    0                               0   \n",
       "615                                    0                               0   \n",
       "...                                  ...                             ...   \n",
       "2440                                   0                               0   \n",
       "2441                                   0                               0   \n",
       "2442                                   0                               0   \n",
       "2443                                   0                               0   \n",
       "2444                                   0                               0   \n",
       "\n",
       "     is_missing_regional_avg_penetration  is_missing_adoption_velocity  \\\n",
       "611                                    0                             0   \n",
       "612                                    0                             0   \n",
       "613                                    0                             0   \n",
       "614                                    0                             0   \n",
       "615                                    0                             0   \n",
       "...                                  ...                           ...   \n",
       "2440                                   0                             0   \n",
       "2441                                   0                             0   \n",
       "2442                                   0                             0   \n",
       "2443                                   0                             0   \n",
       "2444                                   0                             0   \n",
       "\n",
       "                            state  vehicle_category  electric_vehicles_sold  \\\n",
       "611   Andaman and Nicobar Islands        2-Wheelers                       0   \n",
       "612   Andaman and Nicobar Islands        4-Wheelers                       0   \n",
       "613                Andhra Pradesh        2-Wheelers                    1671   \n",
       "614                Andhra Pradesh        4-Wheelers                      29   \n",
       "615             Arunachal Pradesh        2-Wheelers                       0   \n",
       "...                           ...               ...                     ...   \n",
       "2440                Uttar Pradesh        4-Wheelers                     389   \n",
       "2441                  Uttarakhand        2-Wheelers                     579   \n",
       "2442                  Uttarakhand        4-Wheelers                      51   \n",
       "2443                  West Bengal        2-Wheelers                    2159   \n",
       "2444                  West Bengal        4-Wheelers                     495   \n",
       "\n",
       "      total_vehicles_sold  ev_penetration_rate  \n",
       "611                   336             0.000000  \n",
       "612                    90             0.000000  \n",
       "613                 59712             0.027984  \n",
       "614                  8418             0.003445  \n",
       "615                   950             0.000000  \n",
       "...                   ...                  ...  \n",
       "2440                34425             0.011300  \n",
       "2441                12506             0.046298  \n",
       "2442                 4812             0.010599  \n",
       "2443                69871             0.030900  \n",
       "2444                 8089             0.061194  \n",
       "\n",
       "[1018 rows x 42 columns]"
      ]
     },
     "metadata": {},
     "output_type": "display_data"
    }
   ],
   "source": [
    "# Filtering out the dataset\n",
    "state_sales_filtered = state_sales.loc[state_sales['year'].isin([2022, 2024])]\n",
    "\n",
    "display(state_sales_filtered)"
   ]
  },
  {
   "cell_type": "code",
   "execution_count": 4,
   "id": "bd1fa0e2",
   "metadata": {},
   "outputs": [
    {
     "data": {
      "text/html": [
       "<div>\n",
       "<style scoped>\n",
       "    .dataframe tbody tr th:only-of-type {\n",
       "        vertical-align: middle;\n",
       "    }\n",
       "\n",
       "    .dataframe tbody tr th {\n",
       "        vertical-align: top;\n",
       "    }\n",
       "\n",
       "    .dataframe thead th {\n",
       "        text-align: right;\n",
       "    }\n",
       "</style>\n",
       "<table border=\"1\" class=\"dataframe\">\n",
       "  <thead>\n",
       "    <tr style=\"text-align: right;\">\n",
       "      <th></th>\n",
       "      <th>state</th>\n",
       "      <th>year</th>\n",
       "      <th>total_vehicles_sold</th>\n",
       "    </tr>\n",
       "  </thead>\n",
       "  <tbody>\n",
       "    <tr>\n",
       "      <th>0</th>\n",
       "      <td>Andaman and Nicobar Islands</td>\n",
       "      <td>2022</td>\n",
       "      <td>6396</td>\n",
       "    </tr>\n",
       "    <tr>\n",
       "      <th>1</th>\n",
       "      <td>Andaman and Nicobar Islands</td>\n",
       "      <td>2024</td>\n",
       "      <td>1919</td>\n",
       "    </tr>\n",
       "    <tr>\n",
       "      <th>2</th>\n",
       "      <td>Andhra Pradesh</td>\n",
       "      <td>2022</td>\n",
       "      <td>732826</td>\n",
       "    </tr>\n",
       "    <tr>\n",
       "      <th>3</th>\n",
       "      <td>Andhra Pradesh</td>\n",
       "      <td>2024</td>\n",
       "      <td>201784</td>\n",
       "    </tr>\n",
       "    <tr>\n",
       "      <th>4</th>\n",
       "      <td>Arunachal Pradesh</td>\n",
       "      <td>2022</td>\n",
       "      <td>23242</td>\n",
       "    </tr>\n",
       "    <tr>\n",
       "      <th>...</th>\n",
       "      <td>...</td>\n",
       "      <td>...</td>\n",
       "      <td>...</td>\n",
       "    </tr>\n",
       "    <tr>\n",
       "      <th>63</th>\n",
       "      <td>Uttar Pradesh</td>\n",
       "      <td>2024</td>\n",
       "      <td>714658</td>\n",
       "    </tr>\n",
       "    <tr>\n",
       "      <th>64</th>\n",
       "      <td>Uttarakhand</td>\n",
       "      <td>2022</td>\n",
       "      <td>209101</td>\n",
       "    </tr>\n",
       "    <tr>\n",
       "      <th>65</th>\n",
       "      <td>Uttarakhand</td>\n",
       "      <td>2024</td>\n",
       "      <td>53903</td>\n",
       "    </tr>\n",
       "    <tr>\n",
       "      <th>66</th>\n",
       "      <td>West Bengal</td>\n",
       "      <td>2022</td>\n",
       "      <td>909792</td>\n",
       "    </tr>\n",
       "    <tr>\n",
       "      <th>67</th>\n",
       "      <td>West Bengal</td>\n",
       "      <td>2024</td>\n",
       "      <td>243149</td>\n",
       "    </tr>\n",
       "  </tbody>\n",
       "</table>\n",
       "<p>68 rows × 3 columns</p>\n",
       "</div>"
      ],
      "text/plain": [
       "                          state  year  total_vehicles_sold\n",
       "0   Andaman and Nicobar Islands  2022                 6396\n",
       "1   Andaman and Nicobar Islands  2024                 1919\n",
       "2                Andhra Pradesh  2022               732826\n",
       "3                Andhra Pradesh  2024               201784\n",
       "4             Arunachal Pradesh  2022                23242\n",
       "..                          ...   ...                  ...\n",
       "63                Uttar Pradesh  2024               714658\n",
       "64                  Uttarakhand  2022               209101\n",
       "65                  Uttarakhand  2024                53903\n",
       "66                  West Bengal  2022               909792\n",
       "67                  West Bengal  2024               243149\n",
       "\n",
       "[68 rows x 3 columns]"
      ]
     },
     "metadata": {},
     "output_type": "display_data"
    }
   ],
   "source": [
    "# state_sales_filtered['state'] = state_sales_filtered['state'].replace({\n",
    "#   'Andaman & Nicobar Island': 'Andaman & Nicobar'\n",
    "# })\n",
    "\n",
    "# Aggregate Sales by state and year\n",
    "state_sales_grouped = (\n",
    "  state_sales_filtered.groupby(['state', 'year'], as_index=False)['total_vehicles_sold'].sum()\n",
    ") \n",
    "\n",
    "display(state_sales_grouped)"
   ]
  },
  {
   "cell_type": "code",
   "execution_count": 5,
   "id": "97f1ad72",
   "metadata": {},
   "outputs": [
    {
     "data": {
      "text/html": [
       "<div>\n",
       "<style scoped>\n",
       "    .dataframe tbody tr th:only-of-type {\n",
       "        vertical-align: middle;\n",
       "    }\n",
       "\n",
       "    .dataframe tbody tr th {\n",
       "        vertical-align: top;\n",
       "    }\n",
       "\n",
       "    .dataframe thead th {\n",
       "        text-align: right;\n",
       "    }\n",
       "</style>\n",
       "<table border=\"1\" class=\"dataframe\">\n",
       "  <thead>\n",
       "    <tr style=\"text-align: right;\">\n",
       "      <th>year</th>\n",
       "      <th>state</th>\n",
       "      <th>sales_2022</th>\n",
       "      <th>sales_2024</th>\n",
       "    </tr>\n",
       "  </thead>\n",
       "  <tbody>\n",
       "    <tr>\n",
       "      <th>0</th>\n",
       "      <td>Andaman and Nicobar Islands</td>\n",
       "      <td>6396</td>\n",
       "      <td>1919</td>\n",
       "    </tr>\n",
       "    <tr>\n",
       "      <th>1</th>\n",
       "      <td>Andhra Pradesh</td>\n",
       "      <td>732826</td>\n",
       "      <td>201784</td>\n",
       "    </tr>\n",
       "    <tr>\n",
       "      <th>2</th>\n",
       "      <td>Arunachal Pradesh</td>\n",
       "      <td>23242</td>\n",
       "      <td>6810</td>\n",
       "    </tr>\n",
       "    <tr>\n",
       "      <th>3</th>\n",
       "      <td>Assam</td>\n",
       "      <td>433527</td>\n",
       "      <td>147611</td>\n",
       "    </tr>\n",
       "    <tr>\n",
       "      <th>4</th>\n",
       "      <td>Bihar</td>\n",
       "      <td>983697</td>\n",
       "      <td>278461</td>\n",
       "    </tr>\n",
       "    <tr>\n",
       "      <th>5</th>\n",
       "      <td>Chandigarh</td>\n",
       "      <td>47879</td>\n",
       "      <td>8630</td>\n",
       "    </tr>\n",
       "    <tr>\n",
       "      <th>6</th>\n",
       "      <td>Chhattisgarh</td>\n",
       "      <td>432818</td>\n",
       "      <td>142456</td>\n",
       "    </tr>\n",
       "    <tr>\n",
       "      <th>7</th>\n",
       "      <td>Dadra and Nagar Haveli and Daman and Diu</td>\n",
       "      <td>14350</td>\n",
       "      <td>4098</td>\n",
       "    </tr>\n",
       "    <tr>\n",
       "      <th>8</th>\n",
       "      <td>Delhi</td>\n",
       "      <td>551880</td>\n",
       "      <td>155839</td>\n",
       "    </tr>\n",
       "    <tr>\n",
       "      <th>9</th>\n",
       "      <td>Goa</td>\n",
       "      <td>68010</td>\n",
       "      <td>20689</td>\n",
       "    </tr>\n",
       "    <tr>\n",
       "      <th>10</th>\n",
       "      <td>Gujarat</td>\n",
       "      <td>1388307</td>\n",
       "      <td>359757</td>\n",
       "    </tr>\n",
       "    <tr>\n",
       "      <th>11</th>\n",
       "      <td>Haryana</td>\n",
       "      <td>618249</td>\n",
       "      <td>201143</td>\n",
       "    </tr>\n",
       "    <tr>\n",
       "      <th>12</th>\n",
       "      <td>Himachal Pradesh</td>\n",
       "      <td>105723</td>\n",
       "      <td>29240</td>\n",
       "    </tr>\n",
       "    <tr>\n",
       "      <th>13</th>\n",
       "      <td>Jammu and Kashmir</td>\n",
       "      <td>138151</td>\n",
       "      <td>30212</td>\n",
       "    </tr>\n",
       "    <tr>\n",
       "      <th>14</th>\n",
       "      <td>Jharkhand</td>\n",
       "      <td>450405</td>\n",
       "      <td>117056</td>\n",
       "    </tr>\n",
       "    <tr>\n",
       "      <th>15</th>\n",
       "      <td>Karnataka</td>\n",
       "      <td>1343234</td>\n",
       "      <td>430905</td>\n",
       "    </tr>\n",
       "    <tr>\n",
       "      <th>16</th>\n",
       "      <td>Kerala</td>\n",
       "      <td>732817</td>\n",
       "      <td>150080</td>\n",
       "    </tr>\n",
       "    <tr>\n",
       "      <th>17</th>\n",
       "      <td>Ladakh</td>\n",
       "      <td>4451</td>\n",
       "      <td>321</td>\n",
       "    </tr>\n",
       "    <tr>\n",
       "      <th>18</th>\n",
       "      <td>Madhya Pradesh</td>\n",
       "      <td>1194073</td>\n",
       "      <td>327258</td>\n",
       "    </tr>\n",
       "    <tr>\n",
       "      <th>19</th>\n",
       "      <td>Maharashtra</td>\n",
       "      <td>2080473</td>\n",
       "      <td>596326</td>\n",
       "    </tr>\n",
       "    <tr>\n",
       "      <th>20</th>\n",
       "      <td>Manipur</td>\n",
       "      <td>52040</td>\n",
       "      <td>5786</td>\n",
       "    </tr>\n",
       "    <tr>\n",
       "      <th>21</th>\n",
       "      <td>Meghalaya</td>\n",
       "      <td>30277</td>\n",
       "      <td>9628</td>\n",
       "    </tr>\n",
       "    <tr>\n",
       "      <th>22</th>\n",
       "      <td>Mizoram</td>\n",
       "      <td>24243</td>\n",
       "      <td>7420</td>\n",
       "    </tr>\n",
       "    <tr>\n",
       "      <th>23</th>\n",
       "      <td>Nagaland</td>\n",
       "      <td>14179</td>\n",
       "      <td>5483</td>\n",
       "    </tr>\n",
       "    <tr>\n",
       "      <th>24</th>\n",
       "      <td>Odisha</td>\n",
       "      <td>575498</td>\n",
       "      <td>124545</td>\n",
       "    </tr>\n",
       "    <tr>\n",
       "      <th>25</th>\n",
       "      <td>Puducherry</td>\n",
       "      <td>49662</td>\n",
       "      <td>17503</td>\n",
       "    </tr>\n",
       "    <tr>\n",
       "      <th>26</th>\n",
       "      <td>Punjab</td>\n",
       "      <td>500353</td>\n",
       "      <td>147146</td>\n",
       "    </tr>\n",
       "    <tr>\n",
       "      <th>27</th>\n",
       "      <td>Rajasthan</td>\n",
       "      <td>1072074</td>\n",
       "      <td>307390</td>\n",
       "    </tr>\n",
       "    <tr>\n",
       "      <th>28</th>\n",
       "      <td>Sikkim</td>\n",
       "      <td>9669</td>\n",
       "      <td>2568</td>\n",
       "    </tr>\n",
       "    <tr>\n",
       "      <th>29</th>\n",
       "      <td>Tamil Nadu</td>\n",
       "      <td>1566918</td>\n",
       "      <td>495075</td>\n",
       "    </tr>\n",
       "    <tr>\n",
       "      <th>30</th>\n",
       "      <td>Tripura</td>\n",
       "      <td>41806</td>\n",
       "      <td>11622</td>\n",
       "    </tr>\n",
       "    <tr>\n",
       "      <th>31</th>\n",
       "      <td>Uttar Pradesh</td>\n",
       "      <td>2624436</td>\n",
       "      <td>714658</td>\n",
       "    </tr>\n",
       "    <tr>\n",
       "      <th>32</th>\n",
       "      <td>Uttarakhand</td>\n",
       "      <td>209101</td>\n",
       "      <td>53903</td>\n",
       "    </tr>\n",
       "    <tr>\n",
       "      <th>33</th>\n",
       "      <td>West Bengal</td>\n",
       "      <td>909792</td>\n",
       "      <td>243149</td>\n",
       "    </tr>\n",
       "  </tbody>\n",
       "</table>\n",
       "</div>"
      ],
      "text/plain": [
       "year                                     state  sales_2022  sales_2024\n",
       "0                  Andaman and Nicobar Islands        6396        1919\n",
       "1                               Andhra Pradesh      732826      201784\n",
       "2                            Arunachal Pradesh       23242        6810\n",
       "3                                        Assam      433527      147611\n",
       "4                                        Bihar      983697      278461\n",
       "5                                   Chandigarh       47879        8630\n",
       "6                                 Chhattisgarh      432818      142456\n",
       "7     Dadra and Nagar Haveli and Daman and Diu       14350        4098\n",
       "8                                        Delhi      551880      155839\n",
       "9                                          Goa       68010       20689\n",
       "10                                     Gujarat     1388307      359757\n",
       "11                                     Haryana      618249      201143\n",
       "12                            Himachal Pradesh      105723       29240\n",
       "13                           Jammu and Kashmir      138151       30212\n",
       "14                                   Jharkhand      450405      117056\n",
       "15                                   Karnataka     1343234      430905\n",
       "16                                      Kerala      732817      150080\n",
       "17                                      Ladakh        4451         321\n",
       "18                              Madhya Pradesh     1194073      327258\n",
       "19                                 Maharashtra     2080473      596326\n",
       "20                                     Manipur       52040        5786\n",
       "21                                   Meghalaya       30277        9628\n",
       "22                                     Mizoram       24243        7420\n",
       "23                                    Nagaland       14179        5483\n",
       "24                                      Odisha      575498      124545\n",
       "25                                  Puducherry       49662       17503\n",
       "26                                      Punjab      500353      147146\n",
       "27                                   Rajasthan     1072074      307390\n",
       "28                                      Sikkim        9669        2568\n",
       "29                                  Tamil Nadu     1566918      495075\n",
       "30                                     Tripura       41806       11622\n",
       "31                               Uttar Pradesh     2624436      714658\n",
       "32                                 Uttarakhand      209101       53903\n",
       "33                                 West Bengal      909792      243149"
      ]
     },
     "metadata": {},
     "output_type": "display_data"
    }
   ],
   "source": [
    "state_sales_pivot = (\n",
    "    state_sales_grouped.pivot(\n",
    "      index='state',\n",
    "      columns='year',\n",
    "      values='total_vehicles_sold'\n",
    "    )\n",
    "  .rename(columns={2022: 'sales_2022', 2024: 'sales_2024'})\n",
    "  .reset_index()\n",
    ")\n",
    "\n",
    "display(state_sales_pivot)"
   ]
  },
  {
   "cell_type": "code",
   "execution_count": 6,
   "id": "2687d1c9",
   "metadata": {},
   "outputs": [
    {
     "data": {
      "text/html": [
       "<div>\n",
       "<style scoped>\n",
       "    .dataframe tbody tr th:only-of-type {\n",
       "        vertical-align: middle;\n",
       "    }\n",
       "\n",
       "    .dataframe tbody tr th {\n",
       "        vertical-align: top;\n",
       "    }\n",
       "\n",
       "    .dataframe thead th {\n",
       "        text-align: right;\n",
       "    }\n",
       "</style>\n",
       "<table border=\"1\" class=\"dataframe\">\n",
       "  <thead>\n",
       "    <tr style=\"text-align: right;\">\n",
       "      <th>year</th>\n",
       "      <th>state</th>\n",
       "      <th>sales_2022</th>\n",
       "      <th>sales_2024</th>\n",
       "      <th>CAGR</th>\n",
       "    </tr>\n",
       "  </thead>\n",
       "  <tbody>\n",
       "    <tr>\n",
       "      <th>0</th>\n",
       "      <td>Andaman and Nicobar Islands</td>\n",
       "      <td>6396</td>\n",
       "      <td>1919</td>\n",
       "      <td>-45.224890</td>\n",
       "    </tr>\n",
       "    <tr>\n",
       "      <th>1</th>\n",
       "      <td>Andhra Pradesh</td>\n",
       "      <td>732826</td>\n",
       "      <td>201784</td>\n",
       "      <td>-47.526150</td>\n",
       "    </tr>\n",
       "    <tr>\n",
       "      <th>2</th>\n",
       "      <td>Arunachal Pradesh</td>\n",
       "      <td>23242</td>\n",
       "      <td>6810</td>\n",
       "      <td>-45.870152</td>\n",
       "    </tr>\n",
       "    <tr>\n",
       "      <th>3</th>\n",
       "      <td>Assam</td>\n",
       "      <td>433527</td>\n",
       "      <td>147611</td>\n",
       "      <td>-41.648599</td>\n",
       "    </tr>\n",
       "    <tr>\n",
       "      <th>4</th>\n",
       "      <td>Bihar</td>\n",
       "      <td>983697</td>\n",
       "      <td>278461</td>\n",
       "      <td>-46.795114</td>\n",
       "    </tr>\n",
       "    <tr>\n",
       "      <th>5</th>\n",
       "      <td>Chandigarh</td>\n",
       "      <td>47879</td>\n",
       "      <td>8630</td>\n",
       "      <td>-57.544607</td>\n",
       "    </tr>\n",
       "    <tr>\n",
       "      <th>6</th>\n",
       "      <td>Chhattisgarh</td>\n",
       "      <td>432818</td>\n",
       "      <td>142456</td>\n",
       "      <td>-42.629621</td>\n",
       "    </tr>\n",
       "    <tr>\n",
       "      <th>7</th>\n",
       "      <td>Dadra and Nagar Haveli and Daman and Diu</td>\n",
       "      <td>14350</td>\n",
       "      <td>4098</td>\n",
       "      <td>-46.560790</td>\n",
       "    </tr>\n",
       "    <tr>\n",
       "      <th>8</th>\n",
       "      <td>Delhi</td>\n",
       "      <td>551880</td>\n",
       "      <td>155839</td>\n",
       "      <td>-46.860710</td>\n",
       "    </tr>\n",
       "    <tr>\n",
       "      <th>9</th>\n",
       "      <td>Goa</td>\n",
       "      <td>68010</td>\n",
       "      <td>20689</td>\n",
       "      <td>-44.845194</td>\n",
       "    </tr>\n",
       "    <tr>\n",
       "      <th>10</th>\n",
       "      <td>Gujarat</td>\n",
       "      <td>1388307</td>\n",
       "      <td>359757</td>\n",
       "      <td>-49.094833</td>\n",
       "    </tr>\n",
       "    <tr>\n",
       "      <th>11</th>\n",
       "      <td>Haryana</td>\n",
       "      <td>618249</td>\n",
       "      <td>201143</td>\n",
       "      <td>-42.961151</td>\n",
       "    </tr>\n",
       "    <tr>\n",
       "      <th>12</th>\n",
       "      <td>Himachal Pradesh</td>\n",
       "      <td>105723</td>\n",
       "      <td>29240</td>\n",
       "      <td>-47.409906</td>\n",
       "    </tr>\n",
       "    <tr>\n",
       "      <th>13</th>\n",
       "      <td>Jammu and Kashmir</td>\n",
       "      <td>138151</td>\n",
       "      <td>30212</td>\n",
       "      <td>-53.235885</td>\n",
       "    </tr>\n",
       "    <tr>\n",
       "      <th>14</th>\n",
       "      <td>Jharkhand</td>\n",
       "      <td>450405</td>\n",
       "      <td>117056</td>\n",
       "      <td>-49.020539</td>\n",
       "    </tr>\n",
       "    <tr>\n",
       "      <th>15</th>\n",
       "      <td>Karnataka</td>\n",
       "      <td>1343234</td>\n",
       "      <td>430905</td>\n",
       "      <td>-43.361085</td>\n",
       "    </tr>\n",
       "    <tr>\n",
       "      <th>16</th>\n",
       "      <td>Kerala</td>\n",
       "      <td>732817</td>\n",
       "      <td>150080</td>\n",
       "      <td>-54.745305</td>\n",
       "    </tr>\n",
       "    <tr>\n",
       "      <th>17</th>\n",
       "      <td>Ladakh</td>\n",
       "      <td>4451</td>\n",
       "      <td>321</td>\n",
       "      <td>-73.145089</td>\n",
       "    </tr>\n",
       "    <tr>\n",
       "      <th>18</th>\n",
       "      <td>Madhya Pradesh</td>\n",
       "      <td>1194073</td>\n",
       "      <td>327258</td>\n",
       "      <td>-47.648432</td>\n",
       "    </tr>\n",
       "    <tr>\n",
       "      <th>19</th>\n",
       "      <td>Maharashtra</td>\n",
       "      <td>2080473</td>\n",
       "      <td>596326</td>\n",
       "      <td>-46.462162</td>\n",
       "    </tr>\n",
       "    <tr>\n",
       "      <th>20</th>\n",
       "      <td>Manipur</td>\n",
       "      <td>52040</td>\n",
       "      <td>5786</td>\n",
       "      <td>-66.655779</td>\n",
       "    </tr>\n",
       "    <tr>\n",
       "      <th>21</th>\n",
       "      <td>Meghalaya</td>\n",
       "      <td>30277</td>\n",
       "      <td>9628</td>\n",
       "      <td>-43.608763</td>\n",
       "    </tr>\n",
       "    <tr>\n",
       "      <th>22</th>\n",
       "      <td>Mizoram</td>\n",
       "      <td>24243</td>\n",
       "      <td>7420</td>\n",
       "      <td>-44.676612</td>\n",
       "    </tr>\n",
       "    <tr>\n",
       "      <th>23</th>\n",
       "      <td>Nagaland</td>\n",
       "      <td>14179</td>\n",
       "      <td>5483</td>\n",
       "      <td>-37.814902</td>\n",
       "    </tr>\n",
       "    <tr>\n",
       "      <th>24</th>\n",
       "      <td>Odisha</td>\n",
       "      <td>575498</td>\n",
       "      <td>124545</td>\n",
       "      <td>-53.479836</td>\n",
       "    </tr>\n",
       "    <tr>\n",
       "      <th>25</th>\n",
       "      <td>Puducherry</td>\n",
       "      <td>49662</td>\n",
       "      <td>17503</td>\n",
       "      <td>-40.633131</td>\n",
       "    </tr>\n",
       "    <tr>\n",
       "      <th>26</th>\n",
       "      <td>Punjab</td>\n",
       "      <td>500353</td>\n",
       "      <td>147146</td>\n",
       "      <td>-45.770453</td>\n",
       "    </tr>\n",
       "    <tr>\n",
       "      <th>27</th>\n",
       "      <td>Rajasthan</td>\n",
       "      <td>1072074</td>\n",
       "      <td>307390</td>\n",
       "      <td>-46.453328</td>\n",
       "    </tr>\n",
       "    <tr>\n",
       "      <th>28</th>\n",
       "      <td>Sikkim</td>\n",
       "      <td>9669</td>\n",
       "      <td>2568</td>\n",
       "      <td>-48.464472</td>\n",
       "    </tr>\n",
       "    <tr>\n",
       "      <th>29</th>\n",
       "      <td>Tamil Nadu</td>\n",
       "      <td>1566918</td>\n",
       "      <td>495075</td>\n",
       "      <td>-43.790158</td>\n",
       "    </tr>\n",
       "    <tr>\n",
       "      <th>30</th>\n",
       "      <td>Tripura</td>\n",
       "      <td>41806</td>\n",
       "      <td>11622</td>\n",
       "      <td>-47.274449</td>\n",
       "    </tr>\n",
       "    <tr>\n",
       "      <th>31</th>\n",
       "      <td>Uttar Pradesh</td>\n",
       "      <td>2624436</td>\n",
       "      <td>714658</td>\n",
       "      <td>-47.816748</td>\n",
       "    </tr>\n",
       "    <tr>\n",
       "      <th>32</th>\n",
       "      <td>Uttarakhand</td>\n",
       "      <td>209101</td>\n",
       "      <td>53903</td>\n",
       "      <td>-49.227516</td>\n",
       "    </tr>\n",
       "    <tr>\n",
       "      <th>33</th>\n",
       "      <td>West Bengal</td>\n",
       "      <td>909792</td>\n",
       "      <td>243149</td>\n",
       "      <td>-48.303018</td>\n",
       "    </tr>\n",
       "  </tbody>\n",
       "</table>\n",
       "</div>"
      ],
      "text/plain": [
       "year                                     state  sales_2022  sales_2024  \\\n",
       "0                  Andaman and Nicobar Islands        6396        1919   \n",
       "1                               Andhra Pradesh      732826      201784   \n",
       "2                            Arunachal Pradesh       23242        6810   \n",
       "3                                        Assam      433527      147611   \n",
       "4                                        Bihar      983697      278461   \n",
       "5                                   Chandigarh       47879        8630   \n",
       "6                                 Chhattisgarh      432818      142456   \n",
       "7     Dadra and Nagar Haveli and Daman and Diu       14350        4098   \n",
       "8                                        Delhi      551880      155839   \n",
       "9                                          Goa       68010       20689   \n",
       "10                                     Gujarat     1388307      359757   \n",
       "11                                     Haryana      618249      201143   \n",
       "12                            Himachal Pradesh      105723       29240   \n",
       "13                           Jammu and Kashmir      138151       30212   \n",
       "14                                   Jharkhand      450405      117056   \n",
       "15                                   Karnataka     1343234      430905   \n",
       "16                                      Kerala      732817      150080   \n",
       "17                                      Ladakh        4451         321   \n",
       "18                              Madhya Pradesh     1194073      327258   \n",
       "19                                 Maharashtra     2080473      596326   \n",
       "20                                     Manipur       52040        5786   \n",
       "21                                   Meghalaya       30277        9628   \n",
       "22                                     Mizoram       24243        7420   \n",
       "23                                    Nagaland       14179        5483   \n",
       "24                                      Odisha      575498      124545   \n",
       "25                                  Puducherry       49662       17503   \n",
       "26                                      Punjab      500353      147146   \n",
       "27                                   Rajasthan     1072074      307390   \n",
       "28                                      Sikkim        9669        2568   \n",
       "29                                  Tamil Nadu     1566918      495075   \n",
       "30                                     Tripura       41806       11622   \n",
       "31                               Uttar Pradesh     2624436      714658   \n",
       "32                                 Uttarakhand      209101       53903   \n",
       "33                                 West Bengal      909792      243149   \n",
       "\n",
       "year       CAGR  \n",
       "0    -45.224890  \n",
       "1    -47.526150  \n",
       "2    -45.870152  \n",
       "3    -41.648599  \n",
       "4    -46.795114  \n",
       "5    -57.544607  \n",
       "6    -42.629621  \n",
       "7    -46.560790  \n",
       "8    -46.860710  \n",
       "9    -44.845194  \n",
       "10   -49.094833  \n",
       "11   -42.961151  \n",
       "12   -47.409906  \n",
       "13   -53.235885  \n",
       "14   -49.020539  \n",
       "15   -43.361085  \n",
       "16   -54.745305  \n",
       "17   -73.145089  \n",
       "18   -47.648432  \n",
       "19   -46.462162  \n",
       "20   -66.655779  \n",
       "21   -43.608763  \n",
       "22   -44.676612  \n",
       "23   -37.814902  \n",
       "24   -53.479836  \n",
       "25   -40.633131  \n",
       "26   -45.770453  \n",
       "27   -46.453328  \n",
       "28   -48.464472  \n",
       "29   -43.790158  \n",
       "30   -47.274449  \n",
       "31   -47.816748  \n",
       "32   -49.227516  \n",
       "33   -48.303018  "
      ]
     },
     "metadata": {},
     "output_type": "display_data"
    }
   ],
   "source": [
    "# Calculate CAGR ( n = 2years)\n",
    "state_sales_pivot['CAGR'] = (\n",
    "  (state_sales_pivot['sales_2024'] / state_sales_pivot['sales_2022']) ** (1/2) - 1\n",
    ") * 100\n",
    "\n",
    "display(state_sales_pivot)"
   ]
  },
  {
   "cell_type": "code",
   "execution_count": 7,
   "id": "b68cb4ba",
   "metadata": {},
   "outputs": [],
   "source": [
    "# 5. Handle division by zero or missing data\n",
    "state_sales_pivot = state_sales_pivot.dropna(subset=['sales_2022', 'sales_2024'])\n",
    "state_sales_pivot = state_sales_pivot[state_sales_pivot['sales_2022'] > 0]"
   ]
  },
  {
   "cell_type": "code",
   "execution_count": 8,
   "id": "a0243fce",
   "metadata": {},
   "outputs": [],
   "source": [
    "# 6. Sort by CAGR descending\n",
    "state_cagr_top10 = state_sales_pivot.sort_values('CAGR', ascending=False).head(10)"
   ]
  },
  {
   "cell_type": "code",
   "execution_count": 9,
   "id": "4ce8ffe4",
   "metadata": {},
   "outputs": [
    {
     "data": {
      "text/html": [
       "<div>\n",
       "<style scoped>\n",
       "    .dataframe tbody tr th:only-of-type {\n",
       "        vertical-align: middle;\n",
       "    }\n",
       "\n",
       "    .dataframe tbody tr th {\n",
       "        vertical-align: top;\n",
       "    }\n",
       "\n",
       "    .dataframe thead th {\n",
       "        text-align: right;\n",
       "    }\n",
       "</style>\n",
       "<table border=\"1\" class=\"dataframe\">\n",
       "  <thead>\n",
       "    <tr style=\"text-align: right;\">\n",
       "      <th>year</th>\n",
       "      <th>state</th>\n",
       "      <th>sales_2022</th>\n",
       "      <th>sales_2024</th>\n",
       "      <th>CAGR</th>\n",
       "    </tr>\n",
       "  </thead>\n",
       "  <tbody>\n",
       "    <tr>\n",
       "      <th>23</th>\n",
       "      <td>Nagaland</td>\n",
       "      <td>14179</td>\n",
       "      <td>5483</td>\n",
       "      <td>-37.814902</td>\n",
       "    </tr>\n",
       "    <tr>\n",
       "      <th>25</th>\n",
       "      <td>Puducherry</td>\n",
       "      <td>49662</td>\n",
       "      <td>17503</td>\n",
       "      <td>-40.633131</td>\n",
       "    </tr>\n",
       "    <tr>\n",
       "      <th>3</th>\n",
       "      <td>Assam</td>\n",
       "      <td>433527</td>\n",
       "      <td>147611</td>\n",
       "      <td>-41.648599</td>\n",
       "    </tr>\n",
       "    <tr>\n",
       "      <th>6</th>\n",
       "      <td>Chhattisgarh</td>\n",
       "      <td>432818</td>\n",
       "      <td>142456</td>\n",
       "      <td>-42.629621</td>\n",
       "    </tr>\n",
       "    <tr>\n",
       "      <th>11</th>\n",
       "      <td>Haryana</td>\n",
       "      <td>618249</td>\n",
       "      <td>201143</td>\n",
       "      <td>-42.961151</td>\n",
       "    </tr>\n",
       "    <tr>\n",
       "      <th>15</th>\n",
       "      <td>Karnataka</td>\n",
       "      <td>1343234</td>\n",
       "      <td>430905</td>\n",
       "      <td>-43.361085</td>\n",
       "    </tr>\n",
       "    <tr>\n",
       "      <th>21</th>\n",
       "      <td>Meghalaya</td>\n",
       "      <td>30277</td>\n",
       "      <td>9628</td>\n",
       "      <td>-43.608763</td>\n",
       "    </tr>\n",
       "    <tr>\n",
       "      <th>29</th>\n",
       "      <td>Tamil Nadu</td>\n",
       "      <td>1566918</td>\n",
       "      <td>495075</td>\n",
       "      <td>-43.790158</td>\n",
       "    </tr>\n",
       "    <tr>\n",
       "      <th>22</th>\n",
       "      <td>Mizoram</td>\n",
       "      <td>24243</td>\n",
       "      <td>7420</td>\n",
       "      <td>-44.676612</td>\n",
       "    </tr>\n",
       "    <tr>\n",
       "      <th>9</th>\n",
       "      <td>Goa</td>\n",
       "      <td>68010</td>\n",
       "      <td>20689</td>\n",
       "      <td>-44.845194</td>\n",
       "    </tr>\n",
       "  </tbody>\n",
       "</table>\n",
       "</div>"
      ],
      "text/plain": [
       "year         state  sales_2022  sales_2024       CAGR\n",
       "23        Nagaland       14179        5483 -37.814902\n",
       "25      Puducherry       49662       17503 -40.633131\n",
       "3            Assam      433527      147611 -41.648599\n",
       "6     Chhattisgarh      432818      142456 -42.629621\n",
       "11         Haryana      618249      201143 -42.961151\n",
       "15       Karnataka     1343234      430905 -43.361085\n",
       "21       Meghalaya       30277        9628 -43.608763\n",
       "29      Tamil Nadu     1566918      495075 -43.790158\n",
       "22         Mizoram       24243        7420 -44.676612\n",
       "9              Goa       68010       20689 -44.845194"
      ]
     },
     "execution_count": 9,
     "metadata": {},
     "output_type": "execute_result"
    }
   ],
   "source": [
    "state_cagr_top10"
   ]
  },
  {
   "cell_type": "code",
   "execution_count": 10,
   "id": "662ae1dc",
   "metadata": {},
   "outputs": [
    {
     "data": {
      "image/png": "[encoded data removed]",
      "text/plain": [
       "<Figure size 1000x600 with 1 Axes>"
      ]
     },
     "metadata": {},
     "output_type": "display_data"
    }
   ],
   "source": [
    "import matplotlib.pyplot as plt\n",
    "\n",
    "# Sort again to plot in correct order\n",
    "df_top10_sorted = state_cagr_top10.sort_values('CAGR')\n",
    "\n",
    "plt.figure(figsize=(10,6))\n",
    "plt.barh(df_top10_sorted['state'], df_top10_sorted['CAGR'], color='skyblue')\n",
    "plt.xlabel('CAGR (%)')\n",
    "plt.ylabel('State')\n",
    "plt.title('Top 10 States by CAGR (2022–2024) in Total Vehicle Sales')\n",
    "plt.grid(axis='x', linestyle='--', alpha=0.7)\n",
    "\n",
    "# Optional: Add labels to bars\n",
    "for index, value in enumerate(df_top10_sorted['CAGR']):\n",
    "    plt.text(value, index, f\"{value:.2f}%\", va='center')\n",
    "\n",
    "plt.show()\n"
   ]
  },
  {
   "cell_type": "markdown",
   "id": "b0f08971",
   "metadata": {},
   "source": [
    "Between 2022 and 2024, India’s overall vehicle sales market faced a slowdown, with most states registering a decline in compounded annual growth rate (CAGR). However, some states demonstrated relative resilience, managing to limit the drop more effectively than others.\n",
    "\n",
    "Nagaland topped the list with the smallest decline at -37.81% CAGR, followed by Puducherry (-40.63%) and Assam (-41.65%). These states, while still experiencing contractions, outperformed the national trend and indicate regions where demand was relatively sustained despite broader market challenges.\n",
    "\n",
    "Chhattisgarh, Haryana, and Karnataka also remained in the top 10 least-affected states, highlighting that economic stability, niche market demand, or specific policy support may have helped cushion the downturn.\n",
    "\n",
    "For automotive stakeholders, this insight points toward states where market re-entry or targeted promotional strategies could recover sales faster once macroeconomic conditions improve."
   ]
  },
  {
   "cell_type": "markdown",
   "id": "176a51d9",
   "metadata": {},
   "source": [
    ">From 2022 to 2024, vehicle sales declined across all states, but some regions showed greater resilience. Nagaland led with the smallest drop at -37.81% CAGR, followed by Puducherry and Assam. These states outperformed the national trend, signaling pockets of stable demand despite market challenges. Targeted efforts here could yield quicker recovery compared to other regions.\""
   ]
  },
  {
   "cell_type": "markdown",
   "id": "25bc4b58",
   "metadata": {},
   "source": [
    "### Let Get the CAGR of EV Vehicles from 2022 - 2024"
   ]
  },
  {
   "cell_type": "code",
   "execution_count": 11,
   "id": "75e80fe7",
   "metadata": {},
   "outputs": [
    {
     "data": {
      "text/plain": [
       "year                      0\n",
       "state                     0\n",
       "electric_vehicles_sold    2\n",
       "dtype: int64"
      ]
     },
     "metadata": {},
     "output_type": "display_data"
    },
    {
     "data": {
      "text/html": [
       "<div>\n",
       "<style scoped>\n",
       "    .dataframe tbody tr th:only-of-type {\n",
       "        vertical-align: middle;\n",
       "    }\n",
       "\n",
       "    .dataframe tbody tr th {\n",
       "        vertical-align: top;\n",
       "    }\n",
       "\n",
       "    .dataframe thead th {\n",
       "        text-align: right;\n",
       "    }\n",
       "</style>\n",
       "<table border=\"1\" class=\"dataframe\">\n",
       "  <thead>\n",
       "    <tr style=\"text-align: right;\">\n",
       "      <th></th>\n",
       "      <th>year</th>\n",
       "      <th>state</th>\n",
       "      <th>electric_vehicles_sold</th>\n",
       "    </tr>\n",
       "  </thead>\n",
       "  <tbody>\n",
       "    <tr>\n",
       "      <th>0</th>\n",
       "      <td>2022</td>\n",
       "      <td>Andaman and Nicobar Islands</td>\n",
       "      <td>23</td>\n",
       "    </tr>\n",
       "    <tr>\n",
       "      <th>1</th>\n",
       "      <td>2022</td>\n",
       "      <td>Andhra Pradesh</td>\n",
       "      <td>28050</td>\n",
       "    </tr>\n",
       "    <tr>\n",
       "      <th>2</th>\n",
       "      <td>2022</td>\n",
       "      <td>Arunachal Pradesh</td>\n",
       "      <td>2</td>\n",
       "    </tr>\n",
       "    <tr>\n",
       "      <th>3</th>\n",
       "      <td>2022</td>\n",
       "      <td>Assam</td>\n",
       "      <td>1984</td>\n",
       "    </tr>\n",
       "    <tr>\n",
       "      <th>4</th>\n",
       "      <td>2022</td>\n",
       "      <td>Bihar</td>\n",
       "      <td>10071</td>\n",
       "    </tr>\n",
       "  </tbody>\n",
       "</table>\n",
       "</div>"
      ],
      "text/plain": [
       "   year                        state  electric_vehicles_sold\n",
       "0  2022  Andaman and Nicobar Islands                      23\n",
       "1  2022               Andhra Pradesh                   28050\n",
       "2  2022            Arunachal Pradesh                       2\n",
       "3  2022                        Assam                    1984\n",
       "4  2022                        Bihar                   10071"
      ]
     },
     "metadata": {},
     "output_type": "display_data"
    },
    {
     "data": {
      "text/plain": [
       "array([2022, 2024])"
      ]
     },
     "metadata": {},
     "output_type": "display_data"
    }
   ],
   "source": [
    "ev_sal_state = state_sales_filtered.groupby(['year', 'state'])['electric_vehicles_sold'].sum().reset_index()\n",
    "\n",
    "\n",
    "zero_counts = (ev_sal_state == 0).sum()\n",
    "display(zero_counts)\n",
    "\n",
    "ev_sal_state = ev_sal_state[ev_sal_state['electric_vehicles_sold'] != 0]\n",
    "\n",
    "display(ev_sal_state.head())\n",
    "\n",
    "display(ev_sal_state['year'].unique())"
   ]
  },
  {
   "cell_type": "code",
   "execution_count": 12,
   "id": "229d3989",
   "metadata": {},
   "outputs": [
    {
     "data": {
      "text/html": [
       "<div>\n",
       "<style scoped>\n",
       "    .dataframe tbody tr th:only-of-type {\n",
       "        vertical-align: middle;\n",
       "    }\n",
       "\n",
       "    .dataframe tbody tr th {\n",
       "        vertical-align: top;\n",
       "    }\n",
       "\n",
       "    .dataframe thead th {\n",
       "        text-align: right;\n",
       "    }\n",
       "</style>\n",
       "<table border=\"1\" class=\"dataframe\">\n",
       "  <thead>\n",
       "    <tr style=\"text-align: right;\">\n",
       "      <th>year</th>\n",
       "      <th>state</th>\n",
       "      <th>sales_2022</th>\n",
       "      <th>sales_2024</th>\n",
       "    </tr>\n",
       "  </thead>\n",
       "  <tbody>\n",
       "    <tr>\n",
       "      <th>0</th>\n",
       "      <td>Andaman and Nicobar Islands</td>\n",
       "      <td>23</td>\n",
       "      <td>11</td>\n",
       "    </tr>\n",
       "    <tr>\n",
       "      <th>1</th>\n",
       "      <td>Andhra Pradesh</td>\n",
       "      <td>28050</td>\n",
       "      <td>12638</td>\n",
       "    </tr>\n",
       "    <tr>\n",
       "      <th>2</th>\n",
       "      <td>Arunachal Pradesh</td>\n",
       "      <td>2</td>\n",
       "      <td>10</td>\n",
       "    </tr>\n",
       "    <tr>\n",
       "      <th>3</th>\n",
       "      <td>Assam</td>\n",
       "      <td>1984</td>\n",
       "      <td>1364</td>\n",
       "    </tr>\n",
       "    <tr>\n",
       "      <th>4</th>\n",
       "      <td>Bihar</td>\n",
       "      <td>10071</td>\n",
       "      <td>5401</td>\n",
       "    </tr>\n",
       "  </tbody>\n",
       "</table>\n",
       "</div>"
      ],
      "text/plain": [
       "year                        state  sales_2022  sales_2024\n",
       "0     Andaman and Nicobar Islands          23          11\n",
       "1                  Andhra Pradesh       28050       12638\n",
       "2               Arunachal Pradesh           2          10\n",
       "3                           Assam        1984        1364\n",
       "4                           Bihar       10071        5401"
      ]
     },
     "metadata": {},
     "output_type": "display_data"
    }
   ],
   "source": [
    "ev_state_pt = (\n",
    "  ev_sal_state.pivot(index='state', columns='year', values='electric_vehicles_sold')\n",
    "  .rename(columns={2022: 'sales_2022', 2024: 'sales_2024'})\n",
    "  .reset_index()\n",
    ")\n",
    "\n",
    "display(ev_state_pt.head())"
   ]
  },
  {
   "cell_type": "code",
   "execution_count": 13,
   "id": "4fa7b713",
   "metadata": {},
   "outputs": [
    {
     "data": {
      "text/html": [
       "<div>\n",
       "<style scoped>\n",
       "    .dataframe tbody tr th:only-of-type {\n",
       "        vertical-align: middle;\n",
       "    }\n",
       "\n",
       "    .dataframe tbody tr th {\n",
       "        vertical-align: top;\n",
       "    }\n",
       "\n",
       "    .dataframe thead th {\n",
       "        text-align: right;\n",
       "    }\n",
       "</style>\n",
       "<table border=\"1\" class=\"dataframe\">\n",
       "  <thead>\n",
       "    <tr style=\"text-align: right;\">\n",
       "      <th>year</th>\n",
       "      <th>state</th>\n",
       "      <th>sales_2022</th>\n",
       "      <th>sales_2024</th>\n",
       "      <th>CAGR</th>\n",
       "    </tr>\n",
       "  </thead>\n",
       "  <tbody>\n",
       "    <tr>\n",
       "      <th>2</th>\n",
       "      <td>Arunachal Pradesh</td>\n",
       "      <td>2</td>\n",
       "      <td>10</td>\n",
       "      <td>123.61</td>\n",
       "    </tr>\n",
       "    <tr>\n",
       "      <th>21</th>\n",
       "      <td>Meghalaya</td>\n",
       "      <td>33</td>\n",
       "      <td>49</td>\n",
       "      <td>21.85</td>\n",
       "    </tr>\n",
       "    <tr>\n",
       "      <th>22</th>\n",
       "      <td>Mizoram</td>\n",
       "      <td>36</td>\n",
       "      <td>138</td>\n",
       "      <td>95.79</td>\n",
       "    </tr>\n",
       "  </tbody>\n",
       "</table>\n",
       "</div>"
      ],
      "text/plain": [
       "year              state  sales_2022  sales_2024    CAGR\n",
       "2     Arunachal Pradesh           2          10  123.61\n",
       "21            Meghalaya          33          49   21.85\n",
       "22              Mizoram          36         138   95.79"
      ]
     },
     "metadata": {},
     "output_type": "display_data"
    }
   ],
   "source": [
    "# Calculate the CAGR of EV_sales\n",
    "ev_state_pt['CAGR'] = (\n",
    "  (\n",
    "    (ev_state_pt['sales_2024'] / ev_state_pt['sales_2022']) ** (1/2) - 1 \n",
    "  ) * 100\n",
    ").round(2) # in %\n",
    "\n",
    "display(ev_state_pt[ev_state_pt['CAGR'] > 0])"
   ]
  },
  {
   "cell_type": "code",
   "execution_count": 14,
   "id": "c8e07530",
   "metadata": {},
   "outputs": [],
   "source": [
    "# Handle division by zero\n",
    "ev_state_pt = ev_state_pt.dropna(subset=['sales_2022', 'sales_2024'])\n",
    "ev_state_pt = ev_state_pt.loc[ev_state_pt['sales_2022'] > 0]"
   ]
  },
  {
   "cell_type": "code",
   "execution_count": 15,
   "id": "5644d6d8",
   "metadata": {},
   "outputs": [
    {
     "data": {
      "text/html": [
       "<div>\n",
       "<style scoped>\n",
       "    .dataframe tbody tr th:only-of-type {\n",
       "        vertical-align: middle;\n",
       "    }\n",
       "\n",
       "    .dataframe tbody tr th {\n",
       "        vertical-align: top;\n",
       "    }\n",
       "\n",
       "    .dataframe thead th {\n",
       "        text-align: right;\n",
       "    }\n",
       "</style>\n",
       "<table border=\"1\" class=\"dataframe\">\n",
       "  <thead>\n",
       "    <tr style=\"text-align: right;\">\n",
       "      <th>year</th>\n",
       "      <th>state</th>\n",
       "      <th>sales_2022</th>\n",
       "      <th>sales_2024</th>\n",
       "      <th>CAGR</th>\n",
       "    </tr>\n",
       "  </thead>\n",
       "  <tbody>\n",
       "    <tr>\n",
       "      <th>2</th>\n",
       "      <td>Arunachal Pradesh</td>\n",
       "      <td>2</td>\n",
       "      <td>10</td>\n",
       "      <td>123.61</td>\n",
       "    </tr>\n",
       "    <tr>\n",
       "      <th>22</th>\n",
       "      <td>Mizoram</td>\n",
       "      <td>36</td>\n",
       "      <td>138</td>\n",
       "      <td>95.79</td>\n",
       "    </tr>\n",
       "    <tr>\n",
       "      <th>21</th>\n",
       "      <td>Meghalaya</td>\n",
       "      <td>33</td>\n",
       "      <td>49</td>\n",
       "      <td>21.85</td>\n",
       "    </tr>\n",
       "    <tr>\n",
       "      <th>23</th>\n",
       "      <td>Nagaland</td>\n",
       "      <td>3</td>\n",
       "      <td>3</td>\n",
       "      <td>0.00</td>\n",
       "    </tr>\n",
       "    <tr>\n",
       "      <th>7</th>\n",
       "      <td>Dadra and Nagar Haveli and Daman and Diu</td>\n",
       "      <td>103</td>\n",
       "      <td>92</td>\n",
       "      <td>-5.49</td>\n",
       "    </tr>\n",
       "    <tr>\n",
       "      <th>30</th>\n",
       "      <td>Uttar Pradesh</td>\n",
       "      <td>23791</td>\n",
       "      <td>21206</td>\n",
       "      <td>-5.59</td>\n",
       "    </tr>\n",
       "    <tr>\n",
       "      <th>25</th>\n",
       "      <td>Puducherry</td>\n",
       "      <td>1454</td>\n",
       "      <td>1202</td>\n",
       "      <td>-9.08</td>\n",
       "    </tr>\n",
       "    <tr>\n",
       "      <th>9</th>\n",
       "      <td>Goa</td>\n",
       "      <td>5616</td>\n",
       "      <td>3875</td>\n",
       "      <td>-16.93</td>\n",
       "    </tr>\n",
       "    <tr>\n",
       "      <th>3</th>\n",
       "      <td>Assam</td>\n",
       "      <td>1984</td>\n",
       "      <td>1364</td>\n",
       "      <td>-17.08</td>\n",
       "    </tr>\n",
       "    <tr>\n",
       "      <th>5</th>\n",
       "      <td>Chandigarh</td>\n",
       "      <td>1129</td>\n",
       "      <td>763</td>\n",
       "      <td>-17.79</td>\n",
       "    </tr>\n",
       "  </tbody>\n",
       "</table>\n",
       "</div>"
      ],
      "text/plain": [
       "year                                     state  sales_2022  sales_2024    CAGR\n",
       "2                            Arunachal Pradesh           2          10  123.61\n",
       "22                                     Mizoram          36         138   95.79\n",
       "21                                   Meghalaya          33          49   21.85\n",
       "23                                    Nagaland           3           3    0.00\n",
       "7     Dadra and Nagar Haveli and Daman and Diu         103          92   -5.49\n",
       "30                               Uttar Pradesh       23791       21206   -5.59\n",
       "25                                  Puducherry        1454        1202   -9.08\n",
       "9                                          Goa        5616        3875  -16.93\n",
       "3                                        Assam        1984        1364  -17.08\n",
       "5                                   Chandigarh        1129         763  -17.79"
      ]
     },
     "metadata": {},
     "output_type": "display_data"
    }
   ],
   "source": [
    "# Sort by CAGR in decending order\n",
    "top_10_ev_CAGR = ev_state_pt.sort_values(by='CAGR', ascending=False).head(10)\n",
    "\n",
    "display(top_10_ev_CAGR)"
   ]
  },
  {
   "cell_type": "code",
   "execution_count": 16,
   "id": "a47755db",
   "metadata": {},
   "outputs": [
    {
     "data": {
      "image/png": "[encoded data removed]",
      "text/plain": [
       "<Figure size 1000x600 with 1 Axes>"
      ]
     },
     "metadata": {},
     "output_type": "display_data"
    }
   ],
   "source": [
    "# Sort for plotting\n",
    "df_top10_sorted = top_10_ev_CAGR.sort_values(\"CAGR\")\n",
    "\n",
    "# Create color mapping: green if positive, red if negative\n",
    "colors = [\"#2ecc71\" if val > 0 else \"#e74c3c\" for val in df_top10_sorted[\"CAGR\"]]\n",
    "\n",
    "plt.figure(figsize=(10, 6))\n",
    "plt.barh(df_top10_sorted[\"state\"], df_top10_sorted[\"CAGR\"], color=colors)\n",
    "plt.xlabel(\"CAGR (%)\")\n",
    "plt.ylabel(\"State\")\n",
    "plt.title(\"Top 10 States by CAGR (2022–2024) in Total Vehicle Sales\")\n",
    "plt.grid(axis=\"x\", linestyle=\"--\", alpha=0.7)\n",
    "\n",
    "# Add labels to bars\n",
    "for index, value in enumerate(df_top10_sorted[\"CAGR\"]):\n",
    "    plt.text(value, index, f\"{value:.2f}%\", va=\"center\");"
   ]
  },
  {
   "cell_type": "markdown",
   "id": "1743cd84",
   "metadata": {},
   "source": [
    "### Showing the top 10 listed state which having other then ev_sales CAGR"
   ]
  },
  {
   "cell_type": "code",
   "execution_count": 17,
   "id": "249e6081",
   "metadata": {},
   "outputs": [
    {
     "name": "stderr",
     "output_type": "stream",
     "text": [
      "/tmp/ipykernel_235958/1335137374.py:2: SettingWithCopyWarning: \n",
      "A value is trying to be set on a copy of a slice from a DataFrame.\n",
      "Try using .loc[row_indexer,col_indexer] = value instead\n",
      "\n",
      "See the caveats in the documentation: https://pandas.pydata.org/pandas-docs/stable/user_guide/indexing.html#returning-a-view-versus-a-copy\n",
      "  state_sales_filtered['none_ev_sales'] = state_sales_filtered['total_vehicles_sold'] - state_sales_filtered['electric_vehicles_sold']\n"
     ]
    },
    {
     "data": {
      "text/html": [
       "<div>\n",
       "<style scoped>\n",
       "    .dataframe tbody tr th:only-of-type {\n",
       "        vertical-align: middle;\n",
       "    }\n",
       "\n",
       "    .dataframe tbody tr th {\n",
       "        vertical-align: top;\n",
       "    }\n",
       "\n",
       "    .dataframe thead th {\n",
       "        text-align: right;\n",
       "    }\n",
       "</style>\n",
       "<table border=\"1\" class=\"dataframe\">\n",
       "  <thead>\n",
       "    <tr style=\"text-align: right;\">\n",
       "      <th></th>\n",
       "      <th>date</th>\n",
       "      <th>year</th>\n",
       "      <th>month</th>\n",
       "      <th>quarter</th>\n",
       "      <th>months_from_start</th>\n",
       "      <th>rolling_mean_ev</th>\n",
       "      <th>ev_growth_rate</th>\n",
       "      <th>ev_penetration</th>\n",
       "      <th>ev_penetration_log</th>\n",
       "      <th>national_market_share</th>\n",
       "      <th>...</th>\n",
       "      <th>is_missing_segment_preference_ratio</th>\n",
       "      <th>is_missing_segment_growth_diff</th>\n",
       "      <th>is_missing_regional_avg_penetration</th>\n",
       "      <th>is_missing_adoption_velocity</th>\n",
       "      <th>state</th>\n",
       "      <th>vehicle_category</th>\n",
       "      <th>electric_vehicles_sold</th>\n",
       "      <th>total_vehicles_sold</th>\n",
       "      <th>ev_penetration_rate</th>\n",
       "      <th>none_ev_sales</th>\n",
       "    </tr>\n",
       "  </thead>\n",
       "  <tbody>\n",
       "    <tr>\n",
       "      <th>613</th>\n",
       "      <td>2022-01-01</td>\n",
       "      <td>2022</td>\n",
       "      <td>1</td>\n",
       "      <td>1</td>\n",
       "      <td>12</td>\n",
       "      <td>1256.666667</td>\n",
       "      <td>0.70</td>\n",
       "      <td>2.80</td>\n",
       "      <td>1.335001</td>\n",
       "      <td>5.28</td>\n",
       "      <td>...</td>\n",
       "      <td>0</td>\n",
       "      <td>0</td>\n",
       "      <td>0</td>\n",
       "      <td>0</td>\n",
       "      <td>Andhra Pradesh</td>\n",
       "      <td>2-Wheelers</td>\n",
       "      <td>1671</td>\n",
       "      <td>59712</td>\n",
       "      <td>0.027984</td>\n",
       "      <td>58041</td>\n",
       "    </tr>\n",
       "    <tr>\n",
       "      <th>614</th>\n",
       "      <td>2022-01-01</td>\n",
       "      <td>2022</td>\n",
       "      <td>1</td>\n",
       "      <td>1</td>\n",
       "      <td>12</td>\n",
       "      <td>31.333333</td>\n",
       "      <td>-0.06</td>\n",
       "      <td>0.34</td>\n",
       "      <td>0.292670</td>\n",
       "      <td>0.09</td>\n",
       "      <td>...</td>\n",
       "      <td>0</td>\n",
       "      <td>0</td>\n",
       "      <td>0</td>\n",
       "      <td>0</td>\n",
       "      <td>Andhra Pradesh</td>\n",
       "      <td>4-Wheelers</td>\n",
       "      <td>29</td>\n",
       "      <td>8418</td>\n",
       "      <td>0.003445</td>\n",
       "      <td>8389</td>\n",
       "    </tr>\n",
       "    <tr>\n",
       "      <th>617</th>\n",
       "      <td>2022-01-01</td>\n",
       "      <td>2022</td>\n",
       "      <td>1</td>\n",
       "      <td>1</td>\n",
       "      <td>12</td>\n",
       "      <td>101.666667</td>\n",
       "      <td>-0.01</td>\n",
       "      <td>0.35</td>\n",
       "      <td>0.300105</td>\n",
       "      <td>0.29</td>\n",
       "      <td>...</td>\n",
       "      <td>0</td>\n",
       "      <td>0</td>\n",
       "      <td>0</td>\n",
       "      <td>0</td>\n",
       "      <td>Assam</td>\n",
       "      <td>2-Wheelers</td>\n",
       "      <td>92</td>\n",
       "      <td>26097</td>\n",
       "      <td>0.003525</td>\n",
       "      <td>26005</td>\n",
       "    </tr>\n",
       "    <tr>\n",
       "      <th>619</th>\n",
       "      <td>2022-01-01</td>\n",
       "      <td>2022</td>\n",
       "      <td>1</td>\n",
       "      <td>1</td>\n",
       "      <td>12</td>\n",
       "      <td>493.333333</td>\n",
       "      <td>-0.12</td>\n",
       "      <td>0.80</td>\n",
       "      <td>0.587787</td>\n",
       "      <td>1.29</td>\n",
       "      <td>...</td>\n",
       "      <td>0</td>\n",
       "      <td>0</td>\n",
       "      <td>0</td>\n",
       "      <td>0</td>\n",
       "      <td>Bihar</td>\n",
       "      <td>2-Wheelers</td>\n",
       "      <td>409</td>\n",
       "      <td>51380</td>\n",
       "      <td>0.007960</td>\n",
       "      <td>50971</td>\n",
       "    </tr>\n",
       "    <tr>\n",
       "      <th>620</th>\n",
       "      <td>2022-01-01</td>\n",
       "      <td>2022</td>\n",
       "      <td>1</td>\n",
       "      <td>1</td>\n",
       "      <td>12</td>\n",
       "      <td>9.333333</td>\n",
       "      <td>0.43</td>\n",
       "      <td>0.18</td>\n",
       "      <td>0.165514</td>\n",
       "      <td>0.03</td>\n",
       "      <td>...</td>\n",
       "      <td>0</td>\n",
       "      <td>0</td>\n",
       "      <td>0</td>\n",
       "      <td>0</td>\n",
       "      <td>Bihar</td>\n",
       "      <td>4-Wheelers</td>\n",
       "      <td>10</td>\n",
       "      <td>5538</td>\n",
       "      <td>0.001806</td>\n",
       "      <td>5528</td>\n",
       "    </tr>\n",
       "    <tr>\n",
       "      <th>...</th>\n",
       "      <td>...</td>\n",
       "      <td>...</td>\n",
       "      <td>...</td>\n",
       "      <td>...</td>\n",
       "      <td>...</td>\n",
       "      <td>...</td>\n",
       "      <td>...</td>\n",
       "      <td>...</td>\n",
       "      <td>...</td>\n",
       "      <td>...</td>\n",
       "      <td>...</td>\n",
       "      <td>...</td>\n",
       "      <td>...</td>\n",
       "      <td>...</td>\n",
       "      <td>...</td>\n",
       "      <td>...</td>\n",
       "      <td>...</td>\n",
       "      <td>...</td>\n",
       "      <td>...</td>\n",
       "      <td>...</td>\n",
       "      <td>...</td>\n",
       "    </tr>\n",
       "    <tr>\n",
       "      <th>2440</th>\n",
       "      <td>2024-03-01</td>\n",
       "      <td>2024</td>\n",
       "      <td>3</td>\n",
       "      <td>1</td>\n",
       "      <td>38</td>\n",
       "      <td>394.000000</td>\n",
       "      <td>-0.01</td>\n",
       "      <td>1.13</td>\n",
       "      <td>0.756122</td>\n",
       "      <td>0.28</td>\n",
       "      <td>...</td>\n",
       "      <td>0</td>\n",
       "      <td>0</td>\n",
       "      <td>0</td>\n",
       "      <td>0</td>\n",
       "      <td>Uttar Pradesh</td>\n",
       "      <td>4-Wheelers</td>\n",
       "      <td>389</td>\n",
       "      <td>34425</td>\n",
       "      <td>0.011300</td>\n",
       "      <td>34036</td>\n",
       "    </tr>\n",
       "    <tr>\n",
       "      <th>2441</th>\n",
       "      <td>2024-03-01</td>\n",
       "      <td>2024</td>\n",
       "      <td>3</td>\n",
       "      <td>1</td>\n",
       "      <td>38</td>\n",
       "      <td>515.666667</td>\n",
       "      <td>-0.01</td>\n",
       "      <td>4.63</td>\n",
       "      <td>1.728109</td>\n",
       "      <td>0.42</td>\n",
       "      <td>...</td>\n",
       "      <td>0</td>\n",
       "      <td>0</td>\n",
       "      <td>0</td>\n",
       "      <td>0</td>\n",
       "      <td>Uttarakhand</td>\n",
       "      <td>2-Wheelers</td>\n",
       "      <td>579</td>\n",
       "      <td>12506</td>\n",
       "      <td>0.046298</td>\n",
       "      <td>11927</td>\n",
       "    </tr>\n",
       "    <tr>\n",
       "      <th>2442</th>\n",
       "      <td>2024-03-01</td>\n",
       "      <td>2024</td>\n",
       "      <td>3</td>\n",
       "      <td>1</td>\n",
       "      <td>38</td>\n",
       "      <td>53.333333</td>\n",
       "      <td>-0.15</td>\n",
       "      <td>1.06</td>\n",
       "      <td>0.722706</td>\n",
       "      <td>0.04</td>\n",
       "      <td>...</td>\n",
       "      <td>0</td>\n",
       "      <td>0</td>\n",
       "      <td>0</td>\n",
       "      <td>0</td>\n",
       "      <td>Uttarakhand</td>\n",
       "      <td>4-Wheelers</td>\n",
       "      <td>51</td>\n",
       "      <td>4812</td>\n",
       "      <td>0.010599</td>\n",
       "      <td>4761</td>\n",
       "    </tr>\n",
       "    <tr>\n",
       "      <th>2443</th>\n",
       "      <td>2024-03-01</td>\n",
       "      <td>2024</td>\n",
       "      <td>3</td>\n",
       "      <td>1</td>\n",
       "      <td>38</td>\n",
       "      <td>1712.000000</td>\n",
       "      <td>0.61</td>\n",
       "      <td>3.09</td>\n",
       "      <td>1.408545</td>\n",
       "      <td>1.56</td>\n",
       "      <td>...</td>\n",
       "      <td>0</td>\n",
       "      <td>0</td>\n",
       "      <td>0</td>\n",
       "      <td>0</td>\n",
       "      <td>West Bengal</td>\n",
       "      <td>2-Wheelers</td>\n",
       "      <td>2159</td>\n",
       "      <td>69871</td>\n",
       "      <td>0.030900</td>\n",
       "      <td>67712</td>\n",
       "    </tr>\n",
       "    <tr>\n",
       "      <th>2444</th>\n",
       "      <td>2024-03-01</td>\n",
       "      <td>2024</td>\n",
       "      <td>3</td>\n",
       "      <td>1</td>\n",
       "      <td>38</td>\n",
       "      <td>288.000000</td>\n",
       "      <td>1.68</td>\n",
       "      <td>6.12</td>\n",
       "      <td>1.962908</td>\n",
       "      <td>0.36</td>\n",
       "      <td>...</td>\n",
       "      <td>0</td>\n",
       "      <td>0</td>\n",
       "      <td>0</td>\n",
       "      <td>0</td>\n",
       "      <td>West Bengal</td>\n",
       "      <td>4-Wheelers</td>\n",
       "      <td>495</td>\n",
       "      <td>8089</td>\n",
       "      <td>0.061194</td>\n",
       "      <td>7594</td>\n",
       "    </tr>\n",
       "  </tbody>\n",
       "</table>\n",
       "<p>835 rows × 43 columns</p>\n",
       "</div>"
      ],
      "text/plain": [
       "            date  year  month  quarter  months_from_start  rolling_mean_ev  \\\n",
       "613   2022-01-01  2022      1        1                 12      1256.666667   \n",
       "614   2022-01-01  2022      1        1                 12        31.333333   \n",
       "617   2022-01-01  2022      1        1                 12       101.666667   \n",
       "619   2022-01-01  2022      1        1                 12       493.333333   \n",
       "620   2022-01-01  2022      1        1                 12         9.333333   \n",
       "...          ...   ...    ...      ...                ...              ...   \n",
       "2440  2024-03-01  2024      3        1                 38       394.000000   \n",
       "2441  2024-03-01  2024      3        1                 38       515.666667   \n",
       "2442  2024-03-01  2024      3        1                 38        53.333333   \n",
       "2443  2024-03-01  2024      3        1                 38      1712.000000   \n",
       "2444  2024-03-01  2024      3        1                 38       288.000000   \n",
       "\n",
       "      ev_growth_rate  ev_penetration  ev_penetration_log  \\\n",
       "613             0.70            2.80            1.335001   \n",
       "614            -0.06            0.34            0.292670   \n",
       "617            -0.01            0.35            0.300105   \n",
       "619            -0.12            0.80            0.587787   \n",
       "620             0.43            0.18            0.165514   \n",
       "...              ...             ...                 ...   \n",
       "2440           -0.01            1.13            0.756122   \n",
       "2441           -0.01            4.63            1.728109   \n",
       "2442           -0.15            1.06            0.722706   \n",
       "2443            0.61            3.09            1.408545   \n",
       "2444            1.68            6.12            1.962908   \n",
       "\n",
       "      national_market_share  ...  is_missing_segment_preference_ratio  \\\n",
       "613                    5.28  ...                                    0   \n",
       "614                    0.09  ...                                    0   \n",
       "617                    0.29  ...                                    0   \n",
       "619                    1.29  ...                                    0   \n",
       "620                    0.03  ...                                    0   \n",
       "...                     ...  ...                                  ...   \n",
       "2440                   0.28  ...                                    0   \n",
       "2441                   0.42  ...                                    0   \n",
       "2442                   0.04  ...                                    0   \n",
       "2443                   1.56  ...                                    0   \n",
       "2444                   0.36  ...                                    0   \n",
       "\n",
       "     is_missing_segment_growth_diff  is_missing_regional_avg_penetration  \\\n",
       "613                               0                                    0   \n",
       "614                               0                                    0   \n",
       "617                               0                                    0   \n",
       "619                               0                                    0   \n",
       "620                               0                                    0   \n",
       "...                             ...                                  ...   \n",
       "2440                              0                                    0   \n",
       "2441                              0                                    0   \n",
       "2442                              0                                    0   \n",
       "2443                              0                                    0   \n",
       "2444                              0                                    0   \n",
       "\n",
       "     is_missing_adoption_velocity           state  vehicle_category  \\\n",
       "613                             0  Andhra Pradesh        2-Wheelers   \n",
       "614                             0  Andhra Pradesh        4-Wheelers   \n",
       "617                             0           Assam        2-Wheelers   \n",
       "619                             0           Bihar        2-Wheelers   \n",
       "620                             0           Bihar        4-Wheelers   \n",
       "...                           ...             ...               ...   \n",
       "2440                            0   Uttar Pradesh        4-Wheelers   \n",
       "2441                            0     Uttarakhand        2-Wheelers   \n",
       "2442                            0     Uttarakhand        4-Wheelers   \n",
       "2443                            0     West Bengal        2-Wheelers   \n",
       "2444                            0     West Bengal        4-Wheelers   \n",
       "\n",
       "      electric_vehicles_sold  total_vehicles_sold  ev_penetration_rate  \\\n",
       "613                     1671                59712             0.027984   \n",
       "614                       29                 8418             0.003445   \n",
       "617                       92                26097             0.003525   \n",
       "619                      409                51380             0.007960   \n",
       "620                       10                 5538             0.001806   \n",
       "...                      ...                  ...                  ...   \n",
       "2440                     389                34425             0.011300   \n",
       "2441                     579                12506             0.046298   \n",
       "2442                      51                 4812             0.010599   \n",
       "2443                    2159                69871             0.030900   \n",
       "2444                     495                 8089             0.061194   \n",
       "\n",
       "      none_ev_sales  \n",
       "613           58041  \n",
       "614            8389  \n",
       "617           26005  \n",
       "619           50971  \n",
       "620            5528  \n",
       "...             ...  \n",
       "2440          34036  \n",
       "2441          11927  \n",
       "2442           4761  \n",
       "2443          67712  \n",
       "2444           7594  \n",
       "\n",
       "[835 rows x 43 columns]"
      ]
     },
     "metadata": {},
     "output_type": "display_data"
    },
    {
     "data": {
      "text/html": [
       "<div>\n",
       "<style scoped>\n",
       "    .dataframe tbody tr th:only-of-type {\n",
       "        vertical-align: middle;\n",
       "    }\n",
       "\n",
       "    .dataframe tbody tr th {\n",
       "        vertical-align: top;\n",
       "    }\n",
       "\n",
       "    .dataframe thead th {\n",
       "        text-align: right;\n",
       "    }\n",
       "</style>\n",
       "<table border=\"1\" class=\"dataframe\">\n",
       "  <thead>\n",
       "    <tr style=\"text-align: right;\">\n",
       "      <th></th>\n",
       "      <th>electric_vehicles_sold</th>\n",
       "      <th>none_ev_sales</th>\n",
       "    </tr>\n",
       "  </thead>\n",
       "  <tbody>\n",
       "    <tr>\n",
       "      <th>count</th>\n",
       "      <td>1018.000000</td>\n",
       "      <td>1018.000000</td>\n",
       "    </tr>\n",
       "    <tr>\n",
       "      <th>mean</th>\n",
       "      <td>968.531434</td>\n",
       "      <td>22987.290766</td>\n",
       "    </tr>\n",
       "    <tr>\n",
       "      <th>std</th>\n",
       "      <td>2354.167254</td>\n",
       "      <td>36515.381432</td>\n",
       "    </tr>\n",
       "    <tr>\n",
       "      <th>min</th>\n",
       "      <td>0.000000</td>\n",
       "      <td>-570.000000</td>\n",
       "    </tr>\n",
       "    <tr>\n",
       "      <th>25%</th>\n",
       "      <td>3.000000</td>\n",
       "      <td>1244.250000</td>\n",
       "    </tr>\n",
       "    <tr>\n",
       "      <th>50%</th>\n",
       "      <td>61.000000</td>\n",
       "      <td>6237.500000</td>\n",
       "    </tr>\n",
       "    <tr>\n",
       "      <th>75%</th>\n",
       "      <td>658.250000</td>\n",
       "      <td>29333.750000</td>\n",
       "    </tr>\n",
       "    <tr>\n",
       "      <th>max</th>\n",
       "      <td>26668.000000</td>\n",
       "      <td>276423.000000</td>\n",
       "    </tr>\n",
       "  </tbody>\n",
       "</table>\n",
       "</div>"
      ],
      "text/plain": [
       "       electric_vehicles_sold  none_ev_sales\n",
       "count             1018.000000    1018.000000\n",
       "mean               968.531434   22987.290766\n",
       "std               2354.167254   36515.381432\n",
       "min                  0.000000    -570.000000\n",
       "25%                  3.000000    1244.250000\n",
       "50%                 61.000000    6237.500000\n",
       "75%                658.250000   29333.750000\n",
       "max              26668.000000  276423.000000"
      ]
     },
     "metadata": {},
     "output_type": "display_data"
    }
   ],
   "source": [
    "# Calculate non-EV sales by subtracting EV sales from total sales\n",
    "state_sales_filtered['none_ev_sales'] = state_sales_filtered['total_vehicles_sold'] - state_sales_filtered['electric_vehicles_sold']\n",
    "\n",
    "# Display rows where EV sales are greater than 0\n",
    "display(state_sales_filtered.loc[state_sales_filtered['electric_vehicles_sold'] > 0])\n",
    "\n",
    "# Display statistical summary of numeric columns\n",
    "display(state_sales_filtered[['electric_vehicles_sold', 'none_ev_sales']].describe())"
   ]
  },
  {
   "cell_type": "code",
   "execution_count": null,
   "id": "bee8e164",
   "metadata": {},
   "outputs": [],
   "source": []
  },
  {
   "cell_type": "code",
   "execution_count": 18,
   "id": "c588be4d",
   "metadata": {},
   "outputs": [
    {
     "data": {
      "text/html": [
       "<div>\n",
       "<style scoped>\n",
       "    .dataframe tbody tr th:only-of-type {\n",
       "        vertical-align: middle;\n",
       "    }\n",
       "\n",
       "    .dataframe tbody tr th {\n",
       "        vertical-align: top;\n",
       "    }\n",
       "\n",
       "    .dataframe thead th {\n",
       "        text-align: right;\n",
       "    }\n",
       "</style>\n",
       "<table border=\"1\" class=\"dataframe\">\n",
       "  <thead>\n",
       "    <tr style=\"text-align: right;\">\n",
       "      <th></th>\n",
       "      <th>year</th>\n",
       "      <th>state</th>\n",
       "      <th>none_ev_sales</th>\n",
       "    </tr>\n",
       "  </thead>\n",
       "  <tbody>\n",
       "    <tr>\n",
       "      <th>0</th>\n",
       "      <td>2022</td>\n",
       "      <td>Andaman and Nicobar Islands</td>\n",
       "      <td>6373</td>\n",
       "    </tr>\n",
       "    <tr>\n",
       "      <th>1</th>\n",
       "      <td>2022</td>\n",
       "      <td>Andhra Pradesh</td>\n",
       "      <td>704776</td>\n",
       "    </tr>\n",
       "    <tr>\n",
       "      <th>2</th>\n",
       "      <td>2022</td>\n",
       "      <td>Arunachal Pradesh</td>\n",
       "      <td>23240</td>\n",
       "    </tr>\n",
       "    <tr>\n",
       "      <th>3</th>\n",
       "      <td>2022</td>\n",
       "      <td>Assam</td>\n",
       "      <td>431543</td>\n",
       "    </tr>\n",
       "    <tr>\n",
       "      <th>4</th>\n",
       "      <td>2022</td>\n",
       "      <td>Bihar</td>\n",
       "      <td>973626</td>\n",
       "    </tr>\n",
       "  </tbody>\n",
       "</table>\n",
       "</div>"
      ],
      "text/plain": [
       "   year                        state  none_ev_sales\n",
       "0  2022  Andaman and Nicobar Islands           6373\n",
       "1  2022               Andhra Pradesh         704776\n",
       "2  2022            Arunachal Pradesh          23240\n",
       "3  2022                        Assam         431543\n",
       "4  2022                        Bihar         973626"
      ]
     },
     "metadata": {},
     "output_type": "display_data"
    }
   ],
   "source": [
    "df_grouped = state_sales_filtered.groupby(['year', 'state'], as_index=False)['none_ev_sales'].sum()\n",
    "\n",
    "display(df_grouped.head())"
   ]
  },
  {
   "cell_type": "code",
   "execution_count": 19,
   "id": "b0693c51",
   "metadata": {},
   "outputs": [
    {
     "data": {
      "text/html": [
       "<div>\n",
       "<style scoped>\n",
       "    .dataframe tbody tr th:only-of-type {\n",
       "        vertical-align: middle;\n",
       "    }\n",
       "\n",
       "    .dataframe tbody tr th {\n",
       "        vertical-align: top;\n",
       "    }\n",
       "\n",
       "    .dataframe thead th {\n",
       "        text-align: right;\n",
       "    }\n",
       "</style>\n",
       "<table border=\"1\" class=\"dataframe\">\n",
       "  <thead>\n",
       "    <tr style=\"text-align: right;\">\n",
       "      <th>year</th>\n",
       "      <th>state</th>\n",
       "      <th>sales_2022</th>\n",
       "      <th>sales_2024</th>\n",
       "    </tr>\n",
       "  </thead>\n",
       "  <tbody>\n",
       "    <tr>\n",
       "      <th>0</th>\n",
       "      <td>Andaman and Nicobar Islands</td>\n",
       "      <td>6373</td>\n",
       "      <td>1908</td>\n",
       "    </tr>\n",
       "    <tr>\n",
       "      <th>1</th>\n",
       "      <td>Andhra Pradesh</td>\n",
       "      <td>704776</td>\n",
       "      <td>189146</td>\n",
       "    </tr>\n",
       "    <tr>\n",
       "      <th>2</th>\n",
       "      <td>Arunachal Pradesh</td>\n",
       "      <td>23240</td>\n",
       "      <td>6800</td>\n",
       "    </tr>\n",
       "    <tr>\n",
       "      <th>3</th>\n",
       "      <td>Assam</td>\n",
       "      <td>431543</td>\n",
       "      <td>146247</td>\n",
       "    </tr>\n",
       "    <tr>\n",
       "      <th>4</th>\n",
       "      <td>Bihar</td>\n",
       "      <td>973626</td>\n",
       "      <td>273060</td>\n",
       "    </tr>\n",
       "  </tbody>\n",
       "</table>\n",
       "</div>"
      ],
      "text/plain": [
       "year                        state  sales_2022  sales_2024\n",
       "0     Andaman and Nicobar Islands        6373        1908\n",
       "1                  Andhra Pradesh      704776      189146\n",
       "2               Arunachal Pradesh       23240        6800\n",
       "3                           Assam      431543      146247\n",
       "4                           Bihar      973626      273060"
      ]
     },
     "metadata": {},
     "output_type": "display_data"
    }
   ],
   "source": [
    "# pivot\n",
    "df_pivot = (\n",
    "  df_grouped.pivot(index='state', columns='year', values='none_ev_sales')\n",
    "  .rename(columns={2022: 'sales_2022', 2024: 'sales_2024'})\n",
    "  .reset_index()\n",
    ")\n",
    "\n",
    "display(df_pivot.head())"
   ]
  },
  {
   "cell_type": "code",
   "execution_count": 20,
   "id": "f24d6976",
   "metadata": {},
   "outputs": [
    {
     "data": {
      "text/html": [
       "<div>\n",
       "<style scoped>\n",
       "    .dataframe tbody tr th:only-of-type {\n",
       "        vertical-align: middle;\n",
       "    }\n",
       "\n",
       "    .dataframe tbody tr th {\n",
       "        vertical-align: top;\n",
       "    }\n",
       "\n",
       "    .dataframe thead th {\n",
       "        text-align: right;\n",
       "    }\n",
       "</style>\n",
       "<table border=\"1\" class=\"dataframe\">\n",
       "  <thead>\n",
       "    <tr style=\"text-align: right;\">\n",
       "      <th>year</th>\n",
       "      <th>state</th>\n",
       "      <th>sales_2022</th>\n",
       "      <th>sales_2024</th>\n",
       "      <th>CAGR</th>\n",
       "    </tr>\n",
       "  </thead>\n",
       "  <tbody>\n",
       "    <tr>\n",
       "      <th>0</th>\n",
       "      <td>Andaman and Nicobar Islands</td>\n",
       "      <td>6373</td>\n",
       "      <td>1908</td>\n",
       "      <td>-45.28</td>\n",
       "    </tr>\n",
       "    <tr>\n",
       "      <th>1</th>\n",
       "      <td>Andhra Pradesh</td>\n",
       "      <td>704776</td>\n",
       "      <td>189146</td>\n",
       "      <td>-48.19</td>\n",
       "    </tr>\n",
       "    <tr>\n",
       "      <th>2</th>\n",
       "      <td>Arunachal Pradesh</td>\n",
       "      <td>23240</td>\n",
       "      <td>6800</td>\n",
       "      <td>-45.91</td>\n",
       "    </tr>\n",
       "    <tr>\n",
       "      <th>3</th>\n",
       "      <td>Assam</td>\n",
       "      <td>431543</td>\n",
       "      <td>146247</td>\n",
       "      <td>-41.79</td>\n",
       "    </tr>\n",
       "    <tr>\n",
       "      <th>4</th>\n",
       "      <td>Bihar</td>\n",
       "      <td>973626</td>\n",
       "      <td>273060</td>\n",
       "      <td>-47.04</td>\n",
       "    </tr>\n",
       "  </tbody>\n",
       "</table>\n",
       "</div>"
      ],
      "text/plain": [
       "year                        state  sales_2022  sales_2024   CAGR\n",
       "0     Andaman and Nicobar Islands        6373        1908 -45.28\n",
       "1                  Andhra Pradesh      704776      189146 -48.19\n",
       "2               Arunachal Pradesh       23240        6800 -45.91\n",
       "3                           Assam      431543      146247 -41.79\n",
       "4                           Bihar      973626      273060 -47.04"
      ]
     },
     "metadata": {},
     "output_type": "display_data"
    }
   ],
   "source": [
    "# ev_state_pt['CAGR'] = (\n",
    "#   (\n",
    "#     (ev_state_pt['sales_2024'] / ev_state_pt['sales_2022']) ** (1/2) - 1\n",
    "#   ) * 100\n",
    "# ).round(2) # in %\n",
    "\n",
    "df_pivot[\"CAGR\"] = (\n",
    "    ((df_pivot[\"sales_2024\"] / df_pivot[\"sales_2022\"]) ** (1 / 2) - 1) * 100\n",
    ").round(\n",
    "    2\n",
    ") \n",
    "\n",
    "\n",
    "display(df_pivot.head())"
   ]
  },
  {
   "cell_type": "code",
   "execution_count": 21,
   "id": "69bf8663",
   "metadata": {},
   "outputs": [
    {
     "data": {
      "text/plain": [
       "year\n",
       "state         0\n",
       "sales_2022    0\n",
       "sales_2024    0\n",
       "CAGR          0\n",
       "dtype: int64"
      ]
     },
     "metadata": {},
     "output_type": "display_data"
    },
    {
     "data": {
      "text/plain": [
       "year\n",
       "state         0\n",
       "sales_2022    0\n",
       "sales_2024    0\n",
       "CAGR          0\n",
       "dtype: int64"
      ]
     },
     "metadata": {},
     "output_type": "display_data"
    }
   ],
   "source": [
    "display(df_pivot.isna().sum())\n",
    "display(df_pivot.isnull().sum())\n",
    "\n",
    "\n",
    "df_pivot = df_pivot[df_pivot['sales_2022'] > 0]"
   ]
  },
  {
   "cell_type": "code",
   "execution_count": 22,
   "id": "39e63d5b",
   "metadata": {},
   "outputs": [],
   "source": [
    "df_top10 = df_pivot.sort_values(by='CAGR', ascending=False).head(10)"
   ]
  },
  {
   "cell_type": "code",
   "execution_count": 23,
   "id": "e1e23b8b",
   "metadata": {},
   "outputs": [
    {
     "data": {
      "image/png": "[encoded data removed]",
      "text/plain": [
       "<Figure size 1000x600 with 1 Axes>"
      ]
     },
     "metadata": {},
     "output_type": "display_data"
    }
   ],
   "source": [
    "# Sort for plotting\n",
    "df_top10_sorted = df_top10.sort_values(\"CAGR\")\n",
    "\n",
    "# Create color mapping: green if positive, red if negative\n",
    "colors = [\"#2ecc71\" if val > 0 else \"#e74c3c\" for val in df_top10_sorted[\"CAGR\"]]\n",
    "\n",
    "plt.figure(figsize=(10, 6))\n",
    "plt.barh(df_top10_sorted[\"state\"], df_top10_sorted[\"CAGR\"], color=colors)\n",
    "plt.xlabel(\"CAGR (%)\")\n",
    "plt.ylabel(\"State\")\n",
    "plt.title(\"Top 10 States by CAGR (2022–2024) in Total Vehicle Sales\")\n",
    "plt.grid(axis=\"x\", linestyle=\"--\", alpha=0.7)\n",
    "\n",
    "# Add labels to bars\n",
    "for index, value in enumerate(df_top10_sorted[\"CAGR\"]):\n",
    "    plt.text(value, index, f\"{value:.2f}%\", va=\"center\");"
   ]
  },
  {
   "cell_type": "code",
   "execution_count": 24,
   "id": "f4f1c17d",
   "metadata": {},
   "outputs": [
    {
     "data": {
      "image/png": "[encoded data removed]",
      "text/plain": [
       "<Figure size 1500x500 with 2 Axes>"
      ]
     },
     "metadata": {},
     "output_type": "display_data"
    }
   ],
   "source": [
    "# Calculate means\n",
    "mean_non_ev = df_pivot['sales_2024'].mean()\n",
    "mean_ev = ev_state_pt['sales_2024'].mean()\n",
    "\n",
    "# Create subplots\n",
    "fig, (ax1, ax2) = plt.subplots(1, 2, figsize=(15,5))\n",
    "\n",
    "# Non-EV sales distribution with density curve\n",
    "sns.kdeplot(data=df_pivot['sales_2024'], alpha=0.7, color='skyblue', ax=ax1)\n",
    "ax1.axvline(mean_non_ev, color='red', linestyle='--', linewidth=2)\n",
    "ax1.text(mean_non_ev, ax1.get_ylim()[1]*0.9, f\"Mean: {mean_non_ev:.0f}\",\n",
    "         color='red', rotation=90, va='top', ha='right', fontsize=9)\n",
    "ax1.set_title('Non-EV Sales Distribution (2024)')\n",
    "ax1.set_xlabel('Number of Sales')\n",
    "ax1.set_ylabel('Density')\n",
    "\n",
    "# EV sales distribution with density curve\n",
    "sns.kdeplot(data=ev_state_pt['sales_2024'], alpha=0.7, color='lightgreen', ax=ax2)\n",
    "ax2.axvline(mean_ev, color='red', linestyle='--', linewidth=2)\n",
    "ax2.text(mean_ev, ax2.get_ylim()[1]*0.9, f\"Mean: {mean_ev:.0f}\",\n",
    "         color='red', rotation=90, va='top', ha='right', fontsize=9)\n",
    "ax2.set_title('EV Sales Distribution (2024)') \n",
    "ax2.set_xlabel('Number of Sales')\n",
    "ax2.set_ylabel('Density')\n",
    "\n",
    "plt.tight_layout()\n",
    "plt.show()\n"
   ]
  },
  {
   "cell_type": "code",
   "execution_count": 25,
   "id": "2b01cdbc",
   "metadata": {},
   "outputs": [
    {
     "data": {
      "application/vnd.plotly.v1+json": {
       "config": {
        "plotlyServerURL": "https://plot.ly"
       },
       "data": [
        {
         "alignmentgroup": "True",
         "boxpoints": "all",
         "hovertemplate": "sales_2024=%{y}<extra></extra>",
         "legendgroup": "",
         "marker": {
          "color": "skyblue"
         },
         "name": "",
         "notched": false,
         "offsetgroup": "",
         "orientation": "v",
         "showlegend": false,
         "type": "box",
         "x0": " ",
         "xaxis": "x",
         "y": {
          "bdata": "dAcAANriAgCQGgAARzsCAKQqBAC7HgAAUwsCAKYPAADiLAIArkEAAH0sBQCr/wIAJHEAAONyAACgwAEACssFADvyAQAzAQAA98cEAOcnCABzFgAAayUAAHIcAABoFQAAYMcBAK0/AABWMAIAdGYEAAgKAACoEgcAGC0AAMyUCgDkywAAXZ4DAA==",
          "dtype": "i4"
         },
         "y0": " ",
         "yaxis": "y"
        },
        {
         "alignmentgroup": "True",
         "boxpoints": "all",
         "hovertemplate": "sales_2024=%{y}<extra></extra>",
         "legendgroup": "",
         "marker": {
          "color": "lightgreen"
         },
         "name": "",
         "notched": false,
         "offsetgroup": "",
         "orientation": "v",
         "showlegend": false,
         "type": "box",
         "x0": " ",
         "xaxis": "x2",
         "y": {
          "bdata": "CwAAAF4xAAAKAAAAVAUAABkVAAD7AgAAJSEAAFwAAADdMwAAIw8AANBQAAAMEgAAFAEAACEDAACgCAAAL8gAAAVYAAAOAAAAYzYAAH/xAAAnAAAAMQAAAIoAAAADAAAAIR8AALIEAAB0DgAASkoAADt7AABOAAAA1lIAAKsGAABwFwAA",
          "dtype": "i4"
         },
         "y0": " ",
         "yaxis": "y2"
        }
       ],
       "layout": {
        "annotations": [
         {
          "font": {
           "size": 16
          },
          "showarrow": false,
          "text": "Non-EV Sales",
          "x": 0.225,
          "xanchor": "center",
          "xref": "paper",
          "y": 1,
          "yanchor": "bottom",
          "yref": "paper"
         },
         {
          "font": {
           "size": 16
          },
          "showarrow": false,
          "text": "EV Sales",
          "x": 0.775,
          "xanchor": "center",
          "xref": "paper",
          "y": 1,
          "yanchor": "bottom",
          "yref": "paper"
         }
        ],
        "template": {
         "data": {
          "bar": [
           {
            "error_x": {
             "color": "#2a3f5f"
            },
            "error_y": {
             "color": "#2a3f5f"
            },
            "marker": {
             "line": {
              "color": "#E5ECF6",
              "width": 0.5
             },
             "pattern": {
              "fillmode": "overlay",
              "size": 10,
              "solidity": 0.2
             }
            },
            "type": "bar"
           }
          ],
          "barpolar": [
           {
            "marker": {
             "line": {
              "color": "#E5ECF6",
              "width": 0.5
             },
             "pattern": {
              "fillmode": "overlay",
              "size": 10,
              "solidity": 0.2
             }
            },
            "type": "barpolar"
           }
          ],
          "carpet": [
           {
            "aaxis": {
             "endlinecolor": "#2a3f5f",
             "gridcolor": "white",
             "linecolor": "white",
             "minorgridcolor": "white",
             "startlinecolor": "#2a3f5f"
            },
            "baxis": {
             "endlinecolor": "#2a3f5f",
             "gridcolor": "white",
             "linecolor": "white",
             "minorgridcolor": "white",
             "startlinecolor": "#2a3f5f"
            },
            "type": "carpet"
           }
          ],
          "choropleth": [
           {
            "colorbar": {
             "outlinewidth": 0,
             "ticks": ""
            },
            "type": "choropleth"
           }
          ],
          "contour": [
           {
            "colorbar": {
             "outlinewidth": 0,
             "ticks": ""
            },
            "colorscale": [
             [
              0,
              "#0d0887"
             ],
             [
              0.1111111111111111,
              "#46039f"
             ],
             [
              0.2222222222222222,
              "#7201a8"
             ],
             [
              0.3333333333333333,
              "#9c179e"
             ],
             [
              0.4444444444444444,
              "#bd3786"
             ],
             [
              0.5555555555555556,
              "#d8576b"
             ],
             [
              0.6666666666666666,
              "#ed7953"
             ],
             [
              0.7777777777777778,
              "#fb9f3a"
             ],
             [
              0.8888888888888888,
              "#fdca26"
             ],
             [
              1,
              "#f0f921"
             ]
            ],
            "type": "contour"
           }
          ],
          "contourcarpet": [
           {
            "colorbar": {
             "outlinewidth": 0,
             "ticks": ""
            },
            "type": "contourcarpet"
           }
          ],
          "heatmap": [
           {
            "colorbar": {
             "outlinewidth": 0,
             "ticks": ""
            },
            "colorscale": [
             [
              0,
              "#0d0887"
             ],
             [
              0.1111111111111111,
              "#46039f"
             ],
             [
              0.2222222222222222,
              "#7201a8"
             ],
             [
              0.3333333333333333,
              "#9c179e"
             ],
             [
              0.4444444444444444,
              "#bd3786"
             ],
             [
              0.5555555555555556,
              "#d8576b"
             ],
             [
              0.6666666666666666,
              "#ed7953"
             ],
             [
              0.7777777777777778,
              "#fb9f3a"
             ],
             [
              0.8888888888888888,
              "#fdca26"
             ],
             [
              1,
              "#f0f921"
             ]
            ],
            "type": "heatmap"
           }
          ],
          "histogram": [
           {
            "marker": {
             "pattern": {
              "fillmode": "overlay",
              "size": 10,
              "solidity": 0.2
             }
            },
            "type": "histogram"
           }
          ],
          "histogram2d": [
           {
            "colorbar": {
             "outlinewidth": 0,
             "ticks": ""
            },
            "colorscale": [
             [
              0,
              "#0d0887"
             ],
             [
              0.1111111111111111,
              "#46039f"
             ],
             [
              0.2222222222222222,
              "#7201a8"
             ],
             [
              0.3333333333333333,
              "#9c179e"
             ],
             [
              0.4444444444444444,
              "#bd3786"
             ],
             [
              0.5555555555555556,
              "#d8576b"
             ],
             [
              0.6666666666666666,
              "#ed7953"
             ],
             [
              0.7777777777777778,
              "#fb9f3a"
             ],
             [
              0.8888888888888888,
              "#fdca26"
             ],
             [
              1,
              "#f0f921"
             ]
            ],
            "type": "histogram2d"
           }
          ],
          "histogram2dcontour": [
           {
            "colorbar": {
             "outlinewidth": 0,
             "ticks": ""
            },
            "colorscale": [
             [
              0,
              "#0d0887"
             ],
             [
              0.1111111111111111,
              "#46039f"
             ],
             [
              0.2222222222222222,
              "#7201a8"
             ],
             [
              0.3333333333333333,
              "#9c179e"
             ],
             [
              0.4444444444444444,
              "#bd3786"
             ],
             [
              0.5555555555555556,
              "#d8576b"
             ],
             [
              0.6666666666666666,
              "#ed7953"
             ],
             [
              0.7777777777777778,
              "#fb9f3a"
             ],
             [
              0.8888888888888888,
              "#fdca26"
             ],
             [
              1,
              "#f0f921"
             ]
            ],
            "type": "histogram2dcontour"
           }
          ],
          "mesh3d": [
           {
            "colorbar": {
             "outlinewidth": 0,
             "ticks": ""
            },
            "type": "mesh3d"
           }
          ],
          "parcoords": [
           {
            "line": {
             "colorbar": {
              "outlinewidth": 0,
              "ticks": ""
             }
            },
            "type": "parcoords"
           }
          ],
          "pie": [
           {
            "automargin": true,
            "type": "pie"
           }
          ],
          "scatter": [
           {
            "fillpattern": {
             "fillmode": "overlay",
             "size": 10,
             "solidity": 0.2
            },
            "type": "scatter"
           }
          ],
          "scatter3d": [
           {
            "line": {
             "colorbar": {
              "outlinewidth": 0,
              "ticks": ""
             }
            },
            "marker": {
             "colorbar": {
              "outlinewidth": 0,
              "ticks": ""
             }
            },
            "type": "scatter3d"
           }
          ],
          "scattercarpet": [
           {
            "marker": {
             "colorbar": {
              "outlinewidth": 0,
              "ticks": ""
             }
            },
            "type": "scattercarpet"
           }
          ],
          "scattergeo": [
           {
            "marker": {
             "colorbar": {
              "outlinewidth": 0,
              "ticks": ""
             }
            },
            "type": "scattergeo"
           }
          ],
          "scattergl": [
           {
            "marker": {
             "colorbar": {
              "outlinewidth": 0,
              "ticks": ""
             }
            },
            "type": "scattergl"
           }
          ],
          "scattermap": [
           {
            "marker": {
             "colorbar": {
              "outlinewidth": 0,
              "ticks": ""
             }
            },
            "type": "scattermap"
           }
          ],
          "scattermapbox": [
           {
            "marker": {
             "colorbar": {
              "outlinewidth": 0,
              "ticks": ""
             }
            },
            "type": "scattermapbox"
           }
          ],
          "scatterpolar": [
           {
            "marker": {
             "colorbar": {
              "outlinewidth": 0,
              "ticks": ""
             }
            },
            "type": "scatterpolar"
           }
          ],
          "scatterpolargl": [
           {
            "marker": {
             "colorbar": {
              "outlinewidth": 0,
              "ticks": ""
             }
            },
            "type": "scatterpolargl"
           }
          ],
          "scatterternary": [
           {
            "marker": {
             "colorbar": {
              "outlinewidth": 0,
              "ticks": ""
             }
            },
            "type": "scatterternary"
           }
          ],
          "surface": [
           {
            "colorbar": {
             "outlinewidth": 0,
             "ticks": ""
            },
            "colorscale": [
             [
              0,
              "#0d0887"
             ],
             [
              0.1111111111111111,
              "#46039f"
             ],
             [
              0.2222222222222222,
              "#7201a8"
             ],
             [
              0.3333333333333333,
              "#9c179e"
             ],
             [
              0.4444444444444444,
              "#bd3786"
             ],
             [
              0.5555555555555556,
              "#d8576b"
             ],
             [
              0.6666666666666666,
              "#ed7953"
             ],
             [
              0.7777777777777778,
              "#fb9f3a"
             ],
             [
              0.8888888888888888,
              "#fdca26"
             ],
             [
              1,
              "#f0f921"
             ]
            ],
            "type": "surface"
           }
          ],
          "table": [
           {
            "cells": {
             "fill": {
              "color": "#EBF0F8"
             },
             "line": {
              "color": "white"
             }
            },
            "header": {
             "fill": {
              "color": "#C8D4E3"
             },
             "line": {
              "color": "white"
             }
            },
            "type": "table"
           }
          ]
         },
         "layout": {
          "annotationdefaults": {
           "arrowcolor": "#2a3f5f",
           "arrowhead": 0,
           "arrowwidth": 1
          },
          "autotypenumbers": "strict",
          "coloraxis": {
           "colorbar": {
            "outlinewidth": 0,
            "ticks": ""
           }
          },
          "colorscale": {
           "diverging": [
            [
             0,
             "#8e0152"
            ],
            [
             0.1,
             "#c51b7d"
            ],
            [
             0.2,
             "#de77ae"
            ],
            [
             0.3,
             "#f1b6da"
            ],
            [
             0.4,
             "#fde0ef"
            ],
            [
             0.5,
             "#f7f7f7"
            ],
            [
             0.6,
             "#e6f5d0"
            ],
            [
             0.7,
             "#b8e186"
            ],
            [
             0.8,
             "#7fbc41"
            ],
            [
             0.9,
             "#4d9221"
            ],
            [
             1,
             "#276419"
            ]
           ],
           "sequential": [
            [
             0,
             "#0d0887"
            ],
            [
             0.1111111111111111,
             "#46039f"
            ],
            [
             0.2222222222222222,
             "#7201a8"
            ],
            [
             0.3333333333333333,
             "#9c179e"
            ],
            [
             0.4444444444444444,
             "#bd3786"
            ],
            [
             0.5555555555555556,
             "#d8576b"
            ],
            [
             0.6666666666666666,
             "#ed7953"
            ],
            [
             0.7777777777777778,
             "#fb9f3a"
            ],
            [
             0.8888888888888888,
             "#fdca26"
            ],
            [
             1,
             "#f0f921"
            ]
           ],
           "sequentialminus": [
            [
             0,
             "#0d0887"
            ],
            [
             0.1111111111111111,
             "#46039f"
            ],
            [
             0.2222222222222222,
             "#7201a8"
            ],
            [
             0.3333333333333333,
             "#9c179e"
            ],
            [
             0.4444444444444444,
             "#bd3786"
            ],
            [
             0.5555555555555556,
             "#d8576b"
            ],
            [
             0.6666666666666666,
             "#ed7953"
            ],
            [
             0.7777777777777778,
             "#fb9f3a"
            ],
            [
             0.8888888888888888,
             "#fdca26"
            ],
            [
             1,
             "#f0f921"
            ]
           ]
          },
          "colorway": [
           "#636efa",
           "#EF553B",
           "#00cc96",
           "#ab63fa",
           "#FFA15A",
           "#19d3f3",
           "#FF6692",
           "#B6E880",
           "#FF97FF",
           "#FECB52"
          ],
          "font": {
           "color": "#2a3f5f"
          },
          "geo": {
           "bgcolor": "white",
           "lakecolor": "white",
           "landcolor": "#E5ECF6",
           "showlakes": true,
           "showland": true,
           "subunitcolor": "white"
          },
          "hoverlabel": {
           "align": "left"
          },
          "hovermode": "closest",
          "mapbox": {
           "style": "light"
          },
          "paper_bgcolor": "white",
          "plot_bgcolor": "#E5ECF6",
          "polar": {
           "angularaxis": {
            "gridcolor": "white",
            "linecolor": "white",
            "ticks": ""
           },
           "bgcolor": "#E5ECF6",
           "radialaxis": {
            "gridcolor": "white",
            "linecolor": "white",
            "ticks": ""
           }
          },
          "scene": {
           "xaxis": {
            "backgroundcolor": "#E5ECF6",
            "gridcolor": "white",
            "gridwidth": 2,
            "linecolor": "white",
            "showbackground": true,
            "ticks": "",
            "zerolinecolor": "white"
           },
           "yaxis": {
            "backgroundcolor": "#E5ECF6",
            "gridcolor": "white",
            "gridwidth": 2,
            "linecolor": "white",
            "showbackground": true,
            "ticks": "",
            "zerolinecolor": "white"
           },
           "zaxis": {
            "backgroundcolor": "#E5ECF6",
            "gridcolor": "white",
            "gridwidth": 2,
            "linecolor": "white",
            "showbackground": true,
            "ticks": "",
            "zerolinecolor": "white"
           }
          },
          "shapedefaults": {
           "line": {
            "color": "#2a3f5f"
           }
          },
          "ternary": {
           "aaxis": {
            "gridcolor": "white",
            "linecolor": "white",
            "ticks": ""
           },
           "baxis": {
            "gridcolor": "white",
            "linecolor": "white",
            "ticks": ""
           },
           "bgcolor": "#E5ECF6",
           "caxis": {
            "gridcolor": "white",
            "linecolor": "white",
            "ticks": ""
           }
          },
          "title": {
           "x": 0.05
          },
          "xaxis": {
           "automargin": true,
           "gridcolor": "white",
           "linecolor": "white",
           "ticks": "",
           "title": {
            "standoff": 15
           },
           "zerolinecolor": "white",
           "zerolinewidth": 2
          },
          "yaxis": {
           "automargin": true,
           "gridcolor": "white",
           "linecolor": "white",
           "ticks": "",
           "title": {
            "standoff": 15
           },
           "zerolinecolor": "white",
           "zerolinewidth": 2
          }
         }
        },
        "title": {
         "text": "Distribution of 2024 Vehicle Sales"
        },
        "xaxis": {
         "anchor": "y",
         "domain": [
          0,
          0.45
         ]
        },
        "xaxis2": {
         "anchor": "y2",
         "domain": [
          0.55,
          1
         ]
        },
        "yaxis": {
         "anchor": "x",
         "domain": [
          0,
          1
         ]
        },
        "yaxis2": {
         "anchor": "x2",
         "domain": [
          0,
          1
         ]
        }
       }
      },
      "image/png": "[encoded data removed]"
     },
     "metadata": {},
     "output_type": "display_data"
    }
   ],
   "source": [
    "import plotly.subplots as sp\n",
    "import plotly.express as px\n",
    "\n",
    "fig = sp.make_subplots(rows=1, cols=2, subplot_titles=(\"Non-EV Sales\", \"EV Sales\"))\n",
    "\n",
    "# Non-EV\n",
    "fig.add_trace(\n",
    "    px.box(\n",
    "        df_pivot, y=\"sales_2024\", points=\"all\", color_discrete_sequence=[\"skyblue\"]\n",
    "    ).data[0],\n",
    "    row=1,\n",
    "    col=1,\n",
    ")\n",
    "\n",
    "# EV\n",
    "fig.add_trace(\n",
    "    px.box(\n",
    "        ev_state_pt,\n",
    "        y=\"sales_2024\",\n",
    "        points=\"all\",\n",
    "        color_discrete_sequence=[\"lightgreen\"],\n",
    "    ).data[0],\n",
    "    row=1,\n",
    "    col=2,\n",
    ")\n",
    "\n",
    "fig.update_layout(title=\"Distribution of 2024 Vehicle Sales\")\n",
    "fig.show()"
   ]
  },
  {
   "cell_type": "code",
   "execution_count": 26,
   "id": "a9c1b588",
   "metadata": {},
   "outputs": [
    {
     "data": {
      "image/png": "[encoded data removed]",
      "text/plain": [
       "<Figure size 750x750 with 12 Axes>"
      ]
     },
     "metadata": {},
     "output_type": "display_data"
    }
   ],
   "source": [
    "import seaborn as sns\n",
    "import matplotlib.pyplot as plt\n",
    "\n",
    "# Example with multiple numeric columns\n",
    "sns.pairplot(df_pivot, vars=[\"sales_2022\", \"sales_2024\", \"CAGR\"], kind=\"scatter\")\n",
    "plt.show()\n"
   ]
  },
  {
   "cell_type": "code",
   "execution_count": 41,
   "id": "25dc1f7b",
   "metadata": {},
   "outputs": [
    {
     "ename": "ValueError",
     "evalue": "Could not interpret value `ev_CAGR` for `y`. An entry with this name does not appear in `data`.",
     "output_type": "error",
     "traceback": [
      "\u001b[31m---------------------------------------------------------------------------\u001b[39m",
      "\u001b[31mValueError\u001b[39m                                Traceback (most recent call last)",
      "\u001b[36mCell\u001b[39m\u001b[36m \u001b[39m\u001b[32mIn[41]\u001b[39m\u001b[32m, line 4\u001b[39m\n\u001b[32m      1\u001b[39m \u001b[38;5;28;01mimport\u001b[39;00m\u001b[38;5;250m \u001b[39m\u001b[34;01mseaborn\u001b[39;00m\u001b[38;5;250m \u001b[39m\u001b[38;5;28;01mas\u001b[39;00m\u001b[38;5;250m \u001b[39m\u001b[34;01msns\u001b[39;00m\n\u001b[32m      2\u001b[39m \u001b[38;5;28;01mimport\u001b[39;00m\u001b[38;5;250m \u001b[39m\u001b[34;01mmatplotlib\u001b[39;00m\u001b[34;01m.\u001b[39;00m\u001b[34;01mpyplot\u001b[39;00m\u001b[38;5;250m \u001b[39m\u001b[38;5;28;01mas\u001b[39;00m\u001b[38;5;250m \u001b[39m\u001b[34;01mplt\u001b[39;00m\n\u001b[32m----> \u001b[39m\u001b[32m4\u001b[39m \u001b[43msns\u001b[49m\u001b[43m.\u001b[49m\u001b[43mjointplot\u001b[49m\u001b[43m(\u001b[49m\n\u001b[32m      5\u001b[39m \u001b[43m    \u001b[49m\u001b[43mdata\u001b[49m\u001b[43m=\u001b[49m\u001b[43mdf_pivot\u001b[49m\u001b[43m,\u001b[49m\n\u001b[32m      6\u001b[39m \u001b[43m    \u001b[49m\u001b[43mx\u001b[49m\u001b[43m=\u001b[49m\u001b[33;43m'\u001b[39;49m\u001b[33;43mCAGR\u001b[39;49m\u001b[33;43m'\u001b[39;49m\u001b[43m,\u001b[49m\n\u001b[32m      7\u001b[39m \u001b[43m    \u001b[49m\u001b[43my\u001b[49m\u001b[43m=\u001b[49m\u001b[33;43m'\u001b[39;49m\u001b[33;43mev_CAGR\u001b[39;49m\u001b[33;43m'\u001b[39;49m\u001b[43m,\u001b[49m\n\u001b[32m      8\u001b[39m \u001b[43m    \u001b[49m\u001b[43mkind\u001b[49m\u001b[43m=\u001b[49m\u001b[33;43m'\u001b[39;49m\u001b[33;43mreg\u001b[39;49m\u001b[33;43m'\u001b[39;49m\u001b[43m  \u001b[49m\u001b[38;5;66;43;03m# regression line\u001b[39;49;00m\n\u001b[32m      9\u001b[39m \u001b[43m)\u001b[49m\n\u001b[32m     12\u001b[39m plt.suptitle(\u001b[33m\"\u001b[39m\u001b[33m2D Histogram of Sales 2022 vs 2024\u001b[39m\u001b[33m\"\u001b[39m, y=\u001b[32m1.02\u001b[39m)\n\u001b[32m     13\u001b[39m plt.show()\n",
      "\u001b[36mFile \u001b[39m\u001b[32m/mnt/data/projects/data-analyst/python-based/ev-analysis/ev-analysis/.venv/lib/python3.13/site-packages/seaborn/axisgrid.py:2243\u001b[39m, in \u001b[36mjointplot\u001b[39m\u001b[34m(data, x, y, hue, kind, height, ratio, space, dropna, xlim, ylim, color, palette, hue_order, hue_norm, marginal_ticks, joint_kws, marginal_kws, **kwargs)\u001b[39m\n\u001b[32m   2240\u001b[39m     dropna = \u001b[38;5;28;01mTrue\u001b[39;00m\n\u001b[32m   2242\u001b[39m \u001b[38;5;66;03m# Initialize the JointGrid object\u001b[39;00m\n\u001b[32m-> \u001b[39m\u001b[32m2243\u001b[39m grid = \u001b[43mJointGrid\u001b[49m\u001b[43m(\u001b[49m\n\u001b[32m   2244\u001b[39m \u001b[43m    \u001b[49m\u001b[43mdata\u001b[49m\u001b[43m=\u001b[49m\u001b[43mdata\u001b[49m\u001b[43m,\u001b[49m\u001b[43m \u001b[49m\u001b[43mx\u001b[49m\u001b[43m=\u001b[49m\u001b[43mx\u001b[49m\u001b[43m,\u001b[49m\u001b[43m \u001b[49m\u001b[43my\u001b[49m\u001b[43m=\u001b[49m\u001b[43my\u001b[49m\u001b[43m,\u001b[49m\u001b[43m \u001b[49m\u001b[43mhue\u001b[49m\u001b[43m=\u001b[49m\u001b[43mhue\u001b[49m\u001b[43m,\u001b[49m\n\u001b[32m   2245\u001b[39m \u001b[43m    \u001b[49m\u001b[43mpalette\u001b[49m\u001b[43m=\u001b[49m\u001b[43mpalette\u001b[49m\u001b[43m,\u001b[49m\u001b[43m \u001b[49m\u001b[43mhue_order\u001b[49m\u001b[43m=\u001b[49m\u001b[43mhue_order\u001b[49m\u001b[43m,\u001b[49m\u001b[43m \u001b[49m\u001b[43mhue_norm\u001b[49m\u001b[43m=\u001b[49m\u001b[43mhue_norm\u001b[49m\u001b[43m,\u001b[49m\n\u001b[32m   2246\u001b[39m \u001b[43m    \u001b[49m\u001b[43mdropna\u001b[49m\u001b[43m=\u001b[49m\u001b[43mdropna\u001b[49m\u001b[43m,\u001b[49m\u001b[43m \u001b[49m\u001b[43mheight\u001b[49m\u001b[43m=\u001b[49m\u001b[43mheight\u001b[49m\u001b[43m,\u001b[49m\u001b[43m \u001b[49m\u001b[43mratio\u001b[49m\u001b[43m=\u001b[49m\u001b[43mratio\u001b[49m\u001b[43m,\u001b[49m\u001b[43m \u001b[49m\u001b[43mspace\u001b[49m\u001b[43m=\u001b[49m\u001b[43mspace\u001b[49m\u001b[43m,\u001b[49m\n\u001b[32m   2247\u001b[39m \u001b[43m    \u001b[49m\u001b[43mxlim\u001b[49m\u001b[43m=\u001b[49m\u001b[43mxlim\u001b[49m\u001b[43m,\u001b[49m\u001b[43m \u001b[49m\u001b[43mylim\u001b[49m\u001b[43m=\u001b[49m\u001b[43mylim\u001b[49m\u001b[43m,\u001b[49m\u001b[43m \u001b[49m\u001b[43mmarginal_ticks\u001b[49m\u001b[43m=\u001b[49m\u001b[43mmarginal_ticks\u001b[49m\u001b[43m,\u001b[49m\n\u001b[32m   2248\u001b[39m \u001b[43m\u001b[49m\u001b[43m)\u001b[49m\n\u001b[32m   2250\u001b[39m \u001b[38;5;28;01mif\u001b[39;00m grid.hue \u001b[38;5;129;01mis\u001b[39;00m \u001b[38;5;129;01mnot\u001b[39;00m \u001b[38;5;28;01mNone\u001b[39;00m:\n\u001b[32m   2251\u001b[39m     marginal_kws.setdefault(\u001b[33m\"\u001b[39m\u001b[33mlegend\u001b[39m\u001b[33m\"\u001b[39m, \u001b[38;5;28;01mFalse\u001b[39;00m)\n",
      "\u001b[36mFile \u001b[39m\u001b[32m/mnt/data/projects/data-analyst/python-based/ev-analysis/ev-analysis/.venv/lib/python3.13/site-packages/seaborn/axisgrid.py:1728\u001b[39m, in \u001b[36mJointGrid.__init__\u001b[39m\u001b[34m(self, data, x, y, hue, height, ratio, space, palette, hue_order, hue_norm, dropna, xlim, ylim, marginal_ticks)\u001b[39m\n\u001b[32m   1725\u001b[39m     ax_marg_y.xaxis.grid(\u001b[38;5;28;01mFalse\u001b[39;00m)\n\u001b[32m   1727\u001b[39m \u001b[38;5;66;03m# Process the input variables\u001b[39;00m\n\u001b[32m-> \u001b[39m\u001b[32m1728\u001b[39m p = \u001b[43mVectorPlotter\u001b[49m\u001b[43m(\u001b[49m\u001b[43mdata\u001b[49m\u001b[43m=\u001b[49m\u001b[43mdata\u001b[49m\u001b[43m,\u001b[49m\u001b[43m \u001b[49m\u001b[43mvariables\u001b[49m\u001b[43m=\u001b[49m\u001b[38;5;28;43mdict\u001b[39;49m\u001b[43m(\u001b[49m\u001b[43mx\u001b[49m\u001b[43m=\u001b[49m\u001b[43mx\u001b[49m\u001b[43m,\u001b[49m\u001b[43m \u001b[49m\u001b[43my\u001b[49m\u001b[43m=\u001b[49m\u001b[43my\u001b[49m\u001b[43m,\u001b[49m\u001b[43m \u001b[49m\u001b[43mhue\u001b[49m\u001b[43m=\u001b[49m\u001b[43mhue\u001b[49m\u001b[43m)\u001b[49m\u001b[43m)\u001b[49m\n\u001b[32m   1729\u001b[39m plot_data = p.plot_data.loc[:, p.plot_data.notna().any()]\n\u001b[32m   1731\u001b[39m \u001b[38;5;66;03m# Possibly drop NA\u001b[39;00m\n",
      "\u001b[36mFile \u001b[39m\u001b[32m/mnt/data/projects/data-analyst/python-based/ev-analysis/ev-analysis/.venv/lib/python3.13/site-packages/seaborn/_base.py:634\u001b[39m, in \u001b[36mVectorPlotter.__init__\u001b[39m\u001b[34m(self, data, variables)\u001b[39m\n\u001b[32m    629\u001b[39m \u001b[38;5;66;03m# var_ordered is relevant only for categorical axis variables, and may\u001b[39;00m\n\u001b[32m    630\u001b[39m \u001b[38;5;66;03m# be better handled by an internal axis information object that tracks\u001b[39;00m\n\u001b[32m    631\u001b[39m \u001b[38;5;66;03m# such information and is set up by the scale_* methods. The analogous\u001b[39;00m\n\u001b[32m    632\u001b[39m \u001b[38;5;66;03m# information for numeric axes would be information about log scales.\u001b[39;00m\n\u001b[32m    633\u001b[39m \u001b[38;5;28mself\u001b[39m._var_ordered = {\u001b[33m\"\u001b[39m\u001b[33mx\u001b[39m\u001b[33m\"\u001b[39m: \u001b[38;5;28;01mFalse\u001b[39;00m, \u001b[33m\"\u001b[39m\u001b[33my\u001b[39m\u001b[33m\"\u001b[39m: \u001b[38;5;28;01mFalse\u001b[39;00m}  \u001b[38;5;66;03m# alt., used DefaultDict\u001b[39;00m\n\u001b[32m--> \u001b[39m\u001b[32m634\u001b[39m \u001b[38;5;28;43mself\u001b[39;49m\u001b[43m.\u001b[49m\u001b[43massign_variables\u001b[49m\u001b[43m(\u001b[49m\u001b[43mdata\u001b[49m\u001b[43m,\u001b[49m\u001b[43m \u001b[49m\u001b[43mvariables\u001b[49m\u001b[43m)\u001b[49m\n\u001b[32m    636\u001b[39m \u001b[38;5;66;03m# TODO Lots of tests assume that these are called to initialize the\u001b[39;00m\n\u001b[32m    637\u001b[39m \u001b[38;5;66;03m# mappings to default values on class initialization. I'd prefer to\u001b[39;00m\n\u001b[32m    638\u001b[39m \u001b[38;5;66;03m# move away from that and only have a mapping when explicitly called.\u001b[39;00m\n\u001b[32m    639\u001b[39m \u001b[38;5;28;01mfor\u001b[39;00m var \u001b[38;5;129;01min\u001b[39;00m [\u001b[33m\"\u001b[39m\u001b[33mhue\u001b[39m\u001b[33m\"\u001b[39m, \u001b[33m\"\u001b[39m\u001b[33msize\u001b[39m\u001b[33m\"\u001b[39m, \u001b[33m\"\u001b[39m\u001b[33mstyle\u001b[39m\u001b[33m\"\u001b[39m]:\n",
      "\u001b[36mFile \u001b[39m\u001b[32m/mnt/data/projects/data-analyst/python-based/ev-analysis/ev-analysis/.venv/lib/python3.13/site-packages/seaborn/_base.py:679\u001b[39m, in \u001b[36mVectorPlotter.assign_variables\u001b[39m\u001b[34m(self, data, variables)\u001b[39m\n\u001b[32m    674\u001b[39m \u001b[38;5;28;01melse\u001b[39;00m:\n\u001b[32m    675\u001b[39m     \u001b[38;5;66;03m# When dealing with long-form input, use the newer PlotData\u001b[39;00m\n\u001b[32m    676\u001b[39m     \u001b[38;5;66;03m# object (internal but introduced for the objects interface)\u001b[39;00m\n\u001b[32m    677\u001b[39m     \u001b[38;5;66;03m# to centralize / standardize data consumption logic.\u001b[39;00m\n\u001b[32m    678\u001b[39m     \u001b[38;5;28mself\u001b[39m.input_format = \u001b[33m\"\u001b[39m\u001b[33mlong\u001b[39m\u001b[33m\"\u001b[39m\n\u001b[32m--> \u001b[39m\u001b[32m679\u001b[39m     plot_data = \u001b[43mPlotData\u001b[49m\u001b[43m(\u001b[49m\u001b[43mdata\u001b[49m\u001b[43m,\u001b[49m\u001b[43m \u001b[49m\u001b[43mvariables\u001b[49m\u001b[43m)\u001b[49m\n\u001b[32m    680\u001b[39m     frame = plot_data.frame\n\u001b[32m    681\u001b[39m     names = plot_data.names\n",
      "\u001b[36mFile \u001b[39m\u001b[32m/mnt/data/projects/data-analyst/python-based/ev-analysis/ev-analysis/.venv/lib/python3.13/site-packages/seaborn/_core/data.py:58\u001b[39m, in \u001b[36mPlotData.__init__\u001b[39m\u001b[34m(self, data, variables)\u001b[39m\n\u001b[32m     51\u001b[39m \u001b[38;5;28;01mdef\u001b[39;00m\u001b[38;5;250m \u001b[39m\u001b[34m__init__\u001b[39m(\n\u001b[32m     52\u001b[39m     \u001b[38;5;28mself\u001b[39m,\n\u001b[32m     53\u001b[39m     data: DataSource,\n\u001b[32m     54\u001b[39m     variables: \u001b[38;5;28mdict\u001b[39m[\u001b[38;5;28mstr\u001b[39m, VariableSpec],\n\u001b[32m     55\u001b[39m ):\n\u001b[32m     57\u001b[39m     data = handle_data_source(data)\n\u001b[32m---> \u001b[39m\u001b[32m58\u001b[39m     frame, names, ids = \u001b[38;5;28;43mself\u001b[39;49m\u001b[43m.\u001b[49m\u001b[43m_assign_variables\u001b[49m\u001b[43m(\u001b[49m\u001b[43mdata\u001b[49m\u001b[43m,\u001b[49m\u001b[43m \u001b[49m\u001b[43mvariables\u001b[49m\u001b[43m)\u001b[49m\n\u001b[32m     60\u001b[39m     \u001b[38;5;28mself\u001b[39m.frame = frame\n\u001b[32m     61\u001b[39m     \u001b[38;5;28mself\u001b[39m.names = names\n",
      "\u001b[36mFile \u001b[39m\u001b[32m/mnt/data/projects/data-analyst/python-based/ev-analysis/ev-analysis/.venv/lib/python3.13/site-packages/seaborn/_core/data.py:232\u001b[39m, in \u001b[36mPlotData._assign_variables\u001b[39m\u001b[34m(self, data, variables)\u001b[39m\n\u001b[32m    230\u001b[39m     \u001b[38;5;28;01melse\u001b[39;00m:\n\u001b[32m    231\u001b[39m         err += \u001b[33m\"\u001b[39m\u001b[33mAn entry with this name does not appear in `data`.\u001b[39m\u001b[33m\"\u001b[39m\n\u001b[32m--> \u001b[39m\u001b[32m232\u001b[39m     \u001b[38;5;28;01mraise\u001b[39;00m \u001b[38;5;167;01mValueError\u001b[39;00m(err)\n\u001b[32m    234\u001b[39m \u001b[38;5;28;01melse\u001b[39;00m:\n\u001b[32m    235\u001b[39m \n\u001b[32m    236\u001b[39m     \u001b[38;5;66;03m# Otherwise, assume the value somehow represents data\u001b[39;00m\n\u001b[32m    237\u001b[39m \n\u001b[32m    238\u001b[39m     \u001b[38;5;66;03m# Ignore empty data structures\u001b[39;00m\n\u001b[32m    239\u001b[39m     \u001b[38;5;28;01mif\u001b[39;00m \u001b[38;5;28misinstance\u001b[39m(val, Sized) \u001b[38;5;129;01mand\u001b[39;00m \u001b[38;5;28mlen\u001b[39m(val) == \u001b[32m0\u001b[39m:\n",
      "\u001b[31mValueError\u001b[39m: Could not interpret value `ev_CAGR` for `y`. An entry with this name does not appear in `data`."
     ]
    },
    {
     "data": {
      "image/png": "[encoded data removed]",
      "text/plain": [
       "<Figure size 600x600 with 3 Axes>"
      ]
     },
     "metadata": {},
     "output_type": "display_data"
    }
   ],
   "source": [
    "import seaborn as sns\n",
    "import matplotlib.pyplot as plt\n",
    "\n",
    "sns.jointplot(\n",
    "    data=df_pivot,\n",
    "    x='CAGR',\n",
    "    y='ev_CAGR',\n",
    "    kind='reg'  # regression line\n",
    ")\n",
    "\n",
    "\n",
    "plt.suptitle(\"2D Histogram of Sales 2022 vs 2024\", y=1.02)\n",
    "plt.show()\n"
   ]
  },
  {
   "cell_type": "code",
   "execution_count": 27,
   "id": "b04110f8",
   "metadata": {},
   "outputs": [
    {
     "data": {
      "application/vnd.plotly.v1+json": {
       "config": {
        "plotlyServerURL": "https://plot.ly"
       },
       "data": [
        {
         "colorbar": {
          "title": {
           "text": "Count"
          }
         },
         "colorscale": [
          [
           0,
           "#440154"
          ],
          [
           0.1111111111111111,
           "#482878"
          ],
          [
           0.2222222222222222,
           "#3e4989"
          ],
          [
           0.3333333333333333,
           "#31688e"
          ],
          [
           0.4444444444444444,
           "#26828e"
          ],
          [
           0.5555555555555556,
           "#1f9e89"
          ],
          [
           0.6666666666666666,
           "#35b779"
          ],
          [
           0.7777777777777778,
           "#6ece58"
          ],
          [
           0.8888888888888888,
           "#b5de2b"
          ],
          [
           1,
           "#fde725"
          ]
         ],
         "nbinsx": 25,
         "nbinsy": 25,
         "type": "histogram2d",
         "x": {
          "bdata": "5RgAAAjBCgDIWgAAt5UGADrbDgCetgAAOlkGAKc3AACazgcAuvMAANcnFAAYPgkAH5kBACMTAgB+xAYAkxoTAAedCgBFEQAAsd4RAPjFHQDKygAAJHYAAI9eAABgNwAA22EIAFC8AACdhAcAmoIPAMUlAAB07hYAiqIAAMWuJwAMGQMATb0NAA==",
          "dtype": "i4"
         },
         "xaxis": "x2",
         "y": {
          "bdata": "dAcAANriAgCQGgAARzsCAKQqBAC7HgAAUwsCAKYPAADiLAIArkEAAH0sBQCr/wIAJHEAAONyAACgwAEACssFADvyAQAzAQAA98cEAOcnCABzFgAAayUAAHIcAABoFQAAYMcBAK0/AABWMAIAdGYEAAgKAACoEgcAGC0AAMyUCgDkywAAXZ4DAA==",
          "dtype": "i4"
         },
         "yaxis": "y2"
        },
        {
         "nbinsx": 25,
         "type": "histogram",
         "x": {
          "bdata": "5RgAAAjBCgDIWgAAt5UGADrbDgCetgAAOlkGAKc3AACazgcAuvMAANcnFAAYPgkAH5kBACMTAgB+xAYAkxoTAAedCgBFEQAAsd4RAPjFHQDKygAAJHYAAI9eAABgNwAA22EIAFC8AACdhAcAmoIPAMUlAAB07hYAiqIAAMWuJwAMGQMATb0NAA==",
          "dtype": "i4"
         },
         "xaxis": "x",
         "yaxis": "y"
        }
       ],
       "layout": {
        "height": 800,
        "showlegend": false,
        "template": {
         "data": {
          "bar": [
           {
            "error_x": {
             "color": "#2a3f5f"
            },
            "error_y": {
             "color": "#2a3f5f"
            },
            "marker": {
             "line": {
              "color": "#E5ECF6",
              "width": 0.5
             },
             "pattern": {
              "fillmode": "overlay",
              "size": 10,
              "solidity": 0.2
             }
            },
            "type": "bar"
           }
          ],
          "barpolar": [
           {
            "marker": {
             "line": {
              "color": "#E5ECF6",
              "width": 0.5
             },
             "pattern": {
              "fillmode": "overlay",
              "size": 10,
              "solidity": 0.2
             }
            },
            "type": "barpolar"
           }
          ],
          "carpet": [
           {
            "aaxis": {
             "endlinecolor": "#2a3f5f",
             "gridcolor": "white",
             "linecolor": "white",
             "minorgridcolor": "white",
             "startlinecolor": "#2a3f5f"
            },
            "baxis": {
             "endlinecolor": "#2a3f5f",
             "gridcolor": "white",
             "linecolor": "white",
             "minorgridcolor": "white",
             "startlinecolor": "#2a3f5f"
            },
            "type": "carpet"
           }
          ],
          "choropleth": [
           {
            "colorbar": {
             "outlinewidth": 0,
             "ticks": ""
            },
            "type": "choropleth"
           }
          ],
          "contour": [
           {
            "colorbar": {
             "outlinewidth": 0,
             "ticks": ""
            },
            "colorscale": [
             [
              0,
              "#0d0887"
             ],
             [
              0.1111111111111111,
              "#46039f"
             ],
             [
              0.2222222222222222,
              "#7201a8"
             ],
             [
              0.3333333333333333,
              "#9c179e"
             ],
             [
              0.4444444444444444,
              "#bd3786"
             ],
             [
              0.5555555555555556,
              "#d8576b"
             ],
             [
              0.6666666666666666,
              "#ed7953"
             ],
             [
              0.7777777777777778,
              "#fb9f3a"
             ],
             [
              0.8888888888888888,
              "#fdca26"
             ],
             [
              1,
              "#f0f921"
             ]
            ],
            "type": "contour"
           }
          ],
          "contourcarpet": [
           {
            "colorbar": {
             "outlinewidth": 0,
             "ticks": ""
            },
            "type": "contourcarpet"
           }
          ],
          "heatmap": [
           {
            "colorbar": {
             "outlinewidth": 0,
             "ticks": ""
            },
            "colorscale": [
             [
              0,
              "#0d0887"
             ],
             [
              0.1111111111111111,
              "#46039f"
             ],
             [
              0.2222222222222222,
              "#7201a8"
             ],
             [
              0.3333333333333333,
              "#9c179e"
             ],
             [
              0.4444444444444444,
              "#bd3786"
             ],
             [
              0.5555555555555556,
              "#d8576b"
             ],
             [
              0.6666666666666666,
              "#ed7953"
             ],
             [
              0.7777777777777778,
              "#fb9f3a"
             ],
             [
              0.8888888888888888,
              "#fdca26"
             ],
             [
              1,
              "#f0f921"
             ]
            ],
            "type": "heatmap"
           }
          ],
          "histogram": [
           {
            "marker": {
             "pattern": {
              "fillmode": "overlay",
              "size": 10,
              "solidity": 0.2
             }
            },
            "type": "histogram"
           }
          ],
          "histogram2d": [
           {
            "colorbar": {
             "outlinewidth": 0,
             "ticks": ""
            },
            "colorscale": [
             [
              0,
              "#0d0887"
             ],
             [
              0.1111111111111111,
              "#46039f"
             ],
             [
              0.2222222222222222,
              "#7201a8"
             ],
             [
              0.3333333333333333,
              "#9c179e"
             ],
             [
              0.4444444444444444,
              "#bd3786"
             ],
             [
              0.5555555555555556,
              "#d8576b"
             ],
             [
              0.6666666666666666,
              "#ed7953"
             ],
             [
              0.7777777777777778,
              "#fb9f3a"
             ],
             [
              0.8888888888888888,
              "#fdca26"
             ],
             [
              1,
              "#f0f921"
             ]
            ],
            "type": "histogram2d"
           }
          ],
          "histogram2dcontour": [
           {
            "colorbar": {
             "outlinewidth": 0,
             "ticks": ""
            },
            "colorscale": [
             [
              0,
              "#0d0887"
             ],
             [
              0.1111111111111111,
              "#46039f"
             ],
             [
              0.2222222222222222,
              "#7201a8"
             ],
             [
              0.3333333333333333,
              "#9c179e"
             ],
             [
              0.4444444444444444,
              "#bd3786"
             ],
             [
              0.5555555555555556,
              "#d8576b"
             ],
             [
              0.6666666666666666,
              "#ed7953"
             ],
             [
              0.7777777777777778,
              "#fb9f3a"
             ],
             [
              0.8888888888888888,
              "#fdca26"
             ],
             [
              1,
              "#f0f921"
             ]
            ],
            "type": "histogram2dcontour"
           }
          ],
          "mesh3d": [
           {
            "colorbar": {
             "outlinewidth": 0,
             "ticks": ""
            },
            "type": "mesh3d"
           }
          ],
          "parcoords": [
           {
            "line": {
             "colorbar": {
              "outlinewidth": 0,
              "ticks": ""
             }
            },
            "type": "parcoords"
           }
          ],
          "pie": [
           {
            "automargin": true,
            "type": "pie"
           }
          ],
          "scatter": [
           {
            "fillpattern": {
             "fillmode": "overlay",
             "size": 10,
             "solidity": 0.2
            },
            "type": "scatter"
           }
          ],
          "scatter3d": [
           {
            "line": {
             "colorbar": {
              "outlinewidth": 0,
              "ticks": ""
             }
            },
            "marker": {
             "colorbar": {
              "outlinewidth": 0,
              "ticks": ""
             }
            },
            "type": "scatter3d"
           }
          ],
          "scattercarpet": [
           {
            "marker": {
             "colorbar": {
              "outlinewidth": 0,
              "ticks": ""
             }
            },
            "type": "scattercarpet"
           }
          ],
          "scattergeo": [
           {
            "marker": {
             "colorbar": {
              "outlinewidth": 0,
              "ticks": ""
             }
            },
            "type": "scattergeo"
           }
          ],
          "scattergl": [
           {
            "marker": {
             "colorbar": {
              "outlinewidth": 0,
              "ticks": ""
             }
            },
            "type": "scattergl"
           }
          ],
          "scattermap": [
           {
            "marker": {
             "colorbar": {
              "outlinewidth": 0,
              "ticks": ""
             }
            },
            "type": "scattermap"
           }
          ],
          "scattermapbox": [
           {
            "marker": {
             "colorbar": {
              "outlinewidth": 0,
              "ticks": ""
             }
            },
            "type": "scattermapbox"
           }
          ],
          "scatterpolar": [
           {
            "marker": {
             "colorbar": {
              "outlinewidth": 0,
              "ticks": ""
             }
            },
            "type": "scatterpolar"
           }
          ],
          "scatterpolargl": [
           {
            "marker": {
             "colorbar": {
              "outlinewidth": 0,
              "ticks": ""
             }
            },
            "type": "scatterpolargl"
           }
          ],
          "scatterternary": [
           {
            "marker": {
             "colorbar": {
              "outlinewidth": 0,
              "ticks": ""
             }
            },
            "type": "scatterternary"
           }
          ],
          "surface": [
           {
            "colorbar": {
             "outlinewidth": 0,
             "ticks": ""
            },
            "colorscale": [
             [
              0,
              "#0d0887"
             ],
             [
              0.1111111111111111,
              "#46039f"
             ],
             [
              0.2222222222222222,
              "#7201a8"
             ],
             [
              0.3333333333333333,
              "#9c179e"
             ],
             [
              0.4444444444444444,
              "#bd3786"
             ],
             [
              0.5555555555555556,
              "#d8576b"
             ],
             [
              0.6666666666666666,
              "#ed7953"
             ],
             [
              0.7777777777777778,
              "#fb9f3a"
             ],
             [
              0.8888888888888888,
              "#fdca26"
             ],
             [
              1,
              "#f0f921"
             ]
            ],
            "type": "surface"
           }
          ],
          "table": [
           {
            "cells": {
             "fill": {
              "color": "#EBF0F8"
             },
             "line": {
              "color": "white"
             }
            },
            "header": {
             "fill": {
              "color": "#C8D4E3"
             },
             "line": {
              "color": "white"
             }
            },
            "type": "table"
           }
          ]
         },
         "layout": {
          "annotationdefaults": {
           "arrowcolor": "#2a3f5f",
           "arrowhead": 0,
           "arrowwidth": 1
          },
          "autotypenumbers": "strict",
          "coloraxis": {
           "colorbar": {
            "outlinewidth": 0,
            "ticks": ""
           }
          },
          "colorscale": {
           "diverging": [
            [
             0,
             "#8e0152"
            ],
            [
             0.1,
             "#c51b7d"
            ],
            [
             0.2,
             "#de77ae"
            ],
            [
             0.3,
             "#f1b6da"
            ],
            [
             0.4,
             "#fde0ef"
            ],
            [
             0.5,
             "#f7f7f7"
            ],
            [
             0.6,
             "#e6f5d0"
            ],
            [
             0.7,
             "#b8e186"
            ],
            [
             0.8,
             "#7fbc41"
            ],
            [
             0.9,
             "#4d9221"
            ],
            [
             1,
             "#276419"
            ]
           ],
           "sequential": [
            [
             0,
             "#0d0887"
            ],
            [
             0.1111111111111111,
             "#46039f"
            ],
            [
             0.2222222222222222,
             "#7201a8"
            ],
            [
             0.3333333333333333,
             "#9c179e"
            ],
            [
             0.4444444444444444,
             "#bd3786"
            ],
            [
             0.5555555555555556,
             "#d8576b"
            ],
            [
             0.6666666666666666,
             "#ed7953"
            ],
            [
             0.7777777777777778,
             "#fb9f3a"
            ],
            [
             0.8888888888888888,
             "#fdca26"
            ],
            [
             1,
             "#f0f921"
            ]
           ],
           "sequentialminus": [
            [
             0,
             "#0d0887"
            ],
            [
             0.1111111111111111,
             "#46039f"
            ],
            [
             0.2222222222222222,
             "#7201a8"
            ],
            [
             0.3333333333333333,
             "#9c179e"
            ],
            [
             0.4444444444444444,
             "#bd3786"
            ],
            [
             0.5555555555555556,
             "#d8576b"
            ],
            [
             0.6666666666666666,
             "#ed7953"
            ],
            [
             0.7777777777777778,
             "#fb9f3a"
            ],
            [
             0.8888888888888888,
             "#fdca26"
            ],
            [
             1,
             "#f0f921"
            ]
           ]
          },
          "colorway": [
           "#636efa",
           "#EF553B",
           "#00cc96",
           "#ab63fa",
           "#FFA15A",
           "#19d3f3",
           "#FF6692",
           "#B6E880",
           "#FF97FF",
           "#FECB52"
          ],
          "font": {
           "color": "#2a3f5f"
          },
          "geo": {
           "bgcolor": "white",
           "lakecolor": "white",
           "landcolor": "#E5ECF6",
           "showlakes": true,
           "showland": true,
           "subunitcolor": "white"
          },
          "hoverlabel": {
           "align": "left"
          },
          "hovermode": "closest",
          "mapbox": {
           "style": "light"
          },
          "paper_bgcolor": "white",
          "plot_bgcolor": "#E5ECF6",
          "polar": {
           "angularaxis": {
            "gridcolor": "white",
            "linecolor": "white",
            "ticks": ""
           },
           "bgcolor": "#E5ECF6",
           "radialaxis": {
            "gridcolor": "white",
            "linecolor": "white",
            "ticks": ""
           }
          },
          "scene": {
           "xaxis": {
            "backgroundcolor": "#E5ECF6",
            "gridcolor": "white",
            "gridwidth": 2,
            "linecolor": "white",
            "showbackground": true,
            "ticks": "",
            "zerolinecolor": "white"
           },
           "yaxis": {
            "backgroundcolor": "#E5ECF6",
            "gridcolor": "white",
            "gridwidth": 2,
            "linecolor": "white",
            "showbackground": true,
            "ticks": "",
            "zerolinecolor": "white"
           },
           "zaxis": {
            "backgroundcolor": "#E5ECF6",
            "gridcolor": "white",
            "gridwidth": 2,
            "linecolor": "white",
            "showbackground": true,
            "ticks": "",
            "zerolinecolor": "white"
           }
          },
          "shapedefaults": {
           "line": {
            "color": "#2a3f5f"
           }
          },
          "ternary": {
           "aaxis": {
            "gridcolor": "white",
            "linecolor": "white",
            "ticks": ""
           },
           "baxis": {
            "gridcolor": "white",
            "linecolor": "white",
            "ticks": ""
           },
           "bgcolor": "#E5ECF6",
           "caxis": {
            "gridcolor": "white",
            "linecolor": "white",
            "ticks": ""
           }
          },
          "title": {
           "x": 0.05
          },
          "xaxis": {
           "automargin": true,
           "gridcolor": "white",
           "linecolor": "white",
           "ticks": "",
           "title": {
            "standoff": 15
           },
           "zerolinecolor": "white",
           "zerolinewidth": 2
          },
          "yaxis": {
           "automargin": true,
           "gridcolor": "white",
           "linecolor": "white",
           "ticks": "",
           "title": {
            "standoff": 15
           },
           "zerolinecolor": "white",
           "zerolinewidth": 2
          }
         }
        },
        "title": {
         "text": "Vehicle Sales Distribution: 2022 vs 2024"
        },
        "width": 800,
        "xaxis": {
         "anchor": "y",
         "domain": [
          0.706,
          1
         ],
         "title": {
          "text": "Sales 2022"
         }
        },
        "xaxis2": {
         "anchor": "y2",
         "domain": [
          0,
          0.6859999999999999
         ],
         "title": {
          "text": "Count"
         }
        },
        "yaxis": {
         "anchor": "x",
         "domain": [
          0.706,
          1
         ],
         "title": {
          "text": "Sales 2024"
         }
        },
        "yaxis2": {
         "anchor": "x2",
         "domain": [
          0,
          0.6859999999999999
         ]
        }
       }
      },
      "image/png": "[encoded data removed]"
     },
     "metadata": {},
     "output_type": "display_data"
    }
   ],
   "source": [
    "import plotly.express as px\n",
    "import plotly.graph_objects as go\n",
    "from plotly.subplots import make_subplots\n",
    "\n",
    "# Create the main scatter plot\n",
    "fig = make_subplots(\n",
    "  rows=2, cols=2,\n",
    "  column_widths=[0.7, 0.3],\n",
    "  row_heights=[0.3, 0.7],\n",
    "  vertical_spacing=0.02,\n",
    "  horizontal_spacing=0.02,\n",
    "  specs=[[None, {\"type\": \"histogram\"}],\n",
    "       [{\"type\": \"histogram2d\"}, None]]\n",
    ")\n",
    "\n",
    "# Add 2D histogram\n",
    "fig.add_trace(\n",
    "  go.Histogram2d(\n",
    "    x=df_pivot['sales_2022'],\n",
    "    y=df_pivot['sales_2024'],\n",
    "    colorscale='Viridis',\n",
    "    nbinsx=25,\n",
    "    nbinsy=25,\n",
    "    colorbar=dict(title='Count')\n",
    "  ),\n",
    "  row=2, col=1\n",
    ")\n",
    "\n",
    "# Add marginal histograms\n",
    "fig.add_trace(\n",
    "  go.Histogram(x=df_pivot['sales_2022'], nbinsx=25),\n",
    "  row=1, col=2\n",
    ")\n",
    "\n",
    "# Update layout\n",
    "fig.update_layout(\n",
    "  title='Vehicle Sales Distribution: 2022 vs 2024',\n",
    "  showlegend=False,\n",
    "  width=800,\n",
    "  height=800,\n",
    "  xaxis=dict(title='Sales 2022'),\n",
    "  xaxis2=dict(title='Count'),\n",
    "  yaxis=dict(title='Sales 2024')\n",
    ")\n",
    "\n",
    "fig.show()\n"
   ]
  },
  {
   "cell_type": "markdown",
   "id": "4049a52d",
   "metadata": {},
   "source": [
    "### Distribution Analysis of Vehicle Sales (2022-2024)\n",
    "\n",
    "#### Key Findings:\n",
    "\n",
    "1. **Traditional Vehicle Sales (Non-EV)**\n",
    "  - Shows a broader distribution with higher sales volumes\n",
    "  - Mean sales in 2024: ~148,228 units\n",
    "  - Indicates mainstream market dominance\n",
    "  - All states show negative CAGR, ranging from -37.8% to -73.6%\n",
    "\n",
    "2. **Electric Vehicle Sales**\n",
    "  - Much smaller distribution with lower volumes\n",
    "  - Mean sales in 2024: ~9,597 units\n",
    "  - Shows emerging market characteristics\n",
    "  - Mixed CAGR performance:\n",
    "    - Some states show positive growth (up to 123.6%)\n",
    "    - Others show moderate decline (-5% to -17%)\n",
    "\n",
    "3. **Regional Contrasts**\n",
    "  - Top EV growth: Arunachal Pradesh (123.6%), Mizoram (95.7%)\n",
    "  - Most resilient non-EV markets: Nagaland (-37.8%), Puducherry (-40.6%)\n",
    "  - Shows distinct adoption patterns between EV and traditional vehicles\n",
    "\n",
    "4. **Market Transition**\n",
    "  - While traditional vehicle sales decline universally\n",
    "  - EV segment shows pockets of growth\n",
    "  - Indicates early stages of market transformation"
   ]
  },
  {
   "cell_type": "code",
   "execution_count": 28,
   "id": "a1418aae",
   "metadata": {},
   "outputs": [],
   "source": [
    "import os\n",
    "\n",
    "# Create paths if they don't exist\n",
    "if not os.path.exists('../../data/visuals'):\n",
    "  os.makedirs('../../data/visuals')\n",
    "\n",
    "# Export top 10 state CAGR for total vehicles\n",
    "state_cagr_top10.to_csv('../../data/visuals/top10_total_vehicles_cagr.csv', index=False)\n",
    "\n",
    "# Export top 10 EV CAGR \n",
    "top_10_ev_CAGR.to_csv('../../data/visuals/top10_ev_cagr.csv', index=False)\n",
    "\n",
    "# Export top 10 non-EV CAGR\n",
    "df_top10.to_csv('../../data/visuals/top10_non_ev_cagr.csv', index=False)"
   ]
  }
 ],
 "metadata": {
  "kernelspec": {
   "display_name": "Python 3 (ipykernel)",
   "language": "python",
   "name": "python3"
  },
  "language_info": {
   "codemirror_mode": {
    "name": "ipython",
    "version": 3
   },
   "file_extension": ".py",
   "mimetype": "text/x-python",
   "name": "python",
   "nbconvert_exporter": "python",
   "pygments_lexer": "ipython3",
   "version": "3.13.3"
  },
  "widgets": {
   "application/vnd.jupyter.widget-state+json": {
    "state": {},
    "version_major": 2,
    "version_minor": 0
   }
  }
 },
 "nbformat": 4,
 "nbformat_minor": 5
}
