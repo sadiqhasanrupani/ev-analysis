{
 "cells": [
  {
   "cell_type": "markdown",
   "id": "72b4e808",
   "metadata": {},
   "source": [
    "# CAGR Analysis: Top 5 Four-Wheeler EV Makers (2022-2024)\n",
    "\n",
    "This notebook analyzes the Compounded Annual Growth Rate (CAGR) for the top 5 four-wheeler electric vehicle manufacturers in India from 2022 to 2024. We'll calculate the CAGR, analyze sales trends, examine market share evolution, and create visualizations to understand the competitive landscape."
   ]
  },
  {
   "cell_type": "markdown",
   "id": "6a1cf94d",
   "metadata": {},
   "source": [
    "## 1. Import Required Libraries\n",
    "\n",
    "First, let's import all the necessary libraries for our analysis:"
   ]
  },
  {
   "cell_type": "code",
   "execution_count": 1,
   "id": "188df94e",
   "metadata": {},
   "outputs": [],
   "source": [
    "# Import necessary libraries\n",
    "import pandas as pd\n",
    "import numpy as np\n",
    "import matplotlib.pyplot as plt\n",
    "import seaborn as sns\n",
    "import plotly.express as px\n",
    "import plotly.graph_objects as go\n",
    "from plotly.subplots import make_subplots\n",
    "from IPython.display import display\n",
    "import os\n",
    "from pathlib import Path\n",
    "\n",
    "# Set plotting styles\n",
    "plt.style.use('seaborn-v0_8-whitegrid')\n",
    "sns.set_palette('colorblind')\n",
    "\n",
    "# Increase font sizes for better readability\n",
    "plt.rcParams['font.size'] = 12\n",
    "plt.rcParams['axes.labelsize'] = 14\n",
    "plt.rcParams['axes.titlesize'] = 16\n",
    "plt.rcParams['xtick.labelsize'] = 12\n",
    "plt.rcParams['ytick.labelsize'] = 12\n",
    "plt.rcParams['legend.fontsize'] = 12"
   ]
  },
  {
   "cell_type": "markdown",
   "id": "c91d708a",
   "metadata": {},
   "source": [
    "## 2. Load and Prepare Data\n",
    "\n",
    "Now, let's load the EV sales data from the CSV file and prepare it for analysis:"
   ]
  },
  {
   "cell_type": "code",
   "execution_count": 2,
   "id": "109b11ee",
   "metadata": {},
   "outputs": [
    {
     "name": "stdout",
     "output_type": "stream",
     "text": [
      "Dataset Info:\n",
      "--------------------------------------------------\n",
      "<class 'pandas.core.frame.DataFrame'>\n",
      "RangeIndex: 816 entries, 0 to 815\n",
      "Data columns (total 9 columns):\n",
      " #   Column                  Non-Null Count  Dtype \n",
      "---  ------                  --------------  ----- \n",
      " 0   date                    816 non-null    object\n",
      " 1   vehicle_category        816 non-null    object\n",
      " 2   maker                   816 non-null    object\n",
      " 3   electric_vehicles_sold  816 non-null    int64 \n",
      " 4   uuid                    816 non-null    object\n",
      " 5   year                    816 non-null    int64 \n",
      " 6   month                   816 non-null    object\n",
      " 7   cumulative_sales        816 non-null    int64 \n",
      " 8   segment                 816 non-null    object\n",
      "dtypes: int64(3), object(6)\n",
      "memory usage: 57.5+ KB\n",
      "None\n",
      "\n",
      "First few rows:\n",
      "--------------------------------------------------\n"
     ]
    },
    {
     "data": {
      "text/html": [
       "<div>\n",
       "<style scoped>\n",
       "    .dataframe tbody tr th:only-of-type {\n",
       "        vertical-align: middle;\n",
       "    }\n",
       "\n",
       "    .dataframe tbody tr th {\n",
       "        vertical-align: top;\n",
       "    }\n",
       "\n",
       "    .dataframe thead th {\n",
       "        text-align: right;\n",
       "    }\n",
       "</style>\n",
       "<table border=\"1\" class=\"dataframe\">\n",
       "  <thead>\n",
       "    <tr style=\"text-align: right;\">\n",
       "      <th></th>\n",
       "      <th>date</th>\n",
       "      <th>vehicle_category</th>\n",
       "      <th>maker</th>\n",
       "      <th>electric_vehicles_sold</th>\n",
       "      <th>uuid</th>\n",
       "      <th>year</th>\n",
       "      <th>month</th>\n",
       "      <th>cumulative_sales</th>\n",
       "      <th>segment</th>\n",
       "    </tr>\n",
       "  </thead>\n",
       "  <tbody>\n",
       "    <tr>\n",
       "      <th>0</th>\n",
       "      <td>2021-04-01</td>\n",
       "      <td>2-Wheelers</td>\n",
       "      <td>OLA ELECTRIC</td>\n",
       "      <td>0</td>\n",
       "      <td>465931d3-9bd6-43b5-ab1f-aace65b11dfb</td>\n",
       "      <td>2021</td>\n",
       "      <td>April</td>\n",
       "      <td>0</td>\n",
       "      <td>Two-Wheeler Manufacturer</td>\n",
       "    </tr>\n",
       "    <tr>\n",
       "      <th>1</th>\n",
       "      <td>2022-04-01</td>\n",
       "      <td>2-Wheelers</td>\n",
       "      <td>OKAYA EV</td>\n",
       "      <td>0</td>\n",
       "      <td>1d7ca2e2-988c-42e9-9d44-8b08a759fbbf</td>\n",
       "      <td>2022</td>\n",
       "      <td>April</td>\n",
       "      <td>0</td>\n",
       "      <td>Two-Wheeler Manufacturer</td>\n",
       "    </tr>\n",
       "    <tr>\n",
       "      <th>2</th>\n",
       "      <td>2021-05-01</td>\n",
       "      <td>2-Wheelers</td>\n",
       "      <td>OLA ELECTRIC</td>\n",
       "      <td>0</td>\n",
       "      <td>9da18de8-1173-4717-a894-f3b0748e3249</td>\n",
       "      <td>2021</td>\n",
       "      <td>May</td>\n",
       "      <td>0</td>\n",
       "      <td>Two-Wheeler Manufacturer</td>\n",
       "    </tr>\n",
       "    <tr>\n",
       "      <th>3</th>\n",
       "      <td>2021-06-01</td>\n",
       "      <td>2-Wheelers</td>\n",
       "      <td>OLA ELECTRIC</td>\n",
       "      <td>0</td>\n",
       "      <td>ac373721-db45-46df-bc6a-86f0d663253a</td>\n",
       "      <td>2021</td>\n",
       "      <td>June</td>\n",
       "      <td>0</td>\n",
       "      <td>Two-Wheeler Manufacturer</td>\n",
       "    </tr>\n",
       "    <tr>\n",
       "      <th>4</th>\n",
       "      <td>2021-07-01</td>\n",
       "      <td>2-Wheelers</td>\n",
       "      <td>OLA ELECTRIC</td>\n",
       "      <td>0</td>\n",
       "      <td>9919575b-4d9d-4823-a9a1-f2a1b7c037c7</td>\n",
       "      <td>2021</td>\n",
       "      <td>July</td>\n",
       "      <td>0</td>\n",
       "      <td>Two-Wheeler Manufacturer</td>\n",
       "    </tr>\n",
       "  </tbody>\n",
       "</table>\n",
       "</div>"
      ],
      "text/plain": [
       "         date vehicle_category         maker  electric_vehicles_sold  \\\n",
       "0  2021-04-01       2-Wheelers  OLA ELECTRIC                       0   \n",
       "1  2022-04-01       2-Wheelers      OKAYA EV                       0   \n",
       "2  2021-05-01       2-Wheelers  OLA ELECTRIC                       0   \n",
       "3  2021-06-01       2-Wheelers  OLA ELECTRIC                       0   \n",
       "4  2021-07-01       2-Wheelers  OLA ELECTRIC                       0   \n",
       "\n",
       "                                   uuid  year  month  cumulative_sales  \\\n",
       "0  465931d3-9bd6-43b5-ab1f-aace65b11dfb  2021  April                 0   \n",
       "1  1d7ca2e2-988c-42e9-9d44-8b08a759fbbf  2022  April                 0   \n",
       "2  9da18de8-1173-4717-a894-f3b0748e3249  2021    May                 0   \n",
       "3  ac373721-db45-46df-bc6a-86f0d663253a  2021   June                 0   \n",
       "4  9919575b-4d9d-4823-a9a1-f2a1b7c037c7  2021   July                 0   \n",
       "\n",
       "                    segment  \n",
       "0  Two-Wheeler Manufacturer  \n",
       "1  Two-Wheeler Manufacturer  \n",
       "2  Two-Wheeler Manufacturer  \n",
       "3  Two-Wheeler Manufacturer  \n",
       "4  Two-Wheeler Manufacturer  "
      ]
     },
     "metadata": {},
     "output_type": "display_data"
    }
   ],
   "source": [
    "# Path to the data files\n",
    "DATA_DIR = Path(os.path.dirname(os.getcwd())) / \"data\"\n",
    "EV_SALES_BY_MAKERS_PATH = DATA_DIR / \"processed\" / \"ev_sales_by_makers_cleaned_20250806.csv\"\n",
    "\n",
    "# Load the data\n",
    "df = pd.read_csv(EV_SALES_BY_MAKERS_PATH)\n",
    "\n",
    "# Display basic information about the dataset\n",
    "print(\"Dataset Info:\")\n",
    "print(\"-\" * 50)\n",
    "print(df.info())\n",
    "print(\"\\nFirst few rows:\")\n",
    "print(\"-\" * 50)\n",
    "display(df.head())"
   ]
  },
  {
   "cell_type": "code",
   "execution_count": 3,
   "id": "34983f54",
   "metadata": {},
   "outputs": [
    {
     "name": "stdout",
     "output_type": "stream",
     "text": [
      "Available fiscal years:\n",
      "[np.int64(2022), np.int64(2023), np.int64(2024)]\n",
      "\n",
      "Available vehicle segments:\n",
      "['Two-Wheeler Manufacturer' 'Four-Wheeler Manufacturer']\n"
     ]
    }
   ],
   "source": [
    "# Convert date column to datetime\n",
    "df['date'] = pd.to_datetime(df['date'])\n",
    "\n",
    "# Create fiscal year column - in India fiscal year starts in April\n",
    "df['fiscal_year'] = df['date'].dt.year + np.where(df['date'].dt.month >= 4, 1, 0)\n",
    "\n",
    "# Check unique fiscal years to confirm our calculation\n",
    "print(\"Available fiscal years:\")\n",
    "print(sorted(df['fiscal_year'].unique()))\n",
    "\n",
    "# Check unique vehicle segments to confirm we have Four-Wheeler data\n",
    "print(\"\\nAvailable vehicle segments:\")\n",
    "print(df['segment'].unique())"
   ]
  },
  {
   "cell_type": "markdown",
   "id": "9feb4b87",
   "metadata": {},
   "source": [
    "## 3. Calculate Total Sales by Maker\n",
    "\n",
    "Let's filter the data for 4-wheeler manufacturers and calculate the total sales for each maker:"
   ]
  },
  {
   "cell_type": "code",
   "execution_count": 4,
   "id": "4548c3c3",
   "metadata": {},
   "outputs": [
    {
     "name": "stdout",
     "output_type": "stream",
     "text": [
      "Filtered 4-wheeler data:\n",
      "Number of records: 360\n",
      "Number of unique makers: 10\n"
     ]
    },
    {
     "data": {
      "text/html": [
       "<div>\n",
       "<style scoped>\n",
       "    .dataframe tbody tr th:only-of-type {\n",
       "        vertical-align: middle;\n",
       "    }\n",
       "\n",
       "    .dataframe tbody tr th {\n",
       "        vertical-align: top;\n",
       "    }\n",
       "\n",
       "    .dataframe thead th {\n",
       "        text-align: right;\n",
       "    }\n",
       "</style>\n",
       "<table border=\"1\" class=\"dataframe\">\n",
       "  <thead>\n",
       "    <tr style=\"text-align: right;\">\n",
       "      <th></th>\n",
       "      <th>date</th>\n",
       "      <th>vehicle_category</th>\n",
       "      <th>maker</th>\n",
       "      <th>electric_vehicles_sold</th>\n",
       "      <th>uuid</th>\n",
       "      <th>year</th>\n",
       "      <th>month</th>\n",
       "      <th>cumulative_sales</th>\n",
       "      <th>segment</th>\n",
       "      <th>fiscal_year</th>\n",
       "    </tr>\n",
       "  </thead>\n",
       "  <tbody>\n",
       "    <tr>\n",
       "      <th>9</th>\n",
       "      <td>2021-04-01</td>\n",
       "      <td>4-Wheelers</td>\n",
       "      <td>BYD India</td>\n",
       "      <td>0</td>\n",
       "      <td>c57fec52-2208-46e0-933c-7bd100265253</td>\n",
       "      <td>2021</td>\n",
       "      <td>April</td>\n",
       "      <td>0</td>\n",
       "      <td>Four-Wheeler Manufacturer</td>\n",
       "      <td>2022</td>\n",
       "    </tr>\n",
       "    <tr>\n",
       "      <th>10</th>\n",
       "      <td>2021-04-01</td>\n",
       "      <td>4-Wheelers</td>\n",
       "      <td>PCA Automobiles</td>\n",
       "      <td>0</td>\n",
       "      <td>058777d2-ee66-4d2a-b050-e95bfdf75870</td>\n",
       "      <td>2021</td>\n",
       "      <td>April</td>\n",
       "      <td>0</td>\n",
       "      <td>Four-Wheeler Manufacturer</td>\n",
       "      <td>2022</td>\n",
       "    </tr>\n",
       "    <tr>\n",
       "      <th>11</th>\n",
       "      <td>2021-04-01</td>\n",
       "      <td>4-Wheelers</td>\n",
       "      <td>BMW India</td>\n",
       "      <td>0</td>\n",
       "      <td>4cdb0c49-c11c-40f3-b7af-f070dd2bfc4f</td>\n",
       "      <td>2021</td>\n",
       "      <td>April</td>\n",
       "      <td>0</td>\n",
       "      <td>Four-Wheeler Manufacturer</td>\n",
       "      <td>2022</td>\n",
       "    </tr>\n",
       "    <tr>\n",
       "      <th>12</th>\n",
       "      <td>2021-04-01</td>\n",
       "      <td>4-Wheelers</td>\n",
       "      <td>Volvo Auto India</td>\n",
       "      <td>0</td>\n",
       "      <td>9e338527-5dab-4026-9238-69477647121b</td>\n",
       "      <td>2021</td>\n",
       "      <td>April</td>\n",
       "      <td>0</td>\n",
       "      <td>Four-Wheeler Manufacturer</td>\n",
       "      <td>2022</td>\n",
       "    </tr>\n",
       "    <tr>\n",
       "      <th>13</th>\n",
       "      <td>2021-04-01</td>\n",
       "      <td>4-Wheelers</td>\n",
       "      <td>KIA Motors</td>\n",
       "      <td>0</td>\n",
       "      <td>6a0c21ff-98f4-4bf2-b44c-178b156ed89c</td>\n",
       "      <td>2021</td>\n",
       "      <td>April</td>\n",
       "      <td>0</td>\n",
       "      <td>Four-Wheeler Manufacturer</td>\n",
       "      <td>2022</td>\n",
       "    </tr>\n",
       "  </tbody>\n",
       "</table>\n",
       "</div>"
      ],
      "text/plain": [
       "         date vehicle_category             maker  electric_vehicles_sold  \\\n",
       "9  2021-04-01       4-Wheelers         BYD India                       0   \n",
       "10 2021-04-01       4-Wheelers   PCA Automobiles                       0   \n",
       "11 2021-04-01       4-Wheelers         BMW India                       0   \n",
       "12 2021-04-01       4-Wheelers  Volvo Auto India                       0   \n",
       "13 2021-04-01       4-Wheelers        KIA Motors                       0   \n",
       "\n",
       "                                    uuid  year  month  cumulative_sales  \\\n",
       "9   c57fec52-2208-46e0-933c-7bd100265253  2021  April                 0   \n",
       "10  058777d2-ee66-4d2a-b050-e95bfdf75870  2021  April                 0   \n",
       "11  4cdb0c49-c11c-40f3-b7af-f070dd2bfc4f  2021  April                 0   \n",
       "12  9e338527-5dab-4026-9238-69477647121b  2021  April                 0   \n",
       "13  6a0c21ff-98f4-4bf2-b44c-178b156ed89c  2021  April                 0   \n",
       "\n",
       "                      segment  fiscal_year  \n",
       "9   Four-Wheeler Manufacturer         2022  \n",
       "10  Four-Wheeler Manufacturer         2022  \n",
       "11  Four-Wheeler Manufacturer         2022  \n",
       "12  Four-Wheeler Manufacturer         2022  \n",
       "13  Four-Wheeler Manufacturer         2022  "
      ]
     },
     "metadata": {},
     "output_type": "display_data"
    }
   ],
   "source": [
    "# Filter for only 4-wheeler manufacturers\n",
    "df_4w = df[df['segment'] == 'Four-Wheeler Manufacturer']\n",
    "\n",
    "# Check the resulting data\n",
    "print(\"Filtered 4-wheeler data:\")\n",
    "print(f\"Number of records: {len(df_4w)}\")\n",
    "print(f\"Number of unique makers: {df_4w['maker'].nunique()}\")\n",
    "\n",
    "# Display first few rows of filtered data\n",
    "display(df_4w.head())"
   ]
  },
  {
   "cell_type": "code",
   "execution_count": 5,
   "id": "a10143de",
   "metadata": {},
   "outputs": [
    {
     "name": "stdout",
     "output_type": "stream",
     "text": [
      "Total 4-Wheeler EV Sales by Manufacturer (All Years):\n",
      "--------------------------------------------------\n"
     ]
    },
    {
     "data": {
      "text/html": [
       "<div>\n",
       "<style scoped>\n",
       "    .dataframe tbody tr th:only-of-type {\n",
       "        vertical-align: middle;\n",
       "    }\n",
       "\n",
       "    .dataframe tbody tr th {\n",
       "        vertical-align: top;\n",
       "    }\n",
       "\n",
       "    .dataframe thead th {\n",
       "        text-align: right;\n",
       "    }\n",
       "</style>\n",
       "<table border=\"1\" class=\"dataframe\">\n",
       "  <thead>\n",
       "    <tr style=\"text-align: right;\">\n",
       "      <th></th>\n",
       "      <th>maker</th>\n",
       "      <th>electric_vehicles_sold</th>\n",
       "    </tr>\n",
       "  </thead>\n",
       "  <tbody>\n",
       "    <tr>\n",
       "      <th>8</th>\n",
       "      <td>Tata Motors</td>\n",
       "      <td>88935</td>\n",
       "    </tr>\n",
       "    <tr>\n",
       "      <th>5</th>\n",
       "      <td>Mahindra and Mahindra</td>\n",
       "      <td>41193</td>\n",
       "    </tr>\n",
       "    <tr>\n",
       "      <th>4</th>\n",
       "      <td>MG Motor</td>\n",
       "      <td>13753</td>\n",
       "    </tr>\n",
       "    <tr>\n",
       "      <th>1</th>\n",
       "      <td>BYD India</td>\n",
       "      <td>2419</td>\n",
       "    </tr>\n",
       "    <tr>\n",
       "      <th>2</th>\n",
       "      <td>Hyundai Motor</td>\n",
       "      <td>2076</td>\n",
       "    </tr>\n",
       "    <tr>\n",
       "      <th>7</th>\n",
       "      <td>PCA Automobiles</td>\n",
       "      <td>1684</td>\n",
       "    </tr>\n",
       "    <tr>\n",
       "      <th>0</th>\n",
       "      <td>BMW India</td>\n",
       "      <td>1370</td>\n",
       "    </tr>\n",
       "    <tr>\n",
       "      <th>9</th>\n",
       "      <td>Volvo Auto India</td>\n",
       "      <td>568</td>\n",
       "    </tr>\n",
       "    <tr>\n",
       "      <th>3</th>\n",
       "      <td>KIA Motors</td>\n",
       "      <td>557</td>\n",
       "    </tr>\n",
       "    <tr>\n",
       "      <th>6</th>\n",
       "      <td>Mercedes-Benz AG</td>\n",
       "      <td>388</td>\n",
       "    </tr>\n",
       "  </tbody>\n",
       "</table>\n",
       "</div>"
      ],
      "text/plain": [
       "                   maker  electric_vehicles_sold\n",
       "8            Tata Motors                   88935\n",
       "5  Mahindra and Mahindra                   41193\n",
       "4               MG Motor                   13753\n",
       "1              BYD India                    2419\n",
       "2          Hyundai Motor                    2076\n",
       "7        PCA Automobiles                    1684\n",
       "0              BMW India                    1370\n",
       "9       Volvo Auto India                     568\n",
       "3             KIA Motors                     557\n",
       "6       Mercedes-Benz AG                     388"
      ]
     },
     "metadata": {},
     "output_type": "display_data"
    }
   ],
   "source": [
    "# Group by maker and fiscal year, then sum EV sales\n",
    "sales_by_maker_year = df_4w.groupby(['maker', 'fiscal_year'])['electric_vehicles_sold'].sum().reset_index()\n",
    "\n",
    "# Calculate total sales across all years for each maker\n",
    "total_sales_by_maker = sales_by_maker_year.groupby('maker')['electric_vehicles_sold'].sum().reset_index()\n",
    "total_sales_by_maker = total_sales_by_maker.sort_values('electric_vehicles_sold', ascending=False)\n",
    "\n",
    "# Display total sales by maker\n",
    "print(\"Total 4-Wheeler EV Sales by Manufacturer (All Years):\")\n",
    "print(\"-\" * 50)\n",
    "display(total_sales_by_maker.head(10))"
   ]
  },
  {
   "cell_type": "markdown",
   "id": "34f59c0a",
   "metadata": {},
   "source": [
    "## 4. Identify Top 5 Makers by Sales Volume\n",
    "\n",
    "Now, let's identify the top 5 makers by total sales volume and analyze their performance:"
   ]
  },
  {
   "cell_type": "code",
   "execution_count": 6,
   "id": "3dd9dfbf",
   "metadata": {},
   "outputs": [
    {
     "name": "stdout",
     "output_type": "stream",
     "text": [
      "Top 5 Makers by Total Sales:\n",
      "--------------------------------------------------\n",
      "1. Tata Motors\n",
      "2. Mahindra and Mahindra\n",
      "3. MG Motor\n",
      "4. BYD India\n",
      "5. Hyundai Motor\n",
      "\n",
      "Sales by Fiscal Year for Top 5 Makers:\n",
      "--------------------------------------------------\n"
     ]
    },
    {
     "data": {
      "text/html": [
       "<div>\n",
       "<style scoped>\n",
       "    .dataframe tbody tr th:only-of-type {\n",
       "        vertical-align: middle;\n",
       "    }\n",
       "\n",
       "    .dataframe tbody tr th {\n",
       "        vertical-align: top;\n",
       "    }\n",
       "\n",
       "    .dataframe thead th {\n",
       "        text-align: right;\n",
       "    }\n",
       "</style>\n",
       "<table border=\"1\" class=\"dataframe\">\n",
       "  <thead>\n",
       "    <tr style=\"text-align: right;\">\n",
       "      <th>fiscal_year</th>\n",
       "      <th>maker</th>\n",
       "      <th>2022</th>\n",
       "      <th>2023</th>\n",
       "      <th>2024</th>\n",
       "    </tr>\n",
       "  </thead>\n",
       "  <tbody>\n",
       "    <tr>\n",
       "      <th>0</th>\n",
       "      <td>BYD India</td>\n",
       "      <td>33</td>\n",
       "      <td>920</td>\n",
       "      <td>1466</td>\n",
       "    </tr>\n",
       "    <tr>\n",
       "      <th>1</th>\n",
       "      <td>Hyundai Motor</td>\n",
       "      <td>110</td>\n",
       "      <td>576</td>\n",
       "      <td>1390</td>\n",
       "    </tr>\n",
       "    <tr>\n",
       "      <th>2</th>\n",
       "      <td>MG Motor</td>\n",
       "      <td>1647</td>\n",
       "      <td>3277</td>\n",
       "      <td>8829</td>\n",
       "    </tr>\n",
       "    <tr>\n",
       "      <th>3</th>\n",
       "      <td>Mahindra and Mahindra</td>\n",
       "      <td>4042</td>\n",
       "      <td>13805</td>\n",
       "      <td>23346</td>\n",
       "    </tr>\n",
       "    <tr>\n",
       "      <th>4</th>\n",
       "      <td>Tata Motors</td>\n",
       "      <td>12708</td>\n",
       "      <td>28046</td>\n",
       "      <td>48181</td>\n",
       "    </tr>\n",
       "  </tbody>\n",
       "</table>\n",
       "</div>"
      ],
      "text/plain": [
       "fiscal_year                  maker   2022   2023   2024\n",
       "0                        BYD India     33    920   1466\n",
       "1                    Hyundai Motor    110    576   1390\n",
       "2                         MG Motor   1647   3277   8829\n",
       "3            Mahindra and Mahindra   4042  13805  23346\n",
       "4                      Tata Motors  12708  28046  48181"
      ]
     },
     "metadata": {},
     "output_type": "display_data"
    }
   ],
   "source": [
    "# Select top 5 makers by total sales\n",
    "top_5_makers = total_sales_by_maker.head(5)['maker'].tolist()\n",
    "print(\"Top 5 Makers by Total Sales:\")\n",
    "print(\"-\" * 50)\n",
    "for i, maker in enumerate(top_5_makers, 1):\n",
    "    print(f\"{i}. {maker}\")\n",
    "\n",
    "# Filter sales data for top 5 makers\n",
    "top_5_sales = sales_by_maker_year[sales_by_maker_year['maker'].isin(top_5_makers)]\n",
    "\n",
    "# Pivot data to get years as columns\n",
    "pivot_sales = top_5_sales.pivot(index='maker', columns='fiscal_year', values='electric_vehicles_sold').reset_index()\n",
    "\n",
    "# Display the pivoted data\n",
    "print(\"\\nSales by Fiscal Year for Top 5 Makers:\")\n",
    "print(\"-\" * 50)\n",
    "display(pivot_sales)"
   ]
  },
  {
   "cell_type": "markdown",
   "id": "7a0874fc",
   "metadata": {},
   "source": [
    "## 5. Calculate CAGR for Top Makers\n",
    "\n",
    "Let's calculate the Compound Annual Growth Rate (CAGR) for each of the top 5 makers from 2022 to 2024:"
   ]
  },
  {
   "cell_type": "code",
   "execution_count": 7,
   "id": "8490715d",
   "metadata": {},
   "outputs": [
    {
     "name": "stdout",
     "output_type": "stream",
     "text": [
      "CAGR (%) for Top 5 4-Wheeler EV Makers (2022-2024):\n",
      "----------------------------------------------------------------------\n"
     ]
    },
    {
     "data": {
      "text/html": [
       "<div>\n",
       "<style scoped>\n",
       "    .dataframe tbody tr th:only-of-type {\n",
       "        vertical-align: middle;\n",
       "    }\n",
       "\n",
       "    .dataframe tbody tr th {\n",
       "        vertical-align: top;\n",
       "    }\n",
       "\n",
       "    .dataframe thead th {\n",
       "        text-align: right;\n",
       "    }\n",
       "</style>\n",
       "<table border=\"1\" class=\"dataframe\">\n",
       "  <thead>\n",
       "    <tr style=\"text-align: right;\">\n",
       "      <th>fiscal_year</th>\n",
       "      <th>maker</th>\n",
       "      <th>2022 Sales</th>\n",
       "      <th>2023 Sales</th>\n",
       "      <th>2024 Sales</th>\n",
       "      <th>CAGR (%)</th>\n",
       "    </tr>\n",
       "  </thead>\n",
       "  <tbody>\n",
       "    <tr>\n",
       "      <th>0</th>\n",
       "      <td>BYD India</td>\n",
       "      <td>33</td>\n",
       "      <td>920</td>\n",
       "      <td>1466</td>\n",
       "      <td>566.515134</td>\n",
       "    </tr>\n",
       "    <tr>\n",
       "      <th>1</th>\n",
       "      <td>Hyundai Motor</td>\n",
       "      <td>110</td>\n",
       "      <td>576</td>\n",
       "      <td>1390</td>\n",
       "      <td>255.476633</td>\n",
       "    </tr>\n",
       "    <tr>\n",
       "      <th>3</th>\n",
       "      <td>Mahindra and Mahindra</td>\n",
       "      <td>4042</td>\n",
       "      <td>13805</td>\n",
       "      <td>23346</td>\n",
       "      <td>140.330055</td>\n",
       "    </tr>\n",
       "    <tr>\n",
       "      <th>2</th>\n",
       "      <td>MG Motor</td>\n",
       "      <td>1647</td>\n",
       "      <td>3277</td>\n",
       "      <td>8829</td>\n",
       "      <td>131.530899</td>\n",
       "    </tr>\n",
       "    <tr>\n",
       "      <th>4</th>\n",
       "      <td>Tata Motors</td>\n",
       "      <td>12708</td>\n",
       "      <td>28046</td>\n",
       "      <td>48181</td>\n",
       "      <td>94.714952</td>\n",
       "    </tr>\n",
       "  </tbody>\n",
       "</table>\n",
       "</div>"
      ],
      "text/plain": [
       "fiscal_year                  maker  2022 Sales  2023 Sales  2024 Sales  \\\n",
       "0                        BYD India          33         920        1466   \n",
       "1                    Hyundai Motor         110         576        1390   \n",
       "3            Mahindra and Mahindra        4042       13805       23346   \n",
       "2                         MG Motor        1647        3277        8829   \n",
       "4                      Tata Motors       12708       28046       48181   \n",
       "\n",
       "fiscal_year    CAGR (%)  \n",
       "0            566.515134  \n",
       "1            255.476633  \n",
       "3            140.330055  \n",
       "2            131.530899  \n",
       "4             94.714952  "
      ]
     },
     "metadata": {},
     "output_type": "display_data"
    }
   ],
   "source": [
    "# Define CAGR calculation function\n",
    "def calculate_cagr(start_value, end_value, years):\n",
    "    \"\"\"Calculate Compound Annual Growth Rate\"\"\"\n",
    "    if start_value <= 0:  # Avoid division by zero\n",
    "        return None\n",
    "    return ((end_value / start_value) ** (1/years) - 1) * 100\n",
    "\n",
    "# Ensure all required years exist in the pivot table\n",
    "for year in [2022, 2023, 2024]:\n",
    "    if year not in pivot_sales.columns:\n",
    "        pivot_sales[year] = np.nan\n",
    "\n",
    "# Calculate CAGR for each maker (2022 to 2024)\n",
    "pivot_sales['CAGR (%)'] = pivot_sales.apply(\n",
    "    lambda row: calculate_cagr(row[2022], row[2024], 2) if pd.notnull(row[2022]) and pd.notnull(row[2024]) else None,\n",
    "    axis=1\n",
    ")\n",
    "\n",
    "# Sort by CAGR\n",
    "pivot_sales_sorted = pivot_sales.sort_values('CAGR (%)', ascending=False)\n",
    "\n",
    "# Display results\n",
    "print(\"CAGR (%) for Top 5 4-Wheeler EV Makers (2022-2024):\")\n",
    "print(\"-\" * 70)\n",
    "display(pivot_sales_sorted[['maker', 2022, 2023, 2024, 'CAGR (%)']].rename(\n",
    "    columns={2022: '2022 Sales', 2023: '2023 Sales', 2024: '2024 Sales'}\n",
    "))"
   ]
  },
  {
   "cell_type": "markdown",
   "id": "3a568296",
   "metadata": {},
   "source": [
    "## 6. Create CAGR Visualization\n",
    "\n",
    "Let's create visualizations to better understand and compare the CAGR of the top 5 manufacturers:"
   ]
  },
  {
   "cell_type": "code",
   "execution_count": 8,
   "id": "e8d89c3e",
   "metadata": {},
   "outputs": [
    {
     "data": {
      "application/vnd.plotly.v1+json": {
       "config": {
        "plotlyServerURL": "https://plot.ly"
       },
       "data": [
        {
         "marker": {
          "color": [
           "rgb(107,174,214)",
           "rgb(66,146,198)",
           "rgb(33,113,181)",
           "rgb(8,81,156)",
           "rgb(8,48,107)"
          ],
          "line": {
           "color": "rgb(8,48,107)",
           "width": 1.5
          }
         },
         "name": "CAGR (%)",
         "text": [
          "566.52%",
          "255.48%",
          "140.33%",
          "131.53%",
          "94.71%"
         ],
         "textposition": "outside",
         "type": "bar",
         "x": [
          "BYD India",
          "Hyundai Motor",
          "Mahindra and Mahindra",
          "MG Motor",
          "Tata Motors"
         ],
         "y": {
          "bdata": "tIC6/h60gUArGiCTQO9vQDQFsM+PimFAiyW9IP1wYEBreaTFwa1XQA==",
          "dtype": "f8"
         }
        }
       ],
       "layout": {
        "annotations": [
         {
          "showarrow": false,
          "text": "0% Growth",
          "x": 1,
          "xanchor": "right",
          "xref": "x domain",
          "y": 0,
          "yanchor": "top",
          "yref": "y"
         },
         {
          "showarrow": false,
          "text": "Avg CAGR: 237.71%",
          "x": 1,
          "xanchor": "right",
          "xref": "x domain",
          "y": 237.7135346686532,
          "yanchor": "bottom",
          "yref": "y"
         }
        ],
        "height": 500,
        "plot_bgcolor": "white",
        "shapes": [
         {
          "line": {
           "color": "red",
           "dash": "dash"
          },
          "type": "line",
          "x0": 0,
          "x1": 1,
          "xref": "x domain",
          "y0": 0,
          "y1": 0,
          "yref": "y"
         },
         {
          "line": {
           "color": "green",
           "dash": "dot"
          },
          "type": "line",
          "x0": 0,
          "x1": 1,
          "xref": "x domain",
          "y0": 237.7135346686532,
          "y1": 237.7135346686532,
          "yref": "y"
         }
        ],
        "template": {
         "data": {
          "bar": [
           {
            "error_x": {
             "color": "#2a3f5f"
            },
            "error_y": {
             "color": "#2a3f5f"
            },
            "marker": {
             "line": {
              "color": "white",
              "width": 0.5
             },
             "pattern": {
              "fillmode": "overlay",
              "size": 10,
              "solidity": 0.2
             }
            },
            "type": "bar"
           }
          ],
          "barpolar": [
           {
            "marker": {
             "line": {
              "color": "white",
              "width": 0.5
             },
             "pattern": {
              "fillmode": "overlay",
              "size": 10,
              "solidity": 0.2
             }
            },
            "type": "barpolar"
           }
          ],
          "carpet": [
           {
            "aaxis": {
             "endlinecolor": "#2a3f5f",
             "gridcolor": "#C8D4E3",
             "linecolor": "#C8D4E3",
             "minorgridcolor": "#C8D4E3",
             "startlinecolor": "#2a3f5f"
            },
            "baxis": {
             "endlinecolor": "#2a3f5f",
             "gridcolor": "#C8D4E3",
             "linecolor": "#C8D4E3",
             "minorgridcolor": "#C8D4E3",
             "startlinecolor": "#2a3f5f"
            },
            "type": "carpet"
           }
          ],
          "choropleth": [
           {
            "colorbar": {
             "outlinewidth": 0,
             "ticks": ""
            },
            "type": "choropleth"
           }
          ],
          "contour": [
           {
            "colorbar": {
             "outlinewidth": 0,
             "ticks": ""
            },
            "colorscale": [
             [
              0,
              "#0d0887"
             ],
             [
              0.1111111111111111,
              "#46039f"
             ],
             [
              0.2222222222222222,
              "#7201a8"
             ],
             [
              0.3333333333333333,
              "#9c179e"
             ],
             [
              0.4444444444444444,
              "#bd3786"
             ],
             [
              0.5555555555555556,
              "#d8576b"
             ],
             [
              0.6666666666666666,
              "#ed7953"
             ],
             [
              0.7777777777777778,
              "#fb9f3a"
             ],
             [
              0.8888888888888888,
              "#fdca26"
             ],
             [
              1,
              "#f0f921"
             ]
            ],
            "type": "contour"
           }
          ],
          "contourcarpet": [
           {
            "colorbar": {
             "outlinewidth": 0,
             "ticks": ""
            },
            "type": "contourcarpet"
           }
          ],
          "heatmap": [
           {
            "colorbar": {
             "outlinewidth": 0,
             "ticks": ""
            },
            "colorscale": [
             [
              0,
              "#0d0887"
             ],
             [
              0.1111111111111111,
              "#46039f"
             ],
             [
              0.2222222222222222,
              "#7201a8"
             ],
             [
              0.3333333333333333,
              "#9c179e"
             ],
             [
              0.4444444444444444,
              "#bd3786"
             ],
             [
              0.5555555555555556,
              "#d8576b"
             ],
             [
              0.6666666666666666,
              "#ed7953"
             ],
             [
              0.7777777777777778,
              "#fb9f3a"
             ],
             [
              0.8888888888888888,
              "#fdca26"
             ],
             [
              1,
              "#f0f921"
             ]
            ],
            "type": "heatmap"
           }
          ],
          "histogram": [
           {
            "marker": {
             "pattern": {
              "fillmode": "overlay",
              "size": 10,
              "solidity": 0.2
             }
            },
            "type": "histogram"
           }
          ],
          "histogram2d": [
           {
            "colorbar": {
             "outlinewidth": 0,
             "ticks": ""
            },
            "colorscale": [
             [
              0,
              "#0d0887"
             ],
             [
              0.1111111111111111,
              "#46039f"
             ],
             [
              0.2222222222222222,
              "#7201a8"
             ],
             [
              0.3333333333333333,
              "#9c179e"
             ],
             [
              0.4444444444444444,
              "#bd3786"
             ],
             [
              0.5555555555555556,
              "#d8576b"
             ],
             [
              0.6666666666666666,
              "#ed7953"
             ],
             [
              0.7777777777777778,
              "#fb9f3a"
             ],
             [
              0.8888888888888888,
              "#fdca26"
             ],
             [
              1,
              "#f0f921"
             ]
            ],
            "type": "histogram2d"
           }
          ],
          "histogram2dcontour": [
           {
            "colorbar": {
             "outlinewidth": 0,
             "ticks": ""
            },
            "colorscale": [
             [
              0,
              "#0d0887"
             ],
             [
              0.1111111111111111,
              "#46039f"
             ],
             [
              0.2222222222222222,
              "#7201a8"
             ],
             [
              0.3333333333333333,
              "#9c179e"
             ],
             [
              0.4444444444444444,
              "#bd3786"
             ],
             [
              0.5555555555555556,
              "#d8576b"
             ],
             [
              0.6666666666666666,
              "#ed7953"
             ],
             [
              0.7777777777777778,
              "#fb9f3a"
             ],
             [
              0.8888888888888888,
              "#fdca26"
             ],
             [
              1,
              "#f0f921"
             ]
            ],
            "type": "histogram2dcontour"
           }
          ],
          "mesh3d": [
           {
            "colorbar": {
             "outlinewidth": 0,
             "ticks": ""
            },
            "type": "mesh3d"
           }
          ],
          "parcoords": [
           {
            "line": {
             "colorbar": {
              "outlinewidth": 0,
              "ticks": ""
             }
            },
            "type": "parcoords"
           }
          ],
          "pie": [
           {
            "automargin": true,
            "type": "pie"
           }
          ],
          "scatter": [
           {
            "fillpattern": {
             "fillmode": "overlay",
             "size": 10,
             "solidity": 0.2
            },
            "type": "scatter"
           }
          ],
          "scatter3d": [
           {
            "line": {
             "colorbar": {
              "outlinewidth": 0,
              "ticks": ""
             }
            },
            "marker": {
             "colorbar": {
              "outlinewidth": 0,
              "ticks": ""
             }
            },
            "type": "scatter3d"
           }
          ],
          "scattercarpet": [
           {
            "marker": {
             "colorbar": {
              "outlinewidth": 0,
              "ticks": ""
             }
            },
            "type": "scattercarpet"
           }
          ],
          "scattergeo": [
           {
            "marker": {
             "colorbar": {
              "outlinewidth": 0,
              "ticks": ""
             }
            },
            "type": "scattergeo"
           }
          ],
          "scattergl": [
           {
            "marker": {
             "colorbar": {
              "outlinewidth": 0,
              "ticks": ""
             }
            },
            "type": "scattergl"
           }
          ],
          "scattermap": [
           {
            "marker": {
             "colorbar": {
              "outlinewidth": 0,
              "ticks": ""
             }
            },
            "type": "scattermap"
           }
          ],
          "scattermapbox": [
           {
            "marker": {
             "colorbar": {
              "outlinewidth": 0,
              "ticks": ""
             }
            },
            "type": "scattermapbox"
           }
          ],
          "scatterpolar": [
           {
            "marker": {
             "colorbar": {
              "outlinewidth": 0,
              "ticks": ""
             }
            },
            "type": "scatterpolar"
           }
          ],
          "scatterpolargl": [
           {
            "marker": {
             "colorbar": {
              "outlinewidth": 0,
              "ticks": ""
             }
            },
            "type": "scatterpolargl"
           }
          ],
          "scatterternary": [
           {
            "marker": {
             "colorbar": {
              "outlinewidth": 0,
              "ticks": ""
             }
            },
            "type": "scatterternary"
           }
          ],
          "surface": [
           {
            "colorbar": {
             "outlinewidth": 0,
             "ticks": ""
            },
            "colorscale": [
             [
              0,
              "#0d0887"
             ],
             [
              0.1111111111111111,
              "#46039f"
             ],
             [
              0.2222222222222222,
              "#7201a8"
             ],
             [
              0.3333333333333333,
              "#9c179e"
             ],
             [
              0.4444444444444444,
              "#bd3786"
             ],
             [
              0.5555555555555556,
              "#d8576b"
             ],
             [
              0.6666666666666666,
              "#ed7953"
             ],
             [
              0.7777777777777778,
              "#fb9f3a"
             ],
             [
              0.8888888888888888,
              "#fdca26"
             ],
             [
              1,
              "#f0f921"
             ]
            ],
            "type": "surface"
           }
          ],
          "table": [
           {
            "cells": {
             "fill": {
              "color": "#EBF0F8"
             },
             "line": {
              "color": "white"
             }
            },
            "header": {
             "fill": {
              "color": "#C8D4E3"
             },
             "line": {
              "color": "white"
             }
            },
            "type": "table"
           }
          ]
         },
         "layout": {
          "annotationdefaults": {
           "arrowcolor": "#2a3f5f",
           "arrowhead": 0,
           "arrowwidth": 1
          },
          "autotypenumbers": "strict",
          "coloraxis": {
           "colorbar": {
            "outlinewidth": 0,
            "ticks": ""
           }
          },
          "colorscale": {
           "diverging": [
            [
             0,
             "#8e0152"
            ],
            [
             0.1,
             "#c51b7d"
            ],
            [
             0.2,
             "#de77ae"
            ],
            [
             0.3,
             "#f1b6da"
            ],
            [
             0.4,
             "#fde0ef"
            ],
            [
             0.5,
             "#f7f7f7"
            ],
            [
             0.6,
             "#e6f5d0"
            ],
            [
             0.7,
             "#b8e186"
            ],
            [
             0.8,
             "#7fbc41"
            ],
            [
             0.9,
             "#4d9221"
            ],
            [
             1,
             "#276419"
            ]
           ],
           "sequential": [
            [
             0,
             "#0d0887"
            ],
            [
             0.1111111111111111,
             "#46039f"
            ],
            [
             0.2222222222222222,
             "#7201a8"
            ],
            [
             0.3333333333333333,
             "#9c179e"
            ],
            [
             0.4444444444444444,
             "#bd3786"
            ],
            [
             0.5555555555555556,
             "#d8576b"
            ],
            [
             0.6666666666666666,
             "#ed7953"
            ],
            [
             0.7777777777777778,
             "#fb9f3a"
            ],
            [
             0.8888888888888888,
             "#fdca26"
            ],
            [
             1,
             "#f0f921"
            ]
           ],
           "sequentialminus": [
            [
             0,
             "#0d0887"
            ],
            [
             0.1111111111111111,
             "#46039f"
            ],
            [
             0.2222222222222222,
             "#7201a8"
            ],
            [
             0.3333333333333333,
             "#9c179e"
            ],
            [
             0.4444444444444444,
             "#bd3786"
            ],
            [
             0.5555555555555556,
             "#d8576b"
            ],
            [
             0.6666666666666666,
             "#ed7953"
            ],
            [
             0.7777777777777778,
             "#fb9f3a"
            ],
            [
             0.8888888888888888,
             "#fdca26"
            ],
            [
             1,
             "#f0f921"
            ]
           ]
          },
          "colorway": [
           "#636efa",
           "#EF553B",
           "#00cc96",
           "#ab63fa",
           "#FFA15A",
           "#19d3f3",
           "#FF6692",
           "#B6E880",
           "#FF97FF",
           "#FECB52"
          ],
          "font": {
           "color": "#2a3f5f"
          },
          "geo": {
           "bgcolor": "white",
           "lakecolor": "white",
           "landcolor": "white",
           "showlakes": true,
           "showland": true,
           "subunitcolor": "#C8D4E3"
          },
          "hoverlabel": {
           "align": "left"
          },
          "hovermode": "closest",
          "mapbox": {
           "style": "light"
          },
          "paper_bgcolor": "white",
          "plot_bgcolor": "white",
          "polar": {
           "angularaxis": {
            "gridcolor": "#EBF0F8",
            "linecolor": "#EBF0F8",
            "ticks": ""
           },
           "bgcolor": "white",
           "radialaxis": {
            "gridcolor": "#EBF0F8",
            "linecolor": "#EBF0F8",
            "ticks": ""
           }
          },
          "scene": {
           "xaxis": {
            "backgroundcolor": "white",
            "gridcolor": "#DFE8F3",
            "gridwidth": 2,
            "linecolor": "#EBF0F8",
            "showbackground": true,
            "ticks": "",
            "zerolinecolor": "#EBF0F8"
           },
           "yaxis": {
            "backgroundcolor": "white",
            "gridcolor": "#DFE8F3",
            "gridwidth": 2,
            "linecolor": "#EBF0F8",
            "showbackground": true,
            "ticks": "",
            "zerolinecolor": "#EBF0F8"
           },
           "zaxis": {
            "backgroundcolor": "white",
            "gridcolor": "#DFE8F3",
            "gridwidth": 2,
            "linecolor": "#EBF0F8",
            "showbackground": true,
            "ticks": "",
            "zerolinecolor": "#EBF0F8"
           }
          },
          "shapedefaults": {
           "line": {
            "color": "#2a3f5f"
           }
          },
          "ternary": {
           "aaxis": {
            "gridcolor": "#DFE8F3",
            "linecolor": "#A2B1C6",
            "ticks": ""
           },
           "baxis": {
            "gridcolor": "#DFE8F3",
            "linecolor": "#A2B1C6",
            "ticks": ""
           },
           "bgcolor": "white",
           "caxis": {
            "gridcolor": "#DFE8F3",
            "linecolor": "#A2B1C6",
            "ticks": ""
           }
          },
          "title": {
           "x": 0.05
          },
          "xaxis": {
           "automargin": true,
           "gridcolor": "#EBF0F8",
           "linecolor": "#EBF0F8",
           "ticks": "",
           "title": {
            "standoff": 15
           },
           "zerolinecolor": "#EBF0F8",
           "zerolinewidth": 2
          },
          "yaxis": {
           "automargin": true,
           "gridcolor": "#EBF0F8",
           "linecolor": "#EBF0F8",
           "ticks": "",
           "title": {
            "standoff": 15
           },
           "zerolinecolor": "#EBF0F8",
           "zerolinewidth": 2
          }
         }
        },
        "title": {
         "font": {
          "size": 20
         },
         "text": "CAGR (%) for Top 5 4-Wheeler EV Makers (2022-2024)",
         "x": 0.5,
         "xanchor": "center",
         "y": 0.95,
         "yanchor": "top"
        },
        "width": 900,
        "xaxis": {
         "title": {
          "text": "EV Maker"
         }
        },
        "yaxis": {
         "gridcolor": "lightgray",
         "ticksuffix": "%",
         "title": {
          "text": "CAGR (%)"
         },
         "zeroline": false
        }
       }
      }
     },
     "metadata": {},
     "output_type": "display_data"
    }
   ],
   "source": [
    "# Create a bar chart for CAGR comparison using Plotly\n",
    "result_df = pivot_sales_sorted.copy()\n",
    "result_df = result_df.rename(columns={2022: '2022 Sales', 2023: '2023 Sales', 2024: '2024 Sales'})\n",
    "\n",
    "fig = go.Figure()\n",
    "\n",
    "# Add bar chart for CAGR\n",
    "fig.add_trace(\n",
    "    go.Bar(\n",
    "        x=result_df['maker'],\n",
    "        y=result_df['CAGR (%)'],\n",
    "        text=result_df['CAGR (%)'].apply(lambda x: f\"{x:.2f}%\" if pd.notnull(x) else \"N/A\"),\n",
    "        textposition='outside',\n",
    "        marker_color=px.colors.sequential.Blues[-5:],\n",
    "        marker_line_color='rgb(8,48,107)',\n",
    "        marker_line_width=1.5,\n",
    "        name='CAGR (%)'\n",
    "    )\n",
    ")\n",
    "\n",
    "# Add horizontal line at 0% for reference\n",
    "fig.add_hline(\n",
    "    y=0, \n",
    "    line_dash=\"dash\", \n",
    "    line_color=\"red\",\n",
    "    annotation_text=\"0% Growth\", \n",
    "    annotation_position=\"bottom right\"\n",
    ")\n",
    "\n",
    "# Add average CAGR reference line\n",
    "avg_cagr = result_df['CAGR (%)'].mean()\n",
    "if not pd.isna(avg_cagr):\n",
    "    fig.add_hline(\n",
    "        y=avg_cagr, \n",
    "        line_dash=\"dot\", \n",
    "        line_color=\"green\",\n",
    "        annotation_text=f\"Avg CAGR: {avg_cagr:.2f}%\", \n",
    "        annotation_position=\"top right\"\n",
    "    )\n",
    "\n",
    "# Update layout\n",
    "fig.update_layout(\n",
    "    title={\n",
    "        'text': 'CAGR (%) for Top 5 4-Wheeler EV Makers (2022-2024)',\n",
    "        'y':0.95,\n",
    "        'x':0.5,\n",
    "        'xanchor': 'center',\n",
    "        'yanchor': 'top',\n",
    "        'font': dict(size=20)\n",
    "    },\n",
    "    xaxis_title='EV Maker',\n",
    "    yaxis_title='CAGR (%)',\n",
    "    template='plotly_white',\n",
    "    height=500,\n",
    "    width=900,\n",
    "    yaxis=dict(\n",
    "        ticksuffix='%',\n",
    "        zeroline=False,\n",
    "        gridcolor='lightgray'\n",
    "    ),\n",
    "    plot_bgcolor='white'\n",
    ")\n",
    "\n",
    "fig.show()"
   ]
  },
  {
   "cell_type": "markdown",
   "id": "dfee9b3d",
   "metadata": {},
   "source": [
    "## 7. Year-over-Year Sales Analysis\n",
    "\n",
    "Let's analyze the year-over-year sales trends for each of the top 5 manufacturers:"
   ]
  },
  {
   "cell_type": "code",
   "execution_count": 9,
   "id": "92bc497d",
   "metadata": {},
   "outputs": [
    {
     "data": {
      "application/vnd.plotly.v1+json": {
       "config": {
        "plotlyServerURL": "https://plot.ly"
       },
       "data": [
        {
         "hovertemplate": "maker=BYD India<br>Year=%{x}<br>Units Sold=%{y}<extra></extra>",
         "legendgroup": "BYD India",
         "line": {
          "color": "rgb(127, 60, 141)",
          "dash": "solid",
          "width": 3
         },
         "marker": {
          "size": 10,
          "symbol": "circle"
         },
         "mode": "lines+markers",
         "name": "BYD India",
         "orientation": "v",
         "showlegend": true,
         "type": "scatter",
         "x": [
          "2022",
          "2023",
          "2024"
         ],
         "xaxis": "x",
         "y": {
          "bdata": "IQCYA7oF",
          "dtype": "i2"
         },
         "yaxis": "y"
        },
        {
         "hovertemplate": "maker=Hyundai Motor<br>Year=%{x}<br>Units Sold=%{y}<extra></extra>",
         "legendgroup": "Hyundai Motor",
         "line": {
          "color": "rgb(17, 165, 121)",
          "dash": "solid",
          "width": 3
         },
         "marker": {
          "size": 10,
          "symbol": "circle"
         },
         "mode": "lines+markers",
         "name": "Hyundai Motor",
         "orientation": "v",
         "showlegend": true,
         "type": "scatter",
         "x": [
          "2022",
          "2023",
          "2024"
         ],
         "xaxis": "x",
         "y": {
          "bdata": "bgBAAm4F",
          "dtype": "i2"
         },
         "yaxis": "y"
        },
        {
         "hovertemplate": "maker=Mahindra and Mahindra<br>Year=%{x}<br>Units Sold=%{y}<extra></extra>",
         "legendgroup": "Mahindra and Mahindra",
         "line": {
          "color": "rgb(57, 105, 172)",
          "dash": "solid",
          "width": 3
         },
         "marker": {
          "size": 10,
          "symbol": "circle"
         },
         "mode": "lines+markers",
         "name": "Mahindra and Mahindra",
         "orientation": "v",
         "showlegend": true,
         "type": "scatter",
         "x": [
          "2022",
          "2023",
          "2024"
         ],
         "xaxis": "x",
         "y": {
          "bdata": "yg/tNTJb",
          "dtype": "i2"
         },
         "yaxis": "y"
        },
        {
         "hovertemplate": "maker=MG Motor<br>Year=%{x}<br>Units Sold=%{y}<extra></extra>",
         "legendgroup": "MG Motor",
         "line": {
          "color": "rgb(242, 183, 1)",
          "dash": "solid",
          "width": 3
         },
         "marker": {
          "size": 10,
          "symbol": "circle"
         },
         "mode": "lines+markers",
         "name": "MG Motor",
         "orientation": "v",
         "showlegend": true,
         "type": "scatter",
         "x": [
          "2022",
          "2023",
          "2024"
         ],
         "xaxis": "x",
         "y": {
          "bdata": "bwbNDH0i",
          "dtype": "i2"
         },
         "yaxis": "y"
        },
        {
         "hovertemplate": "maker=Tata Motors<br>Year=%{x}<br>Units Sold=%{y}<extra></extra>",
         "legendgroup": "Tata Motors",
         "line": {
          "color": "rgb(231, 63, 116)",
          "dash": "solid",
          "width": 3
         },
         "marker": {
          "size": 10,
          "symbol": "circle"
         },
         "mode": "lines+markers",
         "name": "Tata Motors",
         "orientation": "v",
         "showlegend": true,
         "type": "scatter",
         "x": [
          "2022",
          "2023",
          "2024"
         ],
         "xaxis": "x",
         "y": {
          "bdata": "pDEAAI5tAAA1vAAA",
          "dtype": "i4"
         },
         "yaxis": "y"
        },
        {
         "mode": "text",
         "showlegend": false,
         "text": [
          "33",
          "920",
          "1,466"
         ],
         "textfont": {
          "color": "black"
         },
         "textposition": "top center",
         "type": "scatter",
         "x": [
          "2022",
          "2023",
          "2024"
         ],
         "y": {
          "bdata": "IQCYA7oF",
          "dtype": "i2"
         }
        },
        {
         "mode": "text",
         "showlegend": false,
         "text": [
          "110",
          "576",
          "1,390"
         ],
         "textfont": {
          "color": "black"
         },
         "textposition": "top center",
         "type": "scatter",
         "x": [
          "2022",
          "2023",
          "2024"
         ],
         "y": {
          "bdata": "bgBAAm4F",
          "dtype": "i2"
         }
        },
        {
         "mode": "text",
         "showlegend": false,
         "text": [
          "4,042",
          "13,805",
          "23,346"
         ],
         "textfont": {
          "color": "black"
         },
         "textposition": "top center",
         "type": "scatter",
         "x": [
          "2022",
          "2023",
          "2024"
         ],
         "y": {
          "bdata": "yg/tNTJb",
          "dtype": "i2"
         }
        },
        {
         "mode": "text",
         "showlegend": false,
         "text": [
          "1,647",
          "3,277",
          "8,829"
         ],
         "textfont": {
          "color": "black"
         },
         "textposition": "top center",
         "type": "scatter",
         "x": [
          "2022",
          "2023",
          "2024"
         ],
         "y": {
          "bdata": "bwbNDH0i",
          "dtype": "i2"
         }
        },
        {
         "mode": "text",
         "showlegend": false,
         "text": [
          "12,708",
          "28,046",
          "48,181"
         ],
         "textfont": {
          "color": "black"
         },
         "textposition": "top center",
         "type": "scatter",
         "x": [
          "2022",
          "2023",
          "2024"
         ],
         "y": {
          "bdata": "pDEAAI5tAAA1vAAA",
          "dtype": "i4"
         }
        }
       ],
       "layout": {
        "height": 500,
        "legend": {
         "orientation": "h",
         "title": {
          "text": "EV Maker"
         },
         "tracegroupgap": 0,
         "x": 1,
         "xanchor": "right",
         "y": 1.02,
         "yanchor": "bottom"
        },
        "template": {
         "data": {
          "bar": [
           {
            "error_x": {
             "color": "#2a3f5f"
            },
            "error_y": {
             "color": "#2a3f5f"
            },
            "marker": {
             "line": {
              "color": "white",
              "width": 0.5
             },
             "pattern": {
              "fillmode": "overlay",
              "size": 10,
              "solidity": 0.2
             }
            },
            "type": "bar"
           }
          ],
          "barpolar": [
           {
            "marker": {
             "line": {
              "color": "white",
              "width": 0.5
             },
             "pattern": {
              "fillmode": "overlay",
              "size": 10,
              "solidity": 0.2
             }
            },
            "type": "barpolar"
           }
          ],
          "carpet": [
           {
            "aaxis": {
             "endlinecolor": "#2a3f5f",
             "gridcolor": "#C8D4E3",
             "linecolor": "#C8D4E3",
             "minorgridcolor": "#C8D4E3",
             "startlinecolor": "#2a3f5f"
            },
            "baxis": {
             "endlinecolor": "#2a3f5f",
             "gridcolor": "#C8D4E3",
             "linecolor": "#C8D4E3",
             "minorgridcolor": "#C8D4E3",
             "startlinecolor": "#2a3f5f"
            },
            "type": "carpet"
           }
          ],
          "choropleth": [
           {
            "colorbar": {
             "outlinewidth": 0,
             "ticks": ""
            },
            "type": "choropleth"
           }
          ],
          "contour": [
           {
            "colorbar": {
             "outlinewidth": 0,
             "ticks": ""
            },
            "colorscale": [
             [
              0,
              "#0d0887"
             ],
             [
              0.1111111111111111,
              "#46039f"
             ],
             [
              0.2222222222222222,
              "#7201a8"
             ],
             [
              0.3333333333333333,
              "#9c179e"
             ],
             [
              0.4444444444444444,
              "#bd3786"
             ],
             [
              0.5555555555555556,
              "#d8576b"
             ],
             [
              0.6666666666666666,
              "#ed7953"
             ],
             [
              0.7777777777777778,
              "#fb9f3a"
             ],
             [
              0.8888888888888888,
              "#fdca26"
             ],
             [
              1,
              "#f0f921"
             ]
            ],
            "type": "contour"
           }
          ],
          "contourcarpet": [
           {
            "colorbar": {
             "outlinewidth": 0,
             "ticks": ""
            },
            "type": "contourcarpet"
           }
          ],
          "heatmap": [
           {
            "colorbar": {
             "outlinewidth": 0,
             "ticks": ""
            },
            "colorscale": [
             [
              0,
              "#0d0887"
             ],
             [
              0.1111111111111111,
              "#46039f"
             ],
             [
              0.2222222222222222,
              "#7201a8"
             ],
             [
              0.3333333333333333,
              "#9c179e"
             ],
             [
              0.4444444444444444,
              "#bd3786"
             ],
             [
              0.5555555555555556,
              "#d8576b"
             ],
             [
              0.6666666666666666,
              "#ed7953"
             ],
             [
              0.7777777777777778,
              "#fb9f3a"
             ],
             [
              0.8888888888888888,
              "#fdca26"
             ],
             [
              1,
              "#f0f921"
             ]
            ],
            "type": "heatmap"
           }
          ],
          "histogram": [
           {
            "marker": {
             "pattern": {
              "fillmode": "overlay",
              "size": 10,
              "solidity": 0.2
             }
            },
            "type": "histogram"
           }
          ],
          "histogram2d": [
           {
            "colorbar": {
             "outlinewidth": 0,
             "ticks": ""
            },
            "colorscale": [
             [
              0,
              "#0d0887"
             ],
             [
              0.1111111111111111,
              "#46039f"
             ],
             [
              0.2222222222222222,
              "#7201a8"
             ],
             [
              0.3333333333333333,
              "#9c179e"
             ],
             [
              0.4444444444444444,
              "#bd3786"
             ],
             [
              0.5555555555555556,
              "#d8576b"
             ],
             [
              0.6666666666666666,
              "#ed7953"
             ],
             [
              0.7777777777777778,
              "#fb9f3a"
             ],
             [
              0.8888888888888888,
              "#fdca26"
             ],
             [
              1,
              "#f0f921"
             ]
            ],
            "type": "histogram2d"
           }
          ],
          "histogram2dcontour": [
           {
            "colorbar": {
             "outlinewidth": 0,
             "ticks": ""
            },
            "colorscale": [
             [
              0,
              "#0d0887"
             ],
             [
              0.1111111111111111,
              "#46039f"
             ],
             [
              0.2222222222222222,
              "#7201a8"
             ],
             [
              0.3333333333333333,
              "#9c179e"
             ],
             [
              0.4444444444444444,
              "#bd3786"
             ],
             [
              0.5555555555555556,
              "#d8576b"
             ],
             [
              0.6666666666666666,
              "#ed7953"
             ],
             [
              0.7777777777777778,
              "#fb9f3a"
             ],
             [
              0.8888888888888888,
              "#fdca26"
             ],
             [
              1,
              "#f0f921"
             ]
            ],
            "type": "histogram2dcontour"
           }
          ],
          "mesh3d": [
           {
            "colorbar": {
             "outlinewidth": 0,
             "ticks": ""
            },
            "type": "mesh3d"
           }
          ],
          "parcoords": [
           {
            "line": {
             "colorbar": {
              "outlinewidth": 0,
              "ticks": ""
             }
            },
            "type": "parcoords"
           }
          ],
          "pie": [
           {
            "automargin": true,
            "type": "pie"
           }
          ],
          "scatter": [
           {
            "fillpattern": {
             "fillmode": "overlay",
             "size": 10,
             "solidity": 0.2
            },
            "type": "scatter"
           }
          ],
          "scatter3d": [
           {
            "line": {
             "colorbar": {
              "outlinewidth": 0,
              "ticks": ""
             }
            },
            "marker": {
             "colorbar": {
              "outlinewidth": 0,
              "ticks": ""
             }
            },
            "type": "scatter3d"
           }
          ],
          "scattercarpet": [
           {
            "marker": {
             "colorbar": {
              "outlinewidth": 0,
              "ticks": ""
             }
            },
            "type": "scattercarpet"
           }
          ],
          "scattergeo": [
           {
            "marker": {
             "colorbar": {
              "outlinewidth": 0,
              "ticks": ""
             }
            },
            "type": "scattergeo"
           }
          ],
          "scattergl": [
           {
            "marker": {
             "colorbar": {
              "outlinewidth": 0,
              "ticks": ""
             }
            },
            "type": "scattergl"
           }
          ],
          "scattermap": [
           {
            "marker": {
             "colorbar": {
              "outlinewidth": 0,
              "ticks": ""
             }
            },
            "type": "scattermap"
           }
          ],
          "scattermapbox": [
           {
            "marker": {
             "colorbar": {
              "outlinewidth": 0,
              "ticks": ""
             }
            },
            "type": "scattermapbox"
           }
          ],
          "scatterpolar": [
           {
            "marker": {
             "colorbar": {
              "outlinewidth": 0,
              "ticks": ""
             }
            },
            "type": "scatterpolar"
           }
          ],
          "scatterpolargl": [
           {
            "marker": {
             "colorbar": {
              "outlinewidth": 0,
              "ticks": ""
             }
            },
            "type": "scatterpolargl"
           }
          ],
          "scatterternary": [
           {
            "marker": {
             "colorbar": {
              "outlinewidth": 0,
              "ticks": ""
             }
            },
            "type": "scatterternary"
           }
          ],
          "surface": [
           {
            "colorbar": {
             "outlinewidth": 0,
             "ticks": ""
            },
            "colorscale": [
             [
              0,
              "#0d0887"
             ],
             [
              0.1111111111111111,
              "#46039f"
             ],
             [
              0.2222222222222222,
              "#7201a8"
             ],
             [
              0.3333333333333333,
              "#9c179e"
             ],
             [
              0.4444444444444444,
              "#bd3786"
             ],
             [
              0.5555555555555556,
              "#d8576b"
             ],
             [
              0.6666666666666666,
              "#ed7953"
             ],
             [
              0.7777777777777778,
              "#fb9f3a"
             ],
             [
              0.8888888888888888,
              "#fdca26"
             ],
             [
              1,
              "#f0f921"
             ]
            ],
            "type": "surface"
           }
          ],
          "table": [
           {
            "cells": {
             "fill": {
              "color": "#EBF0F8"
             },
             "line": {
              "color": "white"
             }
            },
            "header": {
             "fill": {
              "color": "#C8D4E3"
             },
             "line": {
              "color": "white"
             }
            },
            "type": "table"
           }
          ]
         },
         "layout": {
          "annotationdefaults": {
           "arrowcolor": "#2a3f5f",
           "arrowhead": 0,
           "arrowwidth": 1
          },
          "autotypenumbers": "strict",
          "coloraxis": {
           "colorbar": {
            "outlinewidth": 0,
            "ticks": ""
           }
          },
          "colorscale": {
           "diverging": [
            [
             0,
             "#8e0152"
            ],
            [
             0.1,
             "#c51b7d"
            ],
            [
             0.2,
             "#de77ae"
            ],
            [
             0.3,
             "#f1b6da"
            ],
            [
             0.4,
             "#fde0ef"
            ],
            [
             0.5,
             "#f7f7f7"
            ],
            [
             0.6,
             "#e6f5d0"
            ],
            [
             0.7,
             "#b8e186"
            ],
            [
             0.8,
             "#7fbc41"
            ],
            [
             0.9,
             "#4d9221"
            ],
            [
             1,
             "#276419"
            ]
           ],
           "sequential": [
            [
             0,
             "#0d0887"
            ],
            [
             0.1111111111111111,
             "#46039f"
            ],
            [
             0.2222222222222222,
             "#7201a8"
            ],
            [
             0.3333333333333333,
             "#9c179e"
            ],
            [
             0.4444444444444444,
             "#bd3786"
            ],
            [
             0.5555555555555556,
             "#d8576b"
            ],
            [
             0.6666666666666666,
             "#ed7953"
            ],
            [
             0.7777777777777778,
             "#fb9f3a"
            ],
            [
             0.8888888888888888,
             "#fdca26"
            ],
            [
             1,
             "#f0f921"
            ]
           ],
           "sequentialminus": [
            [
             0,
             "#0d0887"
            ],
            [
             0.1111111111111111,
             "#46039f"
            ],
            [
             0.2222222222222222,
             "#7201a8"
            ],
            [
             0.3333333333333333,
             "#9c179e"
            ],
            [
             0.4444444444444444,
             "#bd3786"
            ],
            [
             0.5555555555555556,
             "#d8576b"
            ],
            [
             0.6666666666666666,
             "#ed7953"
            ],
            [
             0.7777777777777778,
             "#fb9f3a"
            ],
            [
             0.8888888888888888,
             "#fdca26"
            ],
            [
             1,
             "#f0f921"
            ]
           ]
          },
          "colorway": [
           "#636efa",
           "#EF553B",
           "#00cc96",
           "#ab63fa",
           "#FFA15A",
           "#19d3f3",
           "#FF6692",
           "#B6E880",
           "#FF97FF",
           "#FECB52"
          ],
          "font": {
           "color": "#2a3f5f"
          },
          "geo": {
           "bgcolor": "white",
           "lakecolor": "white",
           "landcolor": "white",
           "showlakes": true,
           "showland": true,
           "subunitcolor": "#C8D4E3"
          },
          "hoverlabel": {
           "align": "left"
          },
          "hovermode": "closest",
          "mapbox": {
           "style": "light"
          },
          "paper_bgcolor": "white",
          "plot_bgcolor": "white",
          "polar": {
           "angularaxis": {
            "gridcolor": "#EBF0F8",
            "linecolor": "#EBF0F8",
            "ticks": ""
           },
           "bgcolor": "white",
           "radialaxis": {
            "gridcolor": "#EBF0F8",
            "linecolor": "#EBF0F8",
            "ticks": ""
           }
          },
          "scene": {
           "xaxis": {
            "backgroundcolor": "white",
            "gridcolor": "#DFE8F3",
            "gridwidth": 2,
            "linecolor": "#EBF0F8",
            "showbackground": true,
            "ticks": "",
            "zerolinecolor": "#EBF0F8"
           },
           "yaxis": {
            "backgroundcolor": "white",
            "gridcolor": "#DFE8F3",
            "gridwidth": 2,
            "linecolor": "#EBF0F8",
            "showbackground": true,
            "ticks": "",
            "zerolinecolor": "#EBF0F8"
           },
           "zaxis": {
            "backgroundcolor": "white",
            "gridcolor": "#DFE8F3",
            "gridwidth": 2,
            "linecolor": "#EBF0F8",
            "showbackground": true,
            "ticks": "",
            "zerolinecolor": "#EBF0F8"
           }
          },
          "shapedefaults": {
           "line": {
            "color": "#2a3f5f"
           }
          },
          "ternary": {
           "aaxis": {
            "gridcolor": "#DFE8F3",
            "linecolor": "#A2B1C6",
            "ticks": ""
           },
           "baxis": {
            "gridcolor": "#DFE8F3",
            "linecolor": "#A2B1C6",
            "ticks": ""
           },
           "bgcolor": "white",
           "caxis": {
            "gridcolor": "#DFE8F3",
            "linecolor": "#A2B1C6",
            "ticks": ""
           }
          },
          "title": {
           "x": 0.05
          },
          "xaxis": {
           "automargin": true,
           "gridcolor": "#EBF0F8",
           "linecolor": "#EBF0F8",
           "ticks": "",
           "title": {
            "standoff": 15
           },
           "zerolinecolor": "#EBF0F8",
           "zerolinewidth": 2
          },
          "yaxis": {
           "automargin": true,
           "gridcolor": "#EBF0F8",
           "linecolor": "#EBF0F8",
           "ticks": "",
           "title": {
            "standoff": 15
           },
           "zerolinecolor": "#EBF0F8",
           "zerolinewidth": 2
          }
         }
        },
        "title": {
         "text": "4-Wheeler EV Sales Growth by Top Makers (2022-2024)"
        },
        "width": 900,
        "xaxis": {
         "anchor": "y",
         "domain": [
          0,
          1
         ],
         "tickmode": "array",
         "ticktext": [
          "FY 2022",
          "FY 2023",
          "FY 2024"
         ],
         "tickvals": [
          "2022",
          "2023",
          "2024"
         ],
         "title": {
          "text": "Year"
         }
        },
        "yaxis": {
         "anchor": "x",
         "domain": [
          0,
          1
         ],
         "title": {
          "text": "Units Sold"
         }
        }
       }
      }
     },
     "metadata": {},
     "output_type": "display_data"
    }
   ],
   "source": [
    "# Create a line chart to visualize sales growth over time\n",
    "years = [2022, 2023, 2024]\n",
    "sales_data = pd.melt(\n",
    "    result_df, \n",
    "    id_vars=['maker', 'CAGR (%)'],\n",
    "    value_vars=['2022 Sales', '2023 Sales', '2024 Sales'],\n",
    "    var_name='Year',\n",
    "    value_name='Sales'\n",
    ")\n",
    "\n",
    "# Extract just the year from the Year column\n",
    "sales_data['Year'] = sales_data['Year'].str.extract(r'(\\d+)')\n",
    "\n",
    "# Create line chart with improved styling\n",
    "fig = px.line(\n",
    "    sales_data, \n",
    "    x='Year', \n",
    "    y='Sales', \n",
    "    color='maker',\n",
    "    markers=True,\n",
    "    title='4-Wheeler EV Sales Growth by Top Makers (2022-2024)',\n",
    "    template='plotly_white',\n",
    "    labels={'Sales': 'Units Sold', 'Year': 'Year'},\n",
    "    color_discrete_sequence=px.colors.qualitative.Bold\n",
    ")\n",
    "\n",
    "# Add data labels\n",
    "for maker in sales_data['maker'].unique():\n",
    "    maker_data = sales_data[sales_data['maker'] == maker]\n",
    "    fig.add_trace(\n",
    "        go.Scatter(\n",
    "            x=maker_data['Year'],\n",
    "            y=maker_data['Sales'],\n",
    "            mode='text',\n",
    "            text=maker_data['Sales'].apply(lambda x: f\"{int(x):,}\" if pd.notnull(x) else \"N/A\"),\n",
    "            textposition='top center',\n",
    "            showlegend=False,\n",
    "            textfont=dict(color='black')\n",
    "        )\n",
    "    )\n",
    "\n",
    "# Update the layout\n",
    "fig.update_layout(\n",
    "    legend_title_text='EV Maker',\n",
    "    xaxis=dict(\n",
    "        tickmode='array', \n",
    "        tickvals=['2022', '2023', '2024'],\n",
    "        ticktext=['FY 2022', 'FY 2023', 'FY 2024']\n",
    "    ),\n",
    "    height=500,\n",
    "    width=900,\n",
    "    yaxis_title='Units Sold',\n",
    "    legend=dict(orientation='h', yanchor='bottom', y=1.02, xanchor='right', x=1),\n",
    ")\n",
    "\n",
    "# Update traces to make lines thicker and markers larger\n",
    "fig.update_traces(\n",
    "    selector=dict(mode='lines+markers'),\n",
    "    line=dict(width=3),\n",
    "    marker=dict(size=10)\n",
    ")\n",
    "\n",
    "fig.show()"
   ]
  },
  {
   "cell_type": "markdown",
   "id": "7e41d035",
   "metadata": {},
   "source": [
    "## 8. Detailed Manufacturer Performance Analysis\n",
    "\n",
    "Let's create a comprehensive analysis table showing various performance metrics for each manufacturer:"
   ]
  },
  {
   "cell_type": "code",
   "execution_count": 10,
   "id": "bad99e69",
   "metadata": {},
   "outputs": [
    {
     "name": "stdout",
     "output_type": "stream",
     "text": [
      "Detailed Performance Analysis of Top 5 4-Wheeler EV Makers (2022-2024)\n",
      "------------------------------------------------------------------------------------------------------------------------\n"
     ]
    },
    {
     "data": {
      "text/html": [
       "<div>\n",
       "<style scoped>\n",
       "    .dataframe tbody tr th:only-of-type {\n",
       "        vertical-align: middle;\n",
       "    }\n",
       "\n",
       "    .dataframe tbody tr th {\n",
       "        vertical-align: top;\n",
       "    }\n",
       "\n",
       "    .dataframe thead th {\n",
       "        text-align: right;\n",
       "    }\n",
       "</style>\n",
       "<table border=\"1\" class=\"dataframe\">\n",
       "  <thead>\n",
       "    <tr style=\"text-align: right;\">\n",
       "      <th>fiscal_year</th>\n",
       "      <th>maker</th>\n",
       "      <th>2022 Sales</th>\n",
       "      <th>2022 Sales Market Share (%)</th>\n",
       "      <th>2023 Sales</th>\n",
       "      <th>2023 Sales Market Share (%)</th>\n",
       "      <th>Growth 2022-2023 (%)</th>\n",
       "      <th>2024 Sales</th>\n",
       "      <th>2024 Sales Market Share (%)</th>\n",
       "      <th>Growth 2023-2024 (%)</th>\n",
       "      <th>Market Share Change (2022-2024)</th>\n",
       "      <th>CAGR (%)</th>\n",
       "    </tr>\n",
       "  </thead>\n",
       "  <tbody>\n",
       "    <tr>\n",
       "      <th>4</th>\n",
       "      <td>Tata Motors</td>\n",
       "      <td>12708</td>\n",
       "      <td>68.54</td>\n",
       "      <td>28046</td>\n",
       "      <td>60.15</td>\n",
       "      <td>120.70</td>\n",
       "      <td>48181</td>\n",
       "      <td>57.90</td>\n",
       "      <td>71.79</td>\n",
       "      <td>-10.64</td>\n",
       "      <td>94.71</td>\n",
       "    </tr>\n",
       "    <tr>\n",
       "      <th>3</th>\n",
       "      <td>Mahindra and Mahindra</td>\n",
       "      <td>4042</td>\n",
       "      <td>21.80</td>\n",
       "      <td>13805</td>\n",
       "      <td>29.61</td>\n",
       "      <td>241.54</td>\n",
       "      <td>23346</td>\n",
       "      <td>28.06</td>\n",
       "      <td>69.11</td>\n",
       "      <td>6.25</td>\n",
       "      <td>140.33</td>\n",
       "    </tr>\n",
       "    <tr>\n",
       "      <th>2</th>\n",
       "      <td>MG Motor</td>\n",
       "      <td>1647</td>\n",
       "      <td>8.88</td>\n",
       "      <td>3277</td>\n",
       "      <td>7.03</td>\n",
       "      <td>98.97</td>\n",
       "      <td>8829</td>\n",
       "      <td>10.61</td>\n",
       "      <td>169.42</td>\n",
       "      <td>1.73</td>\n",
       "      <td>131.53</td>\n",
       "    </tr>\n",
       "    <tr>\n",
       "      <th>0</th>\n",
       "      <td>BYD India</td>\n",
       "      <td>33</td>\n",
       "      <td>0.18</td>\n",
       "      <td>920</td>\n",
       "      <td>1.97</td>\n",
       "      <td>2687.88</td>\n",
       "      <td>1466</td>\n",
       "      <td>1.76</td>\n",
       "      <td>59.35</td>\n",
       "      <td>1.58</td>\n",
       "      <td>566.52</td>\n",
       "    </tr>\n",
       "    <tr>\n",
       "      <th>1</th>\n",
       "      <td>Hyundai Motor</td>\n",
       "      <td>110</td>\n",
       "      <td>0.59</td>\n",
       "      <td>576</td>\n",
       "      <td>1.24</td>\n",
       "      <td>423.64</td>\n",
       "      <td>1390</td>\n",
       "      <td>1.67</td>\n",
       "      <td>141.32</td>\n",
       "      <td>1.08</td>\n",
       "      <td>255.48</td>\n",
       "    </tr>\n",
       "  </tbody>\n",
       "</table>\n",
       "</div>"
      ],
      "text/plain": [
       "fiscal_year                  maker  2022 Sales  2022 Sales Market Share (%)  \\\n",
       "4                      Tata Motors       12708                        68.54   \n",
       "3            Mahindra and Mahindra        4042                        21.80   \n",
       "2                         MG Motor        1647                         8.88   \n",
       "0                        BYD India          33                         0.18   \n",
       "1                    Hyundai Motor         110                         0.59   \n",
       "\n",
       "fiscal_year  2023 Sales  2023 Sales Market Share (%)  Growth 2022-2023 (%)  \\\n",
       "4                 28046                        60.15                120.70   \n",
       "3                 13805                        29.61                241.54   \n",
       "2                  3277                         7.03                 98.97   \n",
       "0                   920                         1.97               2687.88   \n",
       "1                   576                         1.24                423.64   \n",
       "\n",
       "fiscal_year  2024 Sales  2024 Sales Market Share (%)  Growth 2023-2024 (%)  \\\n",
       "4                 48181                        57.90                 71.79   \n",
       "3                 23346                        28.06                 69.11   \n",
       "2                  8829                        10.61                169.42   \n",
       "0                  1466                         1.76                 59.35   \n",
       "1                  1390                         1.67                141.32   \n",
       "\n",
       "fiscal_year  Market Share Change (2022-2024)  CAGR (%)  \n",
       "4                                     -10.64     94.71  \n",
       "3                                       6.25    140.33  \n",
       "2                                       1.73    131.53  \n",
       "0                                       1.58    566.52  \n",
       "1                                       1.08    255.48  "
      ]
     },
     "metadata": {},
     "output_type": "display_data"
    }
   ],
   "source": [
    "# Calculate year-over-year growth rates\n",
    "detailed_df = result_df.copy()\n",
    "\n",
    "# Calculate YoY growth\n",
    "detailed_df['Growth 2022-2023 (%)'] = ((detailed_df['2023 Sales'] / detailed_df['2022 Sales']) - 1) * 100\n",
    "detailed_df['Growth 2023-2024 (%)'] = ((detailed_df['2024 Sales'] / detailed_df['2023 Sales']) - 1) * 100\n",
    "\n",
    "# Calculate market share for each year\n",
    "for year in ['2022 Sales', '2023 Sales', '2024 Sales']:\n",
    "    detailed_df[f'{year} Market Share (%)'] = (detailed_df[year] / detailed_df[year].sum()) * 100\n",
    "\n",
    "# Calculate market share change\n",
    "detailed_df['Market Share Change (2022-2024)'] = detailed_df['2024 Sales Market Share (%)'] - detailed_df['2022 Sales Market Share (%)']\n",
    "\n",
    "# Reorder columns for better presentation\n",
    "column_order = [\n",
    "    'maker', \n",
    "    '2022 Sales', '2022 Sales Market Share (%)',\n",
    "    '2023 Sales', '2023 Sales Market Share (%)', 'Growth 2022-2023 (%)',\n",
    "    '2024 Sales', '2024 Sales Market Share (%)', 'Growth 2023-2024 (%)',\n",
    "    'Market Share Change (2022-2024)', 'CAGR (%)'\n",
    "]\n",
    "\n",
    "# Sort by 2024 market share\n",
    "detailed_df = detailed_df.sort_values('2024 Sales', ascending=False)[column_order]\n",
    "\n",
    "# Round decimal places for better presentation\n",
    "detailed_df = detailed_df.round(2)\n",
    "\n",
    "# Display the detailed analysis table\n",
    "print(\"Detailed Performance Analysis of Top 5 4-Wheeler EV Makers (2022-2024)\")\n",
    "print(\"-\" * 120)\n",
    "display(detailed_df)"
   ]
  },
  {
   "cell_type": "markdown",
   "id": "b4862291",
   "metadata": {},
   "source": [
    "## 9. Market Share Evolution Analysis\n",
    "\n",
    "Let's analyze how the market share distribution has changed over the years for the top 5 manufacturers:"
   ]
  },
  {
   "cell_type": "code",
   "execution_count": 11,
   "id": "1decc4d2",
   "metadata": {},
   "outputs": [
    {
     "data": {
      "application/vnd.plotly.v1+json": {
       "config": {
        "plotlyServerURL": "https://plot.ly"
       },
       "data": [
        {
         "hovertemplate": "Maker=BYD India<br>Year=%{x}<br>Market Share (%)=%{text}<extra></extra>",
         "legendgroup": "BYD India",
         "marker": {
          "color": "rgb(127, 60, 141)",
          "pattern": {
           "shape": ""
          }
         },
         "name": "BYD India",
         "orientation": "v",
         "showlegend": true,
         "text": {
          "bdata": "qQHG7X3Ixj+d0YdrXJL/P5dYC6IwMPw/",
          "dtype": "f8"
         },
         "textposition": "inside",
         "texttemplate": "%{text:.1f}%",
         "type": "bar",
         "x": [
          "2022",
          "2023",
          "2024"
         ],
         "xaxis": "x",
         "y": {
          "bdata": "qQHG7X3Ixj+d0YdrXJL/P5dYC6IwMPw/",
          "dtype": "f8"
         },
         "yaxis": "y"
        },
        {
         "hovertemplate": "Maker=Hyundai Motor<br>Year=%{x}<br>Market Share (%)=%{text}<extra></extra>",
         "legendgroup": "Hyundai Motor",
         "marker": {
          "color": "rgb(17, 165, 121)",
          "pattern": {
           "shape": ""
          }
         },
         "name": "Hyundai Motor",
         "orientation": "v",
         "showlegend": true,
         "text": {
          "bdata": "DKzP8Gj84j9Xv2/EQsTzP8WmsA8Xuvo/",
          "dtype": "f8"
         },
         "textposition": "inside",
         "texttemplate": "%{text:.1f}%",
         "type": "bar",
         "x": [
          "2022",
          "2023",
          "2024"
         ],
         "xaxis": "x",
         "y": {
          "bdata": "DKzP8Gj84j9Xv2/EQsTzP8WmsA8Xuvo/",
          "dtype": "f8"
         },
         "yaxis": "y"
        },
        {
         "hovertemplate": "Maker=Mahindra and Mahindra<br>Year=%{x}<br>Market Share (%)=%{text}<extra></extra>",
         "legendgroup": "Mahindra and Mahindra",
         "marker": {
          "color": "rgb(57, 105, 172)",
          "pattern": {
           "shape": ""
          }
         },
         "name": "Mahindra and Mahindra",
         "orientation": "v",
         "showlegend": true,
         "text": {
          "bdata": "+wyPxi/NNUBeuTF19Zs9QLdMYkRZDjxA",
          "dtype": "f8"
         },
         "textposition": "inside",
         "texttemplate": "%{text:.1f}%",
         "type": "bar",
         "x": [
          "2022",
          "2023",
          "2024"
         ],
         "xaxis": "x",
         "y": {
          "bdata": "+wyPxi/NNUBeuTF19Zs9QLdMYkRZDjxA",
          "dtype": "f8"
         },
         "yaxis": "y"
        },
        {
         "hovertemplate": "Maker=MG Motor<br>Year=%{x}<br>Market Share (%)=%{text}<extra></extra>",
         "legendgroup": "MG Motor",
         "marker": {
          "color": "rgb(242, 183, 1)",
          "pattern": {
           "shape": ""
          }
         },
         "name": "MG Motor",
         "orientation": "v",
         "showlegend": true,
         "text": {
          "bdata": "BVLJeVnEIUAlm50vQR0cQJKJh35yOCVA",
          "dtype": "f8"
         },
         "textposition": "inside",
         "texttemplate": "%{text:.1f}%",
         "type": "bar",
         "x": [
          "2022",
          "2023",
          "2024"
         ],
         "xaxis": "x",
         "y": {
          "bdata": "BVLJeVnEIUAlm50vQR0cQJKJh35yOCVA",
          "dtype": "f8"
         },
         "yaxis": "y"
        },
        {
         "hovertemplate": "Maker=Tata Motors<br>Year=%{x}<br>Market Share (%)=%{text}<extra></extra>",
         "legendgroup": "Tata Motors",
         "marker": {
          "color": "rgb(231, 63, 116)",
          "pattern": {
           "shape": ""
          }
         },
         "name": "Tata Motors",
         "orientation": "v",
         "showlegend": true,
         "text": {
          "bdata": "KJBKzssiUUBls/MlqBNOQEYXn4Bk80xA",
          "dtype": "f8"
         },
         "textposition": "inside",
         "texttemplate": "%{text:.1f}%",
         "type": "bar",
         "x": [
          "2022",
          "2023",
          "2024"
         ],
         "xaxis": "x",
         "y": {
          "bdata": "KJBKzssiUUBls/MlqBNOQEYXn4Bk80xA",
          "dtype": "f8"
         },
         "yaxis": "y"
        }
       ],
       "layout": {
        "barmode": "relative",
        "height": 500,
        "legend": {
         "title": {
          "text": "Manufacturer"
         },
         "tracegroupgap": 0
        },
        "template": {
         "data": {
          "bar": [
           {
            "error_x": {
             "color": "#2a3f5f"
            },
            "error_y": {
             "color": "#2a3f5f"
            },
            "marker": {
             "line": {
              "color": "white",
              "width": 0.5
             },
             "pattern": {
              "fillmode": "overlay",
              "size": 10,
              "solidity": 0.2
             }
            },
            "type": "bar"
           }
          ],
          "barpolar": [
           {
            "marker": {
             "line": {
              "color": "white",
              "width": 0.5
             },
             "pattern": {
              "fillmode": "overlay",
              "size": 10,
              "solidity": 0.2
             }
            },
            "type": "barpolar"
           }
          ],
          "carpet": [
           {
            "aaxis": {
             "endlinecolor": "#2a3f5f",
             "gridcolor": "#C8D4E3",
             "linecolor": "#C8D4E3",
             "minorgridcolor": "#C8D4E3",
             "startlinecolor": "#2a3f5f"
            },
            "baxis": {
             "endlinecolor": "#2a3f5f",
             "gridcolor": "#C8D4E3",
             "linecolor": "#C8D4E3",
             "minorgridcolor": "#C8D4E3",
             "startlinecolor": "#2a3f5f"
            },
            "type": "carpet"
           }
          ],
          "choropleth": [
           {
            "colorbar": {
             "outlinewidth": 0,
             "ticks": ""
            },
            "type": "choropleth"
           }
          ],
          "contour": [
           {
            "colorbar": {
             "outlinewidth": 0,
             "ticks": ""
            },
            "colorscale": [
             [
              0,
              "#0d0887"
             ],
             [
              0.1111111111111111,
              "#46039f"
             ],
             [
              0.2222222222222222,
              "#7201a8"
             ],
             [
              0.3333333333333333,
              "#9c179e"
             ],
             [
              0.4444444444444444,
              "#bd3786"
             ],
             [
              0.5555555555555556,
              "#d8576b"
             ],
             [
              0.6666666666666666,
              "#ed7953"
             ],
             [
              0.7777777777777778,
              "#fb9f3a"
             ],
             [
              0.8888888888888888,
              "#fdca26"
             ],
             [
              1,
              "#f0f921"
             ]
            ],
            "type": "contour"
           }
          ],
          "contourcarpet": [
           {
            "colorbar": {
             "outlinewidth": 0,
             "ticks": ""
            },
            "type": "contourcarpet"
           }
          ],
          "heatmap": [
           {
            "colorbar": {
             "outlinewidth": 0,
             "ticks": ""
            },
            "colorscale": [
             [
              0,
              "#0d0887"
             ],
             [
              0.1111111111111111,
              "#46039f"
             ],
             [
              0.2222222222222222,
              "#7201a8"
             ],
             [
              0.3333333333333333,
              "#9c179e"
             ],
             [
              0.4444444444444444,
              "#bd3786"
             ],
             [
              0.5555555555555556,
              "#d8576b"
             ],
             [
              0.6666666666666666,
              "#ed7953"
             ],
             [
              0.7777777777777778,
              "#fb9f3a"
             ],
             [
              0.8888888888888888,
              "#fdca26"
             ],
             [
              1,
              "#f0f921"
             ]
            ],
            "type": "heatmap"
           }
          ],
          "histogram": [
           {
            "marker": {
             "pattern": {
              "fillmode": "overlay",
              "size": 10,
              "solidity": 0.2
             }
            },
            "type": "histogram"
           }
          ],
          "histogram2d": [
           {
            "colorbar": {
             "outlinewidth": 0,
             "ticks": ""
            },
            "colorscale": [
             [
              0,
              "#0d0887"
             ],
             [
              0.1111111111111111,
              "#46039f"
             ],
             [
              0.2222222222222222,
              "#7201a8"
             ],
             [
              0.3333333333333333,
              "#9c179e"
             ],
             [
              0.4444444444444444,
              "#bd3786"
             ],
             [
              0.5555555555555556,
              "#d8576b"
             ],
             [
              0.6666666666666666,
              "#ed7953"
             ],
             [
              0.7777777777777778,
              "#fb9f3a"
             ],
             [
              0.8888888888888888,
              "#fdca26"
             ],
             [
              1,
              "#f0f921"
             ]
            ],
            "type": "histogram2d"
           }
          ],
          "histogram2dcontour": [
           {
            "colorbar": {
             "outlinewidth": 0,
             "ticks": ""
            },
            "colorscale": [
             [
              0,
              "#0d0887"
             ],
             [
              0.1111111111111111,
              "#46039f"
             ],
             [
              0.2222222222222222,
              "#7201a8"
             ],
             [
              0.3333333333333333,
              "#9c179e"
             ],
             [
              0.4444444444444444,
              "#bd3786"
             ],
             [
              0.5555555555555556,
              "#d8576b"
             ],
             [
              0.6666666666666666,
              "#ed7953"
             ],
             [
              0.7777777777777778,
              "#fb9f3a"
             ],
             [
              0.8888888888888888,
              "#fdca26"
             ],
             [
              1,
              "#f0f921"
             ]
            ],
            "type": "histogram2dcontour"
           }
          ],
          "mesh3d": [
           {
            "colorbar": {
             "outlinewidth": 0,
             "ticks": ""
            },
            "type": "mesh3d"
           }
          ],
          "parcoords": [
           {
            "line": {
             "colorbar": {
              "outlinewidth": 0,
              "ticks": ""
             }
            },
            "type": "parcoords"
           }
          ],
          "pie": [
           {
            "automargin": true,
            "type": "pie"
           }
          ],
          "scatter": [
           {
            "fillpattern": {
             "fillmode": "overlay",
             "size": 10,
             "solidity": 0.2
            },
            "type": "scatter"
           }
          ],
          "scatter3d": [
           {
            "line": {
             "colorbar": {
              "outlinewidth": 0,
              "ticks": ""
             }
            },
            "marker": {
             "colorbar": {
              "outlinewidth": 0,
              "ticks": ""
             }
            },
            "type": "scatter3d"
           }
          ],
          "scattercarpet": [
           {
            "marker": {
             "colorbar": {
              "outlinewidth": 0,
              "ticks": ""
             }
            },
            "type": "scattercarpet"
           }
          ],
          "scattergeo": [
           {
            "marker": {
             "colorbar": {
              "outlinewidth": 0,
              "ticks": ""
             }
            },
            "type": "scattergeo"
           }
          ],
          "scattergl": [
           {
            "marker": {
             "colorbar": {
              "outlinewidth": 0,
              "ticks": ""
             }
            },
            "type": "scattergl"
           }
          ],
          "scattermap": [
           {
            "marker": {
             "colorbar": {
              "outlinewidth": 0,
              "ticks": ""
             }
            },
            "type": "scattermap"
           }
          ],
          "scattermapbox": [
           {
            "marker": {
             "colorbar": {
              "outlinewidth": 0,
              "ticks": ""
             }
            },
            "type": "scattermapbox"
           }
          ],
          "scatterpolar": [
           {
            "marker": {
             "colorbar": {
              "outlinewidth": 0,
              "ticks": ""
             }
            },
            "type": "scatterpolar"
           }
          ],
          "scatterpolargl": [
           {
            "marker": {
             "colorbar": {
              "outlinewidth": 0,
              "ticks": ""
             }
            },
            "type": "scatterpolargl"
           }
          ],
          "scatterternary": [
           {
            "marker": {
             "colorbar": {
              "outlinewidth": 0,
              "ticks": ""
             }
            },
            "type": "scatterternary"
           }
          ],
          "surface": [
           {
            "colorbar": {
             "outlinewidth": 0,
             "ticks": ""
            },
            "colorscale": [
             [
              0,
              "#0d0887"
             ],
             [
              0.1111111111111111,
              "#46039f"
             ],
             [
              0.2222222222222222,
              "#7201a8"
             ],
             [
              0.3333333333333333,
              "#9c179e"
             ],
             [
              0.4444444444444444,
              "#bd3786"
             ],
             [
              0.5555555555555556,
              "#d8576b"
             ],
             [
              0.6666666666666666,
              "#ed7953"
             ],
             [
              0.7777777777777778,
              "#fb9f3a"
             ],
             [
              0.8888888888888888,
              "#fdca26"
             ],
             [
              1,
              "#f0f921"
             ]
            ],
            "type": "surface"
           }
          ],
          "table": [
           {
            "cells": {
             "fill": {
              "color": "#EBF0F8"
             },
             "line": {
              "color": "white"
             }
            },
            "header": {
             "fill": {
              "color": "#C8D4E3"
             },
             "line": {
              "color": "white"
             }
            },
            "type": "table"
           }
          ]
         },
         "layout": {
          "annotationdefaults": {
           "arrowcolor": "#2a3f5f",
           "arrowhead": 0,
           "arrowwidth": 1
          },
          "autotypenumbers": "strict",
          "coloraxis": {
           "colorbar": {
            "outlinewidth": 0,
            "ticks": ""
           }
          },
          "colorscale": {
           "diverging": [
            [
             0,
             "#8e0152"
            ],
            [
             0.1,
             "#c51b7d"
            ],
            [
             0.2,
             "#de77ae"
            ],
            [
             0.3,
             "#f1b6da"
            ],
            [
             0.4,
             "#fde0ef"
            ],
            [
             0.5,
             "#f7f7f7"
            ],
            [
             0.6,
             "#e6f5d0"
            ],
            [
             0.7,
             "#b8e186"
            ],
            [
             0.8,
             "#7fbc41"
            ],
            [
             0.9,
             "#4d9221"
            ],
            [
             1,
             "#276419"
            ]
           ],
           "sequential": [
            [
             0,
             "#0d0887"
            ],
            [
             0.1111111111111111,
             "#46039f"
            ],
            [
             0.2222222222222222,
             "#7201a8"
            ],
            [
             0.3333333333333333,
             "#9c179e"
            ],
            [
             0.4444444444444444,
             "#bd3786"
            ],
            [
             0.5555555555555556,
             "#d8576b"
            ],
            [
             0.6666666666666666,
             "#ed7953"
            ],
            [
             0.7777777777777778,
             "#fb9f3a"
            ],
            [
             0.8888888888888888,
             "#fdca26"
            ],
            [
             1,
             "#f0f921"
            ]
           ],
           "sequentialminus": [
            [
             0,
             "#0d0887"
            ],
            [
             0.1111111111111111,
             "#46039f"
            ],
            [
             0.2222222222222222,
             "#7201a8"
            ],
            [
             0.3333333333333333,
             "#9c179e"
            ],
            [
             0.4444444444444444,
             "#bd3786"
            ],
            [
             0.5555555555555556,
             "#d8576b"
            ],
            [
             0.6666666666666666,
             "#ed7953"
            ],
            [
             0.7777777777777778,
             "#fb9f3a"
            ],
            [
             0.8888888888888888,
             "#fdca26"
            ],
            [
             1,
             "#f0f921"
            ]
           ]
          },
          "colorway": [
           "#636efa",
           "#EF553B",
           "#00cc96",
           "#ab63fa",
           "#FFA15A",
           "#19d3f3",
           "#FF6692",
           "#B6E880",
           "#FF97FF",
           "#FECB52"
          ],
          "font": {
           "color": "#2a3f5f"
          },
          "geo": {
           "bgcolor": "white",
           "lakecolor": "white",
           "landcolor": "white",
           "showlakes": true,
           "showland": true,
           "subunitcolor": "#C8D4E3"
          },
          "hoverlabel": {
           "align": "left"
          },
          "hovermode": "closest",
          "mapbox": {
           "style": "light"
          },
          "paper_bgcolor": "white",
          "plot_bgcolor": "white",
          "polar": {
           "angularaxis": {
            "gridcolor": "#EBF0F8",
            "linecolor": "#EBF0F8",
            "ticks": ""
           },
           "bgcolor": "white",
           "radialaxis": {
            "gridcolor": "#EBF0F8",
            "linecolor": "#EBF0F8",
            "ticks": ""
           }
          },
          "scene": {
           "xaxis": {
            "backgroundcolor": "white",
            "gridcolor": "#DFE8F3",
            "gridwidth": 2,
            "linecolor": "#EBF0F8",
            "showbackground": true,
            "ticks": "",
            "zerolinecolor": "#EBF0F8"
           },
           "yaxis": {
            "backgroundcolor": "white",
            "gridcolor": "#DFE8F3",
            "gridwidth": 2,
            "linecolor": "#EBF0F8",
            "showbackground": true,
            "ticks": "",
            "zerolinecolor": "#EBF0F8"
           },
           "zaxis": {
            "backgroundcolor": "white",
            "gridcolor": "#DFE8F3",
            "gridwidth": 2,
            "linecolor": "#EBF0F8",
            "showbackground": true,
            "ticks": "",
            "zerolinecolor": "#EBF0F8"
           }
          },
          "shapedefaults": {
           "line": {
            "color": "#2a3f5f"
           }
          },
          "ternary": {
           "aaxis": {
            "gridcolor": "#DFE8F3",
            "linecolor": "#A2B1C6",
            "ticks": ""
           },
           "baxis": {
            "gridcolor": "#DFE8F3",
            "linecolor": "#A2B1C6",
            "ticks": ""
           },
           "bgcolor": "white",
           "caxis": {
            "gridcolor": "#DFE8F3",
            "linecolor": "#A2B1C6",
            "ticks": ""
           }
          },
          "title": {
           "x": 0.05
          },
          "xaxis": {
           "automargin": true,
           "gridcolor": "#EBF0F8",
           "linecolor": "#EBF0F8",
           "ticks": "",
           "title": {
            "standoff": 15
           },
           "zerolinecolor": "#EBF0F8",
           "zerolinewidth": 2
          },
          "yaxis": {
           "automargin": true,
           "gridcolor": "#EBF0F8",
           "linecolor": "#EBF0F8",
           "ticks": "",
           "title": {
            "standoff": 15
           },
           "zerolinecolor": "#EBF0F8",
           "zerolinewidth": 2
          }
         }
        },
        "title": {
         "text": "Market Share Evolution by Manufacturer (2022-2024)"
        },
        "width": 900,
        "xaxis": {
         "anchor": "y",
         "domain": [
          0,
          1
         ],
         "tickmode": "array",
         "ticktext": [
          "FY 2022",
          "FY 2023",
          "FY 2024"
         ],
         "tickvals": [
          "2022",
          "2023",
          "2024"
         ],
         "title": {
          "text": "Year"
         }
        },
        "yaxis": {
         "anchor": "x",
         "domain": [
          0,
          1
         ],
         "ticksuffix": "%",
         "title": {
          "text": "Market Share (%)"
         }
        }
       }
      }
     },
     "metadata": {},
     "output_type": "display_data"
    }
   ],
   "source": [
    "# Create a stacked bar chart showing market share evolution\n",
    "market_share_data = []\n",
    "for year_col, year_label in zip(['2022 Sales', '2023 Sales', '2024 Sales'], ['2022', '2023', '2024']):\n",
    "    for _, row in result_df.iterrows():\n",
    "        maker = row['maker']\n",
    "        sales = row[year_col]\n",
    "        share = (sales / result_df[year_col].sum()) * 100\n",
    "        market_share_data.append({\n",
    "            'Year': year_label,\n",
    "            'Maker': maker,\n",
    "            'Market Share (%)': share\n",
    "        })\n",
    "\n",
    "ms_df = pd.DataFrame(market_share_data)\n",
    "\n",
    "# Create stacked bar chart\n",
    "fig = px.bar(\n",
    "    ms_df,\n",
    "    x='Year',\n",
    "    y='Market Share (%)',\n",
    "    color='Maker',\n",
    "    title='Market Share Evolution by Manufacturer (2022-2024)',\n",
    "    template='plotly_white',\n",
    "    text='Market Share (%)',\n",
    "    color_discrete_sequence=px.colors.qualitative.Bold\n",
    ")\n",
    "\n",
    "# Format text labels\n",
    "fig.update_traces(\n",
    "    texttemplate='%{text:.1f}%',\n",
    "    textposition='inside'\n",
    ")\n",
    "\n",
    "# Update layout\n",
    "fig.update_layout(\n",
    "    xaxis=dict(\n",
    "        tickmode='array', \n",
    "        tickvals=['2022', '2023', '2024'],\n",
    "        ticktext=['FY 2022', 'FY 2023', 'FY 2024']\n",
    "    ),\n",
    "    yaxis=dict(\n",
    "        title='Market Share (%)',\n",
    "        ticksuffix='%'\n",
    "    ),\n",
    "    legend_title='Manufacturer',\n",
    "    height=500,\n",
    "    width=900\n",
    ")\n",
    "\n",
    "fig.show()"
   ]
  },
  {
   "cell_type": "markdown",
   "id": "3851713e",
   "metadata": {},
   "source": [
    "Let's also create a combined visualization showing both sales and CAGR:"
   ]
  },
  {
   "cell_type": "code",
   "execution_count": 12,
   "id": "0f1dfe9d",
   "metadata": {},
   "outputs": [
    {
     "data": {
      "application/vnd.plotly.v1+json": {
       "config": {
        "plotlyServerURL": "https://plot.ly"
       },
       "data": [
        {
         "marker": {
          "color": "#D4E6F1"
         },
         "name": "2022 Sales",
         "offset": -0.25,
         "text": [
          "33",
          "110",
          "4,042",
          "1,647",
          "12,708"
         ],
         "textfont": {
          "color": "black",
          "size": 10
         },
         "textposition": "inside",
         "type": "bar",
         "width": 0.2,
         "x": [
          "BYD India",
          "Hyundai Motor",
          "Mahindra and Mahindra",
          "MG Motor",
          "Tata Motors"
         ],
         "xaxis": "x",
         "y": {
          "bdata": "IQBuAMoPbwakMQ==",
          "dtype": "i2"
         },
         "yaxis": "y"
        },
        {
         "marker": {
          "color": "#7FB3D5"
         },
         "name": "2023 Sales",
         "offset": 0,
         "text": [
          "920",
          "576",
          "13,805",
          "3,277",
          "28,046"
         ],
         "textfont": {
          "color": "black",
          "size": 10
         },
         "textposition": "inside",
         "type": "bar",
         "width": 0.2,
         "x": [
          "BYD India",
          "Hyundai Motor",
          "Mahindra and Mahindra",
          "MG Motor",
          "Tata Motors"
         ],
         "xaxis": "x",
         "y": {
          "bdata": "mANAAu01zQyObQ==",
          "dtype": "i2"
         },
         "yaxis": "y"
        },
        {
         "marker": {
          "color": "#2874A6"
         },
         "name": "2024 Sales",
         "offset": 0.25,
         "text": [
          "1,466",
          "1,390",
          "23,346",
          "8,829",
          "48,181"
         ],
         "textfont": {
          "color": "black",
          "size": 10
         },
         "textposition": "inside",
         "type": "bar",
         "width": 0.2,
         "x": [
          "BYD India",
          "Hyundai Motor",
          "Mahindra and Mahindra",
          "MG Motor",
          "Tata Motors"
         ],
         "xaxis": "x",
         "y": {
          "bdata": "ugUAAG4FAAAyWwAAfSIAADW8AAA=",
          "dtype": "i4"
         },
         "yaxis": "y"
        },
        {
         "line": {
          "color": "#E74C3C",
          "dash": "dot",
          "width": 3
         },
         "marker": {
          "color": "#E74C3C",
          "size": 12,
          "symbol": "diamond"
         },
         "mode": "lines+markers+text",
         "name": "CAGR (%)",
         "text": [
          "566.5%",
          "255.5%",
          "140.3%",
          "131.5%",
          "94.7%"
         ],
         "textfont": {
          "color": "#E74C3C"
         },
         "textposition": "top center",
         "type": "scatter",
         "x": [
          "BYD India",
          "Hyundai Motor",
          "Mahindra and Mahindra",
          "MG Motor",
          "Tata Motors"
         ],
         "xaxis": "x",
         "y": {
          "bdata": "tIC6/h60gUArGiCTQO9vQDQFsM+PimFAiyW9IP1wYEBreaTFwa1XQA==",
          "dtype": "f8"
         },
         "yaxis": "y2"
        }
       ],
       "layout": {
        "barmode": "group",
        "height": 600,
        "legend": {
         "orientation": "h",
         "x": 0.5,
         "xanchor": "center",
         "y": 1.1
        },
        "margin": {
         "t": 120
        },
        "template": {
         "data": {
          "bar": [
           {
            "error_x": {
             "color": "#2a3f5f"
            },
            "error_y": {
             "color": "#2a3f5f"
            },
            "marker": {
             "line": {
              "color": "white",
              "width": 0.5
             },
             "pattern": {
              "fillmode": "overlay",
              "size": 10,
              "solidity": 0.2
             }
            },
            "type": "bar"
           }
          ],
          "barpolar": [
           {
            "marker": {
             "line": {
              "color": "white",
              "width": 0.5
             },
             "pattern": {
              "fillmode": "overlay",
              "size": 10,
              "solidity": 0.2
             }
            },
            "type": "barpolar"
           }
          ],
          "carpet": [
           {
            "aaxis": {
             "endlinecolor": "#2a3f5f",
             "gridcolor": "#C8D4E3",
             "linecolor": "#C8D4E3",
             "minorgridcolor": "#C8D4E3",
             "startlinecolor": "#2a3f5f"
            },
            "baxis": {
             "endlinecolor": "#2a3f5f",
             "gridcolor": "#C8D4E3",
             "linecolor": "#C8D4E3",
             "minorgridcolor": "#C8D4E3",
             "startlinecolor": "#2a3f5f"
            },
            "type": "carpet"
           }
          ],
          "choropleth": [
           {
            "colorbar": {
             "outlinewidth": 0,
             "ticks": ""
            },
            "type": "choropleth"
           }
          ],
          "contour": [
           {
            "colorbar": {
             "outlinewidth": 0,
             "ticks": ""
            },
            "colorscale": [
             [
              0,
              "#0d0887"
             ],
             [
              0.1111111111111111,
              "#46039f"
             ],
             [
              0.2222222222222222,
              "#7201a8"
             ],
             [
              0.3333333333333333,
              "#9c179e"
             ],
             [
              0.4444444444444444,
              "#bd3786"
             ],
             [
              0.5555555555555556,
              "#d8576b"
             ],
             [
              0.6666666666666666,
              "#ed7953"
             ],
             [
              0.7777777777777778,
              "#fb9f3a"
             ],
             [
              0.8888888888888888,
              "#fdca26"
             ],
             [
              1,
              "#f0f921"
             ]
            ],
            "type": "contour"
           }
          ],
          "contourcarpet": [
           {
            "colorbar": {
             "outlinewidth": 0,
             "ticks": ""
            },
            "type": "contourcarpet"
           }
          ],
          "heatmap": [
           {
            "colorbar": {
             "outlinewidth": 0,
             "ticks": ""
            },
            "colorscale": [
             [
              0,
              "#0d0887"
             ],
             [
              0.1111111111111111,
              "#46039f"
             ],
             [
              0.2222222222222222,
              "#7201a8"
             ],
             [
              0.3333333333333333,
              "#9c179e"
             ],
             [
              0.4444444444444444,
              "#bd3786"
             ],
             [
              0.5555555555555556,
              "#d8576b"
             ],
             [
              0.6666666666666666,
              "#ed7953"
             ],
             [
              0.7777777777777778,
              "#fb9f3a"
             ],
             [
              0.8888888888888888,
              "#fdca26"
             ],
             [
              1,
              "#f0f921"
             ]
            ],
            "type": "heatmap"
           }
          ],
          "histogram": [
           {
            "marker": {
             "pattern": {
              "fillmode": "overlay",
              "size": 10,
              "solidity": 0.2
             }
            },
            "type": "histogram"
           }
          ],
          "histogram2d": [
           {
            "colorbar": {
             "outlinewidth": 0,
             "ticks": ""
            },
            "colorscale": [
             [
              0,
              "#0d0887"
             ],
             [
              0.1111111111111111,
              "#46039f"
             ],
             [
              0.2222222222222222,
              "#7201a8"
             ],
             [
              0.3333333333333333,
              "#9c179e"
             ],
             [
              0.4444444444444444,
              "#bd3786"
             ],
             [
              0.5555555555555556,
              "#d8576b"
             ],
             [
              0.6666666666666666,
              "#ed7953"
             ],
             [
              0.7777777777777778,
              "#fb9f3a"
             ],
             [
              0.8888888888888888,
              "#fdca26"
             ],
             [
              1,
              "#f0f921"
             ]
            ],
            "type": "histogram2d"
           }
          ],
          "histogram2dcontour": [
           {
            "colorbar": {
             "outlinewidth": 0,
             "ticks": ""
            },
            "colorscale": [
             [
              0,
              "#0d0887"
             ],
             [
              0.1111111111111111,
              "#46039f"
             ],
             [
              0.2222222222222222,
              "#7201a8"
             ],
             [
              0.3333333333333333,
              "#9c179e"
             ],
             [
              0.4444444444444444,
              "#bd3786"
             ],
             [
              0.5555555555555556,
              "#d8576b"
             ],
             [
              0.6666666666666666,
              "#ed7953"
             ],
             [
              0.7777777777777778,
              "#fb9f3a"
             ],
             [
              0.8888888888888888,
              "#fdca26"
             ],
             [
              1,
              "#f0f921"
             ]
            ],
            "type": "histogram2dcontour"
           }
          ],
          "mesh3d": [
           {
            "colorbar": {
             "outlinewidth": 0,
             "ticks": ""
            },
            "type": "mesh3d"
           }
          ],
          "parcoords": [
           {
            "line": {
             "colorbar": {
              "outlinewidth": 0,
              "ticks": ""
             }
            },
            "type": "parcoords"
           }
          ],
          "pie": [
           {
            "automargin": true,
            "type": "pie"
           }
          ],
          "scatter": [
           {
            "fillpattern": {
             "fillmode": "overlay",
             "size": 10,
             "solidity": 0.2
            },
            "type": "scatter"
           }
          ],
          "scatter3d": [
           {
            "line": {
             "colorbar": {
              "outlinewidth": 0,
              "ticks": ""
             }
            },
            "marker": {
             "colorbar": {
              "outlinewidth": 0,
              "ticks": ""
             }
            },
            "type": "scatter3d"
           }
          ],
          "scattercarpet": [
           {
            "marker": {
             "colorbar": {
              "outlinewidth": 0,
              "ticks": ""
             }
            },
            "type": "scattercarpet"
           }
          ],
          "scattergeo": [
           {
            "marker": {
             "colorbar": {
              "outlinewidth": 0,
              "ticks": ""
             }
            },
            "type": "scattergeo"
           }
          ],
          "scattergl": [
           {
            "marker": {
             "colorbar": {
              "outlinewidth": 0,
              "ticks": ""
             }
            },
            "type": "scattergl"
           }
          ],
          "scattermap": [
           {
            "marker": {
             "colorbar": {
              "outlinewidth": 0,
              "ticks": ""
             }
            },
            "type": "scattermap"
           }
          ],
          "scattermapbox": [
           {
            "marker": {
             "colorbar": {
              "outlinewidth": 0,
              "ticks": ""
             }
            },
            "type": "scattermapbox"
           }
          ],
          "scatterpolar": [
           {
            "marker": {
             "colorbar": {
              "outlinewidth": 0,
              "ticks": ""
             }
            },
            "type": "scatterpolar"
           }
          ],
          "scatterpolargl": [
           {
            "marker": {
             "colorbar": {
              "outlinewidth": 0,
              "ticks": ""
             }
            },
            "type": "scatterpolargl"
           }
          ],
          "scatterternary": [
           {
            "marker": {
             "colorbar": {
              "outlinewidth": 0,
              "ticks": ""
             }
            },
            "type": "scatterternary"
           }
          ],
          "surface": [
           {
            "colorbar": {
             "outlinewidth": 0,
             "ticks": ""
            },
            "colorscale": [
             [
              0,
              "#0d0887"
             ],
             [
              0.1111111111111111,
              "#46039f"
             ],
             [
              0.2222222222222222,
              "#7201a8"
             ],
             [
              0.3333333333333333,
              "#9c179e"
             ],
             [
              0.4444444444444444,
              "#bd3786"
             ],
             [
              0.5555555555555556,
              "#d8576b"
             ],
             [
              0.6666666666666666,
              "#ed7953"
             ],
             [
              0.7777777777777778,
              "#fb9f3a"
             ],
             [
              0.8888888888888888,
              "#fdca26"
             ],
             [
              1,
              "#f0f921"
             ]
            ],
            "type": "surface"
           }
          ],
          "table": [
           {
            "cells": {
             "fill": {
              "color": "#EBF0F8"
             },
             "line": {
              "color": "white"
             }
            },
            "header": {
             "fill": {
              "color": "#C8D4E3"
             },
             "line": {
              "color": "white"
             }
            },
            "type": "table"
           }
          ]
         },
         "layout": {
          "annotationdefaults": {
           "arrowcolor": "#2a3f5f",
           "arrowhead": 0,
           "arrowwidth": 1
          },
          "autotypenumbers": "strict",
          "coloraxis": {
           "colorbar": {
            "outlinewidth": 0,
            "ticks": ""
           }
          },
          "colorscale": {
           "diverging": [
            [
             0,
             "#8e0152"
            ],
            [
             0.1,
             "#c51b7d"
            ],
            [
             0.2,
             "#de77ae"
            ],
            [
             0.3,
             "#f1b6da"
            ],
            [
             0.4,
             "#fde0ef"
            ],
            [
             0.5,
             "#f7f7f7"
            ],
            [
             0.6,
             "#e6f5d0"
            ],
            [
             0.7,
             "#b8e186"
            ],
            [
             0.8,
             "#7fbc41"
            ],
            [
             0.9,
             "#4d9221"
            ],
            [
             1,
             "#276419"
            ]
           ],
           "sequential": [
            [
             0,
             "#0d0887"
            ],
            [
             0.1111111111111111,
             "#46039f"
            ],
            [
             0.2222222222222222,
             "#7201a8"
            ],
            [
             0.3333333333333333,
             "#9c179e"
            ],
            [
             0.4444444444444444,
             "#bd3786"
            ],
            [
             0.5555555555555556,
             "#d8576b"
            ],
            [
             0.6666666666666666,
             "#ed7953"
            ],
            [
             0.7777777777777778,
             "#fb9f3a"
            ],
            [
             0.8888888888888888,
             "#fdca26"
            ],
            [
             1,
             "#f0f921"
            ]
           ],
           "sequentialminus": [
            [
             0,
             "#0d0887"
            ],
            [
             0.1111111111111111,
             "#46039f"
            ],
            [
             0.2222222222222222,
             "#7201a8"
            ],
            [
             0.3333333333333333,
             "#9c179e"
            ],
            [
             0.4444444444444444,
             "#bd3786"
            ],
            [
             0.5555555555555556,
             "#d8576b"
            ],
            [
             0.6666666666666666,
             "#ed7953"
            ],
            [
             0.7777777777777778,
             "#fb9f3a"
            ],
            [
             0.8888888888888888,
             "#fdca26"
            ],
            [
             1,
             "#f0f921"
            ]
           ]
          },
          "colorway": [
           "#636efa",
           "#EF553B",
           "#00cc96",
           "#ab63fa",
           "#FFA15A",
           "#19d3f3",
           "#FF6692",
           "#B6E880",
           "#FF97FF",
           "#FECB52"
          ],
          "font": {
           "color": "#2a3f5f"
          },
          "geo": {
           "bgcolor": "white",
           "lakecolor": "white",
           "landcolor": "white",
           "showlakes": true,
           "showland": true,
           "subunitcolor": "#C8D4E3"
          },
          "hoverlabel": {
           "align": "left"
          },
          "hovermode": "closest",
          "mapbox": {
           "style": "light"
          },
          "paper_bgcolor": "white",
          "plot_bgcolor": "white",
          "polar": {
           "angularaxis": {
            "gridcolor": "#EBF0F8",
            "linecolor": "#EBF0F8",
            "ticks": ""
           },
           "bgcolor": "white",
           "radialaxis": {
            "gridcolor": "#EBF0F8",
            "linecolor": "#EBF0F8",
            "ticks": ""
           }
          },
          "scene": {
           "xaxis": {
            "backgroundcolor": "white",
            "gridcolor": "#DFE8F3",
            "gridwidth": 2,
            "linecolor": "#EBF0F8",
            "showbackground": true,
            "ticks": "",
            "zerolinecolor": "#EBF0F8"
           },
           "yaxis": {
            "backgroundcolor": "white",
            "gridcolor": "#DFE8F3",
            "gridwidth": 2,
            "linecolor": "#EBF0F8",
            "showbackground": true,
            "ticks": "",
            "zerolinecolor": "#EBF0F8"
           },
           "zaxis": {
            "backgroundcolor": "white",
            "gridcolor": "#DFE8F3",
            "gridwidth": 2,
            "linecolor": "#EBF0F8",
            "showbackground": true,
            "ticks": "",
            "zerolinecolor": "#EBF0F8"
           }
          },
          "shapedefaults": {
           "line": {
            "color": "#2a3f5f"
           }
          },
          "ternary": {
           "aaxis": {
            "gridcolor": "#DFE8F3",
            "linecolor": "#A2B1C6",
            "ticks": ""
           },
           "baxis": {
            "gridcolor": "#DFE8F3",
            "linecolor": "#A2B1C6",
            "ticks": ""
           },
           "bgcolor": "white",
           "caxis": {
            "gridcolor": "#DFE8F3",
            "linecolor": "#A2B1C6",
            "ticks": ""
           }
          },
          "title": {
           "x": 0.05
          },
          "xaxis": {
           "automargin": true,
           "gridcolor": "#EBF0F8",
           "linecolor": "#EBF0F8",
           "ticks": "",
           "title": {
            "standoff": 15
           },
           "zerolinecolor": "#EBF0F8",
           "zerolinewidth": 2
          },
          "yaxis": {
           "automargin": true,
           "gridcolor": "#EBF0F8",
           "linecolor": "#EBF0F8",
           "ticks": "",
           "title": {
            "standoff": 15
           },
           "zerolinecolor": "#EBF0F8",
           "zerolinewidth": 2
          }
         }
        },
        "title": {
         "text": "Sales Growth and CAGR by Top 4-Wheeler EV Makers (2022-2024)"
        },
        "width": 1000,
        "xaxis": {
         "anchor": "y",
         "domain": [
          0,
          0.94
         ],
         "title": {
          "text": "EV Maker"
         }
        },
        "yaxis": {
         "anchor": "x",
         "domain": [
          0,
          1
         ],
         "title": {
          "text": "Units Sold"
         }
        },
        "yaxis2": {
         "anchor": "x",
         "overlaying": "y",
         "side": "right",
         "ticksuffix": "%",
         "title": {
          "text": "CAGR (%)"
         }
        }
       }
      }
     },
     "metadata": {},
     "output_type": "display_data"
    }
   ],
   "source": [
    "# Create a combined visualization with sales and CAGR\n",
    "fig = make_subplots(specs=[[{\"secondary_y\": True}]])\n",
    "\n",
    "# Sort data by CAGR\n",
    "result_sorted = result_df.sort_values('CAGR (%)', ascending=False)\n",
    "\n",
    "# Add bars for 2022, 2023, 2024 sales\n",
    "for year, color in zip(['2022 Sales', '2023 Sales', '2024 Sales'], ['#D4E6F1', '#7FB3D5', '#2874A6']):\n",
    "    fig.add_trace(\n",
    "        go.Bar(\n",
    "            x=result_sorted['maker'],\n",
    "            y=result_sorted[year],\n",
    "            name=year,\n",
    "            marker_color=color,\n",
    "            text=result_sorted[year].apply(lambda x: f\"{int(x):,}\" if pd.notnull(x) else \"N/A\"),\n",
    "            textposition='inside',\n",
    "            width=0.2,\n",
    "            offset=(-0.25 + 0.25*list(['2022 Sales', '2023 Sales', '2024 Sales']).index(year)),\n",
    "            textfont=dict(color='black', size=10),\n",
    "        ),\n",
    "        secondary_y=False\n",
    "    )\n",
    "\n",
    "# Add line for CAGR\n",
    "fig.add_trace(\n",
    "    go.Scatter(\n",
    "        x=result_sorted['maker'],\n",
    "        y=result_sorted['CAGR (%)'],\n",
    "        name='CAGR (%)',\n",
    "        mode='lines+markers+text',\n",
    "        marker=dict(size=12, symbol='diamond', color='#E74C3C'),\n",
    "        line=dict(width=3, color='#E74C3C', dash='dot'),\n",
    "        text=result_sorted['CAGR (%)'].apply(lambda x: f\"{x:.1f}%\" if pd.notnull(x) else \"N/A\"),\n",
    "        textposition='top center',\n",
    "        textfont=dict(color='#E74C3C')\n",
    "    ),\n",
    "    secondary_y=True\n",
    ")\n",
    "\n",
    "# Update layout\n",
    "fig.update_layout(\n",
    "    title_text='Sales Growth and CAGR by Top 4-Wheeler EV Makers (2022-2024)',\n",
    "    barmode='group',\n",
    "    template='plotly_white',\n",
    "    legend=dict(\n",
    "        orientation='h',\n",
    "        y=1.1,\n",
    "        x=0.5,\n",
    "        xanchor='center'\n",
    "    ),\n",
    "    height=600,\n",
    "    width=1000,\n",
    "    margin=dict(t=120)\n",
    ")\n",
    "\n",
    "# Update axes titles\n",
    "fig.update_yaxes(title_text='Units Sold', secondary_y=False)\n",
    "fig.update_yaxes(title_text='CAGR (%)', ticksuffix='%', secondary_y=True)\n",
    "fig.update_xaxes(title_text='EV Maker')\n",
    "\n",
    "fig.show()"
   ]
  },
  {
   "cell_type": "markdown",
   "id": "ff678c7d",
   "metadata": {},
   "source": [
    "## 10. Build Interactive Dashboard Elements\n",
    "\n",
    "Now let's prepare elements that would be used in a Streamlit dashboard with filters and KPIs:"
   ]
  },
  {
   "cell_type": "code",
   "execution_count": 13,
   "id": "815d09a9",
   "metadata": {},
   "outputs": [],
   "source": [
    "# Define a function to calculate CAGR for any two years\n",
    "def calculate_cagr_for_period(df_4w, start_year, end_year, top_n=5):\n",
    "    \"\"\"Calculate CAGR for top N manufacturers between any two years\"\"\"\n",
    "    # Group by maker and fiscal year, sum the EV sales\n",
    "    sales_by_maker_year = df_4w.groupby(['maker', 'fiscal_year'])['electric_vehicles_sold'].sum().reset_index()\n",
    "    \n",
    "    # Calculate total sales across all years to find top N makers\n",
    "    total_sales_by_maker = sales_by_maker_year.groupby('maker')['electric_vehicles_sold'].sum().reset_index()\n",
    "    top_makers = total_sales_by_maker.sort_values('electric_vehicles_sold', ascending=False).head(top_n)['maker'].tolist()\n",
    "    \n",
    "    # Filter for only the top N makers\n",
    "    top_sales = sales_by_maker_year[sales_by_maker_year['maker'].isin(top_makers)]\n",
    "    \n",
    "    # Pivot data to get years as columns\n",
    "    pivot_data = top_sales.pivot(index='maker', columns='fiscal_year', values='electric_vehicles_sold').reset_index()\n",
    "    \n",
    "    # Calculate CAGR\n",
    "    years_diff = end_year - start_year\n",
    "    pivot_data['CAGR (%)'] = pivot_data.apply(\n",
    "        lambda row: calculate_cagr(row[start_year], row[end_year], years_diff) if pd.notnull(row[start_year]) and pd.notnull(row[end_year]) else None, \n",
    "        axis=1\n",
    "    )\n",
    "    \n",
    "    # Sort by CAGR\n",
    "    pivot_data = pivot_data.sort_values('CAGR (%)', ascending=False)\n",
    "    \n",
    "    return pivot_data"
   ]
  },
  {
   "cell_type": "code",
   "execution_count": 14,
   "id": "360a0fe0",
   "metadata": {},
   "outputs": [],
   "source": [
    "# Define Key Performance Indicators (KPIs) calculation functions\n",
    "def calculate_kpis(result_df, start_year, end_year):\n",
    "    \"\"\"Calculate KPIs for the dashboard\"\"\"\n",
    "    kpis = {}\n",
    "    \n",
    "    # Find the top performer by CAGR\n",
    "    if not result_df.empty and 'CAGR (%)' in result_df.columns and not result_df['CAGR (%)'].isna().all():\n",
    "        top_idx = result_df['CAGR (%)'].idxmax()\n",
    "        kpis['top_cagr_maker'] = result_df.loc[top_idx, 'maker']\n",
    "        kpis['top_cagr_value'] = result_df.loc[top_idx, 'CAGR (%)']\n",
    "    else:\n",
    "        kpis['top_cagr_maker'] = \"N/A\"\n",
    "        kpis['top_cagr_value'] = 0\n",
    "    \n",
    "    # Find the manufacturer with highest sales in the most recent year\n",
    "    end_year_col = f'{end_year} Sales'\n",
    "    if end_year_col in result_df.columns and not result_df[end_year_col].isna().all():\n",
    "        top_sales_idx = result_df[end_year_col].idxmax()\n",
    "        kpis['top_sales_maker'] = result_df.loc[top_sales_idx, 'maker']\n",
    "        kpis['top_sales_value'] = result_df.loc[top_sales_idx, end_year_col]\n",
    "    else:\n",
    "        kpis['top_sales_maker'] = \"N/A\"\n",
    "        kpis['top_sales_value'] = 0\n",
    "    \n",
    "    # Calculate industry average CAGR\n",
    "    kpis['avg_cagr'] = result_df['CAGR (%)'].mean() if not result_df['CAGR (%)'].isna().all() else 0\n",
    "    \n",
    "    # Calculate total sales growth for the industry\n",
    "    start_year_col = f'{start_year} Sales'\n",
    "    if start_year_col in result_df.columns and end_year_col in result_df.columns:\n",
    "        total_start = result_df[start_year_col].sum()\n",
    "        total_end = result_df[end_year_col].sum()\n",
    "        if total_start > 0:\n",
    "            kpis['industry_growth'] = ((total_end / total_start) ** (1/(end_year-start_year)) - 1) * 100\n",
    "        else:\n",
    "            kpis['industry_growth'] = 0\n",
    "    else:\n",
    "        kpis['industry_growth'] = 0\n",
    "    \n",
    "    return kpis"
   ]
  },
  {
   "cell_type": "code",
   "execution_count": 15,
   "id": "c1ca4502",
   "metadata": {},
   "outputs": [
    {
     "name": "stdout",
     "output_type": "stream",
     "text": [
      "Key Performance Indicators for Dashboard:\n",
      "--------------------------------------------------\n",
      "Highest CAGR Manufacturer: BYD India with 566.52%\n",
      "Top Seller (2024): Tata Motors with 48,181 units\n",
      "Industry Average CAGR: 237.71%\n",
      "Overall Industry Growth (CAGR): 111.85%\n"
     ]
    }
   ],
   "source": [
    "# Example of dashboard KPIs with our current data\n",
    "kpis = calculate_kpis(detailed_df, 2022, 2024)\n",
    "\n",
    "print(\"Key Performance Indicators for Dashboard:\")\n",
    "print(\"-\" * 50)\n",
    "print(f\"Highest CAGR Manufacturer: {kpis['top_cagr_maker']} with {kpis['top_cagr_value']:.2f}%\")\n",
    "print(f\"Top Seller (2024): {kpis['top_sales_maker']} with {int(kpis['top_sales_value']):,} units\")\n",
    "print(f\"Industry Average CAGR: {kpis['avg_cagr']:.2f}%\")\n",
    "print(f\"Overall Industry Growth (CAGR): {kpis['industry_growth']:.2f}%\")"
   ]
  },
  {
   "cell_type": "markdown",
   "id": "3c733a90",
   "metadata": {},
   "source": [
    "## Summary of CAGR Analysis\n",
    "\n",
    "Based on our comprehensive analysis of the top 5 four-wheeler EV manufacturers from 2022 to 2024, we can draw the following conclusions:\n",
    "\n",
    "1. **CAGR Performance**: The analysis shows significant variations in growth rates among the top manufacturers, with CAGR values ranging from [lowest CAGR] to [highest CAGR].\n",
    "\n",
    "2. **Market Leadership**: The top performer in terms of CAGR is [top CAGR maker], demonstrating exceptional growth at [top CAGR value]%, which is [comparison] the industry average of [avg CAGR]%.\n",
    "\n",
    "3. **Sales Volume Leader**: [Top sales maker] leads in absolute sales volume for 2024 with [top sales value] units sold, showing its dominant market position.\n",
    "\n",
    "4. **Market Share Evolution**: The market share distribution has [increased/decreased] in concentration, with the top manufacturer now holding [current share]% of the market, compared to [past share]% in 2022.\n",
    "\n",
    "5. **Growth Patterns**: Most manufacturers show [consistent/inconsistent] growth patterns, with [observations about year-over-year trends].\n",
    "\n",
    "This analysis provides valuable insights into the competitive dynamics of the 4-wheeler EV market in India, highlighting which manufacturers are gaining momentum and which might be losing ground in this rapidly evolving industry."
   ]
  }
 ],
 "metadata": {
  "kernelspec": {
   "display_name": "ev-analysis (3.13.3)",
   "language": "python",
   "name": "python3"
  },
  "language_info": {
   "codemirror_mode": {
    "name": "ipython",
    "version": 3
   },
   "file_extension": ".py",
   "mimetype": "text/x-python",
   "name": "python",
   "nbconvert_exporter": "python",
   "pygments_lexer": "ipython3",
   "version": "3.13.3"
  }
 },
 "nbformat": 4,
 "nbformat_minor": 5
}
