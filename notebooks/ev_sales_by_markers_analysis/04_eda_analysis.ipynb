{
 "cells": [
  {
   "cell_type": "markdown",
   "id": "32d50b23",
   "metadata": {},
   "source": [
    "# EDA Analysis on EV Sales By Makers"
   ]
  },
  {
   "cell_type": "code",
   "execution_count": 1,
   "id": "08a6768e",
   "metadata": {},
   "outputs": [],
   "source": [
    "# Import required libraries\n",
    "import pandas as pd\n",
    "import numpy as np\n",
    "import matplotlib.pyplot as plt\n",
    "import seaborn as sns\n",
    "import plotly.express as px\n",
    "import plotly.graph_objects as go\n",
    "from plotly.subplots import make_subplots\n",
    "from IPython.display import display"
   ]
  },
  {
   "cell_type": "code",
   "execution_count": 2,
   "id": "07d4a20d",
   "metadata": {},
   "outputs": [
    {
     "name": "stdout",
     "output_type": "stream",
     "text": [
      "Dataset Overview:\n",
      "--------------------------------------------------\n",
      "Time Range: April 2021 to March 2024\n",
      "Total Records: 816\n",
      "\n",
      "Dataset Info:\n",
      "--------------------------------------------------\n",
      "<class 'pandas.core.frame.DataFrame'>\n",
      "RangeIndex: 816 entries, 0 to 815\n",
      "Data columns (total 9 columns):\n",
      " #   Column                  Non-Null Count  Dtype         \n",
      "---  ------                  --------------  -----         \n",
      " 0   date                    816 non-null    datetime64[ns]\n",
      " 1   vehicle_category        816 non-null    object        \n",
      " 2   maker                   816 non-null    object        \n",
      " 3   electric_vehicles_sold  816 non-null    int64         \n",
      " 4   uuid                    816 non-null    object        \n",
      " 5   year                    816 non-null    int64         \n",
      " 6   month                   816 non-null    object        \n",
      " 7   cumulative_sales        816 non-null    int64         \n",
      " 8   segment                 816 non-null    object        \n",
      "dtypes: datetime64[ns](1), int64(3), object(5)\n",
      "memory usage: 57.5+ KB\n"
     ]
    },
    {
     "data": {
      "text/plain": [
       "None"
      ]
     },
     "metadata": {},
     "output_type": "display_data"
    },
    {
     "data": {
      "text/html": [
       "<div>\n",
       "<style scoped>\n",
       "    .dataframe tbody tr th:only-of-type {\n",
       "        vertical-align: middle;\n",
       "    }\n",
       "\n",
       "    .dataframe tbody tr th {\n",
       "        vertical-align: top;\n",
       "    }\n",
       "\n",
       "    .dataframe thead th {\n",
       "        text-align: right;\n",
       "    }\n",
       "</style>\n",
       "<table border=\"1\" class=\"dataframe\">\n",
       "  <thead>\n",
       "    <tr style=\"text-align: right;\">\n",
       "      <th></th>\n",
       "      <th>date</th>\n",
       "      <th>vehicle_category</th>\n",
       "      <th>maker</th>\n",
       "      <th>electric_vehicles_sold</th>\n",
       "      <th>uuid</th>\n",
       "      <th>year</th>\n",
       "      <th>month</th>\n",
       "      <th>cumulative_sales</th>\n",
       "      <th>segment</th>\n",
       "    </tr>\n",
       "  </thead>\n",
       "  <tbody>\n",
       "    <tr>\n",
       "      <th>0</th>\n",
       "      <td>2021-04-01</td>\n",
       "      <td>2-Wheelers</td>\n",
       "      <td>OLA ELECTRIC</td>\n",
       "      <td>0</td>\n",
       "      <td>465931d3-9bd6-43b5-ab1f-aace65b11dfb</td>\n",
       "      <td>2021</td>\n",
       "      <td>April</td>\n",
       "      <td>0</td>\n",
       "      <td>Two-Wheeler Manufacturer</td>\n",
       "    </tr>\n",
       "    <tr>\n",
       "      <th>1</th>\n",
       "      <td>2022-04-01</td>\n",
       "      <td>2-Wheelers</td>\n",
       "      <td>OKAYA EV</td>\n",
       "      <td>0</td>\n",
       "      <td>1d7ca2e2-988c-42e9-9d44-8b08a759fbbf</td>\n",
       "      <td>2022</td>\n",
       "      <td>April</td>\n",
       "      <td>0</td>\n",
       "      <td>Two-Wheeler Manufacturer</td>\n",
       "    </tr>\n",
       "    <tr>\n",
       "      <th>2</th>\n",
       "      <td>2021-05-01</td>\n",
       "      <td>2-Wheelers</td>\n",
       "      <td>OLA ELECTRIC</td>\n",
       "      <td>0</td>\n",
       "      <td>9da18de8-1173-4717-a894-f3b0748e3249</td>\n",
       "      <td>2021</td>\n",
       "      <td>May</td>\n",
       "      <td>0</td>\n",
       "      <td>Two-Wheeler Manufacturer</td>\n",
       "    </tr>\n",
       "    <tr>\n",
       "      <th>3</th>\n",
       "      <td>2021-06-01</td>\n",
       "      <td>2-Wheelers</td>\n",
       "      <td>OLA ELECTRIC</td>\n",
       "      <td>0</td>\n",
       "      <td>ac373721-db45-46df-bc6a-86f0d663253a</td>\n",
       "      <td>2021</td>\n",
       "      <td>June</td>\n",
       "      <td>0</td>\n",
       "      <td>Two-Wheeler Manufacturer</td>\n",
       "    </tr>\n",
       "    <tr>\n",
       "      <th>4</th>\n",
       "      <td>2021-07-01</td>\n",
       "      <td>2-Wheelers</td>\n",
       "      <td>OLA ELECTRIC</td>\n",
       "      <td>0</td>\n",
       "      <td>9919575b-4d9d-4823-a9a1-f2a1b7c037c7</td>\n",
       "      <td>2021</td>\n",
       "      <td>July</td>\n",
       "      <td>0</td>\n",
       "      <td>Two-Wheeler Manufacturer</td>\n",
       "    </tr>\n",
       "    <tr>\n",
       "      <th>...</th>\n",
       "      <td>...</td>\n",
       "      <td>...</td>\n",
       "      <td>...</td>\n",
       "      <td>...</td>\n",
       "      <td>...</td>\n",
       "      <td>...</td>\n",
       "      <td>...</td>\n",
       "      <td>...</td>\n",
       "      <td>...</td>\n",
       "    </tr>\n",
       "    <tr>\n",
       "      <th>811</th>\n",
       "      <td>2024-03-01</td>\n",
       "      <td>2-Wheelers</td>\n",
       "      <td>BGAUSS</td>\n",
       "      <td>3070</td>\n",
       "      <td>f2abd34d-ea84-49fb-80b0-f1f1b9aaa80e</td>\n",
       "      <td>2024</td>\n",
       "      <td>March</td>\n",
       "      <td>15051</td>\n",
       "      <td>Two-Wheeler Manufacturer</td>\n",
       "    </tr>\n",
       "    <tr>\n",
       "      <th>812</th>\n",
       "      <td>2024-03-01</td>\n",
       "      <td>2-Wheelers</td>\n",
       "      <td>BATTRE ELECTRIC</td>\n",
       "      <td>625</td>\n",
       "      <td>6eb5e827-29a2-4847-875b-91f8ed13c77b</td>\n",
       "      <td>2024</td>\n",
       "      <td>March</td>\n",
       "      <td>4841</td>\n",
       "      <td>Two-Wheeler Manufacturer</td>\n",
       "    </tr>\n",
       "    <tr>\n",
       "      <th>813</th>\n",
       "      <td>2024-03-01</td>\n",
       "      <td>2-Wheelers</td>\n",
       "      <td>KINETIC GREEN</td>\n",
       "      <td>3915</td>\n",
       "      <td>823c012c-9bbf-42b7-b4fa-57c70ea6a939</td>\n",
       "      <td>2024</td>\n",
       "      <td>March</td>\n",
       "      <td>9585</td>\n",
       "      <td>Two-Wheeler Manufacturer</td>\n",
       "    </tr>\n",
       "    <tr>\n",
       "      <th>814</th>\n",
       "      <td>2024-03-01</td>\n",
       "      <td>2-Wheelers</td>\n",
       "      <td>REVOLT</td>\n",
       "      <td>585</td>\n",
       "      <td>4b35d04a-af62-4d0d-a22c-896ce4ff0de7</td>\n",
       "      <td>2024</td>\n",
       "      <td>March</td>\n",
       "      <td>27828</td>\n",
       "      <td>Two-Wheeler Manufacturer</td>\n",
       "    </tr>\n",
       "    <tr>\n",
       "      <th>815</th>\n",
       "      <td>2024-03-01</td>\n",
       "      <td>2-Wheelers</td>\n",
       "      <td>OTHERS</td>\n",
       "      <td>10579</td>\n",
       "      <td>6102e8c1-fa2d-43ed-8601-4066713aba5d</td>\n",
       "      <td>2024</td>\n",
       "      <td>March</td>\n",
       "      <td>156471</td>\n",
       "      <td>Two-Wheeler Manufacturer</td>\n",
       "    </tr>\n",
       "  </tbody>\n",
       "</table>\n",
       "<p>816 rows × 9 columns</p>\n",
       "</div>"
      ],
      "text/plain": [
       "          date vehicle_category            maker  electric_vehicles_sold  \\\n",
       "0   2021-04-01       2-Wheelers     OLA ELECTRIC                       0   \n",
       "1   2022-04-01       2-Wheelers         OKAYA EV                       0   \n",
       "2   2021-05-01       2-Wheelers     OLA ELECTRIC                       0   \n",
       "3   2021-06-01       2-Wheelers     OLA ELECTRIC                       0   \n",
       "4   2021-07-01       2-Wheelers     OLA ELECTRIC                       0   \n",
       "..         ...              ...              ...                     ...   \n",
       "811 2024-03-01       2-Wheelers           BGAUSS                    3070   \n",
       "812 2024-03-01       2-Wheelers  BATTRE ELECTRIC                     625   \n",
       "813 2024-03-01       2-Wheelers    KINETIC GREEN                    3915   \n",
       "814 2024-03-01       2-Wheelers           REVOLT                     585   \n",
       "815 2024-03-01       2-Wheelers           OTHERS                   10579   \n",
       "\n",
       "                                     uuid  year  month  cumulative_sales  \\\n",
       "0    465931d3-9bd6-43b5-ab1f-aace65b11dfb  2021  April                 0   \n",
       "1    1d7ca2e2-988c-42e9-9d44-8b08a759fbbf  2022  April                 0   \n",
       "2    9da18de8-1173-4717-a894-f3b0748e3249  2021    May                 0   \n",
       "3    ac373721-db45-46df-bc6a-86f0d663253a  2021   June                 0   \n",
       "4    9919575b-4d9d-4823-a9a1-f2a1b7c037c7  2021   July                 0   \n",
       "..                                    ...   ...    ...               ...   \n",
       "811  f2abd34d-ea84-49fb-80b0-f1f1b9aaa80e  2024  March             15051   \n",
       "812  6eb5e827-29a2-4847-875b-91f8ed13c77b  2024  March              4841   \n",
       "813  823c012c-9bbf-42b7-b4fa-57c70ea6a939  2024  March              9585   \n",
       "814  4b35d04a-af62-4d0d-a22c-896ce4ff0de7  2024  March             27828   \n",
       "815  6102e8c1-fa2d-43ed-8601-4066713aba5d  2024  March            156471   \n",
       "\n",
       "                      segment  \n",
       "0    Two-Wheeler Manufacturer  \n",
       "1    Two-Wheeler Manufacturer  \n",
       "2    Two-Wheeler Manufacturer  \n",
       "3    Two-Wheeler Manufacturer  \n",
       "4    Two-Wheeler Manufacturer  \n",
       "..                        ...  \n",
       "811  Two-Wheeler Manufacturer  \n",
       "812  Two-Wheeler Manufacturer  \n",
       "813  Two-Wheeler Manufacturer  \n",
       "814  Two-Wheeler Manufacturer  \n",
       "815  Two-Wheeler Manufacturer  \n",
       "\n",
       "[816 rows x 9 columns]"
      ]
     },
     "metadata": {},
     "output_type": "display_data"
    }
   ],
   "source": [
    "# Set plotting styles\n",
    "plt.style.use('seaborn-v0_8')  # Use the seaborn-v0_8 style which is a valid style\n",
    "sns.set_palette('Set2')\n",
    "\n",
    "# Display settings\n",
    "pd.set_option('display.max_columns', None)\n",
    "pd.set_option('display.max_rows', 50)\n",
    "\n",
    "# Load the enhanced dataset\n",
    "df = pd.read_csv('../../data/processed/ev_sales_by_makers_cleaned_20250806.csv')\n",
    "\n",
    "# Convert date column to datetime\n",
    "df['date'] = pd.to_datetime(df['date'])\n",
    "\n",
    "# Display basic information\n",
    "print(\"Dataset Overview:\")\n",
    "print(\"-\" * 50)\n",
    "print(f\"Time Range: {df['date'].min().strftime('%B %Y')} to {df['date'].max().strftime('%B %Y')}\")\n",
    "# print(f\"Number of States: {df['state'].nunique()}\")\n",
    "print(f\"Total Records: {len(df)}\")\n",
    "print(\"\\nDataset Info:\")\n",
    "print(\"-\" * 50)\n",
    "\n",
    "display(df.info())\n",
    "\n",
    "display(df)\n"
   ]
  },
  {
   "cell_type": "code",
   "execution_count": 3,
   "id": "c535b38b",
   "metadata": {},
   "outputs": [
    {
     "data": {
      "application/vnd.plotly.v1+json": {
       "config": {
        "plotlyServerURL": "https://plot.ly"
       },
       "data": [
        {
         "fillpattern": {
          "shape": ""
         },
         "hovertemplate": "maker=ATHER<br>Month=%{x}<br>EVs Sold=%{y}<extra></extra>",
         "legendgroup": "ATHER",
         "line": {
          "color": "#636efa"
         },
         "marker": {
          "symbol": "circle"
         },
         "mode": "lines",
         "name": "ATHER",
         "orientation": "v",
         "showlegend": true,
         "stackgroup": "1",
         "type": "scatter",
         "x": [
          "2021-04-01T00:00:00.000000000",
          "2021-05-01T00:00:00.000000000",
          "2021-06-01T00:00:00.000000000",
          "2021-07-01T00:00:00.000000000",
          "2021-08-01T00:00:00.000000000",
          "2021-09-01T00:00:00.000000000",
          "2021-10-01T00:00:00.000000000",
          "2021-11-01T00:00:00.000000000",
          "2021-12-01T00:00:00.000000000",
          "2022-01-01T00:00:00.000000000",
          "2022-02-01T00:00:00.000000000",
          "2022-03-01T00:00:00.000000000",
          "2022-04-01T00:00:00.000000000",
          "2022-05-01T00:00:00.000000000",
          "2022-06-01T00:00:00.000000000",
          "2022-07-01T00:00:00.000000000",
          "2022-08-01T00:00:00.000000000",
          "2022-09-01T00:00:00.000000000",
          "2022-10-01T00:00:00.000000000",
          "2022-11-01T00:00:00.000000000",
          "2022-12-01T00:00:00.000000000",
          "2023-01-01T00:00:00.000000000",
          "2023-02-01T00:00:00.000000000",
          "2023-03-01T00:00:00.000000000",
          "2023-04-01T00:00:00.000000000",
          "2023-05-01T00:00:00.000000000",
          "2023-06-01T00:00:00.000000000",
          "2023-07-01T00:00:00.000000000",
          "2023-08-01T00:00:00.000000000",
          "2023-09-01T00:00:00.000000000",
          "2023-10-01T00:00:00.000000000",
          "2023-11-01T00:00:00.000000000",
          "2023-12-01T00:00:00.000000000",
          "2024-01-01T00:00:00.000000000",
          "2024-02-01T00:00:00.000000000",
          "2024-03-01T00:00:00.000000000"
         ],
         "xaxis": "x",
         "y": {
          "bdata": "hwOgAEABBwdNBn4IVwqaCBUHWQe4CLgIkwkJDfUOCQUAFYgYvBydHg0eCCRVJ5QvGx6LO8MRzBmZG8MbtyAEJEcZHCT9InRC",
          "dtype": "i2"
         },
         "yaxis": "y"
        },
        {
         "fillpattern": {
          "shape": ""
         },
         "hovertemplate": "maker=BAJAJ<br>Month=%{x}<br>EVs Sold=%{y}<extra></extra>",
         "legendgroup": "BAJAJ",
         "line": {
          "color": "#EF553B"
         },
         "marker": {
          "symbol": "circle"
         },
         "mode": "lines",
         "name": "BAJAJ",
         "orientation": "v",
         "showlegend": true,
         "stackgroup": "1",
         "type": "scatter",
         "x": [
          "2021-04-01T00:00:00.000000000",
          "2021-05-01T00:00:00.000000000",
          "2021-06-01T00:00:00.000000000",
          "2021-07-01T00:00:00.000000000",
          "2021-08-01T00:00:00.000000000",
          "2021-09-01T00:00:00.000000000",
          "2021-10-01T00:00:00.000000000",
          "2021-11-01T00:00:00.000000000",
          "2021-12-01T00:00:00.000000000",
          "2022-01-01T00:00:00.000000000",
          "2022-02-01T00:00:00.000000000",
          "2022-03-01T00:00:00.000000000",
          "2022-04-01T00:00:00.000000000",
          "2022-05-01T00:00:00.000000000",
          "2022-06-01T00:00:00.000000000",
          "2022-07-01T00:00:00.000000000",
          "2022-08-01T00:00:00.000000000",
          "2022-09-01T00:00:00.000000000",
          "2022-10-01T00:00:00.000000000",
          "2022-11-01T00:00:00.000000000",
          "2022-12-01T00:00:00.000000000",
          "2023-01-01T00:00:00.000000000",
          "2023-02-01T00:00:00.000000000",
          "2023-03-01T00:00:00.000000000",
          "2023-04-01T00:00:00.000000000",
          "2023-05-01T00:00:00.000000000",
          "2023-06-01T00:00:00.000000000",
          "2023-07-01T00:00:00.000000000",
          "2023-08-01T00:00:00.000000000",
          "2023-09-01T00:00:00.000000000",
          "2023-10-01T00:00:00.000000000",
          "2023-11-01T00:00:00.000000000",
          "2023-12-01T00:00:00.000000000",
          "2024-01-01T00:00:00.000000000",
          "2024-02-01T00:00:00.000000000",
          "2024-03-01T00:00:00.000000000"
         ],
         "xaxis": "x",
         "y": {
          "bdata": "MAAUALAA2gIcA30B8gLYAoICZAJcBVcDxwQUByAHsgk8CkEO3Q3xC6gMzAjpCcgRyw/4Jp8L8Q9sGWsbACP5LTQoASpTLTRF",
          "dtype": "i2"
         },
         "yaxis": "y"
        },
        {
         "fillpattern": {
          "shape": ""
         },
         "hovertemplate": "maker=HERO ELECTRIC<br>Month=%{x}<br>EVs Sold=%{y}<extra></extra>",
         "legendgroup": "HERO ELECTRIC",
         "line": {
          "color": "#00cc96"
         },
         "marker": {
          "symbol": "circle"
         },
         "mode": "lines",
         "name": "HERO ELECTRIC",
         "orientation": "v",
         "showlegend": true,
         "stackgroup": "1",
         "type": "scatter",
         "x": [
          "2021-04-01T00:00:00.000000000",
          "2021-05-01T00:00:00.000000000",
          "2021-06-01T00:00:00.000000000",
          "2021-07-01T00:00:00.000000000",
          "2021-08-01T00:00:00.000000000",
          "2021-09-01T00:00:00.000000000",
          "2021-10-01T00:00:00.000000000",
          "2021-11-01T00:00:00.000000000",
          "2021-12-01T00:00:00.000000000",
          "2022-01-01T00:00:00.000000000",
          "2022-02-01T00:00:00.000000000",
          "2022-03-01T00:00:00.000000000",
          "2022-04-01T00:00:00.000000000",
          "2022-05-01T00:00:00.000000000",
          "2022-06-01T00:00:00.000000000",
          "2022-07-01T00:00:00.000000000",
          "2022-08-01T00:00:00.000000000",
          "2022-09-01T00:00:00.000000000",
          "2022-10-01T00:00:00.000000000",
          "2022-11-01T00:00:00.000000000",
          "2022-12-01T00:00:00.000000000",
          "2023-01-01T00:00:00.000000000",
          "2023-02-01T00:00:00.000000000",
          "2023-03-01T00:00:00.000000000",
          "2023-04-01T00:00:00.000000000",
          "2023-05-01T00:00:00.000000000",
          "2023-06-01T00:00:00.000000000",
          "2023-07-01T00:00:00.000000000",
          "2023-08-01T00:00:00.000000000",
          "2023-09-01T00:00:00.000000000",
          "2023-10-01T00:00:00.000000000",
          "2023-11-01T00:00:00.000000000",
          "2023-12-01T00:00:00.000000000",
          "2024-01-01T00:00:00.000000000",
          "2024-02-01T00:00:00.000000000",
          "2024-03-01T00:00:00.000000000"
         ],
         "xaxis": "x",
         "y": {
          "bdata": "9wKqAEsFzRGXFUcajxpFHQIZLiBdHlQ1kxqaC7QadiTFJhAgpCJCI6Qf/xjnFgUa3QwlCGMEAgMGA0MDkgIuAyECnQFDATwB",
          "dtype": "i2"
         },
         "yaxis": "y"
        },
        {
         "fillpattern": {
          "shape": ""
         },
         "hovertemplate": "maker=OLA ELECTRIC<br>Month=%{x}<br>EVs Sold=%{y}<extra></extra>",
         "legendgroup": "OLA ELECTRIC",
         "line": {
          "color": "#ab63fa"
         },
         "marker": {
          "symbol": "circle"
         },
         "mode": "lines",
         "name": "OLA ELECTRIC",
         "orientation": "v",
         "showlegend": true,
         "stackgroup": "1",
         "type": "scatter",
         "x": [
          "2021-04-01T00:00:00.000000000",
          "2021-05-01T00:00:00.000000000",
          "2021-06-01T00:00:00.000000000",
          "2021-07-01T00:00:00.000000000",
          "2021-08-01T00:00:00.000000000",
          "2021-09-01T00:00:00.000000000",
          "2021-10-01T00:00:00.000000000",
          "2021-11-01T00:00:00.000000000",
          "2021-12-01T00:00:00.000000000",
          "2022-01-01T00:00:00.000000000",
          "2022-02-01T00:00:00.000000000",
          "2022-03-01T00:00:00.000000000",
          "2022-04-01T00:00:00.000000000",
          "2022-05-01T00:00:00.000000000",
          "2022-06-01T00:00:00.000000000",
          "2022-07-01T00:00:00.000000000",
          "2022-08-01T00:00:00.000000000",
          "2022-09-01T00:00:00.000000000",
          "2022-10-01T00:00:00.000000000",
          "2022-11-01T00:00:00.000000000",
          "2022-12-01T00:00:00.000000000",
          "2023-01-01T00:00:00.000000000",
          "2023-02-01T00:00:00.000000000",
          "2023-03-01T00:00:00.000000000",
          "2023-04-01T00:00:00.000000000",
          "2023-05-01T00:00:00.000000000",
          "2023-06-01T00:00:00.000000000",
          "2023-07-01T00:00:00.000000000",
          "2023-08-01T00:00:00.000000000",
          "2023-09-01T00:00:00.000000000",
          "2023-10-01T00:00:00.000000000",
          "2023-11-01T00:00:00.000000000",
          "2023-12-01T00:00:00.000000000",
          "2024-01-01T00:00:00.000000000",
          "2024-02-01T00:00:00.000000000",
          "2024-03-01T00:00:00.000000000"
         ],
         "xaxis": "x",
         "y": {
          "bdata": "AAAAAAAAAAAAAAAAAAAAAAAAAAAAAAAAAAAAAAAAAADwAAAAUwQAAEcPAAC3IwAAITUAADIkAAAJFwAAGA8AAJMNAACBHwAAHzwAALU9AAAXQgAAtE4AAGJFAAB+VwAAFFgAAAdzAABoRQAA0UsAACdKAADuSQAAoF0AABx1AAB8dwAAE34AAK+EAABWrgAA",
          "dtype": "i4"
         },
         "yaxis": "y"
        },
        {
         "fillpattern": {
          "shape": ""
         },
         "hovertemplate": "maker=TVS<br>Month=%{x}<br>EVs Sold=%{y}<extra></extra>",
         "legendgroup": "TVS",
         "line": {
          "color": "#FFA15A"
         },
         "marker": {
          "symbol": "circle"
         },
         "mode": "lines",
         "name": "TVS",
         "orientation": "v",
         "showlegend": true,
         "stackgroup": "1",
         "type": "scatter",
         "x": [
          "2021-04-01T00:00:00.000000000",
          "2021-05-01T00:00:00.000000000",
          "2021-06-01T00:00:00.000000000",
          "2021-07-01T00:00:00.000000000",
          "2021-08-01T00:00:00.000000000",
          "2021-09-01T00:00:00.000000000",
          "2021-10-01T00:00:00.000000000",
          "2021-11-01T00:00:00.000000000",
          "2021-12-01T00:00:00.000000000",
          "2022-01-01T00:00:00.000000000",
          "2022-02-01T00:00:00.000000000",
          "2022-03-01T00:00:00.000000000",
          "2022-04-01T00:00:00.000000000",
          "2022-05-01T00:00:00.000000000",
          "2022-06-01T00:00:00.000000000",
          "2022-07-01T00:00:00.000000000",
          "2022-08-01T00:00:00.000000000",
          "2022-09-01T00:00:00.000000000",
          "2022-10-01T00:00:00.000000000",
          "2022-11-01T00:00:00.000000000",
          "2022-12-01T00:00:00.000000000",
          "2023-01-01T00:00:00.000000000",
          "2023-02-01T00:00:00.000000000",
          "2023-03-01T00:00:00.000000000",
          "2023-04-01T00:00:00.000000000",
          "2023-05-01T00:00:00.000000000",
          "2023-06-01T00:00:00.000000000",
          "2023-07-01T00:00:00.000000000",
          "2023-08-01T00:00:00.000000000",
          "2023-09-01T00:00:00.000000000",
          "2023-10-01T00:00:00.000000000",
          "2023-11-01T00:00:00.000000000",
          "2023-12-01T00:00:00.000000000",
          "2024-01-01T00:00:00.000000000",
          "2024-02-01T00:00:00.000000000",
          "2024-03-01T00:00:00.000000000"
         ],
         "xaxis": "x",
         "y": {
          "bdata": "LgEJANAAiAKLArAC5gEKAl8EgwQYBlcJ2gXeAb8H/BAaGaEPvBbTH5Mk3ih/MQBCziHcTlweICjAO0E8tT/iSYsvMTtfOC5m",
          "dtype": "i2"
         },
         "yaxis": "y"
        }
       ],
       "layout": {
        "legend": {
         "title": {
          "text": "maker"
         },
         "tracegroupgap": 0
        },
        "template": {
         "data": {
          "bar": [
           {
            "error_x": {
             "color": "#2a3f5f"
            },
            "error_y": {
             "color": "#2a3f5f"
            },
            "marker": {
             "line": {
              "color": "#E5ECF6",
              "width": 0.5
             },
             "pattern": {
              "fillmode": "overlay",
              "size": 10,
              "solidity": 0.2
             }
            },
            "type": "bar"
           }
          ],
          "barpolar": [
           {
            "marker": {
             "line": {
              "color": "#E5ECF6",
              "width": 0.5
             },
             "pattern": {
              "fillmode": "overlay",
              "size": 10,
              "solidity": 0.2
             }
            },
            "type": "barpolar"
           }
          ],
          "carpet": [
           {
            "aaxis": {
             "endlinecolor": "#2a3f5f",
             "gridcolor": "white",
             "linecolor": "white",
             "minorgridcolor": "white",
             "startlinecolor": "#2a3f5f"
            },
            "baxis": {
             "endlinecolor": "#2a3f5f",
             "gridcolor": "white",
             "linecolor": "white",
             "minorgridcolor": "white",
             "startlinecolor": "#2a3f5f"
            },
            "type": "carpet"
           }
          ],
          "choropleth": [
           {
            "colorbar": {
             "outlinewidth": 0,
             "ticks": ""
            },
            "type": "choropleth"
           }
          ],
          "contour": [
           {
            "colorbar": {
             "outlinewidth": 0,
             "ticks": ""
            },
            "colorscale": [
             [
              0,
              "#0d0887"
             ],
             [
              0.1111111111111111,
              "#46039f"
             ],
             [
              0.2222222222222222,
              "#7201a8"
             ],
             [
              0.3333333333333333,
              "#9c179e"
             ],
             [
              0.4444444444444444,
              "#bd3786"
             ],
             [
              0.5555555555555556,
              "#d8576b"
             ],
             [
              0.6666666666666666,
              "#ed7953"
             ],
             [
              0.7777777777777778,
              "#fb9f3a"
             ],
             [
              0.8888888888888888,
              "#fdca26"
             ],
             [
              1,
              "#f0f921"
             ]
            ],
            "type": "contour"
           }
          ],
          "contourcarpet": [
           {
            "colorbar": {
             "outlinewidth": 0,
             "ticks": ""
            },
            "type": "contourcarpet"
           }
          ],
          "heatmap": [
           {
            "colorbar": {
             "outlinewidth": 0,
             "ticks": ""
            },
            "colorscale": [
             [
              0,
              "#0d0887"
             ],
             [
              0.1111111111111111,
              "#46039f"
             ],
             [
              0.2222222222222222,
              "#7201a8"
             ],
             [
              0.3333333333333333,
              "#9c179e"
             ],
             [
              0.4444444444444444,
              "#bd3786"
             ],
             [
              0.5555555555555556,
              "#d8576b"
             ],
             [
              0.6666666666666666,
              "#ed7953"
             ],
             [
              0.7777777777777778,
              "#fb9f3a"
             ],
             [
              0.8888888888888888,
              "#fdca26"
             ],
             [
              1,
              "#f0f921"
             ]
            ],
            "type": "heatmap"
           }
          ],
          "histogram": [
           {
            "marker": {
             "pattern": {
              "fillmode": "overlay",
              "size": 10,
              "solidity": 0.2
             }
            },
            "type": "histogram"
           }
          ],
          "histogram2d": [
           {
            "colorbar": {
             "outlinewidth": 0,
             "ticks": ""
            },
            "colorscale": [
             [
              0,
              "#0d0887"
             ],
             [
              0.1111111111111111,
              "#46039f"
             ],
             [
              0.2222222222222222,
              "#7201a8"
             ],
             [
              0.3333333333333333,
              "#9c179e"
             ],
             [
              0.4444444444444444,
              "#bd3786"
             ],
             [
              0.5555555555555556,
              "#d8576b"
             ],
             [
              0.6666666666666666,
              "#ed7953"
             ],
             [
              0.7777777777777778,
              "#fb9f3a"
             ],
             [
              0.8888888888888888,
              "#fdca26"
             ],
             [
              1,
              "#f0f921"
             ]
            ],
            "type": "histogram2d"
           }
          ],
          "histogram2dcontour": [
           {
            "colorbar": {
             "outlinewidth": 0,
             "ticks": ""
            },
            "colorscale": [
             [
              0,
              "#0d0887"
             ],
             [
              0.1111111111111111,
              "#46039f"
             ],
             [
              0.2222222222222222,
              "#7201a8"
             ],
             [
              0.3333333333333333,
              "#9c179e"
             ],
             [
              0.4444444444444444,
              "#bd3786"
             ],
             [
              0.5555555555555556,
              "#d8576b"
             ],
             [
              0.6666666666666666,
              "#ed7953"
             ],
             [
              0.7777777777777778,
              "#fb9f3a"
             ],
             [
              0.8888888888888888,
              "#fdca26"
             ],
             [
              1,
              "#f0f921"
             ]
            ],
            "type": "histogram2dcontour"
           }
          ],
          "mesh3d": [
           {
            "colorbar": {
             "outlinewidth": 0,
             "ticks": ""
            },
            "type": "mesh3d"
           }
          ],
          "parcoords": [
           {
            "line": {
             "colorbar": {
              "outlinewidth": 0,
              "ticks": ""
             }
            },
            "type": "parcoords"
           }
          ],
          "pie": [
           {
            "automargin": true,
            "type": "pie"
           }
          ],
          "scatter": [
           {
            "fillpattern": {
             "fillmode": "overlay",
             "size": 10,
             "solidity": 0.2
            },
            "type": "scatter"
           }
          ],
          "scatter3d": [
           {
            "line": {
             "colorbar": {
              "outlinewidth": 0,
              "ticks": ""
             }
            },
            "marker": {
             "colorbar": {
              "outlinewidth": 0,
              "ticks": ""
             }
            },
            "type": "scatter3d"
           }
          ],
          "scattercarpet": [
           {
            "marker": {
             "colorbar": {
              "outlinewidth": 0,
              "ticks": ""
             }
            },
            "type": "scattercarpet"
           }
          ],
          "scattergeo": [
           {
            "marker": {
             "colorbar": {
              "outlinewidth": 0,
              "ticks": ""
             }
            },
            "type": "scattergeo"
           }
          ],
          "scattergl": [
           {
            "marker": {
             "colorbar": {
              "outlinewidth": 0,
              "ticks": ""
             }
            },
            "type": "scattergl"
           }
          ],
          "scattermap": [
           {
            "marker": {
             "colorbar": {
              "outlinewidth": 0,
              "ticks": ""
             }
            },
            "type": "scattermap"
           }
          ],
          "scattermapbox": [
           {
            "marker": {
             "colorbar": {
              "outlinewidth": 0,
              "ticks": ""
             }
            },
            "type": "scattermapbox"
           }
          ],
          "scatterpolar": [
           {
            "marker": {
             "colorbar": {
              "outlinewidth": 0,
              "ticks": ""
             }
            },
            "type": "scatterpolar"
           }
          ],
          "scatterpolargl": [
           {
            "marker": {
             "colorbar": {
              "outlinewidth": 0,
              "ticks": ""
             }
            },
            "type": "scatterpolargl"
           }
          ],
          "scatterternary": [
           {
            "marker": {
             "colorbar": {
              "outlinewidth": 0,
              "ticks": ""
             }
            },
            "type": "scatterternary"
           }
          ],
          "surface": [
           {
            "colorbar": {
             "outlinewidth": 0,
             "ticks": ""
            },
            "colorscale": [
             [
              0,
              "#0d0887"
             ],
             [
              0.1111111111111111,
              "#46039f"
             ],
             [
              0.2222222222222222,
              "#7201a8"
             ],
             [
              0.3333333333333333,
              "#9c179e"
             ],
             [
              0.4444444444444444,
              "#bd3786"
             ],
             [
              0.5555555555555556,
              "#d8576b"
             ],
             [
              0.6666666666666666,
              "#ed7953"
             ],
             [
              0.7777777777777778,
              "#fb9f3a"
             ],
             [
              0.8888888888888888,
              "#fdca26"
             ],
             [
              1,
              "#f0f921"
             ]
            ],
            "type": "surface"
           }
          ],
          "table": [
           {
            "cells": {
             "fill": {
              "color": "#EBF0F8"
             },
             "line": {
              "color": "white"
             }
            },
            "header": {
             "fill": {
              "color": "#C8D4E3"
             },
             "line": {
              "color": "white"
             }
            },
            "type": "table"
           }
          ]
         },
         "layout": {
          "annotationdefaults": {
           "arrowcolor": "#2a3f5f",
           "arrowhead": 0,
           "arrowwidth": 1
          },
          "autotypenumbers": "strict",
          "coloraxis": {
           "colorbar": {
            "outlinewidth": 0,
            "ticks": ""
           }
          },
          "colorscale": {
           "diverging": [
            [
             0,
             "#8e0152"
            ],
            [
             0.1,
             "#c51b7d"
            ],
            [
             0.2,
             "#de77ae"
            ],
            [
             0.3,
             "#f1b6da"
            ],
            [
             0.4,
             "#fde0ef"
            ],
            [
             0.5,
             "#f7f7f7"
            ],
            [
             0.6,
             "#e6f5d0"
            ],
            [
             0.7,
             "#b8e186"
            ],
            [
             0.8,
             "#7fbc41"
            ],
            [
             0.9,
             "#4d9221"
            ],
            [
             1,
             "#276419"
            ]
           ],
           "sequential": [
            [
             0,
             "#0d0887"
            ],
            [
             0.1111111111111111,
             "#46039f"
            ],
            [
             0.2222222222222222,
             "#7201a8"
            ],
            [
             0.3333333333333333,
             "#9c179e"
            ],
            [
             0.4444444444444444,
             "#bd3786"
            ],
            [
             0.5555555555555556,
             "#d8576b"
            ],
            [
             0.6666666666666666,
             "#ed7953"
            ],
            [
             0.7777777777777778,
             "#fb9f3a"
            ],
            [
             0.8888888888888888,
             "#fdca26"
            ],
            [
             1,
             "#f0f921"
            ]
           ],
           "sequentialminus": [
            [
             0,
             "#0d0887"
            ],
            [
             0.1111111111111111,
             "#46039f"
            ],
            [
             0.2222222222222222,
             "#7201a8"
            ],
            [
             0.3333333333333333,
             "#9c179e"
            ],
            [
             0.4444444444444444,
             "#bd3786"
            ],
            [
             0.5555555555555556,
             "#d8576b"
            ],
            [
             0.6666666666666666,
             "#ed7953"
            ],
            [
             0.7777777777777778,
             "#fb9f3a"
            ],
            [
             0.8888888888888888,
             "#fdca26"
            ],
            [
             1,
             "#f0f921"
            ]
           ]
          },
          "colorway": [
           "#636efa",
           "#EF553B",
           "#00cc96",
           "#ab63fa",
           "#FFA15A",
           "#19d3f3",
           "#FF6692",
           "#B6E880",
           "#FF97FF",
           "#FECB52"
          ],
          "font": {
           "color": "#2a3f5f"
          },
          "geo": {
           "bgcolor": "white",
           "lakecolor": "white",
           "landcolor": "#E5ECF6",
           "showlakes": true,
           "showland": true,
           "subunitcolor": "white"
          },
          "hoverlabel": {
           "align": "left"
          },
          "hovermode": "closest",
          "mapbox": {
           "style": "light"
          },
          "paper_bgcolor": "white",
          "plot_bgcolor": "#E5ECF6",
          "polar": {
           "angularaxis": {
            "gridcolor": "white",
            "linecolor": "white",
            "ticks": ""
           },
           "bgcolor": "#E5ECF6",
           "radialaxis": {
            "gridcolor": "white",
            "linecolor": "white",
            "ticks": ""
           }
          },
          "scene": {
           "xaxis": {
            "backgroundcolor": "#E5ECF6",
            "gridcolor": "white",
            "gridwidth": 2,
            "linecolor": "white",
            "showbackground": true,
            "ticks": "",
            "zerolinecolor": "white"
           },
           "yaxis": {
            "backgroundcolor": "#E5ECF6",
            "gridcolor": "white",
            "gridwidth": 2,
            "linecolor": "white",
            "showbackground": true,
            "ticks": "",
            "zerolinecolor": "white"
           },
           "zaxis": {
            "backgroundcolor": "#E5ECF6",
            "gridcolor": "white",
            "gridwidth": 2,
            "linecolor": "white",
            "showbackground": true,
            "ticks": "",
            "zerolinecolor": "white"
           }
          },
          "shapedefaults": {
           "line": {
            "color": "#2a3f5f"
           }
          },
          "ternary": {
           "aaxis": {
            "gridcolor": "white",
            "linecolor": "white",
            "ticks": ""
           },
           "baxis": {
            "gridcolor": "white",
            "linecolor": "white",
            "ticks": ""
           },
           "bgcolor": "#E5ECF6",
           "caxis": {
            "gridcolor": "white",
            "linecolor": "white",
            "ticks": ""
           }
          },
          "title": {
           "x": 0.05
          },
          "xaxis": {
           "automargin": true,
           "gridcolor": "white",
           "linecolor": "white",
           "ticks": "",
           "title": {
            "standoff": 15
           },
           "zerolinecolor": "white",
           "zerolinewidth": 2
          },
          "yaxis": {
           "automargin": true,
           "gridcolor": "white",
           "linecolor": "white",
           "ticks": "",
           "title": {
            "standoff": 15
           },
           "zerolinecolor": "white",
           "zerolinewidth": 2
          }
         }
        },
        "title": {
         "text": "EV Sales Over Time by Maker (Ribbon Chart)"
        },
        "xaxis": {
         "anchor": "y",
         "domain": [
          0,
          1
         ],
         "title": {
          "text": "Month"
         }
        },
        "yaxis": {
         "anchor": "x",
         "domain": [
          0,
          1
         ],
         "title": {
          "text": "EVs Sold"
         }
        }
       }
      }
     },
     "metadata": {},
     "output_type": "display_data"
    }
   ],
   "source": [
    "import pandas as pd\n",
    "import plotly.express as px\n",
    "\n",
    "# Assume df contains:\n",
    "# date, maker, electric_vehicles_sold\n",
    "\n",
    "# Step 1: Make sure date is datetime\n",
    "df['date'] = pd.to_datetime(df['date'])\n",
    "\n",
    "# Step 2: Group by maker and date\n",
    "df_top_makers = df[df['maker'].isin(['OLA ELECTRIC', 'TVS', 'ATHER', 'HERO ELECTRIC', 'BAJAJ'])]\n",
    "df_grouped = df_top_makers.groupby(['date', 'maker'])['electric_vehicles_sold'].sum().reset_index()\n",
    "\n",
    "# Step 3: Create area (ribbon) chart\n",
    "fig = px.area(\n",
    "    df_grouped,\n",
    "    x='date',\n",
    "    y='electric_vehicles_sold',\n",
    "    color='maker',\n",
    "    title='EV Sales Over Time by Maker (Ribbon Chart)',\n",
    "    labels={'electric_vehicles_sold': 'EVs Sold', 'date': 'Month'},\n",
    "    line_group='maker'\n",
    ")\n",
    "\n",
    "fig.show()\n"
   ]
  },
  {
   "cell_type": "code",
   "execution_count": 4,
   "id": "c1f121b0",
   "metadata": {},
   "outputs": [
    {
     "data": {
      "application/vnd.plotly.v1+json": {
       "config": {
        "plotlyServerURL": "https://plot.ly"
       },
       "data": [
        {
         "marker": {
          "color": "#1f77b4"
         },
         "name": "OLA ELECTRIC",
         "showlegend": false,
         "text": [
          "152,583"
         ],
         "textposition": "auto",
         "type": "bar",
         "x": [
          "OLA ELECTRIC"
         ],
         "xaxis": "x",
         "y": [
          152583
         ],
         "yaxis": "y"
        },
        {
         "marker": {
          "color": "#ff7f0e"
         },
         "name": "OKINAWA",
         "showlegend": false,
         "text": [
          "96,945"
         ],
         "textposition": "auto",
         "type": "bar",
         "x": [
          "OKINAWA"
         ],
         "xaxis": "x",
         "y": [
          96945
         ],
         "yaxis": "y"
        },
        {
         "marker": {
          "color": "#2ca02c"
         },
         "name": "HERO ELECTRIC",
         "showlegend": false,
         "text": [
          "88,993"
         ],
         "textposition": "auto",
         "type": "bar",
         "x": [
          "HERO ELECTRIC"
         ],
         "xaxis": "x",
         "y": [
          88993
         ],
         "yaxis": "y"
        },
        {
         "marker": {
          "color": "#1f77b4"
         },
         "name": "OLA ELECTRIC",
         "showlegend": false,
         "text": [
          "322,489"
         ],
         "textposition": "auto",
         "type": "bar",
         "x": [
          "OLA ELECTRIC"
         ],
         "xaxis": "x2",
         "y": [
          322489
         ],
         "yaxis": "y2"
        },
        {
         "marker": {
          "color": "#ff7f0e"
         },
         "name": "TVS",
         "showlegend": false,
         "text": [
          "180,743"
         ],
         "textposition": "auto",
         "type": "bar",
         "x": [
          "TVS"
         ],
         "xaxis": "x2",
         "y": [
          180743
         ],
         "yaxis": "y2"
        },
        {
         "marker": {
          "color": "#2ca02c"
         },
         "name": "ATHER",
         "showlegend": false,
         "text": [
          "107,552"
         ],
         "textposition": "auto",
         "type": "bar",
         "x": [
          "ATHER"
         ],
         "xaxis": "x2",
         "y": [
          107552
         ],
         "yaxis": "y2"
        },
        {
         "marker": {
          "color": "#d62728"
         },
         "name": "PURE EV",
         "showlegend": false,
         "text": [
          "11,556"
         ],
         "textposition": "auto",
         "type": "bar",
         "x": [
          "PURE EV"
         ],
         "xaxis": "x3",
         "y": [
          11556
         ],
         "yaxis": "y3"
        },
        {
         "marker": {
          "color": "#9467bd"
         },
         "name": "BEING",
         "showlegend": false,
         "text": [
          "11,018"
         ],
         "textposition": "auto",
         "type": "bar",
         "x": [
          "BEING"
         ],
         "xaxis": "x3",
         "y": [
          11018
         ],
         "yaxis": "y3"
        },
        {
         "marker": {
          "color": "#8c564b"
         },
         "name": "JITENDRA",
         "showlegend": false,
         "text": [
          "8,563"
         ],
         "textposition": "auto",
         "type": "bar",
         "x": [
          "JITENDRA"
         ],
         "xaxis": "x3",
         "y": [
          8563
         ],
         "yaxis": "y3"
        },
        {
         "marker": {
          "color": "#d62728"
         },
         "name": "KINETIC GREEN",
         "showlegend": false,
         "text": [
          "9,585"
         ],
         "textposition": "auto",
         "type": "bar",
         "x": [
          "KINETIC GREEN"
         ],
         "xaxis": "x4",
         "y": [
          9585
         ],
         "yaxis": "y4"
        },
        {
         "marker": {
          "color": "#9467bd"
         },
         "name": "REVOLT",
         "showlegend": false,
         "text": [
          "7,254"
         ],
         "textposition": "auto",
         "type": "bar",
         "x": [
          "REVOLT"
         ],
         "xaxis": "x4",
         "y": [
          7254
         ],
         "yaxis": "y4"
        },
        {
         "marker": {
          "color": "#8c564b"
         },
         "name": "BATTRE ELECTRIC",
         "showlegend": false,
         "text": [
          "4,841"
         ],
         "textposition": "auto",
         "type": "bar",
         "x": [
          "BATTRE ELECTRIC"
         ],
         "xaxis": "x4",
         "y": [
          4841
         ],
         "yaxis": "y4"
        }
       ],
       "layout": {
        "annotations": [
         {
          "font": {
           "size": 12
          },
          "showarrow": false,
          "text": "<b>The Top Performers:</b> OLA ELECTRIC dominated both years, with TVS making significant gains in FY 2024",
          "x": 0.5,
          "xanchor": "center",
          "xref": "paper",
          "y": 0.48,
          "yanchor": "bottom",
          "yref": "paper"
         },
         {
          "font": {
           "size": 12
          },
          "showarrow": false,
          "text": "<b>The Struggling Manufacturers:</b> JOY E-BIKE and PURE EV remained among the bottom performers in both fiscal years",
          "x": 0.5,
          "xanchor": "center",
          "xref": "paper",
          "y": -0.08,
          "yanchor": "bottom",
          "yref": "paper"
         },
         {
          "font": {
           "size": 12
          },
          "showarrow": false,
          "text": "<b>The Top Performers:</b> OLA ELECTRIC dominated both years, with TVS making significant gains in FY 2024",
          "x": 0.5,
          "xanchor": "center",
          "xref": "paper",
          "y": 0.48,
          "yanchor": "bottom",
          "yref": "paper"
         },
         {
          "font": {
           "size": 12
          },
          "showarrow": false,
          "text": "<b>The Struggling Manufacturers:</b> JOY E-BIKE and PURE EV remained among the bottom performers in both fiscal years",
          "x": 0.5,
          "xanchor": "center",
          "xref": "paper",
          "y": -0.08,
          "yanchor": "bottom",
          "yref": "paper"
         }
        ],
        "height": 800,
        "template": {
         "data": {
          "bar": [
           {
            "error_x": {
             "color": "#2a3f5f"
            },
            "error_y": {
             "color": "#2a3f5f"
            },
            "marker": {
             "line": {
              "color": "white",
              "width": 0.5
             },
             "pattern": {
              "fillmode": "overlay",
              "size": 10,
              "solidity": 0.2
             }
            },
            "type": "bar"
           }
          ],
          "barpolar": [
           {
            "marker": {
             "line": {
              "color": "white",
              "width": 0.5
             },
             "pattern": {
              "fillmode": "overlay",
              "size": 10,
              "solidity": 0.2
             }
            },
            "type": "barpolar"
           }
          ],
          "carpet": [
           {
            "aaxis": {
             "endlinecolor": "#2a3f5f",
             "gridcolor": "#C8D4E3",
             "linecolor": "#C8D4E3",
             "minorgridcolor": "#C8D4E3",
             "startlinecolor": "#2a3f5f"
            },
            "baxis": {
             "endlinecolor": "#2a3f5f",
             "gridcolor": "#C8D4E3",
             "linecolor": "#C8D4E3",
             "minorgridcolor": "#C8D4E3",
             "startlinecolor": "#2a3f5f"
            },
            "type": "carpet"
           }
          ],
          "choropleth": [
           {
            "colorbar": {
             "outlinewidth": 0,
             "ticks": ""
            },
            "type": "choropleth"
           }
          ],
          "contour": [
           {
            "colorbar": {
             "outlinewidth": 0,
             "ticks": ""
            },
            "colorscale": [
             [
              0,
              "#0d0887"
             ],
             [
              0.1111111111111111,
              "#46039f"
             ],
             [
              0.2222222222222222,
              "#7201a8"
             ],
             [
              0.3333333333333333,
              "#9c179e"
             ],
             [
              0.4444444444444444,
              "#bd3786"
             ],
             [
              0.5555555555555556,
              "#d8576b"
             ],
             [
              0.6666666666666666,
              "#ed7953"
             ],
             [
              0.7777777777777778,
              "#fb9f3a"
             ],
             [
              0.8888888888888888,
              "#fdca26"
             ],
             [
              1,
              "#f0f921"
             ]
            ],
            "type": "contour"
           }
          ],
          "contourcarpet": [
           {
            "colorbar": {
             "outlinewidth": 0,
             "ticks": ""
            },
            "type": "contourcarpet"
           }
          ],
          "heatmap": [
           {
            "colorbar": {
             "outlinewidth": 0,
             "ticks": ""
            },
            "colorscale": [
             [
              0,
              "#0d0887"
             ],
             [
              0.1111111111111111,
              "#46039f"
             ],
             [
              0.2222222222222222,
              "#7201a8"
             ],
             [
              0.3333333333333333,
              "#9c179e"
             ],
             [
              0.4444444444444444,
              "#bd3786"
             ],
             [
              0.5555555555555556,
              "#d8576b"
             ],
             [
              0.6666666666666666,
              "#ed7953"
             ],
             [
              0.7777777777777778,
              "#fb9f3a"
             ],
             [
              0.8888888888888888,
              "#fdca26"
             ],
             [
              1,
              "#f0f921"
             ]
            ],
            "type": "heatmap"
           }
          ],
          "histogram": [
           {
            "marker": {
             "pattern": {
              "fillmode": "overlay",
              "size": 10,
              "solidity": 0.2
             }
            },
            "type": "histogram"
           }
          ],
          "histogram2d": [
           {
            "colorbar": {
             "outlinewidth": 0,
             "ticks": ""
            },
            "colorscale": [
             [
              0,
              "#0d0887"
             ],
             [
              0.1111111111111111,
              "#46039f"
             ],
             [
              0.2222222222222222,
              "#7201a8"
             ],
             [
              0.3333333333333333,
              "#9c179e"
             ],
             [
              0.4444444444444444,
              "#bd3786"
             ],
             [
              0.5555555555555556,
              "#d8576b"
             ],
             [
              0.6666666666666666,
              "#ed7953"
             ],
             [
              0.7777777777777778,
              "#fb9f3a"
             ],
             [
              0.8888888888888888,
              "#fdca26"
             ],
             [
              1,
              "#f0f921"
             ]
            ],
            "type": "histogram2d"
           }
          ],
          "histogram2dcontour": [
           {
            "colorbar": {
             "outlinewidth": 0,
             "ticks": ""
            },
            "colorscale": [
             [
              0,
              "#0d0887"
             ],
             [
              0.1111111111111111,
              "#46039f"
             ],
             [
              0.2222222222222222,
              "#7201a8"
             ],
             [
              0.3333333333333333,
              "#9c179e"
             ],
             [
              0.4444444444444444,
              "#bd3786"
             ],
             [
              0.5555555555555556,
              "#d8576b"
             ],
             [
              0.6666666666666666,
              "#ed7953"
             ],
             [
              0.7777777777777778,
              "#fb9f3a"
             ],
             [
              0.8888888888888888,
              "#fdca26"
             ],
             [
              1,
              "#f0f921"
             ]
            ],
            "type": "histogram2dcontour"
           }
          ],
          "mesh3d": [
           {
            "colorbar": {
             "outlinewidth": 0,
             "ticks": ""
            },
            "type": "mesh3d"
           }
          ],
          "parcoords": [
           {
            "line": {
             "colorbar": {
              "outlinewidth": 0,
              "ticks": ""
             }
            },
            "type": "parcoords"
           }
          ],
          "pie": [
           {
            "automargin": true,
            "type": "pie"
           }
          ],
          "scatter": [
           {
            "fillpattern": {
             "fillmode": "overlay",
             "size": 10,
             "solidity": 0.2
            },
            "type": "scatter"
           }
          ],
          "scatter3d": [
           {
            "line": {
             "colorbar": {
              "outlinewidth": 0,
              "ticks": ""
             }
            },
            "marker": {
             "colorbar": {
              "outlinewidth": 0,
              "ticks": ""
             }
            },
            "type": "scatter3d"
           }
          ],
          "scattercarpet": [
           {
            "marker": {
             "colorbar": {
              "outlinewidth": 0,
              "ticks": ""
             }
            },
            "type": "scattercarpet"
           }
          ],
          "scattergeo": [
           {
            "marker": {
             "colorbar": {
              "outlinewidth": 0,
              "ticks": ""
             }
            },
            "type": "scattergeo"
           }
          ],
          "scattergl": [
           {
            "marker": {
             "colorbar": {
              "outlinewidth": 0,
              "ticks": ""
             }
            },
            "type": "scattergl"
           }
          ],
          "scattermap": [
           {
            "marker": {
             "colorbar": {
              "outlinewidth": 0,
              "ticks": ""
             }
            },
            "type": "scattermap"
           }
          ],
          "scattermapbox": [
           {
            "marker": {
             "colorbar": {
              "outlinewidth": 0,
              "ticks": ""
             }
            },
            "type": "scattermapbox"
           }
          ],
          "scatterpolar": [
           {
            "marker": {
             "colorbar": {
              "outlinewidth": 0,
              "ticks": ""
             }
            },
            "type": "scatterpolar"
           }
          ],
          "scatterpolargl": [
           {
            "marker": {
             "colorbar": {
              "outlinewidth": 0,
              "ticks": ""
             }
            },
            "type": "scatterpolargl"
           }
          ],
          "scatterternary": [
           {
            "marker": {
             "colorbar": {
              "outlinewidth": 0,
              "ticks": ""
             }
            },
            "type": "scatterternary"
           }
          ],
          "surface": [
           {
            "colorbar": {
             "outlinewidth": 0,
             "ticks": ""
            },
            "colorscale": [
             [
              0,
              "#0d0887"
             ],
             [
              0.1111111111111111,
              "#46039f"
             ],
             [
              0.2222222222222222,
              "#7201a8"
             ],
             [
              0.3333333333333333,
              "#9c179e"
             ],
             [
              0.4444444444444444,
              "#bd3786"
             ],
             [
              0.5555555555555556,
              "#d8576b"
             ],
             [
              0.6666666666666666,
              "#ed7953"
             ],
             [
              0.7777777777777778,
              "#fb9f3a"
             ],
             [
              0.8888888888888888,
              "#fdca26"
             ],
             [
              1,
              "#f0f921"
             ]
            ],
            "type": "surface"
           }
          ],
          "table": [
           {
            "cells": {
             "fill": {
              "color": "#EBF0F8"
             },
             "line": {
              "color": "white"
             }
            },
            "header": {
             "fill": {
              "color": "#C8D4E3"
             },
             "line": {
              "color": "white"
             }
            },
            "type": "table"
           }
          ]
         },
         "layout": {
          "annotationdefaults": {
           "arrowcolor": "#2a3f5f",
           "arrowhead": 0,
           "arrowwidth": 1
          },
          "autotypenumbers": "strict",
          "coloraxis": {
           "colorbar": {
            "outlinewidth": 0,
            "ticks": ""
           }
          },
          "colorscale": {
           "diverging": [
            [
             0,
             "#8e0152"
            ],
            [
             0.1,
             "#c51b7d"
            ],
            [
             0.2,
             "#de77ae"
            ],
            [
             0.3,
             "#f1b6da"
            ],
            [
             0.4,
             "#fde0ef"
            ],
            [
             0.5,
             "#f7f7f7"
            ],
            [
             0.6,
             "#e6f5d0"
            ],
            [
             0.7,
             "#b8e186"
            ],
            [
             0.8,
             "#7fbc41"
            ],
            [
             0.9,
             "#4d9221"
            ],
            [
             1,
             "#276419"
            ]
           ],
           "sequential": [
            [
             0,
             "#0d0887"
            ],
            [
             0.1111111111111111,
             "#46039f"
            ],
            [
             0.2222222222222222,
             "#7201a8"
            ],
            [
             0.3333333333333333,
             "#9c179e"
            ],
            [
             0.4444444444444444,
             "#bd3786"
            ],
            [
             0.5555555555555556,
             "#d8576b"
            ],
            [
             0.6666666666666666,
             "#ed7953"
            ],
            [
             0.7777777777777778,
             "#fb9f3a"
            ],
            [
             0.8888888888888888,
             "#fdca26"
            ],
            [
             1,
             "#f0f921"
            ]
           ],
           "sequentialminus": [
            [
             0,
             "#0d0887"
            ],
            [
             0.1111111111111111,
             "#46039f"
            ],
            [
             0.2222222222222222,
             "#7201a8"
            ],
            [
             0.3333333333333333,
             "#9c179e"
            ],
            [
             0.4444444444444444,
             "#bd3786"
            ],
            [
             0.5555555555555556,
             "#d8576b"
            ],
            [
             0.6666666666666666,
             "#ed7953"
            ],
            [
             0.7777777777777778,
             "#fb9f3a"
            ],
            [
             0.8888888888888888,
             "#fdca26"
            ],
            [
             1,
             "#f0f921"
            ]
           ]
          },
          "colorway": [
           "#636efa",
           "#EF553B",
           "#00cc96",
           "#ab63fa",
           "#FFA15A",
           "#19d3f3",
           "#FF6692",
           "#B6E880",
           "#FF97FF",
           "#FECB52"
          ],
          "font": {
           "color": "#2a3f5f"
          },
          "geo": {
           "bgcolor": "white",
           "lakecolor": "white",
           "landcolor": "white",
           "showlakes": true,
           "showland": true,
           "subunitcolor": "#C8D4E3"
          },
          "hoverlabel": {
           "align": "left"
          },
          "hovermode": "closest",
          "mapbox": {
           "style": "light"
          },
          "paper_bgcolor": "white",
          "plot_bgcolor": "white",
          "polar": {
           "angularaxis": {
            "gridcolor": "#EBF0F8",
            "linecolor": "#EBF0F8",
            "ticks": ""
           },
           "bgcolor": "white",
           "radialaxis": {
            "gridcolor": "#EBF0F8",
            "linecolor": "#EBF0F8",
            "ticks": ""
           }
          },
          "scene": {
           "xaxis": {
            "backgroundcolor": "white",
            "gridcolor": "#DFE8F3",
            "gridwidth": 2,
            "linecolor": "#EBF0F8",
            "showbackground": true,
            "ticks": "",
            "zerolinecolor": "#EBF0F8"
           },
           "yaxis": {
            "backgroundcolor": "white",
            "gridcolor": "#DFE8F3",
            "gridwidth": 2,
            "linecolor": "#EBF0F8",
            "showbackground": true,
            "ticks": "",
            "zerolinecolor": "#EBF0F8"
           },
           "zaxis": {
            "backgroundcolor": "white",
            "gridcolor": "#DFE8F3",
            "gridwidth": 2,
            "linecolor": "#EBF0F8",
            "showbackground": true,
            "ticks": "",
            "zerolinecolor": "#EBF0F8"
           }
          },
          "shapedefaults": {
           "line": {
            "color": "#2a3f5f"
           }
          },
          "ternary": {
           "aaxis": {
            "gridcolor": "#DFE8F3",
            "linecolor": "#A2B1C6",
            "ticks": ""
           },
           "baxis": {
            "gridcolor": "#DFE8F3",
            "linecolor": "#A2B1C6",
            "ticks": ""
           },
           "bgcolor": "white",
           "caxis": {
            "gridcolor": "#DFE8F3",
            "linecolor": "#A2B1C6",
            "ticks": ""
           }
          },
          "title": {
           "x": 0.05
          },
          "xaxis": {
           "automargin": true,
           "gridcolor": "#EBF0F8",
           "linecolor": "#EBF0F8",
           "ticks": "",
           "title": {
            "standoff": 15
           },
           "zerolinecolor": "#EBF0F8",
           "zerolinewidth": 2
          },
          "yaxis": {
           "automargin": true,
           "gridcolor": "#EBF0F8",
           "linecolor": "#EBF0F8",
           "ticks": "",
           "title": {
            "standoff": 15
           },
           "zerolinecolor": "#EBF0F8",
           "zerolinewidth": 2
          }
         }
        },
        "title": {
         "text": "<b>India's Electric 2-Wheeler Market: The Leaders and Laggards</b>",
         "x": 0.5
        },
        "width": 1000,
        "xaxis": {
         "anchor": "y",
         "domain": [
          0,
          0.45
         ]
        },
        "xaxis2": {
         "anchor": "y2",
         "domain": [
          0.55,
          1
         ]
        },
        "xaxis3": {
         "anchor": "y3",
         "domain": [
          0,
          0.45
         ]
        },
        "xaxis4": {
         "anchor": "y4",
         "domain": [
          0.55,
          1
         ]
        },
        "yaxis": {
         "anchor": "x",
         "domain": [
          0.56,
          1
         ],
         "title": {
          "text": "Electric Vehicles Sold"
         }
        },
        "yaxis2": {
         "anchor": "x2",
         "domain": [
          0.56,
          1
         ]
        },
        "yaxis3": {
         "anchor": "x3",
         "domain": [
          0,
          0.44
         ],
         "title": {
          "text": "Electric Vehicles Sold"
         }
        },
        "yaxis4": {
         "anchor": "x4",
         "domain": [
          0,
          0.44
         ]
        }
       }
      }
     },
     "metadata": {},
     "output_type": "display_data"
    },
    {
     "name": "stdout",
     "output_type": "stream",
     "text": [
      "\n",
      "==================================================\n",
      "Detailed Comparison: Top & Bottom Performers (2-Wheelers)\n",
      "==================================================\n"
     ]
    },
    {
     "data": {
      "text/html": [
       "<style type=\"text/css\">\n",
       "</style>\n",
       "<table id=\"T_0efa4\">\n",
       "  <thead>\n",
       "    <tr>\n",
       "      <th class=\"index_name level0\" >fiscal_year</th>\n",
       "      <th id=\"T_0efa4_level0_col0\" class=\"col_heading level0 col0\" >position</th>\n",
       "      <th id=\"T_0efa4_level0_col1\" class=\"col_heading level0 col1\" >maker</th>\n",
       "      <th id=\"T_0efa4_level0_col2\" class=\"col_heading level0 col2\" >FY 2023</th>\n",
       "      <th id=\"T_0efa4_level0_col3\" class=\"col_heading level0 col3\" >FY 2024</th>\n",
       "      <th id=\"T_0efa4_level0_col4\" class=\"col_heading level0 col4\" >YoY Change</th>\n",
       "    </tr>\n",
       "  </thead>\n",
       "  <tbody>\n",
       "    <tr>\n",
       "      <th id=\"T_0efa4_level0_row0\" class=\"row_heading level0 row0\" >3</th>\n",
       "      <td id=\"T_0efa4_row0_col0\" class=\"data row0 col0\" >Bottom 3</td>\n",
       "      <td id=\"T_0efa4_row0_col1\" class=\"data row0 col1\" >KINETIC GREEN</td>\n",
       "      <td id=\"T_0efa4_row0_col2\" class=\"data row0 col2\" >-</td>\n",
       "      <td id=\"T_0efa4_row0_col3\" class=\"data row0 col3\" >9,585</td>\n",
       "      <td id=\"T_0efa4_row0_col4\" class=\"data row0 col4\" >-</td>\n",
       "    </tr>\n",
       "    <tr>\n",
       "      <th id=\"T_0efa4_level0_row1\" class=\"row_heading level0 row1\" >5</th>\n",
       "      <td id=\"T_0efa4_row1_col0\" class=\"data row1 col0\" >Bottom 3</td>\n",
       "      <td id=\"T_0efa4_row1_col1\" class=\"data row1 col1\" >REVOLT</td>\n",
       "      <td id=\"T_0efa4_row1_col2\" class=\"data row1 col2\" >-</td>\n",
       "      <td id=\"T_0efa4_row1_col3\" class=\"data row1 col3\" >7,254</td>\n",
       "      <td id=\"T_0efa4_row1_col4\" class=\"data row1 col4\" >-</td>\n",
       "    </tr>\n",
       "    <tr>\n",
       "      <th id=\"T_0efa4_level0_row2\" class=\"row_heading level0 row2\" >0</th>\n",
       "      <td id=\"T_0efa4_row2_col0\" class=\"data row2 col0\" >Bottom 3</td>\n",
       "      <td id=\"T_0efa4_row2_col1\" class=\"data row2 col1\" >BATTRE ELECTRIC</td>\n",
       "      <td id=\"T_0efa4_row2_col2\" class=\"data row2 col2\" >-</td>\n",
       "      <td id=\"T_0efa4_row2_col3\" class=\"data row2 col3\" >4,841</td>\n",
       "      <td id=\"T_0efa4_row2_col4\" class=\"data row2 col4\" >-</td>\n",
       "    </tr>\n",
       "    <tr>\n",
       "      <th id=\"T_0efa4_level0_row3\" class=\"row_heading level0 row3\" >1</th>\n",
       "      <td id=\"T_0efa4_row3_col0\" class=\"data row3 col0\" >Bottom 3</td>\n",
       "      <td id=\"T_0efa4_row3_col1\" class=\"data row3 col1\" >BEING</td>\n",
       "      <td id=\"T_0efa4_row3_col2\" class=\"data row3 col2\" >11,018</td>\n",
       "      <td id=\"T_0efa4_row3_col3\" class=\"data row3 col3\" >-</td>\n",
       "      <td id=\"T_0efa4_row3_col4\" class=\"data row3 col4\" >-</td>\n",
       "    </tr>\n",
       "    <tr>\n",
       "      <th id=\"T_0efa4_level0_row4\" class=\"row_heading level0 row4\" >2</th>\n",
       "      <td id=\"T_0efa4_row4_col0\" class=\"data row4 col0\" >Bottom 3</td>\n",
       "      <td id=\"T_0efa4_row4_col1\" class=\"data row4 col1\" >JITENDRA</td>\n",
       "      <td id=\"T_0efa4_row4_col2\" class=\"data row4 col2\" >8,563</td>\n",
       "      <td id=\"T_0efa4_row4_col3\" class=\"data row4 col3\" >-</td>\n",
       "      <td id=\"T_0efa4_row4_col4\" class=\"data row4 col4\" >-</td>\n",
       "    </tr>\n",
       "    <tr>\n",
       "      <th id=\"T_0efa4_level0_row5\" class=\"row_heading level0 row5\" >4</th>\n",
       "      <td id=\"T_0efa4_row5_col0\" class=\"data row5 col0\" >Bottom 3</td>\n",
       "      <td id=\"T_0efa4_row5_col1\" class=\"data row5 col1\" >PURE EV</td>\n",
       "      <td id=\"T_0efa4_row5_col2\" class=\"data row5 col2\" >11,556</td>\n",
       "      <td id=\"T_0efa4_row5_col3\" class=\"data row5 col3\" >-</td>\n",
       "      <td id=\"T_0efa4_row5_col4\" class=\"data row5 col4\" >-</td>\n",
       "    </tr>\n",
       "    <tr>\n",
       "      <th id=\"T_0efa4_level0_row6\" class=\"row_heading level0 row6\" >9</th>\n",
       "      <td id=\"T_0efa4_row6_col0\" class=\"data row6 col0\" >Top 3</td>\n",
       "      <td id=\"T_0efa4_row6_col1\" class=\"data row6 col1\" >OLA ELECTRIC</td>\n",
       "      <td id=\"T_0efa4_row6_col2\" class=\"data row6 col2\" >152,583</td>\n",
       "      <td id=\"T_0efa4_row6_col3\" class=\"data row6 col3\" >322,489</td>\n",
       "      <td id=\"T_0efa4_row6_col4\" class=\"data row6 col4\" >+111.4%</td>\n",
       "    </tr>\n",
       "    <tr>\n",
       "      <th id=\"T_0efa4_level0_row7\" class=\"row_heading level0 row7\" >10</th>\n",
       "      <td id=\"T_0efa4_row7_col0\" class=\"data row7 col0\" >Top 3</td>\n",
       "      <td id=\"T_0efa4_row7_col1\" class=\"data row7 col1\" >TVS</td>\n",
       "      <td id=\"T_0efa4_row7_col2\" class=\"data row7 col2\" >-</td>\n",
       "      <td id=\"T_0efa4_row7_col3\" class=\"data row7 col3\" >180,743</td>\n",
       "      <td id=\"T_0efa4_row7_col4\" class=\"data row7 col4\" >-</td>\n",
       "    </tr>\n",
       "    <tr>\n",
       "      <th id=\"T_0efa4_level0_row8\" class=\"row_heading level0 row8\" >6</th>\n",
       "      <td id=\"T_0efa4_row8_col0\" class=\"data row8 col0\" >Top 3</td>\n",
       "      <td id=\"T_0efa4_row8_col1\" class=\"data row8 col1\" >ATHER</td>\n",
       "      <td id=\"T_0efa4_row8_col2\" class=\"data row8 col2\" >-</td>\n",
       "      <td id=\"T_0efa4_row8_col3\" class=\"data row8 col3\" >107,552</td>\n",
       "      <td id=\"T_0efa4_row8_col4\" class=\"data row8 col4\" >-</td>\n",
       "    </tr>\n",
       "    <tr>\n",
       "      <th id=\"T_0efa4_level0_row9\" class=\"row_heading level0 row9\" >7</th>\n",
       "      <td id=\"T_0efa4_row9_col0\" class=\"data row9 col0\" >Top 3</td>\n",
       "      <td id=\"T_0efa4_row9_col1\" class=\"data row9 col1\" >HERO ELECTRIC</td>\n",
       "      <td id=\"T_0efa4_row9_col2\" class=\"data row9 col2\" >88,993</td>\n",
       "      <td id=\"T_0efa4_row9_col3\" class=\"data row9 col3\" >-</td>\n",
       "      <td id=\"T_0efa4_row9_col4\" class=\"data row9 col4\" >-</td>\n",
       "    </tr>\n",
       "    <tr>\n",
       "      <th id=\"T_0efa4_level0_row10\" class=\"row_heading level0 row10\" >8</th>\n",
       "      <td id=\"T_0efa4_row10_col0\" class=\"data row10 col0\" >Top 3</td>\n",
       "      <td id=\"T_0efa4_row10_col1\" class=\"data row10 col1\" >OKINAWA</td>\n",
       "      <td id=\"T_0efa4_row10_col2\" class=\"data row10 col2\" >96,945</td>\n",
       "      <td id=\"T_0efa4_row10_col3\" class=\"data row10 col3\" >-</td>\n",
       "      <td id=\"T_0efa4_row10_col4\" class=\"data row10 col4\" >-</td>\n",
       "    </tr>\n",
       "  </tbody>\n",
       "</table>\n"
      ],
      "text/plain": [
       "<pandas.io.formats.style.Styler at 0x7f8a94cd4ad0>"
      ]
     },
     "metadata": {},
     "output_type": "display_data"
    }
   ],
   "source": [
    "# Data Storytelling: Top and Bottom 2-Wheeler Manufacturers (FY 2023 vs FY 2024)\n",
    "\n",
    "# Filter for 2-wheelers only\n",
    "two_wheelers = df[df['vehicle_category'] == '2-Wheelers'].copy()\n",
    "\n",
    "# Extract fiscal year (April to March)\n",
    "two_wheelers['fiscal_year'] = two_wheelers['date'].apply(\n",
    "    lambda x: f\"FY {x.year}\" if x.month < 4 else f\"FY {x.year + 1}\"\n",
    ")\n",
    "\n",
    "# Filter for fiscal years 2023 and 2024\n",
    "two_wheelers_filtered = two_wheelers[\n",
    "    two_wheelers['fiscal_year'].isin(['FY 2023', 'FY 2024'])\n",
    "]\n",
    "\n",
    "# Group by maker and fiscal year to get total sales\n",
    "yearly_sales = two_wheelers_filtered.groupby(['maker', 'fiscal_year'])['electric_vehicles_sold'].sum().reset_index()\n",
    "\n",
    "# Get top 3 and bottom 3 makers for each fiscal year\n",
    "top_bottom_dict = {}\n",
    "for year in ['FY 2023', 'FY 2024']:\n",
    "    year_data = yearly_sales[yearly_sales['fiscal_year'] == year].sort_values('electric_vehicles_sold', ascending=False)\n",
    "    \n",
    "    # Get top 3 and bottom 3\n",
    "    top_3 = year_data.head(3)\n",
    "    bottom_3 = year_data.tail(3)\n",
    "    \n",
    "    # Store in dictionary\n",
    "    top_bottom_dict[f'{year}_top'] = top_3\n",
    "    top_bottom_dict[f'{year}_bottom'] = bottom_3\n",
    "\n",
    "# Combine data for visualization\n",
    "top_makers = pd.concat([top_bottom_dict['FY 2023_top'], top_bottom_dict['FY 2024_top']])\n",
    "bottom_makers = pd.concat([top_bottom_dict['FY 2023_bottom'], top_bottom_dict['FY 2024_bottom']])\n",
    "\n",
    "# Create a subplot with 2 rows and 2 columns\n",
    "fig = make_subplots(\n",
    "    rows=2, \n",
    "    cols=2,\n",
    "    subplot_titles=(\n",
    "        'Top 3 Manufacturers - FY 2023', \n",
    "        'Top 3 Manufacturers - FY 2024',\n",
    "        'Bottom 3 Manufacturers - FY 2023', \n",
    "        'Bottom 3 Manufacturers - FY 2024'\n",
    "    ),\n",
    "    vertical_spacing=0.12,\n",
    "    horizontal_spacing=0.1\n",
    ")\n",
    "\n",
    "# Define color schemes\n",
    "top_colors = ['#1f77b4', '#ff7f0e', '#2ca02c']\n",
    "bottom_colors = ['#d62728', '#9467bd', '#8c564b']\n",
    "\n",
    "# Add bars for top performers in FY 2023\n",
    "for idx, (_, row) in enumerate(top_bottom_dict['FY 2023_top'].iterrows()):\n",
    "    fig.add_trace(\n",
    "        go.Bar(\n",
    "            x=[row['maker']], \n",
    "            y=[row['electric_vehicles_sold']],\n",
    "            text=[f\"{row['electric_vehicles_sold']:,}\"],\n",
    "            textposition='auto',\n",
    "            name=row['maker'],\n",
    "            marker_color=top_colors[idx % len(top_colors)],  # Use modulo to avoid index errors\n",
    "            showlegend=False\n",
    "        ),\n",
    "        row=1, col=1\n",
    "    )\n",
    "\n",
    "# Add bars for top performers in FY 2024\n",
    "for idx, (_, row) in enumerate(top_bottom_dict['FY 2024_top'].iterrows()):\n",
    "    fig.add_trace(\n",
    "        go.Bar(\n",
    "            x=[row['maker']], \n",
    "            y=[row['electric_vehicles_sold']],\n",
    "            text=[f\"{row['electric_vehicles_sold']:,}\"],\n",
    "            textposition='auto',\n",
    "            name=row['maker'],\n",
    "            marker_color=top_colors[idx % len(top_colors)],\n",
    "            showlegend=False\n",
    "        ),\n",
    "        row=1, col=2\n",
    "    )\n",
    "\n",
    "# Add bars for bottom performers in FY 2023\n",
    "for idx, (_, row) in enumerate(top_bottom_dict['FY 2023_bottom'].iterrows()):\n",
    "    fig.add_trace(\n",
    "        go.Bar(\n",
    "            x=[row['maker']], \n",
    "            y=[row['electric_vehicles_sold']],\n",
    "            text=[f\"{row['electric_vehicles_sold']:,}\"],\n",
    "            textposition='auto',\n",
    "            name=row['maker'],\n",
    "            marker_color=bottom_colors[idx % len(bottom_colors)],\n",
    "            showlegend=False\n",
    "        ),\n",
    "        row=2, col=1\n",
    "    )\n",
    "\n",
    "# Add bars for bottom performers in FY 2024\n",
    "for idx, (_, row) in enumerate(top_bottom_dict['FY 2024_bottom'].iterrows()):\n",
    "    fig.add_trace(\n",
    "        go.Bar(\n",
    "            x=[row['maker']], \n",
    "            y=[row['electric_vehicles_sold']],\n",
    "            text=[f\"{row['electric_vehicles_sold']:,}\"],\n",
    "            textposition='auto',\n",
    "            name=row['maker'],\n",
    "            marker_color=bottom_colors[idx % len(bottom_colors)],\n",
    "            showlegend=False\n",
    "        ),\n",
    "        row=2, col=2\n",
    "    )\n",
    "\n",
    "# Update layout\n",
    "fig.update_layout(\n",
    "    title_text='<b>India\\'s Electric 2-Wheeler Market: The Leaders and Laggards</b>',\n",
    "    title_x=0.5,\n",
    "    height=800,\n",
    "    width=1000,\n",
    "    template='plotly_white',\n",
    "    annotations=[\n",
    "        dict(\n",
    "            text=\"<b>The Top Performers:</b> OLA ELECTRIC dominated both years, with TVS making significant gains in FY 2024\",\n",
    "            showarrow=False,\n",
    "            x=0.5,\n",
    "            y=0.48,\n",
    "            xref=\"paper\",\n",
    "            yref=\"paper\",\n",
    "            font=dict(size=12)\n",
    "        ),\n",
    "        dict(\n",
    "            text=\"<b>The Struggling Manufacturers:</b> JOY E-BIKE and PURE EV remained among the bottom performers in both fiscal years\",\n",
    "            showarrow=False,\n",
    "            x=0.5,\n",
    "            y=-0.08,\n",
    "            xref=\"paper\",\n",
    "            yref=\"paper\",\n",
    "            font=dict(size=12)\n",
    "        )\n",
    "    ]\n",
    ")\n",
    "\n",
    "# Update axes\n",
    "fig.update_xaxes(title_text=None)\n",
    "fig.update_yaxes(title_text='Electric Vehicles Sold', row=1, col=1)\n",
    "fig.update_yaxes(title_text='Electric Vehicles Sold', row=2, col=1)\n",
    "\n",
    "fig.show()\n",
    "\n",
    "# Create a table to show the exact numbers\n",
    "print(\"\\n\" + \"=\"*50)\n",
    "print(\"Detailed Comparison: Top & Bottom Performers (2-Wheelers)\")\n",
    "print(\"=\"*50)\n",
    "\n",
    "# Combine all data for a summary table\n",
    "all_highlighted = pd.concat([\n",
    "    top_bottom_dict['FY 2023_top'].assign(position=\"Top 3\"),\n",
    "    top_bottom_dict['FY 2024_top'].assign(position=\"Top 3\"),\n",
    "    top_bottom_dict['FY 2023_bottom'].assign(position=\"Bottom 3\"),\n",
    "    top_bottom_dict['FY 2024_bottom'].assign(position=\"Bottom 3\")\n",
    "])\n",
    "\n",
    "# Pivot for better comparison\n",
    "pivot_table = all_highlighted.pivot_table(\n",
    "    index=['position', 'maker'], \n",
    "    columns=['fiscal_year'],\n",
    "    values='electric_vehicles_sold',\n",
    "    aggfunc='sum'\n",
    ").reset_index()\n",
    "\n",
    "# Calculate year-over-year change for manufacturers present in both years\n",
    "def calculate_yoy(row):\n",
    "    try:\n",
    "        if pd.notna(row['FY 2023']) and pd.notna(row['FY 2024']):\n",
    "            return ((row['FY 2024'] - row['FY 2023'])/row['FY 2023']*100)\n",
    "        return pd.NA\n",
    "    except:\n",
    "        return pd.NA\n",
    "\n",
    "pivot_table['YoY Change'] = pivot_table.apply(lambda x: calculate_yoy(x), axis=1)\n",
    "\n",
    "# Sort and display\n",
    "pivot_table = pivot_table.sort_values(['position', 'FY 2024'], ascending=[True, False])\n",
    "\n",
    "# Properly handle the formatting with a check for string values\n",
    "formatted_pivot = pivot_table.fillna('-')\n",
    "\n",
    "# Use a more robust formatting approach that handles strings\n",
    "def format_with_check(val, format_str):\n",
    "    if isinstance(val, str):\n",
    "        return val\n",
    "    else:\n",
    "        return format_str.format(val)\n",
    "\n",
    "# Apply formatting without risking errors on string values\n",
    "styled_pivot = formatted_pivot.style.format({\n",
    "    'FY 2023': lambda x: format_with_check(x, '{:,.0f}'),\n",
    "    'FY 2024': lambda x: format_with_check(x, '{:,.0f}'),\n",
    "    'YoY Change': lambda x: format_with_check(x, '{:+.1f}%')\n",
    "})\n",
    "\n",
    "display(styled_pivot)"
   ]
  },
  {
   "cell_type": "code",
   "execution_count": null,
   "id": "fd905298",
   "metadata": {},
   "outputs": [],
   "source": []
  },
  {
   "cell_type": "code",
   "execution_count": 5,
   "id": "3ed43e04",
   "metadata": {},
   "outputs": [],
   "source": [
    "import pandas as pd"
   ]
  },
  {
   "cell_type": "code",
   "execution_count": 6,
   "id": "280d584b",
   "metadata": {},
   "outputs": [
    {
     "name": "stdout",
     "output_type": "stream",
     "text": [
      "Years in dataset: [np.int32(2021), np.int32(2022), np.int32(2023), np.int32(2024)]\n",
      "\n",
      "Number of states with declining penetration from 2022 to 2023: 4\n",
      "States with declining penetration from 2022 to 2023:\n",
      "======================================================================\n"
     ]
    },
    {
     "data": {
      "text/html": [
       "<div>\n",
       "<style scoped>\n",
       "    .dataframe tbody tr th:only-of-type {\n",
       "        vertical-align: middle;\n",
       "    }\n",
       "\n",
       "    .dataframe tbody tr th {\n",
       "        vertical-align: top;\n",
       "    }\n",
       "\n",
       "    .dataframe thead th {\n",
       "        text-align: right;\n",
       "    }\n",
       "</style>\n",
       "<table border=\"1\" class=\"dataframe\">\n",
       "  <thead>\n",
       "    <tr style=\"text-align: right;\">\n",
       "      <th>date</th>\n",
       "      <th>2022</th>\n",
       "      <th>2023</th>\n",
       "      <th>change_2022_2023</th>\n",
       "      <th>pct_change_2022_2023</th>\n",
       "    </tr>\n",
       "    <tr>\n",
       "      <th>state</th>\n",
       "      <th></th>\n",
       "      <th></th>\n",
       "      <th></th>\n",
       "      <th></th>\n",
       "    </tr>\n",
       "  </thead>\n",
       "  <tbody>\n",
       "    <tr>\n",
       "      <th>Ladakh</th>\n",
       "      <td>0.015029</td>\n",
       "      <td>0.006463</td>\n",
       "      <td>-0.008566</td>\n",
       "      <td>-56.994417</td>\n",
       "    </tr>\n",
       "    <tr>\n",
       "      <th>Haryana</th>\n",
       "      <td>0.016633</td>\n",
       "      <td>0.013832</td>\n",
       "      <td>-0.002801</td>\n",
       "      <td>-16.839226</td>\n",
       "    </tr>\n",
       "    <tr>\n",
       "      <th>Jammu and Kashmir</th>\n",
       "      <td>0.013786</td>\n",
       "      <td>0.012621</td>\n",
       "      <td>-0.001165</td>\n",
       "      <td>-8.450534</td>\n",
       "    </tr>\n",
       "    <tr>\n",
       "      <th>Uttarakhand</th>\n",
       "      <td>0.021635</td>\n",
       "      <td>0.020961</td>\n",
       "      <td>-0.000674</td>\n",
       "      <td>-3.114786</td>\n",
       "    </tr>\n",
       "  </tbody>\n",
       "</table>\n",
       "</div>"
      ],
      "text/plain": [
       "date                   2022      2023  change_2022_2023  pct_change_2022_2023\n",
       "state                                                                        \n",
       "Ladakh             0.015029  0.006463         -0.008566            -56.994417\n",
       "Haryana            0.016633  0.013832         -0.002801            -16.839226\n",
       "Jammu and Kashmir  0.013786  0.012621         -0.001165             -8.450534\n",
       "Uttarakhand        0.021635  0.020961         -0.000674             -3.114786"
      ]
     },
     "metadata": {},
     "output_type": "display_data"
    },
    {
     "name": "stdout",
     "output_type": "stream",
     "text": [
      "\n",
      "Number of states with declining penetration from 2023 to 2024: 0\n",
      "\n",
      "Number of states with overall declining penetration from 2022 to 2024: 0\n",
      "\n",
      "Analyzing monthly trends to identify any periods of decline...\n",
      "\n",
      "States with the Most Frequent Monthly Declines in EV Penetration:\n",
      "======================================================================\n",
      "                                   state  months_of_decline\n",
      "                                   Delhi                 17\n",
      "                               Meghalaya                 17\n",
      "                                 Tripura                 16\n",
      "                               Jharkhand                 16\n",
      "Dadra and Nagar Haveli and Daman and Diu                 16\n",
      "                       Jammu and Kashmir                 15\n",
      "                                 Manipur                 15\n",
      "                                   Assam                 15\n",
      "             Andaman and Nicobar Islands                 14\n",
      "                          Madhya Pradesh                 14\n",
      "\n",
      "States with the Largest Average Monthly Declines in EV Penetration:\n",
      "======================================================================\n",
      "                      state  abs_mom_change\n",
      "                     Kerala        0.255147\n",
      "                     Ladakh        0.066797\n",
      "                 Chandigarh        0.029118\n",
      "                        Goa        0.020651\n",
      "                      Delhi        0.016272\n",
      "                Maharashtra        0.010416\n",
      "                  Karnataka        0.009659\n",
      "                 Puducherry        0.008955\n",
      "Andaman and Nicobar Islands        0.008131\n",
      "                 Tamil Nadu        0.006984\n"
     ]
    },
    {
     "name": "stderr",
     "output_type": "stream",
     "text": [
      "/tmp/ipykernel_426228/900775178.py:120: FutureWarning:\n",
      "\n",
      "'M' is deprecated and will be removed in a future version, please use 'ME' instead.\n",
      "\n",
      "/tmp/ipykernel_426228/900775178.py:142: SettingWithCopyWarning:\n",
      "\n",
      "\n",
      "A value is trying to be set on a copy of a slice from a DataFrame.\n",
      "Try using .loc[row_indexer,col_indexer] = value instead\n",
      "\n",
      "See the caveats in the documentation: https://pandas.pydata.org/pandas-docs/stable/user_guide/indexing.html#returning-a-view-versus-a-copy\n",
      "\n"
     ]
    }
   ],
   "source": [
    "# Analysis of States with EV Penetration Trends (2022-2024)\n",
    "\n",
    "# Read the state-level EV sales data\n",
    "state_df = pd.read_csv('../../data/processed/ev_sales_by_state_enhanced_20250806.csv')\n",
    "\n",
    "# Convert date to datetime\n",
    "state_df['date'] = pd.to_datetime(state_df['date'])\n",
    "\n",
    "# Let's analyze year-over-year changes more thoroughly\n",
    "# First, create a pivot table with states and yearly penetration data\n",
    "\n",
    "# Add a year-month column for cleaner aggregation\n",
    "state_df['year_month'] = state_df['date'].dt.strftime('%Y-%m')\n",
    "\n",
    "# Create pivot with mean penetration rates by state and year\n",
    "state_pivot = pd.pivot_table(\n",
    "    state_df, \n",
    "    values='ev_penetration_rate', \n",
    "    index='state',\n",
    "    columns=state_df['date'].dt.year,\n",
    "    aggfunc='mean'\n",
    ").fillna(0)\n",
    "\n",
    "# Calculate year-over-year changes\n",
    "# Check if we have data for all three years\n",
    "years = sorted(state_df['date'].dt.year.unique())\n",
    "print(f\"Years in dataset: {years}\")\n",
    "\n",
    "if len(years) >= 3 and 2022 in years and 2023 in years and 2024 in years:\n",
    "    # For 2022-2023\n",
    "    state_pivot['change_2022_2023'] = state_pivot[2023] - state_pivot[2022]\n",
    "    state_pivot['pct_change_2022_2023'] = (state_pivot['change_2022_2023'] / state_pivot[2022]) * 100\n",
    "    \n",
    "    # For 2023-2024\n",
    "    state_pivot['change_2023_2024'] = state_pivot[2024] - state_pivot[2023]\n",
    "    state_pivot['pct_change_2023_2024'] = (state_pivot['change_2023_2024'] / state_pivot[2023]) * 100\n",
    "    \n",
    "    # For 2022-2024 (overall)\n",
    "    state_pivot['change_2022_2024'] = state_pivot[2024] - state_pivot[2022]\n",
    "    state_pivot['pct_change_2022_2024'] = (state_pivot['change_2022_2024'] / state_pivot[2022]) * 100\n",
    "    \n",
    "    # Find states with any period of decline\n",
    "    states_with_decline_22_23 = state_pivot[state_pivot['change_2022_2023'] < 0]\n",
    "    states_with_decline_23_24 = state_pivot[state_pivot['change_2023_2024'] < 0]\n",
    "    states_with_decline_22_24 = state_pivot[state_pivot['change_2022_2024'] < 0]\n",
    "    \n",
    "    # Display findings\n",
    "    print(f\"\\nNumber of states with declining penetration from 2022 to 2023: {len(states_with_decline_22_23)}\")\n",
    "    if len(states_with_decline_22_23) > 0:\n",
    "        print(\"States with declining penetration from 2022 to 2023:\")\n",
    "        print(\"=\" * 70)\n",
    "        display(states_with_decline_22_23[[2022, 2023, 'change_2022_2023', 'pct_change_2022_2023']].sort_values('change_2022_2023'))\n",
    "    \n",
    "    print(f\"\\nNumber of states with declining penetration from 2023 to 2024: {len(states_with_decline_23_24)}\")\n",
    "    if len(states_with_decline_23_24) > 0:\n",
    "        print(\"States with declining penetration from 2023 to 2024:\")\n",
    "        print(\"=\" * 70)\n",
    "        display(states_with_decline_23_24[[2023, 2024, 'change_2023_2024', 'pct_change_2023_2024']].sort_values('change_2023_2024'))\n",
    "    \n",
    "    print(f\"\\nNumber of states with overall declining penetration from 2022 to 2024: {len(states_with_decline_22_24)}\")\n",
    "    if len(states_with_decline_22_24) > 0:\n",
    "        print(\"States with overall declining penetration from 2022 to 2024:\")\n",
    "        print(\"=\" * 70)\n",
    "        display(states_with_decline_22_24[[2022, 2024, 'change_2022_2024', 'pct_change_2022_2024']].sort_values('change_2022_2024'))\n",
    "        \n",
    "        # Visualize the states with overall decline\n",
    "        plt.figure(figsize=(12, 8))\n",
    "        states_for_plot = states_with_decline_22_24.reset_index()\n",
    "        \n",
    "        # Create bar plot\n",
    "        sns.barplot(\n",
    "            data=states_for_plot, \n",
    "            x='state', \n",
    "            y='change_2022_2024', \n",
    "            palette='coolwarm_r'\n",
    "        )\n",
    "        plt.title('States with Declining EV Penetration (2022-2024)', fontsize=16)\n",
    "        plt.xlabel('State', fontsize=12)\n",
    "        plt.ylabel('Change in EV Penetration Rate', fontsize=12)\n",
    "        plt.xticks(rotation=45, ha='right')\n",
    "        plt.tight_layout()\n",
    "        plt.show()\n",
    "        \n",
    "        # Create a line plot showing the trend across years\n",
    "        melted_data = states_for_plot.melt(\n",
    "            id_vars='state',\n",
    "            value_vars=[2022, 2023, 2024],\n",
    "            var_name='Year',\n",
    "            value_name='EV Penetration Rate'\n",
    "        )\n",
    "        \n",
    "        plt.figure(figsize=(14, 8))\n",
    "        sns.lineplot(\n",
    "            data=melted_data,\n",
    "            x='Year',\n",
    "            y='EV Penetration Rate',\n",
    "            hue='state',\n",
    "            marker='o',\n",
    "            linewidth=2.5\n",
    "        )\n",
    "        plt.title('EV Penetration Rate Trends for States with Overall Decline (2022-2024)', fontsize=16)\n",
    "        plt.xticks(rotation=0)\n",
    "        plt.legend(title='State', bbox_to_anchor=(1.05, 1), loc='upper left')\n",
    "        plt.tight_layout()\n",
    "        plt.grid(True, linestyle='--', alpha=0.7)\n",
    "        plt.show()\n",
    "else:\n",
    "    print(\"Insufficient data for all three years (2022, 2023, 2024). Check the data range.\")\n",
    "    \n",
    "    # Show the available years instead\n",
    "    for year in sorted(state_df['date'].dt.year.unique()):\n",
    "        year_data = state_df[state_df['date'].dt.year == year]\n",
    "        print(f\"\\nYear {year} - Date range: {year_data['date'].min().strftime('%Y-%m-%d')} to {year_data['date'].max().strftime('%Y-%m-%d')}\")\n",
    "        print(f\"Number of records: {len(year_data)}\")\n",
    "\n",
    "# Let's also check month-to-month variations for possible decline patterns\n",
    "print(\"\\nAnalyzing monthly trends to identify any periods of decline...\")\n",
    "\n",
    "# Group by state and month, and calculate mean penetration rate\n",
    "monthly_trends = state_df.groupby(['state', pd.Grouper(key='date', freq='M')])['ev_penetration_rate'].mean().reset_index()\n",
    "monthly_trends['year_month'] = monthly_trends['date'].dt.strftime('%Y-%m')\n",
    "\n",
    "# Sort by state and date\n",
    "monthly_trends = monthly_trends.sort_values(['state', 'date'])\n",
    "\n",
    "# Calculate month-over-month change\n",
    "monthly_trends['mom_change'] = monthly_trends.groupby('state')['ev_penetration_rate'].diff()\n",
    "\n",
    "# Find instances of decline\n",
    "monthly_declines = monthly_trends[monthly_trends['mom_change'] < 0]\n",
    "\n",
    "# Count how many months of decline each state experienced\n",
    "decline_counts = monthly_declines.groupby('state').size().reset_index(name='months_of_decline')\n",
    "decline_counts = decline_counts.sort_values('months_of_decline', ascending=False)\n",
    "\n",
    "# Display states with the most months of decline\n",
    "print(\"\\nStates with the Most Frequent Monthly Declines in EV Penetration:\")\n",
    "print(\"=\" * 70)\n",
    "print(decline_counts.head(10).to_string(index=False))\n",
    "\n",
    "# Calculate average magnitude of decline\n",
    "monthly_declines['abs_mom_change'] = monthly_declines['mom_change'].abs()\n",
    "avg_decline_magnitude = monthly_declines.groupby('state')['abs_mom_change'].mean().reset_index()\n",
    "avg_decline_magnitude = avg_decline_magnitude.sort_values('abs_mom_change', ascending=False)\n",
    "\n",
    "print(\"\\nStates with the Largest Average Monthly Declines in EV Penetration:\")\n",
    "print(\"=\" * 70)\n",
    "print(avg_decline_magnitude.head(10).to_string(index=False))"
   ]
  },
  {
   "cell_type": "code",
   "execution_count": 7,
   "id": "47d6a80b",
   "metadata": {},
   "outputs": [
    {
     "name": "stdout",
     "output_type": "stream",
     "text": [
      "Years in dataset: [np.int32(2021), np.int32(2022), np.int32(2023), np.int32(2024)]\n",
      "\n",
      "Number of states with declining penetration from 2022 to 2023: 4\n",
      "States with declining penetration from 2022 to 2023:\n",
      "======================================================================\n"
     ]
    },
    {
     "data": {
      "text/html": [
       "<div>\n",
       "<style scoped>\n",
       "    .dataframe tbody tr th:only-of-type {\n",
       "        vertical-align: middle;\n",
       "    }\n",
       "\n",
       "    .dataframe tbody tr th {\n",
       "        vertical-align: top;\n",
       "    }\n",
       "\n",
       "    .dataframe thead th {\n",
       "        text-align: right;\n",
       "    }\n",
       "</style>\n",
       "<table border=\"1\" class=\"dataframe\">\n",
       "  <thead>\n",
       "    <tr style=\"text-align: right;\">\n",
       "      <th>date</th>\n",
       "      <th>2022</th>\n",
       "      <th>2023</th>\n",
       "      <th>change_2022_2023</th>\n",
       "      <th>pct_change_2022_2023</th>\n",
       "    </tr>\n",
       "    <tr>\n",
       "      <th>state</th>\n",
       "      <th></th>\n",
       "      <th></th>\n",
       "      <th></th>\n",
       "      <th></th>\n",
       "    </tr>\n",
       "  </thead>\n",
       "  <tbody>\n",
       "    <tr>\n",
       "      <th>Ladakh</th>\n",
       "      <td>0.015029</td>\n",
       "      <td>0.006463</td>\n",
       "      <td>-0.008566</td>\n",
       "      <td>-56.994417</td>\n",
       "    </tr>\n",
       "    <tr>\n",
       "      <th>Haryana</th>\n",
       "      <td>0.016633</td>\n",
       "      <td>0.013832</td>\n",
       "      <td>-0.002801</td>\n",
       "      <td>-16.839226</td>\n",
       "    </tr>\n",
       "    <tr>\n",
       "      <th>Jammu and Kashmir</th>\n",
       "      <td>0.013786</td>\n",
       "      <td>0.012621</td>\n",
       "      <td>-0.001165</td>\n",
       "      <td>-8.450534</td>\n",
       "    </tr>\n",
       "    <tr>\n",
       "      <th>Uttarakhand</th>\n",
       "      <td>0.021635</td>\n",
       "      <td>0.020961</td>\n",
       "      <td>-0.000674</td>\n",
       "      <td>-3.114786</td>\n",
       "    </tr>\n",
       "  </tbody>\n",
       "</table>\n",
       "</div>"
      ],
      "text/plain": [
       "date                   2022      2023  change_2022_2023  pct_change_2022_2023\n",
       "state                                                                        \n",
       "Ladakh             0.015029  0.006463         -0.008566            -56.994417\n",
       "Haryana            0.016633  0.013832         -0.002801            -16.839226\n",
       "Jammu and Kashmir  0.013786  0.012621         -0.001165             -8.450534\n",
       "Uttarakhand        0.021635  0.020961         -0.000674             -3.114786"
      ]
     },
     "metadata": {},
     "output_type": "display_data"
    },
    {
     "name": "stdout",
     "output_type": "stream",
     "text": [
      "\n",
      "Number of states with declining penetration from 2023 to 2024: 0\n",
      "\n",
      "Number of states with overall declining penetration from 2022 to 2024: 0\n",
      "\n",
      "Analyzing monthly trends to identify any periods of decline...\n",
      "\n",
      "States with the Most Frequent Monthly Declines in EV Penetration:\n",
      "======================================================================\n",
      "                                   state  months_of_decline\n",
      "                                   Delhi                 17\n",
      "                               Meghalaya                 17\n",
      "                                 Tripura                 16\n",
      "                               Jharkhand                 16\n",
      "Dadra and Nagar Haveli and Daman and Diu                 16\n",
      "                       Jammu and Kashmir                 15\n",
      "                                 Manipur                 15\n",
      "                                   Assam                 15\n",
      "             Andaman and Nicobar Islands                 14\n",
      "                          Madhya Pradesh                 14\n",
      "\n",
      "States with the Largest Average Monthly Declines in EV Penetration:\n",
      "======================================================================\n",
      "                      state  abs_mom_change\n",
      "                     Kerala        0.255147\n",
      "                     Ladakh        0.066797\n",
      "                 Chandigarh        0.029118\n",
      "                        Goa        0.020651\n",
      "                      Delhi        0.016272\n",
      "                Maharashtra        0.010416\n",
      "                  Karnataka        0.009659\n",
      "                 Puducherry        0.008955\n",
      "Andaman and Nicobar Islands        0.008131\n",
      "                 Tamil Nadu        0.006984\n"
     ]
    },
    {
     "name": "stderr",
     "output_type": "stream",
     "text": [
      "/tmp/ipykernel_426228/900775178.py:120: FutureWarning:\n",
      "\n",
      "'M' is deprecated and will be removed in a future version, please use 'ME' instead.\n",
      "\n",
      "/tmp/ipykernel_426228/900775178.py:142: SettingWithCopyWarning:\n",
      "\n",
      "\n",
      "A value is trying to be set on a copy of a slice from a DataFrame.\n",
      "Try using .loc[row_indexer,col_indexer] = value instead\n",
      "\n",
      "See the caveats in the documentation: https://pandas.pydata.org/pandas-docs/stable/user_guide/indexing.html#returning-a-view-versus-a-copy\n",
      "\n"
     ]
    }
   ],
   "source": [
    "# Analysis of States with EV Penetration Trends (2022-2024)\n",
    "\n",
    "# Read the state-level EV sales data\n",
    "state_df = pd.read_csv('../../data/processed/ev_sales_by_state_enhanced_20250806.csv')\n",
    "\n",
    "# Convert date to datetime\n",
    "state_df['date'] = pd.to_datetime(state_df['date'])\n",
    "\n",
    "# Let's analyze year-over-year changes more thoroughly\n",
    "# First, create a pivot table with states and yearly penetration data\n",
    "\n",
    "# Add a year-month column for cleaner aggregation\n",
    "state_df['year_month'] = state_df['date'].dt.strftime('%Y-%m')\n",
    "\n",
    "# Create pivot with mean penetration rates by state and year\n",
    "state_pivot = pd.pivot_table(\n",
    "    state_df, \n",
    "    values='ev_penetration_rate', \n",
    "    index='state',\n",
    "    columns=state_df['date'].dt.year,\n",
    "    aggfunc='mean'\n",
    ").fillna(0)\n",
    "\n",
    "# Calculate year-over-year changes\n",
    "# Check if we have data for all three years\n",
    "years = sorted(state_df['date'].dt.year.unique())\n",
    "print(f\"Years in dataset: {years}\")\n",
    "\n",
    "if len(years) >= 3 and 2022 in years and 2023 in years and 2024 in years:\n",
    "    # For 2022-2023\n",
    "    state_pivot['change_2022_2023'] = state_pivot[2023] - state_pivot[2022]\n",
    "    state_pivot['pct_change_2022_2023'] = (state_pivot['change_2022_2023'] / state_pivot[2022]) * 100\n",
    "    \n",
    "    # For 2023-2024\n",
    "    state_pivot['change_2023_2024'] = state_pivot[2024] - state_pivot[2023]\n",
    "    state_pivot['pct_change_2023_2024'] = (state_pivot['change_2023_2024'] / state_pivot[2023]) * 100\n",
    "    \n",
    "    # For 2022-2024 (overall)\n",
    "    state_pivot['change_2022_2024'] = state_pivot[2024] - state_pivot[2022]\n",
    "    state_pivot['pct_change_2022_2024'] = (state_pivot['change_2022_2024'] / state_pivot[2022]) * 100\n",
    "    \n",
    "    # Find states with any period of decline\n",
    "    states_with_decline_22_23 = state_pivot[state_pivot['change_2022_2023'] < 0]\n",
    "    states_with_decline_23_24 = state_pivot[state_pivot['change_2023_2024'] < 0]\n",
    "    states_with_decline_22_24 = state_pivot[state_pivot['change_2022_2024'] < 0]\n",
    "    \n",
    "    # Display findings\n",
    "    print(f\"\\nNumber of states with declining penetration from 2022 to 2023: {len(states_with_decline_22_23)}\")\n",
    "    if len(states_with_decline_22_23) > 0:\n",
    "        print(\"States with declining penetration from 2022 to 2023:\")\n",
    "        print(\"=\" * 70)\n",
    "        display(states_with_decline_22_23[[2022, 2023, 'change_2022_2023', 'pct_change_2022_2023']].sort_values('change_2022_2023'))\n",
    "    \n",
    "    print(f\"\\nNumber of states with declining penetration from 2023 to 2024: {len(states_with_decline_23_24)}\")\n",
    "    if len(states_with_decline_23_24) > 0:\n",
    "        print(\"States with declining penetration from 2023 to 2024:\")\n",
    "        print(\"=\" * 70)\n",
    "        display(states_with_decline_23_24[[2023, 2024, 'change_2023_2024', 'pct_change_2023_2024']].sort_values('change_2023_2024'))\n",
    "    \n",
    "    print(f\"\\nNumber of states with overall declining penetration from 2022 to 2024: {len(states_with_decline_22_24)}\")\n",
    "    if len(states_with_decline_22_24) > 0:\n",
    "        print(\"States with overall declining penetration from 2022 to 2024:\")\n",
    "        print(\"=\" * 70)\n",
    "        display(states_with_decline_22_24[[2022, 2024, 'change_2022_2024', 'pct_change_2022_2024']].sort_values('change_2022_2024'))\n",
    "        \n",
    "        # Visualize the states with overall decline\n",
    "        plt.figure(figsize=(12, 8))\n",
    "        states_for_plot = states_with_decline_22_24.reset_index()\n",
    "        \n",
    "        # Create bar plot\n",
    "        sns.barplot(\n",
    "            data=states_for_plot, \n",
    "            x='state', \n",
    "            y='change_2022_2024', \n",
    "            palette='coolwarm_r'\n",
    "        )\n",
    "        plt.title('States with Declining EV Penetration (2022-2024)', fontsize=16)\n",
    "        plt.xlabel('State', fontsize=12)\n",
    "        plt.ylabel('Change in EV Penetration Rate', fontsize=12)\n",
    "        plt.xticks(rotation=45, ha='right')\n",
    "        plt.tight_layout()\n",
    "        plt.show()\n",
    "        \n",
    "        # Create a line plot showing the trend across years\n",
    "        melted_data = states_for_plot.melt(\n",
    "            id_vars='state',\n",
    "            value_vars=[2022, 2023, 2024],\n",
    "            var_name='Year',\n",
    "            value_name='EV Penetration Rate'\n",
    "        )\n",
    "        \n",
    "        plt.figure(figsize=(14, 8))\n",
    "        sns.lineplot(\n",
    "            data=melted_data,\n",
    "            x='Year',\n",
    "            y='EV Penetration Rate',\n",
    "            hue='state',\n",
    "            marker='o',\n",
    "            linewidth=2.5\n",
    "        )\n",
    "        plt.title('EV Penetration Rate Trends for States with Overall Decline (2022-2024)', fontsize=16)\n",
    "        plt.xticks(rotation=0)\n",
    "        plt.legend(title='State', bbox_to_anchor=(1.05, 1), loc='upper left')\n",
    "        plt.tight_layout()\n",
    "        plt.grid(True, linestyle='--', alpha=0.7)\n",
    "        plt.show()\n",
    "else:\n",
    "    print(\"Insufficient data for all three years (2022, 2023, 2024). Check the data range.\")\n",
    "    \n",
    "    # Show the available years instead\n",
    "    for year in sorted(state_df['date'].dt.year.unique()):\n",
    "        year_data = state_df[state_df['date'].dt.year == year]\n",
    "        print(f\"\\nYear {year} - Date range: {year_data['date'].min().strftime('%Y-%m-%d')} to {year_data['date'].max().strftime('%Y-%m-%d')}\")\n",
    "        print(f\"Number of records: {len(year_data)}\")\n",
    "\n",
    "# Let's also check month-to-month variations for possible decline patterns\n",
    "print(\"\\nAnalyzing monthly trends to identify any periods of decline...\")\n",
    "\n",
    "# Group by state and month, and calculate mean penetration rate\n",
    "monthly_trends = state_df.groupby(['state', pd.Grouper(key='date', freq='M')])['ev_penetration_rate'].mean().reset_index()\n",
    "monthly_trends['year_month'] = monthly_trends['date'].dt.strftime('%Y-%m')\n",
    "\n",
    "# Sort by state and date\n",
    "monthly_trends = monthly_trends.sort_values(['state', 'date'])\n",
    "\n",
    "# Calculate month-over-month change\n",
    "monthly_trends['mom_change'] = monthly_trends.groupby('state')['ev_penetration_rate'].diff()\n",
    "\n",
    "# Find instances of decline\n",
    "monthly_declines = monthly_trends[monthly_trends['mom_change'] < 0]\n",
    "\n",
    "# Count how many months of decline each state experienced\n",
    "decline_counts = monthly_declines.groupby('state').size().reset_index(name='months_of_decline')\n",
    "decline_counts = decline_counts.sort_values('months_of_decline', ascending=False)\n",
    "\n",
    "# Display states with the most months of decline\n",
    "print(\"\\nStates with the Most Frequent Monthly Declines in EV Penetration:\")\n",
    "print(\"=\" * 70)\n",
    "print(decline_counts.head(10).to_string(index=False))\n",
    "\n",
    "# Calculate average magnitude of decline\n",
    "monthly_declines['abs_mom_change'] = monthly_declines['mom_change'].abs()\n",
    "avg_decline_magnitude = monthly_declines.groupby('state')['abs_mom_change'].mean().reset_index()\n",
    "avg_decline_magnitude = avg_decline_magnitude.sort_values('abs_mom_change', ascending=False)\n",
    "\n",
    "print(\"\\nStates with the Largest Average Monthly Declines in EV Penetration:\")\n",
    "print(\"=\" * 70)\n",
    "print(avg_decline_magnitude.head(10).to_string(index=False))"
   ]
  },
  {
   "cell_type": "markdown",
   "id": "7377c327",
   "metadata": {},
   "source": [
    "# States with Declining EV Penetration Analysis\n",
    "\n",
    "Based on the analysis of EV penetration trends from 2022 to 2024, we've identified several key insights:\n",
    "\n",
    "## States with Declining Penetration from 2022 to 2023\n",
    "\n",
    "Four states showed a decline in EV penetration rate from 2022 to 2023:\n",
    "- **Ladakh**: Highest decline of -56.99% (penetration dropped from 0.015 to 0.006)\n",
    "- **Haryana**: Decline of -16.84% (penetration dropped from 0.017 to 0.014)\n",
    "- **Jammu and Kashmir**: Decline of -8.45% (penetration dropped from 0.014 to 0.013)\n",
    "- **Uttarakhand**: Slight decline of -3.11% (penetration dropped from 0.022 to 0.021)\n",
    "\n",
    "## Overall Market Trend Analysis\n",
    "\n",
    "The analysis reveals that while there were some year-over-year declines for specific states between 2022 and 2023, **no state showed an overall decline from 2022 to 2024**. This suggests that:\n",
    "\n",
    "1. EV adoption experienced temporary setbacks in some regions but recovered in subsequent periods\n",
    "2. The overall EV market in India has been growing steadily across states\n",
    "3. States like Ladakh that experienced significant declines in 2022-2023 likely recovered in the 2023-2024 period\n",
    "\n",
    "## Implications\n",
    "\n",
    "The temporary declines in specific states could be attributed to various factors:\n",
    "- Regional policy changes\n",
    "- Supply chain disruptions affecting specific markets\n",
    "- Temporary economic factors in these regions\n",
    "- Market saturation after initial adoption waves\n",
    "\n",
    "Despite these temporary setbacks in certain states, the overall trend across India remains positive for EV adoption from 2022 to 2024."
   ]
  },
  {
   "cell_type": "code",
   "execution_count": 8,
   "id": "e3528dee",
   "metadata": {},
   "outputs": [
    {
     "data": {
      "image/png": "[encoded data removed]",
      "text/plain": [
       "<Figure size 1600x900 with 1 Axes>"
      ]
     },
     "metadata": {},
     "output_type": "display_data"
    },
    {
     "data": {
      "image/png": "[encoded data removed]",
      "text/plain": [
       "<Figure size 1400x800 with 1 Axes>"
      ]
     },
     "metadata": {},
     "output_type": "display_data"
    },
    {
     "data": {
      "image/png": "[encoded data removed]",
      "text/plain": [
       "<Figure size 1800x800 with 2 Axes>"
      ]
     },
     "metadata": {},
     "output_type": "display_data"
    }
   ],
   "source": [
    "# Visualization of EV Penetration Trends for States with Declines\n",
    "\n",
    "# Create a focused dataset for the states that experienced declines from 2022 to 2023\n",
    "declining_states_22_23 = ['Ladakh', 'Haryana', 'Jammu and Kashmir', 'Uttarakhand']\n",
    "\n",
    "# Filter the state data for these states\n",
    "declining_df = state_df[state_df['state'].isin(declining_states_22_23)]\n",
    "\n",
    "# Calculate monthly averages for cleaner visualization\n",
    "monthly_avg = declining_df.groupby(['state', pd.Grouper(key='date', freq='ME')])['ev_penetration_rate'].mean().reset_index()\n",
    "\n",
    "# Create a line plot showing the trend across time\n",
    "plt.figure(figsize=(16, 9))\n",
    "sns.lineplot(\n",
    "    data=monthly_avg,\n",
    "    x='date',\n",
    "    y='ev_penetration_rate',\n",
    "    hue='state',\n",
    "    marker='o',\n",
    "    linewidth=2.5,\n",
    "    markersize=8\n",
    ")\n",
    "\n",
    "# Add title and labels\n",
    "plt.title('EV Penetration Rate Trends for States with Declines (2022-2023)', fontsize=18)\n",
    "plt.xlabel('Date', fontsize=14)\n",
    "plt.ylabel('EV Penetration Rate', fontsize=14)\n",
    "plt.xticks(rotation=45)\n",
    "plt.legend(title='State', fontsize=12, title_fontsize=14)\n",
    "plt.grid(True, linestyle='--', alpha=0.7)\n",
    "\n",
    "# Add vertical lines marking the years\n",
    "for year in [2022, 2023, 2024]:\n",
    "    plt.axvline(x=pd.to_datetime(f'{year}-01-01'), color='red', linestyle='--', alpha=0.5)\n",
    "    plt.text(pd.to_datetime(f'{year}-01-01'), plt.ylim()[1]*0.95, f' {year}', color='red', fontsize=12)\n",
    "\n",
    "plt.tight_layout()\n",
    "plt.show()\n",
    "\n",
    "# Create a comparative bar chart showing 2022 vs 2023 values\n",
    "# Create a dataframe with yearly averages for the declining states\n",
    "yearly_avg = declining_df.groupby(['state', declining_df['date'].dt.year])['ev_penetration_rate'].mean().reset_index()\n",
    "yearly_avg.columns = ['state', 'year', 'ev_penetration_rate']\n",
    "\n",
    "# Filter for 2022 and 2023\n",
    "yearly_22_23 = yearly_avg[yearly_avg['year'].isin([2022, 2023])]\n",
    "\n",
    "# Create a bar chart\n",
    "plt.figure(figsize=(14, 8))\n",
    "chart = sns.barplot(\n",
    "    data=yearly_22_23,\n",
    "    x='state',\n",
    "    y='ev_penetration_rate',\n",
    "    hue='year',\n",
    "    palette=['#2ecc71', '#e74c3c']  # Green for 2022, Red for 2023\n",
    ")\n",
    "\n",
    "# Add value labels on top of each bar\n",
    "for i, p in enumerate(chart.patches):\n",
    "    chart.annotate(\n",
    "        format(p.get_height(), '.4f'),\n",
    "        (p.get_x() + p.get_width() / 2., p.get_height()),\n",
    "        ha = 'center',\n",
    "        va = 'center',\n",
    "        xytext = (0, 9),\n",
    "        textcoords = 'offset points'\n",
    "    )\n",
    "\n",
    "# Add title and labels\n",
    "plt.title('Comparison of EV Penetration Rates (2022 vs 2023)', fontsize=18)\n",
    "plt.xlabel('State', fontsize=14)\n",
    "plt.ylabel('EV Penetration Rate', fontsize=14)\n",
    "plt.legend(title='Year', fontsize=12)\n",
    "plt.grid(True, axis='y', linestyle='--', alpha=0.7)\n",
    "plt.tight_layout()\n",
    "plt.show()\n",
    "\n",
    "# Create a heatmap showing monthly changes in penetration rates\n",
    "# First, pivot the data to create a matrix of states and months\n",
    "monthly_pivot = monthly_avg.pivot_table(\n",
    "    index='state',\n",
    "    columns=monthly_avg['date'].dt.strftime('%Y-%m'),\n",
    "    values='ev_penetration_rate'\n",
    ")\n",
    "\n",
    "# Calculate month-to-month changes\n",
    "monthly_changes = monthly_pivot.diff(axis=1)\n",
    "\n",
    "# Create a heatmap\n",
    "plt.figure(figsize=(18, 8))\n",
    "sns.heatmap(\n",
    "    monthly_changes,\n",
    "    cmap='RdYlGn',  # Red for negative, Yellow for neutral, Green for positive\n",
    "    center=0,\n",
    "    annot=True,\n",
    "    fmt='.4f',\n",
    "    linewidths=.5,\n",
    "    cbar_kws={'label': 'Month-to-Month Change in EV Penetration Rate'}\n",
    ")\n",
    "plt.title('Monthly Changes in EV Penetration Rates for States with Declines', fontsize=18)\n",
    "plt.xticks(rotation=90)\n",
    "plt.tight_layout()\n",
    "plt.show()"
   ]
  },
  {
   "cell_type": "code",
   "execution_count": 9,
   "id": "a446a616",
   "metadata": {},
   "outputs": [
    {
     "data": {
      "application/vnd.plotly.v1+json": {
       "config": {
        "plotlyServerURL": "https://plot.ly"
       },
       "data": [
        {
         "hovertemplate": "State=Haryana<br>Date=%{x}<br>EV Penetration Rate=%{y}<extra></extra>",
         "legendgroup": "Haryana",
         "line": {
          "color": "#636efa",
          "dash": "solid"
         },
         "marker": {
          "symbol": "circle"
         },
         "mode": "lines+markers",
         "name": "Haryana",
         "orientation": "v",
         "showlegend": true,
         "type": "scatter",
         "x": [
          "2021-04-30T00:00:00.000000000",
          "2021-05-31T00:00:00.000000000",
          "2021-06-30T00:00:00.000000000",
          "2021-07-31T00:00:00.000000000",
          "2021-08-31T00:00:00.000000000",
          "2021-09-30T00:00:00.000000000",
          "2021-10-31T00:00:00.000000000",
          "2021-11-30T00:00:00.000000000",
          "2021-12-31T00:00:00.000000000",
          "2022-01-31T00:00:00.000000000",
          "2022-02-28T00:00:00.000000000",
          "2022-03-31T00:00:00.000000000",
          "2022-04-30T00:00:00.000000000",
          "2022-05-31T00:00:00.000000000",
          "2022-06-30T00:00:00.000000000",
          "2022-07-31T00:00:00.000000000",
          "2022-08-31T00:00:00.000000000",
          "2022-09-30T00:00:00.000000000",
          "2022-10-31T00:00:00.000000000",
          "2022-11-30T00:00:00.000000000",
          "2022-12-31T00:00:00.000000000",
          "2023-01-31T00:00:00.000000000",
          "2023-02-28T00:00:00.000000000",
          "2023-03-31T00:00:00.000000000",
          "2023-04-30T00:00:00.000000000",
          "2023-05-31T00:00:00.000000000",
          "2023-06-30T00:00:00.000000000",
          "2023-07-31T00:00:00.000000000",
          "2023-08-31T00:00:00.000000000",
          "2023-09-30T00:00:00.000000000",
          "2023-10-31T00:00:00.000000000",
          "2023-11-30T00:00:00.000000000",
          "2023-12-31T00:00:00.000000000",
          "2024-01-31T00:00:00.000000000",
          "2024-02-29T00:00:00.000000000",
          "2024-03-31T00:00:00.000000000"
         ],
         "xaxis": "x",
         "y": {
          "bdata": "823apAk2XD8L1AUSVelUP5BZP6ZFaVU/glMHat4daD9Bwg5YTSZ+P9M4h4OFMYY/OrJtyjLvgz8zrqDu3B6FP5AyX4cVkIE/2oH5DPUUhz+7Y3ynO8OMP5Nb6hUxrpE/HCwcd7WxlD8TaCbQPrWTP1Tll+1xBJE/xQF8y9+Yjz9Yze3Yr42SP6twiuD5lJI/5IMF278zkj92BTA6TGaOP4rDrVOOCJE//jOqIAnYjT9idrqDnwyQPwXbOqrtWpY/u4vWDrt/lD9WFZbhuMOUPzOrwGBJSIk/mPiiaQDvgT8RspFMhaaCP2rbfpNwn3Y/HywaQL9Hiz8oE5IyyqmHP5v2l3hgpYo/J5khFOwRlD9P6YdtDZWUP32sj8FImpc/",
          "dtype": "f8"
         },
         "yaxis": "y"
        },
        {
         "hovertemplate": "State=Jammu and Kashmir<br>Date=%{x}<br>EV Penetration Rate=%{y}<extra></extra>",
         "legendgroup": "Jammu and Kashmir",
         "line": {
          "color": "#EF553B",
          "dash": "solid"
         },
         "marker": {
          "symbol": "circle"
         },
         "mode": "lines+markers",
         "name": "Jammu and Kashmir",
         "orientation": "v",
         "showlegend": true,
         "type": "scatter",
         "x": [
          "2021-04-30T00:00:00.000000000",
          "2021-05-31T00:00:00.000000000",
          "2021-06-30T00:00:00.000000000",
          "2021-07-31T00:00:00.000000000",
          "2021-08-31T00:00:00.000000000",
          "2021-09-30T00:00:00.000000000",
          "2021-10-31T00:00:00.000000000",
          "2021-11-30T00:00:00.000000000",
          "2021-12-31T00:00:00.000000000",
          "2022-01-31T00:00:00.000000000",
          "2022-02-28T00:00:00.000000000",
          "2022-03-31T00:00:00.000000000",
          "2022-04-30T00:00:00.000000000",
          "2022-05-31T00:00:00.000000000",
          "2022-06-30T00:00:00.000000000",
          "2022-07-31T00:00:00.000000000",
          "2022-08-31T00:00:00.000000000",
          "2022-09-30T00:00:00.000000000",
          "2022-10-31T00:00:00.000000000",
          "2022-11-30T00:00:00.000000000",
          "2022-12-31T00:00:00.000000000",
          "2023-01-31T00:00:00.000000000",
          "2023-02-28T00:00:00.000000000",
          "2023-03-31T00:00:00.000000000",
          "2023-04-30T00:00:00.000000000",
          "2023-05-31T00:00:00.000000000",
          "2023-06-30T00:00:00.000000000",
          "2023-07-31T00:00:00.000000000",
          "2023-08-31T00:00:00.000000000",
          "2023-09-30T00:00:00.000000000",
          "2023-10-31T00:00:00.000000000",
          "2023-11-30T00:00:00.000000000",
          "2023-12-31T00:00:00.000000000",
          "2024-01-31T00:00:00.000000000",
          "2024-02-29T00:00:00.000000000",
          "2024-03-31T00:00:00.000000000"
         ],
         "xaxis": "x",
         "y": {
          "bdata": "zJcA2Nw3Wj+sYBUo67iKP2ifvAYY/nQ/bH/NXuDDhD8PidCgagp5P0hyysL4IYY/knlD9d0tiD+dkt0kPDdwP9F3+S2Loos/JpNZ0sLahT+wm6SGEOuGP3ZuRr1G4pQ/iuObPx0ZgD9wofLWVZN7P4I3WzsgKIU/KalrtzmRkz83k0qUAyCFPwelLMxIAIw/Zub73oqQjj9MVVVVVVWVP0aSeQ4a3ZM/9WxDXxjmjj8LnZE8smGQPxWrj7DtQo0/0Jv4IQPIkT92RLtQn+WPPwD0NSNeoYk/0bGBpXBYgD9mCtdlw4t9P/UCwLqnzX8/HgEGBx4Nhz/8nP4qctiHPzpVHW7dPY4/xkTtia1xmT8XhzprhoSaP0oMAiuHFpk/",
          "dtype": "f8"
         },
         "yaxis": "y"
        },
        {
         "hovertemplate": "State=Ladakh<br>Date=%{x}<br>EV Penetration Rate=%{y}<extra></extra>",
         "legendgroup": "Ladakh",
         "line": {
          "color": "#00cc96",
          "dash": "solid"
         },
         "marker": {
          "symbol": "circle"
         },
         "mode": "lines+markers",
         "name": "Ladakh",
         "orientation": "v",
         "showlegend": true,
         "type": "scatter",
         "x": [
          "2021-04-30T00:00:00.000000000",
          "2021-05-31T00:00:00.000000000",
          "2021-06-30T00:00:00.000000000",
          "2021-07-31T00:00:00.000000000",
          "2021-08-31T00:00:00.000000000",
          "2021-09-30T00:00:00.000000000",
          "2021-10-31T00:00:00.000000000",
          "2021-11-30T00:00:00.000000000",
          "2021-12-31T00:00:00.000000000",
          "2022-01-31T00:00:00.000000000",
          "2022-02-28T00:00:00.000000000",
          "2022-03-31T00:00:00.000000000",
          "2022-04-30T00:00:00.000000000",
          "2022-05-31T00:00:00.000000000",
          "2022-06-30T00:00:00.000000000",
          "2022-07-31T00:00:00.000000000",
          "2022-08-31T00:00:00.000000000",
          "2022-09-30T00:00:00.000000000",
          "2022-10-31T00:00:00.000000000",
          "2022-11-30T00:00:00.000000000",
          "2022-12-31T00:00:00.000000000",
          "2023-01-31T00:00:00.000000000",
          "2023-02-28T00:00:00.000000000",
          "2023-03-31T00:00:00.000000000",
          "2023-04-30T00:00:00.000000000",
          "2023-05-31T00:00:00.000000000",
          "2023-06-30T00:00:00.000000000",
          "2023-07-31T00:00:00.000000000",
          "2023-08-31T00:00:00.000000000",
          "2023-09-30T00:00:00.000000000",
          "2023-10-31T00:00:00.000000000",
          "2023-11-30T00:00:00.000000000",
          "2023-12-31T00:00:00.000000000",
          "2024-01-31T00:00:00.000000000",
          "2024-02-29T00:00:00.000000000",
          "2024-03-31T00:00:00.000000000"
         ],
         "xaxis": "x",
         "y": {
          "bdata": "AAAAAAAAAAAAAAAAAAAAAAAAAAAAAAAAAAAAAAAAAAAAAAAAAAAAAAAAAAAAAAAAVVVVVVVVxT8AAAAAAAAAAAAAAAAAAAAAMzMzMzMzwz8AAAAAAAAAAAAAAAAAAAAAAAAAAAAAAAAAAAAAAAAAAKI217hdTIg/WcsBlm2+XD92HSX9TiGRPwAAAAAAAAAAAAAAAAAAAAAAAAAAAAAAAAAAAAAAAAAAmpmZmZmZmT8AAAAAAAAAAAAAAAAAAAAAAAAAAAAAAABiIQtZyEKmPws7sRM7sXM/9heBERiBcT8AAAAAAAAAAAAAAAAAAAAAAAAAAAAAAAAAAAAAAAAAAAAAAAAAAAAAdoMp8lk3yD8AAAAAAAAAAAAAAAAAAAAA",
          "dtype": "f8"
         },
         "yaxis": "y"
        },
        {
         "hovertemplate": "State=Uttarakhand<br>Date=%{x}<br>EV Penetration Rate=%{y}<extra></extra>",
         "legendgroup": "Uttarakhand",
         "line": {
          "color": "#ab63fa",
          "dash": "solid"
         },
         "marker": {
          "symbol": "circle"
         },
         "mode": "lines+markers",
         "name": "Uttarakhand",
         "orientation": "v",
         "showlegend": true,
         "type": "scatter",
         "x": [
          "2021-04-30T00:00:00.000000000",
          "2021-05-31T00:00:00.000000000",
          "2021-06-30T00:00:00.000000000",
          "2021-07-31T00:00:00.000000000",
          "2021-08-31T00:00:00.000000000",
          "2021-09-30T00:00:00.000000000",
          "2021-10-31T00:00:00.000000000",
          "2021-11-30T00:00:00.000000000",
          "2021-12-31T00:00:00.000000000",
          "2022-01-31T00:00:00.000000000",
          "2022-02-28T00:00:00.000000000",
          "2022-03-31T00:00:00.000000000",
          "2022-04-30T00:00:00.000000000",
          "2022-05-31T00:00:00.000000000",
          "2022-06-30T00:00:00.000000000",
          "2022-07-31T00:00:00.000000000",
          "2022-08-31T00:00:00.000000000",
          "2022-09-30T00:00:00.000000000",
          "2022-10-31T00:00:00.000000000",
          "2022-11-30T00:00:00.000000000",
          "2022-12-31T00:00:00.000000000",
          "2023-01-31T00:00:00.000000000",
          "2023-02-28T00:00:00.000000000",
          "2023-03-31T00:00:00.000000000",
          "2023-04-30T00:00:00.000000000",
          "2023-05-31T00:00:00.000000000",
          "2023-06-30T00:00:00.000000000",
          "2023-07-31T00:00:00.000000000",
          "2023-08-31T00:00:00.000000000",
          "2023-09-30T00:00:00.000000000",
          "2023-10-31T00:00:00.000000000",
          "2023-11-30T00:00:00.000000000",
          "2023-12-31T00:00:00.000000000",
          "2024-01-31T00:00:00.000000000",
          "2024-02-29T00:00:00.000000000",
          "2024-03-31T00:00:00.000000000"
         ],
         "xaxis": "x",
         "y": {
          "bdata": "Xt0oqjepcD9HI/TsS59QP7KVhpprKmk/6+55nP8Scj8R8t148iB4P0ihPCH0qYQ/7zjHYcUnfD/ufHOFc8t/PzScxvcwrYs/XErKSn9WiT/mvubITgiPPxAxqNuml5U/Zt1IuinTnT+suFeqDsiRP1q0RFElgpM/C453LTz4lD/L1imqObyYPwrNjclcCZo/qybX6rXZmT9kPfMa0TWUPzTmmK+FKJ8/dLQKOFFrkz8IeIrXXaSWP9pImk90VJw/Lu41kylAmj9nGhofxE6eP8/v0AuATJE/NBy1bCM+lj9JK9+saoyUP3Y7QAU+eow/oK/b3gPvkT/gmJzXQIeRP3coXzvp1JQ/cp5ybbVmlT+jN7dIlC+bP+RzqmKCIZ0/",
          "dtype": "f8"
         },
         "yaxis": "y"
        }
       ],
       "layout": {
        "annotations": [
         {
          "font": {
           "color": "red"
          },
          "showarrow": false,
          "text": "2022",
          "x": "2022-01-01T00:00:00",
          "xanchor": "left",
          "y": 0.1891891891891892,
          "yanchor": "top"
         },
         {
          "font": {
           "color": "red"
          },
          "showarrow": false,
          "text": "2023",
          "x": "2023-01-01T00:00:00",
          "xanchor": "left",
          "y": 0.1891891891891892,
          "yanchor": "top"
         },
         {
          "font": {
           "color": "red"
          },
          "showarrow": false,
          "text": "2024",
          "x": "2024-01-01T00:00:00",
          "xanchor": "left",
          "y": 0.1891891891891892,
          "yanchor": "top"
         }
        ],
        "height": 600,
        "legend": {
         "title": {
          "text": "State"
         },
         "tracegroupgap": 0
        },
        "shapes": [
         {
          "line": {
           "color": "red",
           "dash": "dash"
          },
          "opacity": 0.5,
          "type": "line",
          "x0": "2022-01-01T00:00:00",
          "x1": "2022-01-01T00:00:00",
          "xref": "x",
          "y0": 0,
          "y1": 1,
          "yref": "y domain"
         },
         {
          "line": {
           "color": "red",
           "dash": "dash"
          },
          "opacity": 0.5,
          "type": "line",
          "x0": "2023-01-01T00:00:00",
          "x1": "2023-01-01T00:00:00",
          "xref": "x",
          "y0": 0,
          "y1": 1,
          "yref": "y domain"
         },
         {
          "line": {
           "color": "red",
           "dash": "dash"
          },
          "opacity": 0.5,
          "type": "line",
          "x0": "2024-01-01T00:00:00",
          "x1": "2024-01-01T00:00:00",
          "xref": "x",
          "y0": 0,
          "y1": 1,
          "yref": "y domain"
         }
        ],
        "template": {
         "data": {
          "bar": [
           {
            "error_x": {
             "color": "#2a3f5f"
            },
            "error_y": {
             "color": "#2a3f5f"
            },
            "marker": {
             "line": {
              "color": "white",
              "width": 0.5
             },
             "pattern": {
              "fillmode": "overlay",
              "size": 10,
              "solidity": 0.2
             }
            },
            "type": "bar"
           }
          ],
          "barpolar": [
           {
            "marker": {
             "line": {
              "color": "white",
              "width": 0.5
             },
             "pattern": {
              "fillmode": "overlay",
              "size": 10,
              "solidity": 0.2
             }
            },
            "type": "barpolar"
           }
          ],
          "carpet": [
           {
            "aaxis": {
             "endlinecolor": "#2a3f5f",
             "gridcolor": "#C8D4E3",
             "linecolor": "#C8D4E3",
             "minorgridcolor": "#C8D4E3",
             "startlinecolor": "#2a3f5f"
            },
            "baxis": {
             "endlinecolor": "#2a3f5f",
             "gridcolor": "#C8D4E3",
             "linecolor": "#C8D4E3",
             "minorgridcolor": "#C8D4E3",
             "startlinecolor": "#2a3f5f"
            },
            "type": "carpet"
           }
          ],
          "choropleth": [
           {
            "colorbar": {
             "outlinewidth": 0,
             "ticks": ""
            },
            "type": "choropleth"
           }
          ],
          "contour": [
           {
            "colorbar": {
             "outlinewidth": 0,
             "ticks": ""
            },
            "colorscale": [
             [
              0,
              "#0d0887"
             ],
             [
              0.1111111111111111,
              "#46039f"
             ],
             [
              0.2222222222222222,
              "#7201a8"
             ],
             [
              0.3333333333333333,
              "#9c179e"
             ],
             [
              0.4444444444444444,
              "#bd3786"
             ],
             [
              0.5555555555555556,
              "#d8576b"
             ],
             [
              0.6666666666666666,
              "#ed7953"
             ],
             [
              0.7777777777777778,
              "#fb9f3a"
             ],
             [
              0.8888888888888888,
              "#fdca26"
             ],
             [
              1,
              "#f0f921"
             ]
            ],
            "type": "contour"
           }
          ],
          "contourcarpet": [
           {
            "colorbar": {
             "outlinewidth": 0,
             "ticks": ""
            },
            "type": "contourcarpet"
           }
          ],
          "heatmap": [
           {
            "colorbar": {
             "outlinewidth": 0,
             "ticks": ""
            },
            "colorscale": [
             [
              0,
              "#0d0887"
             ],
             [
              0.1111111111111111,
              "#46039f"
             ],
             [
              0.2222222222222222,
              "#7201a8"
             ],
             [
              0.3333333333333333,
              "#9c179e"
             ],
             [
              0.4444444444444444,
              "#bd3786"
             ],
             [
              0.5555555555555556,
              "#d8576b"
             ],
             [
              0.6666666666666666,
              "#ed7953"
             ],
             [
              0.7777777777777778,
              "#fb9f3a"
             ],
             [
              0.8888888888888888,
              "#fdca26"
             ],
             [
              1,
              "#f0f921"
             ]
            ],
            "type": "heatmap"
           }
          ],
          "histogram": [
           {
            "marker": {
             "pattern": {
              "fillmode": "overlay",
              "size": 10,
              "solidity": 0.2
             }
            },
            "type": "histogram"
           }
          ],
          "histogram2d": [
           {
            "colorbar": {
             "outlinewidth": 0,
             "ticks": ""
            },
            "colorscale": [
             [
              0,
              "#0d0887"
             ],
             [
              0.1111111111111111,
              "#46039f"
             ],
             [
              0.2222222222222222,
              "#7201a8"
             ],
             [
              0.3333333333333333,
              "#9c179e"
             ],
             [
              0.4444444444444444,
              "#bd3786"
             ],
             [
              0.5555555555555556,
              "#d8576b"
             ],
             [
              0.6666666666666666,
              "#ed7953"
             ],
             [
              0.7777777777777778,
              "#fb9f3a"
             ],
             [
              0.8888888888888888,
              "#fdca26"
             ],
             [
              1,
              "#f0f921"
             ]
            ],
            "type": "histogram2d"
           }
          ],
          "histogram2dcontour": [
           {
            "colorbar": {
             "outlinewidth": 0,
             "ticks": ""
            },
            "colorscale": [
             [
              0,
              "#0d0887"
             ],
             [
              0.1111111111111111,
              "#46039f"
             ],
             [
              0.2222222222222222,
              "#7201a8"
             ],
             [
              0.3333333333333333,
              "#9c179e"
             ],
             [
              0.4444444444444444,
              "#bd3786"
             ],
             [
              0.5555555555555556,
              "#d8576b"
             ],
             [
              0.6666666666666666,
              "#ed7953"
             ],
             [
              0.7777777777777778,
              "#fb9f3a"
             ],
             [
              0.8888888888888888,
              "#fdca26"
             ],
             [
              1,
              "#f0f921"
             ]
            ],
            "type": "histogram2dcontour"
           }
          ],
          "mesh3d": [
           {
            "colorbar": {
             "outlinewidth": 0,
             "ticks": ""
            },
            "type": "mesh3d"
           }
          ],
          "parcoords": [
           {
            "line": {
             "colorbar": {
              "outlinewidth": 0,
              "ticks": ""
             }
            },
            "type": "parcoords"
           }
          ],
          "pie": [
           {
            "automargin": true,
            "type": "pie"
           }
          ],
          "scatter": [
           {
            "fillpattern": {
             "fillmode": "overlay",
             "size": 10,
             "solidity": 0.2
            },
            "type": "scatter"
           }
          ],
          "scatter3d": [
           {
            "line": {
             "colorbar": {
              "outlinewidth": 0,
              "ticks": ""
             }
            },
            "marker": {
             "colorbar": {
              "outlinewidth": 0,
              "ticks": ""
             }
            },
            "type": "scatter3d"
           }
          ],
          "scattercarpet": [
           {
            "marker": {
             "colorbar": {
              "outlinewidth": 0,
              "ticks": ""
             }
            },
            "type": "scattercarpet"
           }
          ],
          "scattergeo": [
           {
            "marker": {
             "colorbar": {
              "outlinewidth": 0,
              "ticks": ""
             }
            },
            "type": "scattergeo"
           }
          ],
          "scattergl": [
           {
            "marker": {
             "colorbar": {
              "outlinewidth": 0,
              "ticks": ""
             }
            },
            "type": "scattergl"
           }
          ],
          "scattermap": [
           {
            "marker": {
             "colorbar": {
              "outlinewidth": 0,
              "ticks": ""
             }
            },
            "type": "scattermap"
           }
          ],
          "scattermapbox": [
           {
            "marker": {
             "colorbar": {
              "outlinewidth": 0,
              "ticks": ""
             }
            },
            "type": "scattermapbox"
           }
          ],
          "scatterpolar": [
           {
            "marker": {
             "colorbar": {
              "outlinewidth": 0,
              "ticks": ""
             }
            },
            "type": "scatterpolar"
           }
          ],
          "scatterpolargl": [
           {
            "marker": {
             "colorbar": {
              "outlinewidth": 0,
              "ticks": ""
             }
            },
            "type": "scatterpolargl"
           }
          ],
          "scatterternary": [
           {
            "marker": {
             "colorbar": {
              "outlinewidth": 0,
              "ticks": ""
             }
            },
            "type": "scatterternary"
           }
          ],
          "surface": [
           {
            "colorbar": {
             "outlinewidth": 0,
             "ticks": ""
            },
            "colorscale": [
             [
              0,
              "#0d0887"
             ],
             [
              0.1111111111111111,
              "#46039f"
             ],
             [
              0.2222222222222222,
              "#7201a8"
             ],
             [
              0.3333333333333333,
              "#9c179e"
             ],
             [
              0.4444444444444444,
              "#bd3786"
             ],
             [
              0.5555555555555556,
              "#d8576b"
             ],
             [
              0.6666666666666666,
              "#ed7953"
             ],
             [
              0.7777777777777778,
              "#fb9f3a"
             ],
             [
              0.8888888888888888,
              "#fdca26"
             ],
             [
              1,
              "#f0f921"
             ]
            ],
            "type": "surface"
           }
          ],
          "table": [
           {
            "cells": {
             "fill": {
              "color": "#EBF0F8"
             },
             "line": {
              "color": "white"
             }
            },
            "header": {
             "fill": {
              "color": "#C8D4E3"
             },
             "line": {
              "color": "white"
             }
            },
            "type": "table"
           }
          ]
         },
         "layout": {
          "annotationdefaults": {
           "arrowcolor": "#2a3f5f",
           "arrowhead": 0,
           "arrowwidth": 1
          },
          "autotypenumbers": "strict",
          "coloraxis": {
           "colorbar": {
            "outlinewidth": 0,
            "ticks": ""
           }
          },
          "colorscale": {
           "diverging": [
            [
             0,
             "#8e0152"
            ],
            [
             0.1,
             "#c51b7d"
            ],
            [
             0.2,
             "#de77ae"
            ],
            [
             0.3,
             "#f1b6da"
            ],
            [
             0.4,
             "#fde0ef"
            ],
            [
             0.5,
             "#f7f7f7"
            ],
            [
             0.6,
             "#e6f5d0"
            ],
            [
             0.7,
             "#b8e186"
            ],
            [
             0.8,
             "#7fbc41"
            ],
            [
             0.9,
             "#4d9221"
            ],
            [
             1,
             "#276419"
            ]
           ],
           "sequential": [
            [
             0,
             "#0d0887"
            ],
            [
             0.1111111111111111,
             "#46039f"
            ],
            [
             0.2222222222222222,
             "#7201a8"
            ],
            [
             0.3333333333333333,
             "#9c179e"
            ],
            [
             0.4444444444444444,
             "#bd3786"
            ],
            [
             0.5555555555555556,
             "#d8576b"
            ],
            [
             0.6666666666666666,
             "#ed7953"
            ],
            [
             0.7777777777777778,
             "#fb9f3a"
            ],
            [
             0.8888888888888888,
             "#fdca26"
            ],
            [
             1,
             "#f0f921"
            ]
           ],
           "sequentialminus": [
            [
             0,
             "#0d0887"
            ],
            [
             0.1111111111111111,
             "#46039f"
            ],
            [
             0.2222222222222222,
             "#7201a8"
            ],
            [
             0.3333333333333333,
             "#9c179e"
            ],
            [
             0.4444444444444444,
             "#bd3786"
            ],
            [
             0.5555555555555556,
             "#d8576b"
            ],
            [
             0.6666666666666666,
             "#ed7953"
            ],
            [
             0.7777777777777778,
             "#fb9f3a"
            ],
            [
             0.8888888888888888,
             "#fdca26"
            ],
            [
             1,
             "#f0f921"
            ]
           ]
          },
          "colorway": [
           "#636efa",
           "#EF553B",
           "#00cc96",
           "#ab63fa",
           "#FFA15A",
           "#19d3f3",
           "#FF6692",
           "#B6E880",
           "#FF97FF",
           "#FECB52"
          ],
          "font": {
           "color": "#2a3f5f"
          },
          "geo": {
           "bgcolor": "white",
           "lakecolor": "white",
           "landcolor": "white",
           "showlakes": true,
           "showland": true,
           "subunitcolor": "#C8D4E3"
          },
          "hoverlabel": {
           "align": "left"
          },
          "hovermode": "closest",
          "mapbox": {
           "style": "light"
          },
          "paper_bgcolor": "white",
          "plot_bgcolor": "white",
          "polar": {
           "angularaxis": {
            "gridcolor": "#EBF0F8",
            "linecolor": "#EBF0F8",
            "ticks": ""
           },
           "bgcolor": "white",
           "radialaxis": {
            "gridcolor": "#EBF0F8",
            "linecolor": "#EBF0F8",
            "ticks": ""
           }
          },
          "scene": {
           "xaxis": {
            "backgroundcolor": "white",
            "gridcolor": "#DFE8F3",
            "gridwidth": 2,
            "linecolor": "#EBF0F8",
            "showbackground": true,
            "ticks": "",
            "zerolinecolor": "#EBF0F8"
           },
           "yaxis": {
            "backgroundcolor": "white",
            "gridcolor": "#DFE8F3",
            "gridwidth": 2,
            "linecolor": "#EBF0F8",
            "showbackground": true,
            "ticks": "",
            "zerolinecolor": "#EBF0F8"
           },
           "zaxis": {
            "backgroundcolor": "white",
            "gridcolor": "#DFE8F3",
            "gridwidth": 2,
            "linecolor": "#EBF0F8",
            "showbackground": true,
            "ticks": "",
            "zerolinecolor": "#EBF0F8"
           }
          },
          "shapedefaults": {
           "line": {
            "color": "#2a3f5f"
           }
          },
          "ternary": {
           "aaxis": {
            "gridcolor": "#DFE8F3",
            "linecolor": "#A2B1C6",
            "ticks": ""
           },
           "baxis": {
            "gridcolor": "#DFE8F3",
            "linecolor": "#A2B1C6",
            "ticks": ""
           },
           "bgcolor": "white",
           "caxis": {
            "gridcolor": "#DFE8F3",
            "linecolor": "#A2B1C6",
            "ticks": ""
           }
          },
          "title": {
           "x": 0.05
          },
          "xaxis": {
           "automargin": true,
           "gridcolor": "#EBF0F8",
           "linecolor": "#EBF0F8",
           "ticks": "",
           "title": {
            "standoff": 15
           },
           "zerolinecolor": "#EBF0F8",
           "zerolinewidth": 2
          },
          "yaxis": {
           "automargin": true,
           "gridcolor": "#EBF0F8",
           "linecolor": "#EBF0F8",
           "ticks": "",
           "title": {
            "standoff": 15
           },
           "zerolinecolor": "#EBF0F8",
           "zerolinewidth": 2
          }
         }
        },
        "title": {
         "text": "📈 EV Penetration Rate Trends (2022–2023) for Declining States"
        },
        "xaxis": {
         "anchor": "y",
         "domain": [
          0,
          1
         ],
         "title": {
          "text": "Date"
         }
        },
        "yaxis": {
         "anchor": "x",
         "domain": [
          0,
          1
         ],
         "title": {
          "text": "EV Penetration Rate"
         }
        }
       }
      }
     },
     "metadata": {},
     "output_type": "display_data"
    }
   ],
   "source": [
    "import plotly.express as px\n",
    "from datetime import datetime\n",
    "\n",
    "fig_line = px.line(\n",
    "    monthly_avg,\n",
    "    x='date',\n",
    "    y='ev_penetration_rate',\n",
    "    color='state',\n",
    "    markers=True,\n",
    "    title=\"📈 EV Penetration Rate Trends (2022–2023) for Declining States\",\n",
    "    labels={\n",
    "        'ev_penetration_rate': 'EV Penetration Rate',\n",
    "        'date': 'Date',\n",
    "        'state': 'State'\n",
    "    }\n",
    ")\n",
    "\n",
    "# Add vertical lines WITHOUT annotation parameters\n",
    "for year in [2022, 2023, 2024]:\n",
    "    fig_line.add_vline(\n",
    "        x=datetime(year, 1, 1),\n",
    "        line=dict(color='red', dash='dash'),\n",
    "        opacity=0.5\n",
    "    )\n",
    "    # Add separate annotation\n",
    "    fig_line.add_annotation(\n",
    "        x=datetime(year, 1, 1),\n",
    "        y=monthly_avg['ev_penetration_rate'].max(),\n",
    "        text=f\"{year}\",\n",
    "        showarrow=False,\n",
    "        font=dict(color='red'),\n",
    "        xanchor='left',\n",
    "        yanchor='top'\n",
    "    )\n",
    "\n",
    "fig_line.update_layout(\n",
    "    template=\"plotly_white\",\n",
    "    legend_title_text='State',\n",
    "    xaxis_title='Date',\n",
    "    yaxis_title='EV Penetration Rate',\n",
    "    height=600\n",
    ")\n",
    "\n",
    "fig_line.show()\n"
   ]
  },
  {
   "cell_type": "code",
   "execution_count": 10,
   "id": "2d57fbf3",
   "metadata": {},
   "outputs": [
    {
     "data": {
      "application/vnd.plotly.v1+json": {
       "config": {
        "plotlyServerURL": "https://plot.ly"
       },
       "data": [
        {
         "colorbar": {
          "title": {
           "text": "Change Rate"
          }
         },
         "colorscale": [
          [
           0,
           "rgb(165,0,38)"
          ],
          [
           0.1,
           "rgb(215,48,39)"
          ],
          [
           0.2,
           "rgb(244,109,67)"
          ],
          [
           0.3,
           "rgb(253,174,97)"
          ],
          [
           0.4,
           "rgb(254,224,139)"
          ],
          [
           0.5,
           "rgb(255,255,191)"
          ],
          [
           0.6,
           "rgb(217,239,139)"
          ],
          [
           0.7,
           "rgb(166,217,106)"
          ],
          [
           0.8,
           "rgb(102,189,99)"
          ],
          [
           0.9,
           "rgb(26,152,80)"
          ],
          [
           1,
           "rgb(0,104,55)"
          ]
         ],
         "hovertemplate": "State: %{y}<br>Month: %{x}<br>Change: %{z}<extra></extra>",
         "text": {
          "bdata": "AAAAAAAAAAAtQxzr4jY6vwAAAAAAAAAALUMc6+I2Wj8vbqMBvAVyP3npJjEIrGw/L26jAbwFUr9hMlUwKqlDP18HzhlR2lu/rthfdk8eZj/HuriNBvBmPy1DHOviNmo/4JwRpb3BZz/8qfHSTWJQv5T2Bl+YTGW/YTJVMCqpU7+u2F92Tx5mPwAAAAAAAAAALUMc6+I2Or/gnBGlvcFnv5LLf0i/fV0/FYxK6gQ0Yb8vbqMBvAVSPxNhw9MrZXk/kst/SL99Xb9hMlUwKqkzP3ZxGw3gLYC/kst/SL99bb8tQxzr4jY6P5LLf0i/fW2/3nGKjuTyfz+Sy39Iv31dv/p+arx0k1g/RiV1ApoIez/8qfHSTWJAP+CcEaW9wWc/AAAAAAAAAADUK2UZ4liHP3ZxGw3gLYC/exSuR+F6dD/8qfHSTWJwv1XBqKROQHM//Knx0k1iUD/ecYqO5PJ/v9v5fmq8dIM/x7q4jQbwZr/8qfHSTWJAP0hQ/Bhz14I/mpmZmZmZib8vbqMBvAVSv5LLf0i/fW0/L26jAbwFgj8vbqMBvAWCv18HzhlR2ms/lPYGX5hMVT/tDb4wmSp4P8e6uI0G8Fa/Iv32deCccb+Sy39Iv31NP18HzhlR2lu/E2HD0ytlaT+Sy39Iv31dvxNhw9MrZWm/O99PjZducr8tQxzr4jZKv2EyVTAqqUM/eekmMQisbD8tQxzr4jY6PxNhw9MrZWk/AU2EDU+vhD/8qfHSTWJQP8e6uI0G8Fa/AAAAAAAAAAAAAAAAAAAAAAAAAAAAAAAAAAAAAAAAAAAAAAAAAAAAAAAAAAAAAAAALSEf9GxWxT8tIR/0bFbFvwAAAAAAAAAAMzMzMzMzwz8zMzMzMzPDvwAAAAAAAAAAAAAAAAAAAAAAAAAAAAAAAHRGlPYGX4g/AU2EDU+vhL+4HoXrUbiOP9JvXwfOGZG/AAAAAAAAAAAAAAAAAAAAAAAAAAAAAAAAmpmZmZmZmT+amZmZmZmZvwAAAAAAAAAAAAAAAAAAAAASg8DKoUWmP8bctYR80KO//Knx0k1iQL8i/fZ14JxxvwAAAAAAAAAAAAAAAAAAAAAAAAAAAAAAAAAAAAAAAAAAD5wzorQ3yD8PnDOitDfIvwAAAAAAAAAAAAAAAAAAAAATYcPTK2VpvxWMSuoENGE/lPYGX5hMVT/6fmq8dJNYPxWMSuoENHE/LUMc6+I2ar+Sy39Iv31NP+CcEaW9wXc/L26jAbwFUr/HuriNBvBmP+0NvjCZKng//Knx0k1igD/tDb4wmSqIv18HzhlR2ls/x7q4jQbwVj+srdhfdk9uP5T2Bl+YTFU/LUMc6+I2Kr+6SQwCK4d2vyegibDh6YU/WmQ730+Nh78TYcPTK2VpP8e6uI0G8HY//Knx0k1iYL/8qfHSTWJwP6YKRiV1Aoq/YTJVMCqpcz9fB84ZUdpbvxNhw9MrZXm/kst/SL99bT8tQxzr4jY6vy1DHOviNmo/YTJVMCqpQz/HuriNBvB2P8WPMXctIV8/",
          "dtype": "f8",
          "shape": "4, 36"
         },
         "type": "heatmap",
         "x": [
          "2021-04",
          "2021-05",
          "2021-06",
          "2021-07",
          "2021-08",
          "2021-09",
          "2021-10",
          "2021-11",
          "2021-12",
          "2022-01",
          "2022-02",
          "2022-03",
          "2022-04",
          "2022-05",
          "2022-06",
          "2022-07",
          "2022-08",
          "2022-09",
          "2022-10",
          "2022-11",
          "2022-12",
          "2023-01",
          "2023-02",
          "2023-03",
          "2023-04",
          "2023-05",
          "2023-06",
          "2023-07",
          "2023-08",
          "2023-09",
          "2023-10",
          "2023-11",
          "2023-12",
          "2024-01",
          "2024-02",
          "2024-03"
         ],
         "y": [
          "Haryana",
          "Jammu and Kashmir",
          "Ladakh",
          "Uttarakhand"
         ],
         "z": {
          "bdata": "AAAAAAAAAAAtQxzr4jY6vwAAAAAAAAAALUMc6+I2Wj8vbqMBvAVyP3npJjEIrGw/L26jAbwFUr9hMlUwKqlDP18HzhlR2lu/rthfdk8eZj/HuriNBvBmPy1DHOviNmo/4JwRpb3BZz/8qfHSTWJQv5T2Bl+YTGW/YTJVMCqpU7+u2F92Tx5mPwAAAAAAAAAALUMc6+I2Or/gnBGlvcFnv5LLf0i/fV0/FYxK6gQ0Yb8vbqMBvAVSPxNhw9MrZXk/kst/SL99Xb9hMlUwKqkzP3ZxGw3gLYC/kst/SL99bb8tQxzr4jY6P5LLf0i/fW2/3nGKjuTyfz+Sy39Iv31dv/p+arx0k1g/RiV1ApoIez/8qfHSTWJAP+CcEaW9wWc/AAAAAAAAAADUK2UZ4liHP3ZxGw3gLYC/exSuR+F6dD/8qfHSTWJwv1XBqKROQHM//Knx0k1iUD/ecYqO5PJ/v9v5fmq8dIM/x7q4jQbwZr/8qfHSTWJAP0hQ/Bhz14I/mpmZmZmZib8vbqMBvAVSv5LLf0i/fW0/L26jAbwFgj8vbqMBvAWCv18HzhlR2ms/lPYGX5hMVT/tDb4wmSp4P8e6uI0G8Fa/Iv32deCccb+Sy39Iv31NP18HzhlR2lu/E2HD0ytlaT+Sy39Iv31dvxNhw9MrZWm/O99PjZducr8tQxzr4jZKv2EyVTAqqUM/eekmMQisbD8tQxzr4jY6PxNhw9MrZWk/AU2EDU+vhD/8qfHSTWJQP8e6uI0G8Fa/AAAAAAAAAAAAAAAAAAAAAAAAAAAAAAAAAAAAAAAAAAAAAAAAAAAAAAAAAAAAAAAALSEf9GxWxT8tIR/0bFbFvwAAAAAAAAAAMzMzMzMzwz8zMzMzMzPDvwAAAAAAAAAAAAAAAAAAAAAAAAAAAAAAAHRGlPYGX4g/AU2EDU+vhL+4HoXrUbiOP9JvXwfOGZG/AAAAAAAAAAAAAAAAAAAAAAAAAAAAAAAAmpmZmZmZmT+amZmZmZmZvwAAAAAAAAAAAAAAAAAAAAASg8DKoUWmP8bctYR80KO//Knx0k1iQL8i/fZ14JxxvwAAAAAAAAAAAAAAAAAAAAAAAAAAAAAAAAAAAAAAAAAAD5wzorQ3yD8PnDOitDfIvwAAAAAAAAAAAAAAAAAAAAATYcPTK2VpvxWMSuoENGE/lPYGX5hMVT/6fmq8dJNYPxWMSuoENHE/LUMc6+I2ar+Sy39Iv31NP+CcEaW9wXc/L26jAbwFUr/HuriNBvBmP+0NvjCZKng//Knx0k1igD/tDb4wmSqIv18HzhlR2ls/x7q4jQbwVj+srdhfdk9uP5T2Bl+YTFU/LUMc6+I2Kr+6SQwCK4d2vyegibDh6YU/WmQ730+Nh78TYcPTK2VpP8e6uI0G8HY//Knx0k1iYL/8qfHSTWJwP6YKRiV1Aoq/YTJVMCqpcz9fB84ZUdpbvxNhw9MrZXm/kst/SL99bT8tQxzr4jY6vy1DHOviNmo/YTJVMCqpQz/HuriNBvB2P8WPMXctIV8/",
          "dtype": "f8",
          "shape": "4, 36"
         },
         "zmid": 0
        }
       ],
       "layout": {
        "height": 600,
        "template": {
         "data": {
          "bar": [
           {
            "error_x": {
             "color": "#2a3f5f"
            },
            "error_y": {
             "color": "#2a3f5f"
            },
            "marker": {
             "line": {
              "color": "white",
              "width": 0.5
             },
             "pattern": {
              "fillmode": "overlay",
              "size": 10,
              "solidity": 0.2
             }
            },
            "type": "bar"
           }
          ],
          "barpolar": [
           {
            "marker": {
             "line": {
              "color": "white",
              "width": 0.5
             },
             "pattern": {
              "fillmode": "overlay",
              "size": 10,
              "solidity": 0.2
             }
            },
            "type": "barpolar"
           }
          ],
          "carpet": [
           {
            "aaxis": {
             "endlinecolor": "#2a3f5f",
             "gridcolor": "#C8D4E3",
             "linecolor": "#C8D4E3",
             "minorgridcolor": "#C8D4E3",
             "startlinecolor": "#2a3f5f"
            },
            "baxis": {
             "endlinecolor": "#2a3f5f",
             "gridcolor": "#C8D4E3",
             "linecolor": "#C8D4E3",
             "minorgridcolor": "#C8D4E3",
             "startlinecolor": "#2a3f5f"
            },
            "type": "carpet"
           }
          ],
          "choropleth": [
           {
            "colorbar": {
             "outlinewidth": 0,
             "ticks": ""
            },
            "type": "choropleth"
           }
          ],
          "contour": [
           {
            "colorbar": {
             "outlinewidth": 0,
             "ticks": ""
            },
            "colorscale": [
             [
              0,
              "#0d0887"
             ],
             [
              0.1111111111111111,
              "#46039f"
             ],
             [
              0.2222222222222222,
              "#7201a8"
             ],
             [
              0.3333333333333333,
              "#9c179e"
             ],
             [
              0.4444444444444444,
              "#bd3786"
             ],
             [
              0.5555555555555556,
              "#d8576b"
             ],
             [
              0.6666666666666666,
              "#ed7953"
             ],
             [
              0.7777777777777778,
              "#fb9f3a"
             ],
             [
              0.8888888888888888,
              "#fdca26"
             ],
             [
              1,
              "#f0f921"
             ]
            ],
            "type": "contour"
           }
          ],
          "contourcarpet": [
           {
            "colorbar": {
             "outlinewidth": 0,
             "ticks": ""
            },
            "type": "contourcarpet"
           }
          ],
          "heatmap": [
           {
            "colorbar": {
             "outlinewidth": 0,
             "ticks": ""
            },
            "colorscale": [
             [
              0,
              "#0d0887"
             ],
             [
              0.1111111111111111,
              "#46039f"
             ],
             [
              0.2222222222222222,
              "#7201a8"
             ],
             [
              0.3333333333333333,
              "#9c179e"
             ],
             [
              0.4444444444444444,
              "#bd3786"
             ],
             [
              0.5555555555555556,
              "#d8576b"
             ],
             [
              0.6666666666666666,
              "#ed7953"
             ],
             [
              0.7777777777777778,
              "#fb9f3a"
             ],
             [
              0.8888888888888888,
              "#fdca26"
             ],
             [
              1,
              "#f0f921"
             ]
            ],
            "type": "heatmap"
           }
          ],
          "histogram": [
           {
            "marker": {
             "pattern": {
              "fillmode": "overlay",
              "size": 10,
              "solidity": 0.2
             }
            },
            "type": "histogram"
           }
          ],
          "histogram2d": [
           {
            "colorbar": {
             "outlinewidth": 0,
             "ticks": ""
            },
            "colorscale": [
             [
              0,
              "#0d0887"
             ],
             [
              0.1111111111111111,
              "#46039f"
             ],
             [
              0.2222222222222222,
              "#7201a8"
             ],
             [
              0.3333333333333333,
              "#9c179e"
             ],
             [
              0.4444444444444444,
              "#bd3786"
             ],
             [
              0.5555555555555556,
              "#d8576b"
             ],
             [
              0.6666666666666666,
              "#ed7953"
             ],
             [
              0.7777777777777778,
              "#fb9f3a"
             ],
             [
              0.8888888888888888,
              "#fdca26"
             ],
             [
              1,
              "#f0f921"
             ]
            ],
            "type": "histogram2d"
           }
          ],
          "histogram2dcontour": [
           {
            "colorbar": {
             "outlinewidth": 0,
             "ticks": ""
            },
            "colorscale": [
             [
              0,
              "#0d0887"
             ],
             [
              0.1111111111111111,
              "#46039f"
             ],
             [
              0.2222222222222222,
              "#7201a8"
             ],
             [
              0.3333333333333333,
              "#9c179e"
             ],
             [
              0.4444444444444444,
              "#bd3786"
             ],
             [
              0.5555555555555556,
              "#d8576b"
             ],
             [
              0.6666666666666666,
              "#ed7953"
             ],
             [
              0.7777777777777778,
              "#fb9f3a"
             ],
             [
              0.8888888888888888,
              "#fdca26"
             ],
             [
              1,
              "#f0f921"
             ]
            ],
            "type": "histogram2dcontour"
           }
          ],
          "mesh3d": [
           {
            "colorbar": {
             "outlinewidth": 0,
             "ticks": ""
            },
            "type": "mesh3d"
           }
          ],
          "parcoords": [
           {
            "line": {
             "colorbar": {
              "outlinewidth": 0,
              "ticks": ""
             }
            },
            "type": "parcoords"
           }
          ],
          "pie": [
           {
            "automargin": true,
            "type": "pie"
           }
          ],
          "scatter": [
           {
            "fillpattern": {
             "fillmode": "overlay",
             "size": 10,
             "solidity": 0.2
            },
            "type": "scatter"
           }
          ],
          "scatter3d": [
           {
            "line": {
             "colorbar": {
              "outlinewidth": 0,
              "ticks": ""
             }
            },
            "marker": {
             "colorbar": {
              "outlinewidth": 0,
              "ticks": ""
             }
            },
            "type": "scatter3d"
           }
          ],
          "scattercarpet": [
           {
            "marker": {
             "colorbar": {
              "outlinewidth": 0,
              "ticks": ""
             }
            },
            "type": "scattercarpet"
           }
          ],
          "scattergeo": [
           {
            "marker": {
             "colorbar": {
              "outlinewidth": 0,
              "ticks": ""
             }
            },
            "type": "scattergeo"
           }
          ],
          "scattergl": [
           {
            "marker": {
             "colorbar": {
              "outlinewidth": 0,
              "ticks": ""
             }
            },
            "type": "scattergl"
           }
          ],
          "scattermap": [
           {
            "marker": {
             "colorbar": {
              "outlinewidth": 0,
              "ticks": ""
             }
            },
            "type": "scattermap"
           }
          ],
          "scattermapbox": [
           {
            "marker": {
             "colorbar": {
              "outlinewidth": 0,
              "ticks": ""
             }
            },
            "type": "scattermapbox"
           }
          ],
          "scatterpolar": [
           {
            "marker": {
             "colorbar": {
              "outlinewidth": 0,
              "ticks": ""
             }
            },
            "type": "scatterpolar"
           }
          ],
          "scatterpolargl": [
           {
            "marker": {
             "colorbar": {
              "outlinewidth": 0,
              "ticks": ""
             }
            },
            "type": "scatterpolargl"
           }
          ],
          "scatterternary": [
           {
            "marker": {
             "colorbar": {
              "outlinewidth": 0,
              "ticks": ""
             }
            },
            "type": "scatterternary"
           }
          ],
          "surface": [
           {
            "colorbar": {
             "outlinewidth": 0,
             "ticks": ""
            },
            "colorscale": [
             [
              0,
              "#0d0887"
             ],
             [
              0.1111111111111111,
              "#46039f"
             ],
             [
              0.2222222222222222,
              "#7201a8"
             ],
             [
              0.3333333333333333,
              "#9c179e"
             ],
             [
              0.4444444444444444,
              "#bd3786"
             ],
             [
              0.5555555555555556,
              "#d8576b"
             ],
             [
              0.6666666666666666,
              "#ed7953"
             ],
             [
              0.7777777777777778,
              "#fb9f3a"
             ],
             [
              0.8888888888888888,
              "#fdca26"
             ],
             [
              1,
              "#f0f921"
             ]
            ],
            "type": "surface"
           }
          ],
          "table": [
           {
            "cells": {
             "fill": {
              "color": "#EBF0F8"
             },
             "line": {
              "color": "white"
             }
            },
            "header": {
             "fill": {
              "color": "#C8D4E3"
             },
             "line": {
              "color": "white"
             }
            },
            "type": "table"
           }
          ]
         },
         "layout": {
          "annotationdefaults": {
           "arrowcolor": "#2a3f5f",
           "arrowhead": 0,
           "arrowwidth": 1
          },
          "autotypenumbers": "strict",
          "coloraxis": {
           "colorbar": {
            "outlinewidth": 0,
            "ticks": ""
           }
          },
          "colorscale": {
           "diverging": [
            [
             0,
             "#8e0152"
            ],
            [
             0.1,
             "#c51b7d"
            ],
            [
             0.2,
             "#de77ae"
            ],
            [
             0.3,
             "#f1b6da"
            ],
            [
             0.4,
             "#fde0ef"
            ],
            [
             0.5,
             "#f7f7f7"
            ],
            [
             0.6,
             "#e6f5d0"
            ],
            [
             0.7,
             "#b8e186"
            ],
            [
             0.8,
             "#7fbc41"
            ],
            [
             0.9,
             "#4d9221"
            ],
            [
             1,
             "#276419"
            ]
           ],
           "sequential": [
            [
             0,
             "#0d0887"
            ],
            [
             0.1111111111111111,
             "#46039f"
            ],
            [
             0.2222222222222222,
             "#7201a8"
            ],
            [
             0.3333333333333333,
             "#9c179e"
            ],
            [
             0.4444444444444444,
             "#bd3786"
            ],
            [
             0.5555555555555556,
             "#d8576b"
            ],
            [
             0.6666666666666666,
             "#ed7953"
            ],
            [
             0.7777777777777778,
             "#fb9f3a"
            ],
            [
             0.8888888888888888,
             "#fdca26"
            ],
            [
             1,
             "#f0f921"
            ]
           ],
           "sequentialminus": [
            [
             0,
             "#0d0887"
            ],
            [
             0.1111111111111111,
             "#46039f"
            ],
            [
             0.2222222222222222,
             "#7201a8"
            ],
            [
             0.3333333333333333,
             "#9c179e"
            ],
            [
             0.4444444444444444,
             "#bd3786"
            ],
            [
             0.5555555555555556,
             "#d8576b"
            ],
            [
             0.6666666666666666,
             "#ed7953"
            ],
            [
             0.7777777777777778,
             "#fb9f3a"
            ],
            [
             0.8888888888888888,
             "#fdca26"
            ],
            [
             1,
             "#f0f921"
            ]
           ]
          },
          "colorway": [
           "#636efa",
           "#EF553B",
           "#00cc96",
           "#ab63fa",
           "#FFA15A",
           "#19d3f3",
           "#FF6692",
           "#B6E880",
           "#FF97FF",
           "#FECB52"
          ],
          "font": {
           "color": "#2a3f5f"
          },
          "geo": {
           "bgcolor": "white",
           "lakecolor": "white",
           "landcolor": "white",
           "showlakes": true,
           "showland": true,
           "subunitcolor": "#C8D4E3"
          },
          "hoverlabel": {
           "align": "left"
          },
          "hovermode": "closest",
          "mapbox": {
           "style": "light"
          },
          "paper_bgcolor": "white",
          "plot_bgcolor": "white",
          "polar": {
           "angularaxis": {
            "gridcolor": "#EBF0F8",
            "linecolor": "#EBF0F8",
            "ticks": ""
           },
           "bgcolor": "white",
           "radialaxis": {
            "gridcolor": "#EBF0F8",
            "linecolor": "#EBF0F8",
            "ticks": ""
           }
          },
          "scene": {
           "xaxis": {
            "backgroundcolor": "white",
            "gridcolor": "#DFE8F3",
            "gridwidth": 2,
            "linecolor": "#EBF0F8",
            "showbackground": true,
            "ticks": "",
            "zerolinecolor": "#EBF0F8"
           },
           "yaxis": {
            "backgroundcolor": "white",
            "gridcolor": "#DFE8F3",
            "gridwidth": 2,
            "linecolor": "#EBF0F8",
            "showbackground": true,
            "ticks": "",
            "zerolinecolor": "#EBF0F8"
           },
           "zaxis": {
            "backgroundcolor": "white",
            "gridcolor": "#DFE8F3",
            "gridwidth": 2,
            "linecolor": "#EBF0F8",
            "showbackground": true,
            "ticks": "",
            "zerolinecolor": "#EBF0F8"
           }
          },
          "shapedefaults": {
           "line": {
            "color": "#2a3f5f"
           }
          },
          "ternary": {
           "aaxis": {
            "gridcolor": "#DFE8F3",
            "linecolor": "#A2B1C6",
            "ticks": ""
           },
           "baxis": {
            "gridcolor": "#DFE8F3",
            "linecolor": "#A2B1C6",
            "ticks": ""
           },
           "bgcolor": "white",
           "caxis": {
            "gridcolor": "#DFE8F3",
            "linecolor": "#A2B1C6",
            "ticks": ""
           }
          },
          "title": {
           "x": 0.05
          },
          "xaxis": {
           "automargin": true,
           "gridcolor": "#EBF0F8",
           "linecolor": "#EBF0F8",
           "ticks": "",
           "title": {
            "standoff": 15
           },
           "zerolinecolor": "#EBF0F8",
           "zerolinewidth": 2
          },
          "yaxis": {
           "automargin": true,
           "gridcolor": "#EBF0F8",
           "linecolor": "#EBF0F8",
           "ticks": "",
           "title": {
            "standoff": 15
           },
           "zerolinecolor": "#EBF0F8",
           "zerolinewidth": 2
          }
         }
        },
        "title": {
         "text": "🌡️ Monthly EV Penetration Rate Changes (Declining States)"
        },
        "xaxis": {
         "nticks": 36,
         "title": {
          "text": "Month"
         }
        },
        "yaxis": {
         "title": {
          "text": "State"
         }
        }
       }
      }
     },
     "metadata": {},
     "output_type": "display_data"
    }
   ],
   "source": [
    "import plotly.graph_objects as go\n",
    "\n",
    "# Prepare heatmap data\n",
    "heatmap_data = monthly_changes.fillna(0).round(4)\n",
    "\n",
    "fig_heatmap = go.Figure(\n",
    "    data=go.Heatmap(\n",
    "        z=heatmap_data.values,\n",
    "        x=heatmap_data.columns,\n",
    "        y=heatmap_data.index,\n",
    "        colorscale='RdYlGn',\n",
    "        zmid=0,\n",
    "        colorbar=dict(title='Change Rate'),\n",
    "        text=heatmap_data.values,\n",
    "        hovertemplate='State: %{y}<br>Month: %{x}<br>Change: %{z}<extra></extra>'\n",
    "    )\n",
    ")\n",
    "\n",
    "fig_heatmap.update_layout(\n",
    "    title='🌡️ Monthly EV Penetration Rate Changes (Declining States)',\n",
    "    xaxis_nticks=36,\n",
    "    xaxis_title='Month',\n",
    "    yaxis_title='State',\n",
    "    template=\"plotly_white\",\n",
    "    height=600\n",
    ")\n",
    "\n",
    "fig_heatmap.show()\n"
   ]
  },
  {
   "cell_type": "code",
   "execution_count": 11,
   "id": "da156d29",
   "metadata": {},
   "outputs": [
    {
     "data": {
      "application/vnd.plotly.v1+json": {
       "config": {
        "plotlyServerURL": "https://plot.ly"
       },
       "data": [
        {
         "alignmentgroup": "True",
         "hovertemplate": "State=%{x}<br>EV Penetration Rate=%{y}<br>text=%{text}<br>Year=%{marker.color}<extra></extra>",
         "legendgroup": "",
         "marker": {
          "color": {
           "bdata": "5gcAAOcHAADmBwAA5wcAAOYHAADnBwAA5gcAAOcHAAA=",
           "dtype": "i4"
          },
          "coloraxis": "coloraxis",
          "pattern": {
           "shape": ""
          }
         },
         "name": "",
         "offsetgroup": "",
         "orientation": "v",
         "showlegend": false,
         "text": [
          "0.0166",
          "0.0138",
          "0.0138",
          "0.0126",
          "0.0150",
          "0.0065",
          "0.0216",
          "0.0210"
         ],
         "textposition": "outside",
         "type": "bar",
         "x": [
          "Haryana",
          "Haryana",
          "Jammu and Kashmir",
          "Jammu and Kashmir",
          "Ladakh",
          "Ladakh",
          "Uttarakhand",
          "Uttarakhand"
         ],
         "xaxis": "x",
         "y": {
          "bdata": "v8aqdloIkT8z7B0ONVSMP01PqI7JO4w/K6mQLADZiT/ZZ2y3f8eOPwt7qbE/eXo/BbXUPoYnlj//WvJY3naVPw==",
          "dtype": "f8"
         },
         "yaxis": "y"
        }
       ],
       "layout": {
        "barmode": "group",
        "coloraxis": {
         "colorbar": {
          "title": {
           "text": "Year"
          }
         },
         "colorscale": [
          [
           0,
           "#0d0887"
          ],
          [
           0.1111111111111111,
           "#46039f"
          ],
          [
           0.2222222222222222,
           "#7201a8"
          ],
          [
           0.3333333333333333,
           "#9c179e"
          ],
          [
           0.4444444444444444,
           "#bd3786"
          ],
          [
           0.5555555555555556,
           "#d8576b"
          ],
          [
           0.6666666666666666,
           "#ed7953"
          ],
          [
           0.7777777777777778,
           "#fb9f3a"
          ],
          [
           0.8888888888888888,
           "#fdca26"
          ],
          [
           1,
           "#f0f921"
          ]
         ]
        },
        "height": 600,
        "legend": {
         "tracegroupgap": 0
        },
        "template": {
         "data": {
          "bar": [
           {
            "error_x": {
             "color": "#2a3f5f"
            },
            "error_y": {
             "color": "#2a3f5f"
            },
            "marker": {
             "line": {
              "color": "white",
              "width": 0.5
             },
             "pattern": {
              "fillmode": "overlay",
              "size": 10,
              "solidity": 0.2
             }
            },
            "type": "bar"
           }
          ],
          "barpolar": [
           {
            "marker": {
             "line": {
              "color": "white",
              "width": 0.5
             },
             "pattern": {
              "fillmode": "overlay",
              "size": 10,
              "solidity": 0.2
             }
            },
            "type": "barpolar"
           }
          ],
          "carpet": [
           {
            "aaxis": {
             "endlinecolor": "#2a3f5f",
             "gridcolor": "#C8D4E3",
             "linecolor": "#C8D4E3",
             "minorgridcolor": "#C8D4E3",
             "startlinecolor": "#2a3f5f"
            },
            "baxis": {
             "endlinecolor": "#2a3f5f",
             "gridcolor": "#C8D4E3",
             "linecolor": "#C8D4E3",
             "minorgridcolor": "#C8D4E3",
             "startlinecolor": "#2a3f5f"
            },
            "type": "carpet"
           }
          ],
          "choropleth": [
           {
            "colorbar": {
             "outlinewidth": 0,
             "ticks": ""
            },
            "type": "choropleth"
           }
          ],
          "contour": [
           {
            "colorbar": {
             "outlinewidth": 0,
             "ticks": ""
            },
            "colorscale": [
             [
              0,
              "#0d0887"
             ],
             [
              0.1111111111111111,
              "#46039f"
             ],
             [
              0.2222222222222222,
              "#7201a8"
             ],
             [
              0.3333333333333333,
              "#9c179e"
             ],
             [
              0.4444444444444444,
              "#bd3786"
             ],
             [
              0.5555555555555556,
              "#d8576b"
             ],
             [
              0.6666666666666666,
              "#ed7953"
             ],
             [
              0.7777777777777778,
              "#fb9f3a"
             ],
             [
              0.8888888888888888,
              "#fdca26"
             ],
             [
              1,
              "#f0f921"
             ]
            ],
            "type": "contour"
           }
          ],
          "contourcarpet": [
           {
            "colorbar": {
             "outlinewidth": 0,
             "ticks": ""
            },
            "type": "contourcarpet"
           }
          ],
          "heatmap": [
           {
            "colorbar": {
             "outlinewidth": 0,
             "ticks": ""
            },
            "colorscale": [
             [
              0,
              "#0d0887"
             ],
             [
              0.1111111111111111,
              "#46039f"
             ],
             [
              0.2222222222222222,
              "#7201a8"
             ],
             [
              0.3333333333333333,
              "#9c179e"
             ],
             [
              0.4444444444444444,
              "#bd3786"
             ],
             [
              0.5555555555555556,
              "#d8576b"
             ],
             [
              0.6666666666666666,
              "#ed7953"
             ],
             [
              0.7777777777777778,
              "#fb9f3a"
             ],
             [
              0.8888888888888888,
              "#fdca26"
             ],
             [
              1,
              "#f0f921"
             ]
            ],
            "type": "heatmap"
           }
          ],
          "histogram": [
           {
            "marker": {
             "pattern": {
              "fillmode": "overlay",
              "size": 10,
              "solidity": 0.2
             }
            },
            "type": "histogram"
           }
          ],
          "histogram2d": [
           {
            "colorbar": {
             "outlinewidth": 0,
             "ticks": ""
            },
            "colorscale": [
             [
              0,
              "#0d0887"
             ],
             [
              0.1111111111111111,
              "#46039f"
             ],
             [
              0.2222222222222222,
              "#7201a8"
             ],
             [
              0.3333333333333333,
              "#9c179e"
             ],
             [
              0.4444444444444444,
              "#bd3786"
             ],
             [
              0.5555555555555556,
              "#d8576b"
             ],
             [
              0.6666666666666666,
              "#ed7953"
             ],
             [
              0.7777777777777778,
              "#fb9f3a"
             ],
             [
              0.8888888888888888,
              "#fdca26"
             ],
             [
              1,
              "#f0f921"
             ]
            ],
            "type": "histogram2d"
           }
          ],
          "histogram2dcontour": [
           {
            "colorbar": {
             "outlinewidth": 0,
             "ticks": ""
            },
            "colorscale": [
             [
              0,
              "#0d0887"
             ],
             [
              0.1111111111111111,
              "#46039f"
             ],
             [
              0.2222222222222222,
              "#7201a8"
             ],
             [
              0.3333333333333333,
              "#9c179e"
             ],
             [
              0.4444444444444444,
              "#bd3786"
             ],
             [
              0.5555555555555556,
              "#d8576b"
             ],
             [
              0.6666666666666666,
              "#ed7953"
             ],
             [
              0.7777777777777778,
              "#fb9f3a"
             ],
             [
              0.8888888888888888,
              "#fdca26"
             ],
             [
              1,
              "#f0f921"
             ]
            ],
            "type": "histogram2dcontour"
           }
          ],
          "mesh3d": [
           {
            "colorbar": {
             "outlinewidth": 0,
             "ticks": ""
            },
            "type": "mesh3d"
           }
          ],
          "parcoords": [
           {
            "line": {
             "colorbar": {
              "outlinewidth": 0,
              "ticks": ""
             }
            },
            "type": "parcoords"
           }
          ],
          "pie": [
           {
            "automargin": true,
            "type": "pie"
           }
          ],
          "scatter": [
           {
            "fillpattern": {
             "fillmode": "overlay",
             "size": 10,
             "solidity": 0.2
            },
            "type": "scatter"
           }
          ],
          "scatter3d": [
           {
            "line": {
             "colorbar": {
              "outlinewidth": 0,
              "ticks": ""
             }
            },
            "marker": {
             "colorbar": {
              "outlinewidth": 0,
              "ticks": ""
             }
            },
            "type": "scatter3d"
           }
          ],
          "scattercarpet": [
           {
            "marker": {
             "colorbar": {
              "outlinewidth": 0,
              "ticks": ""
             }
            },
            "type": "scattercarpet"
           }
          ],
          "scattergeo": [
           {
            "marker": {
             "colorbar": {
              "outlinewidth": 0,
              "ticks": ""
             }
            },
            "type": "scattergeo"
           }
          ],
          "scattergl": [
           {
            "marker": {
             "colorbar": {
              "outlinewidth": 0,
              "ticks": ""
             }
            },
            "type": "scattergl"
           }
          ],
          "scattermap": [
           {
            "marker": {
             "colorbar": {
              "outlinewidth": 0,
              "ticks": ""
             }
            },
            "type": "scattermap"
           }
          ],
          "scattermapbox": [
           {
            "marker": {
             "colorbar": {
              "outlinewidth": 0,
              "ticks": ""
             }
            },
            "type": "scattermapbox"
           }
          ],
          "scatterpolar": [
           {
            "marker": {
             "colorbar": {
              "outlinewidth": 0,
              "ticks": ""
             }
            },
            "type": "scatterpolar"
           }
          ],
          "scatterpolargl": [
           {
            "marker": {
             "colorbar": {
              "outlinewidth": 0,
              "ticks": ""
             }
            },
            "type": "scatterpolargl"
           }
          ],
          "scatterternary": [
           {
            "marker": {
             "colorbar": {
              "outlinewidth": 0,
              "ticks": ""
             }
            },
            "type": "scatterternary"
           }
          ],
          "surface": [
           {
            "colorbar": {
             "outlinewidth": 0,
             "ticks": ""
            },
            "colorscale": [
             [
              0,
              "#0d0887"
             ],
             [
              0.1111111111111111,
              "#46039f"
             ],
             [
              0.2222222222222222,
              "#7201a8"
             ],
             [
              0.3333333333333333,
              "#9c179e"
             ],
             [
              0.4444444444444444,
              "#bd3786"
             ],
             [
              0.5555555555555556,
              "#d8576b"
             ],
             [
              0.6666666666666666,
              "#ed7953"
             ],
             [
              0.7777777777777778,
              "#fb9f3a"
             ],
             [
              0.8888888888888888,
              "#fdca26"
             ],
             [
              1,
              "#f0f921"
             ]
            ],
            "type": "surface"
           }
          ],
          "table": [
           {
            "cells": {
             "fill": {
              "color": "#EBF0F8"
             },
             "line": {
              "color": "white"
             }
            },
            "header": {
             "fill": {
              "color": "#C8D4E3"
             },
             "line": {
              "color": "white"
             }
            },
            "type": "table"
           }
          ]
         },
         "layout": {
          "annotationdefaults": {
           "arrowcolor": "#2a3f5f",
           "arrowhead": 0,
           "arrowwidth": 1
          },
          "autotypenumbers": "strict",
          "coloraxis": {
           "colorbar": {
            "outlinewidth": 0,
            "ticks": ""
           }
          },
          "colorscale": {
           "diverging": [
            [
             0,
             "#8e0152"
            ],
            [
             0.1,
             "#c51b7d"
            ],
            [
             0.2,
             "#de77ae"
            ],
            [
             0.3,
             "#f1b6da"
            ],
            [
             0.4,
             "#fde0ef"
            ],
            [
             0.5,
             "#f7f7f7"
            ],
            [
             0.6,
             "#e6f5d0"
            ],
            [
             0.7,
             "#b8e186"
            ],
            [
             0.8,
             "#7fbc41"
            ],
            [
             0.9,
             "#4d9221"
            ],
            [
             1,
             "#276419"
            ]
           ],
           "sequential": [
            [
             0,
             "#0d0887"
            ],
            [
             0.1111111111111111,
             "#46039f"
            ],
            [
             0.2222222222222222,
             "#7201a8"
            ],
            [
             0.3333333333333333,
             "#9c179e"
            ],
            [
             0.4444444444444444,
             "#bd3786"
            ],
            [
             0.5555555555555556,
             "#d8576b"
            ],
            [
             0.6666666666666666,
             "#ed7953"
            ],
            [
             0.7777777777777778,
             "#fb9f3a"
            ],
            [
             0.8888888888888888,
             "#fdca26"
            ],
            [
             1,
             "#f0f921"
            ]
           ],
           "sequentialminus": [
            [
             0,
             "#0d0887"
            ],
            [
             0.1111111111111111,
             "#46039f"
            ],
            [
             0.2222222222222222,
             "#7201a8"
            ],
            [
             0.3333333333333333,
             "#9c179e"
            ],
            [
             0.4444444444444444,
             "#bd3786"
            ],
            [
             0.5555555555555556,
             "#d8576b"
            ],
            [
             0.6666666666666666,
             "#ed7953"
            ],
            [
             0.7777777777777778,
             "#fb9f3a"
            ],
            [
             0.8888888888888888,
             "#fdca26"
            ],
            [
             1,
             "#f0f921"
            ]
           ]
          },
          "colorway": [
           "#636efa",
           "#EF553B",
           "#00cc96",
           "#ab63fa",
           "#FFA15A",
           "#19d3f3",
           "#FF6692",
           "#B6E880",
           "#FF97FF",
           "#FECB52"
          ],
          "font": {
           "color": "#2a3f5f"
          },
          "geo": {
           "bgcolor": "white",
           "lakecolor": "white",
           "landcolor": "white",
           "showlakes": true,
           "showland": true,
           "subunitcolor": "#C8D4E3"
          },
          "hoverlabel": {
           "align": "left"
          },
          "hovermode": "closest",
          "mapbox": {
           "style": "light"
          },
          "paper_bgcolor": "white",
          "plot_bgcolor": "white",
          "polar": {
           "angularaxis": {
            "gridcolor": "#EBF0F8",
            "linecolor": "#EBF0F8",
            "ticks": ""
           },
           "bgcolor": "white",
           "radialaxis": {
            "gridcolor": "#EBF0F8",
            "linecolor": "#EBF0F8",
            "ticks": ""
           }
          },
          "scene": {
           "xaxis": {
            "backgroundcolor": "white",
            "gridcolor": "#DFE8F3",
            "gridwidth": 2,
            "linecolor": "#EBF0F8",
            "showbackground": true,
            "ticks": "",
            "zerolinecolor": "#EBF0F8"
           },
           "yaxis": {
            "backgroundcolor": "white",
            "gridcolor": "#DFE8F3",
            "gridwidth": 2,
            "linecolor": "#EBF0F8",
            "showbackground": true,
            "ticks": "",
            "zerolinecolor": "#EBF0F8"
           },
           "zaxis": {
            "backgroundcolor": "white",
            "gridcolor": "#DFE8F3",
            "gridwidth": 2,
            "linecolor": "#EBF0F8",
            "showbackground": true,
            "ticks": "",
            "zerolinecolor": "#EBF0F8"
           }
          },
          "shapedefaults": {
           "line": {
            "color": "#2a3f5f"
           }
          },
          "ternary": {
           "aaxis": {
            "gridcolor": "#DFE8F3",
            "linecolor": "#A2B1C6",
            "ticks": ""
           },
           "baxis": {
            "gridcolor": "#DFE8F3",
            "linecolor": "#A2B1C6",
            "ticks": ""
           },
           "bgcolor": "white",
           "caxis": {
            "gridcolor": "#DFE8F3",
            "linecolor": "#A2B1C6",
            "ticks": ""
           }
          },
          "title": {
           "x": 0.05
          },
          "xaxis": {
           "automargin": true,
           "gridcolor": "#EBF0F8",
           "linecolor": "#EBF0F8",
           "ticks": "",
           "title": {
            "standoff": 15
           },
           "zerolinecolor": "#EBF0F8",
           "zerolinewidth": 2
          },
          "yaxis": {
           "automargin": true,
           "gridcolor": "#EBF0F8",
           "linecolor": "#EBF0F8",
           "ticks": "",
           "title": {
            "standoff": 15
           },
           "zerolinecolor": "#EBF0F8",
           "zerolinewidth": 2
          }
         }
        },
        "title": {
         "text": "📊 Comparison of EV Penetration Rates (2022 vs 2023)"
        },
        "xaxis": {
         "anchor": "y",
         "domain": [
          0,
          1
         ],
         "title": {
          "text": "State"
         }
        },
        "yaxis": {
         "anchor": "x",
         "domain": [
          0,
          1
         ],
         "title": {
          "text": "EV Penetration Rate"
         }
        }
       }
      }
     },
     "metadata": {},
     "output_type": "display_data"
    }
   ],
   "source": [
    "fig_bar = px.bar(\n",
    "    yearly_22_23,\n",
    "    x='state',\n",
    "    y='ev_penetration_rate',\n",
    "    color='year',\n",
    "    barmode='group',\n",
    "    text=yearly_22_23['ev_penetration_rate'].apply(lambda x: f\"{x:.4f}\"),\n",
    "    title=\"📊 Comparison of EV Penetration Rates (2022 vs 2023)\",\n",
    "    labels={\n",
    "        'ev_penetration_rate': 'EV Penetration Rate',\n",
    "        'state': 'State',\n",
    "        'year': 'Year'\n",
    "    },\n",
    "    color_discrete_map={2022: '#2ecc71', 2023: '#e74c3c'}\n",
    ")\n",
    "\n",
    "fig_bar.update_traces(textposition='outside')\n",
    "fig_bar.update_layout(\n",
    "    template=\"plotly_white\",\n",
    "    yaxis_title='EV Penetration Rate',\n",
    "    xaxis_title='State',\n",
    "    height=600\n",
    ")\n",
    "\n",
    "fig_bar.show()\n"
   ]
  },
  {
   "cell_type": "code",
   "execution_count": 18,
   "id": "d7fdbb6a",
   "metadata": {},
   "outputs": [],
   "source": [
    "df = pd.read_csv('../../data/processed/ev_sales_by_state_enhanced_20250806.csv')"
   ]
  },
  {
   "cell_type": "code",
   "execution_count": 19,
   "id": "6b8fd0cd",
   "metadata": {},
   "outputs": [],
   "source": [
    "# Filter for 2024 and the 4 target states\n",
    "focus_states = [\"Ladakh\", \"Haryana\", \"Jammu and Kashmir\", \"Uttarakhand\"]\n",
    "df_2024 = df[(df[\"year\"] == 2024) & (df[\"state\"].isin(focus_states))]"
   ]
  },
  {
   "cell_type": "code",
   "execution_count": 20,
   "id": "3b896840",
   "metadata": {},
   "outputs": [
    {
     "data": {
      "application/vnd.plotly.v1+json": {
       "config": {
        "plotlyServerURL": "https://plot.ly"
       },
       "data": [
        {
         "hovertemplate": "State=%{x}<br>EV Penetration Rate=%{y}<extra></extra>",
         "legendgroup": "Ladakh",
         "marker": {
          "color": "#636efa",
          "pattern": {
           "shape": ""
          }
         },
         "name": "Ladakh",
         "orientation": "v",
         "showlegend": true,
         "textposition": "auto",
         "type": "bar",
         "x": [
          "Ladakh"
         ],
         "xaxis": "x",
         "y": {
          "bdata": "TwJxoeYksD8=",
          "dtype": "f8"
         },
         "yaxis": "y"
        },
        {
         "hovertemplate": "State=%{x}<br>EV Penetration Rate=%{y}<extra></extra>",
         "legendgroup": "Uttarakhand",
         "marker": {
          "color": "#EF553B",
          "pattern": {
           "shape": ""
          }
         },
         "name": "Uttarakhand",
         "orientation": "v",
         "showlegend": true,
         "textposition": "auto",
         "type": "bar",
         "x": [
          "Uttarakhand"
         ],
         "xaxis": "x",
         "y": {
          "bdata": "/W3xsu7nmT8=",
          "dtype": "f8"
         },
         "yaxis": "y"
        },
        {
         "hovertemplate": "State=%{x}<br>EV Penetration Rate=%{y}<extra></extra>",
         "legendgroup": "Jammu and Kashmir",
         "marker": {
          "color": "#00cc96",
          "pattern": {
           "shape": ""
          }
         },
         "name": "Jammu and Kashmir",
         "orientation": "v",
         "showlegend": true,
         "textposition": "auto",
         "type": "bar",
         "x": [
          "Jammu and Kashmir"
         ],
         "xaxis": "x",
         "y": {
          "bdata": "Y524CumumT8=",
          "dtype": "f8"
         },
         "yaxis": "y"
        },
        {
         "hovertemplate": "State=%{x}<br>EV Penetration Rate=%{y}<extra></extra>",
         "legendgroup": "Haryana",
         "marker": {
          "color": "#ab63fa",
          "pattern": {
           "shape": ""
          }
         },
         "name": "Haryana",
         "orientation": "v",
         "showlegend": true,
         "textposition": "auto",
         "type": "bar",
         "x": [
          "Haryana"
         ],
         "xaxis": "x",
         "y": {
          "bdata": "/GRoFhZrlT8=",
          "dtype": "f8"
         },
         "yaxis": "y"
        }
       ],
       "layout": {
        "barmode": "relative",
        "height": 450,
        "legend": {
         "title": {
          "text": "State"
         },
         "tracegroupgap": 0
        },
        "showlegend": false,
        "template": {
         "data": {
          "bar": [
           {
            "error_x": {
             "color": "#2a3f5f"
            },
            "error_y": {
             "color": "#2a3f5f"
            },
            "marker": {
             "line": {
              "color": "white",
              "width": 0.5
             },
             "pattern": {
              "fillmode": "overlay",
              "size": 10,
              "solidity": 0.2
             }
            },
            "type": "bar"
           }
          ],
          "barpolar": [
           {
            "marker": {
             "line": {
              "color": "white",
              "width": 0.5
             },
             "pattern": {
              "fillmode": "overlay",
              "size": 10,
              "solidity": 0.2
             }
            },
            "type": "barpolar"
           }
          ],
          "carpet": [
           {
            "aaxis": {
             "endlinecolor": "#2a3f5f",
             "gridcolor": "#C8D4E3",
             "linecolor": "#C8D4E3",
             "minorgridcolor": "#C8D4E3",
             "startlinecolor": "#2a3f5f"
            },
            "baxis": {
             "endlinecolor": "#2a3f5f",
             "gridcolor": "#C8D4E3",
             "linecolor": "#C8D4E3",
             "minorgridcolor": "#C8D4E3",
             "startlinecolor": "#2a3f5f"
            },
            "type": "carpet"
           }
          ],
          "choropleth": [
           {
            "colorbar": {
             "outlinewidth": 0,
             "ticks": ""
            },
            "type": "choropleth"
           }
          ],
          "contour": [
           {
            "colorbar": {
             "outlinewidth": 0,
             "ticks": ""
            },
            "colorscale": [
             [
              0,
              "#0d0887"
             ],
             [
              0.1111111111111111,
              "#46039f"
             ],
             [
              0.2222222222222222,
              "#7201a8"
             ],
             [
              0.3333333333333333,
              "#9c179e"
             ],
             [
              0.4444444444444444,
              "#bd3786"
             ],
             [
              0.5555555555555556,
              "#d8576b"
             ],
             [
              0.6666666666666666,
              "#ed7953"
             ],
             [
              0.7777777777777778,
              "#fb9f3a"
             ],
             [
              0.8888888888888888,
              "#fdca26"
             ],
             [
              1,
              "#f0f921"
             ]
            ],
            "type": "contour"
           }
          ],
          "contourcarpet": [
           {
            "colorbar": {
             "outlinewidth": 0,
             "ticks": ""
            },
            "type": "contourcarpet"
           }
          ],
          "heatmap": [
           {
            "colorbar": {
             "outlinewidth": 0,
             "ticks": ""
            },
            "colorscale": [
             [
              0,
              "#0d0887"
             ],
             [
              0.1111111111111111,
              "#46039f"
             ],
             [
              0.2222222222222222,
              "#7201a8"
             ],
             [
              0.3333333333333333,
              "#9c179e"
             ],
             [
              0.4444444444444444,
              "#bd3786"
             ],
             [
              0.5555555555555556,
              "#d8576b"
             ],
             [
              0.6666666666666666,
              "#ed7953"
             ],
             [
              0.7777777777777778,
              "#fb9f3a"
             ],
             [
              0.8888888888888888,
              "#fdca26"
             ],
             [
              1,
              "#f0f921"
             ]
            ],
            "type": "heatmap"
           }
          ],
          "histogram": [
           {
            "marker": {
             "pattern": {
              "fillmode": "overlay",
              "size": 10,
              "solidity": 0.2
             }
            },
            "type": "histogram"
           }
          ],
          "histogram2d": [
           {
            "colorbar": {
             "outlinewidth": 0,
             "ticks": ""
            },
            "colorscale": [
             [
              0,
              "#0d0887"
             ],
             [
              0.1111111111111111,
              "#46039f"
             ],
             [
              0.2222222222222222,
              "#7201a8"
             ],
             [
              0.3333333333333333,
              "#9c179e"
             ],
             [
              0.4444444444444444,
              "#bd3786"
             ],
             [
              0.5555555555555556,
              "#d8576b"
             ],
             [
              0.6666666666666666,
              "#ed7953"
             ],
             [
              0.7777777777777778,
              "#fb9f3a"
             ],
             [
              0.8888888888888888,
              "#fdca26"
             ],
             [
              1,
              "#f0f921"
             ]
            ],
            "type": "histogram2d"
           }
          ],
          "histogram2dcontour": [
           {
            "colorbar": {
             "outlinewidth": 0,
             "ticks": ""
            },
            "colorscale": [
             [
              0,
              "#0d0887"
             ],
             [
              0.1111111111111111,
              "#46039f"
             ],
             [
              0.2222222222222222,
              "#7201a8"
             ],
             [
              0.3333333333333333,
              "#9c179e"
             ],
             [
              0.4444444444444444,
              "#bd3786"
             ],
             [
              0.5555555555555556,
              "#d8576b"
             ],
             [
              0.6666666666666666,
              "#ed7953"
             ],
             [
              0.7777777777777778,
              "#fb9f3a"
             ],
             [
              0.8888888888888888,
              "#fdca26"
             ],
             [
              1,
              "#f0f921"
             ]
            ],
            "type": "histogram2dcontour"
           }
          ],
          "mesh3d": [
           {
            "colorbar": {
             "outlinewidth": 0,
             "ticks": ""
            },
            "type": "mesh3d"
           }
          ],
          "parcoords": [
           {
            "line": {
             "colorbar": {
              "outlinewidth": 0,
              "ticks": ""
             }
            },
            "type": "parcoords"
           }
          ],
          "pie": [
           {
            "automargin": true,
            "type": "pie"
           }
          ],
          "scatter": [
           {
            "fillpattern": {
             "fillmode": "overlay",
             "size": 10,
             "solidity": 0.2
            },
            "type": "scatter"
           }
          ],
          "scatter3d": [
           {
            "line": {
             "colorbar": {
              "outlinewidth": 0,
              "ticks": ""
             }
            },
            "marker": {
             "colorbar": {
              "outlinewidth": 0,
              "ticks": ""
             }
            },
            "type": "scatter3d"
           }
          ],
          "scattercarpet": [
           {
            "marker": {
             "colorbar": {
              "outlinewidth": 0,
              "ticks": ""
             }
            },
            "type": "scattercarpet"
           }
          ],
          "scattergeo": [
           {
            "marker": {
             "colorbar": {
              "outlinewidth": 0,
              "ticks": ""
             }
            },
            "type": "scattergeo"
           }
          ],
          "scattergl": [
           {
            "marker": {
             "colorbar": {
              "outlinewidth": 0,
              "ticks": ""
             }
            },
            "type": "scattergl"
           }
          ],
          "scattermap": [
           {
            "marker": {
             "colorbar": {
              "outlinewidth": 0,
              "ticks": ""
             }
            },
            "type": "scattermap"
           }
          ],
          "scattermapbox": [
           {
            "marker": {
             "colorbar": {
              "outlinewidth": 0,
              "ticks": ""
             }
            },
            "type": "scattermapbox"
           }
          ],
          "scatterpolar": [
           {
            "marker": {
             "colorbar": {
              "outlinewidth": 0,
              "ticks": ""
             }
            },
            "type": "scatterpolar"
           }
          ],
          "scatterpolargl": [
           {
            "marker": {
             "colorbar": {
              "outlinewidth": 0,
              "ticks": ""
             }
            },
            "type": "scatterpolargl"
           }
          ],
          "scatterternary": [
           {
            "marker": {
             "colorbar": {
              "outlinewidth": 0,
              "ticks": ""
             }
            },
            "type": "scatterternary"
           }
          ],
          "surface": [
           {
            "colorbar": {
             "outlinewidth": 0,
             "ticks": ""
            },
            "colorscale": [
             [
              0,
              "#0d0887"
             ],
             [
              0.1111111111111111,
              "#46039f"
             ],
             [
              0.2222222222222222,
              "#7201a8"
             ],
             [
              0.3333333333333333,
              "#9c179e"
             ],
             [
              0.4444444444444444,
              "#bd3786"
             ],
             [
              0.5555555555555556,
              "#d8576b"
             ],
             [
              0.6666666666666666,
              "#ed7953"
             ],
             [
              0.7777777777777778,
              "#fb9f3a"
             ],
             [
              0.8888888888888888,
              "#fdca26"
             ],
             [
              1,
              "#f0f921"
             ]
            ],
            "type": "surface"
           }
          ],
          "table": [
           {
            "cells": {
             "fill": {
              "color": "#EBF0F8"
             },
             "line": {
              "color": "white"
             }
            },
            "header": {
             "fill": {
              "color": "#C8D4E3"
             },
             "line": {
              "color": "white"
             }
            },
            "type": "table"
           }
          ]
         },
         "layout": {
          "annotationdefaults": {
           "arrowcolor": "#2a3f5f",
           "arrowhead": 0,
           "arrowwidth": 1
          },
          "autotypenumbers": "strict",
          "coloraxis": {
           "colorbar": {
            "outlinewidth": 0,
            "ticks": ""
           }
          },
          "colorscale": {
           "diverging": [
            [
             0,
             "#8e0152"
            ],
            [
             0.1,
             "#c51b7d"
            ],
            [
             0.2,
             "#de77ae"
            ],
            [
             0.3,
             "#f1b6da"
            ],
            [
             0.4,
             "#fde0ef"
            ],
            [
             0.5,
             "#f7f7f7"
            ],
            [
             0.6,
             "#e6f5d0"
            ],
            [
             0.7,
             "#b8e186"
            ],
            [
             0.8,
             "#7fbc41"
            ],
            [
             0.9,
             "#4d9221"
            ],
            [
             1,
             "#276419"
            ]
           ],
           "sequential": [
            [
             0,
             "#0d0887"
            ],
            [
             0.1111111111111111,
             "#46039f"
            ],
            [
             0.2222222222222222,
             "#7201a8"
            ],
            [
             0.3333333333333333,
             "#9c179e"
            ],
            [
             0.4444444444444444,
             "#bd3786"
            ],
            [
             0.5555555555555556,
             "#d8576b"
            ],
            [
             0.6666666666666666,
             "#ed7953"
            ],
            [
             0.7777777777777778,
             "#fb9f3a"
            ],
            [
             0.8888888888888888,
             "#fdca26"
            ],
            [
             1,
             "#f0f921"
            ]
           ],
           "sequentialminus": [
            [
             0,
             "#0d0887"
            ],
            [
             0.1111111111111111,
             "#46039f"
            ],
            [
             0.2222222222222222,
             "#7201a8"
            ],
            [
             0.3333333333333333,
             "#9c179e"
            ],
            [
             0.4444444444444444,
             "#bd3786"
            ],
            [
             0.5555555555555556,
             "#d8576b"
            ],
            [
             0.6666666666666666,
             "#ed7953"
            ],
            [
             0.7777777777777778,
             "#fb9f3a"
            ],
            [
             0.8888888888888888,
             "#fdca26"
            ],
            [
             1,
             "#f0f921"
            ]
           ]
          },
          "colorway": [
           "#636efa",
           "#EF553B",
           "#00cc96",
           "#ab63fa",
           "#FFA15A",
           "#19d3f3",
           "#FF6692",
           "#B6E880",
           "#FF97FF",
           "#FECB52"
          ],
          "font": {
           "color": "#2a3f5f"
          },
          "geo": {
           "bgcolor": "white",
           "lakecolor": "white",
           "landcolor": "white",
           "showlakes": true,
           "showland": true,
           "subunitcolor": "#C8D4E3"
          },
          "hoverlabel": {
           "align": "left"
          },
          "hovermode": "closest",
          "mapbox": {
           "style": "light"
          },
          "paper_bgcolor": "white",
          "plot_bgcolor": "white",
          "polar": {
           "angularaxis": {
            "gridcolor": "#EBF0F8",
            "linecolor": "#EBF0F8",
            "ticks": ""
           },
           "bgcolor": "white",
           "radialaxis": {
            "gridcolor": "#EBF0F8",
            "linecolor": "#EBF0F8",
            "ticks": ""
           }
          },
          "scene": {
           "xaxis": {
            "backgroundcolor": "white",
            "gridcolor": "#DFE8F3",
            "gridwidth": 2,
            "linecolor": "#EBF0F8",
            "showbackground": true,
            "ticks": "",
            "zerolinecolor": "#EBF0F8"
           },
           "yaxis": {
            "backgroundcolor": "white",
            "gridcolor": "#DFE8F3",
            "gridwidth": 2,
            "linecolor": "#EBF0F8",
            "showbackground": true,
            "ticks": "",
            "zerolinecolor": "#EBF0F8"
           },
           "zaxis": {
            "backgroundcolor": "white",
            "gridcolor": "#DFE8F3",
            "gridwidth": 2,
            "linecolor": "#EBF0F8",
            "showbackground": true,
            "ticks": "",
            "zerolinecolor": "#EBF0F8"
           }
          },
          "shapedefaults": {
           "line": {
            "color": "#2a3f5f"
           }
          },
          "ternary": {
           "aaxis": {
            "gridcolor": "#DFE8F3",
            "linecolor": "#A2B1C6",
            "ticks": ""
           },
           "baxis": {
            "gridcolor": "#DFE8F3",
            "linecolor": "#A2B1C6",
            "ticks": ""
           },
           "bgcolor": "white",
           "caxis": {
            "gridcolor": "#DFE8F3",
            "linecolor": "#A2B1C6",
            "ticks": ""
           }
          },
          "title": {
           "x": 0.05
          },
          "xaxis": {
           "automargin": true,
           "gridcolor": "#EBF0F8",
           "linecolor": "#EBF0F8",
           "ticks": "",
           "title": {
            "standoff": 15
           },
           "zerolinecolor": "#EBF0F8",
           "zerolinewidth": 2
          },
          "yaxis": {
           "automargin": true,
           "gridcolor": "#EBF0F8",
           "linecolor": "#EBF0F8",
           "ticks": "",
           "title": {
            "standoff": 15
           },
           "zerolinecolor": "#EBF0F8",
           "zerolinewidth": 2
          }
         }
        },
        "title": {
         "text": "📈 EV Penetration Rate in 2024 for Ladakh, Haryana, Jammu & Kashmir, and Uttarakhand"
        },
        "xaxis": {
         "anchor": "y",
         "categoryarray": [
          "Ladakh",
          "Uttarakhand",
          "Jammu and Kashmir",
          "Haryana"
         ],
         "categoryorder": "array",
         "domain": [
          0,
          1
         ],
         "tickangle": -30,
         "title": {
          "text": "State"
         }
        },
        "yaxis": {
         "anchor": "x",
         "domain": [
          0,
          1
         ],
         "title": {
          "text": "EV Penetration Rate"
         }
        }
       }
      }
     },
     "metadata": {},
     "output_type": "display_data"
    }
   ],
   "source": [
    "\n",
    "# Compute average EV penetration for 2024\n",
    "avg_2024 = df_2024.groupby(\"state\")[\"ev_penetration_rate\"].mean().reset_index()\n",
    "\n",
    "# Plot using Plotly\n",
    "fig = px.bar(\n",
    "    avg_2024.sort_values(\"ev_penetration_rate\", ascending=False),\n",
    "    x=\"state\",\n",
    "    y=\"ev_penetration_rate\",\n",
    "    color=\"state\",\n",
    "    title=\"📈 EV Penetration Rate in 2024 for Ladakh, Haryana, Jammu & Kashmir, and Uttarakhand\",\n",
    "    labels={\"ev_penetration_rate\": \"EV Penetration Rate\", \"state\": \"State\"},\n",
    "    template=\"plotly_white\"\n",
    ")\n",
    "fig.update_layout(showlegend=False, height=450, xaxis_tickangle=-30)\n",
    "\n",
    "fig.show()"
   ]
  },
  {
   "cell_type": "code",
   "execution_count": 30,
   "id": "2be5affa",
   "metadata": {},
   "outputs": [
    {
     "data": {
      "application/vnd.plotly.v1+json": {
       "config": {
        "plotlyServerURL": "https://plot.ly"
       },
       "data": [
        {
         "hovertemplate": "state=Haryana<br>Month=%{x}<br>Change in EV Penetration=%{y}<extra></extra>",
         "legendgroup": "Haryana",
         "line": {
          "color": "#636efa",
          "dash": "solid"
         },
         "marker": {
          "symbol": "circle"
         },
         "mode": "lines+markers",
         "name": "Haryana",
         "orientation": "v",
         "showlegend": true,
         "type": "scatter",
         "x": [
          "2021-04-01T00:00:00.000000000",
          "2021-05-01T00:00:00.000000000",
          "2021-06-01T00:00:00.000000000",
          "2021-07-01T00:00:00.000000000",
          "2021-08-01T00:00:00.000000000",
          "2021-09-01T00:00:00.000000000",
          "2021-10-01T00:00:00.000000000",
          "2021-11-01T00:00:00.000000000",
          "2021-12-01T00:00:00.000000000",
          "2022-01-01T00:00:00.000000000",
          "2022-02-01T00:00:00.000000000",
          "2022-03-01T00:00:00.000000000",
          "2022-04-01T00:00:00.000000000",
          "2022-05-01T00:00:00.000000000",
          "2022-06-01T00:00:00.000000000",
          "2022-07-01T00:00:00.000000000",
          "2022-08-01T00:00:00.000000000",
          "2022-09-01T00:00:00.000000000",
          "2022-10-01T00:00:00.000000000",
          "2022-11-01T00:00:00.000000000",
          "2022-12-01T00:00:00.000000000",
          "2023-01-01T00:00:00.000000000",
          "2023-02-01T00:00:00.000000000",
          "2023-03-01T00:00:00.000000000",
          "2023-04-01T00:00:00.000000000",
          "2023-05-01T00:00:00.000000000",
          "2023-06-01T00:00:00.000000000",
          "2023-07-01T00:00:00.000000000",
          "2023-08-01T00:00:00.000000000",
          "2023-09-01T00:00:00.000000000",
          "2023-10-01T00:00:00.000000000",
          "2023-11-01T00:00:00.000000000",
          "2023-12-01T00:00:00.000000000",
          "2024-01-01T00:00:00.000000000",
          "2024-02-01T00:00:00.000000000",
          "2024-03-01T00:00:00.000000000"
         ],
         "xaxis": "x",
         "y": {
          "bdata": "AAAAAAAA+H+gZ1JL0jI9v0BhYQ4l/P8+dE3PLXfSWj+AGAsjXhdyP8pe/117eWw/yDTMyJUSUr+Qvy9DovpCPxjdCzo7dly/KD1pFn4TZj+EhwtqGrlmP6xNYRGaZGo/SISOCSMcaD8ggbje1I5Pv/gVdBRnhmW/GEeefSCAU7+sY36Z/wlmPwBMjXIeKP0+wDE7YYFOOL9ICWzvzQRov/AMXGmDVl0/WEzFGk7kYL8wxlU2rwlSP4ySAZo4OXk/oPREtimzXb/AZuKvdP8wP3l/a2IoP4C/bMp23CNlbb8gL9ddnPA2P3ARSQs0W22/1Hy17A3wfz+4x0BsqO9cv5gbLzCy3Fc/ZndWX+/8ej8ABcosK2RAP3AZPqDaKWg/",
          "dtype": "f8"
         },
         "yaxis": "y"
        },
        {
         "hovertemplate": "state=Jammu and Kashmir<br>Month=%{x}<br>Change in EV Penetration=%{y}<extra></extra>",
         "legendgroup": "Jammu and Kashmir",
         "line": {
          "color": "#EF553B",
          "dash": "solid"
         },
         "marker": {
          "symbol": "circle"
         },
         "mode": "lines+markers",
         "name": "Jammu and Kashmir",
         "orientation": "v",
         "showlegend": true,
         "type": "scatter",
         "x": [
          "2021-04-01T00:00:00.000000000",
          "2021-05-01T00:00:00.000000000",
          "2021-06-01T00:00:00.000000000",
          "2021-07-01T00:00:00.000000000",
          "2021-08-01T00:00:00.000000000",
          "2021-09-01T00:00:00.000000000",
          "2021-10-01T00:00:00.000000000",
          "2021-11-01T00:00:00.000000000",
          "2021-12-01T00:00:00.000000000",
          "2022-01-01T00:00:00.000000000",
          "2022-02-01T00:00:00.000000000",
          "2022-03-01T00:00:00.000000000",
          "2022-04-01T00:00:00.000000000",
          "2022-05-01T00:00:00.000000000",
          "2022-06-01T00:00:00.000000000",
          "2022-07-01T00:00:00.000000000",
          "2022-08-01T00:00:00.000000000",
          "2022-09-01T00:00:00.000000000",
          "2022-10-01T00:00:00.000000000",
          "2022-11-01T00:00:00.000000000",
          "2022-12-01T00:00:00.000000000",
          "2023-01-01T00:00:00.000000000",
          "2023-02-01T00:00:00.000000000",
          "2023-03-01T00:00:00.000000000",
          "2023-04-01T00:00:00.000000000",
          "2023-05-01T00:00:00.000000000",
          "2023-06-01T00:00:00.000000000",
          "2023-07-01T00:00:00.000000000",
          "2023-08-01T00:00:00.000000000",
          "2023-09-01T00:00:00.000000000",
          "2023-10-01T00:00:00.000000000",
          "2023-11-01T00:00:00.000000000",
          "2023-12-01T00:00:00.000000000",
          "2024-01-01T00:00:00.000000000",
          "2024-02-01T00:00:00.000000000",
          "2024-03-01T00:00:00.000000000"
         ],
         "xaxis": "x",
         "y": {
          "bdata": "AAAAAAAA+H+yTRWN73GHP/gQtyTfOYC/cF/etqiJdD/JdcocVn1wv4FbxOSGOXM/UDrIkylfUD9EsNTiPxKAv4KuihvthoM/rJJ/biEfZ7+giLBE2wRBPzxB6PN82YI/YvnwOnCrib+QlhShkntSvyibhz/VeW0/0Bp8M1P6gT8bv4zabwKCv0BHiN8UgWs/+Ap6lhCCVD9kiF2XPzR4P2AwvG20g1e/Lm9fezeocb8Q0vydwdRNPwh4nES2A1y/LDKGTWI0aT9Qma+ZN1Ndv9hBFbYEEWm/XoRo+9qRcr/gyWIp7yhJv3jER6ciD0I/jv6XpiiZbD/AexN/hGo5P/jgegytlWk/UjS9pX2lhD8QJdQUji1RP9CshwP031a/",
          "dtype": "f8"
         },
         "yaxis": "y"
        },
        {
         "hovertemplate": "state=Ladakh<br>Month=%{x}<br>Change in EV Penetration=%{y}<extra></extra>",
         "legendgroup": "Ladakh",
         "line": {
          "color": "#00cc96",
          "dash": "solid"
         },
         "marker": {
          "symbol": "circle"
         },
         "mode": "lines+markers",
         "name": "Ladakh",
         "orientation": "v",
         "showlegend": true,
         "type": "scatter",
         "x": [
          "2021-04-01T00:00:00.000000000",
          "2021-05-01T00:00:00.000000000",
          "2021-06-01T00:00:00.000000000",
          "2021-07-01T00:00:00.000000000",
          "2021-08-01T00:00:00.000000000",
          "2021-09-01T00:00:00.000000000",
          "2021-10-01T00:00:00.000000000",
          "2021-11-01T00:00:00.000000000",
          "2021-12-01T00:00:00.000000000",
          "2022-01-01T00:00:00.000000000",
          "2022-02-01T00:00:00.000000000",
          "2022-03-01T00:00:00.000000000",
          "2022-04-01T00:00:00.000000000",
          "2022-05-01T00:00:00.000000000",
          "2022-06-01T00:00:00.000000000",
          "2022-07-01T00:00:00.000000000",
          "2022-08-01T00:00:00.000000000",
          "2022-09-01T00:00:00.000000000",
          "2022-10-01T00:00:00.000000000",
          "2022-11-01T00:00:00.000000000",
          "2022-12-01T00:00:00.000000000",
          "2023-01-01T00:00:00.000000000",
          "2023-02-01T00:00:00.000000000",
          "2023-03-01T00:00:00.000000000",
          "2023-04-01T00:00:00.000000000",
          "2023-05-01T00:00:00.000000000",
          "2023-06-01T00:00:00.000000000",
          "2023-07-01T00:00:00.000000000",
          "2023-08-01T00:00:00.000000000",
          "2023-09-01T00:00:00.000000000",
          "2023-10-01T00:00:00.000000000",
          "2023-11-01T00:00:00.000000000",
          "2023-12-01T00:00:00.000000000",
          "2024-01-01T00:00:00.000000000",
          "2024-02-01T00:00:00.000000000",
          "2024-03-01T00:00:00.000000000"
         ],
         "xaxis": "x",
         "y": {
          "bdata": "AAAAAAAA+H8AAAAAAAAAAAAAAAAAAAAAAAAAAAAAAAAAAAAAAAAAAAAAAAAAAAAAVVVVVVVVxT9VVVVVVVXFvwAAAAAAAAAAMzMzMzMzwz8zMzMzMzPDvwAAAAAAAAAAAAAAAAAAAAAAAAAAAAAAAKI217hdTIg/N/0WBpC0hL+BAYpH0KqOP3YdJf1OIZG/AAAAAAAAAAAAAAAAAAAAAAAAAAAAAAAAmpmZmZmZmT+amZmZmZmZvwAAAAAAAAAAAAAAAAAAAABiIQtZyEKmPwH6lPagzKO/qBiBERiBQb/2F4ERGIFxvwAAAAAAAAAAAAAAAAAAAAAAAAAAAAAAAAAAAAAAAAAAdoMp8lk3yD92gynyWTfIvwAAAAAAAAAA",
          "dtype": "f8"
         },
         "yaxis": "y"
        },
        {
         "hovertemplate": "state=Uttarakhand<br>Month=%{x}<br>Change in EV Penetration=%{y}<extra></extra>",
         "legendgroup": "Uttarakhand",
         "line": {
          "color": "#ab63fa",
          "dash": "solid"
         },
         "marker": {
          "symbol": "circle"
         },
         "mode": "lines+markers",
         "name": "Uttarakhand",
         "orientation": "v",
         "showlegend": true,
         "type": "scatter",
         "x": [
          "2021-04-01T00:00:00.000000000",
          "2021-05-01T00:00:00.000000000",
          "2021-06-01T00:00:00.000000000",
          "2021-07-01T00:00:00.000000000",
          "2021-08-01T00:00:00.000000000",
          "2021-09-01T00:00:00.000000000",
          "2021-10-01T00:00:00.000000000",
          "2021-11-01T00:00:00.000000000",
          "2021-12-01T00:00:00.000000000",
          "2022-01-01T00:00:00.000000000",
          "2022-02-01T00:00:00.000000000",
          "2022-03-01T00:00:00.000000000",
          "2022-04-01T00:00:00.000000000",
          "2022-05-01T00:00:00.000000000",
          "2022-06-01T00:00:00.000000000",
          "2022-07-01T00:00:00.000000000",
          "2022-08-01T00:00:00.000000000",
          "2022-09-01T00:00:00.000000000",
          "2022-10-01T00:00:00.000000000",
          "2022-11-01T00:00:00.000000000",
          "2022-12-01T00:00:00.000000000",
          "2023-01-01T00:00:00.000000000",
          "2023-02-01T00:00:00.000000000",
          "2023-03-01T00:00:00.000000000",
          "2023-04-01T00:00:00.000000000",
          "2023-05-01T00:00:00.000000000",
          "2023-06-01T00:00:00.000000000",
          "2023-07-01T00:00:00.000000000",
          "2023-08-01T00:00:00.000000000",
          "2023-09-01T00:00:00.000000000",
          "2023-10-01T00:00:00.000000000",
          "2023-11-01T00:00:00.000000000",
          "2023-12-01T00:00:00.000000000",
          "2024-01-01T00:00:00.000000000",
          "2024-02-01T00:00:00.000000000",
          "2024-03-01T00:00:00.000000000"
         ],
         "xaxis": "x",
         "y": {
          "bdata": "AAAAAAAA+H8YqdddyQJpvw6EDKTF2mA/SJDaPCf3VT+YDJBxyzdYP39Qm8n1MnE/QhNkwUVYar/4H2IdcR1NP3q7GWrujnc/wI7iZ421Ur8o0nH4PcdmP3RG09z9TXg/rFhBvQV3gD90SeIfNhaIv+C6z25qoVs/EJstw21hVz8ARpLl6x9uP/BjP/Yx0lQ/gC9TW2/TJ78cpY8/k492v6BRSylp5YU/gGMc72h6h7+gHP77ZMhpP0hDP+BZwHY/YNUi41WiYL/ksJAvajpwPzBVkiaIBIq/lLGQg43Gcz+wDl/9ixtbvzg2/KguPXm/KI/c4SaPbT8AsMXPwfA5v7h8FB5DbWo/YL9uQoY5Qj/EZBJteyN3PxDEM5/hHl8/",
          "dtype": "f8"
         },
         "yaxis": "y"
        }
       ],
       "layout": {
        "height": 550,
        "legend": {
         "title": {
          "text": "State"
         },
         "tracegroupgap": 0
        },
        "template": {
         "data": {
          "bar": [
           {
            "error_x": {
             "color": "#2a3f5f"
            },
            "error_y": {
             "color": "#2a3f5f"
            },
            "marker": {
             "line": {
              "color": "white",
              "width": 0.5
             },
             "pattern": {
              "fillmode": "overlay",
              "size": 10,
              "solidity": 0.2
             }
            },
            "type": "bar"
           }
          ],
          "barpolar": [
           {
            "marker": {
             "line": {
              "color": "white",
              "width": 0.5
             },
             "pattern": {
              "fillmode": "overlay",
              "size": 10,
              "solidity": 0.2
             }
            },
            "type": "barpolar"
           }
          ],
          "carpet": [
           {
            "aaxis": {
             "endlinecolor": "#2a3f5f",
             "gridcolor": "#C8D4E3",
             "linecolor": "#C8D4E3",
             "minorgridcolor": "#C8D4E3",
             "startlinecolor": "#2a3f5f"
            },
            "baxis": {
             "endlinecolor": "#2a3f5f",
             "gridcolor": "#C8D4E3",
             "linecolor": "#C8D4E3",
             "minorgridcolor": "#C8D4E3",
             "startlinecolor": "#2a3f5f"
            },
            "type": "carpet"
           }
          ],
          "choropleth": [
           {
            "colorbar": {
             "outlinewidth": 0,
             "ticks": ""
            },
            "type": "choropleth"
           }
          ],
          "contour": [
           {
            "colorbar": {
             "outlinewidth": 0,
             "ticks": ""
            },
            "colorscale": [
             [
              0,
              "#0d0887"
             ],
             [
              0.1111111111111111,
              "#46039f"
             ],
             [
              0.2222222222222222,
              "#7201a8"
             ],
             [
              0.3333333333333333,
              "#9c179e"
             ],
             [
              0.4444444444444444,
              "#bd3786"
             ],
             [
              0.5555555555555556,
              "#d8576b"
             ],
             [
              0.6666666666666666,
              "#ed7953"
             ],
             [
              0.7777777777777778,
              "#fb9f3a"
             ],
             [
              0.8888888888888888,
              "#fdca26"
             ],
             [
              1,
              "#f0f921"
             ]
            ],
            "type": "contour"
           }
          ],
          "contourcarpet": [
           {
            "colorbar": {
             "outlinewidth": 0,
             "ticks": ""
            },
            "type": "contourcarpet"
           }
          ],
          "heatmap": [
           {
            "colorbar": {
             "outlinewidth": 0,
             "ticks": ""
            },
            "colorscale": [
             [
              0,
              "#0d0887"
             ],
             [
              0.1111111111111111,
              "#46039f"
             ],
             [
              0.2222222222222222,
              "#7201a8"
             ],
             [
              0.3333333333333333,
              "#9c179e"
             ],
             [
              0.4444444444444444,
              "#bd3786"
             ],
             [
              0.5555555555555556,
              "#d8576b"
             ],
             [
              0.6666666666666666,
              "#ed7953"
             ],
             [
              0.7777777777777778,
              "#fb9f3a"
             ],
             [
              0.8888888888888888,
              "#fdca26"
             ],
             [
              1,
              "#f0f921"
             ]
            ],
            "type": "heatmap"
           }
          ],
          "histogram": [
           {
            "marker": {
             "pattern": {
              "fillmode": "overlay",
              "size": 10,
              "solidity": 0.2
             }
            },
            "type": "histogram"
           }
          ],
          "histogram2d": [
           {
            "colorbar": {
             "outlinewidth": 0,
             "ticks": ""
            },
            "colorscale": [
             [
              0,
              "#0d0887"
             ],
             [
              0.1111111111111111,
              "#46039f"
             ],
             [
              0.2222222222222222,
              "#7201a8"
             ],
             [
              0.3333333333333333,
              "#9c179e"
             ],
             [
              0.4444444444444444,
              "#bd3786"
             ],
             [
              0.5555555555555556,
              "#d8576b"
             ],
             [
              0.6666666666666666,
              "#ed7953"
             ],
             [
              0.7777777777777778,
              "#fb9f3a"
             ],
             [
              0.8888888888888888,
              "#fdca26"
             ],
             [
              1,
              "#f0f921"
             ]
            ],
            "type": "histogram2d"
           }
          ],
          "histogram2dcontour": [
           {
            "colorbar": {
             "outlinewidth": 0,
             "ticks": ""
            },
            "colorscale": [
             [
              0,
              "#0d0887"
             ],
             [
              0.1111111111111111,
              "#46039f"
             ],
             [
              0.2222222222222222,
              "#7201a8"
             ],
             [
              0.3333333333333333,
              "#9c179e"
             ],
             [
              0.4444444444444444,
              "#bd3786"
             ],
             [
              0.5555555555555556,
              "#d8576b"
             ],
             [
              0.6666666666666666,
              "#ed7953"
             ],
             [
              0.7777777777777778,
              "#fb9f3a"
             ],
             [
              0.8888888888888888,
              "#fdca26"
             ],
             [
              1,
              "#f0f921"
             ]
            ],
            "type": "histogram2dcontour"
           }
          ],
          "mesh3d": [
           {
            "colorbar": {
             "outlinewidth": 0,
             "ticks": ""
            },
            "type": "mesh3d"
           }
          ],
          "parcoords": [
           {
            "line": {
             "colorbar": {
              "outlinewidth": 0,
              "ticks": ""
             }
            },
            "type": "parcoords"
           }
          ],
          "pie": [
           {
            "automargin": true,
            "type": "pie"
           }
          ],
          "scatter": [
           {
            "fillpattern": {
             "fillmode": "overlay",
             "size": 10,
             "solidity": 0.2
            },
            "type": "scatter"
           }
          ],
          "scatter3d": [
           {
            "line": {
             "colorbar": {
              "outlinewidth": 0,
              "ticks": ""
             }
            },
            "marker": {
             "colorbar": {
              "outlinewidth": 0,
              "ticks": ""
             }
            },
            "type": "scatter3d"
           }
          ],
          "scattercarpet": [
           {
            "marker": {
             "colorbar": {
              "outlinewidth": 0,
              "ticks": ""
             }
            },
            "type": "scattercarpet"
           }
          ],
          "scattergeo": [
           {
            "marker": {
             "colorbar": {
              "outlinewidth": 0,
              "ticks": ""
             }
            },
            "type": "scattergeo"
           }
          ],
          "scattergl": [
           {
            "marker": {
             "colorbar": {
              "outlinewidth": 0,
              "ticks": ""
             }
            },
            "type": "scattergl"
           }
          ],
          "scattermap": [
           {
            "marker": {
             "colorbar": {
              "outlinewidth": 0,
              "ticks": ""
             }
            },
            "type": "scattermap"
           }
          ],
          "scattermapbox": [
           {
            "marker": {
             "colorbar": {
              "outlinewidth": 0,
              "ticks": ""
             }
            },
            "type": "scattermapbox"
           }
          ],
          "scatterpolar": [
           {
            "marker": {
             "colorbar": {
              "outlinewidth": 0,
              "ticks": ""
             }
            },
            "type": "scatterpolar"
           }
          ],
          "scatterpolargl": [
           {
            "marker": {
             "colorbar": {
              "outlinewidth": 0,
              "ticks": ""
             }
            },
            "type": "scatterpolargl"
           }
          ],
          "scatterternary": [
           {
            "marker": {
             "colorbar": {
              "outlinewidth": 0,
              "ticks": ""
             }
            },
            "type": "scatterternary"
           }
          ],
          "surface": [
           {
            "colorbar": {
             "outlinewidth": 0,
             "ticks": ""
            },
            "colorscale": [
             [
              0,
              "#0d0887"
             ],
             [
              0.1111111111111111,
              "#46039f"
             ],
             [
              0.2222222222222222,
              "#7201a8"
             ],
             [
              0.3333333333333333,
              "#9c179e"
             ],
             [
              0.4444444444444444,
              "#bd3786"
             ],
             [
              0.5555555555555556,
              "#d8576b"
             ],
             [
              0.6666666666666666,
              "#ed7953"
             ],
             [
              0.7777777777777778,
              "#fb9f3a"
             ],
             [
              0.8888888888888888,
              "#fdca26"
             ],
             [
              1,
              "#f0f921"
             ]
            ],
            "type": "surface"
           }
          ],
          "table": [
           {
            "cells": {
             "fill": {
              "color": "#EBF0F8"
             },
             "line": {
              "color": "white"
             }
            },
            "header": {
             "fill": {
              "color": "#C8D4E3"
             },
             "line": {
              "color": "white"
             }
            },
            "type": "table"
           }
          ]
         },
         "layout": {
          "annotationdefaults": {
           "arrowcolor": "#2a3f5f",
           "arrowhead": 0,
           "arrowwidth": 1
          },
          "autotypenumbers": "strict",
          "coloraxis": {
           "colorbar": {
            "outlinewidth": 0,
            "ticks": ""
           }
          },
          "colorscale": {
           "diverging": [
            [
             0,
             "#8e0152"
            ],
            [
             0.1,
             "#c51b7d"
            ],
            [
             0.2,
             "#de77ae"
            ],
            [
             0.3,
             "#f1b6da"
            ],
            [
             0.4,
             "#fde0ef"
            ],
            [
             0.5,
             "#f7f7f7"
            ],
            [
             0.6,
             "#e6f5d0"
            ],
            [
             0.7,
             "#b8e186"
            ],
            [
             0.8,
             "#7fbc41"
            ],
            [
             0.9,
             "#4d9221"
            ],
            [
             1,
             "#276419"
            ]
           ],
           "sequential": [
            [
             0,
             "#0d0887"
            ],
            [
             0.1111111111111111,
             "#46039f"
            ],
            [
             0.2222222222222222,
             "#7201a8"
            ],
            [
             0.3333333333333333,
             "#9c179e"
            ],
            [
             0.4444444444444444,
             "#bd3786"
            ],
            [
             0.5555555555555556,
             "#d8576b"
            ],
            [
             0.6666666666666666,
             "#ed7953"
            ],
            [
             0.7777777777777778,
             "#fb9f3a"
            ],
            [
             0.8888888888888888,
             "#fdca26"
            ],
            [
             1,
             "#f0f921"
            ]
           ],
           "sequentialminus": [
            [
             0,
             "#0d0887"
            ],
            [
             0.1111111111111111,
             "#46039f"
            ],
            [
             0.2222222222222222,
             "#7201a8"
            ],
            [
             0.3333333333333333,
             "#9c179e"
            ],
            [
             0.4444444444444444,
             "#bd3786"
            ],
            [
             0.5555555555555556,
             "#d8576b"
            ],
            [
             0.6666666666666666,
             "#ed7953"
            ],
            [
             0.7777777777777778,
             "#fb9f3a"
            ],
            [
             0.8888888888888888,
             "#fdca26"
            ],
            [
             1,
             "#f0f921"
            ]
           ]
          },
          "colorway": [
           "#636efa",
           "#EF553B",
           "#00cc96",
           "#ab63fa",
           "#FFA15A",
           "#19d3f3",
           "#FF6692",
           "#B6E880",
           "#FF97FF",
           "#FECB52"
          ],
          "font": {
           "color": "#2a3f5f"
          },
          "geo": {
           "bgcolor": "white",
           "lakecolor": "white",
           "landcolor": "white",
           "showlakes": true,
           "showland": true,
           "subunitcolor": "#C8D4E3"
          },
          "hoverlabel": {
           "align": "left"
          },
          "hovermode": "closest",
          "mapbox": {
           "style": "light"
          },
          "paper_bgcolor": "white",
          "plot_bgcolor": "white",
          "polar": {
           "angularaxis": {
            "gridcolor": "#EBF0F8",
            "linecolor": "#EBF0F8",
            "ticks": ""
           },
           "bgcolor": "white",
           "radialaxis": {
            "gridcolor": "#EBF0F8",
            "linecolor": "#EBF0F8",
            "ticks": ""
           }
          },
          "scene": {
           "xaxis": {
            "backgroundcolor": "white",
            "gridcolor": "#DFE8F3",
            "gridwidth": 2,
            "linecolor": "#EBF0F8",
            "showbackground": true,
            "ticks": "",
            "zerolinecolor": "#EBF0F8"
           },
           "yaxis": {
            "backgroundcolor": "white",
            "gridcolor": "#DFE8F3",
            "gridwidth": 2,
            "linecolor": "#EBF0F8",
            "showbackground": true,
            "ticks": "",
            "zerolinecolor": "#EBF0F8"
           },
           "zaxis": {
            "backgroundcolor": "white",
            "gridcolor": "#DFE8F3",
            "gridwidth": 2,
            "linecolor": "#EBF0F8",
            "showbackground": true,
            "ticks": "",
            "zerolinecolor": "#EBF0F8"
           }
          },
          "shapedefaults": {
           "line": {
            "color": "#2a3f5f"
           }
          },
          "ternary": {
           "aaxis": {
            "gridcolor": "#DFE8F3",
            "linecolor": "#A2B1C6",
            "ticks": ""
           },
           "baxis": {
            "gridcolor": "#DFE8F3",
            "linecolor": "#A2B1C6",
            "ticks": ""
           },
           "bgcolor": "white",
           "caxis": {
            "gridcolor": "#DFE8F3",
            "linecolor": "#A2B1C6",
            "ticks": ""
           }
          },
          "title": {
           "x": 0.05
          },
          "xaxis": {
           "automargin": true,
           "gridcolor": "#EBF0F8",
           "linecolor": "#EBF0F8",
           "ticks": "",
           "title": {
            "standoff": 15
           },
           "zerolinecolor": "#EBF0F8",
           "zerolinewidth": 2
          },
          "yaxis": {
           "automargin": true,
           "gridcolor": "#EBF0F8",
           "linecolor": "#EBF0F8",
           "ticks": "",
           "title": {
            "standoff": 15
           },
           "zerolinecolor": "#EBF0F8",
           "zerolinewidth": 2
          }
         }
        },
        "title": {
         "text": "📉 Month-over-Month Change in EV Penetration (Jan 2021 – Dec 2024)"
        },
        "xaxis": {
         "anchor": "y",
         "domain": [
          0,
          1
         ],
         "range": [
          "2021-01-01",
          "2024-12-31"
         ],
         "tickangle": -45,
         "tickformat": "%b\n%Y",
         "title": {
          "text": "Month"
         }
        },
        "yaxis": {
         "anchor": "x",
         "domain": [
          0,
          1
         ],
         "title": {
          "text": "MoM Change in EV Penetration"
         },
         "zeroline": true,
         "zerolinecolor": "black",
         "zerolinewidth": 1
        }
       }
      }
     },
     "metadata": {},
     "output_type": "display_data"
    }
   ],
   "source": [
    "import pandas as pd\n",
    "import plotly.express as px\n",
    "\n",
    "# Filter the data between Jan 2021 and Dec 2024 for focus states\n",
    "df_filtered = df[\n",
    "    (df[\"state\"].isin(focus_states)) &\n",
    "    (df[\"date\"] >= \"2021-01-01\") &\n",
    "    (df[\"date\"] <= \"2024-12-31\")\n",
    "].copy()\n",
    "\n",
    "# Create year-month column\n",
    "df_filtered[\"year_month\"] = df_filtered[\"date\"].dt.to_period(\"M\").dt.to_timestamp()\n",
    "\n",
    "# Monthly average EV penetration\n",
    "monthly_avg = (\n",
    "    df_filtered\n",
    "    .groupby([\"state\", \"year_month\"])[\"ev_penetration_rate\"]\n",
    "    .mean()\n",
    "    .reset_index()\n",
    ")\n",
    "\n",
    "# Calculate MoM change\n",
    "monthly_avg[\"penetration_change\"] = (\n",
    "    monthly_avg.groupby(\"state\")[\"ev_penetration_rate\"].diff()\n",
    ")\n",
    "\n",
    "# Plot using Plotly\n",
    "fig = px.line(\n",
    "    monthly_avg,\n",
    "    x=\"year_month\",\n",
    "    y=\"penetration_change\",\n",
    "    color=\"state\",\n",
    "    markers=True,\n",
    "    title=\"📉 Month-over-Month Change in EV Penetration (Jan 2021 – Dec 2024)\",\n",
    "    labels={\"year_month\": \"Month\", \"penetration_change\": \"Change in EV Penetration\"},\n",
    "    template=\"plotly_white\"\n",
    ")\n",
    "\n",
    "fig.update_layout(\n",
    "    height=550,\n",
    "    xaxis_title=\"Month\",\n",
    "    yaxis_title=\"MoM Change in EV Penetration\",\n",
    "    legend_title=\"State\",\n",
    "    xaxis=dict(\n",
    "        tickformat=\"%b\\n%Y\",\n",
    "        tickangle=-45,\n",
    "        range=[\"2021-01-01\", \"2024-12-31\"]\n",
    "    ),\n",
    "    yaxis=dict(\n",
    "        zeroline=True,\n",
    "        zerolinewidth=1,\n",
    "        zerolinecolor='black'\n",
    "    )\n",
    ")\n",
    "\n",
    "fig.show()\n"
   ]
  },
  {
   "cell_type": "code",
   "execution_count": 33,
   "id": "0811188f",
   "metadata": {},
   "outputs": [
    {
     "ename": "TypeError",
     "evalue": "Addition/subtraction of integers and integer-arrays with Timestamp is no longer supported.  Instead of adding/subtracting `n`, use `n * obj.freq`",
     "output_type": "error",
     "traceback": [
      "\u001b[31m---------------------------------------------------------------------------\u001b[39m",
      "\u001b[31mTypeError\u001b[39m                                 Traceback (most recent call last)",
      "\u001b[36mCell\u001b[39m\u001b[36m \u001b[39m\u001b[32mIn[33]\u001b[39m\u001b[32m, line 53\u001b[39m\n\u001b[32m     51\u001b[39m \u001b[38;5;66;03m# Add vertical lines for each year change\u001b[39;00m\n\u001b[32m     52\u001b[39m \u001b[38;5;28;01mfor\u001b[39;00m year \u001b[38;5;129;01min\u001b[39;00m [\u001b[32m2022\u001b[39m, \u001b[32m2023\u001b[39m, \u001b[32m2024\u001b[39m]:\n\u001b[32m---> \u001b[39m\u001b[32m53\u001b[39m     \u001b[43mfig\u001b[49m\u001b[43m.\u001b[49m\u001b[43madd_vline\u001b[49m\u001b[43m(\u001b[49m\n\u001b[32m     54\u001b[39m \u001b[43m        \u001b[49m\u001b[43mx\u001b[49m\u001b[43m=\u001b[49m\u001b[43mpd\u001b[49m\u001b[43m.\u001b[49m\u001b[43mTimestamp\u001b[49m\u001b[43m(\u001b[49m\u001b[33;43mf\u001b[39;49m\u001b[33;43m\"\u001b[39;49m\u001b[38;5;132;43;01m{\u001b[39;49;00m\u001b[43myear\u001b[49m\u001b[38;5;132;43;01m}\u001b[39;49;00m\u001b[33;43m-01-01\u001b[39;49m\u001b[33;43m\"\u001b[39;49m\u001b[43m)\u001b[49m\u001b[43m,\u001b[49m\n\u001b[32m     55\u001b[39m \u001b[43m        \u001b[49m\u001b[43mline\u001b[49m\u001b[43m=\u001b[49m\u001b[38;5;28;43mdict\u001b[39;49m\u001b[43m(\u001b[49m\u001b[43mcolor\u001b[49m\u001b[43m=\u001b[49m\u001b[33;43m\"\u001b[39;49m\u001b[33;43mred\u001b[39;49m\u001b[33;43m\"\u001b[39;49m\u001b[43m,\u001b[49m\u001b[43m \u001b[49m\u001b[43mdash\u001b[49m\u001b[43m=\u001b[49m\u001b[33;43m\"\u001b[39;49m\u001b[33;43mdot\u001b[39;49m\u001b[33;43m\"\u001b[39;49m\u001b[43m)\u001b[49m\u001b[43m,\u001b[49m\n\u001b[32m     56\u001b[39m \u001b[43m        \u001b[49m\u001b[43mannotation_text\u001b[49m\u001b[43m=\u001b[49m\u001b[38;5;28;43mstr\u001b[39;49m\u001b[43m(\u001b[49m\u001b[43myear\u001b[49m\u001b[43m)\u001b[49m\u001b[43m,\u001b[49m\n\u001b[32m     57\u001b[39m \u001b[43m        \u001b[49m\u001b[43mannotation_position\u001b[49m\u001b[43m=\u001b[49m\u001b[33;43m\"\u001b[39;49m\u001b[33;43mtop\u001b[39;49m\u001b[33;43m\"\u001b[39;49m\u001b[43m,\u001b[49m\n\u001b[32m     58\u001b[39m \u001b[43m        \u001b[49m\u001b[43mannotation_font\u001b[49m\u001b[43m=\u001b[49m\u001b[38;5;28;43mdict\u001b[39;49m\u001b[43m(\u001b[49m\u001b[43mcolor\u001b[49m\u001b[43m=\u001b[49m\u001b[33;43m\"\u001b[39;49m\u001b[33;43mred\u001b[39;49m\u001b[33;43m\"\u001b[39;49m\u001b[43m)\u001b[49m\n\u001b[32m     59\u001b[39m \u001b[43m    \u001b[49m\u001b[43m)\u001b[49m\n\u001b[32m     61\u001b[39m \u001b[38;5;66;03m# Add layout details\u001b[39;00m\n\u001b[32m     62\u001b[39m fig.update_layout(\n\u001b[32m     63\u001b[39m     title=\u001b[33m\"\u001b[39m\u001b[33m📊 Month-over-Month Change in EV Penetration (Jan 2021 – Dec 2024) with Trend Lines\u001b[39m\u001b[33m\"\u001b[39m,\n\u001b[32m     64\u001b[39m     xaxis_title=\u001b[33m\"\u001b[39m\u001b[33mMonth\u001b[39m\u001b[33m\"\u001b[39m,\n\u001b[32m   (...)\u001b[39m\u001b[32m     70\u001b[39m     legend_title=\u001b[33m\"\u001b[39m\u001b[33mState / Rolling Avg\u001b[39m\u001b[33m\"\u001b[39m\n\u001b[32m     71\u001b[39m )\n",
      "\u001b[36mFile \u001b[39m\u001b[32m/mnt/data/projects/data-analyst/python-based/ev-analysis/ev-analysis/.venv/lib/python3.13/site-packages/plotly/graph_objs/_figure.py:473\u001b[39m, in \u001b[36mFigure.add_vline\u001b[39m\u001b[34m(self, x, row, col, exclude_empty_subplots, annotation, **kwargs)\u001b[39m\n\u001b[32m    425\u001b[39m \u001b[38;5;28;01mdef\u001b[39;00m\u001b[38;5;250m \u001b[39m\u001b[34madd_vline\u001b[39m(\n\u001b[32m    426\u001b[39m     \u001b[38;5;28mself\u001b[39m,\n\u001b[32m    427\u001b[39m     x,\n\u001b[32m   (...)\u001b[39m\u001b[32m    432\u001b[39m     **kwargs,\n\u001b[32m    433\u001b[39m ) -> \u001b[33m\"\u001b[39m\u001b[33mFigure\u001b[39m\u001b[33m\"\u001b[39m:\n\u001b[32m    434\u001b[39m \u001b[38;5;250m    \u001b[39m\u001b[33;03m\"\"\"\u001b[39;00m\n\u001b[32m    435\u001b[39m \n\u001b[32m    436\u001b[39m \u001b[33;03m    Add a vertical line to a plot or subplot that extends infinitely in the\u001b[39;00m\n\u001b[32m   (...)\u001b[39m\u001b[32m    471\u001b[39m \u001b[33;03m        except for x0, x1, y0, y1 or type.\u001b[39;00m\n\u001b[32m    472\u001b[39m \u001b[33;03m    \"\"\"\u001b[39;00m\n\u001b[32m--> \u001b[39m\u001b[32m473\u001b[39m     \u001b[38;5;28;01mreturn\u001b[39;00m \u001b[38;5;28;43msuper\u001b[39;49m\u001b[43m(\u001b[49m\u001b[43m)\u001b[49m\u001b[43m.\u001b[49m\u001b[43madd_vline\u001b[49m\u001b[43m(\u001b[49m\n\u001b[32m    474\u001b[39m \u001b[43m        \u001b[49m\u001b[43mx\u001b[49m\u001b[43m,\u001b[49m\u001b[43m \u001b[49m\u001b[43mrow\u001b[49m\u001b[43m,\u001b[49m\u001b[43m \u001b[49m\u001b[43mcol\u001b[49m\u001b[43m,\u001b[49m\u001b[43m \u001b[49m\u001b[43mexclude_empty_subplots\u001b[49m\u001b[43m,\u001b[49m\u001b[43m \u001b[49m\u001b[43mannotation\u001b[49m\u001b[43m,\u001b[49m\u001b[43m \u001b[49m\u001b[43m*\u001b[49m\u001b[43m*\u001b[49m\u001b[43mkwargs\u001b[49m\n\u001b[32m    475\u001b[39m \u001b[43m    \u001b[49m\u001b[43m)\u001b[49m\n",
      "\u001b[36mFile \u001b[39m\u001b[32m/mnt/data/projects/data-analyst/python-based/ev-analysis/ev-analysis/.venv/lib/python3.13/site-packages/plotly/basedatatypes.py:4152\u001b[39m, in \u001b[36mBaseFigure.add_vline\u001b[39m\u001b[34m(self, x, row, col, exclude_empty_subplots, annotation, **kwargs)\u001b[39m\n\u001b[32m   4143\u001b[39m \u001b[38;5;28;01mdef\u001b[39;00m\u001b[38;5;250m \u001b[39m\u001b[34madd_vline\u001b[39m(\n\u001b[32m   4144\u001b[39m     \u001b[38;5;28mself\u001b[39m,\n\u001b[32m   4145\u001b[39m     x,\n\u001b[32m   (...)\u001b[39m\u001b[32m   4150\u001b[39m     **kwargs,\n\u001b[32m   4151\u001b[39m ):\n\u001b[32m-> \u001b[39m\u001b[32m4152\u001b[39m     \u001b[38;5;28;43mself\u001b[39;49m\u001b[43m.\u001b[49m\u001b[43m_process_multiple_axis_spanning_shapes\u001b[49m\u001b[43m(\u001b[49m\n\u001b[32m   4153\u001b[39m \u001b[43m        \u001b[49m\u001b[38;5;28;43mdict\u001b[39;49m\u001b[43m(\u001b[49m\u001b[38;5;28;43mtype\u001b[39;49m\u001b[43m=\u001b[49m\u001b[33;43m\"\u001b[39;49m\u001b[33;43mline\u001b[39;49m\u001b[33;43m\"\u001b[39;49m\u001b[43m,\u001b[49m\u001b[43m \u001b[49m\u001b[43mx0\u001b[49m\u001b[43m=\u001b[49m\u001b[43mx\u001b[49m\u001b[43m,\u001b[49m\u001b[43m \u001b[49m\u001b[43mx1\u001b[49m\u001b[43m=\u001b[49m\u001b[43mx\u001b[49m\u001b[43m,\u001b[49m\u001b[43m \u001b[49m\u001b[43my0\u001b[49m\u001b[43m=\u001b[49m\u001b[32;43m0\u001b[39;49m\u001b[43m,\u001b[49m\u001b[43m \u001b[49m\u001b[43my1\u001b[49m\u001b[43m=\u001b[49m\u001b[32;43m1\u001b[39;49m\u001b[43m)\u001b[49m\u001b[43m,\u001b[49m\n\u001b[32m   4154\u001b[39m \u001b[43m        \u001b[49m\u001b[43mrow\u001b[49m\u001b[43m,\u001b[49m\n\u001b[32m   4155\u001b[39m \u001b[43m        \u001b[49m\u001b[43mcol\u001b[49m\u001b[43m,\u001b[49m\n\u001b[32m   4156\u001b[39m \u001b[43m        \u001b[49m\u001b[33;43m\"\u001b[39;49m\u001b[33;43mvline\u001b[39;49m\u001b[33;43m\"\u001b[39;49m\u001b[43m,\u001b[49m\n\u001b[32m   4157\u001b[39m \u001b[43m        \u001b[49m\u001b[43mexclude_empty_subplots\u001b[49m\u001b[43m=\u001b[49m\u001b[43mexclude_empty_subplots\u001b[49m\u001b[43m,\u001b[49m\n\u001b[32m   4158\u001b[39m \u001b[43m        \u001b[49m\u001b[43mannotation\u001b[49m\u001b[43m=\u001b[49m\u001b[43mannotation\u001b[49m\u001b[43m,\u001b[49m\n\u001b[32m   4159\u001b[39m \u001b[43m        \u001b[49m\u001b[43m*\u001b[49m\u001b[43m*\u001b[49m\u001b[43mkwargs\u001b[49m\u001b[43m,\u001b[49m\n\u001b[32m   4160\u001b[39m \u001b[43m    \u001b[49m\u001b[43m)\u001b[49m\n\u001b[32m   4161\u001b[39m     \u001b[38;5;28;01mreturn\u001b[39;00m \u001b[38;5;28mself\u001b[39m\n",
      "\u001b[36mFile \u001b[39m\u001b[32m/mnt/data/projects/data-analyst/python-based/ev-analysis/ev-analysis/.venv/lib/python3.13/site-packages/plotly/basedatatypes.py:4093\u001b[39m, in \u001b[36mBaseFigure._process_multiple_axis_spanning_shapes\u001b[39m\u001b[34m(self, shape_args, row, col, shape_type, exclude_empty_subplots, annotation, **kwargs)\u001b[39m\n\u001b[32m   4084\u001b[39m \u001b[38;5;66;03m# shapes are always added at the end of the tuple of shapes, so we see\u001b[39;00m\n\u001b[32m   4085\u001b[39m \u001b[38;5;66;03m# how long the tuple is before the call and after the call, and adjust\u001b[39;00m\n\u001b[32m   4086\u001b[39m \u001b[38;5;66;03m# the new shapes that were added at the end\u001b[39;00m\n\u001b[32m   4087\u001b[39m \u001b[38;5;66;03m# extract annotation prefixed kwargs\u001b[39;00m\n\u001b[32m   4088\u001b[39m \u001b[38;5;66;03m# annotation with extra parameters based on the annotation_position\u001b[39;00m\n\u001b[32m   4089\u001b[39m \u001b[38;5;66;03m# argument and other annotation_ prefixed kwargs\u001b[39;00m\n\u001b[32m   4090\u001b[39m shape_kwargs, annotation_kwargs = shapeannotation.split_dict_by_key_prefix(\n\u001b[32m   4091\u001b[39m     kwargs, \u001b[33m\"\u001b[39m\u001b[33mannotation_\u001b[39m\u001b[33m\"\u001b[39m\n\u001b[32m   4092\u001b[39m )\n\u001b[32m-> \u001b[39m\u001b[32m4093\u001b[39m augmented_annotation = \u001b[43mshapeannotation\u001b[49m\u001b[43m.\u001b[49m\u001b[43maxis_spanning_shape_annotation\u001b[49m\u001b[43m(\u001b[49m\n\u001b[32m   4094\u001b[39m \u001b[43m    \u001b[49m\u001b[43mannotation\u001b[49m\u001b[43m,\u001b[49m\u001b[43m \u001b[49m\u001b[43mshape_type\u001b[49m\u001b[43m,\u001b[49m\u001b[43m \u001b[49m\u001b[43mshape_args\u001b[49m\u001b[43m,\u001b[49m\u001b[43m \u001b[49m\u001b[43mannotation_kwargs\u001b[49m\n\u001b[32m   4095\u001b[39m \u001b[43m\u001b[49m\u001b[43m)\u001b[49m\n\u001b[32m   4096\u001b[39m \u001b[38;5;28mself\u001b[39m.add_shape(\n\u001b[32m   4097\u001b[39m     row=row,\n\u001b[32m   4098\u001b[39m     col=col,\n\u001b[32m   4099\u001b[39m     exclude_empty_subplots=exclude_empty_subplots,\n\u001b[32m   4100\u001b[39m     **_combine_dicts([shape_args, shape_kwargs]),\n\u001b[32m   4101\u001b[39m )\n\u001b[32m   4102\u001b[39m \u001b[38;5;28;01mif\u001b[39;00m augmented_annotation \u001b[38;5;129;01mis\u001b[39;00m \u001b[38;5;129;01mnot\u001b[39;00m \u001b[38;5;28;01mNone\u001b[39;00m:\n",
      "\u001b[36mFile \u001b[39m\u001b[32m/mnt/data/projects/data-analyst/python-based/ev-analysis/ev-analysis/.venv/lib/python3.13/site-packages/plotly/shapeannotation.py:216\u001b[39m, in \u001b[36maxis_spanning_shape_annotation\u001b[39m\u001b[34m(annotation, shape_type, shape_args, kwargs)\u001b[39m\n\u001b[32m    214\u001b[39m     annotation_position = kwargs[\u001b[33m\"\u001b[39m\u001b[33mannotation_position\u001b[39m\u001b[33m\"\u001b[39m]\n\u001b[32m    215\u001b[39m \u001b[38;5;28;01mif\u001b[39;00m shape_type.endswith(\u001b[33m\"\u001b[39m\u001b[33mline\u001b[39m\u001b[33m\"\u001b[39m):\n\u001b[32m--> \u001b[39m\u001b[32m216\u001b[39m     shape_dict = \u001b[43mannotation_params_for_line\u001b[49m\u001b[43m(\u001b[49m\n\u001b[32m    217\u001b[39m \u001b[43m        \u001b[49m\u001b[43mshape_type\u001b[49m\u001b[43m,\u001b[49m\u001b[43m \u001b[49m\u001b[43mshape_args\u001b[49m\u001b[43m,\u001b[49m\u001b[43m \u001b[49m\u001b[43mannotation_position\u001b[49m\n\u001b[32m    218\u001b[39m \u001b[43m    \u001b[49m\u001b[43m)\u001b[49m\n\u001b[32m    219\u001b[39m \u001b[38;5;28;01melif\u001b[39;00m shape_type.endswith(\u001b[33m\"\u001b[39m\u001b[33mrect\u001b[39m\u001b[33m\"\u001b[39m):\n\u001b[32m    220\u001b[39m     shape_dict = annotation_params_for_rect(\n\u001b[32m    221\u001b[39m         shape_type, shape_args, annotation_position\n\u001b[32m    222\u001b[39m     )\n",
      "\u001b[36mFile \u001b[39m\u001b[32m/mnt/data/projects/data-analyst/python-based/ev-analysis/ev-analysis/.venv/lib/python3.13/site-packages/plotly/shapeannotation.py:63\u001b[39m, in \u001b[36mannotation_params_for_line\u001b[39m\u001b[34m(shape_type, shape_args, position)\u001b[39m\n\u001b[32m     61\u001b[39m aX = \u001b[38;5;28mmax\u001b[39m(X)\n\u001b[32m     62\u001b[39m iX = \u001b[38;5;28mmin\u001b[39m(X)\n\u001b[32m---> \u001b[39m\u001b[32m63\u001b[39m eX = \u001b[43m_mean\u001b[49m\u001b[43m(\u001b[49m\u001b[43mX\u001b[49m\u001b[43m)\u001b[49m\n\u001b[32m     64\u001b[39m aaX = _argmax(X)\n\u001b[32m     65\u001b[39m aiX = _argmin(X)\n",
      "\u001b[36mFile \u001b[39m\u001b[32m/mnt/data/projects/data-analyst/python-based/ev-analysis/ev-analysis/.venv/lib/python3.13/site-packages/plotly/shapeannotation.py:7\u001b[39m, in \u001b[36m_mean\u001b[39m\u001b[34m(x)\u001b[39m\n\u001b[32m      5\u001b[39m \u001b[38;5;28;01mif\u001b[39;00m \u001b[38;5;28mlen\u001b[39m(x) == \u001b[32m0\u001b[39m:\n\u001b[32m      6\u001b[39m     \u001b[38;5;28;01mraise\u001b[39;00m \u001b[38;5;167;01mValueError\u001b[39;00m(\u001b[33m\"\u001b[39m\u001b[33mx must have positive length\u001b[39m\u001b[33m\"\u001b[39m)\n\u001b[32m----> \u001b[39m\u001b[32m7\u001b[39m \u001b[38;5;28;01mreturn\u001b[39;00m \u001b[38;5;28mfloat\u001b[39m(\u001b[38;5;28;43msum\u001b[39;49m\u001b[43m(\u001b[49m\u001b[43mx\u001b[49m\u001b[43m)\u001b[49m) / \u001b[38;5;28mlen\u001b[39m(x)\n",
      "\u001b[36mFile \u001b[39m\u001b[32mpandas/_libs/tslibs/timestamps.pyx:483\u001b[39m, in \u001b[36mpandas._libs.tslibs.timestamps._Timestamp.__radd__\u001b[39m\u001b[34m()\u001b[39m\n",
      "\u001b[36mFile \u001b[39m\u001b[32mpandas/_libs/tslibs/timestamps.pyx:465\u001b[39m, in \u001b[36mpandas._libs.tslibs.timestamps._Timestamp.__add__\u001b[39m\u001b[34m()\u001b[39m\n",
      "\u001b[31mTypeError\u001b[39m: Addition/subtraction of integers and integer-arrays with Timestamp is no longer supported.  Instead of adding/subtracting `n`, use `n * obj.freq`"
     ]
    }
   ],
   "source": [
    "import pandas as pd\n",
    "import plotly.graph_objects as go\n",
    "\n",
    "# Prep data\n",
    "df[\"date\"] = pd.to_datetime(df[\"date\"])\n",
    "focus_states = [\"Ladakh\", \"Haryana\", \"Jammu and Kashmir\", \"Uttarakhand\"]\n",
    "df_filtered = df[\n",
    "    (df[\"state\"].isin(focus_states)) &\n",
    "    (df[\"date\"].dt.year >= 2021)\n",
    "].copy()\n",
    "\n",
    "df_filtered[\"year_month\"] = df_filtered[\"date\"].dt.to_period(\"M\").dt.to_timestamp()\n",
    "\n",
    "# Monthly average\n",
    "monthly_avg = (\n",
    "    df_filtered.groupby([\"state\", \"year_month\"])[\"ev_penetration_rate\"]\n",
    "    .mean()\n",
    "    .reset_index()\n",
    ")\n",
    "\n",
    "# Month-over-month change\n",
    "monthly_avg[\"penetration_change\"] = monthly_avg.groupby(\"state\")[\"ev_penetration_rate\"].diff()\n",
    "\n",
    "# Rolling average\n",
    "monthly_avg[\"rolling_avg\"] = monthly_avg.groupby(\"state\")[\"penetration_change\"].transform(lambda x: x.rolling(3).mean())\n",
    "\n",
    "# Start plot\n",
    "fig = go.Figure()\n",
    "\n",
    "# Add line traces for each state\n",
    "for state in monthly_avg[\"state\"].unique():\n",
    "    state_df = monthly_avg[monthly_avg[\"state\"] == state]\n",
    "\n",
    "    # Actual monthly change\n",
    "    fig.add_trace(go.Scatter(\n",
    "        x=state_df[\"year_month\"],\n",
    "        y=state_df[\"penetration_change\"],\n",
    "        mode='lines+markers',\n",
    "        name=f\"{state} (MoM Change)\"\n",
    "    ))\n",
    "\n",
    "    # Rolling average line\n",
    "    fig.add_trace(go.Scatter(\n",
    "        x=state_df[\"year_month\"],\n",
    "        y=state_df[\"rolling_avg\"],\n",
    "        mode='lines',\n",
    "        name=f\"{state} (3M Avg)\",\n",
    "        line=dict(dash='dash')\n",
    "    ))\n",
    "\n",
    "# Add vertical lines for each year change\n",
    "for year in [2022, 2023, 2024]:\n",
    "    fig.add_vline(\n",
    "        x=pd.Timestamp(f\"{year}-01-01\"),\n",
    "        line=dict(color=\"red\", dash=\"dot\"),\n",
    "        annotation_text=str(year),\n",
    "        annotation_position=\"top\",\n",
    "        annotation_font=dict(color=\"red\")\n",
    "    )\n",
    "\n",
    "# Add layout details\n",
    "fig.update_layout(\n",
    "    title=\"📊 Month-over-Month Change in EV Penetration (Jan 2021 – Dec 2024) with Trend Lines\",\n",
    "    xaxis_title=\"Month\",\n",
    "    yaxis_title=\"MoM Change in EV Penetration\",\n",
    "    height=600,\n",
    "    template=\"plotly_white\",\n",
    "    xaxis=dict(tickformat=\"%b\\n%Y\", tickangle=-45),\n",
    "    yaxis=dict(zeroline=True, zerolinewidth=1, zerolinecolor='black'),\n",
    "    legend_title=\"State / Rolling Avg\"\n",
    ")\n",
    "\n",
    "fig.show()\n"
   ]
  },
  {
   "cell_type": "code",
   "execution_count": 29,
   "id": "f8984926",
   "metadata": {},
   "outputs": [
    {
     "data": {
      "image/png": "[encoded data removed]",
      "text/plain": [
       "<Figure size 1400x1400 with 4 Axes>"
      ]
     },
     "metadata": {},
     "output_type": "display_data"
    }
   ],
   "source": [
    "import matplotlib.pyplot as plt\n",
    "import pandas as pd\n",
    "\n",
    "# Filter data\n",
    "df_filtered = df[\n",
    "    (df[\"state\"].isin(focus_states)) &\n",
    "    (df[\"date\"].dt.year >= 2021)\n",
    "].copy()\n",
    "\n",
    "# Create year-month\n",
    "df_filtered[\"year_month\"] = df_filtered[\"date\"].dt.to_period(\"M\").dt.to_timestamp()\n",
    "\n",
    "# Monthly average\n",
    "monthly_avg = (\n",
    "    df_filtered.groupby([\"state\", \"year_month\"])[\"ev_penetration_rate\"]\n",
    "    .mean()\n",
    "    .reset_index()\n",
    ")\n",
    "\n",
    "# MoM Change\n",
    "monthly_avg[\"penetration_change\"] = monthly_avg.groupby(\"state\")[\"ev_penetration_rate\"].diff()\n",
    "\n",
    "# Plot bar chart: One subplot per state\n",
    "states = monthly_avg[\"state\"].unique()\n",
    "n_states = len(states)\n",
    "\n",
    "fig, axes = plt.subplots(n_states, 1, figsize=(14, 3.5 * n_states), sharex=True)\n",
    "\n",
    "for i, state in enumerate(states):\n",
    "    state_df = monthly_avg[monthly_avg[\"state\"] == state]\n",
    "    ax = axes[i] if n_states > 1 else axes\n",
    "    ax.bar(state_df[\"year_month\"], state_df[\"penetration_change\"], color=\"orange\")\n",
    "    ax.axhline(0, color=\"black\", linewidth=1)\n",
    "    ax.set_title(f\"Month-over-Month EV Penetration Change: {state}\")\n",
    "    ax.set_ylabel(\"Change\")\n",
    "    ax.grid(True, linestyle=\"--\", alpha=0.5)\n",
    "\n",
    "axes[-1].set_xlabel(\"Month\")\n",
    "plt.xticks(rotation=45)\n",
    "plt.tight_layout()\n",
    "plt.show()\n"
   ]
  },
  {
   "cell_type": "markdown",
   "id": "be7d85c1",
   "metadata": {},
   "source": [
    "# Comprehensive Analysis of States with Declining EV Penetration (2022-2024)\n",
    "\n",
    "Based on our analysis of EV penetration trends in India from 2022 to 2024, we can draw several key insights about states that experienced periods of decline:\n",
    "\n",
    "## States with Significant Declines (2022-2023)\n",
    "\n",
    "1. **Ladakh**: \n",
    "   - Showed the most dramatic decline (-57%) from 2022 to 2023\n",
    "   - Exhibits highly volatile penetration pattern with sharp spikes in Nov 2021, Feb 2022, and Feb 2024\n",
    "   - Had the lowest baseline penetration among the declining states\n",
    "   - This volatility is likely due to Ladakh's small market size where small absolute changes create large percentage shifts\n",
    "\n",
    "2. **Haryana**:\n",
    "   - Moderate decline (-16.8%) from 2022 to 2023\n",
    "   - Shows more stable month-to-month penetration compared to Ladakh\n",
    "   - Penetration consistently remained around 0.01-0.02 throughout the period\n",
    "\n",
    "3. **Jammu and Kashmir**:\n",
    "   - Minor decline (-8.5%) from 2022 to 2023\n",
    "   - Shows similar stable patterns to Haryana but with slightly more volatility\n",
    "\n",
    "4. **Uttarakhand**:\n",
    "   - Smallest decline (-3.1%) from 2022 to 2023\n",
    "   - Maintained the highest average penetration rate among the declining states\n",
    "   - Shows the most consistent month-to-month penetration pattern\n",
    "\n",
    "## Recovery Patterns\n",
    "\n",
    "The visualization clearly shows that all four states that experienced declines from 2022 to 2023 showed signs of recovery in 2023-2024. This indicates:\n",
    "\n",
    "1. The declines were temporary rather than representing a long-term downward trend\n",
    "2. EV adoption in these states likely faced specific challenges in 2022-2023 that were overcome in subsequent periods\n",
    "\n",
    "## Important Observations\n",
    "\n",
    "1. **Volatility in Smaller Markets**: Ladakh's extreme volatility highlights how smaller markets can show dramatic percentage changes from relatively small absolute shifts in EV sales.\n",
    "\n",
    "2. **Regional Factors**: All four states with declines are in the northern region of India, suggesting potential regional factors that may have temporarily affected EV adoption in this area during 2022-2023.\n",
    "\n",
    "3. **Recovery Trajectory**: While these states experienced a temporary setback, the overall trajectory remains positive across the full 2022-2024 period, consistent with India's broader EV growth story.\n",
    "\n",
    "## Market Implications\n",
    "\n",
    "The temporary declines observed in these northern states during 2022-2023 could be attributed to:\n",
    "- Regional policy changes affecting EV incentives\n",
    "- Supply chain disruptions in northern India\n",
    "- Market saturation after initial adoption waves\n",
    "- Economic factors specific to these regions\n",
    "\n",
    "Despite these temporary setbacks, the overall trend across India remains positive for EV adoption from 2022 to 2024, with all states eventually showing recovery from their temporary declines."
   ]
  },
  {
   "cell_type": "markdown",
   "id": "b0c46c55",
   "metadata": {},
   "source": [
    "# India's Electric 2-Wheeler Market: Leaders and Laggards (FY 2023-2024)\n",
    "\n",
    "## Key Findings\n",
    "\n",
    "### Market Leadership Dynamics\n",
    "- **OLA ELECTRIC** has maintained a commanding lead in the 2-wheeler EV market across both fiscal years, demonstrating its market dominance.\n",
    "- **TVS** has made impressive gains in FY 2024, solidifying its position as a strong #2 competitor.\n",
    "- **ATHER** has consistently remained in the top 3, showing resilience in this competitive market.\n",
    "\n",
    "### Performance Patterns\n",
    "- The **sales volume gap** between the top and bottom manufacturers is enormous, highlighting the stark market concentration.\n",
    "- **Year-over-Year growth** for the top manufacturers shows the market is expanding rapidly, with leaders scaling their operations effectively.\n",
    "- Some manufacturers appear in the top ranks in FY 2024 that weren't there in FY 2023, indicating new strong market entrants.\n",
    "\n",
    "### Struggling Players\n",
    "- The **bottom performers** have notably low sales volumes compared to market leaders.\n",
    "- Several manufacturers consistently remain at the bottom across both fiscal years, suggesting persistent challenges in gaining market traction.\n",
    "- The relative difference between bottom performers is much smaller than between top performers, indicating a crowded space at the lower end of the market.\n",
    "\n",
    "## Business Implications\n",
    "1. **Market Consolidation** appears to be occurring, with top players capturing an increasingly larger share of the market.\n",
    "2. **Entry Barriers** seem significant, as evidenced by the consistent struggle of bottom performers.\n",
    "3. **Growth Opportunity** exists for mid-tier players to scale and potentially challenge the established leaders.\n",
    "\n",
    "This analysis demonstrates a classic \"winner-takes-most\" market dynamic in India's emerging electric 2-wheeler sector."
   ]
  },
  {
   "cell_type": "code",
   "execution_count": null,
   "id": "c5a12b6f",
   "metadata": {},
   "outputs": [],
   "source": [
    "# Filter for 2-wheelers and relevant fiscal years\n",
    "two_wheelers = df[\n",
    "  (df['vehicle_category'] == '2-Wheelers') & \n",
    "  (df['date'] >= '2022-04-01') & \n",
    "  (df['date'] <= '2024-03-01')\n",
    "]\n",
    "\n",
    "# Group by maker and calculate total sales for each fiscal year\n",
    "yearly_sales = two_wheelers.groupby(['maker', pd.PeriodIndex(two_wheelers['date'], freq='Y-MAR')])['electric_vehicles_sold'].sum().reset_index()\n",
    "yearly_sales['fiscal_year'] = yearly_sales['date'].astype(str).str[:4]\n",
    "\n",
    "# Get top 3 and bottom 3 for each fiscal year\n",
    "for year in ['2023', '2024']:\n",
    "  year_data = yearly_sales[yearly_sales['fiscal_year'] == year].sort_values('electric_vehicles_sold', ascending=False)\n",
    "  \n",
    "  print(f\"\\nFiscal Year {year}\")\n",
    "  print(\"-\" * 50)\n",
    "  print(\"\\nTop 3 Makers:\")\n",
    "  print(year_data.head(3)[['maker', 'electric_vehicles_sold']].to_string(index=False))\n",
    "  print(\"\\nBottom 3 Makers:\")\n",
    "  print(year_data.tail(3)[['maker', 'electric_vehicles_sold']].to_string(index=False))"
   ]
  },
  {
   "cell_type": "markdown",
   "id": "b4f5f972",
   "metadata": {},
   "source": [
    "To **compare makers and find out who's growing the fastest**, we’ll use **cumulative sales over time** and calculate their **growth rate**.\n",
    "\n",
    "There are multiple ways to define \"growing the fastest,\" but the two most common are:\n",
    "\n",
    "---\n",
    "\n",
    "## 🔍 Option 1: Total Growth (From First to Last Date)\n",
    "\n",
    "### ➕ Measures:\n",
    "\n",
    "* Growth = Last cumulative sales − First cumulative sales\n",
    "* Higher value = More growth\n",
    "\n",
    "## 🔍 Option 2: Growth Rate (%)\n",
    "\n",
    "Useful when some makers start with very small sales.\n",
    "\n",
    "## 🧠 Interpretation:\n",
    "\n",
    "* `total_growth` → Who **sold the most more** over time\n",
    "* `growth_percent` → Who **grew the fastest** relative to their start\n"
   ]
  },
  {
   "cell_type": "code",
   "execution_count": null,
   "id": "8e8fbe9d",
   "metadata": {},
   "outputs": [],
   "source": [
    "# Ensure date is in datetime format\n",
    "df['date'] = pd.to_datetime(df['date'], errors='coerce')\n",
    "\n",
    "# Sort the data\n",
    "df = df.sort_values(['maker', 'date'])\n",
    "\n",
    "# Calculate cumulative sales\n",
    "df['cumulative_sales'] = df.groupby('maker')['electric_vehicles_sold'].cumsum()\n",
    "\n",
    "# Get the first and last cumulative sales for each maker\n",
    "first_last = df.groupby('maker').agg(\n",
    "    first_date=('date', 'first'),\n",
    "    last_date=('date', 'last'),\n",
    "    first_cum_sales=('cumulative_sales', 'first'),\n",
    "    last_cum_sales=('cumulative_sales', 'last')\n",
    ")\n",
    "\n",
    "# Calculate total growth\n",
    "first_last['total_growth'] = first_last['last_cum_sales'] - first_last['first_cum_sales']\n",
    "\n",
    "# Sort by total growth descending\n",
    "fastest_growing = first_last.sort_values(by='total_growth', ascending=False)\n",
    "print(fastest_growing[['first_date', 'last_date', 'total_growth']])"
   ]
  },
  {
   "cell_type": "code",
   "execution_count": null,
   "id": "e84fd1d1",
   "metadata": {},
   "outputs": [],
   "source": [
    "# Add percent growth\n",
    "first_last['growth_percent'] = (\n",
    "    (first_last['last_cum_sales'] - first_last['first_cum_sales']) /\n",
    "    (first_last['first_cum_sales'].replace(0, 1))  # Avoid division by zero\n",
    ") * 100\n",
    "\n",
    "# Sort by percentage growth\n",
    "fastest_growing_percent = first_last.sort_values(by='growth_percent', ascending=False)\n",
    "print(fastest_growing_percent[['total_growth', 'growth_percent']])\n"
   ]
  }
 ],
 "metadata": {
  "kernelspec": {
   "display_name": "ev-analysis (3.13.3)",
   "language": "python",
   "name": "python3"
  },
  "language_info": {
   "codemirror_mode": {
    "name": "ipython",
    "version": 3
   },
   "file_extension": ".py",
   "mimetype": "text/x-python",
   "name": "python",
   "nbconvert_exporter": "python",
   "pygments_lexer": "ipython3",
   "version": "3.13.3"
  }
 },
 "nbformat": 4,
 "nbformat_minor": 5
}
